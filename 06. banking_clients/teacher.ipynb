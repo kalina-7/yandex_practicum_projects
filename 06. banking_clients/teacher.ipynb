{
 "cells": [
  {
   "cell_type": "markdown",
   "metadata": {
    "toc": true
   },
   "source": [
    "<h1>Содержание<span class=\"tocSkip\"></span></h1>\n",
    "<div class=\"toc\"><ul class=\"toc-item\"><li><span><a href=\"#Подготовка-данных\" data-toc-modified-id=\"Подготовка-данных-1\"><span class=\"toc-item-num\">1&nbsp;&nbsp;</span>Подготовка данных</a></span></li><li><span><a href=\"#Исследование-задачи\" data-toc-modified-id=\"Исследование-задачи-2\"><span class=\"toc-item-num\">2&nbsp;&nbsp;</span>Исследование задачи</a></span><ul class=\"toc-item\"><li><span><a href=\"#Деление-данных-на-выборки\" data-toc-modified-id=\"Деление-данных-на-выборки-2.1\"><span class=\"toc-item-num\">2.1&nbsp;&nbsp;</span>Деление данных на выборки</a></span></li><li><span><a href=\"#Масштабирование-признаков\" data-toc-modified-id=\"Масштабирование-признаков-2.2\"><span class=\"toc-item-num\">2.2&nbsp;&nbsp;</span>Масштабирование признаков</a></span></li><li><span><a href=\"#Исследуем-модели-машинного-обучения\" data-toc-modified-id=\"Исследуем-модели-машинного-обучения-2.3\"><span class=\"toc-item-num\">2.3&nbsp;&nbsp;</span>Исследуем модели машинного обучения</a></span></li><li><span><a href=\"#Исследуем-баланс-классов\" data-toc-modified-id=\"Исследуем-баланс-классов-2.4\"><span class=\"toc-item-num\">2.4&nbsp;&nbsp;</span>Исследуем баланс классов</a></span></li><li><span><a href=\"#Проверка-моделей-на-адекватность\" data-toc-modified-id=\"Проверка-моделей-на-адекватность-2.5\"><span class=\"toc-item-num\">2.5&nbsp;&nbsp;</span>Проверка моделей на адекватность</a></span></li></ul></li><li><span><a href=\"#Борьба-с-дисбалансом\" data-toc-modified-id=\"Борьба-с-дисбалансом-3\"><span class=\"toc-item-num\">3&nbsp;&nbsp;</span>Борьба с дисбалансом</a></span><ul class=\"toc-item\"><li><span><a href=\"#Преобразование-выборки.\" data-toc-modified-id=\"Преобразование-выборки.-3.1\"><span class=\"toc-item-num\">3.1&nbsp;&nbsp;</span>Преобразование выборки.</a></span></li><li><span><a href=\"#Обучение-моделей-на-новых-данных.\" data-toc-modified-id=\"Обучение-моделей-на-новых-данных.-3.2\"><span class=\"toc-item-num\">3.2&nbsp;&nbsp;</span>Обучение моделей на новых данных.</a></span></li></ul></li><li><span><a href=\"#Тестирование-модели\" data-toc-modified-id=\"Тестирование-модели-4\"><span class=\"toc-item-num\">4&nbsp;&nbsp;</span>Тестирование модели</a></span></li><li><span><a href=\"#Чек-лист-готовности-проекта\" data-toc-modified-id=\"Чек-лист-готовности-проекта-5\"><span class=\"toc-item-num\">5&nbsp;&nbsp;</span>Чек-лист готовности проекта</a></span></li></ul></div>"
   ]
  },
  {
   "cell_type": "markdown",
   "metadata": {},
   "source": [
    "# Отток клиентов"
   ]
  },
  {
   "cell_type": "markdown",
   "metadata": {},
   "source": [
    "Из «Бета-Банка» стали уходить клиенты. Каждый месяц. Немного, но заметно. Банковские маркетологи посчитали: сохранять текущих клиентов дешевле, чем привлекать новых.\n",
    "\n",
    "Нужно спрогнозировать, уйдёт клиент из банка в ближайшее время или нет. Вам предоставлены исторические данные о поведении клиентов и расторжении договоров с банком. \n",
    "\n",
    "Постройте модель с предельно большим значением *F1*-меры. Чтобы сдать проект успешно, нужно довести метрику до 0.59. Проверьте *F1*-меру на тестовой выборке самостоятельно.\n",
    "\n",
    "Дополнительно измеряйте *AUC-ROC*, сравнивайте её значение с *F1*-мерой.\n",
    "\n",
    "Источник данных: [https://www.kaggle.com/barelydedicated/bank-customer-churn-modeling](https://www.kaggle.com/barelydedicated/bank-customer-churn-modeling)"
   ]
  },
  {
   "cell_type": "markdown",
   "metadata": {},
   "source": [
    "## Подготовка данных"
   ]
  },
  {
   "cell_type": "code",
   "execution_count": 1,
   "metadata": {},
   "outputs": [],
   "source": [
    "import pandas as pd\n",
    "import matplotlib.pyplot as plt\n",
    "from sklearn.model_selection import train_test_split\n",
    "from sklearn.preprocessing import StandardScaler\n",
    "from sklearn.tree import DecisionTreeClassifier\n",
    "from sklearn.ensemble import RandomForestClassifier\n",
    "from sklearn.linear_model import LogisticRegression\n",
    "from sklearn.metrics import accuracy_score, confusion_matrix, f1_score, precision_score, recall_score, roc_curve, roc_auc_score \n",
    "from sklearn.dummy import DummyClassifier\n",
    "from sklearn.utils import shuffle"
   ]
  },
  {
   "cell_type": "code",
   "execution_count": 2,
   "metadata": {},
   "outputs": [],
   "source": [
    "try:\n",
    "    data = pd.read_csv('https://code.s3.yandex.net/datasets/Churn.csv')\n",
    "except:\n",
    "    data = pd.read_csv('D:/Яндекс Практикум/8. Обучение с учителем/Churn.csv')"
   ]
  },
  {
   "cell_type": "code",
   "execution_count": 3,
   "metadata": {},
   "outputs": [
    {
     "data": {
      "text/html": [
       "<div>\n",
       "<style scoped>\n",
       "    .dataframe tbody tr th:only-of-type {\n",
       "        vertical-align: middle;\n",
       "    }\n",
       "\n",
       "    .dataframe tbody tr th {\n",
       "        vertical-align: top;\n",
       "    }\n",
       "\n",
       "    .dataframe thead th {\n",
       "        text-align: right;\n",
       "    }\n",
       "</style>\n",
       "<table border=\"1\" class=\"dataframe\">\n",
       "  <thead>\n",
       "    <tr style=\"text-align: right;\">\n",
       "      <th></th>\n",
       "      <th>RowNumber</th>\n",
       "      <th>CustomerId</th>\n",
       "      <th>Surname</th>\n",
       "      <th>CreditScore</th>\n",
       "      <th>Geography</th>\n",
       "      <th>Gender</th>\n",
       "      <th>Age</th>\n",
       "      <th>Tenure</th>\n",
       "      <th>Balance</th>\n",
       "      <th>NumOfProducts</th>\n",
       "      <th>HasCrCard</th>\n",
       "      <th>IsActiveMember</th>\n",
       "      <th>EstimatedSalary</th>\n",
       "      <th>Exited</th>\n",
       "    </tr>\n",
       "  </thead>\n",
       "  <tbody>\n",
       "    <tr>\n",
       "      <th>0</th>\n",
       "      <td>1</td>\n",
       "      <td>15634602</td>\n",
       "      <td>Hargrave</td>\n",
       "      <td>619</td>\n",
       "      <td>France</td>\n",
       "      <td>Female</td>\n",
       "      <td>42</td>\n",
       "      <td>2.0</td>\n",
       "      <td>0.00</td>\n",
       "      <td>1</td>\n",
       "      <td>1</td>\n",
       "      <td>1</td>\n",
       "      <td>101348.88</td>\n",
       "      <td>1</td>\n",
       "    </tr>\n",
       "    <tr>\n",
       "      <th>1</th>\n",
       "      <td>2</td>\n",
       "      <td>15647311</td>\n",
       "      <td>Hill</td>\n",
       "      <td>608</td>\n",
       "      <td>Spain</td>\n",
       "      <td>Female</td>\n",
       "      <td>41</td>\n",
       "      <td>1.0</td>\n",
       "      <td>83807.86</td>\n",
       "      <td>1</td>\n",
       "      <td>0</td>\n",
       "      <td>1</td>\n",
       "      <td>112542.58</td>\n",
       "      <td>0</td>\n",
       "    </tr>\n",
       "    <tr>\n",
       "      <th>2</th>\n",
       "      <td>3</td>\n",
       "      <td>15619304</td>\n",
       "      <td>Onio</td>\n",
       "      <td>502</td>\n",
       "      <td>France</td>\n",
       "      <td>Female</td>\n",
       "      <td>42</td>\n",
       "      <td>8.0</td>\n",
       "      <td>159660.80</td>\n",
       "      <td>3</td>\n",
       "      <td>1</td>\n",
       "      <td>0</td>\n",
       "      <td>113931.57</td>\n",
       "      <td>1</td>\n",
       "    </tr>\n",
       "    <tr>\n",
       "      <th>3</th>\n",
       "      <td>4</td>\n",
       "      <td>15701354</td>\n",
       "      <td>Boni</td>\n",
       "      <td>699</td>\n",
       "      <td>France</td>\n",
       "      <td>Female</td>\n",
       "      <td>39</td>\n",
       "      <td>1.0</td>\n",
       "      <td>0.00</td>\n",
       "      <td>2</td>\n",
       "      <td>0</td>\n",
       "      <td>0</td>\n",
       "      <td>93826.63</td>\n",
       "      <td>0</td>\n",
       "    </tr>\n",
       "    <tr>\n",
       "      <th>4</th>\n",
       "      <td>5</td>\n",
       "      <td>15737888</td>\n",
       "      <td>Mitchell</td>\n",
       "      <td>850</td>\n",
       "      <td>Spain</td>\n",
       "      <td>Female</td>\n",
       "      <td>43</td>\n",
       "      <td>2.0</td>\n",
       "      <td>125510.82</td>\n",
       "      <td>1</td>\n",
       "      <td>1</td>\n",
       "      <td>1</td>\n",
       "      <td>79084.10</td>\n",
       "      <td>0</td>\n",
       "    </tr>\n",
       "    <tr>\n",
       "      <th>5</th>\n",
       "      <td>6</td>\n",
       "      <td>15574012</td>\n",
       "      <td>Chu</td>\n",
       "      <td>645</td>\n",
       "      <td>Spain</td>\n",
       "      <td>Male</td>\n",
       "      <td>44</td>\n",
       "      <td>8.0</td>\n",
       "      <td>113755.78</td>\n",
       "      <td>2</td>\n",
       "      <td>1</td>\n",
       "      <td>0</td>\n",
       "      <td>149756.71</td>\n",
       "      <td>1</td>\n",
       "    </tr>\n",
       "    <tr>\n",
       "      <th>6</th>\n",
       "      <td>7</td>\n",
       "      <td>15592531</td>\n",
       "      <td>Bartlett</td>\n",
       "      <td>822</td>\n",
       "      <td>France</td>\n",
       "      <td>Male</td>\n",
       "      <td>50</td>\n",
       "      <td>7.0</td>\n",
       "      <td>0.00</td>\n",
       "      <td>2</td>\n",
       "      <td>1</td>\n",
       "      <td>1</td>\n",
       "      <td>10062.80</td>\n",
       "      <td>0</td>\n",
       "    </tr>\n",
       "    <tr>\n",
       "      <th>7</th>\n",
       "      <td>8</td>\n",
       "      <td>15656148</td>\n",
       "      <td>Obinna</td>\n",
       "      <td>376</td>\n",
       "      <td>Germany</td>\n",
       "      <td>Female</td>\n",
       "      <td>29</td>\n",
       "      <td>4.0</td>\n",
       "      <td>115046.74</td>\n",
       "      <td>4</td>\n",
       "      <td>1</td>\n",
       "      <td>0</td>\n",
       "      <td>119346.88</td>\n",
       "      <td>1</td>\n",
       "    </tr>\n",
       "    <tr>\n",
       "      <th>8</th>\n",
       "      <td>9</td>\n",
       "      <td>15792365</td>\n",
       "      <td>He</td>\n",
       "      <td>501</td>\n",
       "      <td>France</td>\n",
       "      <td>Male</td>\n",
       "      <td>44</td>\n",
       "      <td>4.0</td>\n",
       "      <td>142051.07</td>\n",
       "      <td>2</td>\n",
       "      <td>0</td>\n",
       "      <td>1</td>\n",
       "      <td>74940.50</td>\n",
       "      <td>0</td>\n",
       "    </tr>\n",
       "    <tr>\n",
       "      <th>9</th>\n",
       "      <td>10</td>\n",
       "      <td>15592389</td>\n",
       "      <td>H?</td>\n",
       "      <td>684</td>\n",
       "      <td>France</td>\n",
       "      <td>Male</td>\n",
       "      <td>27</td>\n",
       "      <td>2.0</td>\n",
       "      <td>134603.88</td>\n",
       "      <td>1</td>\n",
       "      <td>1</td>\n",
       "      <td>1</td>\n",
       "      <td>71725.73</td>\n",
       "      <td>0</td>\n",
       "    </tr>\n",
       "    <tr>\n",
       "      <th>10</th>\n",
       "      <td>11</td>\n",
       "      <td>15767821</td>\n",
       "      <td>Bearce</td>\n",
       "      <td>528</td>\n",
       "      <td>France</td>\n",
       "      <td>Male</td>\n",
       "      <td>31</td>\n",
       "      <td>6.0</td>\n",
       "      <td>102016.72</td>\n",
       "      <td>2</td>\n",
       "      <td>0</td>\n",
       "      <td>0</td>\n",
       "      <td>80181.12</td>\n",
       "      <td>0</td>\n",
       "    </tr>\n",
       "    <tr>\n",
       "      <th>11</th>\n",
       "      <td>12</td>\n",
       "      <td>15737173</td>\n",
       "      <td>Andrews</td>\n",
       "      <td>497</td>\n",
       "      <td>Spain</td>\n",
       "      <td>Male</td>\n",
       "      <td>24</td>\n",
       "      <td>3.0</td>\n",
       "      <td>0.00</td>\n",
       "      <td>2</td>\n",
       "      <td>1</td>\n",
       "      <td>0</td>\n",
       "      <td>76390.01</td>\n",
       "      <td>0</td>\n",
       "    </tr>\n",
       "    <tr>\n",
       "      <th>12</th>\n",
       "      <td>13</td>\n",
       "      <td>15632264</td>\n",
       "      <td>Kay</td>\n",
       "      <td>476</td>\n",
       "      <td>France</td>\n",
       "      <td>Female</td>\n",
       "      <td>34</td>\n",
       "      <td>10.0</td>\n",
       "      <td>0.00</td>\n",
       "      <td>2</td>\n",
       "      <td>1</td>\n",
       "      <td>0</td>\n",
       "      <td>26260.98</td>\n",
       "      <td>0</td>\n",
       "    </tr>\n",
       "    <tr>\n",
       "      <th>13</th>\n",
       "      <td>14</td>\n",
       "      <td>15691483</td>\n",
       "      <td>Chin</td>\n",
       "      <td>549</td>\n",
       "      <td>France</td>\n",
       "      <td>Female</td>\n",
       "      <td>25</td>\n",
       "      <td>5.0</td>\n",
       "      <td>0.00</td>\n",
       "      <td>2</td>\n",
       "      <td>0</td>\n",
       "      <td>0</td>\n",
       "      <td>190857.79</td>\n",
       "      <td>0</td>\n",
       "    </tr>\n",
       "    <tr>\n",
       "      <th>14</th>\n",
       "      <td>15</td>\n",
       "      <td>15600882</td>\n",
       "      <td>Scott</td>\n",
       "      <td>635</td>\n",
       "      <td>Spain</td>\n",
       "      <td>Female</td>\n",
       "      <td>35</td>\n",
       "      <td>7.0</td>\n",
       "      <td>0.00</td>\n",
       "      <td>2</td>\n",
       "      <td>1</td>\n",
       "      <td>1</td>\n",
       "      <td>65951.65</td>\n",
       "      <td>0</td>\n",
       "    </tr>\n",
       "    <tr>\n",
       "      <th>15</th>\n",
       "      <td>16</td>\n",
       "      <td>15643966</td>\n",
       "      <td>Goforth</td>\n",
       "      <td>616</td>\n",
       "      <td>Germany</td>\n",
       "      <td>Male</td>\n",
       "      <td>45</td>\n",
       "      <td>3.0</td>\n",
       "      <td>143129.41</td>\n",
       "      <td>2</td>\n",
       "      <td>0</td>\n",
       "      <td>1</td>\n",
       "      <td>64327.26</td>\n",
       "      <td>0</td>\n",
       "    </tr>\n",
       "    <tr>\n",
       "      <th>16</th>\n",
       "      <td>17</td>\n",
       "      <td>15737452</td>\n",
       "      <td>Romeo</td>\n",
       "      <td>653</td>\n",
       "      <td>Germany</td>\n",
       "      <td>Male</td>\n",
       "      <td>58</td>\n",
       "      <td>1.0</td>\n",
       "      <td>132602.88</td>\n",
       "      <td>1</td>\n",
       "      <td>1</td>\n",
       "      <td>0</td>\n",
       "      <td>5097.67</td>\n",
       "      <td>1</td>\n",
       "    </tr>\n",
       "    <tr>\n",
       "      <th>17</th>\n",
       "      <td>18</td>\n",
       "      <td>15788218</td>\n",
       "      <td>Henderson</td>\n",
       "      <td>549</td>\n",
       "      <td>Spain</td>\n",
       "      <td>Female</td>\n",
       "      <td>24</td>\n",
       "      <td>9.0</td>\n",
       "      <td>0.00</td>\n",
       "      <td>2</td>\n",
       "      <td>1</td>\n",
       "      <td>1</td>\n",
       "      <td>14406.41</td>\n",
       "      <td>0</td>\n",
       "    </tr>\n",
       "    <tr>\n",
       "      <th>18</th>\n",
       "      <td>19</td>\n",
       "      <td>15661507</td>\n",
       "      <td>Muldrow</td>\n",
       "      <td>587</td>\n",
       "      <td>Spain</td>\n",
       "      <td>Male</td>\n",
       "      <td>45</td>\n",
       "      <td>6.0</td>\n",
       "      <td>0.00</td>\n",
       "      <td>1</td>\n",
       "      <td>0</td>\n",
       "      <td>0</td>\n",
       "      <td>158684.81</td>\n",
       "      <td>0</td>\n",
       "    </tr>\n",
       "    <tr>\n",
       "      <th>19</th>\n",
       "      <td>20</td>\n",
       "      <td>15568982</td>\n",
       "      <td>Hao</td>\n",
       "      <td>726</td>\n",
       "      <td>France</td>\n",
       "      <td>Female</td>\n",
       "      <td>24</td>\n",
       "      <td>6.0</td>\n",
       "      <td>0.00</td>\n",
       "      <td>2</td>\n",
       "      <td>1</td>\n",
       "      <td>1</td>\n",
       "      <td>54724.03</td>\n",
       "      <td>0</td>\n",
       "    </tr>\n",
       "  </tbody>\n",
       "</table>\n",
       "</div>"
      ],
      "text/plain": [
       "    RowNumber  CustomerId    Surname  CreditScore Geography  Gender  Age  \\\n",
       "0           1    15634602   Hargrave          619    France  Female   42   \n",
       "1           2    15647311       Hill          608     Spain  Female   41   \n",
       "2           3    15619304       Onio          502    France  Female   42   \n",
       "3           4    15701354       Boni          699    France  Female   39   \n",
       "4           5    15737888   Mitchell          850     Spain  Female   43   \n",
       "5           6    15574012        Chu          645     Spain    Male   44   \n",
       "6           7    15592531   Bartlett          822    France    Male   50   \n",
       "7           8    15656148     Obinna          376   Germany  Female   29   \n",
       "8           9    15792365         He          501    France    Male   44   \n",
       "9          10    15592389         H?          684    France    Male   27   \n",
       "10         11    15767821     Bearce          528    France    Male   31   \n",
       "11         12    15737173    Andrews          497     Spain    Male   24   \n",
       "12         13    15632264        Kay          476    France  Female   34   \n",
       "13         14    15691483       Chin          549    France  Female   25   \n",
       "14         15    15600882      Scott          635     Spain  Female   35   \n",
       "15         16    15643966    Goforth          616   Germany    Male   45   \n",
       "16         17    15737452      Romeo          653   Germany    Male   58   \n",
       "17         18    15788218  Henderson          549     Spain  Female   24   \n",
       "18         19    15661507    Muldrow          587     Spain    Male   45   \n",
       "19         20    15568982        Hao          726    France  Female   24   \n",
       "\n",
       "    Tenure    Balance  NumOfProducts  HasCrCard  IsActiveMember  \\\n",
       "0      2.0       0.00              1          1               1   \n",
       "1      1.0   83807.86              1          0               1   \n",
       "2      8.0  159660.80              3          1               0   \n",
       "3      1.0       0.00              2          0               0   \n",
       "4      2.0  125510.82              1          1               1   \n",
       "5      8.0  113755.78              2          1               0   \n",
       "6      7.0       0.00              2          1               1   \n",
       "7      4.0  115046.74              4          1               0   \n",
       "8      4.0  142051.07              2          0               1   \n",
       "9      2.0  134603.88              1          1               1   \n",
       "10     6.0  102016.72              2          0               0   \n",
       "11     3.0       0.00              2          1               0   \n",
       "12    10.0       0.00              2          1               0   \n",
       "13     5.0       0.00              2          0               0   \n",
       "14     7.0       0.00              2          1               1   \n",
       "15     3.0  143129.41              2          0               1   \n",
       "16     1.0  132602.88              1          1               0   \n",
       "17     9.0       0.00              2          1               1   \n",
       "18     6.0       0.00              1          0               0   \n",
       "19     6.0       0.00              2          1               1   \n",
       "\n",
       "    EstimatedSalary  Exited  \n",
       "0         101348.88       1  \n",
       "1         112542.58       0  \n",
       "2         113931.57       1  \n",
       "3          93826.63       0  \n",
       "4          79084.10       0  \n",
       "5         149756.71       1  \n",
       "6          10062.80       0  \n",
       "7         119346.88       1  \n",
       "8          74940.50       0  \n",
       "9          71725.73       0  \n",
       "10         80181.12       0  \n",
       "11         76390.01       0  \n",
       "12         26260.98       0  \n",
       "13        190857.79       0  \n",
       "14         65951.65       0  \n",
       "15         64327.26       0  \n",
       "16          5097.67       1  \n",
       "17         14406.41       0  \n",
       "18        158684.81       0  \n",
       "19         54724.03       0  "
      ]
     },
     "execution_count": 3,
     "metadata": {},
     "output_type": "execute_result"
    }
   ],
   "source": [
    "data.head(20)"
   ]
  },
  {
   "cell_type": "code",
   "execution_count": 4,
   "metadata": {},
   "outputs": [
    {
     "name": "stdout",
     "output_type": "stream",
     "text": [
      "<class 'pandas.core.frame.DataFrame'>\n",
      "RangeIndex: 10000 entries, 0 to 9999\n",
      "Data columns (total 14 columns):\n",
      " #   Column           Non-Null Count  Dtype  \n",
      "---  ------           --------------  -----  \n",
      " 0   RowNumber        10000 non-null  int64  \n",
      " 1   CustomerId       10000 non-null  int64  \n",
      " 2   Surname          10000 non-null  object \n",
      " 3   CreditScore      10000 non-null  int64  \n",
      " 4   Geography        10000 non-null  object \n",
      " 5   Gender           10000 non-null  object \n",
      " 6   Age              10000 non-null  int64  \n",
      " 7   Tenure           9091 non-null   float64\n",
      " 8   Balance          10000 non-null  float64\n",
      " 9   NumOfProducts    10000 non-null  int64  \n",
      " 10  HasCrCard        10000 non-null  int64  \n",
      " 11  IsActiveMember   10000 non-null  int64  \n",
      " 12  EstimatedSalary  10000 non-null  float64\n",
      " 13  Exited           10000 non-null  int64  \n",
      "dtypes: float64(3), int64(8), object(3)\n",
      "memory usage: 1.1+ MB\n"
     ]
    }
   ],
   "source": [
    "data.info()"
   ]
  },
  {
   "cell_type": "code",
   "execution_count": 5,
   "metadata": {},
   "outputs": [
    {
     "data": {
      "text/html": [
       "<div>\n",
       "<style scoped>\n",
       "    .dataframe tbody tr th:only-of-type {\n",
       "        vertical-align: middle;\n",
       "    }\n",
       "\n",
       "    .dataframe tbody tr th {\n",
       "        vertical-align: top;\n",
       "    }\n",
       "\n",
       "    .dataframe thead th {\n",
       "        text-align: right;\n",
       "    }\n",
       "</style>\n",
       "<table border=\"1\" class=\"dataframe\">\n",
       "  <thead>\n",
       "    <tr style=\"text-align: right;\">\n",
       "      <th></th>\n",
       "      <th>RowNumber</th>\n",
       "      <th>CustomerId</th>\n",
       "      <th>CreditScore</th>\n",
       "      <th>Age</th>\n",
       "      <th>Tenure</th>\n",
       "      <th>Balance</th>\n",
       "      <th>NumOfProducts</th>\n",
       "      <th>HasCrCard</th>\n",
       "      <th>IsActiveMember</th>\n",
       "      <th>EstimatedSalary</th>\n",
       "      <th>Exited</th>\n",
       "    </tr>\n",
       "  </thead>\n",
       "  <tbody>\n",
       "    <tr>\n",
       "      <th>count</th>\n",
       "      <td>10000.00000</td>\n",
       "      <td>1.000000e+04</td>\n",
       "      <td>10000.000000</td>\n",
       "      <td>10000.000000</td>\n",
       "      <td>9091.000000</td>\n",
       "      <td>10000.000000</td>\n",
       "      <td>10000.000000</td>\n",
       "      <td>10000.00000</td>\n",
       "      <td>10000.000000</td>\n",
       "      <td>10000.000000</td>\n",
       "      <td>10000.000000</td>\n",
       "    </tr>\n",
       "    <tr>\n",
       "      <th>mean</th>\n",
       "      <td>5000.50000</td>\n",
       "      <td>1.569094e+07</td>\n",
       "      <td>650.528800</td>\n",
       "      <td>38.921800</td>\n",
       "      <td>4.997690</td>\n",
       "      <td>76485.889288</td>\n",
       "      <td>1.530200</td>\n",
       "      <td>0.70550</td>\n",
       "      <td>0.515100</td>\n",
       "      <td>100090.239881</td>\n",
       "      <td>0.203700</td>\n",
       "    </tr>\n",
       "    <tr>\n",
       "      <th>std</th>\n",
       "      <td>2886.89568</td>\n",
       "      <td>7.193619e+04</td>\n",
       "      <td>96.653299</td>\n",
       "      <td>10.487806</td>\n",
       "      <td>2.894723</td>\n",
       "      <td>62397.405202</td>\n",
       "      <td>0.581654</td>\n",
       "      <td>0.45584</td>\n",
       "      <td>0.499797</td>\n",
       "      <td>57510.492818</td>\n",
       "      <td>0.402769</td>\n",
       "    </tr>\n",
       "    <tr>\n",
       "      <th>min</th>\n",
       "      <td>1.00000</td>\n",
       "      <td>1.556570e+07</td>\n",
       "      <td>350.000000</td>\n",
       "      <td>18.000000</td>\n",
       "      <td>0.000000</td>\n",
       "      <td>0.000000</td>\n",
       "      <td>1.000000</td>\n",
       "      <td>0.00000</td>\n",
       "      <td>0.000000</td>\n",
       "      <td>11.580000</td>\n",
       "      <td>0.000000</td>\n",
       "    </tr>\n",
       "    <tr>\n",
       "      <th>25%</th>\n",
       "      <td>2500.75000</td>\n",
       "      <td>1.562853e+07</td>\n",
       "      <td>584.000000</td>\n",
       "      <td>32.000000</td>\n",
       "      <td>2.000000</td>\n",
       "      <td>0.000000</td>\n",
       "      <td>1.000000</td>\n",
       "      <td>0.00000</td>\n",
       "      <td>0.000000</td>\n",
       "      <td>51002.110000</td>\n",
       "      <td>0.000000</td>\n",
       "    </tr>\n",
       "    <tr>\n",
       "      <th>50%</th>\n",
       "      <td>5000.50000</td>\n",
       "      <td>1.569074e+07</td>\n",
       "      <td>652.000000</td>\n",
       "      <td>37.000000</td>\n",
       "      <td>5.000000</td>\n",
       "      <td>97198.540000</td>\n",
       "      <td>1.000000</td>\n",
       "      <td>1.00000</td>\n",
       "      <td>1.000000</td>\n",
       "      <td>100193.915000</td>\n",
       "      <td>0.000000</td>\n",
       "    </tr>\n",
       "    <tr>\n",
       "      <th>75%</th>\n",
       "      <td>7500.25000</td>\n",
       "      <td>1.575323e+07</td>\n",
       "      <td>718.000000</td>\n",
       "      <td>44.000000</td>\n",
       "      <td>7.000000</td>\n",
       "      <td>127644.240000</td>\n",
       "      <td>2.000000</td>\n",
       "      <td>1.00000</td>\n",
       "      <td>1.000000</td>\n",
       "      <td>149388.247500</td>\n",
       "      <td>0.000000</td>\n",
       "    </tr>\n",
       "    <tr>\n",
       "      <th>max</th>\n",
       "      <td>10000.00000</td>\n",
       "      <td>1.581569e+07</td>\n",
       "      <td>850.000000</td>\n",
       "      <td>92.000000</td>\n",
       "      <td>10.000000</td>\n",
       "      <td>250898.090000</td>\n",
       "      <td>4.000000</td>\n",
       "      <td>1.00000</td>\n",
       "      <td>1.000000</td>\n",
       "      <td>199992.480000</td>\n",
       "      <td>1.000000</td>\n",
       "    </tr>\n",
       "  </tbody>\n",
       "</table>\n",
       "</div>"
      ],
      "text/plain": [
       "         RowNumber    CustomerId   CreditScore           Age       Tenure  \\\n",
       "count  10000.00000  1.000000e+04  10000.000000  10000.000000  9091.000000   \n",
       "mean    5000.50000  1.569094e+07    650.528800     38.921800     4.997690   \n",
       "std     2886.89568  7.193619e+04     96.653299     10.487806     2.894723   \n",
       "min        1.00000  1.556570e+07    350.000000     18.000000     0.000000   \n",
       "25%     2500.75000  1.562853e+07    584.000000     32.000000     2.000000   \n",
       "50%     5000.50000  1.569074e+07    652.000000     37.000000     5.000000   \n",
       "75%     7500.25000  1.575323e+07    718.000000     44.000000     7.000000   \n",
       "max    10000.00000  1.581569e+07    850.000000     92.000000    10.000000   \n",
       "\n",
       "             Balance  NumOfProducts    HasCrCard  IsActiveMember  \\\n",
       "count   10000.000000   10000.000000  10000.00000    10000.000000   \n",
       "mean    76485.889288       1.530200      0.70550        0.515100   \n",
       "std     62397.405202       0.581654      0.45584        0.499797   \n",
       "min         0.000000       1.000000      0.00000        0.000000   \n",
       "25%         0.000000       1.000000      0.00000        0.000000   \n",
       "50%     97198.540000       1.000000      1.00000        1.000000   \n",
       "75%    127644.240000       2.000000      1.00000        1.000000   \n",
       "max    250898.090000       4.000000      1.00000        1.000000   \n",
       "\n",
       "       EstimatedSalary        Exited  \n",
       "count     10000.000000  10000.000000  \n",
       "mean     100090.239881      0.203700  \n",
       "std       57510.492818      0.402769  \n",
       "min          11.580000      0.000000  \n",
       "25%       51002.110000      0.000000  \n",
       "50%      100193.915000      0.000000  \n",
       "75%      149388.247500      0.000000  \n",
       "max      199992.480000      1.000000  "
      ]
     },
     "execution_count": 5,
     "metadata": {},
     "output_type": "execute_result"
    }
   ],
   "source": [
    "data.describe()"
   ]
  },
  {
   "cell_type": "code",
   "execution_count": 6,
   "metadata": {},
   "outputs": [
    {
     "data": {
      "text/plain": [
       "0"
      ]
     },
     "execution_count": 6,
     "metadata": {},
     "output_type": "execute_result"
    }
   ],
   "source": [
    "data.duplicated().sum()"
   ]
  },
  {
   "cell_type": "code",
   "execution_count": 7,
   "metadata": {},
   "outputs": [
    {
     "data": {
      "text/plain": [
       "RowNumber            0\n",
       "CustomerId           0\n",
       "Surname              0\n",
       "CreditScore          0\n",
       "Geography            0\n",
       "Gender               0\n",
       "Age                  0\n",
       "Tenure             909\n",
       "Balance              0\n",
       "NumOfProducts        0\n",
       "HasCrCard            0\n",
       "IsActiveMember       0\n",
       "EstimatedSalary      0\n",
       "Exited               0\n",
       "dtype: int64"
      ]
     },
     "execution_count": 7,
     "metadata": {},
     "output_type": "execute_result"
    }
   ],
   "source": [
    "data.isnull().sum()"
   ]
  },
  {
   "cell_type": "markdown",
   "metadata": {},
   "source": [
    "Загрузил и открыл файл. Изучил первую информацию. Проверил таблицу на наличие дубликатов - дубликатов нет. В столбце 'Tenure' (сколько лет человек является клиентом банка) обнаружено более 9% пропусков. Это довольно много, чтобы ими пренебрегать.  Рассмотрим варианты их заполнения далее. Названия всех столбцов приводим к правильному виду."
   ]
  },
  {
   "cell_type": "code",
   "execution_count": 8,
   "metadata": {},
   "outputs": [],
   "source": [
    "data = data.rename(columns={'RowNumber': 'Row_Number',\n",
    "    'CustomerId': 'Customer_Id',\n",
    "    'CreditScore': 'Credit_Score',\n",
    "    'NumOfProducts': 'Num_Of_Products',\n",
    "    'HasCrCard': 'Has_Cr_Card',\n",
    "    'IsActiveMember': 'Is_Active_Member',\n",
    "    'EstimatedSalary': 'Estimated_Salary'                        \n",
    "}) "
   ]
  },
  {
   "cell_type": "code",
   "execution_count": 9,
   "metadata": {},
   "outputs": [],
   "source": [
    "data.columns = data.columns.str.lower()"
   ]
  },
  {
   "cell_type": "code",
   "execution_count": 10,
   "metadata": {},
   "outputs": [
    {
     "data": {
      "text/plain": [
       "row_number            0\n",
       "customer_id           0\n",
       "surname               0\n",
       "credit_score          0\n",
       "geography             0\n",
       "gender                0\n",
       "age                   0\n",
       "tenure              909\n",
       "balance               0\n",
       "num_of_products       0\n",
       "has_cr_card           0\n",
       "is_active_member      0\n",
       "estimated_salary      0\n",
       "exited                0\n",
       "dtype: int64"
      ]
     },
     "execution_count": 10,
     "metadata": {},
     "output_type": "execute_result"
    }
   ],
   "source": [
    "data.isnull().sum()"
   ]
  },
  {
   "cell_type": "code",
   "execution_count": 11,
   "metadata": {},
   "outputs": [
    {
     "data": {
      "text/html": [
       "<div>\n",
       "<style scoped>\n",
       "    .dataframe tbody tr th:only-of-type {\n",
       "        vertical-align: middle;\n",
       "    }\n",
       "\n",
       "    .dataframe tbody tr th {\n",
       "        vertical-align: top;\n",
       "    }\n",
       "\n",
       "    .dataframe thead th {\n",
       "        text-align: right;\n",
       "    }\n",
       "</style>\n",
       "<table border=\"1\" class=\"dataframe\">\n",
       "  <thead>\n",
       "    <tr style=\"text-align: right;\">\n",
       "      <th></th>\n",
       "      <th>row_number</th>\n",
       "      <th>customer_id</th>\n",
       "      <th>surname</th>\n",
       "      <th>credit_score</th>\n",
       "      <th>geography</th>\n",
       "      <th>gender</th>\n",
       "      <th>age</th>\n",
       "      <th>tenure</th>\n",
       "      <th>balance</th>\n",
       "      <th>num_of_products</th>\n",
       "      <th>has_cr_card</th>\n",
       "      <th>is_active_member</th>\n",
       "      <th>estimated_salary</th>\n",
       "      <th>exited</th>\n",
       "    </tr>\n",
       "  </thead>\n",
       "  <tbody>\n",
       "    <tr>\n",
       "      <th>30</th>\n",
       "      <td>31</td>\n",
       "      <td>15589475</td>\n",
       "      <td>Azikiwe</td>\n",
       "      <td>591</td>\n",
       "      <td>Spain</td>\n",
       "      <td>Female</td>\n",
       "      <td>39</td>\n",
       "      <td>NaN</td>\n",
       "      <td>0.00</td>\n",
       "      <td>3</td>\n",
       "      <td>1</td>\n",
       "      <td>0</td>\n",
       "      <td>140469.38</td>\n",
       "      <td>1</td>\n",
       "    </tr>\n",
       "    <tr>\n",
       "      <th>48</th>\n",
       "      <td>49</td>\n",
       "      <td>15766205</td>\n",
       "      <td>Yin</td>\n",
       "      <td>550</td>\n",
       "      <td>Germany</td>\n",
       "      <td>Male</td>\n",
       "      <td>38</td>\n",
       "      <td>NaN</td>\n",
       "      <td>103391.38</td>\n",
       "      <td>1</td>\n",
       "      <td>0</td>\n",
       "      <td>1</td>\n",
       "      <td>90878.13</td>\n",
       "      <td>0</td>\n",
       "    </tr>\n",
       "    <tr>\n",
       "      <th>51</th>\n",
       "      <td>52</td>\n",
       "      <td>15768193</td>\n",
       "      <td>Trevisani</td>\n",
       "      <td>585</td>\n",
       "      <td>Germany</td>\n",
       "      <td>Male</td>\n",
       "      <td>36</td>\n",
       "      <td>NaN</td>\n",
       "      <td>146050.97</td>\n",
       "      <td>2</td>\n",
       "      <td>0</td>\n",
       "      <td>0</td>\n",
       "      <td>86424.57</td>\n",
       "      <td>0</td>\n",
       "    </tr>\n",
       "    <tr>\n",
       "      <th>53</th>\n",
       "      <td>54</td>\n",
       "      <td>15702298</td>\n",
       "      <td>Parkhill</td>\n",
       "      <td>655</td>\n",
       "      <td>Germany</td>\n",
       "      <td>Male</td>\n",
       "      <td>41</td>\n",
       "      <td>NaN</td>\n",
       "      <td>125561.97</td>\n",
       "      <td>1</td>\n",
       "      <td>0</td>\n",
       "      <td>0</td>\n",
       "      <td>164040.94</td>\n",
       "      <td>1</td>\n",
       "    </tr>\n",
       "    <tr>\n",
       "      <th>60</th>\n",
       "      <td>61</td>\n",
       "      <td>15651280</td>\n",
       "      <td>Hunter</td>\n",
       "      <td>742</td>\n",
       "      <td>Germany</td>\n",
       "      <td>Male</td>\n",
       "      <td>35</td>\n",
       "      <td>NaN</td>\n",
       "      <td>136857.00</td>\n",
       "      <td>1</td>\n",
       "      <td>0</td>\n",
       "      <td>0</td>\n",
       "      <td>84509.57</td>\n",
       "      <td>0</td>\n",
       "    </tr>\n",
       "    <tr>\n",
       "      <th>82</th>\n",
       "      <td>83</td>\n",
       "      <td>15641732</td>\n",
       "      <td>Mills</td>\n",
       "      <td>543</td>\n",
       "      <td>France</td>\n",
       "      <td>Female</td>\n",
       "      <td>36</td>\n",
       "      <td>NaN</td>\n",
       "      <td>0.00</td>\n",
       "      <td>2</td>\n",
       "      <td>0</td>\n",
       "      <td>0</td>\n",
       "      <td>26019.59</td>\n",
       "      <td>0</td>\n",
       "    </tr>\n",
       "    <tr>\n",
       "      <th>85</th>\n",
       "      <td>86</td>\n",
       "      <td>15805254</td>\n",
       "      <td>Ndukaku</td>\n",
       "      <td>652</td>\n",
       "      <td>Spain</td>\n",
       "      <td>Female</td>\n",
       "      <td>75</td>\n",
       "      <td>NaN</td>\n",
       "      <td>0.00</td>\n",
       "      <td>2</td>\n",
       "      <td>1</td>\n",
       "      <td>1</td>\n",
       "      <td>114675.75</td>\n",
       "      <td>0</td>\n",
       "    </tr>\n",
       "    <tr>\n",
       "      <th>94</th>\n",
       "      <td>95</td>\n",
       "      <td>15676966</td>\n",
       "      <td>Capon</td>\n",
       "      <td>730</td>\n",
       "      <td>Spain</td>\n",
       "      <td>Male</td>\n",
       "      <td>42</td>\n",
       "      <td>NaN</td>\n",
       "      <td>0.00</td>\n",
       "      <td>2</td>\n",
       "      <td>0</td>\n",
       "      <td>1</td>\n",
       "      <td>85982.47</td>\n",
       "      <td>0</td>\n",
       "    </tr>\n",
       "    <tr>\n",
       "      <th>99</th>\n",
       "      <td>100</td>\n",
       "      <td>15633059</td>\n",
       "      <td>Fanucci</td>\n",
       "      <td>413</td>\n",
       "      <td>France</td>\n",
       "      <td>Male</td>\n",
       "      <td>34</td>\n",
       "      <td>NaN</td>\n",
       "      <td>0.00</td>\n",
       "      <td>2</td>\n",
       "      <td>0</td>\n",
       "      <td>0</td>\n",
       "      <td>6534.18</td>\n",
       "      <td>0</td>\n",
       "    </tr>\n",
       "    <tr>\n",
       "      <th>111</th>\n",
       "      <td>112</td>\n",
       "      <td>15665790</td>\n",
       "      <td>Rowntree</td>\n",
       "      <td>538</td>\n",
       "      <td>Germany</td>\n",
       "      <td>Male</td>\n",
       "      <td>39</td>\n",
       "      <td>NaN</td>\n",
       "      <td>108055.10</td>\n",
       "      <td>2</td>\n",
       "      <td>1</td>\n",
       "      <td>0</td>\n",
       "      <td>27231.26</td>\n",
       "      <td>0</td>\n",
       "    </tr>\n",
       "    <tr>\n",
       "      <th>123</th>\n",
       "      <td>124</td>\n",
       "      <td>15760085</td>\n",
       "      <td>Calabresi</td>\n",
       "      <td>684</td>\n",
       "      <td>Germany</td>\n",
       "      <td>Female</td>\n",
       "      <td>48</td>\n",
       "      <td>NaN</td>\n",
       "      <td>126384.42</td>\n",
       "      <td>1</td>\n",
       "      <td>1</td>\n",
       "      <td>1</td>\n",
       "      <td>198129.36</td>\n",
       "      <td>0</td>\n",
       "    </tr>\n",
       "    <tr>\n",
       "      <th>125</th>\n",
       "      <td>126</td>\n",
       "      <td>15627360</td>\n",
       "      <td>Fuller</td>\n",
       "      <td>432</td>\n",
       "      <td>France</td>\n",
       "      <td>Male</td>\n",
       "      <td>42</td>\n",
       "      <td>NaN</td>\n",
       "      <td>152603.45</td>\n",
       "      <td>1</td>\n",
       "      <td>1</td>\n",
       "      <td>0</td>\n",
       "      <td>110265.24</td>\n",
       "      <td>1</td>\n",
       "    </tr>\n",
       "    <tr>\n",
       "      <th>146</th>\n",
       "      <td>147</td>\n",
       "      <td>15705707</td>\n",
       "      <td>Bennelong</td>\n",
       "      <td>635</td>\n",
       "      <td>Spain</td>\n",
       "      <td>Female</td>\n",
       "      <td>29</td>\n",
       "      <td>NaN</td>\n",
       "      <td>138296.94</td>\n",
       "      <td>2</td>\n",
       "      <td>1</td>\n",
       "      <td>0</td>\n",
       "      <td>141075.51</td>\n",
       "      <td>0</td>\n",
       "    </tr>\n",
       "    <tr>\n",
       "      <th>162</th>\n",
       "      <td>163</td>\n",
       "      <td>15630910</td>\n",
       "      <td>Treacy</td>\n",
       "      <td>800</td>\n",
       "      <td>France</td>\n",
       "      <td>Female</td>\n",
       "      <td>49</td>\n",
       "      <td>NaN</td>\n",
       "      <td>108007.36</td>\n",
       "      <td>1</td>\n",
       "      <td>0</td>\n",
       "      <td>0</td>\n",
       "      <td>47125.11</td>\n",
       "      <td>0</td>\n",
       "    </tr>\n",
       "    <tr>\n",
       "      <th>173</th>\n",
       "      <td>174</td>\n",
       "      <td>15586310</td>\n",
       "      <td>Ting</td>\n",
       "      <td>578</td>\n",
       "      <td>France</td>\n",
       "      <td>Male</td>\n",
       "      <td>30</td>\n",
       "      <td>NaN</td>\n",
       "      <td>169462.09</td>\n",
       "      <td>1</td>\n",
       "      <td>1</td>\n",
       "      <td>0</td>\n",
       "      <td>112187.11</td>\n",
       "      <td>0</td>\n",
       "    </tr>\n",
       "    <tr>\n",
       "      <th>180</th>\n",
       "      <td>181</td>\n",
       "      <td>15716334</td>\n",
       "      <td>Rozier</td>\n",
       "      <td>850</td>\n",
       "      <td>Spain</td>\n",
       "      <td>Female</td>\n",
       "      <td>45</td>\n",
       "      <td>NaN</td>\n",
       "      <td>122311.21</td>\n",
       "      <td>1</td>\n",
       "      <td>1</td>\n",
       "      <td>1</td>\n",
       "      <td>19482.50</td>\n",
       "      <td>0</td>\n",
       "    </tr>\n",
       "    <tr>\n",
       "      <th>217</th>\n",
       "      <td>218</td>\n",
       "      <td>15786308</td>\n",
       "      <td>Millar</td>\n",
       "      <td>730</td>\n",
       "      <td>Spain</td>\n",
       "      <td>Female</td>\n",
       "      <td>33</td>\n",
       "      <td>NaN</td>\n",
       "      <td>0.00</td>\n",
       "      <td>2</td>\n",
       "      <td>0</td>\n",
       "      <td>0</td>\n",
       "      <td>176576.62</td>\n",
       "      <td>0</td>\n",
       "    </tr>\n",
       "    <tr>\n",
       "      <th>222</th>\n",
       "      <td>223</td>\n",
       "      <td>15727829</td>\n",
       "      <td>McIntyre</td>\n",
       "      <td>567</td>\n",
       "      <td>France</td>\n",
       "      <td>Male</td>\n",
       "      <td>42</td>\n",
       "      <td>NaN</td>\n",
       "      <td>0.00</td>\n",
       "      <td>2</td>\n",
       "      <td>1</td>\n",
       "      <td>1</td>\n",
       "      <td>167984.61</td>\n",
       "      <td>0</td>\n",
       "    </tr>\n",
       "    <tr>\n",
       "      <th>225</th>\n",
       "      <td>226</td>\n",
       "      <td>15699029</td>\n",
       "      <td>Bagley</td>\n",
       "      <td>670</td>\n",
       "      <td>France</td>\n",
       "      <td>Male</td>\n",
       "      <td>37</td>\n",
       "      <td>NaN</td>\n",
       "      <td>170557.91</td>\n",
       "      <td>2</td>\n",
       "      <td>1</td>\n",
       "      <td>0</td>\n",
       "      <td>198252.88</td>\n",
       "      <td>0</td>\n",
       "    </tr>\n",
       "    <tr>\n",
       "      <th>237</th>\n",
       "      <td>238</td>\n",
       "      <td>15764866</td>\n",
       "      <td>Synnot</td>\n",
       "      <td>539</td>\n",
       "      <td>Germany</td>\n",
       "      <td>Female</td>\n",
       "      <td>43</td>\n",
       "      <td>NaN</td>\n",
       "      <td>116220.50</td>\n",
       "      <td>3</td>\n",
       "      <td>1</td>\n",
       "      <td>0</td>\n",
       "      <td>55803.96</td>\n",
       "      <td>1</td>\n",
       "    </tr>\n",
       "  </tbody>\n",
       "</table>\n",
       "</div>"
      ],
      "text/plain": [
       "     row_number  customer_id    surname  credit_score geography  gender  age  \\\n",
       "30           31     15589475    Azikiwe           591     Spain  Female   39   \n",
       "48           49     15766205        Yin           550   Germany    Male   38   \n",
       "51           52     15768193  Trevisani           585   Germany    Male   36   \n",
       "53           54     15702298   Parkhill           655   Germany    Male   41   \n",
       "60           61     15651280     Hunter           742   Germany    Male   35   \n",
       "82           83     15641732      Mills           543    France  Female   36   \n",
       "85           86     15805254    Ndukaku           652     Spain  Female   75   \n",
       "94           95     15676966      Capon           730     Spain    Male   42   \n",
       "99          100     15633059    Fanucci           413    France    Male   34   \n",
       "111         112     15665790   Rowntree           538   Germany    Male   39   \n",
       "123         124     15760085  Calabresi           684   Germany  Female   48   \n",
       "125         126     15627360     Fuller           432    France    Male   42   \n",
       "146         147     15705707  Bennelong           635     Spain  Female   29   \n",
       "162         163     15630910     Treacy           800    France  Female   49   \n",
       "173         174     15586310       Ting           578    France    Male   30   \n",
       "180         181     15716334     Rozier           850     Spain  Female   45   \n",
       "217         218     15786308     Millar           730     Spain  Female   33   \n",
       "222         223     15727829   McIntyre           567    France    Male   42   \n",
       "225         226     15699029     Bagley           670    France    Male   37   \n",
       "237         238     15764866     Synnot           539   Germany  Female   43   \n",
       "\n",
       "     tenure    balance  num_of_products  has_cr_card  is_active_member  \\\n",
       "30      NaN       0.00                3            1                 0   \n",
       "48      NaN  103391.38                1            0                 1   \n",
       "51      NaN  146050.97                2            0                 0   \n",
       "53      NaN  125561.97                1            0                 0   \n",
       "60      NaN  136857.00                1            0                 0   \n",
       "82      NaN       0.00                2            0                 0   \n",
       "85      NaN       0.00                2            1                 1   \n",
       "94      NaN       0.00                2            0                 1   \n",
       "99      NaN       0.00                2            0                 0   \n",
       "111     NaN  108055.10                2            1                 0   \n",
       "123     NaN  126384.42                1            1                 1   \n",
       "125     NaN  152603.45                1            1                 0   \n",
       "146     NaN  138296.94                2            1                 0   \n",
       "162     NaN  108007.36                1            0                 0   \n",
       "173     NaN  169462.09                1            1                 0   \n",
       "180     NaN  122311.21                1            1                 1   \n",
       "217     NaN       0.00                2            0                 0   \n",
       "222     NaN       0.00                2            1                 1   \n",
       "225     NaN  170557.91                2            1                 0   \n",
       "237     NaN  116220.50                3            1                 0   \n",
       "\n",
       "     estimated_salary  exited  \n",
       "30          140469.38       1  \n",
       "48           90878.13       0  \n",
       "51           86424.57       0  \n",
       "53          164040.94       1  \n",
       "60           84509.57       0  \n",
       "82           26019.59       0  \n",
       "85          114675.75       0  \n",
       "94           85982.47       0  \n",
       "99            6534.18       0  \n",
       "111          27231.26       0  \n",
       "123         198129.36       0  \n",
       "125         110265.24       1  \n",
       "146         141075.51       0  \n",
       "162          47125.11       0  \n",
       "173         112187.11       0  \n",
       "180          19482.50       0  \n",
       "217         176576.62       0  \n",
       "222         167984.61       0  \n",
       "225         198252.88       0  \n",
       "237          55803.96       1  "
      ]
     },
     "execution_count": 11,
     "metadata": {},
     "output_type": "execute_result"
    }
   ],
   "source": [
    "data_ten = data[data['tenure'].isnull()]\n",
    "data_ten.head(20)"
   ]
  },
  {
   "cell_type": "code",
   "execution_count": 12,
   "metadata": {},
   "outputs": [
    {
     "data": {
      "text/plain": [
       "5.0"
      ]
     },
     "execution_count": 12,
     "metadata": {},
     "output_type": "execute_result"
    }
   ],
   "source": [
    "data['tenure'].median()"
   ]
  },
  {
   "cell_type": "code",
   "execution_count": 13,
   "metadata": {},
   "outputs": [],
   "source": [
    "data['tenure'] = data['tenure'].fillna(5.0)"
   ]
  },
  {
   "cell_type": "markdown",
   "metadata": {},
   "source": [
    "Изучил по предоставленной ссылке на сайте kaggle.com строки с пропущенной информацией в столбце 'tenure', все данные там на месте и имеют разные значения, поэтому принял решение заполнить их медианным значением."
   ]
  },
  {
   "cell_type": "code",
   "execution_count": 14,
   "metadata": {},
   "outputs": [
    {
     "data": {
      "text/plain": [
       "array(['Female', 'Male'], dtype=object)"
      ]
     },
     "execution_count": 14,
     "metadata": {},
     "output_type": "execute_result"
    }
   ],
   "source": [
    "data['gender'].unique()"
   ]
  },
  {
   "cell_type": "code",
   "execution_count": 15,
   "metadata": {},
   "outputs": [
    {
     "data": {
      "text/plain": [
       "array(['Hargrave', 'Hill', 'Onio', ..., 'Kashiwagi', 'Aldridge',\n",
       "       'Burbidge'], dtype=object)"
      ]
     },
     "execution_count": 15,
     "metadata": {},
     "output_type": "execute_result"
    }
   ],
   "source": [
    "data['surname'].unique()"
   ]
  },
  {
   "cell_type": "code",
   "execution_count": 16,
   "metadata": {},
   "outputs": [
    {
     "data": {
      "text/plain": [
       "Smith       32\n",
       "Scott       29\n",
       "Martin      29\n",
       "Walker      28\n",
       "Brown       26\n",
       "            ..\n",
       "Izmailov     1\n",
       "Bold         1\n",
       "Bonham       1\n",
       "Poninski     1\n",
       "Burbidge     1\n",
       "Name: surname, Length: 2932, dtype: int64"
      ]
     },
     "execution_count": 16,
     "metadata": {},
     "output_type": "execute_result"
    }
   ],
   "source": [
    "data['surname'].value_counts()"
   ]
  },
  {
   "cell_type": "code",
   "execution_count": 17,
   "metadata": {},
   "outputs": [
    {
     "data": {
      "text/plain": [
       "array(['France', 'Spain', 'Germany'], dtype=object)"
      ]
     },
     "execution_count": 17,
     "metadata": {},
     "output_type": "execute_result"
    }
   ],
   "source": [
    "data['geography'].unique()"
   ]
  },
  {
   "cell_type": "markdown",
   "metadata": {},
   "source": [
    "Изучил столбцы, содержащие текстовые значения. Столбец 'gender' имеет два уникальных значения, столбец 'geography' имеет три уникальных значения. Эти столбцы преобразуем методом прямого кодирования OHE. Чтобы тзбежать дамми-ловушку применим аргумент drop_first функции pd.get_dummies(). \n",
    "\n",
    "Столбец 'surname' содержит 2932 уникальных значения, это фамилии клиентов, для дальнейшей работы эти данные нам не нужны, поэтому этот столбец можно удалить из таблицы. Аналогично поступим и с столбцами 'row_number' и 'customer_id', информация в них для обучения модели нам не нужна."
   ]
  },
  {
   "cell_type": "code",
   "execution_count": 18,
   "metadata": {},
   "outputs": [],
   "source": [
    "data = data.drop(['row_number', 'customer_id', 'surname'], axis=1)"
   ]
  },
  {
   "cell_type": "code",
   "execution_count": 19,
   "metadata": {},
   "outputs": [
    {
     "data": {
      "text/html": [
       "<div>\n",
       "<style scoped>\n",
       "    .dataframe tbody tr th:only-of-type {\n",
       "        vertical-align: middle;\n",
       "    }\n",
       "\n",
       "    .dataframe tbody tr th {\n",
       "        vertical-align: top;\n",
       "    }\n",
       "\n",
       "    .dataframe thead th {\n",
       "        text-align: right;\n",
       "    }\n",
       "</style>\n",
       "<table border=\"1\" class=\"dataframe\">\n",
       "  <thead>\n",
       "    <tr style=\"text-align: right;\">\n",
       "      <th></th>\n",
       "      <th>credit_score</th>\n",
       "      <th>age</th>\n",
       "      <th>tenure</th>\n",
       "      <th>balance</th>\n",
       "      <th>num_of_products</th>\n",
       "      <th>has_cr_card</th>\n",
       "      <th>is_active_member</th>\n",
       "      <th>estimated_salary</th>\n",
       "      <th>exited</th>\n",
       "      <th>geography_Germany</th>\n",
       "      <th>geography_Spain</th>\n",
       "      <th>gender_Male</th>\n",
       "    </tr>\n",
       "  </thead>\n",
       "  <tbody>\n",
       "    <tr>\n",
       "      <th>0</th>\n",
       "      <td>619</td>\n",
       "      <td>42</td>\n",
       "      <td>2.0</td>\n",
       "      <td>0.00</td>\n",
       "      <td>1</td>\n",
       "      <td>1</td>\n",
       "      <td>1</td>\n",
       "      <td>101348.88</td>\n",
       "      <td>1</td>\n",
       "      <td>0</td>\n",
       "      <td>0</td>\n",
       "      <td>0</td>\n",
       "    </tr>\n",
       "    <tr>\n",
       "      <th>1</th>\n",
       "      <td>608</td>\n",
       "      <td>41</td>\n",
       "      <td>1.0</td>\n",
       "      <td>83807.86</td>\n",
       "      <td>1</td>\n",
       "      <td>0</td>\n",
       "      <td>1</td>\n",
       "      <td>112542.58</td>\n",
       "      <td>0</td>\n",
       "      <td>0</td>\n",
       "      <td>1</td>\n",
       "      <td>0</td>\n",
       "    </tr>\n",
       "    <tr>\n",
       "      <th>2</th>\n",
       "      <td>502</td>\n",
       "      <td>42</td>\n",
       "      <td>8.0</td>\n",
       "      <td>159660.80</td>\n",
       "      <td>3</td>\n",
       "      <td>1</td>\n",
       "      <td>0</td>\n",
       "      <td>113931.57</td>\n",
       "      <td>1</td>\n",
       "      <td>0</td>\n",
       "      <td>0</td>\n",
       "      <td>0</td>\n",
       "    </tr>\n",
       "    <tr>\n",
       "      <th>3</th>\n",
       "      <td>699</td>\n",
       "      <td>39</td>\n",
       "      <td>1.0</td>\n",
       "      <td>0.00</td>\n",
       "      <td>2</td>\n",
       "      <td>0</td>\n",
       "      <td>0</td>\n",
       "      <td>93826.63</td>\n",
       "      <td>0</td>\n",
       "      <td>0</td>\n",
       "      <td>0</td>\n",
       "      <td>0</td>\n",
       "    </tr>\n",
       "    <tr>\n",
       "      <th>4</th>\n",
       "      <td>850</td>\n",
       "      <td>43</td>\n",
       "      <td>2.0</td>\n",
       "      <td>125510.82</td>\n",
       "      <td>1</td>\n",
       "      <td>1</td>\n",
       "      <td>1</td>\n",
       "      <td>79084.10</td>\n",
       "      <td>0</td>\n",
       "      <td>0</td>\n",
       "      <td>1</td>\n",
       "      <td>0</td>\n",
       "    </tr>\n",
       "  </tbody>\n",
       "</table>\n",
       "</div>"
      ],
      "text/plain": [
       "   credit_score  age  tenure    balance  num_of_products  has_cr_card  \\\n",
       "0           619   42     2.0       0.00                1            1   \n",
       "1           608   41     1.0   83807.86                1            0   \n",
       "2           502   42     8.0  159660.80                3            1   \n",
       "3           699   39     1.0       0.00                2            0   \n",
       "4           850   43     2.0  125510.82                1            1   \n",
       "\n",
       "   is_active_member  estimated_salary  exited  geography_Germany  \\\n",
       "0                 1         101348.88       1                  0   \n",
       "1                 1         112542.58       0                  0   \n",
       "2                 0         113931.57       1                  0   \n",
       "3                 0          93826.63       0                  0   \n",
       "4                 1          79084.10       0                  0   \n",
       "\n",
       "   geography_Spain  gender_Male  \n",
       "0                0            0  \n",
       "1                1            0  \n",
       "2                0            0  \n",
       "3                0            0  \n",
       "4                1            0  "
      ]
     },
     "execution_count": 19,
     "metadata": {},
     "output_type": "execute_result"
    }
   ],
   "source": [
    "data = pd.get_dummies(data, drop_first=True)\n",
    "data.head()"
   ]
  },
  {
   "cell_type": "code",
   "execution_count": 20,
   "metadata": {},
   "outputs": [
    {
     "data": {
      "text/plain": [
       "(10000, 12)"
      ]
     },
     "execution_count": 20,
     "metadata": {},
     "output_type": "execute_result"
    }
   ],
   "source": [
    "data.shape"
   ]
  },
  {
   "cell_type": "markdown",
   "metadata": {},
   "source": [
    "**Вывод.** В целом данные в предоставленной таблице корректные, за исключением столбца 'tenure', в котором имелось 9% пропусков. Заполнили их медианным значением. Исправили названия столбцов. Преобразовали столбцы с текстовыми значениями методом прямого кодирования OHE. Удалили столбцы, которые нам не потребуются для дальнейшей работы. В результате подготовки данных мы получили таблицу с 12 столбцами и 10000 строк."
   ]
  },
  {
   "cell_type": "markdown",
   "metadata": {},
   "source": [
    "## Исследование задачи"
   ]
  },
  {
   "cell_type": "markdown",
   "metadata": {},
   "source": [
    "### Деление данных на выборки"
   ]
  },
  {
   "cell_type": "markdown",
   "metadata": {},
   "source": [
    "Разделим датафрейм на выборки. Целевой признак нам задан - факт ухода клиента (столбец 'exited'), остальные столбцы формируют переменную features - признаки.\n",
    "\n",
    "Далее разделим данные на три выборки - обучающую, валидационную и тестовую в соотношении 3:1:1. Проверим правильность деления."
   ]
  },
  {
   "cell_type": "code",
   "execution_count": 21,
   "metadata": {},
   "outputs": [],
   "source": [
    "features = data.drop(['exited'], axis=1)\n",
    "target = data['exited']"
   ]
  },
  {
   "cell_type": "code",
   "execution_count": 22,
   "metadata": {},
   "outputs": [],
   "source": [
    "features_train, features_valid, target_train, target_valid = train_test_split(\n",
    "    features, target, test_size=0.4, random_state=12345) "
   ]
  },
  {
   "cell_type": "code",
   "execution_count": 23,
   "metadata": {},
   "outputs": [],
   "source": [
    "features_valid, features_test, target_valid, target_test = train_test_split(\n",
    "    features_valid, target_valid, test_size=0.5, random_state=12345)"
   ]
  },
  {
   "cell_type": "code",
   "execution_count": 24,
   "metadata": {},
   "outputs": [
    {
     "name": "stdout",
     "output_type": "stream",
     "text": [
      "(6000, 11)\n",
      "(6000,)\n",
      "(2000, 11)\n",
      "(2000,)\n",
      "(2000, 11)\n",
      "(2000,)\n"
     ]
    }
   ],
   "source": [
    "print(features_train.shape)\n",
    "print(target_train.shape)\n",
    "print(features_valid.shape)\n",
    "print(target_valid.shape)\n",
    "print(features_test.shape)\n",
    "print(target_test.shape)"
   ]
  },
  {
   "cell_type": "markdown",
   "metadata": {},
   "source": [
    "### Масштабирование признаков"
   ]
  },
  {
   "cell_type": "markdown",
   "metadata": {},
   "source": [
    "Так как все признаки имеют одинаковую важность - их необходимо масштабировать. Масштабирование численных признаков выполним методом стандартизации данных. \n",
    "\n",
    "Сохраним численные признаки в переменной numeric и зафиксируем их."
   ]
  },
  {
   "cell_type": "code",
   "execution_count": 25,
   "metadata": {},
   "outputs": [],
   "source": [
    "numeric = ['credit_score', 'age', 'tenure', 'balance', 'estimated_salary', 'num_of_products']"
   ]
  },
  {
   "cell_type": "code",
   "execution_count": 26,
   "metadata": {},
   "outputs": [
    {
     "data": {
      "text/html": [
       "<style>#sk-container-id-1 {color: black;}#sk-container-id-1 pre{padding: 0;}#sk-container-id-1 div.sk-toggleable {background-color: white;}#sk-container-id-1 label.sk-toggleable__label {cursor: pointer;display: block;width: 100%;margin-bottom: 0;padding: 0.3em;box-sizing: border-box;text-align: center;}#sk-container-id-1 label.sk-toggleable__label-arrow:before {content: \"▸\";float: left;margin-right: 0.25em;color: #696969;}#sk-container-id-1 label.sk-toggleable__label-arrow:hover:before {color: black;}#sk-container-id-1 div.sk-estimator:hover label.sk-toggleable__label-arrow:before {color: black;}#sk-container-id-1 div.sk-toggleable__content {max-height: 0;max-width: 0;overflow: hidden;text-align: left;background-color: #f0f8ff;}#sk-container-id-1 div.sk-toggleable__content pre {margin: 0.2em;color: black;border-radius: 0.25em;background-color: #f0f8ff;}#sk-container-id-1 input.sk-toggleable__control:checked~div.sk-toggleable__content {max-height: 200px;max-width: 100%;overflow: auto;}#sk-container-id-1 input.sk-toggleable__control:checked~label.sk-toggleable__label-arrow:before {content: \"▾\";}#sk-container-id-1 div.sk-estimator input.sk-toggleable__control:checked~label.sk-toggleable__label {background-color: #d4ebff;}#sk-container-id-1 div.sk-label input.sk-toggleable__control:checked~label.sk-toggleable__label {background-color: #d4ebff;}#sk-container-id-1 input.sk-hidden--visually {border: 0;clip: rect(1px 1px 1px 1px);clip: rect(1px, 1px, 1px, 1px);height: 1px;margin: -1px;overflow: hidden;padding: 0;position: absolute;width: 1px;}#sk-container-id-1 div.sk-estimator {font-family: monospace;background-color: #f0f8ff;border: 1px dotted black;border-radius: 0.25em;box-sizing: border-box;margin-bottom: 0.5em;}#sk-container-id-1 div.sk-estimator:hover {background-color: #d4ebff;}#sk-container-id-1 div.sk-parallel-item::after {content: \"\";width: 100%;border-bottom: 1px solid gray;flex-grow: 1;}#sk-container-id-1 div.sk-label:hover label.sk-toggleable__label {background-color: #d4ebff;}#sk-container-id-1 div.sk-serial::before {content: \"\";position: absolute;border-left: 1px solid gray;box-sizing: border-box;top: 0;bottom: 0;left: 50%;z-index: 0;}#sk-container-id-1 div.sk-serial {display: flex;flex-direction: column;align-items: center;background-color: white;padding-right: 0.2em;padding-left: 0.2em;position: relative;}#sk-container-id-1 div.sk-item {position: relative;z-index: 1;}#sk-container-id-1 div.sk-parallel {display: flex;align-items: stretch;justify-content: center;background-color: white;position: relative;}#sk-container-id-1 div.sk-item::before, #sk-container-id-1 div.sk-parallel-item::before {content: \"\";position: absolute;border-left: 1px solid gray;box-sizing: border-box;top: 0;bottom: 0;left: 50%;z-index: -1;}#sk-container-id-1 div.sk-parallel-item {display: flex;flex-direction: column;z-index: 1;position: relative;background-color: white;}#sk-container-id-1 div.sk-parallel-item:first-child::after {align-self: flex-end;width: 50%;}#sk-container-id-1 div.sk-parallel-item:last-child::after {align-self: flex-start;width: 50%;}#sk-container-id-1 div.sk-parallel-item:only-child::after {width: 0;}#sk-container-id-1 div.sk-dashed-wrapped {border: 1px dashed gray;margin: 0 0.4em 0.5em 0.4em;box-sizing: border-box;padding-bottom: 0.4em;background-color: white;}#sk-container-id-1 div.sk-label label {font-family: monospace;font-weight: bold;display: inline-block;line-height: 1.2em;}#sk-container-id-1 div.sk-label-container {text-align: center;}#sk-container-id-1 div.sk-container {/* jupyter's `normalize.less` sets `[hidden] { display: none; }` but bootstrap.min.css set `[hidden] { display: none !important; }` so we also need the `!important` here to be able to override the default hidden behavior on the sphinx rendered scikit-learn.org. See: https://github.com/scikit-learn/scikit-learn/issues/21755 */display: inline-block !important;position: relative;}#sk-container-id-1 div.sk-text-repr-fallback {display: none;}</style><div id=\"sk-container-id-1\" class=\"sk-top-container\"><div class=\"sk-text-repr-fallback\"><pre>StandardScaler()</pre><b>In a Jupyter environment, please rerun this cell to show the HTML representation or trust the notebook. <br />On GitHub, the HTML representation is unable to render, please try loading this page with nbviewer.org.</b></div><div class=\"sk-container\" hidden><div class=\"sk-item\"><div class=\"sk-estimator sk-toggleable\"><input class=\"sk-toggleable__control sk-hidden--visually\" id=\"sk-estimator-id-1\" type=\"checkbox\" checked><label for=\"sk-estimator-id-1\" class=\"sk-toggleable__label sk-toggleable__label-arrow\">StandardScaler</label><div class=\"sk-toggleable__content\"><pre>StandardScaler()</pre></div></div></div></div></div>"
      ],
      "text/plain": [
       "StandardScaler()"
      ]
     },
     "execution_count": 26,
     "metadata": {},
     "output_type": "execute_result"
    }
   ],
   "source": [
    "scaler = StandardScaler()\n",
    "scaler.fit(features_train[numeric])"
   ]
  },
  {
   "cell_type": "markdown",
   "metadata": {},
   "source": [
    "Масштабируем численные признаки обучающей, а затем и валидационной и тестовой выборки."
   ]
  },
  {
   "cell_type": "code",
   "execution_count": 27,
   "metadata": {},
   "outputs": [
    {
     "data": {
      "text/html": [
       "<div>\n",
       "<style scoped>\n",
       "    .dataframe tbody tr th:only-of-type {\n",
       "        vertical-align: middle;\n",
       "    }\n",
       "\n",
       "    .dataframe tbody tr th {\n",
       "        vertical-align: top;\n",
       "    }\n",
       "\n",
       "    .dataframe thead th {\n",
       "        text-align: right;\n",
       "    }\n",
       "</style>\n",
       "<table border=\"1\" class=\"dataframe\">\n",
       "  <thead>\n",
       "    <tr style=\"text-align: right;\">\n",
       "      <th></th>\n",
       "      <th>credit_score</th>\n",
       "      <th>age</th>\n",
       "      <th>tenure</th>\n",
       "      <th>balance</th>\n",
       "      <th>num_of_products</th>\n",
       "      <th>has_cr_card</th>\n",
       "      <th>is_active_member</th>\n",
       "      <th>estimated_salary</th>\n",
       "      <th>geography_Germany</th>\n",
       "      <th>geography_Spain</th>\n",
       "      <th>gender_Male</th>\n",
       "    </tr>\n",
       "  </thead>\n",
       "  <tbody>\n",
       "    <tr>\n",
       "      <th>7479</th>\n",
       "      <td>-0.886751</td>\n",
       "      <td>-0.373192</td>\n",
       "      <td>1.082277</td>\n",
       "      <td>1.232271</td>\n",
       "      <td>-0.891560</td>\n",
       "      <td>1</td>\n",
       "      <td>0</td>\n",
       "      <td>-0.187705</td>\n",
       "      <td>0</td>\n",
       "      <td>1</td>\n",
       "      <td>1</td>\n",
       "    </tr>\n",
       "    <tr>\n",
       "      <th>3411</th>\n",
       "      <td>0.608663</td>\n",
       "      <td>-0.183385</td>\n",
       "      <td>1.082277</td>\n",
       "      <td>0.600563</td>\n",
       "      <td>-0.891560</td>\n",
       "      <td>0</td>\n",
       "      <td>0</td>\n",
       "      <td>-0.333945</td>\n",
       "      <td>0</td>\n",
       "      <td>0</td>\n",
       "      <td>0</td>\n",
       "    </tr>\n",
       "    <tr>\n",
       "      <th>6027</th>\n",
       "      <td>2.052152</td>\n",
       "      <td>0.480939</td>\n",
       "      <td>-0.737696</td>\n",
       "      <td>1.027098</td>\n",
       "      <td>0.830152</td>\n",
       "      <td>0</td>\n",
       "      <td>1</td>\n",
       "      <td>1.503095</td>\n",
       "      <td>1</td>\n",
       "      <td>0</td>\n",
       "      <td>1</td>\n",
       "    </tr>\n",
       "    <tr>\n",
       "      <th>1247</th>\n",
       "      <td>-1.457915</td>\n",
       "      <td>-1.417129</td>\n",
       "      <td>0.354288</td>\n",
       "      <td>-1.233163</td>\n",
       "      <td>0.830152</td>\n",
       "      <td>1</td>\n",
       "      <td>0</td>\n",
       "      <td>-1.071061</td>\n",
       "      <td>0</td>\n",
       "      <td>0</td>\n",
       "      <td>1</td>\n",
       "    </tr>\n",
       "    <tr>\n",
       "      <th>3716</th>\n",
       "      <td>0.130961</td>\n",
       "      <td>-1.132419</td>\n",
       "      <td>-1.101690</td>\n",
       "      <td>1.140475</td>\n",
       "      <td>-0.891560</td>\n",
       "      <td>0</td>\n",
       "      <td>0</td>\n",
       "      <td>1.524268</td>\n",
       "      <td>1</td>\n",
       "      <td>0</td>\n",
       "      <td>0</td>\n",
       "    </tr>\n",
       "  </tbody>\n",
       "</table>\n",
       "</div>"
      ],
      "text/plain": [
       "      credit_score       age    tenure   balance  num_of_products  \\\n",
       "7479     -0.886751 -0.373192  1.082277  1.232271        -0.891560   \n",
       "3411      0.608663 -0.183385  1.082277  0.600563        -0.891560   \n",
       "6027      2.052152  0.480939 -0.737696  1.027098         0.830152   \n",
       "1247     -1.457915 -1.417129  0.354288 -1.233163         0.830152   \n",
       "3716      0.130961 -1.132419 -1.101690  1.140475        -0.891560   \n",
       "\n",
       "      has_cr_card  is_active_member  estimated_salary  geography_Germany  \\\n",
       "7479            1                 0         -0.187705                  0   \n",
       "3411            0                 0         -0.333945                  0   \n",
       "6027            0                 1          1.503095                  1   \n",
       "1247            1                 0         -1.071061                  0   \n",
       "3716            0                 0          1.524268                  1   \n",
       "\n",
       "      geography_Spain  gender_Male  \n",
       "7479                1            1  \n",
       "3411                0            0  \n",
       "6027                0            1  \n",
       "1247                0            1  \n",
       "3716                0            0  "
      ]
     },
     "execution_count": 27,
     "metadata": {},
     "output_type": "execute_result"
    }
   ],
   "source": [
    "pd.options.mode.chained_assignment = None\n",
    "features_train[numeric] = scaler.transform(features_train[numeric])\n",
    "features_train.head()"
   ]
  },
  {
   "cell_type": "code",
   "execution_count": 28,
   "metadata": {},
   "outputs": [
    {
     "data": {
      "text/html": [
       "<div>\n",
       "<style scoped>\n",
       "    .dataframe tbody tr th:only-of-type {\n",
       "        vertical-align: middle;\n",
       "    }\n",
       "\n",
       "    .dataframe tbody tr th {\n",
       "        vertical-align: top;\n",
       "    }\n",
       "\n",
       "    .dataframe thead th {\n",
       "        text-align: right;\n",
       "    }\n",
       "</style>\n",
       "<table border=\"1\" class=\"dataframe\">\n",
       "  <thead>\n",
       "    <tr style=\"text-align: right;\">\n",
       "      <th></th>\n",
       "      <th>credit_score</th>\n",
       "      <th>age</th>\n",
       "      <th>tenure</th>\n",
       "      <th>balance</th>\n",
       "      <th>num_of_products</th>\n",
       "      <th>has_cr_card</th>\n",
       "      <th>is_active_member</th>\n",
       "      <th>estimated_salary</th>\n",
       "      <th>geography_Germany</th>\n",
       "      <th>geography_Spain</th>\n",
       "      <th>gender_Male</th>\n",
       "    </tr>\n",
       "  </thead>\n",
       "  <tbody>\n",
       "    <tr>\n",
       "      <th>8532</th>\n",
       "      <td>-0.699824</td>\n",
       "      <td>-0.373192</td>\n",
       "      <td>-1.101690</td>\n",
       "      <td>-1.233163</td>\n",
       "      <td>0.830152</td>\n",
       "      <td>1</td>\n",
       "      <td>0</td>\n",
       "      <td>-0.015173</td>\n",
       "      <td>0</td>\n",
       "      <td>0</td>\n",
       "      <td>0</td>\n",
       "    </tr>\n",
       "    <tr>\n",
       "      <th>5799</th>\n",
       "      <td>-0.284431</td>\n",
       "      <td>0.575842</td>\n",
       "      <td>-0.737696</td>\n",
       "      <td>-1.233163</td>\n",
       "      <td>-0.891560</td>\n",
       "      <td>1</td>\n",
       "      <td>1</td>\n",
       "      <td>1.471724</td>\n",
       "      <td>0</td>\n",
       "      <td>0</td>\n",
       "      <td>0</td>\n",
       "    </tr>\n",
       "    <tr>\n",
       "      <th>5511</th>\n",
       "      <td>0.151731</td>\n",
       "      <td>-0.657902</td>\n",
       "      <td>-1.829679</td>\n",
       "      <td>0.438711</td>\n",
       "      <td>-0.891560</td>\n",
       "      <td>1</td>\n",
       "      <td>0</td>\n",
       "      <td>-1.367107</td>\n",
       "      <td>1</td>\n",
       "      <td>0</td>\n",
       "      <td>1</td>\n",
       "    </tr>\n",
       "    <tr>\n",
       "      <th>7365</th>\n",
       "      <td>-0.876366</td>\n",
       "      <td>-0.278288</td>\n",
       "      <td>1.810266</td>\n",
       "      <td>1.239884</td>\n",
       "      <td>-0.891560</td>\n",
       "      <td>1</td>\n",
       "      <td>1</td>\n",
       "      <td>-0.786517</td>\n",
       "      <td>0</td>\n",
       "      <td>1</td>\n",
       "      <td>0</td>\n",
       "    </tr>\n",
       "    <tr>\n",
       "      <th>7367</th>\n",
       "      <td>-0.481743</td>\n",
       "      <td>0.291132</td>\n",
       "      <td>1.810266</td>\n",
       "      <td>-1.233163</td>\n",
       "      <td>0.830152</td>\n",
       "      <td>1</td>\n",
       "      <td>0</td>\n",
       "      <td>1.358533</td>\n",
       "      <td>0</td>\n",
       "      <td>1</td>\n",
       "      <td>1</td>\n",
       "    </tr>\n",
       "  </tbody>\n",
       "</table>\n",
       "</div>"
      ],
      "text/plain": [
       "      credit_score       age    tenure   balance  num_of_products  \\\n",
       "8532     -0.699824 -0.373192 -1.101690 -1.233163         0.830152   \n",
       "5799     -0.284431  0.575842 -0.737696 -1.233163        -0.891560   \n",
       "5511      0.151731 -0.657902 -1.829679  0.438711        -0.891560   \n",
       "7365     -0.876366 -0.278288  1.810266  1.239884        -0.891560   \n",
       "7367     -0.481743  0.291132  1.810266 -1.233163         0.830152   \n",
       "\n",
       "      has_cr_card  is_active_member  estimated_salary  geography_Germany  \\\n",
       "8532            1                 0         -0.015173                  0   \n",
       "5799            1                 1          1.471724                  0   \n",
       "5511            1                 0         -1.367107                  1   \n",
       "7365            1                 1         -0.786517                  0   \n",
       "7367            1                 0          1.358533                  0   \n",
       "\n",
       "      geography_Spain  gender_Male  \n",
       "8532                0            0  \n",
       "5799                0            0  \n",
       "5511                0            1  \n",
       "7365                1            0  \n",
       "7367                1            1  "
      ]
     },
     "execution_count": 28,
     "metadata": {},
     "output_type": "execute_result"
    }
   ],
   "source": [
    "features_valid[numeric] = scaler.transform(features_valid[numeric])\n",
    "features_valid.head()"
   ]
  },
  {
   "cell_type": "code",
   "execution_count": 29,
   "metadata": {},
   "outputs": [
    {
     "data": {
      "text/html": [
       "<div>\n",
       "<style scoped>\n",
       "    .dataframe tbody tr th:only-of-type {\n",
       "        vertical-align: middle;\n",
       "    }\n",
       "\n",
       "    .dataframe tbody tr th {\n",
       "        vertical-align: top;\n",
       "    }\n",
       "\n",
       "    .dataframe thead th {\n",
       "        text-align: right;\n",
       "    }\n",
       "</style>\n",
       "<table border=\"1\" class=\"dataframe\">\n",
       "  <thead>\n",
       "    <tr style=\"text-align: right;\">\n",
       "      <th></th>\n",
       "      <th>credit_score</th>\n",
       "      <th>age</th>\n",
       "      <th>tenure</th>\n",
       "      <th>balance</th>\n",
       "      <th>num_of_products</th>\n",
       "      <th>has_cr_card</th>\n",
       "      <th>is_active_member</th>\n",
       "      <th>estimated_salary</th>\n",
       "      <th>geography_Germany</th>\n",
       "      <th>geography_Spain</th>\n",
       "      <th>gender_Male</th>\n",
       "    </tr>\n",
       "  </thead>\n",
       "  <tbody>\n",
       "    <tr>\n",
       "      <th>7041</th>\n",
       "      <td>-2.226392</td>\n",
       "      <td>-0.088482</td>\n",
       "      <td>-1.101690</td>\n",
       "      <td>-1.233163</td>\n",
       "      <td>0.830152</td>\n",
       "      <td>1</td>\n",
       "      <td>0</td>\n",
       "      <td>0.647083</td>\n",
       "      <td>0</td>\n",
       "      <td>0</td>\n",
       "      <td>1</td>\n",
       "    </tr>\n",
       "    <tr>\n",
       "      <th>5709</th>\n",
       "      <td>-0.087120</td>\n",
       "      <td>0.006422</td>\n",
       "      <td>1.446272</td>\n",
       "      <td>-1.233163</td>\n",
       "      <td>-0.891560</td>\n",
       "      <td>1</td>\n",
       "      <td>0</td>\n",
       "      <td>-1.658410</td>\n",
       "      <td>0</td>\n",
       "      <td>0</td>\n",
       "      <td>0</td>\n",
       "    </tr>\n",
       "    <tr>\n",
       "      <th>7117</th>\n",
       "      <td>-0.917905</td>\n",
       "      <td>-0.752805</td>\n",
       "      <td>-0.009707</td>\n",
       "      <td>0.722307</td>\n",
       "      <td>-0.891560</td>\n",
       "      <td>1</td>\n",
       "      <td>1</td>\n",
       "      <td>-1.369334</td>\n",
       "      <td>0</td>\n",
       "      <td>1</td>\n",
       "      <td>1</td>\n",
       "    </tr>\n",
       "    <tr>\n",
       "      <th>7775</th>\n",
       "      <td>-0.253277</td>\n",
       "      <td>0.101325</td>\n",
       "      <td>1.810266</td>\n",
       "      <td>-1.233163</td>\n",
       "      <td>0.830152</td>\n",
       "      <td>1</td>\n",
       "      <td>0</td>\n",
       "      <td>0.075086</td>\n",
       "      <td>0</td>\n",
       "      <td>1</td>\n",
       "      <td>1</td>\n",
       "    </tr>\n",
       "    <tr>\n",
       "      <th>8735</th>\n",
       "      <td>0.785204</td>\n",
       "      <td>-0.847708</td>\n",
       "      <td>1.810266</td>\n",
       "      <td>0.615625</td>\n",
       "      <td>-0.891560</td>\n",
       "      <td>0</td>\n",
       "      <td>1</td>\n",
       "      <td>-1.070919</td>\n",
       "      <td>0</td>\n",
       "      <td>0</td>\n",
       "      <td>1</td>\n",
       "    </tr>\n",
       "  </tbody>\n",
       "</table>\n",
       "</div>"
      ],
      "text/plain": [
       "      credit_score       age    tenure   balance  num_of_products  \\\n",
       "7041     -2.226392 -0.088482 -1.101690 -1.233163         0.830152   \n",
       "5709     -0.087120  0.006422  1.446272 -1.233163        -0.891560   \n",
       "7117     -0.917905 -0.752805 -0.009707  0.722307        -0.891560   \n",
       "7775     -0.253277  0.101325  1.810266 -1.233163         0.830152   \n",
       "8735      0.785204 -0.847708  1.810266  0.615625        -0.891560   \n",
       "\n",
       "      has_cr_card  is_active_member  estimated_salary  geography_Germany  \\\n",
       "7041            1                 0          0.647083                  0   \n",
       "5709            1                 0         -1.658410                  0   \n",
       "7117            1                 1         -1.369334                  0   \n",
       "7775            1                 0          0.075086                  0   \n",
       "8735            0                 1         -1.070919                  0   \n",
       "\n",
       "      geography_Spain  gender_Male  \n",
       "7041                0            1  \n",
       "5709                0            0  \n",
       "7117                1            1  \n",
       "7775                1            1  \n",
       "8735                0            1  "
      ]
     },
     "execution_count": 29,
     "metadata": {},
     "output_type": "execute_result"
    }
   ],
   "source": [
    "features_test[numeric] = scaler.transform(features_test[numeric])\n",
    "features_test.head()"
   ]
  },
  {
   "cell_type": "markdown",
   "metadata": {},
   "source": [
    "### Исследуем модели машинного обучения"
   ]
  },
  {
   "cell_type": "markdown",
   "metadata": {},
   "source": [
    "Модель Дерево решений."
   ]
  },
  {
   "cell_type": "code",
   "execution_count": 30,
   "metadata": {},
   "outputs": [
    {
     "name": "stdout",
     "output_type": "stream",
     "text": [
      "max_depth = 1 : 0.791\n",
      "F1: 0.0\n",
      "max_depth = 2 : 0.824\n",
      "F1: 0.5217391304347825\n",
      "max_depth = 3 : 0.838\n",
      "F1: 0.4234875444839857\n",
      "max_depth = 4 : 0.852\n",
      "F1: 0.5528700906344411\n",
      "max_depth = 5 : 0.853\n",
      "F1: 0.5406249999999999\n",
      "max_depth = 6 : 0.858\n",
      "F1: 0.5696969696969697\n",
      "max_depth = 7 : 0.8505\n",
      "F1: 0.5320813771517998\n",
      "max_depth = 8 : 0.85\n",
      "F1: 0.5454545454545454\n",
      "max_depth = 9 : 0.845\n",
      "F1: 0.5633802816901409\n",
      "max_depth = 10 : 0.8355\n",
      "F1: 0.5385694249649369\n"
     ]
    }
   ],
   "source": [
    "for depth in range(1, 11):\n",
    "    model = model = DecisionTreeClassifier(max_depth=depth, random_state=12345)\n",
    "    model.fit(features_train, target_train)\n",
    "    predictions_valid = model.predict(features_valid)\n",
    "    \n",
    "    print(\"max_depth =\", depth, \": \", end='')\n",
    "    print(accuracy_score(target_valid, predictions_valid))\n",
    "    print(\"F1:\", f1_score(target_valid, predictions_valid))"
   ]
  },
  {
   "cell_type": "markdown",
   "metadata": {},
   "source": [
    "Максимальное значение accuracy - 0.858 и F1-меры - 0.5696969696969697 достигнуты при глубине дерева равном 6."
   ]
  },
  {
   "cell_type": "markdown",
   "metadata": {},
   "source": [
    "Модель Случайный лес."
   ]
  },
  {
   "cell_type": "code",
   "execution_count": 31,
   "metadata": {},
   "outputs": [
    {
     "name": "stdout",
     "output_type": "stream",
     "text": [
      "Accuracy наилучшей модели на валидационной выборке: 0.8615 при 72 деревьях в лесу\n",
      "F1-мера наилучшей модели: 0.5871833084947838\n"
     ]
    }
   ],
   "source": [
    "best_model = None\n",
    "best_est = 0\n",
    "best_result = 0\n",
    "for est in range(1, 100):\n",
    "    model = RandomForestClassifier(random_state=12345, n_estimators=est)\n",
    "    model.fit(features_train, target_train)\n",
    "    result = model.score(features_valid, target_valid)\n",
    "    predicted_valid = model.predict(features_valid)\n",
    "    if result > best_result:\n",
    "        best_est = est\n",
    "        best_result = result\n",
    "        best_predicted_valid = predicted_valid\n",
    "\n",
    "print(\"Accuracy наилучшей модели на валидационной выборке:\", best_result, 'при', best_est, 'деревьях в лесу')\n",
    "print(\"F1-мера наилучшей модели:\", f1_score(target_valid, best_predicted_valid))"
   ]
  },
  {
   "cell_type": "markdown",
   "metadata": {},
   "source": [
    "Модель Логистическая регрессия."
   ]
  },
  {
   "cell_type": "code",
   "execution_count": 32,
   "metadata": {},
   "outputs": [
    {
     "name": "stdout",
     "output_type": "stream",
     "text": [
      "Accuracy: 0.802\n",
      "F1: 0.33108108108108103\n"
     ]
    }
   ],
   "source": [
    "model = LogisticRegression(random_state=12345, solver='lbfgs', max_iter=1000)\n",
    "model.fit(features_train, target_train)\n",
    "\n",
    "prediction_valid = model.predict(features_valid)\n",
    "result = accuracy_score(prediction_valid, target_valid)\n",
    "\n",
    "print('Accuracy:', result)\n",
    "print(\"F1:\", f1_score(target_valid, prediction_valid))"
   ]
  },
  {
   "cell_type": "markdown",
   "metadata": {},
   "source": [
    "Метрика accuracy показала следующие значения: модель Дерево решений - 0.858, модель Случайный лес - 0.8615, модель Логистическая регрессия - 0.802."
   ]
  },
  {
   "cell_type": "markdown",
   "metadata": {},
   "source": [
    "### Исследуем баланс классов"
   ]
  },
  {
   "cell_type": "code",
   "execution_count": 33,
   "metadata": {},
   "outputs": [
    {
     "data": {
      "text/plain": [
       "0    0.800667\n",
       "1    0.199333\n",
       "Name: exited, dtype: float64"
      ]
     },
     "execution_count": 33,
     "metadata": {},
     "output_type": "execute_result"
    }
   ],
   "source": [
    "target_train.value_counts(normalize=1)"
   ]
  },
  {
   "cell_type": "code",
   "execution_count": 34,
   "metadata": {},
   "outputs": [
    {
     "data": {
      "image/png": "[encoded data removed]",
      "text/plain": [
       "<Figure size 640x480 with 1 Axes>"
      ]
     },
     "metadata": {},
     "output_type": "display_data"
    }
   ],
   "source": [
    "target_train.plot(kind='hist', bins=3);"
   ]
  },
  {
   "cell_type": "markdown",
   "metadata": {},
   "source": [
    "Исследование показало, что класс \"0\" встречается ≈80% случаев, а \"1\" ≈20%. Налицо дисбаланс классов."
   ]
  },
  {
   "cell_type": "markdown",
   "metadata": {},
   "source": [
    "### Проверка моделей на адекватность"
   ]
  },
  {
   "cell_type": "markdown",
   "metadata": {},
   "source": [
    "Проверим соотношение классов в каждой модели."
   ]
  },
  {
   "cell_type": "code",
   "execution_count": 35,
   "metadata": {},
   "outputs": [
    {
     "name": "stdout",
     "output_type": "stream",
     "text": [
      "Доли классов в моделях - Дерево решений: 0    0.7955\n",
      "1    0.2045\n",
      "dtype: float64 Случайный лес 0    0.8745\n",
      "1    0.1255\n",
      "dtype: float64 Логистическая регрессия 0    0.913\n",
      "1    0.087\n",
      "dtype: float64\n"
     ]
    }
   ],
   "source": [
    "model_1 = DecisionTreeClassifier(random_state=12345)\n",
    "model_1.fit(features_train, target_train)\n",
    "predicted_valid_1 = pd.Series(model_1.predict(features_valid)).value_counts(normalize = 1)\n",
    "\n",
    "model_2 = RandomForestClassifier(random_state=12345)\n",
    "model_2.fit(features_train, target_train)\n",
    "predicted_valid_2 = pd.Series(model_2.predict(features_valid)).value_counts(normalize = 1)\n",
    "\n",
    "model_3 = LogisticRegression(random_state=12345, solver='lbfgs', max_iter=1000)\n",
    "model_3.fit(features_train, target_train)\n",
    "predicted_valid_3 = pd.Series(model_3.predict(features_valid)).value_counts(normalize = 1)\n",
    "\n",
    "print('Доли классов в моделях -', 'Дерево решений:', predicted_valid_1, 'Случайный лес', predicted_valid_2, 'Логистическая регрессия', predicted_valid_3)"
   ]
  },
  {
   "cell_type": "markdown",
   "metadata": {},
   "source": [
    "Наиболее точна оказалась модель Модель Дерево, затем модель Случайный лес, модель Логистическая регрессия наименее точная."
   ]
  },
  {
   "cell_type": "markdown",
   "metadata": {},
   "source": [
    "Рассчитаем матрицу ошибок для каждой модели, а также полноту, точность, F1-меру и AUC-ROC, построим график ROC-кривой."
   ]
  },
  {
   "cell_type": "markdown",
   "metadata": {},
   "source": [
    "**Модель Дерево решений**"
   ]
  },
  {
   "cell_type": "code",
   "execution_count": 36,
   "metadata": {},
   "outputs": [
    {
     "data": {
      "text/plain": [
       "array([[1528,   54],\n",
       "       [ 230,  188]], dtype=int64)"
      ]
     },
     "execution_count": 36,
     "metadata": {},
     "output_type": "execute_result"
    }
   ],
   "source": [
    "model_1 = DecisionTreeClassifier(max_depth=6, random_state=12345)\n",
    "model_1.fit(features_train, target_train)\n",
    "predicted_valid_1 = pd.Series(model_1.predict(features_valid))\n",
    "confusion_matrix(target_valid, predicted_valid_1)"
   ]
  },
  {
   "cell_type": "code",
   "execution_count": 37,
   "metadata": {},
   "outputs": [
    {
     "name": "stdout",
     "output_type": "stream",
     "text": [
      "Полнота 0.44976076555023925\n",
      "Точность 0.7768595041322314\n",
      "F1-мера 0.5696969696969697\n"
     ]
    }
   ],
   "source": [
    "print(\"Полнота\" , recall_score(target_valid, predicted_valid_1))\n",
    "print(\"Точность\", precision_score(target_valid, predicted_valid_1))\n",
    "print(\"F1-мера\", f1_score(target_valid, predicted_valid_1))"
   ]
  },
  {
   "cell_type": "code",
   "execution_count": 38,
   "metadata": {},
   "outputs": [
    {
     "data": {
      "text/plain": [
       "0.8164631712023421"
      ]
     },
     "execution_count": 38,
     "metadata": {},
     "output_type": "execute_result"
    }
   ],
   "source": [
    "model_1_valid = model_1.predict_proba(features_valid)[:, 1]\n",
    "auc_roc_1 = roc_auc_score(target_valid, model_1_valid)\n",
    "\n",
    "auc_roc_1"
   ]
  },
  {
   "cell_type": "code",
   "execution_count": 39,
   "metadata": {},
   "outputs": [
    {
     "data": {
      "image/png": "[encoded data removed]",
      "text/plain": [
       "<Figure size 640x480 with 1 Axes>"
      ]
     },
     "metadata": {},
     "output_type": "display_data"
    }
   ],
   "source": [
    "fpr, tpr, thresholds = roc_curve(target_valid, model_1_valid)\n",
    "plt.plot(fpr, tpr, color='red', label='ROC')\n",
    "plt.plot([0, 1], [0, 1], color='green', linestyle='--')\n",
    "plt.xlim([0.0, 1.0])\n",
    "plt.ylim([0.0, 1.0])\n",
    "plt.xlabel('False Positive Rate')\n",
    "plt.ylabel('True Positive Rate')\n",
    "plt.title('ROC-кривая')\n",
    "plt.legend()\n",
    "plt.show()"
   ]
  },
  {
   "cell_type": "markdown",
   "metadata": {},
   "source": [
    "Матрица ошибок Дерева решений склонна выдавать ложнонегативные предсказания. Полнота низкая, точность тоже невысокая, F1_мера тоже низкая."
   ]
  },
  {
   "cell_type": "markdown",
   "metadata": {},
   "source": [
    "**Модель Случайный лес**"
   ]
  },
  {
   "cell_type": "code",
   "execution_count": 40,
   "metadata": {},
   "outputs": [
    {
     "data": {
      "text/plain": [
       "array([[1524,   58],\n",
       "       [ 225,  193]], dtype=int64)"
      ]
     },
     "execution_count": 40,
     "metadata": {},
     "output_type": "execute_result"
    }
   ],
   "source": [
    "model_2 = RandomForestClassifier(random_state=12345)\n",
    "model_2.fit(features_train, target_train)\n",
    "predicted_valid_2 = pd.Series(model_2.predict(features_valid))\n",
    "confusion_matrix(target_valid, predicted_valid_2)"
   ]
  },
  {
   "cell_type": "code",
   "execution_count": 41,
   "metadata": {},
   "outputs": [
    {
     "name": "stdout",
     "output_type": "stream",
     "text": [
      "Полнота 0.46172248803827753\n",
      "Точность 0.7689243027888446\n",
      "F1-мера 0.5769805680119582\n"
     ]
    }
   ],
   "source": [
    "print(\"Полнота\" , recall_score(target_valid, predicted_valid_2))\n",
    "print(\"Точность\", precision_score(target_valid, predicted_valid_2))\n",
    "print(\"F1-мера\", f1_score(target_valid, predicted_valid_2))"
   ]
  },
  {
   "cell_type": "code",
   "execution_count": 42,
   "metadata": {},
   "outputs": [
    {
     "data": {
      "text/plain": [
       "0.840733672475638"
      ]
     },
     "execution_count": 42,
     "metadata": {},
     "output_type": "execute_result"
    }
   ],
   "source": [
    "model_2_valid = model_2.predict_proba(features_valid)[:, 1]\n",
    "auc_roc_2 = roc_auc_score(target_valid, model_2_valid)\n",
    "\n",
    "auc_roc_2"
   ]
  },
  {
   "cell_type": "code",
   "execution_count": 43,
   "metadata": {},
   "outputs": [
    {
     "data": {
      "image/png": "[encoded data removed]",
      "text/plain": [
       "<Figure size 640x480 with 1 Axes>"
      ]
     },
     "metadata": {},
     "output_type": "display_data"
    }
   ],
   "source": [
    "fpr, tpr, thresholds = roc_curve(target_valid, model_2_valid)\n",
    "plt.plot(fpr, tpr, color='red', label='ROC')\n",
    "plt.plot([0, 1], [0, 1], color='green', linestyle='--')\n",
    "plt.xlim([0.0, 1.0])\n",
    "plt.ylim([0.0, 1.0])\n",
    "plt.xlabel('False Positive Rate')\n",
    "plt.ylabel('True Positive Rate')\n",
    "plt.title('ROC-кривая')\n",
    "plt.legend()\n",
    "plt.show()"
   ]
  },
  {
   "cell_type": "markdown",
   "metadata": {},
   "source": [
    "Случайный лес показал почти такие же показания как и Дерево решений. Качество и точность низкие."
   ]
  },
  {
   "cell_type": "markdown",
   "metadata": {},
   "source": [
    "**Модель Логистическая регрессия**"
   ]
  },
  {
   "cell_type": "code",
   "execution_count": 44,
   "metadata": {},
   "outputs": [
    {
     "data": {
      "text/plain": [
       "array([[1506,   76],\n",
       "       [ 320,   98]], dtype=int64)"
      ]
     },
     "execution_count": 44,
     "metadata": {},
     "output_type": "execute_result"
    }
   ],
   "source": [
    "model_3 = LogisticRegression(random_state=12345, solver='lbfgs', max_iter=1000)\n",
    "model_3.fit(features_train, target_train)\n",
    "predicted_valid_3 = pd.Series(model_3.predict(features_valid))\n",
    "confusion_matrix(target_valid, predicted_valid_3)"
   ]
  },
  {
   "cell_type": "code",
   "execution_count": 45,
   "metadata": {},
   "outputs": [
    {
     "name": "stdout",
     "output_type": "stream",
     "text": [
      "Полнота 0.23444976076555024\n",
      "Точность 0.5632183908045977\n",
      "F1-мера 0.33108108108108103\n"
     ]
    }
   ],
   "source": [
    "print(\"Полнота\" , recall_score(target_valid, predicted_valid_3))\n",
    "print(\"Точность\", precision_score(target_valid, predicted_valid_3))\n",
    "print(\"F1-мера\", f1_score(target_valid, predicted_valid_3))"
   ]
  },
  {
   "cell_type": "code",
   "execution_count": 46,
   "metadata": {},
   "outputs": [
    {
     "data": {
      "text/plain": [
       "0.7588026784580114"
      ]
     },
     "execution_count": 46,
     "metadata": {},
     "output_type": "execute_result"
    }
   ],
   "source": [
    "model_3_valid = model_3.predict_proba(features_valid)[:, 1]\n",
    "auc_roc_3 = roc_auc_score(target_valid, model_3_valid)\n",
    "\n",
    "auc_roc_3"
   ]
  },
  {
   "cell_type": "code",
   "execution_count": 47,
   "metadata": {},
   "outputs": [
    {
     "data": {
      "image/png": "[encoded data removed]",
      "text/plain": [
       "<Figure size 640x480 with 1 Axes>"
      ]
     },
     "metadata": {},
     "output_type": "display_data"
    }
   ],
   "source": [
    "fpr, tpr, thresholds = roc_curve(target_valid, model_3_valid)\n",
    "plt.plot(fpr, tpr, color='red', label='ROC')\n",
    "plt.plot([0, 1], [0, 1], color='green', linestyle='--')\n",
    "plt.xlim([0.0, 1.0])\n",
    "plt.ylim([0.0, 1.0])\n",
    "plt.xlabel('False Positive Rate')\n",
    "plt.ylabel('True Positive Rate')\n",
    "plt.title('ROC-кривая')\n",
    "plt.legend()\n",
    "plt.show()"
   ]
  },
  {
   "cell_type": "markdown",
   "metadata": {},
   "source": [
    "Матрица Логистической регрессии склонна показывать ложнонегативные результаты. Полнота очень низкая, низкая точность, поэтому самое низкое значение F1-меры среди трёх моделей."
   ]
  },
  {
   "cell_type": "markdown",
   "metadata": {},
   "source": [
    "## Борьба с дисбалансом"
   ]
  },
  {
   "cell_type": "markdown",
   "metadata": {},
   "source": [
    "### Преобразование выборки.\n",
    "Так как положительных значений у нас приблизительно в 4 раза меньше отрицательных, для устранения дисбаланса нам нужно либо в 4  раза увеличить класс \"1\" или в 4 раза уменьшить класс \"0\".\n",
    "\n",
    "Протестируем оба варианта.\n",
    "\n",
    "Сначала применим технику downsampling - уменьшим выборку.\n",
    "\n",
    "Для этого сделаем преобразование в несколько этапов:\n",
    "- разделим обучающую выборку на отрицательные и положительные объекты;\n",
    "- случайным образом отбросим часть из отрицательных объектов;\n",
    "- с учётом полученных данных создадим новую обучающую выборку;\n",
    "- перемешаем данные: положительные не должны идти следом за отрицательными - алгоритмам будет сложнее обучаться."
   ]
  },
  {
   "cell_type": "markdown",
   "metadata": {},
   "source": [
    "Напишем функцию, в которой разделим обучающую выборку на отрицательные и положительные объекты. С помощью операции downsampling уменьшим выборку, отбросив случайным образом три четверти отрицательных объектов. Перемешаем данные и создадим новую обучающую выборку."
   ]
  },
  {
   "cell_type": "code",
   "execution_count": 48,
   "metadata": {},
   "outputs": [
    {
     "name": "stdout",
     "output_type": "stream",
     "text": [
      "(2397, 11)\n",
      "(2397,)\n"
     ]
    }
   ],
   "source": [
    "def downsample(features, target, fraction):\n",
    "    features_zeros = features_train[target == 0]\n",
    "    features_ones = features_train[target == 1]\n",
    "    target_zeros = target_train[target == 0]\n",
    "    target_ones = target_train[target == 1]\n",
    "    features_downsampled = pd.concat([features_zeros.sample(frac=fraction, random_state=12345)] + [features_ones])\n",
    "    target_downsampled = pd.concat([target_zeros.sample(frac=fraction, random_state=12345)] + [target_ones])\n",
    "    features_downsampled, target_downsampled = shuffle(features_downsampled, target_downsampled, random_state=12345)\n",
    "\n",
    "    return features_downsampled, target_downsampled\n",
    "\n",
    "features_downsampled, target_downsampled = downsample(features_train, target_train, 0.25)\n",
    "\n",
    "print(features_downsampled.shape)\n",
    "print(target_downsampled.shape)\n"
   ]
  },
  {
   "cell_type": "code",
   "execution_count": 49,
   "metadata": {},
   "outputs": [
    {
     "data": {
      "text/plain": [
       "0    0.501043\n",
       "1    0.498957\n",
       "Name: exited, dtype: float64"
      ]
     },
     "execution_count": 49,
     "metadata": {},
     "output_type": "execute_result"
    }
   ],
   "source": [
    "target_downsampled.value_counts(normalize=1)"
   ]
  },
  {
   "cell_type": "code",
   "execution_count": 50,
   "metadata": {},
   "outputs": [
    {
     "data": {
      "image/png": "[encoded data removed]",
      "text/plain": [
       "<Figure size 640x480 with 1 Axes>"
      ]
     },
     "metadata": {},
     "output_type": "display_data"
    }
   ],
   "source": [
    "target_downsampled.plot(kind='hist', bins=3);"
   ]
  },
  {
   "cell_type": "markdown",
   "metadata": {},
   "source": [
    "Теперь применим технику upsampling. \n",
    "\n",
    "Для этого сделаем преобразование в несколько этапов:\n",
    "\n",
    "- разделим обучающую выборку на отрицательные и положительные объекты;\n",
    "- скопируем несколько раз положительные объекты;\n",
    "- с учётом полученных данных создадим новую обучающую выборку;\n",
    "- перемешаем данные: идущие друг за другом одинаковые вопросы не помогут обучению.\n",
    "\n",
    "Напишем функцию, в которой разделим обучающую выборку на отрицательные и положительные объекты. Продублируем объекты положительного класса и объедините их с объектами отрицательного класса с помощью функции pd.concat() и получим новую обучающую выборку. Перемешаем данные."
   ]
  },
  {
   "cell_type": "code",
   "execution_count": 51,
   "metadata": {},
   "outputs": [
    {
     "name": "stdout",
     "output_type": "stream",
     "text": [
      "(9588, 11)\n",
      "(9588,)\n"
     ]
    }
   ],
   "source": [
    "def upsample(features, target, repeat):\n",
    "    features_zeros = features[target == 0]\n",
    "    features_ones = features[target == 1]\n",
    "    target_zeros = target[target == 0]\n",
    "    target_ones = target[target == 1]\n",
    "    repeat = 4\n",
    "    features_upsampled = pd.concat([features_zeros] + [features_ones] * repeat)\n",
    "    target_upsampled = pd.concat([target_zeros] + [target_ones] * repeat)\n",
    "    return shuffle(features_upsampled, target_upsampled, random_state=12345) \n",
    "\n",
    "features_upsampled, target_upsampled = upsample(features_train, target_train, 4)\n",
    "\n",
    "print(features_upsampled.shape)\n",
    "print(target_upsampled.shape)\n"
   ]
  },
  {
   "cell_type": "code",
   "execution_count": 52,
   "metadata": {},
   "outputs": [
    {
     "data": {
      "text/plain": [
       "0    0.501043\n",
       "1    0.498957\n",
       "Name: exited, dtype: float64"
      ]
     },
     "execution_count": 52,
     "metadata": {},
     "output_type": "execute_result"
    }
   ],
   "source": [
    "target_upsampled.value_counts(normalize=1)"
   ]
  },
  {
   "cell_type": "code",
   "execution_count": 53,
   "metadata": {},
   "outputs": [
    {
     "data": {
      "image/png": "[encoded data removed]",
      "text/plain": [
       "<Figure size 640x480 with 1 Axes>"
      ]
     },
     "metadata": {},
     "output_type": "display_data"
    }
   ],
   "source": [
    "target_upsampled.plot(kind='hist', bins=3);"
   ]
  },
  {
   "cell_type": "markdown",
   "metadata": {},
   "source": [
    "Видно, что оба метода создали выборки с одинаковой пропорцией классов. Классы имеют практически равные доли. Но так как увеличенная выборка содержит больше объектов, то для обучения модели лучше применить её."
   ]
  },
  {
   "cell_type": "markdown",
   "metadata": {},
   "source": [
    "### Обучение моделей на новых данных."
   ]
  },
  {
   "cell_type": "markdown",
   "metadata": {},
   "source": [
    "Дерево решений"
   ]
  },
  {
   "cell_type": "code",
   "execution_count": 54,
   "metadata": {},
   "outputs": [
    {
     "name": "stdout",
     "output_type": "stream",
     "text": [
      "Полнота 0.7057416267942583\n",
      "Точность 0.4616588419405321\n",
      "F1: 0.5581835383159887\n"
     ]
    }
   ],
   "source": [
    "model_1 = DecisionTreeClassifier(max_depth=6, random_state=12345)\n",
    "model_1.fit(features_upsampled, target_upsampled)\n",
    "predicted_valid_1 = model_1.predict(features_valid)\n",
    "\n",
    "print(\"Полнота\" , recall_score(target_valid, predicted_valid_1))\n",
    "print(\"Точность\", precision_score(target_valid, predicted_valid_1))\n",
    "print(\"F1:\", f1_score(target_valid, predicted_valid_1))"
   ]
  },
  {
   "cell_type": "code",
   "execution_count": 55,
   "metadata": {
    "scrolled": true
   },
   "outputs": [
    {
     "data": {
      "text/plain": [
       "0.7999473744699641"
      ]
     },
     "execution_count": 55,
     "metadata": {},
     "output_type": "execute_result"
    }
   ],
   "source": [
    "model_1_valid = model_1.predict_proba(features_valid)[:, 1]\n",
    "auc_roc_1 = roc_auc_score(target_valid, model_1_valid)\n",
    "\n",
    "auc_roc_1"
   ]
  },
  {
   "cell_type": "code",
   "execution_count": 56,
   "metadata": {},
   "outputs": [
    {
     "data": {
      "image/png": "[encoded data removed]",
      "text/plain": [
       "<Figure size 640x480 with 1 Axes>"
      ]
     },
     "metadata": {},
     "output_type": "display_data"
    }
   ],
   "source": [
    "fpr, tpr, thresholds = roc_curve(target_valid, model_1_valid)\n",
    "plt.plot(fpr, tpr, color='red', label='ROC')\n",
    "plt.plot([0, 1], [0, 1], color='green', linestyle='--')\n",
    "plt.xlim([0.0, 1.0])\n",
    "plt.ylim([0.0, 1.0])\n",
    "plt.xlabel('False Positive Rate')\n",
    "plt.ylabel('True Positive Rate')\n",
    "plt.title('ROC-кривая')\n",
    "plt.legend()\n",
    "plt.show()"
   ]
  },
  {
   "cell_type": "markdown",
   "metadata": {},
   "source": [
    "Случайный лес"
   ]
  },
  {
   "cell_type": "code",
   "execution_count": 57,
   "metadata": {},
   "outputs": [
    {
     "name": "stdout",
     "output_type": "stream",
     "text": [
      "Полнота 0.5502392344497608\n",
      "Точность 0.6804733727810651\n",
      "F1: 0.6084656084656085\n"
     ]
    }
   ],
   "source": [
    "model_2 = RandomForestClassifier(random_state=12345)\n",
    "model_2.fit(features_upsampled, target_upsampled)\n",
    "predicted_valid_2 = model_2.predict(features_valid)\n",
    "\n",
    "print(\"Полнота\" , recall_score(target_valid, predicted_valid_2))\n",
    "print(\"Точность\", precision_score(target_valid, predicted_valid_2))\n",
    "print(\"F1:\", f1_score(target_valid, predicted_valid_2))"
   ]
  },
  {
   "cell_type": "code",
   "execution_count": 58,
   "metadata": {},
   "outputs": [
    {
     "data": {
      "text/plain": [
       "0.8396471367477422"
      ]
     },
     "execution_count": 58,
     "metadata": {},
     "output_type": "execute_result"
    }
   ],
   "source": [
    "model_2_valid = model_2.predict_proba(features_valid)[:, 1]\n",
    "auc_roc_2 = roc_auc_score(target_valid, model_2_valid)\n",
    "\n",
    "auc_roc_2"
   ]
  },
  {
   "cell_type": "code",
   "execution_count": 59,
   "metadata": {},
   "outputs": [
    {
     "data": {
      "image/png": "[encoded data removed]",
      "text/plain": [
       "<Figure size 640x480 with 1 Axes>"
      ]
     },
     "metadata": {},
     "output_type": "display_data"
    }
   ],
   "source": [
    "fpr, tpr, thresholds = roc_curve(target_valid, model_2_valid)\n",
    "plt.plot(fpr, tpr, color='red', label='ROC')\n",
    "plt.plot([0, 1], [0, 1], color='green', linestyle='--')\n",
    "plt.xlim([0.0, 1.0])\n",
    "plt.ylim([0.0, 1.0])\n",
    "plt.xlabel('False Positive Rate')\n",
    "plt.ylabel('True Positive Rate')\n",
    "plt.title('ROC-кривая')\n",
    "plt.legend()\n",
    "plt.show()"
   ]
  },
  {
   "cell_type": "markdown",
   "metadata": {},
   "source": [
    "Логистическая регрессия"
   ]
  },
  {
   "cell_type": "code",
   "execution_count": 60,
   "metadata": {},
   "outputs": [
    {
     "name": "stdout",
     "output_type": "stream",
     "text": [
      "Полнота 0.6818181818181818\n",
      "Точность 0.3810160427807487\n",
      "F1: 0.4888507718696398\n"
     ]
    }
   ],
   "source": [
    "model_3 = LogisticRegression(random_state=12345, solver='liblinear')\n",
    "model_3.fit(features_upsampled, target_upsampled)\n",
    "predicted_valid_3 = model_3.predict(features_valid)\n",
    "\n",
    "print(\"Полнота\" , recall_score(target_valid, predicted_valid_3))\n",
    "print(\"Точность\", precision_score(target_valid, predicted_valid_3))\n",
    "print(\"F1:\", f1_score(target_valid, predicted_valid_3))"
   ]
  },
  {
   "cell_type": "code",
   "execution_count": 61,
   "metadata": {},
   "outputs": [
    {
     "data": {
      "text/plain": [
       "0.7636478565682107"
      ]
     },
     "execution_count": 61,
     "metadata": {},
     "output_type": "execute_result"
    }
   ],
   "source": [
    "model_3_valid = model_3.predict_proba(features_valid)[:, 1]\n",
    "auc_roc_3 = roc_auc_score(target_valid, model_3_valid)\n",
    "\n",
    "auc_roc_3"
   ]
  },
  {
   "cell_type": "code",
   "execution_count": 62,
   "metadata": {},
   "outputs": [
    {
     "data": {
      "image/png": "[encoded data removed]",
      "text/plain": [
       "<Figure size 640x480 with 1 Axes>"
      ]
     },
     "metadata": {},
     "output_type": "display_data"
    }
   ],
   "source": [
    "fpr, tpr, thresholds = roc_curve(target_valid, model_3_valid)\n",
    "plt.plot(fpr, tpr, color='red', label='ROC')\n",
    "plt.plot([0, 1], [0, 1], color='green', linestyle='--')\n",
    "plt.xlim([0.0, 1.0])\n",
    "plt.ylim([0.0, 1.0])\n",
    "plt.xlabel('False Positive Rate')\n",
    "plt.ylabel('True Positive Rate')\n",
    "plt.title('ROC-кривая')\n",
    "plt.legend()\n",
    "plt.show()"
   ]
  },
  {
   "cell_type": "markdown",
   "metadata": {},
   "source": [
    "На новой выборке модели показали увеличение полноты, уменьшение точности. F1-мера увеличилась в моделях Случайный лес и Логистическая регрессия, в модели Дерево решений она немного уменьшилась.\n",
    "\n",
    "Модель Случайный лес показала самый высокий показатель метрики F1-мера - 0.60, что выше заданного показателя.\n",
    "\n",
    "AUC-ROC - площадь под ROC-кривой - самая большая тоже у модели Случайный лес - 0,84."
   ]
  },
  {
   "cell_type": "code",
   "execution_count": 63,
   "metadata": {},
   "outputs": [
    {
     "name": "stdout",
     "output_type": "stream",
     "text": [
      "[0.17898078 0.13013773 0.2311672  0.10447239 0.17189875]\n"
     ]
    }
   ],
   "source": [
    "probabilities_valid = model.predict_proba(features_valid) # < напишите код здесь >\n",
    "probabilities_one_valid = probabilities_valid[:, 1]\n",
    "\n",
    "print(probabilities_one_valid[:5])"
   ]
  },
  {
   "cell_type": "markdown",
   "metadata": {},
   "source": [
    "Дерево решений"
   ]
  },
  {
   "cell_type": "code",
   "execution_count": 64,
   "metadata": {},
   "outputs": [
    {
     "name": "stdout",
     "output_type": "stream",
     "text": [
      "Полнота 0.7248803827751196\n",
      "Точность 0.47641509433962265\n",
      "F1: 0.5749525616698292\n"
     ]
    }
   ],
   "source": [
    "model_1 = DecisionTreeClassifier(max_depth=6, random_state=12345)\n",
    "model_1.fit(features_downsampled, target_downsampled)\n",
    "predicted_valid_1 = model_1.predict(features_valid)\n",
    "\n",
    "print(\"Полнота\" , recall_score(target_valid, predicted_valid_1))\n",
    "print(\"Точность\", precision_score(target_valid, predicted_valid_1))\n",
    "print(\"F1:\", f1_score(target_valid, predicted_valid_1))"
   ]
  },
  {
   "cell_type": "code",
   "execution_count": 65,
   "metadata": {},
   "outputs": [
    {
     "data": {
      "text/plain": [
       "0.8165720516093129"
      ]
     },
     "execution_count": 65,
     "metadata": {},
     "output_type": "execute_result"
    }
   ],
   "source": [
    "model_1_valid = model_1.predict_proba(features_valid)[:, 1]\n",
    "auc_roc_1 = roc_auc_score(target_valid, model_1_valid)\n",
    "\n",
    "auc_roc_1"
   ]
  },
  {
   "cell_type": "code",
   "execution_count": 66,
   "metadata": {},
   "outputs": [
    {
     "data": {
      "image/png": "[encoded data removed]",
      "text/plain": [
       "<Figure size 640x480 with 1 Axes>"
      ]
     },
     "metadata": {},
     "output_type": "display_data"
    }
   ],
   "source": [
    "fpr, tpr, thresholds = roc_curve(target_valid, model_1_valid)\n",
    "plt.plot(fpr, tpr, color='red', label='ROC')\n",
    "plt.plot([0, 1], [0, 1], color='green', linestyle='--')\n",
    "plt.xlim([0.0, 1.0])\n",
    "plt.ylim([0.0, 1.0])\n",
    "plt.xlabel('False Positive Rate')\n",
    "plt.ylabel('True Positive Rate')\n",
    "plt.title('ROC-кривая')\n",
    "plt.legend()\n",
    "plt.show()"
   ]
  },
  {
   "cell_type": "markdown",
   "metadata": {},
   "source": [
    "Случайный лес"
   ]
  },
  {
   "cell_type": "code",
   "execution_count": 67,
   "metadata": {},
   "outputs": [
    {
     "name": "stdout",
     "output_type": "stream",
     "text": [
      "Полнота 0.7440191387559809\n",
      "Точность 0.47192716236722304\n",
      "F1: 0.5775301764159704\n"
     ]
    }
   ],
   "source": [
    "model_2 = RandomForestClassifier(random_state=12345)\n",
    "model_2.fit(features_downsampled, target_downsampled)\n",
    "predicted_valid_2 = model_2.predict(features_valid)\n",
    "\n",
    "print(\"Полнота\" , recall_score(target_valid, predicted_valid_2))\n",
    "print(\"Точность\", precision_score(target_valid, predicted_valid_2))\n",
    "print(\"F1:\", f1_score(target_valid, predicted_valid_2))"
   ]
  },
  {
   "cell_type": "code",
   "execution_count": 68,
   "metadata": {},
   "outputs": [
    {
     "data": {
      "text/plain": [
       "0.8452907711757269"
      ]
     },
     "execution_count": 68,
     "metadata": {},
     "output_type": "execute_result"
    }
   ],
   "source": [
    "model_2_valid = model_2.predict_proba(features_valid)[:, 1]\n",
    "auc_roc_2 = roc_auc_score(target_valid, model_2_valid)\n",
    "\n",
    "auc_roc_2"
   ]
  },
  {
   "cell_type": "code",
   "execution_count": 69,
   "metadata": {},
   "outputs": [
    {
     "data": {
      "image/png": "[encoded data removed]",
      "text/plain": [
       "<Figure size 640x480 with 1 Axes>"
      ]
     },
     "metadata": {},
     "output_type": "display_data"
    }
   ],
   "source": [
    "fpr, tpr, thresholds = roc_curve(target_valid, model_2_valid)\n",
    "plt.plot(fpr, tpr, color='red', label='ROC')\n",
    "plt.plot([0, 1], [0, 1], color='green', linestyle='--')\n",
    "plt.xlim([0.0, 1.0])\n",
    "plt.ylim([0.0, 1.0])\n",
    "plt.xlabel('False Positive Rate')\n",
    "plt.ylabel('True Positive Rate')\n",
    "plt.title('ROC-кривая')\n",
    "plt.legend()\n",
    "plt.show()"
   ]
  },
  {
   "cell_type": "markdown",
   "metadata": {},
   "source": [
    "Логистическая регрессия"
   ]
  },
  {
   "cell_type": "code",
   "execution_count": 70,
   "metadata": {},
   "outputs": [
    {
     "name": "stdout",
     "output_type": "stream",
     "text": [
      "Полнота 0.6722488038277512\n",
      "Точность 0.3781965006729475\n",
      "F1: 0.48406546080964685\n"
     ]
    }
   ],
   "source": [
    "model_3 = LogisticRegression(random_state=12345, solver='liblinear')\n",
    "model_3.fit(features_downsampled, target_downsampled)\n",
    "predicted_valid_3 = model_3.predict(features_valid)\n",
    "\n",
    "print(\"Полнота\" , recall_score(target_valid, predicted_valid_3))\n",
    "print(\"Точность\", precision_score(target_valid, predicted_valid_3))\n",
    "print(\"F1:\", f1_score(target_valid, predicted_valid_3))"
   ]
  },
  {
   "cell_type": "code",
   "execution_count": 71,
   "metadata": {},
   "outputs": [
    {
     "data": {
      "text/plain": [
       "0.7622883637089505"
      ]
     },
     "execution_count": 71,
     "metadata": {},
     "output_type": "execute_result"
    }
   ],
   "source": [
    "model_3_valid = model_3.predict_proba(features_valid)[:, 1]\n",
    "auc_roc_3 = roc_auc_score(target_valid, model_3_valid)\n",
    "\n",
    "auc_roc_3"
   ]
  },
  {
   "cell_type": "code",
   "execution_count": 72,
   "metadata": {},
   "outputs": [
    {
     "data": {
      "image/png": "[encoded data removed]",
      "text/plain": [
       "<Figure size 640x480 with 1 Axes>"
      ]
     },
     "metadata": {},
     "output_type": "display_data"
    }
   ],
   "source": [
    "fpr, tpr, thresholds = roc_curve(target_valid, model_3_valid)\n",
    "plt.plot(fpr, tpr, color='red', label='ROC')\n",
    "plt.plot([0, 1], [0, 1], color='green', linestyle='--')\n",
    "plt.xlim([0.0, 1.0])\n",
    "plt.ylim([0.0, 1.0])\n",
    "plt.xlabel('False Positive Rate')\n",
    "plt.ylabel('True Positive Rate')\n",
    "plt.title('ROC-кривая')\n",
    "plt.legend()\n",
    "plt.show()"
   ]
  },
  {
   "cell_type": "markdown",
   "metadata": {},
   "source": [
    "Обучив модели на новых выборках, полученных техникой upsampling и downsampling, можно сравнить обученные модели.\n",
    "\n",
    "Модель Дерево решений при downsampling-выборке показало значение F-меры выше, чем при upsampling-выборке - 0.5749525616698292 против 0.5581835383159887, также выше значение AUC-ROC - 0.7999473744699641 и 0.8165720516093129 соответственно.\n",
    "\n",
    "Модель Случайный лес на увеличенной выборке показала значение F1-меры - 0.6084656084656085, AUC-ROC - 0.8396471367477422, а на уменьшенной выборке F1-мера - 0.5775301764159704, AUC-ROC - 0.8452907711757269.\n",
    "\n",
    "Модель Логистическая регрессия на увеличенной выборке показала значение F1-меры 0.4888507718696398, AUC-ROC - 0.7636478565682107, на уменьшенной выборке F1-мера - 0.48406546080964685, AUC-ROC - 0.7622883637089505.\n",
    "\n",
    "Таким образом наилучшие показатели F1-меры показала модель Случайный лес, обученная на выборке, полученной по технике upsampling. Эту модель будем тестировать с помощью тестовой выборки."
   ]
  },
  {
   "cell_type": "markdown",
   "metadata": {},
   "source": [
    "## Тестирование модели"
   ]
  },
  {
   "cell_type": "markdown",
   "metadata": {},
   "source": [
    "Для тестирования выбрали модель Случайный лес, так как у нее наилучшие показатели обучения."
   ]
  },
  {
   "cell_type": "code",
   "execution_count": 73,
   "metadata": {},
   "outputs": [
    {
     "name": "stdout",
     "output_type": "stream",
     "text": [
      "Accuracy: 0.791\n",
      "Полнота: 0.5650118203309693\n",
      "Точность: 0.6602209944751382\n",
      "F1: 0.6089171974522293\n"
     ]
    }
   ],
   "source": [
    "model_4 = RandomForestClassifier(random_state=12345, n_estimators=25)\n",
    "model_4.fit(features_upsampled, target_upsampled)\n",
    "predicted_valid_4 = model_4.predict(features_test)\n",
    "result = model.score(features_test, target_test)\n",
    "\n",
    "print(\"Accuracy:\", result)\n",
    "print(\"Полнота:\", recall_score(target_test, predicted_valid_4))\n",
    "print(\"Точность:\", precision_score(target_test, predicted_valid_4))\n",
    "print(\"F1:\", f1_score(target_test, predicted_valid_4))"
   ]
  },
  {
   "cell_type": "code",
   "execution_count": 74,
   "metadata": {},
   "outputs": [
    {
     "data": {
      "text/plain": [
       "0.8257202741366692"
      ]
     },
     "execution_count": 74,
     "metadata": {},
     "output_type": "execute_result"
    }
   ],
   "source": [
    "model_4_valid = model_4.predict_proba(features_valid)[:, 1]\n",
    "auc_roc_4 = roc_auc_score(target_valid, model_4_valid)\n",
    "\n",
    "auc_roc_4"
   ]
  },
  {
   "cell_type": "code",
   "execution_count": 75,
   "metadata": {},
   "outputs": [
    {
     "data": {
      "image/png": "[encoded data removed]",
      "text/plain": [
       "<Figure size 640x480 with 1 Axes>"
      ]
     },
     "metadata": {},
     "output_type": "display_data"
    }
   ],
   "source": [
    "fpr, tpr, thresholds = roc_curve(target_valid, model_4_valid)\n",
    "plt.plot(fpr, tpr, color='red', label='ROC')\n",
    "plt.plot([0, 1], [0, 1], color='green', linestyle='--')\n",
    "plt.xlim([0.0, 1.0])\n",
    "plt.ylim([0.0, 1.0])\n",
    "plt.xlabel('False Positive Rate')\n",
    "plt.ylabel('True Positive Rate')\n",
    "plt.title('ROC-кривая')\n",
    "plt.legend()\n",
    "plt.show()"
   ]
  },
  {
   "cell_type": "code",
   "execution_count": 76,
   "metadata": {},
   "outputs": [
    {
     "name": "stdout",
     "output_type": "stream",
     "text": [
      "Accuracy проверочной модели: 0.7885\n",
      "F1: 0.6089171974522293\n"
     ]
    }
   ],
   "source": [
    "model = DummyClassifier(strategy='prior', random_state=12345)\n",
    "model.fit(features_upsampled, target_upsampled)\n",
    "result = model.score(features_test, target_test)\n",
    "print('Accuracy проверочной модели:', result)\n",
    "print(\"F1:\", f1_score(target_test, predicted_valid_4))"
   ]
  },
  {
   "cell_type": "markdown",
   "metadata": {},
   "source": [
    "Для проверки модели на адекватность использовал модель DummyClassifier. Accuracy проверочной модели меньше чем у выбранной нами модели Случайный лес. Значит наша модель прошла проверку на адекватность."
   ]
  },
  {
   "cell_type": "markdown",
   "metadata": {},
   "source": [
    "**Вывод** \n",
    "\n",
    "Изучив предоставленную таблицу, провели предобработку данных - привели название столбцов к аккуратному виду, заполнили пропуски. Столбцы содержащие текстовые значения преобразовали методом прямого кодирования OHE. Удалил столбцы, которые не нужны для обучения модели. \n",
    "\n",
    "Разделили данные на три выборки - обучающую, валидационную и тестовую. Масштабировали численные признаки трёх выборок. \n",
    "\n",
    "Провели исследование моделей машинного обучения. Так как в данных имелся сильный дисбалланс - примерно 80% отрицательных значений и 20% положительных значений, все модели показали низкие показатели точности, полноты и F1-меры, показывали большое количество ошибок.\n",
    "\n",
    "Разобрали два варианта устранения дисбаланса - техники upsampling и downsampling. Оба варианта показали одинаковый результат - баланс классов стал иметь соотношение: \"0\" - 0.501043, \"1\" - 0.498957. \n",
    "\n",
    "Для получения новой обучающей выборки использовали операцию upsampling - увеличили в 4 раза класс \"1\" в обучающей выборке.\n",
    "\n",
    "На новой обучающей выборке наилучшие значения показала модель Случайный лес - F1-мера - 0.608, AUC-ROC - 0.8396. Поэтому для проверки на тестовой выборке выбрали эту модель.\n",
    "\n",
    "Модель прошла проверку на тестовой выборке и прошла проверку на адекватность.\n",
    "- Accuracy: 0.791\n",
    "- Полнота: 0.5650118203309693\n",
    "- Точность: 0.6602209944751382\n",
    "- F1: 0.6089171974522293\n",
    "- AUC-ROC: 0.8257202741366692\n",
    "\n",
    "Метрики качества модели F1-мера и ROC-AUC, хоть и работают по-разному и опираются на разные показатели, но междк ними прослеживается связь. Чем выше метрика F1-score, тем выше значение AUC-ROC.\n",
    "\n",
    "Исходя из этого делаем вывод, что выбранная нами модель эффективна и адекватна."
   ]
  }
 ],
 "metadata": {
  "ExecuteTimeLog": [
   {
    "duration": 1162,
    "start_time": "2023-02-07T13:29:59.302Z"
   },
   {
    "duration": 77,
    "start_time": "2023-02-07T13:32:49.307Z"
   },
   {
    "duration": 29,
    "start_time": "2023-02-07T13:32:57.075Z"
   },
   {
    "duration": 17,
    "start_time": "2023-02-07T13:33:28.309Z"
   },
   {
    "duration": 8,
    "start_time": "2023-02-07T13:35:25.134Z"
   },
   {
    "duration": 23,
    "start_time": "2023-02-07T13:35:34.191Z"
   },
   {
    "duration": 7,
    "start_time": "2023-02-07T13:35:48.432Z"
   },
   {
    "duration": 26,
    "start_time": "2023-02-07T13:39:29.556Z"
   },
   {
    "duration": 3,
    "start_time": "2023-02-07T13:47:37.556Z"
   },
   {
    "duration": 4,
    "start_time": "2023-02-07T13:47:49.405Z"
   },
   {
    "duration": 4,
    "start_time": "2023-02-07T13:48:02.496Z"
   },
   {
    "duration": 5,
    "start_time": "2023-02-07T13:48:06.957Z"
   },
   {
    "duration": 1055,
    "start_time": "2023-02-07T13:48:16.256Z"
   },
   {
    "duration": 36,
    "start_time": "2023-02-07T13:48:17.313Z"
   },
   {
    "duration": 25,
    "start_time": "2023-02-07T13:48:17.351Z"
   },
   {
    "duration": 12,
    "start_time": "2023-02-07T13:48:17.378Z"
   },
   {
    "duration": 7,
    "start_time": "2023-02-07T13:48:17.403Z"
   },
   {
    "duration": 5,
    "start_time": "2023-02-07T13:48:17.412Z"
   },
   {
    "duration": 7,
    "start_time": "2023-02-07T13:48:17.419Z"
   },
   {
    "duration": 4,
    "start_time": "2023-02-07T13:48:31.825Z"
   },
   {
    "duration": 1078,
    "start_time": "2023-02-07T13:49:02.822Z"
   },
   {
    "duration": 41,
    "start_time": "2023-02-07T13:49:03.903Z"
   },
   {
    "duration": 34,
    "start_time": "2023-02-07T13:49:03.946Z"
   },
   {
    "duration": 13,
    "start_time": "2023-02-07T13:49:03.982Z"
   },
   {
    "duration": 12,
    "start_time": "2023-02-07T13:49:03.996Z"
   },
   {
    "duration": 4,
    "start_time": "2023-02-07T13:49:04.009Z"
   },
   {
    "duration": 23,
    "start_time": "2023-02-07T13:49:04.015Z"
   },
   {
    "duration": 9,
    "start_time": "2023-02-07T13:49:20.161Z"
   },
   {
    "duration": 1061,
    "start_time": "2023-02-07T13:54:31.654Z"
   },
   {
    "duration": 34,
    "start_time": "2023-02-07T13:54:32.717Z"
   },
   {
    "duration": 25,
    "start_time": "2023-02-07T13:54:32.753Z"
   },
   {
    "duration": 12,
    "start_time": "2023-02-07T13:54:32.780Z"
   },
   {
    "duration": 14,
    "start_time": "2023-02-07T13:54:32.794Z"
   },
   {
    "duration": 46,
    "start_time": "2023-02-07T13:54:32.810Z"
   },
   {
    "duration": 0,
    "start_time": "2023-02-07T13:54:32.857Z"
   },
   {
    "duration": 0,
    "start_time": "2023-02-07T13:54:32.858Z"
   },
   {
    "duration": 5,
    "start_time": "2023-02-07T13:56:41.303Z"
   },
   {
    "duration": 3,
    "start_time": "2023-02-07T13:56:43.671Z"
   },
   {
    "duration": 9,
    "start_time": "2023-02-07T13:56:44.367Z"
   },
   {
    "duration": 22,
    "start_time": "2023-02-07T13:57:05.632Z"
   },
   {
    "duration": 21,
    "start_time": "2023-02-07T14:01:26.588Z"
   },
   {
    "duration": 19,
    "start_time": "2023-02-07T14:01:50.509Z"
   },
   {
    "duration": 6,
    "start_time": "2023-02-07T14:07:18.723Z"
   },
   {
    "duration": 5,
    "start_time": "2023-02-07T14:07:28.539Z"
   },
   {
    "duration": 5,
    "start_time": "2023-02-07T14:07:46.924Z"
   },
   {
    "duration": 13,
    "start_time": "2023-02-07T14:12:50.090Z"
   },
   {
    "duration": 42,
    "start_time": "2023-02-07T14:15:06.156Z"
   },
   {
    "duration": 140,
    "start_time": "2023-02-07T14:27:39.253Z"
   },
   {
    "duration": 4,
    "start_time": "2023-02-07T14:27:50.021Z"
   },
   {
    "duration": 5,
    "start_time": "2023-02-07T14:28:40.078Z"
   },
   {
    "duration": 5,
    "start_time": "2023-02-07T14:29:09.725Z"
   },
   {
    "duration": 11,
    "start_time": "2023-02-07T14:30:21.756Z"
   },
   {
    "duration": 6,
    "start_time": "2023-02-07T14:31:20.959Z"
   },
   {
    "duration": 18,
    "start_time": "2023-02-07T14:37:05.156Z"
   },
   {
    "duration": 5,
    "start_time": "2023-02-07T14:37:24.885Z"
   },
   {
    "duration": 9,
    "start_time": "2023-02-07T14:37:56.507Z"
   },
   {
    "duration": 4,
    "start_time": "2023-02-07T14:38:14.908Z"
   },
   {
    "duration": 21,
    "start_time": "2023-02-07T14:41:05.655Z"
   },
   {
    "duration": 4,
    "start_time": "2023-02-07T14:41:32.934Z"
   },
   {
    "duration": 7,
    "start_time": "2023-02-07T15:02:54.442Z"
   },
   {
    "duration": 4,
    "start_time": "2023-02-07T15:31:42.071Z"
   },
   {
    "duration": 10,
    "start_time": "2023-02-07T15:38:55.407Z"
   },
   {
    "duration": 6,
    "start_time": "2023-02-07T15:39:02.303Z"
   },
   {
    "duration": 6,
    "start_time": "2023-02-07T15:39:02.886Z"
   },
   {
    "duration": 6,
    "start_time": "2023-02-07T15:39:24.382Z"
   },
   {
    "duration": 3,
    "start_time": "2023-02-07T15:48:28.008Z"
   },
   {
    "duration": 11,
    "start_time": "2023-02-07T15:50:14.229Z"
   },
   {
    "duration": 1113,
    "start_time": "2023-02-07T15:51:10.599Z"
   },
   {
    "duration": 36,
    "start_time": "2023-02-07T15:51:11.715Z"
   },
   {
    "duration": 25,
    "start_time": "2023-02-07T15:51:11.752Z"
   },
   {
    "duration": 14,
    "start_time": "2023-02-07T15:51:11.779Z"
   },
   {
    "duration": 44,
    "start_time": "2023-02-07T15:51:11.795Z"
   },
   {
    "duration": 13,
    "start_time": "2023-02-07T15:51:11.841Z"
   },
   {
    "duration": 8,
    "start_time": "2023-02-07T15:51:11.855Z"
   },
   {
    "duration": 9,
    "start_time": "2023-02-07T15:51:11.864Z"
   },
   {
    "duration": 29,
    "start_time": "2023-02-07T15:51:11.874Z"
   },
   {
    "duration": 20,
    "start_time": "2023-02-07T15:51:11.906Z"
   },
   {
    "duration": 27,
    "start_time": "2023-02-07T15:51:11.928Z"
   },
   {
    "duration": 12,
    "start_time": "2023-02-07T15:51:11.957Z"
   },
   {
    "duration": 4,
    "start_time": "2023-02-07T15:51:11.970Z"
   },
   {
    "duration": 8,
    "start_time": "2023-02-07T15:51:11.977Z"
   },
   {
    "duration": 17,
    "start_time": "2023-02-07T15:51:11.987Z"
   },
   {
    "duration": 10,
    "start_time": "2023-02-07T15:51:12.006Z"
   },
   {
    "duration": 8,
    "start_time": "2023-02-07T15:51:12.018Z"
   },
   {
    "duration": 246,
    "start_time": "2023-02-07T15:51:12.028Z"
   },
   {
    "duration": 108,
    "start_time": "2023-02-07T15:51:12.276Z"
   },
   {
    "duration": 0,
    "start_time": "2023-02-07T15:51:12.385Z"
   },
   {
    "duration": 0,
    "start_time": "2023-02-07T15:51:12.387Z"
   },
   {
    "duration": 0,
    "start_time": "2023-02-07T15:51:12.388Z"
   },
   {
    "duration": 0,
    "start_time": "2023-02-07T15:51:12.389Z"
   },
   {
    "duration": 0,
    "start_time": "2023-02-07T15:51:12.390Z"
   },
   {
    "duration": 0,
    "start_time": "2023-02-07T15:51:12.391Z"
   },
   {
    "duration": 0,
    "start_time": "2023-02-07T15:51:12.403Z"
   },
   {
    "duration": 1059,
    "start_time": "2023-02-07T15:52:27.136Z"
   },
   {
    "duration": 36,
    "start_time": "2023-02-07T15:52:28.197Z"
   },
   {
    "duration": 23,
    "start_time": "2023-02-07T15:52:28.235Z"
   },
   {
    "duration": 13,
    "start_time": "2023-02-07T15:52:28.260Z"
   },
   {
    "duration": 43,
    "start_time": "2023-02-07T15:52:28.276Z"
   },
   {
    "duration": 11,
    "start_time": "2023-02-07T15:52:28.320Z"
   },
   {
    "duration": 7,
    "start_time": "2023-02-07T15:52:28.332Z"
   },
   {
    "duration": 4,
    "start_time": "2023-02-07T15:52:28.340Z"
   },
   {
    "duration": 6,
    "start_time": "2023-02-07T15:52:28.345Z"
   },
   {
    "duration": 9,
    "start_time": "2023-02-07T15:52:28.353Z"
   },
   {
    "duration": 54,
    "start_time": "2023-02-07T15:52:28.363Z"
   },
   {
    "duration": 6,
    "start_time": "2023-02-07T15:52:28.419Z"
   },
   {
    "duration": 6,
    "start_time": "2023-02-07T15:52:28.427Z"
   },
   {
    "duration": 4,
    "start_time": "2023-02-07T15:52:28.436Z"
   },
   {
    "duration": 8,
    "start_time": "2023-02-07T15:52:28.442Z"
   },
   {
    "duration": 9,
    "start_time": "2023-02-07T15:52:28.451Z"
   },
   {
    "duration": 5,
    "start_time": "2023-02-07T15:52:28.462Z"
   },
   {
    "duration": 37,
    "start_time": "2023-02-07T15:52:28.469Z"
   },
   {
    "duration": 20,
    "start_time": "2023-02-07T15:52:28.508Z"
   },
   {
    "duration": 4,
    "start_time": "2023-02-07T15:52:28.530Z"
   },
   {
    "duration": 6,
    "start_time": "2023-02-07T15:52:28.536Z"
   },
   {
    "duration": 6,
    "start_time": "2023-02-07T15:52:28.544Z"
   },
   {
    "duration": 7,
    "start_time": "2023-02-07T15:52:28.551Z"
   },
   {
    "duration": 44,
    "start_time": "2023-02-07T15:52:28.559Z"
   },
   {
    "duration": 3,
    "start_time": "2023-02-07T15:52:28.605Z"
   },
   {
    "duration": 12,
    "start_time": "2023-02-07T15:52:28.610Z"
   },
   {
    "duration": 25,
    "start_time": "2023-02-07T16:00:58.156Z"
   },
   {
    "duration": 50,
    "start_time": "2023-02-07T16:02:32.225Z"
   },
   {
    "duration": 23,
    "start_time": "2023-02-07T16:02:53.271Z"
   },
   {
    "duration": 22,
    "start_time": "2023-02-07T16:02:58.646Z"
   },
   {
    "duration": 21,
    "start_time": "2023-02-07T16:04:37.425Z"
   },
   {
    "duration": 20,
    "start_time": "2023-02-07T16:04:41.913Z"
   },
   {
    "duration": 22,
    "start_time": "2023-02-07T16:04:49.308Z"
   },
   {
    "duration": 19,
    "start_time": "2023-02-07T16:04:53.376Z"
   },
   {
    "duration": 1096,
    "start_time": "2023-02-07T16:04:59.724Z"
   },
   {
    "duration": 36,
    "start_time": "2023-02-07T16:05:00.822Z"
   },
   {
    "duration": 27,
    "start_time": "2023-02-07T16:05:00.859Z"
   },
   {
    "duration": 44,
    "start_time": "2023-02-07T16:05:00.888Z"
   },
   {
    "duration": 90,
    "start_time": "2023-02-07T16:05:00.934Z"
   },
   {
    "duration": 12,
    "start_time": "2023-02-07T16:05:01.025Z"
   },
   {
    "duration": 51,
    "start_time": "2023-02-07T16:05:01.039Z"
   },
   {
    "duration": 57,
    "start_time": "2023-02-07T16:05:01.092Z"
   },
   {
    "duration": 62,
    "start_time": "2023-02-07T16:05:01.151Z"
   },
   {
    "duration": 43,
    "start_time": "2023-02-07T16:05:01.216Z"
   },
   {
    "duration": 108,
    "start_time": "2023-02-07T16:05:01.261Z"
   },
   {
    "duration": 17,
    "start_time": "2023-02-07T16:05:01.371Z"
   },
   {
    "duration": 19,
    "start_time": "2023-02-07T16:05:01.390Z"
   },
   {
    "duration": 38,
    "start_time": "2023-02-07T16:05:01.412Z"
   },
   {
    "duration": 30,
    "start_time": "2023-02-07T16:05:01.452Z"
   },
   {
    "duration": 16,
    "start_time": "2023-02-07T16:05:01.483Z"
   },
   {
    "duration": 27,
    "start_time": "2023-02-07T16:05:01.500Z"
   },
   {
    "duration": 24,
    "start_time": "2023-02-07T16:05:01.529Z"
   },
   {
    "duration": 30,
    "start_time": "2023-02-07T16:05:01.555Z"
   },
   {
    "duration": 14,
    "start_time": "2023-02-07T16:05:01.587Z"
   },
   {
    "duration": 12,
    "start_time": "2023-02-07T16:05:01.603Z"
   },
   {
    "duration": 19,
    "start_time": "2023-02-07T16:05:01.616Z"
   },
   {
    "duration": 15,
    "start_time": "2023-02-07T16:05:01.637Z"
   },
   {
    "duration": 8,
    "start_time": "2023-02-07T16:05:01.654Z"
   },
   {
    "duration": 18,
    "start_time": "2023-02-07T16:05:01.664Z"
   },
   {
    "duration": 20,
    "start_time": "2023-02-07T16:05:01.684Z"
   },
   {
    "duration": 30,
    "start_time": "2023-02-07T16:05:01.706Z"
   },
   {
    "duration": 23,
    "start_time": "2023-02-07T16:05:09.832Z"
   },
   {
    "duration": 1055,
    "start_time": "2023-02-07T16:05:15.246Z"
   },
   {
    "duration": 37,
    "start_time": "2023-02-07T16:05:16.303Z"
   },
   {
    "duration": 26,
    "start_time": "2023-02-07T16:05:16.342Z"
   },
   {
    "duration": 15,
    "start_time": "2023-02-07T16:05:16.371Z"
   },
   {
    "duration": 54,
    "start_time": "2023-02-07T16:05:16.388Z"
   },
   {
    "duration": 12,
    "start_time": "2023-02-07T16:05:16.444Z"
   },
   {
    "duration": 7,
    "start_time": "2023-02-07T16:05:16.458Z"
   },
   {
    "duration": 8,
    "start_time": "2023-02-07T16:05:16.467Z"
   },
   {
    "duration": 7,
    "start_time": "2023-02-07T16:05:16.476Z"
   },
   {
    "duration": 26,
    "start_time": "2023-02-07T16:05:16.485Z"
   },
   {
    "duration": 22,
    "start_time": "2023-02-07T16:05:16.513Z"
   },
   {
    "duration": 6,
    "start_time": "2023-02-07T16:05:16.538Z"
   },
   {
    "duration": 19,
    "start_time": "2023-02-07T16:05:16.546Z"
   },
   {
    "duration": 11,
    "start_time": "2023-02-07T16:05:16.568Z"
   },
   {
    "duration": 24,
    "start_time": "2023-02-07T16:05:16.581Z"
   },
   {
    "duration": 15,
    "start_time": "2023-02-07T16:05:16.607Z"
   },
   {
    "duration": 11,
    "start_time": "2023-02-07T16:05:16.623Z"
   },
   {
    "duration": 5,
    "start_time": "2023-02-07T16:05:16.635Z"
   },
   {
    "duration": 22,
    "start_time": "2023-02-07T16:05:16.642Z"
   },
   {
    "duration": 4,
    "start_time": "2023-02-07T16:05:16.665Z"
   },
   {
    "duration": 7,
    "start_time": "2023-02-07T16:05:16.670Z"
   },
   {
    "duration": 7,
    "start_time": "2023-02-07T16:05:16.703Z"
   },
   {
    "duration": 9,
    "start_time": "2023-02-07T16:05:16.711Z"
   },
   {
    "duration": 10,
    "start_time": "2023-02-07T16:05:16.722Z"
   },
   {
    "duration": 7,
    "start_time": "2023-02-07T16:05:16.734Z"
   },
   {
    "duration": 12,
    "start_time": "2023-02-07T16:05:16.743Z"
   },
   {
    "duration": 22,
    "start_time": "2023-02-07T16:05:16.757Z"
   },
   {
    "duration": 20,
    "start_time": "2023-02-07T16:05:21.640Z"
   },
   {
    "duration": 19,
    "start_time": "2023-02-07T16:05:25.752Z"
   },
   {
    "duration": 17,
    "start_time": "2023-02-07T17:09:47.705Z"
   },
   {
    "duration": 22,
    "start_time": "2023-02-07T17:10:15.192Z"
   },
   {
    "duration": 3,
    "start_time": "2023-02-07T17:20:06.089Z"
   },
   {
    "duration": 111,
    "start_time": "2023-02-07T17:22:52.492Z"
   },
   {
    "duration": 1148,
    "start_time": "2023-02-07T17:23:39.916Z"
   },
   {
    "duration": 38,
    "start_time": "2023-02-07T17:23:41.066Z"
   },
   {
    "duration": 33,
    "start_time": "2023-02-07T17:23:41.106Z"
   },
   {
    "duration": 16,
    "start_time": "2023-02-07T17:23:41.141Z"
   },
   {
    "duration": 73,
    "start_time": "2023-02-07T17:23:41.160Z"
   },
   {
    "duration": 17,
    "start_time": "2023-02-07T17:23:41.235Z"
   },
   {
    "duration": 11,
    "start_time": "2023-02-07T17:23:41.254Z"
   },
   {
    "duration": 12,
    "start_time": "2023-02-07T17:23:41.267Z"
   },
   {
    "duration": 23,
    "start_time": "2023-02-07T17:23:41.280Z"
   },
   {
    "duration": 29,
    "start_time": "2023-02-07T17:23:41.306Z"
   },
   {
    "duration": 20,
    "start_time": "2023-02-07T17:23:41.337Z"
   },
   {
    "duration": 10,
    "start_time": "2023-02-07T17:23:41.359Z"
   },
   {
    "duration": 4,
    "start_time": "2023-02-07T17:23:41.372Z"
   },
   {
    "duration": 24,
    "start_time": "2023-02-07T17:23:41.380Z"
   },
   {
    "duration": 5,
    "start_time": "2023-02-07T17:23:41.406Z"
   },
   {
    "duration": 33,
    "start_time": "2023-02-07T17:23:41.413Z"
   },
   {
    "duration": 8,
    "start_time": "2023-02-07T17:23:41.448Z"
   },
   {
    "duration": 6,
    "start_time": "2023-02-07T17:23:41.458Z"
   },
   {
    "duration": 21,
    "start_time": "2023-02-07T17:23:41.466Z"
   },
   {
    "duration": 4,
    "start_time": "2023-02-07T17:23:41.489Z"
   },
   {
    "duration": 18,
    "start_time": "2023-02-07T17:23:41.494Z"
   },
   {
    "duration": 13,
    "start_time": "2023-02-07T17:23:41.514Z"
   },
   {
    "duration": 5,
    "start_time": "2023-02-07T17:23:41.529Z"
   },
   {
    "duration": 7,
    "start_time": "2023-02-07T17:23:41.535Z"
   },
   {
    "duration": 4,
    "start_time": "2023-02-07T17:23:41.543Z"
   },
   {
    "duration": 10,
    "start_time": "2023-02-07T17:23:41.549Z"
   },
   {
    "duration": 43,
    "start_time": "2023-02-07T17:23:41.561Z"
   },
   {
    "duration": 22,
    "start_time": "2023-02-07T17:23:41.606Z"
   },
   {
    "duration": 18,
    "start_time": "2023-02-07T17:23:41.630Z"
   },
   {
    "duration": 142,
    "start_time": "2023-02-07T17:23:41.650Z"
   },
   {
    "duration": 1222,
    "start_time": "2023-02-07T17:24:52.635Z"
   },
   {
    "duration": 38,
    "start_time": "2023-02-07T17:24:53.860Z"
   },
   {
    "duration": 29,
    "start_time": "2023-02-07T17:24:53.902Z"
   },
   {
    "duration": 14,
    "start_time": "2023-02-07T17:24:53.933Z"
   },
   {
    "duration": 85,
    "start_time": "2023-02-07T17:24:53.950Z"
   },
   {
    "duration": 14,
    "start_time": "2023-02-07T17:24:54.037Z"
   },
   {
    "duration": 10,
    "start_time": "2023-02-07T17:24:54.052Z"
   },
   {
    "duration": 10,
    "start_time": "2023-02-07T17:24:54.064Z"
   },
   {
    "duration": 27,
    "start_time": "2023-02-07T17:24:54.076Z"
   },
   {
    "duration": 40,
    "start_time": "2023-02-07T17:24:54.105Z"
   },
   {
    "duration": 30,
    "start_time": "2023-02-07T17:24:54.147Z"
   },
   {
    "duration": 12,
    "start_time": "2023-02-07T17:24:54.179Z"
   },
   {
    "duration": 44,
    "start_time": "2023-02-07T17:24:54.195Z"
   },
   {
    "duration": 21,
    "start_time": "2023-02-07T17:24:54.242Z"
   },
   {
    "duration": 16,
    "start_time": "2023-02-07T17:24:54.266Z"
   },
   {
    "duration": 14,
    "start_time": "2023-02-07T17:24:54.284Z"
   },
   {
    "duration": 49,
    "start_time": "2023-02-07T17:24:54.300Z"
   },
   {
    "duration": 28,
    "start_time": "2023-02-07T17:24:54.351Z"
   },
   {
    "duration": 39,
    "start_time": "2023-02-07T17:24:54.382Z"
   },
   {
    "duration": 31,
    "start_time": "2023-02-07T17:24:54.425Z"
   },
   {
    "duration": 25,
    "start_time": "2023-02-07T17:24:54.458Z"
   },
   {
    "duration": 13,
    "start_time": "2023-02-07T17:24:54.486Z"
   },
   {
    "duration": 26,
    "start_time": "2023-02-07T17:24:54.501Z"
   },
   {
    "duration": 23,
    "start_time": "2023-02-07T17:24:54.530Z"
   },
   {
    "duration": 19,
    "start_time": "2023-02-07T17:24:54.555Z"
   },
   {
    "duration": 51,
    "start_time": "2023-02-07T17:24:54.577Z"
   },
   {
    "duration": 37,
    "start_time": "2023-02-07T17:24:54.630Z"
   },
   {
    "duration": 19,
    "start_time": "2023-02-07T17:24:54.669Z"
   },
   {
    "duration": 25,
    "start_time": "2023-02-07T17:24:54.690Z"
   },
   {
    "duration": 181,
    "start_time": "2023-02-07T17:24:54.717Z"
   },
   {
    "duration": 1130,
    "start_time": "2023-02-07T17:25:31.773Z"
   },
   {
    "duration": 42,
    "start_time": "2023-02-07T17:25:32.905Z"
   },
   {
    "duration": 28,
    "start_time": "2023-02-07T17:25:32.949Z"
   },
   {
    "duration": 14,
    "start_time": "2023-02-07T17:25:32.979Z"
   },
   {
    "duration": 58,
    "start_time": "2023-02-07T17:25:32.995Z"
   },
   {
    "duration": 13,
    "start_time": "2023-02-07T17:25:33.055Z"
   },
   {
    "duration": 8,
    "start_time": "2023-02-07T17:25:33.070Z"
   },
   {
    "duration": 27,
    "start_time": "2023-02-07T17:25:33.079Z"
   },
   {
    "duration": 19,
    "start_time": "2023-02-07T17:25:33.108Z"
   },
   {
    "duration": 12,
    "start_time": "2023-02-07T17:25:33.131Z"
   },
   {
    "duration": 23,
    "start_time": "2023-02-07T17:25:33.144Z"
   },
   {
    "duration": 6,
    "start_time": "2023-02-07T17:25:33.168Z"
   },
   {
    "duration": 3,
    "start_time": "2023-02-07T17:25:33.176Z"
   },
   {
    "duration": 6,
    "start_time": "2023-02-07T17:25:33.181Z"
   },
   {
    "duration": 20,
    "start_time": "2023-02-07T17:25:33.189Z"
   },
   {
    "duration": 23,
    "start_time": "2023-02-07T17:25:33.211Z"
   },
   {
    "duration": 6,
    "start_time": "2023-02-07T17:25:33.235Z"
   },
   {
    "duration": 19,
    "start_time": "2023-02-07T17:25:33.242Z"
   },
   {
    "duration": 24,
    "start_time": "2023-02-07T17:25:33.263Z"
   },
   {
    "duration": 15,
    "start_time": "2023-02-07T17:25:33.289Z"
   },
   {
    "duration": 24,
    "start_time": "2023-02-07T17:25:33.305Z"
   },
   {
    "duration": 8,
    "start_time": "2023-02-07T17:25:33.331Z"
   },
   {
    "duration": 6,
    "start_time": "2023-02-07T17:25:33.341Z"
   },
   {
    "duration": 8,
    "start_time": "2023-02-07T17:25:33.348Z"
   },
   {
    "duration": 6,
    "start_time": "2023-02-07T17:25:33.358Z"
   },
   {
    "duration": 14,
    "start_time": "2023-02-07T17:25:33.365Z"
   },
   {
    "duration": 32,
    "start_time": "2023-02-07T17:25:33.381Z"
   },
   {
    "duration": 18,
    "start_time": "2023-02-07T17:25:33.417Z"
   },
   {
    "duration": 18,
    "start_time": "2023-02-07T17:25:33.436Z"
   },
   {
    "duration": 195,
    "start_time": "2023-02-07T17:25:33.456Z"
   },
   {
    "duration": 18,
    "start_time": "2023-02-07T17:25:58.615Z"
   },
   {
    "duration": 16,
    "start_time": "2023-02-07T17:26:01.126Z"
   },
   {
    "duration": 1186,
    "start_time": "2023-02-07T17:26:06.474Z"
   },
   {
    "duration": 37,
    "start_time": "2023-02-07T17:26:07.663Z"
   },
   {
    "duration": 31,
    "start_time": "2023-02-07T17:26:07.702Z"
   },
   {
    "duration": 13,
    "start_time": "2023-02-07T17:26:07.735Z"
   },
   {
    "duration": 65,
    "start_time": "2023-02-07T17:26:07.750Z"
   },
   {
    "duration": 12,
    "start_time": "2023-02-07T17:26:07.817Z"
   },
   {
    "duration": 8,
    "start_time": "2023-02-07T17:26:07.830Z"
   },
   {
    "duration": 9,
    "start_time": "2023-02-07T17:26:07.839Z"
   },
   {
    "duration": 6,
    "start_time": "2023-02-07T17:26:07.849Z"
   },
   {
    "duration": 10,
    "start_time": "2023-02-07T17:26:07.859Z"
   },
   {
    "duration": 54,
    "start_time": "2023-02-07T17:26:07.872Z"
   },
   {
    "duration": 6,
    "start_time": "2023-02-07T17:26:07.928Z"
   },
   {
    "duration": 6,
    "start_time": "2023-02-07T17:26:07.936Z"
   },
   {
    "duration": 7,
    "start_time": "2023-02-07T17:26:07.944Z"
   },
   {
    "duration": 7,
    "start_time": "2023-02-07T17:26:07.952Z"
   },
   {
    "duration": 14,
    "start_time": "2023-02-07T17:26:07.961Z"
   },
   {
    "duration": 40,
    "start_time": "2023-02-07T17:26:07.977Z"
   },
   {
    "duration": 12,
    "start_time": "2023-02-07T17:26:08.019Z"
   },
   {
    "duration": 22,
    "start_time": "2023-02-07T17:26:08.033Z"
   },
   {
    "duration": 5,
    "start_time": "2023-02-07T17:26:08.057Z"
   },
   {
    "duration": 8,
    "start_time": "2023-02-07T17:26:08.064Z"
   },
   {
    "duration": 8,
    "start_time": "2023-02-07T17:26:08.074Z"
   },
   {
    "duration": 22,
    "start_time": "2023-02-07T17:26:08.084Z"
   },
   {
    "duration": 13,
    "start_time": "2023-02-07T17:26:08.108Z"
   },
   {
    "duration": 6,
    "start_time": "2023-02-07T17:26:08.123Z"
   },
   {
    "duration": 11,
    "start_time": "2023-02-07T17:26:08.131Z"
   },
   {
    "duration": 26,
    "start_time": "2023-02-07T17:26:08.144Z"
   },
   {
    "duration": 42,
    "start_time": "2023-02-07T17:26:08.173Z"
   },
   {
    "duration": 24,
    "start_time": "2023-02-07T17:26:08.220Z"
   },
   {
    "duration": 215,
    "start_time": "2023-02-07T17:26:08.246Z"
   },
   {
    "duration": 108,
    "start_time": "2023-02-07T17:29:56.170Z"
   },
   {
    "duration": 1125,
    "start_time": "2023-02-07T17:30:30.019Z"
   },
   {
    "duration": 36,
    "start_time": "2023-02-07T17:30:31.147Z"
   },
   {
    "duration": 31,
    "start_time": "2023-02-07T17:30:31.185Z"
   },
   {
    "duration": 24,
    "start_time": "2023-02-07T17:30:31.218Z"
   },
   {
    "duration": 65,
    "start_time": "2023-02-07T17:30:31.244Z"
   },
   {
    "duration": 14,
    "start_time": "2023-02-07T17:30:31.310Z"
   },
   {
    "duration": 17,
    "start_time": "2023-02-07T17:30:31.326Z"
   },
   {
    "duration": 17,
    "start_time": "2023-02-07T17:30:31.345Z"
   },
   {
    "duration": 52,
    "start_time": "2023-02-07T17:30:31.364Z"
   },
   {
    "duration": 18,
    "start_time": "2023-02-07T17:30:31.419Z"
   },
   {
    "duration": 29,
    "start_time": "2023-02-07T17:30:31.439Z"
   },
   {
    "duration": 11,
    "start_time": "2023-02-07T17:30:31.470Z"
   },
   {
    "duration": 12,
    "start_time": "2023-02-07T17:30:31.483Z"
   },
   {
    "duration": 29,
    "start_time": "2023-02-07T17:30:31.497Z"
   },
   {
    "duration": 21,
    "start_time": "2023-02-07T17:30:31.528Z"
   },
   {
    "duration": 13,
    "start_time": "2023-02-07T17:30:31.551Z"
   },
   {
    "duration": 13,
    "start_time": "2023-02-07T17:30:31.566Z"
   },
   {
    "duration": 11,
    "start_time": "2023-02-07T17:30:31.580Z"
   },
   {
    "duration": 52,
    "start_time": "2023-02-07T17:30:31.593Z"
   },
   {
    "duration": 4,
    "start_time": "2023-02-07T17:30:31.647Z"
   },
   {
    "duration": 10,
    "start_time": "2023-02-07T17:30:31.652Z"
   },
   {
    "duration": 9,
    "start_time": "2023-02-07T17:30:31.664Z"
   },
   {
    "duration": 10,
    "start_time": "2023-02-07T17:30:31.675Z"
   },
   {
    "duration": 8,
    "start_time": "2023-02-07T17:30:31.686Z"
   },
   {
    "duration": 6,
    "start_time": "2023-02-07T17:30:31.696Z"
   },
   {
    "duration": 26,
    "start_time": "2023-02-07T17:30:31.706Z"
   },
   {
    "duration": 22,
    "start_time": "2023-02-07T17:30:31.734Z"
   },
   {
    "duration": 18,
    "start_time": "2023-02-07T17:30:31.759Z"
   },
   {
    "duration": 54,
    "start_time": "2023-02-07T17:30:31.779Z"
   },
   {
    "duration": 170,
    "start_time": "2023-02-07T17:30:31.835Z"
   },
   {
    "duration": 2137,
    "start_time": "2023-02-07T17:30:32.006Z"
   },
   {
    "duration": 6044,
    "start_time": "2023-02-07T17:31:12.215Z"
   },
   {
    "duration": 2207,
    "start_time": "2023-02-07T17:31:29.629Z"
   },
   {
    "duration": 50,
    "start_time": "2023-02-07T17:34:48.420Z"
   },
   {
    "duration": 21818,
    "start_time": "2023-02-07T17:35:04.559Z"
   },
   {
    "duration": 21634,
    "start_time": "2023-02-07T17:35:53.657Z"
   },
   {
    "duration": 2081,
    "start_time": "2023-02-07T17:37:01.594Z"
   },
   {
    "duration": 37520,
    "start_time": "2023-02-07T17:38:41.659Z"
   },
   {
    "duration": 726,
    "start_time": "2023-02-07T17:41:23.462Z"
   },
   {
    "duration": 741,
    "start_time": "2023-02-07T17:42:04.057Z"
   },
   {
    "duration": 106,
    "start_time": "2023-02-07T17:42:26.358Z"
   },
   {
    "duration": 725,
    "start_time": "2023-02-07T17:42:55.159Z"
   },
   {
    "duration": 20935,
    "start_time": "2023-02-07T17:45:15.710Z"
   },
   {
    "duration": 21366,
    "start_time": "2023-02-07T17:45:43.916Z"
   },
   {
    "duration": 37104,
    "start_time": "2023-02-07T17:47:16.364Z"
   },
   {
    "duration": 24,
    "start_time": "2023-02-07T17:48:33.204Z"
   },
   {
    "duration": 1095,
    "start_time": "2023-02-07T17:49:10.864Z"
   },
   {
    "duration": 36,
    "start_time": "2023-02-07T17:49:11.961Z"
   },
   {
    "duration": 31,
    "start_time": "2023-02-07T17:49:11.999Z"
   },
   {
    "duration": 13,
    "start_time": "2023-02-07T17:49:12.031Z"
   },
   {
    "duration": 78,
    "start_time": "2023-02-07T17:49:12.046Z"
   },
   {
    "duration": 18,
    "start_time": "2023-02-07T17:49:12.126Z"
   },
   {
    "duration": 10,
    "start_time": "2023-02-07T17:49:12.147Z"
   },
   {
    "duration": 7,
    "start_time": "2023-02-07T17:49:12.159Z"
   },
   {
    "duration": 5,
    "start_time": "2023-02-07T17:49:12.168Z"
   },
   {
    "duration": 29,
    "start_time": "2023-02-07T17:49:12.175Z"
   },
   {
    "duration": 24,
    "start_time": "2023-02-07T17:49:12.207Z"
   },
   {
    "duration": 7,
    "start_time": "2023-02-07T17:49:12.233Z"
   },
   {
    "duration": 4,
    "start_time": "2023-02-07T17:49:12.241Z"
   },
   {
    "duration": 6,
    "start_time": "2023-02-07T17:49:12.248Z"
   },
   {
    "duration": 8,
    "start_time": "2023-02-07T17:49:12.255Z"
   },
   {
    "duration": 43,
    "start_time": "2023-02-07T17:49:12.265Z"
   },
   {
    "duration": 6,
    "start_time": "2023-02-07T17:49:12.310Z"
   },
   {
    "duration": 10,
    "start_time": "2023-02-07T17:49:12.318Z"
   },
   {
    "duration": 22,
    "start_time": "2023-02-07T17:49:12.329Z"
   },
   {
    "duration": 4,
    "start_time": "2023-02-07T17:49:12.353Z"
   },
   {
    "duration": 10,
    "start_time": "2023-02-07T17:49:12.359Z"
   },
   {
    "duration": 7,
    "start_time": "2023-02-07T17:49:12.370Z"
   },
   {
    "duration": 6,
    "start_time": "2023-02-07T17:49:12.404Z"
   },
   {
    "duration": 16,
    "start_time": "2023-02-07T17:49:12.412Z"
   },
   {
    "duration": 6,
    "start_time": "2023-02-07T17:49:12.430Z"
   },
   {
    "duration": 10,
    "start_time": "2023-02-07T17:49:12.438Z"
   },
   {
    "duration": 22,
    "start_time": "2023-02-07T17:49:12.450Z"
   },
   {
    "duration": 33,
    "start_time": "2023-02-07T17:49:12.474Z"
   },
   {
    "duration": 21,
    "start_time": "2023-02-07T17:49:12.509Z"
   },
   {
    "duration": 204,
    "start_time": "2023-02-07T17:49:12.531Z"
   },
   {
    "duration": 36382,
    "start_time": "2023-02-07T17:49:12.737Z"
   },
   {
    "duration": 193,
    "start_time": "2023-02-07T17:49:49.121Z"
   },
   {
    "duration": 10,
    "start_time": "2023-02-07T17:55:52.579Z"
   },
   {
    "duration": 1645,
    "start_time": "2023-02-07T17:58:09.674Z"
   },
   {
    "duration": 36,
    "start_time": "2023-02-07T17:58:11.321Z"
   },
   {
    "duration": 22,
    "start_time": "2023-02-07T17:58:11.359Z"
   },
   {
    "duration": 14,
    "start_time": "2023-02-07T17:58:11.383Z"
   },
   {
    "duration": 60,
    "start_time": "2023-02-07T17:58:11.398Z"
   },
   {
    "duration": 11,
    "start_time": "2023-02-07T17:58:11.460Z"
   },
   {
    "duration": 8,
    "start_time": "2023-02-07T17:58:11.473Z"
   },
   {
    "duration": 5,
    "start_time": "2023-02-07T17:58:11.484Z"
   },
   {
    "duration": 4,
    "start_time": "2023-02-07T17:58:11.504Z"
   },
   {
    "duration": 16,
    "start_time": "2023-02-07T17:58:11.518Z"
   },
   {
    "duration": 20,
    "start_time": "2023-02-07T17:58:11.536Z"
   },
   {
    "duration": 5,
    "start_time": "2023-02-07T17:58:11.558Z"
   },
   {
    "duration": 5,
    "start_time": "2023-02-07T17:58:11.564Z"
   },
   {
    "duration": 34,
    "start_time": "2023-02-07T17:58:11.571Z"
   },
   {
    "duration": 23,
    "start_time": "2023-02-07T17:58:11.606Z"
   },
   {
    "duration": 8,
    "start_time": "2023-02-07T17:58:11.631Z"
   },
   {
    "duration": 7,
    "start_time": "2023-02-07T17:58:11.641Z"
   },
   {
    "duration": 6,
    "start_time": "2023-02-07T17:58:11.649Z"
   },
   {
    "duration": 23,
    "start_time": "2023-02-07T17:58:11.657Z"
   },
   {
    "duration": 22,
    "start_time": "2023-02-07T17:58:11.681Z"
   },
   {
    "duration": 21,
    "start_time": "2023-02-07T17:58:11.705Z"
   },
   {
    "duration": 7,
    "start_time": "2023-02-07T17:58:11.729Z"
   },
   {
    "duration": 12,
    "start_time": "2023-02-07T17:58:11.737Z"
   },
   {
    "duration": 6,
    "start_time": "2023-02-07T17:58:11.750Z"
   },
   {
    "duration": 6,
    "start_time": "2023-02-07T17:58:11.758Z"
   },
   {
    "duration": 13,
    "start_time": "2023-02-07T17:58:11.766Z"
   },
   {
    "duration": 47,
    "start_time": "2023-02-07T17:58:11.781Z"
   },
   {
    "duration": 17,
    "start_time": "2023-02-07T17:58:11.831Z"
   },
   {
    "duration": 18,
    "start_time": "2023-02-07T17:58:11.850Z"
   },
   {
    "duration": 202,
    "start_time": "2023-02-07T17:58:11.870Z"
   },
   {
    "duration": 37169,
    "start_time": "2023-02-07T17:58:12.074Z"
   },
   {
    "duration": 83,
    "start_time": "2023-02-07T17:58:49.245Z"
   },
   {
    "duration": 110,
    "start_time": "2023-02-07T17:58:49.404Z"
   },
   {
    "duration": 162,
    "start_time": "2023-02-07T18:06:54.063Z"
   },
   {
    "duration": 1374,
    "start_time": "2023-02-07T18:12:05.559Z"
   },
   {
    "duration": 37,
    "start_time": "2023-02-07T18:12:06.934Z"
   },
   {
    "duration": 24,
    "start_time": "2023-02-07T18:12:06.972Z"
   },
   {
    "duration": 13,
    "start_time": "2023-02-07T18:12:06.998Z"
   },
   {
    "duration": 47,
    "start_time": "2023-02-07T18:12:07.014Z"
   },
   {
    "duration": 12,
    "start_time": "2023-02-07T18:12:07.063Z"
   },
   {
    "duration": 9,
    "start_time": "2023-02-07T18:12:07.077Z"
   },
   {
    "duration": 19,
    "start_time": "2023-02-07T18:12:07.102Z"
   },
   {
    "duration": 6,
    "start_time": "2023-02-07T18:12:07.124Z"
   },
   {
    "duration": 10,
    "start_time": "2023-02-07T18:12:07.132Z"
   },
   {
    "duration": 23,
    "start_time": "2023-02-07T18:12:07.144Z"
   },
   {
    "duration": 6,
    "start_time": "2023-02-07T18:12:07.168Z"
   },
   {
    "duration": 9,
    "start_time": "2023-02-07T18:12:07.175Z"
   },
   {
    "duration": 6,
    "start_time": "2023-02-07T18:12:07.203Z"
   },
   {
    "duration": 31,
    "start_time": "2023-02-07T18:12:07.211Z"
   },
   {
    "duration": 18,
    "start_time": "2023-02-07T18:12:07.243Z"
   },
   {
    "duration": 14,
    "start_time": "2023-02-07T18:12:07.263Z"
   },
   {
    "duration": 10,
    "start_time": "2023-02-07T18:12:07.279Z"
   },
   {
    "duration": 31,
    "start_time": "2023-02-07T18:12:07.291Z"
   },
   {
    "duration": 20,
    "start_time": "2023-02-07T18:12:07.324Z"
   },
   {
    "duration": 13,
    "start_time": "2023-02-07T18:12:07.346Z"
   },
   {
    "duration": 12,
    "start_time": "2023-02-07T18:12:07.361Z"
   },
   {
    "duration": 6,
    "start_time": "2023-02-07T18:12:07.375Z"
   },
   {
    "duration": 6,
    "start_time": "2023-02-07T18:12:07.382Z"
   },
   {
    "duration": 5,
    "start_time": "2023-02-07T18:12:07.390Z"
   },
   {
    "duration": 14,
    "start_time": "2023-02-07T18:12:07.396Z"
   },
   {
    "duration": 30,
    "start_time": "2023-02-07T18:12:07.412Z"
   },
   {
    "duration": 15,
    "start_time": "2023-02-07T18:12:07.444Z"
   },
   {
    "duration": 16,
    "start_time": "2023-02-07T18:12:07.461Z"
   },
   {
    "duration": 191,
    "start_time": "2023-02-07T18:12:07.478Z"
   },
   {
    "duration": 37381,
    "start_time": "2023-02-07T18:12:07.670Z"
   },
   {
    "duration": 70,
    "start_time": "2023-02-07T18:12:45.054Z"
   },
   {
    "duration": 117,
    "start_time": "2023-02-07T18:12:45.208Z"
   },
   {
    "duration": 3,
    "start_time": "2023-02-07T18:12:45.327Z"
   },
   {
    "duration": 80059,
    "start_time": "2023-02-07T18:12:51.363Z"
   },
   {
    "duration": 135,
    "start_time": "2023-02-07T18:16:49.964Z"
   },
   {
    "duration": 77,
    "start_time": "2023-02-07T18:17:05.121Z"
   },
   {
    "duration": 155,
    "start_time": "2023-02-07T18:17:09.188Z"
   },
   {
    "duration": 123,
    "start_time": "2023-02-07T18:17:28.859Z"
   },
   {
    "duration": 134,
    "start_time": "2023-02-07T18:19:49.629Z"
   },
   {
    "duration": 7,
    "start_time": "2023-02-07T18:35:51.920Z"
   },
   {
    "duration": 6,
    "start_time": "2023-02-07T18:36:04.607Z"
   },
   {
    "duration": 125,
    "start_time": "2023-02-07T18:36:05.166Z"
   },
   {
    "duration": 9,
    "start_time": "2023-02-07T18:36:24.704Z"
   },
   {
    "duration": 7,
    "start_time": "2023-02-07T18:36:38.568Z"
   },
   {
    "duration": 7,
    "start_time": "2023-02-07T18:36:41.543Z"
   },
   {
    "duration": 121,
    "start_time": "2023-02-07T18:36:44.697Z"
   },
   {
    "duration": 7,
    "start_time": "2023-02-07T18:37:05.152Z"
   },
   {
    "duration": 128,
    "start_time": "2023-02-07T18:37:13.391Z"
   },
   {
    "duration": 8,
    "start_time": "2023-02-07T18:37:19.483Z"
   },
   {
    "duration": 127,
    "start_time": "2023-02-07T18:37:27.272Z"
   },
   {
    "duration": 23,
    "start_time": "2023-02-07T18:41:43.363Z"
   },
   {
    "duration": 18,
    "start_time": "2023-02-07T18:41:54.443Z"
   },
   {
    "duration": 50,
    "start_time": "2023-02-07T18:41:58.179Z"
   },
   {
    "duration": 21,
    "start_time": "2023-02-07T18:42:02.308Z"
   },
   {
    "duration": 23,
    "start_time": "2023-02-07T18:49:29.545Z"
   },
   {
    "duration": 762,
    "start_time": "2023-02-07T18:51:04.470Z"
   },
   {
    "duration": 383,
    "start_time": "2023-02-07T18:51:37.319Z"
   },
   {
    "duration": 959,
    "start_time": "2023-02-07T18:55:38.749Z"
   },
   {
    "duration": 1112,
    "start_time": "2023-02-07T18:56:14.195Z"
   },
   {
    "duration": 860,
    "start_time": "2023-02-07T18:56:33.548Z"
   },
   {
    "duration": 863,
    "start_time": "2023-02-07T18:59:53.246Z"
   },
   {
    "duration": 4,
    "start_time": "2023-02-07T19:07:47.018Z"
   },
   {
    "duration": 1324,
    "start_time": "2023-02-07T19:08:37.704Z"
   },
   {
    "duration": 35,
    "start_time": "2023-02-07T19:08:39.030Z"
   },
   {
    "duration": 21,
    "start_time": "2023-02-07T19:08:39.067Z"
   },
   {
    "duration": 12,
    "start_time": "2023-02-07T19:08:39.089Z"
   },
   {
    "duration": 40,
    "start_time": "2023-02-07T19:08:39.104Z"
   },
   {
    "duration": 11,
    "start_time": "2023-02-07T19:08:39.146Z"
   },
   {
    "duration": 6,
    "start_time": "2023-02-07T19:08:39.159Z"
   },
   {
    "duration": 8,
    "start_time": "2023-02-07T19:08:39.167Z"
   },
   {
    "duration": 26,
    "start_time": "2023-02-07T19:08:39.177Z"
   },
   {
    "duration": 8,
    "start_time": "2023-02-07T19:08:39.205Z"
   },
   {
    "duration": 20,
    "start_time": "2023-02-07T19:08:39.214Z"
   },
   {
    "duration": 5,
    "start_time": "2023-02-07T19:08:39.235Z"
   },
   {
    "duration": 8,
    "start_time": "2023-02-07T19:08:39.242Z"
   },
   {
    "duration": 7,
    "start_time": "2023-02-07T19:08:39.253Z"
   },
   {
    "duration": 7,
    "start_time": "2023-02-07T19:08:39.261Z"
   },
   {
    "duration": 40,
    "start_time": "2023-02-07T19:08:39.269Z"
   },
   {
    "duration": 9,
    "start_time": "2023-02-07T19:08:39.311Z"
   },
   {
    "duration": 4,
    "start_time": "2023-02-07T19:08:39.322Z"
   },
   {
    "duration": 19,
    "start_time": "2023-02-07T19:08:39.328Z"
   },
   {
    "duration": 3,
    "start_time": "2023-02-07T19:08:39.349Z"
   },
   {
    "duration": 11,
    "start_time": "2023-02-07T19:08:39.354Z"
   },
   {
    "duration": 8,
    "start_time": "2023-02-07T19:08:39.367Z"
   },
   {
    "duration": 26,
    "start_time": "2023-02-07T19:08:39.377Z"
   },
   {
    "duration": 4,
    "start_time": "2023-02-07T19:08:39.405Z"
   },
   {
    "duration": 6,
    "start_time": "2023-02-07T19:08:39.410Z"
   },
   {
    "duration": 11,
    "start_time": "2023-02-07T19:08:39.417Z"
   },
   {
    "duration": 21,
    "start_time": "2023-02-07T19:08:39.429Z"
   },
   {
    "duration": 17,
    "start_time": "2023-02-07T19:08:39.452Z"
   },
   {
    "duration": 47,
    "start_time": "2023-02-07T19:08:39.470Z"
   },
   {
    "duration": 170,
    "start_time": "2023-02-07T19:08:39.518Z"
   },
   {
    "duration": 33615,
    "start_time": "2023-02-07T19:08:39.690Z"
   },
   {
    "duration": 106,
    "start_time": "2023-02-07T19:09:13.306Z"
   },
   {
    "duration": 200,
    "start_time": "2023-02-07T19:09:13.414Z"
   },
   {
    "duration": 151,
    "start_time": "2023-02-07T19:09:13.616Z"
   },
   {
    "duration": 1040,
    "start_time": "2023-02-07T19:09:13.769Z"
   },
   {
    "duration": 24,
    "start_time": "2023-02-07T19:12:12.781Z"
   },
   {
    "duration": 945,
    "start_time": "2023-02-07T19:15:43.562Z"
   },
   {
    "duration": 1014,
    "start_time": "2023-02-07T19:16:00.090Z"
   },
   {
    "duration": 941,
    "start_time": "2023-02-07T19:16:40.666Z"
   },
   {
    "duration": 22,
    "start_time": "2023-02-07T19:20:41.957Z"
   },
   {
    "duration": 3,
    "start_time": "2023-02-07T19:22:56.028Z"
   },
   {
    "duration": 4,
    "start_time": "2023-02-07T19:23:32.862Z"
   },
   {
    "duration": 116,
    "start_time": "2023-02-07T19:26:25.385Z"
   },
   {
    "duration": 11,
    "start_time": "2023-02-07T19:27:21.994Z"
   },
   {
    "duration": 701,
    "start_time": "2023-02-07T19:29:25.675Z"
   },
   {
    "duration": 65,
    "start_time": "2023-02-07T19:29:27.291Z"
   },
   {
    "duration": 10,
    "start_time": "2023-02-07T19:29:47.283Z"
   },
   {
    "duration": 692,
    "start_time": "2023-02-07T19:31:49.725Z"
   },
   {
    "duration": 11,
    "start_time": "2023-02-07T19:31:54.367Z"
   },
   {
    "duration": 593,
    "start_time": "2023-02-07T19:32:32.213Z"
   },
   {
    "duration": 10,
    "start_time": "2023-02-07T19:32:33.870Z"
   },
   {
    "duration": 8,
    "start_time": "2023-02-07T20:14:11.804Z"
   },
   {
    "duration": 10,
    "start_time": "2023-02-07T20:24:03.675Z"
   },
   {
    "duration": 9,
    "start_time": "2023-02-07T20:24:55.963Z"
   },
   {
    "duration": 8,
    "start_time": "2023-02-07T20:25:13.924Z"
   },
   {
    "duration": 23,
    "start_time": "2023-02-07T20:29:39.560Z"
   },
   {
    "duration": 4,
    "start_time": "2023-02-07T20:30:19.863Z"
   },
   {
    "duration": 18,
    "start_time": "2023-02-07T20:30:26.450Z"
   },
   {
    "duration": 11,
    "start_time": "2023-02-07T20:30:57.237Z"
   },
   {
    "duration": 13,
    "start_time": "2023-02-07T20:31:00.261Z"
   },
   {
    "duration": 47,
    "start_time": "2023-02-07T20:35:54.362Z"
   },
   {
    "duration": 8,
    "start_time": "2023-02-07T20:39:54.322Z"
   },
   {
    "duration": 17,
    "start_time": "2023-02-07T20:39:58.986Z"
   },
   {
    "duration": 12,
    "start_time": "2023-02-07T20:40:04.899Z"
   },
   {
    "duration": 27,
    "start_time": "2023-02-07T20:40:10.370Z"
   },
   {
    "duration": 9,
    "start_time": "2023-02-07T20:43:32.157Z"
   },
   {
    "duration": 905,
    "start_time": "2023-02-07T20:50:38.324Z"
   },
   {
    "duration": 28,
    "start_time": "2023-02-07T20:51:13.093Z"
   },
   {
    "duration": 27,
    "start_time": "2023-02-07T20:52:16.597Z"
   },
   {
    "duration": 38,
    "start_time": "2023-02-07T20:52:52.223Z"
   },
   {
    "duration": 27,
    "start_time": "2023-02-07T20:52:57.573Z"
   },
   {
    "duration": 47,
    "start_time": "2023-02-07T20:53:04.174Z"
   },
   {
    "duration": 27,
    "start_time": "2023-02-07T20:53:09.565Z"
   },
   {
    "duration": 36,
    "start_time": "2023-02-07T20:53:15.853Z"
   },
   {
    "duration": 27,
    "start_time": "2023-02-07T20:53:22.475Z"
   },
   {
    "duration": 57,
    "start_time": "2023-02-07T20:57:10.346Z"
   },
   {
    "duration": 887,
    "start_time": "2023-02-07T20:57:55.954Z"
   },
   {
    "duration": 30,
    "start_time": "2023-02-07T20:58:23.659Z"
   },
   {
    "duration": 62,
    "start_time": "2023-02-07T21:11:37.537Z"
   },
   {
    "duration": 4,
    "start_time": "2023-02-07T21:13:12.218Z"
   },
   {
    "duration": 60,
    "start_time": "2023-02-07T21:13:17.408Z"
   },
   {
    "duration": 48,
    "start_time": "2023-02-07T21:15:39.773Z"
   },
   {
    "duration": 4,
    "start_time": "2023-02-07T21:16:10.972Z"
   },
   {
    "duration": 61,
    "start_time": "2023-02-07T21:16:20.220Z"
   },
   {
    "duration": 85,
    "start_time": "2023-02-07T21:16:55.924Z"
   },
   {
    "duration": 10,
    "start_time": "2023-02-07T21:17:21.845Z"
   },
   {
    "duration": 57,
    "start_time": "2023-02-07T21:26:30.159Z"
   },
   {
    "duration": 124,
    "start_time": "2023-02-07T21:27:11.341Z"
   },
   {
    "duration": 121,
    "start_time": "2023-02-07T21:27:59.335Z"
   },
   {
    "duration": 197,
    "start_time": "2023-02-07T21:28:16.007Z"
   },
   {
    "duration": 913,
    "start_time": "2023-02-07T21:39:35.443Z"
   },
   {
    "duration": 916,
    "start_time": "2023-02-07T21:39:40.067Z"
   },
   {
    "duration": 921,
    "start_time": "2023-02-07T21:42:35.501Z"
   },
   {
    "duration": 893,
    "start_time": "2023-02-07T21:43:28.502Z"
   },
   {
    "duration": 901,
    "start_time": "2023-02-07T21:44:34.263Z"
   },
   {
    "duration": 678,
    "start_time": "2023-02-07T21:44:39.831Z"
   },
   {
    "duration": 659,
    "start_time": "2023-02-07T21:44:49.398Z"
   },
   {
    "duration": 727,
    "start_time": "2023-02-07T21:44:53.839Z"
   },
   {
    "duration": 655,
    "start_time": "2023-02-07T21:44:58.126Z"
   },
   {
    "duration": 90,
    "start_time": "2023-02-08T08:21:33.171Z"
   },
   {
    "duration": 2592,
    "start_time": "2023-02-08T08:21:44.351Z"
   },
   {
    "duration": 245,
    "start_time": "2023-02-08T08:21:46.948Z"
   },
   {
    "duration": 38,
    "start_time": "2023-02-08T08:21:47.203Z"
   },
   {
    "duration": 15,
    "start_time": "2023-02-08T08:21:47.244Z"
   },
   {
    "duration": 140,
    "start_time": "2023-02-08T08:21:47.262Z"
   },
   {
    "duration": 44,
    "start_time": "2023-02-08T08:21:47.407Z"
   },
   {
    "duration": 54,
    "start_time": "2023-02-08T08:21:47.478Z"
   },
   {
    "duration": 127,
    "start_time": "2023-02-08T08:21:47.538Z"
   },
   {
    "duration": 101,
    "start_time": "2023-02-08T08:21:47.667Z"
   },
   {
    "duration": 88,
    "start_time": "2023-02-08T08:21:47.775Z"
   },
   {
    "duration": 35,
    "start_time": "2023-02-08T08:21:47.869Z"
   },
   {
    "duration": 20,
    "start_time": "2023-02-08T08:21:47.912Z"
   },
   {
    "duration": 50,
    "start_time": "2023-02-08T08:21:47.934Z"
   },
   {
    "duration": 21,
    "start_time": "2023-02-08T08:21:47.990Z"
   },
   {
    "duration": 14,
    "start_time": "2023-02-08T08:21:48.014Z"
   },
   {
    "duration": 20,
    "start_time": "2023-02-08T08:21:48.031Z"
   },
   {
    "duration": 22,
    "start_time": "2023-02-08T08:21:48.053Z"
   },
   {
    "duration": 17,
    "start_time": "2023-02-08T08:21:48.077Z"
   },
   {
    "duration": 53,
    "start_time": "2023-02-08T08:21:48.097Z"
   },
   {
    "duration": 55,
    "start_time": "2023-02-08T08:21:48.156Z"
   },
   {
    "duration": 93,
    "start_time": "2023-02-08T08:21:48.214Z"
   },
   {
    "duration": 34,
    "start_time": "2023-02-08T08:21:48.309Z"
   },
   {
    "duration": 64,
    "start_time": "2023-02-08T08:21:48.346Z"
   },
   {
    "duration": 35,
    "start_time": "2023-02-08T08:21:48.415Z"
   },
   {
    "duration": 186,
    "start_time": "2023-02-08T08:21:48.453Z"
   },
   {
    "duration": 82,
    "start_time": "2023-02-08T08:21:48.643Z"
   },
   {
    "duration": 55,
    "start_time": "2023-02-08T08:21:48.728Z"
   },
   {
    "duration": 175,
    "start_time": "2023-02-08T08:21:48.784Z"
   },
   {
    "duration": 57,
    "start_time": "2023-02-08T08:21:48.966Z"
   },
   {
    "duration": 330,
    "start_time": "2023-02-08T08:21:49.025Z"
   },
   {
    "duration": 53048,
    "start_time": "2023-02-08T08:21:49.358Z"
   },
   {
    "duration": 247,
    "start_time": "2023-02-08T08:22:42.408Z"
   },
   {
    "duration": 75,
    "start_time": "2023-02-08T08:22:42.657Z"
   },
   {
    "duration": 262,
    "start_time": "2023-02-08T08:22:42.761Z"
   },
   {
    "duration": 1527,
    "start_time": "2023-02-08T08:22:43.030Z"
   },
   {
    "duration": 91,
    "start_time": "2023-02-08T08:22:44.559Z"
   },
   {
    "duration": 40,
    "start_time": "2023-02-08T08:22:44.656Z"
   },
   {
    "duration": 1567,
    "start_time": "2023-02-08T08:22:44.702Z"
   },
   {
    "duration": 17,
    "start_time": "2023-02-08T08:22:46.279Z"
   },
   {
    "duration": 701,
    "start_time": "2023-02-08T08:22:46.307Z"
   },
   {
    "duration": 59,
    "start_time": "2023-02-08T08:22:47.085Z"
   },
   {
    "duration": 222,
    "start_time": "2023-02-08T08:22:47.146Z"
   },
   {
    "duration": 73,
    "start_time": "2023-02-08T08:22:47.378Z"
   },
   {
    "duration": 123,
    "start_time": "2023-02-08T08:22:47.458Z"
   },
   {
    "duration": 20,
    "start_time": "2023-02-08T08:22:47.588Z"
   },
   {
    "duration": 134,
    "start_time": "2023-02-08T08:22:47.616Z"
   },
   {
    "duration": 274,
    "start_time": "2023-02-08T08:22:47.757Z"
   },
   {
    "duration": 0,
    "start_time": "2023-02-08T08:22:48.037Z"
   },
   {
    "duration": 0,
    "start_time": "2023-02-08T08:22:48.043Z"
   },
   {
    "duration": 0,
    "start_time": "2023-02-08T08:22:48.047Z"
   },
   {
    "duration": 0,
    "start_time": "2023-02-08T08:22:48.052Z"
   },
   {
    "duration": 0,
    "start_time": "2023-02-08T08:22:48.056Z"
   },
   {
    "duration": 0,
    "start_time": "2023-02-08T08:22:48.061Z"
   },
   {
    "duration": 0,
    "start_time": "2023-02-08T08:22:48.063Z"
   },
   {
    "duration": 0,
    "start_time": "2023-02-08T08:22:48.066Z"
   },
   {
    "duration": 0,
    "start_time": "2023-02-08T08:22:48.072Z"
   },
   {
    "duration": 233,
    "start_time": "2023-02-08T08:23:33.204Z"
   },
   {
    "duration": 10,
    "start_time": "2023-02-08T08:24:16.024Z"
   },
   {
    "duration": 28,
    "start_time": "2023-02-08T08:24:25.232Z"
   },
   {
    "duration": 13,
    "start_time": "2023-02-08T08:24:28.367Z"
   },
   {
    "duration": 183,
    "start_time": "2023-02-08T08:24:30.771Z"
   },
   {
    "duration": 16,
    "start_time": "2023-02-08T08:24:51.110Z"
   },
   {
    "duration": 22,
    "start_time": "2023-02-08T08:24:54.547Z"
   },
   {
    "duration": 14,
    "start_time": "2023-02-08T08:24:57.223Z"
   },
   {
    "duration": 353,
    "start_time": "2023-02-08T08:24:58.364Z"
   },
   {
    "duration": 212,
    "start_time": "2023-02-08T08:25:42.471Z"
   },
   {
    "duration": 234,
    "start_time": "2023-02-08T08:25:51.491Z"
   },
   {
    "duration": 202,
    "start_time": "2023-02-08T08:33:11.354Z"
   },
   {
    "duration": 7,
    "start_time": "2023-02-08T08:36:03.621Z"
   },
   {
    "duration": 15,
    "start_time": "2023-02-08T08:41:38.925Z"
   },
   {
    "duration": 17,
    "start_time": "2023-02-08T08:43:21.863Z"
   },
   {
    "duration": 10,
    "start_time": "2023-02-08T08:43:48.238Z"
   },
   {
    "duration": 16,
    "start_time": "2023-02-08T08:44:03.875Z"
   },
   {
    "duration": 6,
    "start_time": "2023-02-08T08:44:12.046Z"
   },
   {
    "duration": 7,
    "start_time": "2023-02-08T08:48:01.826Z"
   },
   {
    "duration": 8,
    "start_time": "2023-02-08T08:48:14.030Z"
   },
   {
    "duration": 16,
    "start_time": "2023-02-08T08:49:03.111Z"
   },
   {
    "duration": 15,
    "start_time": "2023-02-08T08:49:05.086Z"
   },
   {
    "duration": 1654,
    "start_time": "2023-02-08T08:50:25.223Z"
   },
   {
    "duration": 70,
    "start_time": "2023-02-08T08:50:26.880Z"
   },
   {
    "duration": 38,
    "start_time": "2023-02-08T08:50:26.952Z"
   },
   {
    "duration": 26,
    "start_time": "2023-02-08T08:50:26.992Z"
   },
   {
    "duration": 66,
    "start_time": "2023-02-08T08:50:27.021Z"
   },
   {
    "duration": 25,
    "start_time": "2023-02-08T08:50:27.090Z"
   },
   {
    "duration": 8,
    "start_time": "2023-02-08T08:50:27.117Z"
   },
   {
    "duration": 5,
    "start_time": "2023-02-08T08:50:27.127Z"
   },
   {
    "duration": 27,
    "start_time": "2023-02-08T08:50:27.134Z"
   },
   {
    "duration": 55,
    "start_time": "2023-02-08T08:50:27.163Z"
   },
   {
    "duration": 29,
    "start_time": "2023-02-08T08:50:27.220Z"
   },
   {
    "duration": 39,
    "start_time": "2023-02-08T08:50:27.251Z"
   },
   {
    "duration": 30,
    "start_time": "2023-02-08T08:50:27.292Z"
   },
   {
    "duration": 8,
    "start_time": "2023-02-08T08:50:27.327Z"
   },
   {
    "duration": 7,
    "start_time": "2023-02-08T08:50:27.337Z"
   },
   {
    "duration": 175,
    "start_time": "2023-02-08T08:50:27.346Z"
   },
   {
    "duration": 9,
    "start_time": "2023-02-08T08:50:27.524Z"
   },
   {
    "duration": 9,
    "start_time": "2023-02-08T08:50:27.535Z"
   },
   {
    "duration": 40,
    "start_time": "2023-02-08T08:50:27.547Z"
   },
   {
    "duration": 31,
    "start_time": "2023-02-08T08:50:27.589Z"
   },
   {
    "duration": 17,
    "start_time": "2023-02-08T08:50:27.623Z"
   },
   {
    "duration": 48,
    "start_time": "2023-02-08T08:50:27.643Z"
   },
   {
    "duration": 35,
    "start_time": "2023-02-08T08:50:27.697Z"
   },
   {
    "duration": 16,
    "start_time": "2023-02-08T08:50:27.734Z"
   },
   {
    "duration": 51,
    "start_time": "2023-02-08T08:50:27.752Z"
   },
   {
    "duration": 35,
    "start_time": "2023-02-08T08:50:27.805Z"
   },
   {
    "duration": 45,
    "start_time": "2023-02-08T08:50:27.843Z"
   },
   {
    "duration": 53,
    "start_time": "2023-02-08T08:50:27.893Z"
   },
   {
    "duration": 35,
    "start_time": "2023-02-08T08:50:27.948Z"
   },
   {
    "duration": 252,
    "start_time": "2023-02-08T08:50:27.988Z"
   },
   {
    "duration": 44672,
    "start_time": "2023-02-08T08:50:28.242Z"
   },
   {
    "duration": 611,
    "start_time": "2023-02-08T08:51:12.916Z"
   },
   {
    "duration": 35,
    "start_time": "2023-02-08T08:51:13.538Z"
   },
   {
    "duration": 306,
    "start_time": "2023-02-08T08:51:13.579Z"
   },
   {
    "duration": 1404,
    "start_time": "2023-02-08T08:51:13.887Z"
   },
   {
    "duration": 115,
    "start_time": "2023-02-08T08:51:15.304Z"
   },
   {
    "duration": 10,
    "start_time": "2023-02-08T08:51:15.421Z"
   },
   {
    "duration": 905,
    "start_time": "2023-02-08T08:51:15.433Z"
   },
   {
    "duration": 25,
    "start_time": "2023-02-08T08:51:16.340Z"
   },
   {
    "duration": 537,
    "start_time": "2023-02-08T08:51:16.367Z"
   },
   {
    "duration": 91,
    "start_time": "2023-02-08T08:51:16.917Z"
   },
   {
    "duration": 63,
    "start_time": "2023-02-08T08:51:17.056Z"
   },
   {
    "duration": 9,
    "start_time": "2023-02-08T08:51:17.121Z"
   },
   {
    "duration": 3,
    "start_time": "2023-02-08T08:51:17.132Z"
   },
   {
    "duration": 16,
    "start_time": "2023-02-08T08:51:17.137Z"
   },
   {
    "duration": 64,
    "start_time": "2023-02-08T08:51:17.155Z"
   },
   {
    "duration": 43,
    "start_time": "2023-02-08T08:51:17.221Z"
   },
   {
    "duration": 46,
    "start_time": "2023-02-08T08:51:17.276Z"
   },
   {
    "duration": 187,
    "start_time": "2023-02-08T08:51:17.324Z"
   },
   {
    "duration": 54,
    "start_time": "2023-02-08T08:51:17.514Z"
   },
   {
    "duration": 156,
    "start_time": "2023-02-08T08:51:17.571Z"
   },
   {
    "duration": 0,
    "start_time": "2023-02-08T08:51:17.730Z"
   },
   {
    "duration": 0,
    "start_time": "2023-02-08T08:51:17.733Z"
   },
   {
    "duration": 0,
    "start_time": "2023-02-08T08:51:17.734Z"
   },
   {
    "duration": 0,
    "start_time": "2023-02-08T08:51:17.736Z"
   },
   {
    "duration": 1,
    "start_time": "2023-02-08T08:51:17.737Z"
   },
   {
    "duration": 0,
    "start_time": "2023-02-08T08:51:17.739Z"
   },
   {
    "duration": 0,
    "start_time": "2023-02-08T08:51:17.741Z"
   },
   {
    "duration": 0,
    "start_time": "2023-02-08T08:51:17.742Z"
   },
   {
    "duration": 0,
    "start_time": "2023-02-08T08:51:17.743Z"
   },
   {
    "duration": 151,
    "start_time": "2023-02-08T08:51:39.308Z"
   },
   {
    "duration": 10,
    "start_time": "2023-02-08T08:54:12.010Z"
   },
   {
    "duration": 174,
    "start_time": "2023-02-08T08:54:46.491Z"
   },
   {
    "duration": 1163,
    "start_time": "2023-02-08T08:54:51.280Z"
   },
   {
    "duration": 86,
    "start_time": "2023-02-08T08:54:52.456Z"
   },
   {
    "duration": 269,
    "start_time": "2023-02-08T08:54:54.102Z"
   },
   {
    "duration": 115,
    "start_time": "2023-02-08T08:54:56.178Z"
   },
   {
    "duration": 36,
    "start_time": "2023-02-08T08:54:56.981Z"
   },
   {
    "duration": 209,
    "start_time": "2023-02-08T08:54:57.640Z"
   },
   {
    "duration": 15,
    "start_time": "2023-02-08T08:54:59.605Z"
   },
   {
    "duration": 888,
    "start_time": "2023-02-08T08:55:01.082Z"
   },
   {
    "duration": 25,
    "start_time": "2023-02-08T09:20:18.296Z"
   },
   {
    "duration": 8,
    "start_time": "2023-02-08T09:20:20.819Z"
   },
   {
    "duration": 6,
    "start_time": "2023-02-08T09:21:31.333Z"
   },
   {
    "duration": 17,
    "start_time": "2023-02-08T09:21:36.725Z"
   },
   {
    "duration": 16,
    "start_time": "2023-02-08T09:21:46.292Z"
   },
   {
    "duration": 10,
    "start_time": "2023-02-08T09:21:52.671Z"
   },
   {
    "duration": 7,
    "start_time": "2023-02-08T09:21:54.109Z"
   },
   {
    "duration": 176,
    "start_time": "2023-02-08T09:21:57.749Z"
   },
   {
    "duration": 16,
    "start_time": "2023-02-08T09:22:31.576Z"
   },
   {
    "duration": 6,
    "start_time": "2023-02-08T09:22:32.295Z"
   },
   {
    "duration": 13,
    "start_time": "2023-02-08T09:22:39.198Z"
   },
   {
    "duration": 170,
    "start_time": "2023-02-08T09:29:08.778Z"
   },
   {
    "duration": 30,
    "start_time": "2023-02-08T09:35:46.311Z"
   },
   {
    "duration": 47,
    "start_time": "2023-02-08T09:35:58.096Z"
   },
   {
    "duration": 497,
    "start_time": "2023-02-08T09:36:58.420Z"
   },
   {
    "duration": 1231,
    "start_time": "2023-02-08T09:37:09.478Z"
   },
   {
    "duration": 477,
    "start_time": "2023-02-08T09:37:13.303Z"
   },
   {
    "duration": 159,
    "start_time": "2023-02-08T09:37:56.419Z"
   },
   {
    "duration": 102,
    "start_time": "2023-02-08T09:38:05.381Z"
   },
   {
    "duration": 111,
    "start_time": "2023-02-08T09:38:08.056Z"
   },
   {
    "duration": 1602,
    "start_time": "2023-02-08T09:38:51.061Z"
   },
   {
    "duration": 49,
    "start_time": "2023-02-08T09:38:52.667Z"
   },
   {
    "duration": 31,
    "start_time": "2023-02-08T09:38:52.718Z"
   },
   {
    "duration": 18,
    "start_time": "2023-02-08T09:38:52.752Z"
   },
   {
    "duration": 88,
    "start_time": "2023-02-08T09:38:52.776Z"
   },
   {
    "duration": 20,
    "start_time": "2023-02-08T09:38:52.867Z"
   },
   {
    "duration": 19,
    "start_time": "2023-02-08T09:38:52.889Z"
   },
   {
    "duration": 8,
    "start_time": "2023-02-08T09:38:52.910Z"
   },
   {
    "duration": 13,
    "start_time": "2023-02-08T09:38:52.921Z"
   },
   {
    "duration": 14,
    "start_time": "2023-02-08T09:38:52.937Z"
   },
   {
    "duration": 52,
    "start_time": "2023-02-08T09:38:52.952Z"
   },
   {
    "duration": 9,
    "start_time": "2023-02-08T09:38:53.006Z"
   },
   {
    "duration": 13,
    "start_time": "2023-02-08T09:38:53.017Z"
   },
   {
    "duration": 8,
    "start_time": "2023-02-08T09:38:53.035Z"
   },
   {
    "duration": 17,
    "start_time": "2023-02-08T09:38:53.045Z"
   },
   {
    "duration": 35,
    "start_time": "2023-02-08T09:38:53.071Z"
   },
   {
    "duration": 8,
    "start_time": "2023-02-08T09:38:53.108Z"
   },
   {
    "duration": 19,
    "start_time": "2023-02-08T09:38:53.118Z"
   },
   {
    "duration": 31,
    "start_time": "2023-02-08T09:38:53.139Z"
   },
   {
    "duration": 19,
    "start_time": "2023-02-08T09:38:53.174Z"
   },
   {
    "duration": 8,
    "start_time": "2023-02-08T09:38:53.194Z"
   },
   {
    "duration": 7,
    "start_time": "2023-02-08T09:38:53.204Z"
   },
   {
    "duration": 7,
    "start_time": "2023-02-08T09:38:53.213Z"
   },
   {
    "duration": 10,
    "start_time": "2023-02-08T09:38:53.222Z"
   },
   {
    "duration": 6,
    "start_time": "2023-02-08T09:38:53.234Z"
   },
   {
    "duration": 33,
    "start_time": "2023-02-08T09:38:53.255Z"
   },
   {
    "duration": 24,
    "start_time": "2023-02-08T09:38:53.290Z"
   },
   {
    "duration": 25,
    "start_time": "2023-02-08T09:38:53.315Z"
   },
   {
    "duration": 30,
    "start_time": "2023-02-08T09:38:53.342Z"
   },
   {
    "duration": 256,
    "start_time": "2023-02-08T09:38:53.374Z"
   },
   {
    "duration": 45863,
    "start_time": "2023-02-08T09:38:53.632Z"
   },
   {
    "duration": 491,
    "start_time": "2023-02-08T09:39:39.497Z"
   },
   {
    "duration": 80,
    "start_time": "2023-02-08T09:39:39.997Z"
   },
   {
    "duration": 209,
    "start_time": "2023-02-08T09:39:40.087Z"
   },
   {
    "duration": 2974,
    "start_time": "2023-02-08T09:39:40.298Z"
   },
   {
    "duration": 44,
    "start_time": "2023-02-08T09:39:43.285Z"
   },
   {
    "duration": 18,
    "start_time": "2023-02-08T09:39:43.353Z"
   },
   {
    "duration": 934,
    "start_time": "2023-02-08T09:39:43.374Z"
   },
   {
    "duration": 15,
    "start_time": "2023-02-08T09:39:44.310Z"
   },
   {
    "duration": 261,
    "start_time": "2023-02-08T09:39:44.327Z"
   },
   {
    "duration": 28,
    "start_time": "2023-02-08T09:39:44.655Z"
   },
   {
    "duration": 106,
    "start_time": "2023-02-08T09:39:44.689Z"
   },
   {
    "duration": 8,
    "start_time": "2023-02-08T09:39:44.797Z"
   },
   {
    "duration": 130,
    "start_time": "2023-02-08T09:39:44.808Z"
   },
   {
    "duration": 25,
    "start_time": "2023-02-08T09:39:44.941Z"
   },
   {
    "duration": 29,
    "start_time": "2023-02-08T09:39:44.968Z"
   },
   {
    "duration": 173,
    "start_time": "2023-02-08T09:39:44.999Z"
   },
   {
    "duration": 45,
    "start_time": "2023-02-08T09:39:45.174Z"
   },
   {
    "duration": 12,
    "start_time": "2023-02-08T09:39:45.221Z"
   },
   {
    "duration": 285,
    "start_time": "2023-02-08T09:39:45.235Z"
   },
   {
    "duration": 1320,
    "start_time": "2023-02-08T09:39:45.522Z"
   },
   {
    "duration": 68,
    "start_time": "2023-02-08T09:39:46.844Z"
   },
   {
    "duration": 200,
    "start_time": "2023-02-08T09:39:46.914Z"
   },
   {
    "duration": 69,
    "start_time": "2023-02-08T09:39:47.116Z"
   },
   {
    "duration": 191,
    "start_time": "2023-02-08T09:39:47.186Z"
   },
   {
    "duration": 195,
    "start_time": "2023-02-08T09:39:47.456Z"
   },
   {
    "duration": 28,
    "start_time": "2023-02-08T09:39:47.653Z"
   },
   {
    "duration": 1200,
    "start_time": "2023-02-08T09:39:47.689Z"
   },
   {
    "duration": 737,
    "start_time": "2023-02-08T09:40:06.430Z"
   },
   {
    "duration": 344,
    "start_time": "2023-02-08T09:40:11.733Z"
   },
   {
    "duration": 359,
    "start_time": "2023-02-08T09:41:11.129Z"
   },
   {
    "duration": 1026,
    "start_time": "2023-02-08T09:41:15.783Z"
   },
   {
    "duration": 1283,
    "start_time": "2023-02-08T09:41:41.632Z"
   },
   {
    "duration": 382,
    "start_time": "2023-02-08T09:41:49.288Z"
   },
   {
    "duration": 235,
    "start_time": "2023-02-08T09:41:53.975Z"
   },
   {
    "duration": 189,
    "start_time": "2023-02-08T09:41:57.931Z"
   },
   {
    "duration": 36,
    "start_time": "2023-02-08T09:42:01.512Z"
   },
   {
    "duration": 2128,
    "start_time": "2023-02-08T09:42:05.968Z"
   },
   {
    "duration": 1083,
    "start_time": "2023-02-08T09:42:23.641Z"
   },
   {
    "duration": 1380,
    "start_time": "2023-02-08T09:42:34.514Z"
   },
   {
    "duration": 1302,
    "start_time": "2023-02-08T09:42:49.642Z"
   },
   {
    "duration": 374,
    "start_time": "2023-02-08T09:42:57.401Z"
   },
   {
    "duration": 372,
    "start_time": "2023-02-08T09:44:11.517Z"
   },
   {
    "duration": 363,
    "start_time": "2023-02-08T09:44:20.139Z"
   },
   {
    "duration": 347,
    "start_time": "2023-02-08T09:44:24.523Z"
   },
   {
    "duration": 384,
    "start_time": "2023-02-08T09:44:29.315Z"
   },
   {
    "duration": 407,
    "start_time": "2023-02-08T09:44:35.499Z"
   },
   {
    "duration": 1072,
    "start_time": "2023-02-08T09:44:41.067Z"
   },
   {
    "duration": 1000,
    "start_time": "2023-02-08T09:44:46.541Z"
   },
   {
    "duration": 1087,
    "start_time": "2023-02-08T09:44:51.047Z"
   },
   {
    "duration": 878,
    "start_time": "2023-02-08T09:44:55.828Z"
   },
   {
    "duration": 9918,
    "start_time": "2023-02-08T09:45:00.331Z"
   },
   {
    "duration": 1059,
    "start_time": "2023-02-08T09:45:11.901Z"
   },
   {
    "duration": 1024,
    "start_time": "2023-02-08T09:45:18.140Z"
   },
   {
    "duration": 1061,
    "start_time": "2023-02-08T09:45:23.348Z"
   },
   {
    "duration": 1432,
    "start_time": "2023-02-08T09:51:05.235Z"
   },
   {
    "duration": 1350,
    "start_time": "2023-02-08T09:51:24.499Z"
   },
   {
    "duration": 1058,
    "start_time": "2023-02-08T09:52:10.413Z"
   },
   {
    "duration": 992,
    "start_time": "2023-02-08T09:52:17.204Z"
   },
   {
    "duration": 359,
    "start_time": "2023-02-08T09:52:23.147Z"
   },
   {
    "duration": 993,
    "start_time": "2023-02-08T09:53:20.570Z"
   },
   {
    "duration": 307,
    "start_time": "2023-02-08T09:53:25.831Z"
   },
   {
    "duration": 290,
    "start_time": "2023-02-08T10:14:32.877Z"
   },
   {
    "duration": 332,
    "start_time": "2023-02-08T10:15:15.602Z"
   },
   {
    "duration": 26,
    "start_time": "2023-02-08T10:15:38.789Z"
   },
   {
    "duration": 26,
    "start_time": "2023-02-08T10:15:48.977Z"
   },
   {
    "duration": 23,
    "start_time": "2023-02-08T10:15:55.926Z"
   },
   {
    "duration": 12,
    "start_time": "2023-02-08T10:16:00.083Z"
   },
   {
    "duration": 145,
    "start_time": "2023-02-08T10:16:20.797Z"
   },
   {
    "duration": 14,
    "start_time": "2023-02-08T10:45:24.248Z"
   },
   {
    "duration": 33,
    "start_time": "2023-02-08T10:48:00.683Z"
   },
   {
    "duration": 10,
    "start_time": "2023-02-08T10:48:53.804Z"
   },
   {
    "duration": 1719,
    "start_time": "2023-02-08T10:49:10.429Z"
   },
   {
    "duration": 62,
    "start_time": "2023-02-08T10:49:12.150Z"
   },
   {
    "duration": 27,
    "start_time": "2023-02-08T10:49:12.214Z"
   },
   {
    "duration": 23,
    "start_time": "2023-02-08T10:49:12.243Z"
   },
   {
    "duration": 92,
    "start_time": "2023-02-08T10:49:12.272Z"
   },
   {
    "duration": 14,
    "start_time": "2023-02-08T10:49:12.368Z"
   },
   {
    "duration": 46,
    "start_time": "2023-02-08T10:49:12.384Z"
   },
   {
    "duration": 7,
    "start_time": "2023-02-08T10:49:12.432Z"
   },
   {
    "duration": 11,
    "start_time": "2023-02-08T10:49:12.440Z"
   },
   {
    "duration": 73,
    "start_time": "2023-02-08T10:49:12.453Z"
   },
   {
    "duration": 31,
    "start_time": "2023-02-08T10:49:12.529Z"
   },
   {
    "duration": 58,
    "start_time": "2023-02-08T10:49:12.563Z"
   },
   {
    "duration": 5,
    "start_time": "2023-02-08T10:49:12.623Z"
   },
   {
    "duration": 14,
    "start_time": "2023-02-08T10:49:12.635Z"
   },
   {
    "duration": 16,
    "start_time": "2023-02-08T10:49:12.652Z"
   },
   {
    "duration": 49,
    "start_time": "2023-02-08T10:49:12.670Z"
   },
   {
    "duration": 8,
    "start_time": "2023-02-08T10:49:12.721Z"
   },
   {
    "duration": 14,
    "start_time": "2023-02-08T10:49:12.731Z"
   },
   {
    "duration": 51,
    "start_time": "2023-02-08T10:49:12.747Z"
   },
   {
    "duration": 35,
    "start_time": "2023-02-08T10:49:12.800Z"
   },
   {
    "duration": 18,
    "start_time": "2023-02-08T10:49:12.842Z"
   },
   {
    "duration": 16,
    "start_time": "2023-02-08T10:49:12.867Z"
   },
   {
    "duration": 26,
    "start_time": "2023-02-08T10:49:12.889Z"
   },
   {
    "duration": 10,
    "start_time": "2023-02-08T10:49:12.925Z"
   },
   {
    "duration": 8,
    "start_time": "2023-02-08T10:49:12.938Z"
   },
   {
    "duration": 72,
    "start_time": "2023-02-08T10:49:12.948Z"
   },
   {
    "duration": 36,
    "start_time": "2023-02-08T10:49:13.022Z"
   },
   {
    "duration": 41,
    "start_time": "2023-02-08T10:49:13.060Z"
   },
   {
    "duration": 44,
    "start_time": "2023-02-08T10:49:13.103Z"
   },
   {
    "duration": 211,
    "start_time": "2023-02-08T10:49:13.149Z"
   },
   {
    "duration": 42231,
    "start_time": "2023-02-08T10:49:13.361Z"
   },
   {
    "duration": 1264,
    "start_time": "2023-02-08T10:49:55.607Z"
   },
   {
    "duration": 86,
    "start_time": "2023-02-08T10:49:56.887Z"
   },
   {
    "duration": 224,
    "start_time": "2023-02-08T10:49:56.980Z"
   },
   {
    "duration": 1605,
    "start_time": "2023-02-08T10:49:57.205Z"
   },
   {
    "duration": 97,
    "start_time": "2023-02-08T10:49:58.870Z"
   },
   {
    "duration": 59,
    "start_time": "2023-02-08T10:49:58.969Z"
   },
   {
    "duration": 19,
    "start_time": "2023-02-08T10:49:59.030Z"
   },
   {
    "duration": 935,
    "start_time": "2023-02-08T10:49:59.051Z"
   },
   {
    "duration": 11,
    "start_time": "2023-02-08T10:49:59.988Z"
   },
   {
    "duration": 98,
    "start_time": "2023-02-08T10:50:00.008Z"
   },
   {
    "duration": 374,
    "start_time": "2023-02-08T10:50:00.108Z"
   },
   {
    "duration": 82,
    "start_time": "2023-02-08T10:50:00.488Z"
   },
   {
    "duration": 65,
    "start_time": "2023-02-08T10:50:00.573Z"
   },
   {
    "duration": 189,
    "start_time": "2023-02-08T10:50:00.640Z"
   },
   {
    "duration": 31,
    "start_time": "2023-02-08T10:50:00.831Z"
   },
   {
    "duration": 177,
    "start_time": "2023-02-08T10:50:00.867Z"
   },
   {
    "duration": 27,
    "start_time": "2023-02-08T10:50:01.046Z"
   },
   {
    "duration": 58,
    "start_time": "2023-02-08T10:50:01.075Z"
   },
   {
    "duration": 181,
    "start_time": "2023-02-08T10:50:01.135Z"
   },
   {
    "duration": 38,
    "start_time": "2023-02-08T10:50:01.318Z"
   },
   {
    "duration": 44,
    "start_time": "2023-02-08T10:50:01.358Z"
   },
   {
    "duration": 299,
    "start_time": "2023-02-08T10:50:01.404Z"
   },
   {
    "duration": 1161,
    "start_time": "2023-02-08T10:50:01.705Z"
   },
   {
    "duration": 77,
    "start_time": "2023-02-08T10:50:02.872Z"
   },
   {
    "duration": 169,
    "start_time": "2023-02-08T10:50:02.951Z"
   },
   {
    "duration": 71,
    "start_time": "2023-02-08T10:50:03.122Z"
   },
   {
    "duration": 109,
    "start_time": "2023-02-08T10:50:03.200Z"
   },
   {
    "duration": 322,
    "start_time": "2023-02-08T10:50:03.318Z"
   },
   {
    "duration": 40,
    "start_time": "2023-02-08T10:50:03.642Z"
   },
   {
    "duration": 467,
    "start_time": "2023-02-08T10:50:03.685Z"
   },
   {
    "duration": 31,
    "start_time": "2023-02-08T10:50:04.156Z"
   },
   {
    "duration": 217,
    "start_time": "2023-02-08T10:50:04.190Z"
   },
   {
    "duration": 187,
    "start_time": "2023-02-08T10:52:52.818Z"
   },
   {
    "duration": 218,
    "start_time": "2023-02-08T10:53:18.428Z"
   },
   {
    "duration": 167,
    "start_time": "2023-02-08T10:53:33.743Z"
   },
   {
    "duration": 1868,
    "start_time": "2023-02-08T10:53:43.681Z"
   },
   {
    "duration": 73,
    "start_time": "2023-02-08T10:53:45.551Z"
   },
   {
    "duration": 22,
    "start_time": "2023-02-08T10:53:45.625Z"
   },
   {
    "duration": 17,
    "start_time": "2023-02-08T10:53:45.649Z"
   },
   {
    "duration": 109,
    "start_time": "2023-02-08T10:53:45.668Z"
   },
   {
    "duration": 19,
    "start_time": "2023-02-08T10:53:45.780Z"
   },
   {
    "duration": 35,
    "start_time": "2023-02-08T10:53:45.801Z"
   },
   {
    "duration": 18,
    "start_time": "2023-02-08T10:53:45.838Z"
   },
   {
    "duration": 57,
    "start_time": "2023-02-08T10:53:45.858Z"
   },
   {
    "duration": 15,
    "start_time": "2023-02-08T10:53:45.917Z"
   },
   {
    "duration": 28,
    "start_time": "2023-02-08T10:53:45.935Z"
   },
   {
    "duration": 10,
    "start_time": "2023-02-08T10:53:45.966Z"
   },
   {
    "duration": 28,
    "start_time": "2023-02-08T10:53:45.978Z"
   },
   {
    "duration": 31,
    "start_time": "2023-02-08T10:53:46.010Z"
   },
   {
    "duration": 6,
    "start_time": "2023-02-08T10:53:46.043Z"
   },
   {
    "duration": 25,
    "start_time": "2023-02-08T10:53:46.051Z"
   },
   {
    "duration": 40,
    "start_time": "2023-02-08T10:53:46.078Z"
   },
   {
    "duration": 6,
    "start_time": "2023-02-08T10:53:46.120Z"
   },
   {
    "duration": 23,
    "start_time": "2023-02-08T10:53:46.128Z"
   },
   {
    "duration": 8,
    "start_time": "2023-02-08T10:53:46.157Z"
   },
   {
    "duration": 46,
    "start_time": "2023-02-08T10:53:46.171Z"
   },
   {
    "duration": 9,
    "start_time": "2023-02-08T10:53:46.220Z"
   },
   {
    "duration": 8,
    "start_time": "2023-02-08T10:53:46.232Z"
   },
   {
    "duration": 5,
    "start_time": "2023-02-08T10:53:46.243Z"
   },
   {
    "duration": 52,
    "start_time": "2023-02-08T10:53:46.250Z"
   },
   {
    "duration": 15,
    "start_time": "2023-02-08T10:53:46.304Z"
   },
   {
    "duration": 25,
    "start_time": "2023-02-08T10:53:46.322Z"
   },
   {
    "duration": 29,
    "start_time": "2023-02-08T10:53:46.350Z"
   },
   {
    "duration": 53,
    "start_time": "2023-02-08T10:53:46.381Z"
   },
   {
    "duration": 208,
    "start_time": "2023-02-08T10:53:46.437Z"
   },
   {
    "duration": 44432,
    "start_time": "2023-02-08T10:53:46.647Z"
   },
   {
    "duration": 491,
    "start_time": "2023-02-08T10:54:31.090Z"
   },
   {
    "duration": 83,
    "start_time": "2023-02-08T10:54:31.601Z"
   },
   {
    "duration": 239,
    "start_time": "2023-02-08T10:54:31.709Z"
   },
   {
    "duration": 1390,
    "start_time": "2023-02-08T10:54:31.953Z"
   },
   {
    "duration": 32,
    "start_time": "2023-02-08T10:54:33.349Z"
   },
   {
    "duration": 73,
    "start_time": "2023-02-08T10:54:33.386Z"
   },
   {
    "duration": 68,
    "start_time": "2023-02-08T10:54:33.461Z"
   },
   {
    "duration": 188,
    "start_time": "2023-02-08T10:54:33.532Z"
   },
   {
    "duration": 838,
    "start_time": "2023-02-08T10:54:33.722Z"
   },
   {
    "duration": 11,
    "start_time": "2023-02-08T10:54:34.565Z"
   },
   {
    "duration": 65,
    "start_time": "2023-02-08T10:54:34.578Z"
   },
   {
    "duration": 199,
    "start_time": "2023-02-08T10:54:34.664Z"
   },
   {
    "duration": 263,
    "start_time": "2023-02-08T10:54:34.868Z"
   },
   {
    "duration": 21,
    "start_time": "2023-02-08T10:54:35.164Z"
   },
   {
    "duration": 68,
    "start_time": "2023-02-08T10:54:35.194Z"
   },
   {
    "duration": 443,
    "start_time": "2023-02-08T10:54:35.273Z"
   },
   {
    "duration": 23,
    "start_time": "2023-02-08T10:54:35.717Z"
   },
   {
    "duration": 94,
    "start_time": "2023-02-08T10:54:35.743Z"
   },
   {
    "duration": 271,
    "start_time": "2023-02-08T10:54:35.842Z"
   },
   {
    "duration": 36,
    "start_time": "2023-02-08T10:54:36.119Z"
   },
   {
    "duration": 74,
    "start_time": "2023-02-08T10:54:36.157Z"
   },
   {
    "duration": 199,
    "start_time": "2023-02-08T10:54:36.239Z"
   },
   {
    "duration": 56,
    "start_time": "2023-02-08T10:54:36.444Z"
   },
   {
    "duration": 47,
    "start_time": "2023-02-08T10:54:36.504Z"
   },
   {
    "duration": 219,
    "start_time": "2023-02-08T10:54:36.555Z"
   },
   {
    "duration": 1311,
    "start_time": "2023-02-08T10:54:36.775Z"
   },
   {
    "duration": 95,
    "start_time": "2023-02-08T10:54:38.088Z"
   },
   {
    "duration": 388,
    "start_time": "2023-02-08T10:54:38.185Z"
   },
   {
    "duration": 172,
    "start_time": "2023-02-08T10:54:38.577Z"
   },
   {
    "duration": 129,
    "start_time": "2023-02-08T10:54:38.764Z"
   },
   {
    "duration": 235,
    "start_time": "2023-02-08T10:54:38.895Z"
   },
   {
    "duration": 96,
    "start_time": "2023-02-08T10:54:39.132Z"
   },
   {
    "duration": 529,
    "start_time": "2023-02-08T10:54:39.258Z"
   },
   {
    "duration": 36,
    "start_time": "2023-02-08T10:54:39.792Z"
   },
   {
    "duration": 312,
    "start_time": "2023-02-08T10:54:39.833Z"
   },
   {
    "duration": 144,
    "start_time": "2023-02-08T10:59:03.168Z"
   },
   {
    "duration": 8,
    "start_time": "2023-02-08T10:59:30.693Z"
   },
   {
    "duration": 12,
    "start_time": "2023-02-08T10:59:36.989Z"
   },
   {
    "duration": 334,
    "start_time": "2023-02-08T11:01:23.111Z"
   },
   {
    "duration": 284,
    "start_time": "2023-02-08T11:01:52.293Z"
   },
   {
    "duration": 1532,
    "start_time": "2023-02-08T11:02:19.324Z"
   },
   {
    "duration": 65,
    "start_time": "2023-02-08T11:02:20.859Z"
   },
   {
    "duration": 21,
    "start_time": "2023-02-08T11:02:20.926Z"
   },
   {
    "duration": 76,
    "start_time": "2023-02-08T11:02:20.949Z"
   },
   {
    "duration": 91,
    "start_time": "2023-02-08T11:02:21.027Z"
   },
   {
    "duration": 28,
    "start_time": "2023-02-08T11:02:21.124Z"
   },
   {
    "duration": 30,
    "start_time": "2023-02-08T11:02:21.154Z"
   },
   {
    "duration": 37,
    "start_time": "2023-02-08T11:02:21.190Z"
   },
   {
    "duration": 5,
    "start_time": "2023-02-08T11:02:21.229Z"
   },
   {
    "duration": 70,
    "start_time": "2023-02-08T11:02:21.236Z"
   },
   {
    "duration": 30,
    "start_time": "2023-02-08T11:02:21.308Z"
   },
   {
    "duration": 6,
    "start_time": "2023-02-08T11:02:21.340Z"
   },
   {
    "duration": 64,
    "start_time": "2023-02-08T11:02:21.347Z"
   },
   {
    "duration": 20,
    "start_time": "2023-02-08T11:02:21.415Z"
   },
   {
    "duration": 9,
    "start_time": "2023-02-08T11:02:21.437Z"
   },
   {
    "duration": 18,
    "start_time": "2023-02-08T11:02:21.447Z"
   },
   {
    "duration": 57,
    "start_time": "2023-02-08T11:02:21.467Z"
   },
   {
    "duration": 13,
    "start_time": "2023-02-08T11:02:21.526Z"
   },
   {
    "duration": 67,
    "start_time": "2023-02-08T11:02:21.541Z"
   },
   {
    "duration": 16,
    "start_time": "2023-02-08T11:02:21.611Z"
   },
   {
    "duration": 9,
    "start_time": "2023-02-08T11:02:21.629Z"
   },
   {
    "duration": 12,
    "start_time": "2023-02-08T11:02:21.639Z"
   },
   {
    "duration": 53,
    "start_time": "2023-02-08T11:02:21.657Z"
   },
   {
    "duration": 12,
    "start_time": "2023-02-08T11:02:21.712Z"
   },
   {
    "duration": 7,
    "start_time": "2023-02-08T11:02:21.726Z"
   },
   {
    "duration": 25,
    "start_time": "2023-02-08T11:02:21.734Z"
   },
   {
    "duration": 82,
    "start_time": "2023-02-08T11:02:21.760Z"
   },
   {
    "duration": 21,
    "start_time": "2023-02-08T11:02:21.844Z"
   },
   {
    "duration": 74,
    "start_time": "2023-02-08T11:02:21.867Z"
   },
   {
    "duration": 224,
    "start_time": "2023-02-08T11:02:21.943Z"
   },
   {
    "duration": 41180,
    "start_time": "2023-02-08T11:02:22.178Z"
   },
   {
    "duration": 634,
    "start_time": "2023-02-08T11:03:03.365Z"
   },
   {
    "duration": 75,
    "start_time": "2023-02-08T11:03:04.000Z"
   },
   {
    "duration": 231,
    "start_time": "2023-02-08T11:03:04.085Z"
   },
   {
    "duration": 1444,
    "start_time": "2023-02-08T11:03:04.317Z"
   },
   {
    "duration": 128,
    "start_time": "2023-02-08T11:03:05.766Z"
   },
   {
    "duration": 17,
    "start_time": "2023-02-08T11:03:05.899Z"
   },
   {
    "duration": 11,
    "start_time": "2023-02-08T11:03:05.917Z"
   },
   {
    "duration": 198,
    "start_time": "2023-02-08T11:03:05.930Z"
   },
   {
    "duration": 849,
    "start_time": "2023-02-08T11:03:06.130Z"
   },
   {
    "duration": 17,
    "start_time": "2023-02-08T11:03:06.987Z"
   },
   {
    "duration": 76,
    "start_time": "2023-02-08T11:03:07.008Z"
   },
   {
    "duration": 149,
    "start_time": "2023-02-08T11:03:07.086Z"
   },
   {
    "duration": 622,
    "start_time": "2023-02-08T11:03:07.236Z"
   },
   {
    "duration": 41,
    "start_time": "2023-02-08T11:03:07.863Z"
   },
   {
    "duration": 115,
    "start_time": "2023-02-08T11:03:07.909Z"
   },
   {
    "duration": 385,
    "start_time": "2023-02-08T11:03:08.031Z"
   },
   {
    "duration": 12,
    "start_time": "2023-02-08T11:03:08.418Z"
   },
   {
    "duration": 6,
    "start_time": "2023-02-08T11:03:08.432Z"
   },
   {
    "duration": 178,
    "start_time": "2023-02-08T11:03:08.470Z"
   },
   {
    "duration": 23,
    "start_time": "2023-02-08T11:03:08.650Z"
   },
   {
    "duration": 41,
    "start_time": "2023-02-08T11:03:08.675Z"
   },
   {
    "duration": 149,
    "start_time": "2023-02-08T11:03:08.718Z"
   },
   {
    "duration": 39,
    "start_time": "2023-02-08T11:03:08.869Z"
   },
   {
    "duration": 28,
    "start_time": "2023-02-08T11:03:08.909Z"
   },
   {
    "duration": 194,
    "start_time": "2023-02-08T11:03:08.938Z"
   },
   {
    "duration": 1248,
    "start_time": "2023-02-08T11:03:09.133Z"
   },
   {
    "duration": 79,
    "start_time": "2023-02-08T11:03:10.387Z"
   },
   {
    "duration": 163,
    "start_time": "2023-02-08T11:03:10.468Z"
   },
   {
    "duration": 154,
    "start_time": "2023-02-08T11:03:10.633Z"
   },
   {
    "duration": 177,
    "start_time": "2023-02-08T11:03:10.793Z"
   },
   {
    "duration": 214,
    "start_time": "2023-02-08T11:03:10.980Z"
   },
   {
    "duration": 18,
    "start_time": "2023-02-08T11:03:11.200Z"
   },
   {
    "duration": 588,
    "start_time": "2023-02-08T11:03:11.220Z"
   },
   {
    "duration": 57,
    "start_time": "2023-02-08T11:03:11.811Z"
   },
   {
    "duration": 181,
    "start_time": "2023-02-08T11:03:11.870Z"
   },
   {
    "duration": 11,
    "start_time": "2023-02-08T11:03:12.056Z"
   },
   {
    "duration": 1695,
    "start_time": "2023-02-08T11:41:47.295Z"
   },
   {
    "duration": 49,
    "start_time": "2023-02-08T11:41:48.993Z"
   },
   {
    "duration": 31,
    "start_time": "2023-02-08T11:41:49.044Z"
   },
   {
    "duration": 48,
    "start_time": "2023-02-08T11:41:49.077Z"
   },
   {
    "duration": 69,
    "start_time": "2023-02-08T11:41:49.127Z"
   },
   {
    "duration": 12,
    "start_time": "2023-02-08T11:41:49.204Z"
   },
   {
    "duration": 8,
    "start_time": "2023-02-08T11:41:49.218Z"
   },
   {
    "duration": 6,
    "start_time": "2023-02-08T11:41:49.227Z"
   },
   {
    "duration": 6,
    "start_time": "2023-02-08T11:41:49.235Z"
   },
   {
    "duration": 29,
    "start_time": "2023-02-08T11:41:49.244Z"
   },
   {
    "duration": 50,
    "start_time": "2023-02-08T11:41:49.275Z"
   },
   {
    "duration": 5,
    "start_time": "2023-02-08T11:41:49.328Z"
   },
   {
    "duration": 8,
    "start_time": "2023-02-08T11:41:49.335Z"
   },
   {
    "duration": 11,
    "start_time": "2023-02-08T11:41:49.345Z"
   },
   {
    "duration": 44,
    "start_time": "2023-02-08T11:41:49.365Z"
   },
   {
    "duration": 9,
    "start_time": "2023-02-08T11:41:49.411Z"
   },
   {
    "duration": 9,
    "start_time": "2023-02-08T11:41:49.421Z"
   },
   {
    "duration": 6,
    "start_time": "2023-02-08T11:41:49.431Z"
   },
   {
    "duration": 29,
    "start_time": "2023-02-08T11:41:49.438Z"
   },
   {
    "duration": 38,
    "start_time": "2023-02-08T11:41:49.469Z"
   },
   {
    "duration": 12,
    "start_time": "2023-02-08T11:41:49.511Z"
   },
   {
    "duration": 10,
    "start_time": "2023-02-08T11:41:49.526Z"
   },
   {
    "duration": 9,
    "start_time": "2023-02-08T11:41:49.538Z"
   },
   {
    "duration": 10,
    "start_time": "2023-02-08T11:41:49.549Z"
   },
   {
    "duration": 65,
    "start_time": "2023-02-08T11:41:49.564Z"
   },
   {
    "duration": 53,
    "start_time": "2023-02-08T11:41:49.632Z"
   },
   {
    "duration": 33,
    "start_time": "2023-02-08T11:41:49.687Z"
   },
   {
    "duration": 22,
    "start_time": "2023-02-08T11:41:49.724Z"
   },
   {
    "duration": 58,
    "start_time": "2023-02-08T11:41:49.748Z"
   },
   {
    "duration": 213,
    "start_time": "2023-02-08T11:41:49.808Z"
   },
   {
    "duration": 41476,
    "start_time": "2023-02-08T11:41:50.023Z"
   },
   {
    "duration": 479,
    "start_time": "2023-02-08T11:42:31.501Z"
   },
   {
    "duration": 78,
    "start_time": "2023-02-08T11:42:31.987Z"
   },
   {
    "duration": 216,
    "start_time": "2023-02-08T11:42:32.067Z"
   },
   {
    "duration": 1288,
    "start_time": "2023-02-08T11:42:32.285Z"
   },
   {
    "duration": 85,
    "start_time": "2023-02-08T11:42:33.593Z"
   },
   {
    "duration": 33,
    "start_time": "2023-02-08T11:42:33.680Z"
   },
   {
    "duration": 30,
    "start_time": "2023-02-08T11:42:33.715Z"
   },
   {
    "duration": 175,
    "start_time": "2023-02-08T11:42:33.747Z"
   },
   {
    "duration": 873,
    "start_time": "2023-02-08T11:42:33.924Z"
   },
   {
    "duration": 13,
    "start_time": "2023-02-08T11:42:34.802Z"
   },
   {
    "duration": 79,
    "start_time": "2023-02-08T11:42:34.817Z"
   },
   {
    "duration": 193,
    "start_time": "2023-02-08T11:42:34.901Z"
   },
   {
    "duration": 565,
    "start_time": "2023-02-08T11:42:35.095Z"
   },
   {
    "duration": 34,
    "start_time": "2023-02-08T11:42:35.668Z"
   },
   {
    "duration": 151,
    "start_time": "2023-02-08T11:42:35.709Z"
   },
   {
    "duration": 318,
    "start_time": "2023-02-08T11:42:35.871Z"
   },
   {
    "duration": 15,
    "start_time": "2023-02-08T11:42:36.194Z"
   },
   {
    "duration": 11,
    "start_time": "2023-02-08T11:42:36.211Z"
   },
   {
    "duration": 157,
    "start_time": "2023-02-08T11:42:36.223Z"
   },
   {
    "duration": 18,
    "start_time": "2023-02-08T11:42:36.382Z"
   },
   {
    "duration": 8,
    "start_time": "2023-02-08T11:42:36.406Z"
   },
   {
    "duration": 165,
    "start_time": "2023-02-08T11:42:36.416Z"
   },
   {
    "duration": 40,
    "start_time": "2023-02-08T11:42:36.586Z"
   },
   {
    "duration": 10,
    "start_time": "2023-02-08T11:42:36.628Z"
   },
   {
    "duration": 168,
    "start_time": "2023-02-08T11:42:36.653Z"
   },
   {
    "duration": 1172,
    "start_time": "2023-02-08T11:42:36.823Z"
   },
   {
    "duration": 88,
    "start_time": "2023-02-08T11:42:38.002Z"
   },
   {
    "duration": 210,
    "start_time": "2023-02-08T11:42:38.099Z"
   },
   {
    "duration": 52,
    "start_time": "2023-02-08T11:42:38.316Z"
   },
   {
    "duration": 14,
    "start_time": "2023-02-08T11:42:38.370Z"
   },
   {
    "duration": 351,
    "start_time": "2023-02-08T11:42:38.386Z"
   },
   {
    "duration": 24,
    "start_time": "2023-02-08T11:42:38.741Z"
   },
   {
    "duration": 492,
    "start_time": "2023-02-08T11:42:38.769Z"
   },
   {
    "duration": 103,
    "start_time": "2023-02-08T11:42:39.267Z"
   },
   {
    "duration": 204,
    "start_time": "2023-02-08T11:42:39.377Z"
   },
   {
    "duration": 16,
    "start_time": "2023-02-08T11:42:39.589Z"
   },
   {
    "duration": 1541,
    "start_time": "2023-02-08T12:01:51.227Z"
   },
   {
    "duration": 51,
    "start_time": "2023-02-08T12:01:52.770Z"
   },
   {
    "duration": 25,
    "start_time": "2023-02-08T12:01:52.822Z"
   },
   {
    "duration": 26,
    "start_time": "2023-02-08T12:01:52.849Z"
   },
   {
    "duration": 61,
    "start_time": "2023-02-08T12:01:52.878Z"
   },
   {
    "duration": 11,
    "start_time": "2023-02-08T12:01:52.940Z"
   },
   {
    "duration": 42,
    "start_time": "2023-02-08T12:01:52.958Z"
   },
   {
    "duration": 16,
    "start_time": "2023-02-08T12:01:53.002Z"
   },
   {
    "duration": 9,
    "start_time": "2023-02-08T12:01:53.020Z"
   },
   {
    "duration": 20,
    "start_time": "2023-02-08T12:01:53.031Z"
   },
   {
    "duration": 58,
    "start_time": "2023-02-08T12:01:53.055Z"
   },
   {
    "duration": 21,
    "start_time": "2023-02-08T12:01:53.115Z"
   },
   {
    "duration": 48,
    "start_time": "2023-02-08T12:01:53.138Z"
   },
   {
    "duration": 12,
    "start_time": "2023-02-08T12:01:53.193Z"
   },
   {
    "duration": 37,
    "start_time": "2023-02-08T12:01:53.207Z"
   },
   {
    "duration": 56,
    "start_time": "2023-02-08T12:01:53.246Z"
   },
   {
    "duration": 30,
    "start_time": "2023-02-08T12:01:53.305Z"
   },
   {
    "duration": 76,
    "start_time": "2023-02-08T12:01:53.337Z"
   },
   {
    "duration": 37,
    "start_time": "2023-02-08T12:01:53.415Z"
   },
   {
    "duration": 8,
    "start_time": "2023-02-08T12:01:53.459Z"
   },
   {
    "duration": 7,
    "start_time": "2023-02-08T12:01:53.473Z"
   },
   {
    "duration": 56,
    "start_time": "2023-02-08T12:01:53.482Z"
   },
   {
    "duration": 104,
    "start_time": "2023-02-08T12:01:53.540Z"
   },
   {
    "duration": 37,
    "start_time": "2023-02-08T12:01:53.646Z"
   },
   {
    "duration": 44,
    "start_time": "2023-02-08T12:01:53.685Z"
   },
   {
    "duration": 29,
    "start_time": "2023-02-08T12:01:53.730Z"
   },
   {
    "duration": 56,
    "start_time": "2023-02-08T12:01:53.762Z"
   },
   {
    "duration": 23,
    "start_time": "2023-02-08T12:01:53.820Z"
   },
   {
    "duration": 36,
    "start_time": "2023-02-08T12:01:53.845Z"
   },
   {
    "duration": 205,
    "start_time": "2023-02-08T12:01:53.888Z"
   },
   {
    "duration": 44381,
    "start_time": "2023-02-08T12:01:54.098Z"
   },
   {
    "duration": 1106,
    "start_time": "2023-02-08T12:02:38.482Z"
   },
   {
    "duration": 91,
    "start_time": "2023-02-08T12:02:39.589Z"
   },
   {
    "duration": 212,
    "start_time": "2023-02-08T12:02:39.682Z"
   },
   {
    "duration": 1397,
    "start_time": "2023-02-08T12:02:39.898Z"
   },
   {
    "duration": 128,
    "start_time": "2023-02-08T12:02:41.308Z"
   },
   {
    "duration": 10,
    "start_time": "2023-02-08T12:02:41.438Z"
   },
   {
    "duration": 25,
    "start_time": "2023-02-08T12:02:41.450Z"
   },
   {
    "duration": 230,
    "start_time": "2023-02-08T12:02:41.480Z"
   },
   {
    "duration": 931,
    "start_time": "2023-02-08T12:02:41.712Z"
   },
   {
    "duration": 20,
    "start_time": "2023-02-08T12:02:42.656Z"
   },
   {
    "duration": 96,
    "start_time": "2023-02-08T12:02:42.682Z"
   },
   {
    "duration": 173,
    "start_time": "2023-02-08T12:02:42.780Z"
   },
   {
    "duration": 361,
    "start_time": "2023-02-08T12:02:42.955Z"
   },
   {
    "duration": 44,
    "start_time": "2023-02-08T12:02:43.318Z"
   },
   {
    "duration": 159,
    "start_time": "2023-02-08T12:02:43.366Z"
   },
   {
    "duration": 445,
    "start_time": "2023-02-08T12:02:43.527Z"
   },
   {
    "duration": 20,
    "start_time": "2023-02-08T12:02:43.975Z"
   },
   {
    "duration": 22,
    "start_time": "2023-02-08T12:02:44.003Z"
   },
   {
    "duration": 189,
    "start_time": "2023-02-08T12:02:44.028Z"
   },
   {
    "duration": 13,
    "start_time": "2023-02-08T12:02:44.219Z"
   },
   {
    "duration": 12,
    "start_time": "2023-02-08T12:02:44.234Z"
   },
   {
    "duration": 183,
    "start_time": "2023-02-08T12:02:44.253Z"
   },
   {
    "duration": 62,
    "start_time": "2023-02-08T12:02:44.439Z"
   },
   {
    "duration": 12,
    "start_time": "2023-02-08T12:02:44.503Z"
   },
   {
    "duration": 189,
    "start_time": "2023-02-08T12:02:44.517Z"
   },
   {
    "duration": 1180,
    "start_time": "2023-02-08T12:02:44.708Z"
   },
   {
    "duration": 73,
    "start_time": "2023-02-08T12:02:45.894Z"
   },
   {
    "duration": 166,
    "start_time": "2023-02-08T12:02:45.974Z"
   },
   {
    "duration": 121,
    "start_time": "2023-02-08T12:02:46.142Z"
   },
   {
    "duration": 135,
    "start_time": "2023-02-08T12:02:46.266Z"
   },
   {
    "duration": 333,
    "start_time": "2023-02-08T12:02:46.404Z"
   },
   {
    "duration": 116,
    "start_time": "2023-02-08T12:02:46.740Z"
   },
   {
    "duration": 515,
    "start_time": "2023-02-08T12:02:46.859Z"
   },
   {
    "duration": 111,
    "start_time": "2023-02-08T12:02:47.380Z"
   },
   {
    "duration": 189,
    "start_time": "2023-02-08T12:02:47.493Z"
   },
   {
    "duration": 6,
    "start_time": "2023-02-08T12:02:47.684Z"
   },
   {
    "duration": 1722,
    "start_time": "2023-02-08T12:06:25.684Z"
   },
   {
    "duration": 41,
    "start_time": "2023-02-08T12:06:27.411Z"
   },
   {
    "duration": 32,
    "start_time": "2023-02-08T12:06:27.470Z"
   },
   {
    "duration": 20,
    "start_time": "2023-02-08T12:06:27.505Z"
   },
   {
    "duration": 77,
    "start_time": "2023-02-08T12:06:27.528Z"
   },
   {
    "duration": 22,
    "start_time": "2023-02-08T12:06:27.608Z"
   },
   {
    "duration": 16,
    "start_time": "2023-02-08T12:06:27.634Z"
   },
   {
    "duration": 26,
    "start_time": "2023-02-08T12:06:27.653Z"
   },
   {
    "duration": 20,
    "start_time": "2023-02-08T12:06:27.693Z"
   },
   {
    "duration": 20,
    "start_time": "2023-02-08T12:06:27.715Z"
   },
   {
    "duration": 36,
    "start_time": "2023-02-08T12:06:27.738Z"
   },
   {
    "duration": 6,
    "start_time": "2023-02-08T12:06:27.776Z"
   },
   {
    "duration": 38,
    "start_time": "2023-02-08T12:06:27.784Z"
   },
   {
    "duration": 17,
    "start_time": "2023-02-08T12:06:27.827Z"
   },
   {
    "duration": 55,
    "start_time": "2023-02-08T12:06:27.846Z"
   },
   {
    "duration": 22,
    "start_time": "2023-02-08T12:06:27.903Z"
   },
   {
    "duration": 18,
    "start_time": "2023-02-08T12:06:27.929Z"
   },
   {
    "duration": 63,
    "start_time": "2023-02-08T12:06:27.950Z"
   },
   {
    "duration": 61,
    "start_time": "2023-02-08T12:06:28.015Z"
   },
   {
    "duration": 14,
    "start_time": "2023-02-08T12:06:28.077Z"
   },
   {
    "duration": 41,
    "start_time": "2023-02-08T12:06:28.092Z"
   },
   {
    "duration": 78,
    "start_time": "2023-02-08T12:06:28.135Z"
   },
   {
    "duration": 20,
    "start_time": "2023-02-08T12:06:28.215Z"
   },
   {
    "duration": 29,
    "start_time": "2023-02-08T12:06:28.238Z"
   },
   {
    "duration": 57,
    "start_time": "2023-02-08T12:06:28.269Z"
   },
   {
    "duration": 18,
    "start_time": "2023-02-08T12:06:28.328Z"
   },
   {
    "duration": 102,
    "start_time": "2023-02-08T12:06:28.348Z"
   },
   {
    "duration": 67,
    "start_time": "2023-02-08T12:06:28.453Z"
   },
   {
    "duration": 30,
    "start_time": "2023-02-08T12:06:28.522Z"
   },
   {
    "duration": 256,
    "start_time": "2023-02-08T12:06:28.564Z"
   },
   {
    "duration": 44922,
    "start_time": "2023-02-08T12:06:28.822Z"
   },
   {
    "duration": 452,
    "start_time": "2023-02-08T12:07:13.746Z"
   },
   {
    "duration": 71,
    "start_time": "2023-02-08T12:07:14.211Z"
   },
   {
    "duration": 254,
    "start_time": "2023-02-08T12:07:14.293Z"
   },
   {
    "duration": 1736,
    "start_time": "2023-02-08T12:07:14.554Z"
   },
   {
    "duration": 106,
    "start_time": "2023-02-08T12:07:16.305Z"
   },
   {
    "duration": 51,
    "start_time": "2023-02-08T12:07:16.413Z"
   },
   {
    "duration": 40,
    "start_time": "2023-02-08T12:07:16.467Z"
   },
   {
    "duration": 223,
    "start_time": "2023-02-08T12:07:16.510Z"
   },
   {
    "duration": 1044,
    "start_time": "2023-02-08T12:07:16.735Z"
   },
   {
    "duration": 21,
    "start_time": "2023-02-08T12:07:17.788Z"
   },
   {
    "duration": 98,
    "start_time": "2023-02-08T12:07:17.811Z"
   },
   {
    "duration": 237,
    "start_time": "2023-02-08T12:07:17.911Z"
   },
   {
    "duration": 507,
    "start_time": "2023-02-08T12:07:18.155Z"
   },
   {
    "duration": 27,
    "start_time": "2023-02-08T12:07:18.664Z"
   },
   {
    "duration": 23,
    "start_time": "2023-02-08T12:07:18.694Z"
   },
   {
    "duration": 450,
    "start_time": "2023-02-08T12:07:18.719Z"
   },
   {
    "duration": 18,
    "start_time": "2023-02-08T12:07:19.175Z"
   },
   {
    "duration": 8,
    "start_time": "2023-02-08T12:07:19.195Z"
   },
   {
    "duration": 220,
    "start_time": "2023-02-08T12:07:19.205Z"
   },
   {
    "duration": 45,
    "start_time": "2023-02-08T12:07:19.428Z"
   },
   {
    "duration": 37,
    "start_time": "2023-02-08T12:07:19.496Z"
   },
   {
    "duration": 194,
    "start_time": "2023-02-08T12:07:19.536Z"
   },
   {
    "duration": 62,
    "start_time": "2023-02-08T12:07:19.733Z"
   },
   {
    "duration": 12,
    "start_time": "2023-02-08T12:07:19.808Z"
   },
   {
    "duration": 291,
    "start_time": "2023-02-08T12:07:19.822Z"
   },
   {
    "duration": 1443,
    "start_time": "2023-02-08T12:07:20.115Z"
   },
   {
    "duration": 71,
    "start_time": "2023-02-08T12:07:21.566Z"
   },
   {
    "duration": 206,
    "start_time": "2023-02-08T12:07:21.639Z"
   },
   {
    "duration": 194,
    "start_time": "2023-02-08T12:07:21.858Z"
   },
   {
    "duration": 29,
    "start_time": "2023-02-08T12:07:22.058Z"
   },
   {
    "duration": 312,
    "start_time": "2023-02-08T12:07:22.094Z"
   },
   {
    "duration": 11,
    "start_time": "2023-02-08T12:07:22.408Z"
   },
   {
    "duration": 637,
    "start_time": "2023-02-08T12:07:22.421Z"
   },
   {
    "duration": 106,
    "start_time": "2023-02-08T12:07:23.061Z"
   },
   {
    "duration": 218,
    "start_time": "2023-02-08T12:07:23.169Z"
   },
   {
    "duration": 7,
    "start_time": "2023-02-08T12:07:23.390Z"
   },
   {
    "duration": 1586,
    "start_time": "2023-02-08T12:13:28.708Z"
   },
   {
    "duration": 41,
    "start_time": "2023-02-08T12:13:30.297Z"
   },
   {
    "duration": 35,
    "start_time": "2023-02-08T12:13:30.341Z"
   },
   {
    "duration": 56,
    "start_time": "2023-02-08T12:13:30.378Z"
   },
   {
    "duration": 88,
    "start_time": "2023-02-08T12:13:30.436Z"
   },
   {
    "duration": 23,
    "start_time": "2023-02-08T12:13:30.526Z"
   },
   {
    "duration": 84,
    "start_time": "2023-02-08T12:13:30.551Z"
   },
   {
    "duration": 61,
    "start_time": "2023-02-08T12:13:30.637Z"
   },
   {
    "duration": 18,
    "start_time": "2023-02-08T12:13:30.700Z"
   },
   {
    "duration": 26,
    "start_time": "2023-02-08T12:13:30.721Z"
   },
   {
    "duration": 91,
    "start_time": "2023-02-08T12:13:30.749Z"
   },
   {
    "duration": 61,
    "start_time": "2023-02-08T12:13:30.842Z"
   },
   {
    "duration": 15,
    "start_time": "2023-02-08T12:13:30.905Z"
   },
   {
    "duration": 94,
    "start_time": "2023-02-08T12:13:30.922Z"
   },
   {
    "duration": 25,
    "start_time": "2023-02-08T12:13:31.019Z"
   },
   {
    "duration": 50,
    "start_time": "2023-02-08T12:13:31.046Z"
   },
   {
    "duration": 40,
    "start_time": "2023-02-08T12:13:31.098Z"
   },
   {
    "duration": 42,
    "start_time": "2023-02-08T12:13:31.140Z"
   },
   {
    "duration": 52,
    "start_time": "2023-02-08T12:13:31.185Z"
   },
   {
    "duration": 49,
    "start_time": "2023-02-08T12:13:31.239Z"
   },
   {
    "duration": 33,
    "start_time": "2023-02-08T12:13:31.291Z"
   },
   {
    "duration": 23,
    "start_time": "2023-02-08T12:13:31.325Z"
   },
   {
    "duration": 62,
    "start_time": "2023-02-08T12:13:31.351Z"
   },
   {
    "duration": 28,
    "start_time": "2023-02-08T12:13:31.415Z"
   },
   {
    "duration": 49,
    "start_time": "2023-02-08T12:13:31.445Z"
   },
   {
    "duration": 20,
    "start_time": "2023-02-08T12:13:31.496Z"
   },
   {
    "duration": 47,
    "start_time": "2023-02-08T12:13:31.518Z"
   },
   {
    "duration": 25,
    "start_time": "2023-02-08T12:13:31.570Z"
   },
   {
    "duration": 31,
    "start_time": "2023-02-08T12:13:31.597Z"
   },
   {
    "duration": 216,
    "start_time": "2023-02-08T12:13:31.630Z"
   },
   {
    "duration": 42201,
    "start_time": "2023-02-08T12:13:31.848Z"
   },
   {
    "duration": 520,
    "start_time": "2023-02-08T12:14:14.064Z"
   },
   {
    "duration": 69,
    "start_time": "2023-02-08T12:14:14.594Z"
   },
   {
    "duration": 176,
    "start_time": "2023-02-08T12:14:14.665Z"
   },
   {
    "duration": 2142,
    "start_time": "2023-02-08T12:14:14.843Z"
   },
   {
    "duration": 50,
    "start_time": "2023-02-08T12:14:17.056Z"
   },
   {
    "duration": 20,
    "start_time": "2023-02-08T12:14:17.108Z"
   },
   {
    "duration": 29,
    "start_time": "2023-02-08T12:14:17.130Z"
   },
   {
    "duration": 172,
    "start_time": "2023-02-08T12:14:17.161Z"
   },
   {
    "duration": 1130,
    "start_time": "2023-02-08T12:14:17.336Z"
   },
   {
    "duration": 15,
    "start_time": "2023-02-08T12:14:18.468Z"
   },
   {
    "duration": 93,
    "start_time": "2023-02-08T12:14:18.486Z"
   },
   {
    "duration": 170,
    "start_time": "2023-02-08T12:14:18.587Z"
   },
   {
    "duration": 716,
    "start_time": "2023-02-08T12:14:18.762Z"
   },
   {
    "duration": 67,
    "start_time": "2023-02-08T12:14:19.497Z"
   },
   {
    "duration": 96,
    "start_time": "2023-02-08T12:14:19.568Z"
   },
   {
    "duration": 333,
    "start_time": "2023-02-08T12:14:19.678Z"
   },
   {
    "duration": 13,
    "start_time": "2023-02-08T12:14:20.013Z"
   },
   {
    "duration": 10,
    "start_time": "2023-02-08T12:14:20.028Z"
   },
   {
    "duration": 141,
    "start_time": "2023-02-08T12:14:20.055Z"
   },
   {
    "duration": 12,
    "start_time": "2023-02-08T12:14:20.198Z"
   },
   {
    "duration": 6,
    "start_time": "2023-02-08T12:14:20.211Z"
   },
   {
    "duration": 162,
    "start_time": "2023-02-08T12:14:20.219Z"
   },
   {
    "duration": 35,
    "start_time": "2023-02-08T12:14:20.391Z"
   },
   {
    "duration": 10,
    "start_time": "2023-02-08T12:14:20.427Z"
   },
   {
    "duration": 179,
    "start_time": "2023-02-08T12:14:20.439Z"
   },
   {
    "duration": 1152,
    "start_time": "2023-02-08T12:14:20.620Z"
   },
   {
    "duration": 63,
    "start_time": "2023-02-08T12:14:21.773Z"
   },
   {
    "duration": 190,
    "start_time": "2023-02-08T12:14:21.838Z"
   },
   {
    "duration": 55,
    "start_time": "2023-02-08T12:14:22.030Z"
   },
   {
    "duration": 76,
    "start_time": "2023-02-08T12:14:22.087Z"
   },
   {
    "duration": 277,
    "start_time": "2023-02-08T12:14:22.169Z"
   },
   {
    "duration": 29,
    "start_time": "2023-02-08T12:14:22.448Z"
   },
   {
    "duration": 485,
    "start_time": "2023-02-08T12:14:22.481Z"
   },
   {
    "duration": 126,
    "start_time": "2023-02-08T12:14:22.969Z"
   },
   {
    "duration": 222,
    "start_time": "2023-02-08T12:14:23.098Z"
   },
   {
    "duration": 7,
    "start_time": "2023-02-08T12:14:23.323Z"
   },
   {
    "duration": 1595,
    "start_time": "2023-02-08T12:14:53.781Z"
   },
   {
    "duration": 56,
    "start_time": "2023-02-08T12:14:55.378Z"
   },
   {
    "duration": 34,
    "start_time": "2023-02-08T12:14:55.436Z"
   },
   {
    "duration": 50,
    "start_time": "2023-02-08T12:14:55.471Z"
   },
   {
    "duration": 75,
    "start_time": "2023-02-08T12:14:55.524Z"
   },
   {
    "duration": 12,
    "start_time": "2023-02-08T12:14:55.601Z"
   },
   {
    "duration": 13,
    "start_time": "2023-02-08T12:14:55.615Z"
   },
   {
    "duration": 8,
    "start_time": "2023-02-08T12:14:55.629Z"
   },
   {
    "duration": 5,
    "start_time": "2023-02-08T12:14:55.639Z"
   },
   {
    "duration": 59,
    "start_time": "2023-02-08T12:14:55.653Z"
   },
   {
    "duration": 31,
    "start_time": "2023-02-08T12:14:55.714Z"
   },
   {
    "duration": 6,
    "start_time": "2023-02-08T12:14:55.746Z"
   },
   {
    "duration": 39,
    "start_time": "2023-02-08T12:14:55.761Z"
   },
   {
    "duration": 9,
    "start_time": "2023-02-08T12:14:55.803Z"
   },
   {
    "duration": 11,
    "start_time": "2023-02-08T12:14:55.813Z"
   },
   {
    "duration": 9,
    "start_time": "2023-02-08T12:14:55.826Z"
   },
   {
    "duration": 7,
    "start_time": "2023-02-08T12:14:55.836Z"
   },
   {
    "duration": 7,
    "start_time": "2023-02-08T12:14:55.845Z"
   },
   {
    "duration": 42,
    "start_time": "2023-02-08T12:14:55.868Z"
   },
   {
    "duration": 4,
    "start_time": "2023-02-08T12:14:55.913Z"
   },
   {
    "duration": 10,
    "start_time": "2023-02-08T12:14:55.919Z"
   },
   {
    "duration": 8,
    "start_time": "2023-02-08T12:14:55.930Z"
   },
   {
    "duration": 16,
    "start_time": "2023-02-08T12:14:55.940Z"
   },
   {
    "duration": 22,
    "start_time": "2023-02-08T12:14:55.958Z"
   },
   {
    "duration": 16,
    "start_time": "2023-02-08T12:14:55.986Z"
   },
   {
    "duration": 23,
    "start_time": "2023-02-08T12:14:56.004Z"
   },
   {
    "duration": 24,
    "start_time": "2023-02-08T12:14:56.028Z"
   },
   {
    "duration": 42,
    "start_time": "2023-02-08T12:14:56.054Z"
   },
   {
    "duration": 23,
    "start_time": "2023-02-08T12:14:56.099Z"
   },
   {
    "duration": 203,
    "start_time": "2023-02-08T12:14:56.124Z"
   },
   {
    "duration": 44105,
    "start_time": "2023-02-08T12:14:56.330Z"
   },
   {
    "duration": 538,
    "start_time": "2023-02-08T12:15:40.436Z"
   },
   {
    "duration": 80,
    "start_time": "2023-02-08T12:15:40.979Z"
   },
   {
    "duration": 199,
    "start_time": "2023-02-08T12:15:41.069Z"
   },
   {
    "duration": 1401,
    "start_time": "2023-02-08T12:15:41.269Z"
   },
   {
    "duration": 122,
    "start_time": "2023-02-08T12:15:42.680Z"
   },
   {
    "duration": 12,
    "start_time": "2023-02-08T12:15:42.805Z"
   },
   {
    "duration": 15,
    "start_time": "2023-02-08T12:15:42.819Z"
   },
   {
    "duration": 226,
    "start_time": "2023-02-08T12:15:42.837Z"
   },
   {
    "duration": 921,
    "start_time": "2023-02-08T12:15:43.065Z"
   },
   {
    "duration": 18,
    "start_time": "2023-02-08T12:15:43.995Z"
   },
   {
    "duration": 103,
    "start_time": "2023-02-08T12:15:44.015Z"
   },
   {
    "duration": 175,
    "start_time": "2023-02-08T12:15:44.122Z"
   },
   {
    "duration": 655,
    "start_time": "2023-02-08T12:15:44.303Z"
   },
   {
    "duration": 24,
    "start_time": "2023-02-08T12:15:44.960Z"
   },
   {
    "duration": 136,
    "start_time": "2023-02-08T12:15:44.992Z"
   },
   {
    "duration": 388,
    "start_time": "2023-02-08T12:15:45.141Z"
   },
   {
    "duration": 42,
    "start_time": "2023-02-08T12:15:45.532Z"
   },
   {
    "duration": 46,
    "start_time": "2023-02-08T12:15:45.578Z"
   },
   {
    "duration": 174,
    "start_time": "2023-02-08T12:15:45.626Z"
   },
   {
    "duration": 15,
    "start_time": "2023-02-08T12:15:45.803Z"
   },
   {
    "duration": 16,
    "start_time": "2023-02-08T12:15:45.820Z"
   },
   {
    "duration": 153,
    "start_time": "2023-02-08T12:15:45.837Z"
   },
   {
    "duration": 37,
    "start_time": "2023-02-08T12:15:45.992Z"
   },
   {
    "duration": 41,
    "start_time": "2023-02-08T12:15:46.031Z"
   },
   {
    "duration": 210,
    "start_time": "2023-02-08T12:15:46.074Z"
   },
   {
    "duration": 1205,
    "start_time": "2023-02-08T12:15:46.286Z"
   },
   {
    "duration": 87,
    "start_time": "2023-02-08T12:15:47.495Z"
   },
   {
    "duration": 225,
    "start_time": "2023-02-08T12:15:47.591Z"
   },
   {
    "duration": 83,
    "start_time": "2023-02-08T12:15:47.823Z"
   },
   {
    "duration": 23,
    "start_time": "2023-02-08T12:15:47.954Z"
   },
   {
    "duration": 346,
    "start_time": "2023-02-08T12:15:47.980Z"
   },
   {
    "duration": 36,
    "start_time": "2023-02-08T12:15:48.327Z"
   },
   {
    "duration": 483,
    "start_time": "2023-02-08T12:15:48.375Z"
   },
   {
    "duration": 113,
    "start_time": "2023-02-08T12:15:48.871Z"
   },
   {
    "duration": 182,
    "start_time": "2023-02-08T12:15:48.985Z"
   },
   {
    "duration": 9,
    "start_time": "2023-02-08T12:15:49.173Z"
   },
   {
    "duration": 1467,
    "start_time": "2023-02-08T13:01:37.727Z"
   },
   {
    "duration": 76,
    "start_time": "2023-02-08T13:01:39.196Z"
   },
   {
    "duration": 21,
    "start_time": "2023-02-08T13:01:39.274Z"
   },
   {
    "duration": 3,
    "start_time": "2023-02-08T13:02:01.296Z"
   },
   {
    "duration": 52,
    "start_time": "2023-02-08T13:02:01.603Z"
   },
   {
    "duration": 18,
    "start_time": "2023-02-08T13:02:02.118Z"
   },
   {
    "duration": 12,
    "start_time": "2023-02-08T13:02:04.224Z"
   },
   {
    "duration": 36,
    "start_time": "2023-02-08T13:02:04.609Z"
   },
   {
    "duration": 11,
    "start_time": "2023-02-08T13:02:05.679Z"
   },
   {
    "duration": 7,
    "start_time": "2023-02-08T13:02:06.082Z"
   },
   {
    "duration": 4,
    "start_time": "2023-02-08T13:02:29.543Z"
   },
   {
    "duration": 3,
    "start_time": "2023-02-08T13:02:30.444Z"
   },
   {
    "duration": 8,
    "start_time": "2023-02-08T13:02:31.380Z"
   },
   {
    "duration": 18,
    "start_time": "2023-02-08T13:02:33.578Z"
   },
   {
    "duration": 6,
    "start_time": "2023-02-08T13:02:36.007Z"
   },
   {
    "duration": 3,
    "start_time": "2023-02-08T13:02:36.644Z"
   },
   {
    "duration": 5,
    "start_time": "2023-02-08T13:03:03.440Z"
   },
   {
    "duration": 5,
    "start_time": "2023-02-08T13:03:04.015Z"
   },
   {
    "duration": 7,
    "start_time": "2023-02-08T13:03:05.887Z"
   },
   {
    "duration": 4,
    "start_time": "2023-02-08T13:03:06.122Z"
   },
   {
    "duration": 4,
    "start_time": "2023-02-08T13:03:17.180Z"
   },
   {
    "duration": 19,
    "start_time": "2023-02-08T13:03:28.839Z"
   },
   {
    "duration": 3,
    "start_time": "2023-02-08T13:03:55.609Z"
   },
   {
    "duration": 4,
    "start_time": "2023-02-08T13:04:04.140Z"
   },
   {
    "duration": 8,
    "start_time": "2023-02-08T13:04:13.387Z"
   },
   {
    "duration": 5,
    "start_time": "2023-02-08T13:04:13.872Z"
   },
   {
    "duration": 4,
    "start_time": "2023-02-08T13:04:14.394Z"
   },
   {
    "duration": 3,
    "start_time": "2023-02-08T13:04:41.379Z"
   },
   {
    "duration": 10,
    "start_time": "2023-02-08T13:04:44.478Z"
   },
   {
    "duration": 24,
    "start_time": "2023-02-08T13:04:49.920Z"
   },
   {
    "duration": 21,
    "start_time": "2023-02-08T13:05:08.146Z"
   },
   {
    "duration": 20,
    "start_time": "2023-02-08T13:05:12.691Z"
   },
   {
    "duration": 17,
    "start_time": "2023-02-08T13:05:14.720Z"
   },
   {
    "duration": 148,
    "start_time": "2023-02-08T13:05:55.407Z"
   },
   {
    "duration": 31521,
    "start_time": "2023-02-08T13:06:06.594Z"
   },
   {
    "duration": 89,
    "start_time": "2023-02-08T13:06:56.155Z"
   },
   {
    "duration": 8,
    "start_time": "2023-02-08T13:07:06.482Z"
   },
   {
    "duration": 115,
    "start_time": "2023-02-08T13:07:10.649Z"
   },
   {
    "duration": 912,
    "start_time": "2023-02-08T13:07:34.433Z"
   },
   {
    "duration": 22,
    "start_time": "2023-02-08T13:09:12.743Z"
   },
   {
    "duration": 9,
    "start_time": "2023-02-08T13:09:18.677Z"
   },
   {
    "duration": 8,
    "start_time": "2023-02-08T13:09:27.580Z"
   },
   {
    "duration": 125,
    "start_time": "2023-02-08T13:09:37.979Z"
   },
   {
    "duration": 650,
    "start_time": "2023-02-08T13:11:11.578Z"
   },
   {
    "duration": 15,
    "start_time": "2023-02-08T13:11:12.229Z"
   },
   {
    "duration": 61,
    "start_time": "2023-02-08T13:11:12.774Z"
   },
   {
    "duration": 123,
    "start_time": "2023-02-08T13:11:13.956Z"
   },
   {
    "duration": 160,
    "start_time": "2023-02-08T13:11:47.578Z"
   },
   {
    "duration": 10,
    "start_time": "2023-02-08T13:11:48.381Z"
   },
   {
    "duration": 9,
    "start_time": "2023-02-08T13:12:03.641Z"
   },
   {
    "duration": 184,
    "start_time": "2023-02-08T13:12:04.044Z"
   },
   {
    "duration": 13,
    "start_time": "2023-02-08T13:13:25.986Z"
   },
   {
    "duration": 6,
    "start_time": "2023-02-08T13:14:00.950Z"
   },
   {
    "duration": 110,
    "start_time": "2023-02-08T13:14:02.681Z"
   },
   {
    "duration": 11,
    "start_time": "2023-02-08T13:14:26.482Z"
   },
   {
    "duration": 6,
    "start_time": "2023-02-08T13:14:54.199Z"
   },
   {
    "duration": 102,
    "start_time": "2023-02-08T13:14:54.431Z"
   },
   {
    "duration": 32,
    "start_time": "2023-02-08T13:15:08.315Z"
   },
   {
    "duration": 8,
    "start_time": "2023-02-08T13:15:15.307Z"
   },
   {
    "duration": 118,
    "start_time": "2023-02-08T13:15:27.324Z"
   },
   {
    "duration": 907,
    "start_time": "2023-02-08T13:15:32.418Z"
   },
   {
    "duration": 55,
    "start_time": "2023-02-08T13:15:34.698Z"
   },
   {
    "duration": 131,
    "start_time": "2023-02-08T13:15:38.832Z"
   },
   {
    "duration": 89,
    "start_time": "2023-02-08T13:15:47.650Z"
   },
   {
    "duration": 9,
    "start_time": "2023-02-08T13:15:55.706Z"
   },
   {
    "duration": 139,
    "start_time": "2023-02-08T13:15:56.307Z"
   },
   {
    "duration": 7,
    "start_time": "2023-02-08T13:16:11.216Z"
   },
   {
    "duration": 241,
    "start_time": "2023-02-08T13:18:13.529Z"
   },
   {
    "duration": 20,
    "start_time": "2023-02-08T13:18:17.646Z"
   },
   {
    "duration": 133,
    "start_time": "2023-02-08T13:18:18.249Z"
   },
   {
    "duration": 5,
    "start_time": "2023-02-08T13:18:24.751Z"
   },
   {
    "duration": 69,
    "start_time": "2023-02-08T14:02:20.687Z"
   },
   {
    "duration": 2009,
    "start_time": "2023-02-08T14:02:31.029Z"
   },
   {
    "duration": 385,
    "start_time": "2023-02-08T14:02:33.040Z"
   },
   {
    "duration": 31,
    "start_time": "2023-02-08T14:02:33.427Z"
   },
   {
    "duration": 18,
    "start_time": "2023-02-08T14:02:33.460Z"
   },
   {
    "duration": 73,
    "start_time": "2023-02-08T14:02:33.481Z"
   },
   {
    "duration": 17,
    "start_time": "2023-02-08T14:02:33.556Z"
   },
   {
    "duration": 10,
    "start_time": "2023-02-08T14:02:33.575Z"
   },
   {
    "duration": 16,
    "start_time": "2023-02-08T14:02:33.586Z"
   },
   {
    "duration": 24,
    "start_time": "2023-02-08T14:02:33.605Z"
   },
   {
    "duration": 14,
    "start_time": "2023-02-08T14:02:33.631Z"
   },
   {
    "duration": 27,
    "start_time": "2023-02-08T14:02:33.647Z"
   },
   {
    "duration": 12,
    "start_time": "2023-02-08T14:02:33.676Z"
   },
   {
    "duration": 10,
    "start_time": "2023-02-08T14:02:33.690Z"
   },
   {
    "duration": 23,
    "start_time": "2023-02-08T14:02:33.705Z"
   },
   {
    "duration": 9,
    "start_time": "2023-02-08T14:02:33.731Z"
   },
   {
    "duration": 14,
    "start_time": "2023-02-08T14:02:33.742Z"
   },
   {
    "duration": 25,
    "start_time": "2023-02-08T14:02:33.758Z"
   },
   {
    "duration": 7,
    "start_time": "2023-02-08T14:02:33.785Z"
   },
   {
    "duration": 37,
    "start_time": "2023-02-08T14:02:33.795Z"
   },
   {
    "duration": 5,
    "start_time": "2023-02-08T14:02:33.835Z"
   },
   {
    "duration": 15,
    "start_time": "2023-02-08T14:02:33.842Z"
   },
   {
    "duration": 13,
    "start_time": "2023-02-08T14:02:33.859Z"
   },
   {
    "duration": 8,
    "start_time": "2023-02-08T14:02:33.875Z"
   },
   {
    "duration": 9,
    "start_time": "2023-02-08T14:02:33.885Z"
   },
   {
    "duration": 7,
    "start_time": "2023-02-08T14:02:33.896Z"
   },
   {
    "duration": 27,
    "start_time": "2023-02-08T14:02:33.905Z"
   },
   {
    "duration": 29,
    "start_time": "2023-02-08T14:02:33.933Z"
   },
   {
    "duration": 25,
    "start_time": "2023-02-08T14:02:33.965Z"
   },
   {
    "duration": 49,
    "start_time": "2023-02-08T14:02:33.993Z"
   },
   {
    "duration": 225,
    "start_time": "2023-02-08T14:02:34.044Z"
   },
   {
    "duration": 41436,
    "start_time": "2023-02-08T14:02:34.271Z"
   },
   {
    "duration": 52,
    "start_time": "2023-02-08T14:03:15.709Z"
   },
   {
    "duration": 11,
    "start_time": "2023-02-08T14:03:15.833Z"
   },
   {
    "duration": 255,
    "start_time": "2023-02-08T14:03:15.850Z"
   },
   {
    "duration": 1642,
    "start_time": "2023-02-08T14:03:16.107Z"
   },
   {
    "duration": 103,
    "start_time": "2023-02-08T14:03:17.754Z"
   },
   {
    "duration": 11,
    "start_time": "2023-02-08T14:03:17.859Z"
   },
   {
    "duration": 20,
    "start_time": "2023-02-08T14:03:17.871Z"
   },
   {
    "duration": 196,
    "start_time": "2023-02-08T14:03:17.893Z"
   },
   {
    "duration": 857,
    "start_time": "2023-02-08T14:03:18.091Z"
   },
   {
    "duration": 13,
    "start_time": "2023-02-08T14:03:18.954Z"
   },
   {
    "duration": 75,
    "start_time": "2023-02-08T14:03:18.969Z"
   },
   {
    "duration": 188,
    "start_time": "2023-02-08T14:03:19.046Z"
   },
   {
    "duration": 2015,
    "start_time": "2023-02-08T14:03:19.237Z"
   },
   {
    "duration": 86,
    "start_time": "2023-02-08T14:03:21.258Z"
   },
   {
    "duration": 112,
    "start_time": "2023-02-08T14:03:21.350Z"
   },
   {
    "duration": 418,
    "start_time": "2023-02-08T14:03:21.469Z"
   },
   {
    "duration": 163,
    "start_time": "2023-02-08T14:03:21.889Z"
   },
   {
    "duration": 0,
    "start_time": "2023-02-08T14:03:22.054Z"
   },
   {
    "duration": 0,
    "start_time": "2023-02-08T14:03:22.055Z"
   },
   {
    "duration": 0,
    "start_time": "2023-02-08T14:03:22.056Z"
   },
   {
    "duration": 0,
    "start_time": "2023-02-08T14:03:22.058Z"
   },
   {
    "duration": 0,
    "start_time": "2023-02-08T14:03:22.059Z"
   },
   {
    "duration": 0,
    "start_time": "2023-02-08T14:03:22.060Z"
   },
   {
    "duration": 0,
    "start_time": "2023-02-08T14:03:22.061Z"
   },
   {
    "duration": 0,
    "start_time": "2023-02-08T14:03:22.063Z"
   },
   {
    "duration": 0,
    "start_time": "2023-02-08T14:03:22.064Z"
   },
   {
    "duration": 0,
    "start_time": "2023-02-08T14:03:22.065Z"
   },
   {
    "duration": 0,
    "start_time": "2023-02-08T14:03:22.066Z"
   },
   {
    "duration": 0,
    "start_time": "2023-02-08T14:03:22.067Z"
   },
   {
    "duration": 0,
    "start_time": "2023-02-08T14:03:22.070Z"
   },
   {
    "duration": 0,
    "start_time": "2023-02-08T14:03:22.071Z"
   },
   {
    "duration": 0,
    "start_time": "2023-02-08T14:03:22.072Z"
   },
   {
    "duration": 0,
    "start_time": "2023-02-08T14:03:22.073Z"
   },
   {
    "duration": 0,
    "start_time": "2023-02-08T14:03:22.074Z"
   },
   {
    "duration": 0,
    "start_time": "2023-02-08T14:03:22.075Z"
   },
   {
    "duration": 0,
    "start_time": "2023-02-08T14:03:22.076Z"
   },
   {
    "duration": 17,
    "start_time": "2023-02-08T14:04:09.996Z"
   },
   {
    "duration": 19,
    "start_time": "2023-02-08T14:04:28.523Z"
   },
   {
    "duration": 16,
    "start_time": "2023-02-08T14:04:41.369Z"
   },
   {
    "duration": 17,
    "start_time": "2023-02-08T14:05:23.356Z"
   },
   {
    "duration": 15,
    "start_time": "2023-02-08T14:05:38.542Z"
   },
   {
    "duration": 17,
    "start_time": "2023-02-08T14:05:46.069Z"
   },
   {
    "duration": 1788,
    "start_time": "2023-02-08T14:12:49.561Z"
   },
   {
    "duration": 53,
    "start_time": "2023-02-08T14:12:51.351Z"
   },
   {
    "duration": 25,
    "start_time": "2023-02-08T14:12:51.405Z"
   },
   {
    "duration": 23,
    "start_time": "2023-02-08T14:12:51.431Z"
   },
   {
    "duration": 92,
    "start_time": "2023-02-08T14:12:51.457Z"
   },
   {
    "duration": 18,
    "start_time": "2023-02-08T14:12:51.552Z"
   },
   {
    "duration": 26,
    "start_time": "2023-02-08T14:12:51.573Z"
   },
   {
    "duration": 20,
    "start_time": "2023-02-08T14:12:51.602Z"
   },
   {
    "duration": 33,
    "start_time": "2023-02-08T14:12:51.624Z"
   },
   {
    "duration": 40,
    "start_time": "2023-02-08T14:12:51.661Z"
   },
   {
    "duration": 34,
    "start_time": "2023-02-08T14:12:51.704Z"
   },
   {
    "duration": 6,
    "start_time": "2023-02-08T14:12:51.740Z"
   },
   {
    "duration": 46,
    "start_time": "2023-02-08T14:12:51.747Z"
   },
   {
    "duration": 17,
    "start_time": "2023-02-08T14:12:51.800Z"
   },
   {
    "duration": 77,
    "start_time": "2023-02-08T14:12:51.819Z"
   },
   {
    "duration": 77,
    "start_time": "2023-02-08T14:12:51.898Z"
   },
   {
    "duration": 32,
    "start_time": "2023-02-08T14:12:51.977Z"
   },
   {
    "duration": 10,
    "start_time": "2023-02-08T14:12:52.011Z"
   },
   {
    "duration": 93,
    "start_time": "2023-02-08T14:12:52.023Z"
   },
   {
    "duration": 53,
    "start_time": "2023-02-08T14:12:52.118Z"
   },
   {
    "duration": 32,
    "start_time": "2023-02-08T14:12:52.173Z"
   },
   {
    "duration": 40,
    "start_time": "2023-02-08T14:12:52.207Z"
   },
   {
    "duration": 27,
    "start_time": "2023-02-08T14:12:52.253Z"
   },
   {
    "duration": 23,
    "start_time": "2023-02-08T14:12:52.286Z"
   },
   {
    "duration": 61,
    "start_time": "2023-02-08T14:12:52.312Z"
   },
   {
    "duration": 17,
    "start_time": "2023-02-08T14:12:52.380Z"
   },
   {
    "duration": 37,
    "start_time": "2023-02-08T14:12:52.399Z"
   },
   {
    "duration": 55,
    "start_time": "2023-02-08T14:12:52.438Z"
   },
   {
    "duration": 25,
    "start_time": "2023-02-08T14:12:52.495Z"
   },
   {
    "duration": 266,
    "start_time": "2023-02-08T14:12:52.522Z"
   },
   {
    "duration": 38751,
    "start_time": "2023-02-08T14:12:52.790Z"
   },
   {
    "duration": 97,
    "start_time": "2023-02-08T14:13:31.542Z"
   },
   {
    "duration": 18,
    "start_time": "2023-02-08T14:13:31.641Z"
   },
   {
    "duration": 300,
    "start_time": "2023-02-08T14:13:31.660Z"
   },
   {
    "duration": 878,
    "start_time": "2023-02-08T14:13:31.973Z"
   },
   {
    "duration": 200,
    "start_time": "2023-02-08T14:13:32.853Z"
   },
   {
    "duration": 21,
    "start_time": "2023-02-08T14:13:33.057Z"
   },
   {
    "duration": 10,
    "start_time": "2023-02-08T14:13:33.080Z"
   },
   {
    "duration": 177,
    "start_time": "2023-02-08T14:13:33.092Z"
   },
   {
    "duration": 875,
    "start_time": "2023-02-08T14:13:33.271Z"
   },
   {
    "duration": 12,
    "start_time": "2023-02-08T14:13:34.150Z"
   },
   {
    "duration": 73,
    "start_time": "2023-02-08T14:13:34.164Z"
   },
   {
    "duration": 171,
    "start_time": "2023-02-08T14:13:34.239Z"
   },
   {
    "duration": 431,
    "start_time": "2023-02-08T14:13:34.412Z"
   },
   {
    "duration": 86,
    "start_time": "2023-02-08T14:13:34.848Z"
   },
   {
    "duration": 59,
    "start_time": "2023-02-08T14:13:34.936Z"
   },
   {
    "duration": 407,
    "start_time": "2023-02-08T14:13:34.999Z"
   },
   {
    "duration": 27,
    "start_time": "2023-02-08T14:13:35.409Z"
   },
   {
    "duration": 16,
    "start_time": "2023-02-08T14:13:35.445Z"
   },
   {
    "duration": 123,
    "start_time": "2023-02-08T14:13:35.464Z"
   },
   {
    "duration": 13,
    "start_time": "2023-02-08T14:13:35.588Z"
   },
   {
    "duration": 5,
    "start_time": "2023-02-08T14:13:35.603Z"
   },
   {
    "duration": 183,
    "start_time": "2023-02-08T14:13:35.610Z"
   },
   {
    "duration": 58,
    "start_time": "2023-02-08T14:13:35.796Z"
   },
   {
    "duration": 13,
    "start_time": "2023-02-08T14:13:35.858Z"
   },
   {
    "duration": 176,
    "start_time": "2023-02-08T14:13:35.873Z"
   },
   {
    "duration": 1064,
    "start_time": "2023-02-08T14:13:36.055Z"
   },
   {
    "duration": 71,
    "start_time": "2023-02-08T14:13:37.120Z"
   },
   {
    "duration": 156,
    "start_time": "2023-02-08T14:13:37.193Z"
   },
   {
    "duration": 34,
    "start_time": "2023-02-08T14:13:37.351Z"
   },
   {
    "duration": 58,
    "start_time": "2023-02-08T14:13:37.389Z"
   },
   {
    "duration": 325,
    "start_time": "2023-02-08T14:13:37.450Z"
   },
   {
    "duration": 12,
    "start_time": "2023-02-08T14:13:37.777Z"
   },
   {
    "duration": 548,
    "start_time": "2023-02-08T14:13:37.793Z"
   },
   {
    "duration": 93,
    "start_time": "2023-02-08T14:13:38.344Z"
   },
   {
    "duration": 155,
    "start_time": "2023-02-08T14:13:38.439Z"
   },
   {
    "duration": 7,
    "start_time": "2023-02-08T14:13:38.595Z"
   },
   {
    "duration": 24,
    "start_time": "2023-02-08T14:15:42.959Z"
   },
   {
    "duration": 9,
    "start_time": "2023-02-08T14:16:53.917Z"
   },
   {
    "duration": 189,
    "start_time": "2023-02-08T14:17:17.478Z"
   },
   {
    "duration": 1211,
    "start_time": "2023-02-08T14:18:21.880Z"
   },
   {
    "duration": 438,
    "start_time": "2023-02-08T14:19:15.281Z"
   },
   {
    "duration": 81,
    "start_time": "2023-02-08T14:20:12.280Z"
   },
   {
    "duration": 138,
    "start_time": "2023-02-08T14:21:21.052Z"
   },
   {
    "duration": 112,
    "start_time": "2023-02-08T14:22:14.316Z"
   },
   {
    "duration": 22,
    "start_time": "2023-02-08T14:22:51.121Z"
   },
   {
    "duration": 140,
    "start_time": "2023-02-08T14:23:24.564Z"
   },
   {
    "duration": 1486,
    "start_time": "2023-02-08T14:24:10.258Z"
   },
   {
    "duration": 55,
    "start_time": "2023-02-08T14:24:11.749Z"
   },
   {
    "duration": 35,
    "start_time": "2023-02-08T14:24:11.806Z"
   },
   {
    "duration": 36,
    "start_time": "2023-02-08T14:24:11.843Z"
   },
   {
    "duration": 58,
    "start_time": "2023-02-08T14:24:11.881Z"
   },
   {
    "duration": 17,
    "start_time": "2023-02-08T14:24:11.941Z"
   },
   {
    "duration": 13,
    "start_time": "2023-02-08T14:24:11.962Z"
   },
   {
    "duration": 10,
    "start_time": "2023-02-08T14:24:11.979Z"
   },
   {
    "duration": 12,
    "start_time": "2023-02-08T14:24:11.991Z"
   },
   {
    "duration": 10,
    "start_time": "2023-02-08T14:24:12.005Z"
   },
   {
    "duration": 34,
    "start_time": "2023-02-08T14:24:12.030Z"
   },
   {
    "duration": 9,
    "start_time": "2023-02-08T14:24:12.066Z"
   },
   {
    "duration": 5,
    "start_time": "2023-02-08T14:24:12.077Z"
   },
   {
    "duration": 7,
    "start_time": "2023-02-08T14:24:12.088Z"
   },
   {
    "duration": 14,
    "start_time": "2023-02-08T14:24:12.096Z"
   },
   {
    "duration": 30,
    "start_time": "2023-02-08T14:24:12.132Z"
   },
   {
    "duration": 9,
    "start_time": "2023-02-08T14:24:12.168Z"
   },
   {
    "duration": 20,
    "start_time": "2023-02-08T14:24:12.179Z"
   },
   {
    "duration": 35,
    "start_time": "2023-02-08T14:24:12.201Z"
   },
   {
    "duration": 7,
    "start_time": "2023-02-08T14:24:12.238Z"
   },
   {
    "duration": 37,
    "start_time": "2023-02-08T14:24:12.247Z"
   },
   {
    "duration": 9,
    "start_time": "2023-02-08T14:24:12.286Z"
   },
   {
    "duration": 7,
    "start_time": "2023-02-08T14:24:12.297Z"
   },
   {
    "duration": 7,
    "start_time": "2023-02-08T14:24:12.305Z"
   },
   {
    "duration": 9,
    "start_time": "2023-02-08T14:24:12.314Z"
   },
   {
    "duration": 29,
    "start_time": "2023-02-08T14:24:12.325Z"
   },
   {
    "duration": 73,
    "start_time": "2023-02-08T14:24:12.356Z"
   },
   {
    "duration": 23,
    "start_time": "2023-02-08T14:24:12.431Z"
   },
   {
    "duration": 33,
    "start_time": "2023-02-08T14:24:12.457Z"
   },
   {
    "duration": 248,
    "start_time": "2023-02-08T14:24:12.492Z"
   },
   {
    "duration": 35744,
    "start_time": "2023-02-08T14:24:12.748Z"
   },
   {
    "duration": 440,
    "start_time": "2023-02-08T14:24:48.494Z"
   },
   {
    "duration": 22,
    "start_time": "2023-02-08T14:24:48.940Z"
   },
   {
    "duration": 174,
    "start_time": "2023-02-08T14:24:49.028Z"
   },
   {
    "duration": 1032,
    "start_time": "2023-02-08T14:24:49.203Z"
   },
   {
    "duration": 103,
    "start_time": "2023-02-08T14:24:50.237Z"
   },
   {
    "duration": 38,
    "start_time": "2023-02-08T14:24:50.343Z"
   },
   {
    "duration": 15,
    "start_time": "2023-02-08T14:24:50.382Z"
   },
   {
    "duration": 148,
    "start_time": "2023-02-08T14:24:50.400Z"
   },
   {
    "duration": 768,
    "start_time": "2023-02-08T14:24:50.549Z"
   },
   {
    "duration": 12,
    "start_time": "2023-02-08T14:24:51.332Z"
   },
   {
    "duration": 76,
    "start_time": "2023-02-08T14:24:51.349Z"
   },
   {
    "duration": 192,
    "start_time": "2023-02-08T14:24:51.428Z"
   },
   {
    "duration": 415,
    "start_time": "2023-02-08T14:24:51.622Z"
   },
   {
    "duration": 93,
    "start_time": "2023-02-08T14:24:52.041Z"
   },
   {
    "duration": 39,
    "start_time": "2023-02-08T14:24:52.137Z"
   },
   {
    "duration": 335,
    "start_time": "2023-02-08T14:24:52.247Z"
   },
   {
    "duration": 19,
    "start_time": "2023-02-08T14:24:52.584Z"
   },
   {
    "duration": 7,
    "start_time": "2023-02-08T14:24:52.605Z"
   },
   {
    "duration": 135,
    "start_time": "2023-02-08T14:24:52.630Z"
   },
   {
    "duration": 16,
    "start_time": "2023-02-08T14:24:52.767Z"
   },
   {
    "duration": 8,
    "start_time": "2023-02-08T14:24:52.785Z"
   },
   {
    "duration": 149,
    "start_time": "2023-02-08T14:24:52.796Z"
   },
   {
    "duration": 42,
    "start_time": "2023-02-08T14:24:52.947Z"
   },
   {
    "duration": 10,
    "start_time": "2023-02-08T14:24:52.991Z"
   },
   {
    "duration": 158,
    "start_time": "2023-02-08T14:24:53.003Z"
   },
   {
    "duration": 974,
    "start_time": "2023-02-08T14:24:53.163Z"
   },
   {
    "duration": 56,
    "start_time": "2023-02-08T14:24:54.139Z"
   },
   {
    "duration": 163,
    "start_time": "2023-02-08T14:24:54.198Z"
   },
   {
    "duration": 83,
    "start_time": "2023-02-08T14:24:54.363Z"
   },
   {
    "duration": 86,
    "start_time": "2023-02-08T14:24:54.448Z"
   },
   {
    "duration": 281,
    "start_time": "2023-02-08T14:24:54.536Z"
   },
   {
    "duration": 16,
    "start_time": "2023-02-08T14:24:54.818Z"
   },
   {
    "duration": 141,
    "start_time": "2023-02-08T14:24:54.837Z"
   },
   {
    "duration": 61,
    "start_time": "2023-02-08T14:24:54.980Z"
   },
   {
    "duration": 175,
    "start_time": "2023-02-08T14:24:55.045Z"
   },
   {
    "duration": 400,
    "start_time": "2023-02-08T14:24:55.222Z"
   },
   {
    "duration": 52,
    "start_time": "2023-02-08T14:24:55.627Z"
   },
   {
    "duration": 151,
    "start_time": "2023-02-08T14:24:55.681Z"
   },
   {
    "duration": 24,
    "start_time": "2023-02-08T14:24:55.835Z"
   },
   {
    "duration": 208,
    "start_time": "2023-02-08T14:24:55.861Z"
   },
   {
    "duration": 314,
    "start_time": "2023-02-08T14:24:56.071Z"
   },
   {
    "duration": 346,
    "start_time": "2023-02-08T14:24:56.387Z"
   },
   {
    "duration": 25,
    "start_time": "2023-02-08T14:24:56.734Z"
   },
   {
    "duration": 162,
    "start_time": "2023-02-08T14:24:56.828Z"
   },
   {
    "duration": 5,
    "start_time": "2023-02-08T14:24:56.991Z"
   },
   {
    "duration": 1509,
    "start_time": "2023-02-08T14:57:54.506Z"
   },
   {
    "duration": 60,
    "start_time": "2023-02-08T14:57:56.018Z"
   },
   {
    "duration": 20,
    "start_time": "2023-02-08T14:57:56.080Z"
   },
   {
    "duration": 15,
    "start_time": "2023-02-08T14:57:56.101Z"
   },
   {
    "duration": 47,
    "start_time": "2023-02-08T14:57:56.118Z"
   },
   {
    "duration": 16,
    "start_time": "2023-02-08T14:57:56.167Z"
   },
   {
    "duration": 10,
    "start_time": "2023-02-08T14:57:56.184Z"
   },
   {
    "duration": 8,
    "start_time": "2023-02-08T14:57:56.196Z"
   },
   {
    "duration": 28,
    "start_time": "2023-02-08T14:57:56.206Z"
   },
   {
    "duration": 42,
    "start_time": "2023-02-08T14:57:56.241Z"
   },
   {
    "duration": 23,
    "start_time": "2023-02-08T14:57:56.285Z"
   },
   {
    "duration": 8,
    "start_time": "2023-02-08T14:57:56.309Z"
   },
   {
    "duration": 27,
    "start_time": "2023-02-08T14:57:56.318Z"
   },
   {
    "duration": 14,
    "start_time": "2023-02-08T14:57:56.356Z"
   },
   {
    "duration": 9,
    "start_time": "2023-02-08T14:57:56.372Z"
   },
   {
    "duration": 13,
    "start_time": "2023-02-08T14:57:56.382Z"
   },
   {
    "duration": 6,
    "start_time": "2023-02-08T14:57:56.397Z"
   },
   {
    "duration": 7,
    "start_time": "2023-02-08T14:57:56.404Z"
   },
   {
    "duration": 22,
    "start_time": "2023-02-08T14:57:56.412Z"
   },
   {
    "duration": 4,
    "start_time": "2023-02-08T14:57:56.436Z"
   },
   {
    "duration": 5,
    "start_time": "2023-02-08T14:57:56.442Z"
   },
   {
    "duration": 34,
    "start_time": "2023-02-08T14:57:56.449Z"
   },
   {
    "duration": 12,
    "start_time": "2023-02-08T14:57:56.485Z"
   },
   {
    "duration": 8,
    "start_time": "2023-02-08T14:57:56.498Z"
   },
   {
    "duration": 5,
    "start_time": "2023-02-08T14:57:56.509Z"
   },
   {
    "duration": 24,
    "start_time": "2023-02-08T14:57:56.515Z"
   },
   {
    "duration": 35,
    "start_time": "2023-02-08T14:57:56.548Z"
   },
   {
    "duration": 16,
    "start_time": "2023-02-08T14:57:56.585Z"
   },
   {
    "duration": 17,
    "start_time": "2023-02-08T14:57:56.602Z"
   },
   {
    "duration": 173,
    "start_time": "2023-02-08T14:57:56.620Z"
   },
   {
    "duration": 34380,
    "start_time": "2023-02-08T14:57:56.794Z"
   },
   {
    "duration": 1063,
    "start_time": "2023-02-08T14:58:31.176Z"
   },
   {
    "duration": 16,
    "start_time": "2023-02-08T14:58:32.241Z"
   },
   {
    "duration": 233,
    "start_time": "2023-02-08T14:58:32.258Z"
   },
   {
    "duration": 1337,
    "start_time": "2023-02-08T14:58:32.493Z"
   },
   {
    "duration": 27,
    "start_time": "2023-02-08T14:58:33.832Z"
   },
   {
    "duration": 12,
    "start_time": "2023-02-08T14:58:33.861Z"
   },
   {
    "duration": 7,
    "start_time": "2023-02-08T14:58:33.875Z"
   },
   {
    "duration": 161,
    "start_time": "2023-02-08T14:58:33.883Z"
   },
   {
    "duration": 662,
    "start_time": "2023-02-08T14:58:34.048Z"
   },
   {
    "duration": 20,
    "start_time": "2023-02-08T14:58:34.713Z"
   },
   {
    "duration": 63,
    "start_time": "2023-02-08T14:58:34.739Z"
   },
   {
    "duration": 141,
    "start_time": "2023-02-08T14:58:34.803Z"
   },
   {
    "duration": 507,
    "start_time": "2023-02-08T14:58:34.946Z"
   },
   {
    "duration": 75,
    "start_time": "2023-02-08T14:58:35.455Z"
   },
   {
    "duration": 100,
    "start_time": "2023-02-08T14:58:35.535Z"
   },
   {
    "duration": 312,
    "start_time": "2023-02-08T14:58:35.637Z"
   },
   {
    "duration": 12,
    "start_time": "2023-02-08T14:58:35.960Z"
   },
   {
    "duration": 5,
    "start_time": "2023-02-08T14:58:35.974Z"
   },
   {
    "duration": 129,
    "start_time": "2023-02-08T14:58:35.980Z"
   },
   {
    "duration": 11,
    "start_time": "2023-02-08T14:58:36.110Z"
   },
   {
    "duration": 9,
    "start_time": "2023-02-08T14:58:36.131Z"
   },
   {
    "duration": 134,
    "start_time": "2023-02-08T14:58:36.142Z"
   },
   {
    "duration": 31,
    "start_time": "2023-02-08T14:58:36.277Z"
   },
   {
    "duration": 32,
    "start_time": "2023-02-08T14:58:36.310Z"
   },
   {
    "duration": 141,
    "start_time": "2023-02-08T14:58:36.351Z"
   },
   {
    "duration": 979,
    "start_time": "2023-02-08T14:58:36.493Z"
   },
   {
    "duration": 86,
    "start_time": "2023-02-08T14:58:37.475Z"
   },
   {
    "duration": 156,
    "start_time": "2023-02-08T14:58:37.564Z"
   },
   {
    "duration": 120,
    "start_time": "2023-02-08T14:58:37.721Z"
   },
   {
    "duration": 105,
    "start_time": "2023-02-08T14:58:37.848Z"
   },
   {
    "duration": 329,
    "start_time": "2023-02-08T14:58:37.956Z"
   },
   {
    "duration": 10,
    "start_time": "2023-02-08T14:58:38.287Z"
   },
   {
    "duration": 138,
    "start_time": "2023-02-08T14:58:38.336Z"
   },
   {
    "duration": 9,
    "start_time": "2023-02-08T14:58:38.476Z"
   },
   {
    "duration": 138,
    "start_time": "2023-02-08T14:58:38.486Z"
   },
   {
    "duration": 371,
    "start_time": "2023-02-08T14:58:38.625Z"
   },
   {
    "duration": 63,
    "start_time": "2023-02-08T14:58:38.998Z"
   },
   {
    "duration": 134,
    "start_time": "2023-02-08T14:58:39.062Z"
   },
   {
    "duration": 139,
    "start_time": "2023-02-08T14:58:39.197Z"
   },
   {
    "duration": 19,
    "start_time": "2023-02-08T14:58:39.340Z"
   },
   {
    "duration": 305,
    "start_time": "2023-02-08T14:58:39.361Z"
   },
   {
    "duration": 271,
    "start_time": "2023-02-08T14:58:39.668Z"
   },
   {
    "duration": 96,
    "start_time": "2023-02-08T14:58:39.946Z"
   },
   {
    "duration": 159,
    "start_time": "2023-02-08T14:58:40.048Z"
   },
   {
    "duration": 5,
    "start_time": "2023-02-08T14:58:40.208Z"
   },
   {
    "duration": 244,
    "start_time": "2023-02-08T15:03:30.617Z"
   },
   {
    "duration": 34651,
    "start_time": "2023-02-08T15:03:54.836Z"
   },
   {
    "duration": 35410,
    "start_time": "2023-02-08T15:07:20.805Z"
   },
   {
    "duration": 38121,
    "start_time": "2023-02-08T15:09:44.528Z"
   },
   {
    "duration": 35012,
    "start_time": "2023-02-08T15:13:29.259Z"
   },
   {
    "duration": 37110,
    "start_time": "2023-02-08T15:16:54.861Z"
   },
   {
    "duration": 36781,
    "start_time": "2023-02-08T15:18:01.871Z"
   },
   {
    "duration": 38789,
    "start_time": "2023-02-08T15:20:34.889Z"
   },
   {
    "duration": 38112,
    "start_time": "2023-02-08T15:22:29.046Z"
   },
   {
    "duration": 25,
    "start_time": "2023-02-08T15:23:35.771Z"
   },
   {
    "duration": 26,
    "start_time": "2023-02-08T15:24:20.469Z"
   },
   {
    "duration": 33,
    "start_time": "2023-02-08T15:27:50.057Z"
   },
   {
    "duration": 35,
    "start_time": "2023-02-08T15:28:03.947Z"
   },
   {
    "duration": 35,
    "start_time": "2023-02-08T15:28:13.857Z"
   },
   {
    "duration": 37804,
    "start_time": "2023-02-08T15:29:11.465Z"
   },
   {
    "duration": 36534,
    "start_time": "2023-02-08T15:30:02.163Z"
   },
   {
    "duration": 37363,
    "start_time": "2023-02-08T15:31:15.713Z"
   },
   {
    "duration": 42,
    "start_time": "2023-02-08T15:32:24.614Z"
   },
   {
    "duration": 25,
    "start_time": "2023-02-08T15:32:32.588Z"
   },
   {
    "duration": 24,
    "start_time": "2023-02-08T15:33:53.400Z"
   },
   {
    "duration": 35,
    "start_time": "2023-02-08T15:34:04.946Z"
   },
   {
    "duration": 37858,
    "start_time": "2023-02-08T15:35:17.039Z"
   },
   {
    "duration": 37083,
    "start_time": "2023-02-08T15:36:18.679Z"
   },
   {
    "duration": 36920,
    "start_time": "2023-02-08T15:37:51.201Z"
   },
   {
    "duration": 187,
    "start_time": "2023-02-08T15:39:01.220Z"
   },
   {
    "duration": 184,
    "start_time": "2023-02-08T15:39:33.690Z"
   },
   {
    "duration": 69,
    "start_time": "2023-02-08T15:41:33.372Z"
   },
   {
    "duration": 1438,
    "start_time": "2023-02-08T15:44:02.626Z"
   },
   {
    "duration": 51,
    "start_time": "2023-02-08T15:44:04.067Z"
   },
   {
    "duration": 36,
    "start_time": "2023-02-08T15:44:04.120Z"
   },
   {
    "duration": 18,
    "start_time": "2023-02-08T15:44:04.160Z"
   },
   {
    "duration": 37,
    "start_time": "2023-02-08T15:44:04.179Z"
   },
   {
    "duration": 26,
    "start_time": "2023-02-08T15:44:04.217Z"
   },
   {
    "duration": 11,
    "start_time": "2023-02-08T15:44:04.247Z"
   },
   {
    "duration": 5,
    "start_time": "2023-02-08T15:44:04.260Z"
   },
   {
    "duration": 6,
    "start_time": "2023-02-08T15:44:04.267Z"
   },
   {
    "duration": 9,
    "start_time": "2023-02-08T15:44:04.275Z"
   },
   {
    "duration": 16,
    "start_time": "2023-02-08T15:44:04.286Z"
   },
   {
    "duration": 4,
    "start_time": "2023-02-08T15:44:04.304Z"
   },
   {
    "duration": 33,
    "start_time": "2023-02-08T15:44:04.309Z"
   },
   {
    "duration": 21,
    "start_time": "2023-02-08T15:44:04.354Z"
   },
   {
    "duration": 11,
    "start_time": "2023-02-08T15:44:04.377Z"
   },
   {
    "duration": 10,
    "start_time": "2023-02-08T15:44:04.389Z"
   },
   {
    "duration": 13,
    "start_time": "2023-02-08T15:44:04.400Z"
   },
   {
    "duration": 6,
    "start_time": "2023-02-08T15:44:04.415Z"
   },
   {
    "duration": 25,
    "start_time": "2023-02-08T15:44:04.423Z"
   },
   {
    "duration": 10,
    "start_time": "2023-02-08T15:44:04.458Z"
   },
   {
    "duration": 7,
    "start_time": "2023-02-08T15:44:04.470Z"
   },
   {
    "duration": 5,
    "start_time": "2023-02-08T15:44:04.479Z"
   },
   {
    "duration": 8,
    "start_time": "2023-02-08T15:44:04.485Z"
   },
   {
    "duration": 9,
    "start_time": "2023-02-08T15:44:04.494Z"
   },
   {
    "duration": 8,
    "start_time": "2023-02-08T15:44:04.504Z"
   },
   {
    "duration": 19,
    "start_time": "2023-02-08T15:44:04.513Z"
   },
   {
    "duration": 28,
    "start_time": "2023-02-08T15:44:04.534Z"
   },
   {
    "duration": 15,
    "start_time": "2023-02-08T15:44:04.566Z"
   },
   {
    "duration": 15,
    "start_time": "2023-02-08T15:44:04.582Z"
   },
   {
    "duration": 201,
    "start_time": "2023-02-08T15:44:04.598Z"
   },
   {
    "duration": 36562,
    "start_time": "2023-02-08T15:44:04.801Z"
   },
   {
    "duration": 791,
    "start_time": "2023-02-08T15:44:41.365Z"
   },
   {
    "duration": 73,
    "start_time": "2023-02-08T15:44:42.159Z"
   },
   {
    "duration": 157,
    "start_time": "2023-02-08T15:44:42.233Z"
   },
   {
    "duration": 1071,
    "start_time": "2023-02-08T15:44:42.392Z"
   },
   {
    "duration": 103,
    "start_time": "2023-02-08T15:44:43.467Z"
   },
   {
    "duration": 58,
    "start_time": "2023-02-08T15:44:43.573Z"
   },
   {
    "duration": 17,
    "start_time": "2023-02-08T15:44:43.643Z"
   },
   {
    "duration": 166,
    "start_time": "2023-02-08T15:44:43.662Z"
   },
   {
    "duration": 693,
    "start_time": "2023-02-08T15:44:43.832Z"
   },
   {
    "duration": 10,
    "start_time": "2023-02-08T15:44:44.528Z"
   },
   {
    "duration": 76,
    "start_time": "2023-02-08T15:44:44.540Z"
   },
   {
    "duration": 142,
    "start_time": "2023-02-08T15:44:44.618Z"
   },
   {
    "duration": 903,
    "start_time": "2023-02-08T15:44:44.762Z"
   },
   {
    "duration": 18,
    "start_time": "2023-02-08T15:44:45.730Z"
   },
   {
    "duration": 81,
    "start_time": "2023-02-08T15:44:45.754Z"
   },
   {
    "duration": 299,
    "start_time": "2023-02-08T15:44:45.847Z"
   },
   {
    "duration": 15,
    "start_time": "2023-02-08T15:44:46.148Z"
   },
   {
    "duration": 12,
    "start_time": "2023-02-08T15:44:46.165Z"
   },
   {
    "duration": 125,
    "start_time": "2023-02-08T15:44:46.179Z"
   },
   {
    "duration": 10,
    "start_time": "2023-02-08T15:44:46.305Z"
   },
   {
    "duration": 11,
    "start_time": "2023-02-08T15:44:46.317Z"
   },
   {
    "duration": 128,
    "start_time": "2023-02-08T15:44:46.329Z"
   },
   {
    "duration": 29,
    "start_time": "2023-02-08T15:44:46.459Z"
   },
   {
    "duration": 6,
    "start_time": "2023-02-08T15:44:46.490Z"
   },
   {
    "duration": 168,
    "start_time": "2023-02-08T15:44:46.498Z"
   },
   {
    "duration": 916,
    "start_time": "2023-02-08T15:44:46.667Z"
   },
   {
    "duration": 74,
    "start_time": "2023-02-08T15:44:47.585Z"
   },
   {
    "duration": 162,
    "start_time": "2023-02-08T15:44:47.661Z"
   },
   {
    "duration": 47,
    "start_time": "2023-02-08T15:44:47.830Z"
   },
   {
    "duration": 173,
    "start_time": "2023-02-08T15:44:47.878Z"
   },
   {
    "duration": 304,
    "start_time": "2023-02-08T15:44:48.059Z"
   },
   {
    "duration": 12,
    "start_time": "2023-02-08T15:44:48.365Z"
   },
   {
    "duration": 142,
    "start_time": "2023-02-08T15:44:48.430Z"
   },
   {
    "duration": 8,
    "start_time": "2023-02-08T15:44:48.573Z"
   },
   {
    "duration": 133,
    "start_time": "2023-02-08T15:44:48.582Z"
   },
   {
    "duration": 368,
    "start_time": "2023-02-08T15:44:48.717Z"
   },
   {
    "duration": 58,
    "start_time": "2023-02-08T15:44:49.087Z"
   },
   {
    "duration": 138,
    "start_time": "2023-02-08T15:44:49.146Z"
   },
   {
    "duration": 52,
    "start_time": "2023-02-08T15:44:49.285Z"
   },
   {
    "duration": 109,
    "start_time": "2023-02-08T15:44:49.339Z"
   },
   {
    "duration": 311,
    "start_time": "2023-02-08T15:44:49.450Z"
   },
   {
    "duration": 392,
    "start_time": "2023-02-08T15:44:49.764Z"
   },
   {
    "duration": 20,
    "start_time": "2023-02-08T15:44:50.161Z"
   },
   {
    "duration": 211,
    "start_time": "2023-02-08T15:44:50.233Z"
   },
   {
    "duration": 12,
    "start_time": "2023-02-08T15:44:50.446Z"
   },
   {
    "duration": 1449,
    "start_time": "2023-02-08T15:47:34.750Z"
   },
   {
    "duration": 52,
    "start_time": "2023-02-08T15:47:36.201Z"
   },
   {
    "duration": 22,
    "start_time": "2023-02-08T15:47:36.255Z"
   },
   {
    "duration": 11,
    "start_time": "2023-02-08T15:47:36.279Z"
   },
   {
    "duration": 64,
    "start_time": "2023-02-08T15:47:36.293Z"
   },
   {
    "duration": 22,
    "start_time": "2023-02-08T15:47:36.359Z"
   },
   {
    "duration": 10,
    "start_time": "2023-02-08T15:47:36.383Z"
   },
   {
    "duration": 5,
    "start_time": "2023-02-08T15:47:36.394Z"
   },
   {
    "duration": 17,
    "start_time": "2023-02-08T15:47:36.400Z"
   },
   {
    "duration": 33,
    "start_time": "2023-02-08T15:47:36.419Z"
   },
   {
    "duration": 28,
    "start_time": "2023-02-08T15:47:36.454Z"
   },
   {
    "duration": 6,
    "start_time": "2023-02-08T15:47:36.483Z"
   },
   {
    "duration": 19,
    "start_time": "2023-02-08T15:47:36.491Z"
   },
   {
    "duration": 7,
    "start_time": "2023-02-08T15:47:36.515Z"
   },
   {
    "duration": 24,
    "start_time": "2023-02-08T15:47:36.524Z"
   },
   {
    "duration": 23,
    "start_time": "2023-02-08T15:47:36.550Z"
   },
   {
    "duration": 14,
    "start_time": "2023-02-08T15:47:36.575Z"
   },
   {
    "duration": 14,
    "start_time": "2023-02-08T15:47:36.590Z"
   },
   {
    "duration": 40,
    "start_time": "2023-02-08T15:47:36.606Z"
   },
   {
    "duration": 5,
    "start_time": "2023-02-08T15:47:36.648Z"
   },
   {
    "duration": 12,
    "start_time": "2023-02-08T15:47:36.657Z"
   },
   {
    "duration": 10,
    "start_time": "2023-02-08T15:47:36.671Z"
   },
   {
    "duration": 4,
    "start_time": "2023-02-08T15:47:36.683Z"
   },
   {
    "duration": 6,
    "start_time": "2023-02-08T15:47:36.689Z"
   },
   {
    "duration": 9,
    "start_time": "2023-02-08T15:47:36.696Z"
   },
   {
    "duration": 11,
    "start_time": "2023-02-08T15:47:36.706Z"
   },
   {
    "duration": 33,
    "start_time": "2023-02-08T15:47:36.719Z"
   },
   {
    "duration": 17,
    "start_time": "2023-02-08T15:47:36.754Z"
   },
   {
    "duration": 17,
    "start_time": "2023-02-08T15:47:36.772Z"
   },
   {
    "duration": 209,
    "start_time": "2023-02-08T15:47:36.791Z"
   },
   {
    "duration": 37472,
    "start_time": "2023-02-08T15:47:37.002Z"
   },
   {
    "duration": 682,
    "start_time": "2023-02-08T15:48:14.476Z"
   },
   {
    "duration": 52,
    "start_time": "2023-02-08T15:48:15.228Z"
   },
   {
    "duration": 195,
    "start_time": "2023-02-08T15:48:15.282Z"
   },
   {
    "duration": 1157,
    "start_time": "2023-02-08T15:48:15.478Z"
   },
   {
    "duration": 103,
    "start_time": "2023-02-08T15:48:16.636Z"
   },
   {
    "duration": 23,
    "start_time": "2023-02-08T15:48:16.746Z"
   },
   {
    "duration": 10,
    "start_time": "2023-02-08T15:48:16.771Z"
   },
   {
    "duration": 183,
    "start_time": "2023-02-08T15:48:16.783Z"
   },
   {
    "duration": 797,
    "start_time": "2023-02-08T15:48:16.968Z"
   },
   {
    "duration": 10,
    "start_time": "2023-02-08T15:48:17.772Z"
   },
   {
    "duration": 93,
    "start_time": "2023-02-08T15:48:17.784Z"
   },
   {
    "duration": 151,
    "start_time": "2023-02-08T15:48:17.878Z"
   },
   {
    "duration": 401,
    "start_time": "2023-02-08T15:48:18.030Z"
   },
   {
    "duration": 18,
    "start_time": "2023-02-08T15:48:18.433Z"
   },
   {
    "duration": 117,
    "start_time": "2023-02-08T15:48:18.456Z"
   },
   {
    "duration": 358,
    "start_time": "2023-02-08T15:48:18.575Z"
   },
   {
    "duration": 14,
    "start_time": "2023-02-08T15:48:18.935Z"
   },
   {
    "duration": 36,
    "start_time": "2023-02-08T15:48:18.951Z"
   },
   {
    "duration": 161,
    "start_time": "2023-02-08T15:48:18.988Z"
   },
   {
    "duration": 16,
    "start_time": "2023-02-08T15:48:19.156Z"
   },
   {
    "duration": 22,
    "start_time": "2023-02-08T15:48:19.174Z"
   },
   {
    "duration": 120,
    "start_time": "2023-02-08T15:48:19.198Z"
   },
   {
    "duration": 45,
    "start_time": "2023-02-08T15:48:19.320Z"
   },
   {
    "duration": 8,
    "start_time": "2023-02-08T15:48:19.367Z"
   },
   {
    "duration": 145,
    "start_time": "2023-02-08T15:48:19.376Z"
   },
   {
    "duration": 950,
    "start_time": "2023-02-08T15:48:19.522Z"
   },
   {
    "duration": 66,
    "start_time": "2023-02-08T15:48:20.474Z"
   },
   {
    "duration": 146,
    "start_time": "2023-02-08T15:48:20.542Z"
   },
   {
    "duration": 40,
    "start_time": "2023-02-08T15:48:20.690Z"
   },
   {
    "duration": 121,
    "start_time": "2023-02-08T15:48:20.732Z"
   },
   {
    "duration": 309,
    "start_time": "2023-02-08T15:48:20.858Z"
   },
   {
    "duration": 9,
    "start_time": "2023-02-08T15:48:21.168Z"
   },
   {
    "duration": 197,
    "start_time": "2023-02-08T15:48:21.178Z"
   },
   {
    "duration": 13,
    "start_time": "2023-02-08T15:48:21.377Z"
   },
   {
    "duration": 159,
    "start_time": "2023-02-08T15:48:21.391Z"
   },
   {
    "duration": 362,
    "start_time": "2023-02-08T15:48:21.552Z"
   },
   {
    "duration": 63,
    "start_time": "2023-02-08T15:48:21.915Z"
   },
   {
    "duration": 141,
    "start_time": "2023-02-08T15:48:21.980Z"
   },
   {
    "duration": 102,
    "start_time": "2023-02-08T15:48:22.127Z"
   },
   {
    "duration": 127,
    "start_time": "2023-02-08T15:48:22.230Z"
   },
   {
    "duration": 295,
    "start_time": "2023-02-08T15:48:22.362Z"
   },
   {
    "duration": 272,
    "start_time": "2023-02-08T15:48:22.660Z"
   },
   {
    "duration": 22,
    "start_time": "2023-02-08T15:48:22.936Z"
   },
   {
    "duration": 231,
    "start_time": "2023-02-08T15:48:22.960Z"
   },
   {
    "duration": 6,
    "start_time": "2023-02-08T15:48:23.193Z"
   }
  ],
  "kernelspec": {
   "display_name": "Python 3 (ipykernel)",
   "language": "python",
   "name": "python3"
  },
  "language_info": {
   "codemirror_mode": {
    "name": "ipython",
    "version": 3
   },
   "file_extension": ".py",
   "mimetype": "text/x-python",
   "name": "python",
   "nbconvert_exporter": "python",
   "pygments_lexer": "ipython3",
   "version": "3.10.9"
  },
  "toc": {
   "base_numbering": 1,
   "nav_menu": {},
   "number_sections": true,
   "sideBar": true,
   "skip_h1_title": true,
   "title_cell": "Содержание",
   "title_sidebar": "Contents",
   "toc_cell": true,
   "toc_position": {},
   "toc_section_display": true,
   "toc_window_display": true
  }
 },
 "nbformat": 4,
 "nbformat_minor": 2
}
