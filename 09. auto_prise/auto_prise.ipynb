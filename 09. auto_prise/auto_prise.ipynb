{
 "cells": [
  {
   "cell_type": "markdown",
   "metadata": {
    "execution": {
     "iopub.execute_input": "2023-06-01T10:42:01.709515Z",
     "iopub.status.busy": "2023-06-01T10:42:01.708954Z",
     "iopub.status.idle": "2023-06-01T10:42:01.715020Z",
     "shell.execute_reply": "2023-06-01T10:42:01.713719Z",
     "shell.execute_reply.started": "2023-06-01T10:42:01.709480Z"
    }
   },
   "source": [
    "# Разработка модели предсказания стоимости автомобиля на вторичном рынке."
   ]
  },
  {
   "cell_type": "markdown",
   "metadata": {},
   "source": [
    "Цель проекта - разработка модели предварительной оценки стоимости автомобиля на вторичном рынке."
   ]
  },
  {
   "cell_type": "markdown",
   "metadata": {},
   "source": [
    "**Задачи, которые необходимо выполнить для достижения цели:**\n",
    "- загрузка необходимых библиотек и инструментов;\n",
    "- загрузка и изучение предоставленных датафреймов - тренировочного, на основе которого будет разрабатываться модель, и тестового;\n",
    "- предварительная обработка данных: \n",
    "    - проверка на дубликаты, \n",
    "    - заполнение выявленных пропусков в данных, подобранным для каждого столбца способом;\n",
    "- на основе предварительного анализа создадим столбцы с новыми признаками;\n",
    "- закодируем категориальные признаки;\n",
    "- изучим корреляцию между признаками;\n",
    "- проведём отбор признаков для обучения модели;\n",
    "- выберем модели обучения;\n",
    "- с помощью кроссвалидации на тренеровочном датафрейме подберём гиперпараметры для выбранных моделей;\n",
    "- обучим модели и выберем лучшую модель по метрике MAPE;\n",
    "- получим предсказание модели на предоставленном тестовом датафрейме."
   ]
  },
  {
   "cell_type": "markdown",
   "metadata": {},
   "source": [
    "### Загружаем необходимые библиотеки и инструменты"
   ]
  },
  {
   "cell_type": "code",
   "execution_count": 1,
   "metadata": {
    "_cell_guid": "b1076dfc-b9ad-4769-8c92-a6c4dae69d19",
    "_uuid": "8f2839f25d086af736a60e9eeb907d3b93b6e0e5",
    "execution": {
     "iopub.execute_input": "2023-06-02T14:40:33.077716Z",
     "iopub.status.busy": "2023-06-02T14:40:33.077177Z",
     "iopub.status.idle": "2023-06-02T14:40:33.985865Z",
     "shell.execute_reply": "2023-06-02T14:40:33.984820Z",
     "shell.execute_reply.started": "2023-06-02T14:40:33.077684Z"
    }
   },
   "outputs": [],
   "source": [
    "import numpy as np\n",
    "import pandas as pd\n",
    "from catboost import CatBoostRegressor, Pool, cv\n",
    "from sklearn.model_selection import train_test_split\n",
    "from sklearn.metrics import mean_absolute_percentage_error\n",
    "from sklearn.utils import shuffle\n",
    "import datetime\n",
    "import category_encoders as ce\n",
    "from tqdm import tqdm\n",
    "\n",
    "import warnings\n",
    "warnings.filterwarnings('ignore')"
   ]
  },
  {
   "cell_type": "markdown",
   "metadata": {},
   "source": [
    "### Загружаем тренировочный и тестовый датасеты"
   ]
  },
  {
   "cell_type": "code",
   "execution_count": 2,
   "metadata": {
    "execution": {
     "iopub.execute_input": "2023-06-02T14:40:33.987733Z",
     "iopub.status.busy": "2023-06-02T14:40:33.987306Z",
     "iopub.status.idle": "2023-06-02T14:40:36.399918Z",
     "shell.execute_reply": "2023-06-02T14:40:36.398780Z",
     "shell.execute_reply.started": "2023-06-02T14:40:33.987703Z"
    }
   },
   "outputs": [],
   "source": [
    "try:\n",
    "    data_train = pd.read_csv('/copy-of-used-cars-price-prediction-ds18/train.csv')\n",
    "    data_test = pd.read_csv('/copy-of-used-cars-price-prediction-ds18/test.csv')\n",
    "except:\n",
    "    data_train = pd.read_csv('/auto_prise/train.csv')\n",
    "    data_test = pd.read_csv('/auto_prise/test.csv')"
   ]
  },
  {
   "cell_type": "markdown",
   "metadata": {},
   "source": [
    "### Исследуем тренировочный датасет"
   ]
  },
  {
   "cell_type": "code",
   "execution_count": 3,
   "metadata": {
    "execution": {
     "iopub.execute_input": "2023-06-02T14:40:36.402064Z",
     "iopub.status.busy": "2023-06-02T14:40:36.401247Z",
     "iopub.status.idle": "2023-06-02T14:40:36.426181Z",
     "shell.execute_reply": "2023-06-02T14:40:36.424995Z",
     "shell.execute_reply.started": "2023-06-02T14:40:36.402034Z"
    }
   },
   "outputs": [
    {
     "data": {
      "text/html": [
       "<div>\n",
       "<style scoped>\n",
       "    .dataframe tbody tr th:only-of-type {\n",
       "        vertical-align: middle;\n",
       "    }\n",
       "\n",
       "    .dataframe tbody tr th {\n",
       "        vertical-align: top;\n",
       "    }\n",
       "\n",
       "    .dataframe thead th {\n",
       "        text-align: right;\n",
       "    }\n",
       "</style>\n",
       "<table border=\"1\" class=\"dataframe\">\n",
       "  <thead>\n",
       "    <tr style=\"text-align: right;\">\n",
       "      <th></th>\n",
       "      <th>year</th>\n",
       "      <th>make</th>\n",
       "      <th>model</th>\n",
       "      <th>trim</th>\n",
       "      <th>body</th>\n",
       "      <th>transmission</th>\n",
       "      <th>vin</th>\n",
       "      <th>state</th>\n",
       "      <th>condition</th>\n",
       "      <th>odometer</th>\n",
       "      <th>color</th>\n",
       "      <th>interior</th>\n",
       "      <th>seller</th>\n",
       "      <th>sellingprice</th>\n",
       "      <th>saledate</th>\n",
       "    </tr>\n",
       "  </thead>\n",
       "  <tbody>\n",
       "    <tr>\n",
       "      <th>0</th>\n",
       "      <td>2011</td>\n",
       "      <td>Ford</td>\n",
       "      <td>Edge</td>\n",
       "      <td>SEL</td>\n",
       "      <td>suv</td>\n",
       "      <td>automatic</td>\n",
       "      <td>2fmdk3jc4bba41556</td>\n",
       "      <td>md</td>\n",
       "      <td>4.2</td>\n",
       "      <td>111041.0</td>\n",
       "      <td>black</td>\n",
       "      <td>black</td>\n",
       "      <td>santander consumer</td>\n",
       "      <td>12500</td>\n",
       "      <td>Tue Jun 02 2015 02:30:00 GMT-0700 (PDT)</td>\n",
       "    </tr>\n",
       "    <tr>\n",
       "      <th>1</th>\n",
       "      <td>2014</td>\n",
       "      <td>Ford</td>\n",
       "      <td>Fusion</td>\n",
       "      <td>SE</td>\n",
       "      <td>Sedan</td>\n",
       "      <td>automatic</td>\n",
       "      <td>3fa6p0h75er208976</td>\n",
       "      <td>mo</td>\n",
       "      <td>3.5</td>\n",
       "      <td>31034.0</td>\n",
       "      <td>black</td>\n",
       "      <td>black</td>\n",
       "      <td>ars/avis budget group</td>\n",
       "      <td>14500</td>\n",
       "      <td>Wed Feb 25 2015 02:00:00 GMT-0800 (PST)</td>\n",
       "    </tr>\n",
       "    <tr>\n",
       "      <th>2</th>\n",
       "      <td>2012</td>\n",
       "      <td>Nissan</td>\n",
       "      <td>Sentra</td>\n",
       "      <td>2.0 SL</td>\n",
       "      <td>sedan</td>\n",
       "      <td>automatic</td>\n",
       "      <td>3n1ab6ap4cl698412</td>\n",
       "      <td>nj</td>\n",
       "      <td>2.2</td>\n",
       "      <td>35619.0</td>\n",
       "      <td>black</td>\n",
       "      <td>black</td>\n",
       "      <td>nissan-infiniti lt</td>\n",
       "      <td>9100</td>\n",
       "      <td>Wed Jun 10 2015 02:30:00 GMT-0700 (PDT)</td>\n",
       "    </tr>\n",
       "    <tr>\n",
       "      <th>3</th>\n",
       "      <td>2003</td>\n",
       "      <td>HUMMER</td>\n",
       "      <td>H2</td>\n",
       "      <td>Base</td>\n",
       "      <td>suv</td>\n",
       "      <td>automatic</td>\n",
       "      <td>5grgn23u93h101360</td>\n",
       "      <td>tx</td>\n",
       "      <td>2.8</td>\n",
       "      <td>131301.0</td>\n",
       "      <td>gold</td>\n",
       "      <td>beige</td>\n",
       "      <td>wichita falls ford lin inc</td>\n",
       "      <td>13300</td>\n",
       "      <td>Wed Jun 17 2015 03:00:00 GMT-0700 (PDT)</td>\n",
       "    </tr>\n",
       "    <tr>\n",
       "      <th>4</th>\n",
       "      <td>2007</td>\n",
       "      <td>Ford</td>\n",
       "      <td>Fusion</td>\n",
       "      <td>SEL</td>\n",
       "      <td>Sedan</td>\n",
       "      <td>automatic</td>\n",
       "      <td>3fahp08z17r268380</td>\n",
       "      <td>md</td>\n",
       "      <td>2.0</td>\n",
       "      <td>127709.0</td>\n",
       "      <td>black</td>\n",
       "      <td>black</td>\n",
       "      <td>purple heart</td>\n",
       "      <td>1300</td>\n",
       "      <td>Tue Feb 03 2015 04:00:00 GMT-0800 (PST)</td>\n",
       "    </tr>\n",
       "  </tbody>\n",
       "</table>\n",
       "</div>"
      ],
      "text/plain": [
       "   year    make   model    trim   body transmission                vin state  \\\n",
       "0  2011    Ford    Edge     SEL    suv    automatic  2fmdk3jc4bba41556    md   \n",
       "1  2014    Ford  Fusion      SE  Sedan    automatic  3fa6p0h75er208976    mo   \n",
       "2  2012  Nissan  Sentra  2.0 SL  sedan    automatic  3n1ab6ap4cl698412    nj   \n",
       "3  2003  HUMMER      H2    Base    suv    automatic  5grgn23u93h101360    tx   \n",
       "4  2007    Ford  Fusion     SEL  Sedan    automatic  3fahp08z17r268380    md   \n",
       "\n",
       "   condition  odometer  color interior                      seller  \\\n",
       "0        4.2  111041.0  black    black          santander consumer   \n",
       "1        3.5   31034.0  black    black       ars/avis budget group   \n",
       "2        2.2   35619.0  black    black          nissan-infiniti lt   \n",
       "3        2.8  131301.0   gold    beige  wichita falls ford lin inc   \n",
       "4        2.0  127709.0  black    black                purple heart   \n",
       "\n",
       "   sellingprice                                 saledate  \n",
       "0         12500  Tue Jun 02 2015 02:30:00 GMT-0700 (PDT)  \n",
       "1         14500  Wed Feb 25 2015 02:00:00 GMT-0800 (PST)  \n",
       "2          9100  Wed Jun 10 2015 02:30:00 GMT-0700 (PDT)  \n",
       "3         13300  Wed Jun 17 2015 03:00:00 GMT-0700 (PDT)  \n",
       "4          1300  Tue Feb 03 2015 04:00:00 GMT-0800 (PST)  "
      ]
     },
     "execution_count": 3,
     "metadata": {},
     "output_type": "execute_result"
    }
   ],
   "source": [
    "data_train.head()"
   ]
  },
  {
   "cell_type": "code",
   "execution_count": 4,
   "metadata": {
    "execution": {
     "iopub.execute_input": "2023-06-02T14:40:36.431073Z",
     "iopub.status.busy": "2023-06-02T14:40:36.430676Z",
     "iopub.status.idle": "2023-06-02T14:40:36.438613Z",
     "shell.execute_reply": "2023-06-02T14:40:36.437404Z",
     "shell.execute_reply.started": "2023-06-02T14:40:36.431039Z"
    }
   },
   "outputs": [
    {
     "data": {
      "text/plain": [
       "(440236, 15)"
      ]
     },
     "execution_count": 4,
     "metadata": {},
     "output_type": "execute_result"
    }
   ],
   "source": [
    "data_train.shape"
   ]
  },
  {
   "cell_type": "code",
   "execution_count": 5,
   "metadata": {
    "execution": {
     "iopub.execute_input": "2023-06-02T14:40:36.440753Z",
     "iopub.status.busy": "2023-06-02T14:40:36.440234Z",
     "iopub.status.idle": "2023-06-02T14:40:37.920505Z",
     "shell.execute_reply": "2023-06-02T14:40:37.919306Z",
     "shell.execute_reply.started": "2023-06-02T14:40:36.440711Z"
    }
   },
   "outputs": [
    {
     "name": "stdout",
     "output_type": "stream",
     "text": [
      "<class 'pandas.core.frame.DataFrame'>\n",
      "RangeIndex: 440236 entries, 0 to 440235\n",
      "Data columns (total 15 columns):\n",
      " #   Column        Non-Null Count   Dtype  \n",
      "---  ------        --------------   -----  \n",
      " 0   year          440236 non-null  int64  \n",
      " 1   make          432193 non-null  object \n",
      " 2   model         432113 non-null  object \n",
      " 3   trim          431899 non-null  object \n",
      " 4   body          429843 non-null  object \n",
      " 5   transmission  388775 non-null  object \n",
      " 6   vin           440236 non-null  object \n",
      " 7   state         440236 non-null  object \n",
      " 8   condition     430831 non-null  float64\n",
      " 9   odometer      440167 non-null  float64\n",
      " 10  color         439650 non-null  object \n",
      " 11  interior      439650 non-null  object \n",
      " 12  seller        440236 non-null  object \n",
      " 13  sellingprice  440236 non-null  int64  \n",
      " 14  saledate      440236 non-null  object \n",
      "dtypes: float64(2), int64(2), object(11)\n",
      "memory usage: 50.4+ MB\n"
     ]
    }
   ],
   "source": [
    "data_train.info()"
   ]
  },
  {
   "cell_type": "code",
   "execution_count": 6,
   "metadata": {
    "execution": {
     "iopub.execute_input": "2023-06-02T14:40:37.922880Z",
     "iopub.status.busy": "2023-06-02T14:40:37.922417Z",
     "iopub.status.idle": "2023-06-02T14:40:38.028226Z",
     "shell.execute_reply": "2023-06-02T14:40:38.027351Z",
     "shell.execute_reply.started": "2023-06-02T14:40:37.922839Z"
    }
   },
   "outputs": [
    {
     "data": {
      "text/html": [
       "<div>\n",
       "<style scoped>\n",
       "    .dataframe tbody tr th:only-of-type {\n",
       "        vertical-align: middle;\n",
       "    }\n",
       "\n",
       "    .dataframe tbody tr th {\n",
       "        vertical-align: top;\n",
       "    }\n",
       "\n",
       "    .dataframe thead th {\n",
       "        text-align: right;\n",
       "    }\n",
       "</style>\n",
       "<table border=\"1\" class=\"dataframe\">\n",
       "  <thead>\n",
       "    <tr style=\"text-align: right;\">\n",
       "      <th></th>\n",
       "      <th>year</th>\n",
       "      <th>condition</th>\n",
       "      <th>odometer</th>\n",
       "      <th>sellingprice</th>\n",
       "    </tr>\n",
       "  </thead>\n",
       "  <tbody>\n",
       "    <tr>\n",
       "      <th>count</th>\n",
       "      <td>440236.000000</td>\n",
       "      <td>430831.000000</td>\n",
       "      <td>440167.000000</td>\n",
       "      <td>440236.000000</td>\n",
       "    </tr>\n",
       "    <tr>\n",
       "      <th>mean</th>\n",
       "      <td>2010.040101</td>\n",
       "      <td>3.425077</td>\n",
       "      <td>68344.421604</td>\n",
       "      <td>13592.209588</td>\n",
       "    </tr>\n",
       "    <tr>\n",
       "      <th>std</th>\n",
       "      <td>3.977945</td>\n",
       "      <td>0.949973</td>\n",
       "      <td>53542.203908</td>\n",
       "      <td>9751.479098</td>\n",
       "    </tr>\n",
       "    <tr>\n",
       "      <th>min</th>\n",
       "      <td>1982.000000</td>\n",
       "      <td>1.000000</td>\n",
       "      <td>1.000000</td>\n",
       "      <td>1.000000</td>\n",
       "    </tr>\n",
       "    <tr>\n",
       "      <th>25%</th>\n",
       "      <td>2007.000000</td>\n",
       "      <td>2.700000</td>\n",
       "      <td>28258.000000</td>\n",
       "      <td>6900.000000</td>\n",
       "    </tr>\n",
       "    <tr>\n",
       "      <th>50%</th>\n",
       "      <td>2012.000000</td>\n",
       "      <td>3.600000</td>\n",
       "      <td>52098.000000</td>\n",
       "      <td>12100.000000</td>\n",
       "    </tr>\n",
       "    <tr>\n",
       "      <th>75%</th>\n",
       "      <td>2013.000000</td>\n",
       "      <td>4.200000</td>\n",
       "      <td>99272.000000</td>\n",
       "      <td>18200.000000</td>\n",
       "    </tr>\n",
       "    <tr>\n",
       "      <th>max</th>\n",
       "      <td>2015.000000</td>\n",
       "      <td>5.000000</td>\n",
       "      <td>999999.000000</td>\n",
       "      <td>230000.000000</td>\n",
       "    </tr>\n",
       "  </tbody>\n",
       "</table>\n",
       "</div>"
      ],
      "text/plain": [
       "                year      condition       odometer   sellingprice\n",
       "count  440236.000000  430831.000000  440167.000000  440236.000000\n",
       "mean     2010.040101       3.425077   68344.421604   13592.209588\n",
       "std         3.977945       0.949973   53542.203908    9751.479098\n",
       "min      1982.000000       1.000000       1.000000       1.000000\n",
       "25%      2007.000000       2.700000   28258.000000    6900.000000\n",
       "50%      2012.000000       3.600000   52098.000000   12100.000000\n",
       "75%      2013.000000       4.200000   99272.000000   18200.000000\n",
       "max      2015.000000       5.000000  999999.000000  230000.000000"
      ]
     },
     "execution_count": 6,
     "metadata": {},
     "output_type": "execute_result"
    }
   ],
   "source": [
    "data_train.describe()"
   ]
  },
  {
   "cell_type": "code",
   "execution_count": 7,
   "metadata": {
    "execution": {
     "iopub.execute_input": "2023-06-02T14:40:38.029498Z",
     "iopub.status.busy": "2023-06-02T14:40:38.029168Z",
     "iopub.status.idle": "2023-06-02T14:40:39.105010Z",
     "shell.execute_reply": "2023-06-02T14:40:39.104031Z",
     "shell.execute_reply.started": "2023-06-02T14:40:38.029470Z"
    }
   },
   "outputs": [
    {
     "data": {
      "text/plain": [
       "0"
      ]
     },
     "execution_count": 7,
     "metadata": {},
     "output_type": "execute_result"
    }
   ],
   "source": [
    "data_train.duplicated().sum()"
   ]
  },
  {
   "cell_type": "code",
   "execution_count": 8,
   "metadata": {
    "execution": {
     "iopub.execute_input": "2023-06-02T14:40:39.107107Z",
     "iopub.status.busy": "2023-06-02T14:40:39.106626Z",
     "iopub.status.idle": "2023-06-02T14:40:40.604851Z",
     "shell.execute_reply": "2023-06-02T14:40:40.603771Z",
     "shell.execute_reply.started": "2023-06-02T14:40:39.107066Z"
    }
   },
   "outputs": [
    {
     "data": {
      "text/plain": [
       "year                0\n",
       "make             8043\n",
       "model            8123\n",
       "trim             8337\n",
       "body            10393\n",
       "transmission    51461\n",
       "vin                 0\n",
       "state               0\n",
       "condition        9405\n",
       "odometer           69\n",
       "color             586\n",
       "interior          586\n",
       "seller              0\n",
       "sellingprice        0\n",
       "saledate            0\n",
       "dtype: int64"
      ]
     },
     "execution_count": 8,
     "metadata": {},
     "output_type": "execute_result"
    }
   ],
   "source": [
    "data_train.isnull().sum()"
   ]
  },
  {
   "cell_type": "markdown",
   "metadata": {},
   "source": [
    "**По первичному анализу видно, что явных дубликатов в датасете нет, но есть пропуски в 9-и столбцах. Изучим все столбцы по отдельности и найдем способ заполнения пропусков для каждого столбца.**"
   ]
  },
  {
   "cell_type": "markdown",
   "metadata": {},
   "source": [
    "**Нашим целевым признаком является столбец `sellingprice` - стоимость продажи. Изучим его.**"
   ]
  },
  {
   "cell_type": "code",
   "execution_count": 9,
   "metadata": {
    "execution": {
     "iopub.execute_input": "2023-06-02T14:40:40.607077Z",
     "iopub.status.busy": "2023-06-02T14:40:40.606293Z",
     "iopub.status.idle": "2023-06-02T14:40:42.982740Z",
     "shell.execute_reply": "2023-06-02T14:40:42.981509Z",
     "shell.execute_reply.started": "2023-06-02T14:40:40.607045Z"
    }
   },
   "outputs": [
    {
     "data": {
      "image/png": "[encoded data removed]",
      "text/plain": [
       "<Figure size 1200x800 with 1 Axes>"
      ]
     },
     "metadata": {},
     "output_type": "display_data"
    }
   ],
   "source": [
    "data_train.plot(x='year', y='sellingprice', kind='scatter', alpha=0.3, grid=True, figsize=(12, 8), \n",
    "          title='Соотношение года выпуска и стоимости автомобиля');"
   ]
  },
  {
   "cell_type": "code",
   "execution_count": 10,
   "metadata": {
    "execution": {
     "iopub.execute_input": "2023-06-02T14:40:42.984418Z",
     "iopub.status.busy": "2023-06-02T14:40:42.984095Z",
     "iopub.status.idle": "2023-06-02T14:40:45.235173Z",
     "shell.execute_reply": "2023-06-02T14:40:45.233897Z",
     "shell.execute_reply.started": "2023-06-02T14:40:42.984390Z"
    }
   },
   "outputs": [
    {
     "data": {
      "image/png": "[encoded data removed]",
      "text/plain": [
       "<Figure size 1200x800 with 1 Axes>"
      ]
     },
     "metadata": {},
     "output_type": "display_data"
    }
   ],
   "source": [
    "data_train.plot(x='odometer', y='sellingprice', kind='scatter', alpha=0.3, grid=True, figsize=(12, 8), \n",
    "          title='Соотношение пробега и стоимости автомобиля');"
   ]
  },
  {
   "cell_type": "code",
   "execution_count": 11,
   "metadata": {
    "execution": {
     "iopub.execute_input": "2023-06-02T14:40:45.237226Z",
     "iopub.status.busy": "2023-06-02T14:40:45.236791Z",
     "iopub.status.idle": "2023-06-02T14:40:47.471317Z",
     "shell.execute_reply": "2023-06-02T14:40:47.470024Z",
     "shell.execute_reply.started": "2023-06-02T14:40:45.237192Z"
    }
   },
   "outputs": [
    {
     "data": {
      "image/png": "[encoded data removed]",
      "text/plain": [
       "<Figure size 1200x800 with 1 Axes>"
      ]
     },
     "metadata": {},
     "output_type": "display_data"
    }
   ],
   "source": [
    "data_train.plot(x='condition', y='sellingprice', kind='scatter', alpha=0.3, grid=True, figsize=(12, 8), \n",
    "          title='Соотношение состояния и стоимости автомобиля');"
   ]
  },
  {
   "cell_type": "code",
   "execution_count": 12,
   "metadata": {},
   "outputs": [
    {
     "data": {
      "text/html": [
       "<div>\n",
       "<style scoped>\n",
       "    .dataframe tbody tr th:only-of-type {\n",
       "        vertical-align: middle;\n",
       "    }\n",
       "\n",
       "    .dataframe tbody tr th {\n",
       "        vertical-align: top;\n",
       "    }\n",
       "\n",
       "    .dataframe thead th {\n",
       "        text-align: right;\n",
       "    }\n",
       "</style>\n",
       "<table border=\"1\" class=\"dataframe\">\n",
       "  <thead>\n",
       "    <tr style=\"text-align: right;\">\n",
       "      <th></th>\n",
       "      <th>year</th>\n",
       "      <th>condition</th>\n",
       "      <th>odometer</th>\n",
       "      <th>sellingprice</th>\n",
       "    </tr>\n",
       "  </thead>\n",
       "  <tbody>\n",
       "    <tr>\n",
       "      <th>year</th>\n",
       "      <td>1.000000</td>\n",
       "      <td>0.553403</td>\n",
       "      <td>-0.774498</td>\n",
       "      <td>0.586847</td>\n",
       "    </tr>\n",
       "    <tr>\n",
       "      <th>condition</th>\n",
       "      <td>0.553403</td>\n",
       "      <td>1.000000</td>\n",
       "      <td>-0.540544</td>\n",
       "      <td>0.538906</td>\n",
       "    </tr>\n",
       "    <tr>\n",
       "      <th>odometer</th>\n",
       "      <td>-0.774498</td>\n",
       "      <td>-0.540544</td>\n",
       "      <td>1.000000</td>\n",
       "      <td>-0.583044</td>\n",
       "    </tr>\n",
       "    <tr>\n",
       "      <th>sellingprice</th>\n",
       "      <td>0.586847</td>\n",
       "      <td>0.538906</td>\n",
       "      <td>-0.583044</td>\n",
       "      <td>1.000000</td>\n",
       "    </tr>\n",
       "  </tbody>\n",
       "</table>\n",
       "</div>"
      ],
      "text/plain": [
       "                  year  condition  odometer  sellingprice\n",
       "year          1.000000   0.553403 -0.774498      0.586847\n",
       "condition     0.553403   1.000000 -0.540544      0.538906\n",
       "odometer     -0.774498  -0.540544  1.000000     -0.583044\n",
       "sellingprice  0.586847   0.538906 -0.583044      1.000000"
      ]
     },
     "execution_count": 12,
     "metadata": {},
     "output_type": "execute_result"
    }
   ],
   "source": [
    "data_train.corr(numeric_only=True)"
   ]
  },
  {
   "cell_type": "markdown",
   "metadata": {},
   "source": [
    "**Из графиков и таблицы корреляции признаков видно, что на стоимость автомобиля влияет состояние - чем выше значение, тем выше стоимость, пробег - чем ниже, тем выше стоимость, год выпуска - чем моложе автомобиль, тем выше стоимость и меньше пробег.**"
   ]
  },
  {
   "cell_type": "markdown",
   "metadata": {},
   "source": [
    "### Проводим исследование и предобработку каждого столбца. Создаём столбцы с новыми признаками."
   ]
  },
  {
   "cell_type": "markdown",
   "metadata": {},
   "source": [
    "**Переведём столбец `saledate` с датой продажи к типу .daytime и извлечём из него месяц и год, создадим два новых столбца `sale_year` и `sale_month`**"
   ]
  },
  {
   "cell_type": "code",
   "execution_count": 13,
   "metadata": {
    "execution": {
     "iopub.execute_input": "2023-06-02T14:40:47.473633Z",
     "iopub.status.busy": "2023-06-02T14:40:47.473077Z",
     "iopub.status.idle": "2023-06-02T14:40:56.015132Z",
     "shell.execute_reply": "2023-06-02T14:40:56.014125Z",
     "shell.execute_reply.started": "2023-06-02T14:40:47.473591Z"
    }
   },
   "outputs": [],
   "source": [
    "data_train['saledate'] = data_train['saledate'].apply(lambda x: datetime.datetime.strptime(x[:-15], \"%a %b %d %Y %H:%M:%S\"))"
   ]
  },
  {
   "cell_type": "code",
   "execution_count": 14,
   "metadata": {
    "execution": {
     "iopub.execute_input": "2023-06-02T14:40:56.022646Z",
     "iopub.status.busy": "2023-06-02T14:40:56.022269Z",
     "iopub.status.idle": "2023-06-02T14:40:56.085003Z",
     "shell.execute_reply": "2023-06-02T14:40:56.083820Z",
     "shell.execute_reply.started": "2023-06-02T14:40:56.022618Z"
    }
   },
   "outputs": [
    {
     "data": {
      "text/plain": [
       "array([2015, 2014], dtype=int64)"
      ]
     },
     "execution_count": 14,
     "metadata": {},
     "output_type": "execute_result"
    }
   ],
   "source": [
    "data_train['sale_year'] = pd.DatetimeIndex(data_train['saledate']).year\n",
    "data_train['sale_year'].unique()"
   ]
  },
  {
   "cell_type": "code",
   "execution_count": 15,
   "metadata": {
    "execution": {
     "iopub.execute_input": "2023-06-02T14:40:56.086795Z",
     "iopub.status.busy": "2023-06-02T14:40:56.086461Z",
     "iopub.status.idle": "2023-06-02T14:40:56.147636Z",
     "shell.execute_reply": "2023-06-02T14:40:56.146510Z",
     "shell.execute_reply.started": "2023-06-02T14:40:56.086762Z"
    }
   },
   "outputs": [
    {
     "data": {
      "text/plain": [
       "array([ 6,  2,  5,  1, 12,  3,  4,  7], dtype=int64)"
      ]
     },
     "execution_count": 15,
     "metadata": {},
     "output_type": "execute_result"
    }
   ],
   "source": [
    "data_train['sale_month'] = pd.DatetimeIndex(data_train['saledate']).month\n",
    "data_train['sale_month'].unique()"
   ]
  },
  {
   "cell_type": "code",
   "execution_count": 16,
   "metadata": {
    "execution": {
     "iopub.execute_input": "2023-06-02T14:40:56.149135Z",
     "iopub.status.busy": "2023-06-02T14:40:56.148821Z",
     "iopub.status.idle": "2023-06-02T14:40:56.170754Z",
     "shell.execute_reply": "2023-06-02T14:40:56.169501Z",
     "shell.execute_reply.started": "2023-06-02T14:40:56.149109Z"
    }
   },
   "outputs": [
    {
     "data": {
      "text/html": [
       "<div>\n",
       "<style scoped>\n",
       "    .dataframe tbody tr th:only-of-type {\n",
       "        vertical-align: middle;\n",
       "    }\n",
       "\n",
       "    .dataframe tbody tr th {\n",
       "        vertical-align: top;\n",
       "    }\n",
       "\n",
       "    .dataframe thead th {\n",
       "        text-align: right;\n",
       "    }\n",
       "</style>\n",
       "<table border=\"1\" class=\"dataframe\">\n",
       "  <thead>\n",
       "    <tr style=\"text-align: right;\">\n",
       "      <th></th>\n",
       "      <th>year</th>\n",
       "      <th>make</th>\n",
       "      <th>model</th>\n",
       "      <th>trim</th>\n",
       "      <th>body</th>\n",
       "      <th>transmission</th>\n",
       "      <th>vin</th>\n",
       "      <th>state</th>\n",
       "      <th>condition</th>\n",
       "      <th>odometer</th>\n",
       "      <th>color</th>\n",
       "      <th>interior</th>\n",
       "      <th>seller</th>\n",
       "      <th>sellingprice</th>\n",
       "      <th>saledate</th>\n",
       "      <th>sale_year</th>\n",
       "      <th>sale_month</th>\n",
       "    </tr>\n",
       "  </thead>\n",
       "  <tbody>\n",
       "    <tr>\n",
       "      <th>0</th>\n",
       "      <td>2011</td>\n",
       "      <td>Ford</td>\n",
       "      <td>Edge</td>\n",
       "      <td>SEL</td>\n",
       "      <td>suv</td>\n",
       "      <td>automatic</td>\n",
       "      <td>2fmdk3jc4bba41556</td>\n",
       "      <td>md</td>\n",
       "      <td>4.2</td>\n",
       "      <td>111041.0</td>\n",
       "      <td>black</td>\n",
       "      <td>black</td>\n",
       "      <td>santander consumer</td>\n",
       "      <td>12500</td>\n",
       "      <td>2015-06-02 02:30:00</td>\n",
       "      <td>2015</td>\n",
       "      <td>6</td>\n",
       "    </tr>\n",
       "    <tr>\n",
       "      <th>1</th>\n",
       "      <td>2014</td>\n",
       "      <td>Ford</td>\n",
       "      <td>Fusion</td>\n",
       "      <td>SE</td>\n",
       "      <td>Sedan</td>\n",
       "      <td>automatic</td>\n",
       "      <td>3fa6p0h75er208976</td>\n",
       "      <td>mo</td>\n",
       "      <td>3.5</td>\n",
       "      <td>31034.0</td>\n",
       "      <td>black</td>\n",
       "      <td>black</td>\n",
       "      <td>ars/avis budget group</td>\n",
       "      <td>14500</td>\n",
       "      <td>2015-02-25 02:00:00</td>\n",
       "      <td>2015</td>\n",
       "      <td>2</td>\n",
       "    </tr>\n",
       "    <tr>\n",
       "      <th>2</th>\n",
       "      <td>2012</td>\n",
       "      <td>Nissan</td>\n",
       "      <td>Sentra</td>\n",
       "      <td>2.0 SL</td>\n",
       "      <td>sedan</td>\n",
       "      <td>automatic</td>\n",
       "      <td>3n1ab6ap4cl698412</td>\n",
       "      <td>nj</td>\n",
       "      <td>2.2</td>\n",
       "      <td>35619.0</td>\n",
       "      <td>black</td>\n",
       "      <td>black</td>\n",
       "      <td>nissan-infiniti lt</td>\n",
       "      <td>9100</td>\n",
       "      <td>2015-06-10 02:30:00</td>\n",
       "      <td>2015</td>\n",
       "      <td>6</td>\n",
       "    </tr>\n",
       "    <tr>\n",
       "      <th>3</th>\n",
       "      <td>2003</td>\n",
       "      <td>HUMMER</td>\n",
       "      <td>H2</td>\n",
       "      <td>Base</td>\n",
       "      <td>suv</td>\n",
       "      <td>automatic</td>\n",
       "      <td>5grgn23u93h101360</td>\n",
       "      <td>tx</td>\n",
       "      <td>2.8</td>\n",
       "      <td>131301.0</td>\n",
       "      <td>gold</td>\n",
       "      <td>beige</td>\n",
       "      <td>wichita falls ford lin inc</td>\n",
       "      <td>13300</td>\n",
       "      <td>2015-06-17 03:00:00</td>\n",
       "      <td>2015</td>\n",
       "      <td>6</td>\n",
       "    </tr>\n",
       "    <tr>\n",
       "      <th>4</th>\n",
       "      <td>2007</td>\n",
       "      <td>Ford</td>\n",
       "      <td>Fusion</td>\n",
       "      <td>SEL</td>\n",
       "      <td>Sedan</td>\n",
       "      <td>automatic</td>\n",
       "      <td>3fahp08z17r268380</td>\n",
       "      <td>md</td>\n",
       "      <td>2.0</td>\n",
       "      <td>127709.0</td>\n",
       "      <td>black</td>\n",
       "      <td>black</td>\n",
       "      <td>purple heart</td>\n",
       "      <td>1300</td>\n",
       "      <td>2015-02-03 04:00:00</td>\n",
       "      <td>2015</td>\n",
       "      <td>2</td>\n",
       "    </tr>\n",
       "  </tbody>\n",
       "</table>\n",
       "</div>"
      ],
      "text/plain": [
       "   year    make   model    trim   body transmission                vin state  \\\n",
       "0  2011    Ford    Edge     SEL    suv    automatic  2fmdk3jc4bba41556    md   \n",
       "1  2014    Ford  Fusion      SE  Sedan    automatic  3fa6p0h75er208976    mo   \n",
       "2  2012  Nissan  Sentra  2.0 SL  sedan    automatic  3n1ab6ap4cl698412    nj   \n",
       "3  2003  HUMMER      H2    Base    suv    automatic  5grgn23u93h101360    tx   \n",
       "4  2007    Ford  Fusion     SEL  Sedan    automatic  3fahp08z17r268380    md   \n",
       "\n",
       "   condition  odometer  color interior                      seller  \\\n",
       "0        4.2  111041.0  black    black          santander consumer   \n",
       "1        3.5   31034.0  black    black       ars/avis budget group   \n",
       "2        2.2   35619.0  black    black          nissan-infiniti lt   \n",
       "3        2.8  131301.0   gold    beige  wichita falls ford lin inc   \n",
       "4        2.0  127709.0  black    black                purple heart   \n",
       "\n",
       "   sellingprice            saledate  sale_year  sale_month  \n",
       "0         12500 2015-06-02 02:30:00       2015           6  \n",
       "1         14500 2015-02-25 02:00:00       2015           2  \n",
       "2          9100 2015-06-10 02:30:00       2015           6  \n",
       "3         13300 2015-06-17 03:00:00       2015           6  \n",
       "4          1300 2015-02-03 04:00:00       2015           2  "
      ]
     },
     "execution_count": 16,
     "metadata": {},
     "output_type": "execute_result"
    }
   ],
   "source": [
    "data_train.head()"
   ]
  },
  {
   "cell_type": "markdown",
   "metadata": {},
   "source": [
    "**Изучим столбец `make` - производитель**."
   ]
  },
  {
   "cell_type": "code",
   "execution_count": 17,
   "metadata": {
    "execution": {
     "iopub.execute_input": "2023-06-02T14:40:56.172796Z",
     "iopub.status.busy": "2023-06-02T14:40:56.172395Z",
     "iopub.status.idle": "2023-06-02T14:40:56.232081Z",
     "shell.execute_reply": "2023-06-02T14:40:56.230889Z",
     "shell.execute_reply.started": "2023-06-02T14:40:56.172765Z"
    }
   },
   "outputs": [
    {
     "data": {
      "text/plain": [
       "array(['Ford', 'Nissan', 'HUMMER', 'Lincoln', 'pontiac', 'Hyundai', nan,\n",
       "       'Buick', 'Chevrolet', 'Honda', 'Acura', 'Cadillac', 'GMC', 'Saab',\n",
       "       'Dodge', 'Mercedes-Benz', 'Toyota', 'Volkswagen', 'BMW',\n",
       "       'Infiniti', 'Chrysler', 'Kia', 'Jaguar', 'Subaru', 'Jeep', 'Lexus',\n",
       "       'mercedes', 'Scion', 'FIAT', 'Suzuki', 'Mazda', 'Volvo', 'Audi',\n",
       "       'MINI', 'Isuzu', 'Mitsubishi', 'smart', 'Pontiac', 'Porsche',\n",
       "       'subaru', 'ford', 'Land Rover', 'chrysler', 'Saturn', 'mazda',\n",
       "       'dodge', 'Ram', 'Oldsmobile', 'hyundai', 'Mercury', 'Bentley',\n",
       "       'toyota', 'lincoln', 'Fisker', 'nissan', 'chevrolet', 'honda',\n",
       "       'porsche', 'mitsubishi', 'lexus', 'bmw', 'Maserati', 'acura',\n",
       "       'jeep', 'mercury', 'Tesla', 'landrover', 'vw', 'cadillac', 'buick',\n",
       "       'gmc truck', 'land rover', 'volkswagen', 'Rolls-Royce', 'audi',\n",
       "       'Ferrari', 'suzuki', 'Plymouth', 'oldsmobile', 'Lamborghini',\n",
       "       'gmc', 'Geo', 'ford truck', 'Aston Martin', 'plymouth', 'Daewoo',\n",
       "       'maserati', 'kia', 'mercedes-b', 'dodge tk', 'mazda tk', 'dot',\n",
       "       'airstream'], dtype=object)"
      ]
     },
     "execution_count": 17,
     "metadata": {},
     "output_type": "execute_result"
    }
   ],
   "source": [
    "data_train['make'].unique()"
   ]
  },
  {
   "cell_type": "code",
   "execution_count": 18,
   "metadata": {},
   "outputs": [
    {
     "data": {
      "text/plain": [
       "92"
      ]
     },
     "execution_count": 18,
     "metadata": {},
     "output_type": "execute_result"
    }
   ],
   "source": [
    "data_train['make'].nunique()"
   ]
  },
  {
   "cell_type": "code",
   "execution_count": 19,
   "metadata": {
    "execution": {
     "iopub.execute_input": "2023-06-02T14:40:56.234299Z",
     "iopub.status.busy": "2023-06-02T14:40:56.233878Z",
     "iopub.status.idle": "2023-06-02T14:41:09.682522Z",
     "shell.execute_reply": "2023-06-02T14:41:09.681306Z",
     "shell.execute_reply.started": "2023-06-02T14:40:56.234259Z"
    }
   },
   "outputs": [],
   "source": [
    "data_train = data_train.replace({ 'bmw': 'BMW',\n",
    "                                 'smart': 'Smart',\n",
    "                                 'oldsmobile': 'Oldsmobile',\n",
    "                                 'ford': 'Ford',\n",
    "                                 'ford truck': 'Ford',\n",
    "                                 'chrysler': 'Chrysler',\n",
    "                                 'mazda': 'Mazda',\n",
    "                                 'mazda tk': 'Mazda',\n",
    "                                 'dodge tk': 'Dodge',\n",
    "                                 'dodge': 'Dodge',\n",
    "                                 'hyundai': 'Hyundai',\n",
    "                                 'pontiac': 'Pontiac',\n",
    "                                 'subaru': 'Subaru',\n",
    "                                 'toyota': 'Toyota',\n",
    "                                 'lincoln': 'Lincoln',\n",
    "                                 'nissan': 'Nissan',\n",
    "                                 'chevrolet': 'Chevrolet',\n",
    "                                 'honda': 'Honda',\n",
    "                                 'porsche': 'Porsche',\n",
    "                                 'mitsubishi': 'Mitsubishi',\n",
    "                                 'lexus': 'Lexus',\n",
    "                                 'acura': 'Acura',\n",
    "                                 'jeep': 'Jeep',\n",
    "                                 'mercury': 'Mercury',\n",
    "                                 'landrover': 'Land Rover',\n",
    "                                 'land rover': 'Land Rover',\n",
    "                                 'vw': 'Volkswagen',\n",
    "                                 'volkswagen': 'Volkswagen',\n",
    "                                 'audi': 'Audi',\n",
    "                                 'suzuki': 'Suzuki',\n",
    "                                 'gmc': 'GMC',\n",
    "                                 'gmc truck': 'GMC',\n",
    "                                 'plymouth': 'Plymouth',\n",
    "                                 'maserati': 'Maserati',\n",
    "                                 'kia': 'Kia',\n",
    "                                 'mercedes-b': 'Mercedes-Benz',\n",
    "                                 'mercedes': 'Mercedes-Benz',\n",
    "                                 'dot': 'Dot',\n",
    "                                 'airstream': 'Airstream'\n",
    "})"
   ]
  },
  {
   "cell_type": "code",
   "execution_count": 20,
   "metadata": {
    "execution": {
     "iopub.execute_input": "2023-06-02T14:41:09.684381Z",
     "iopub.status.busy": "2023-06-02T14:41:09.684022Z",
     "iopub.status.idle": "2023-06-02T14:41:09.741512Z",
     "shell.execute_reply": "2023-06-02T14:41:09.740354Z",
     "shell.execute_reply.started": "2023-06-02T14:41:09.684351Z"
    }
   },
   "outputs": [
    {
     "data": {
      "text/plain": [
       "array(['Ford', 'Nissan', 'HUMMER', 'Lincoln', 'Pontiac', 'Hyundai', nan,\n",
       "       'Buick', 'Chevrolet', 'Honda', 'Acura', 'Cadillac', 'GMC', 'Saab',\n",
       "       'Dodge', 'Mercedes-Benz', 'Toyota', 'Volkswagen', 'BMW',\n",
       "       'Infiniti', 'Chrysler', 'Kia', 'Jaguar', 'Subaru', 'Jeep', 'Lexus',\n",
       "       'Scion', 'FIAT', 'Suzuki', 'Mazda', 'Volvo', 'Audi', 'MINI',\n",
       "       'Isuzu', 'Mitsubishi', 'Smart', 'Porsche', 'Land Rover', 'Saturn',\n",
       "       'Ram', 'Oldsmobile', 'Mercury', 'Bentley', 'Fisker', 'Maserati',\n",
       "       'Tesla', 'cadillac', 'buick', 'Rolls-Royce', 'Ferrari', 'Plymouth',\n",
       "       'Lamborghini', 'Geo', 'Aston Martin', 'Daewoo', 'Dot', 'Airstream'],\n",
       "      dtype=object)"
      ]
     },
     "execution_count": 20,
     "metadata": {},
     "output_type": "execute_result"
    }
   ],
   "source": [
    "data_train['make'].unique()"
   ]
  },
  {
   "cell_type": "code",
   "execution_count": 21,
   "metadata": {},
   "outputs": [
    {
     "data": {
      "text/plain": [
       "56"
      ]
     },
     "execution_count": 21,
     "metadata": {},
     "output_type": "execute_result"
    }
   ],
   "source": [
    "data_train['make'].nunique()"
   ]
  },
  {
   "cell_type": "code",
   "execution_count": 22,
   "metadata": {
    "execution": {
     "iopub.execute_input": "2023-06-02T14:41:09.745927Z",
     "iopub.status.busy": "2023-06-02T14:41:09.744823Z",
     "iopub.status.idle": "2023-06-02T14:41:09.830571Z",
     "shell.execute_reply": "2023-06-02T14:41:09.828483Z",
     "shell.execute_reply.started": "2023-06-02T14:41:09.745882Z"
    }
   },
   "outputs": [
    {
     "data": {
      "text/plain": [
       "Ford             74070\n",
       "Chevrolet        47818\n",
       "Nissan           42866\n",
       "Toyota           31711\n",
       "Dodge            24295\n",
       "Honda            21600\n",
       "Hyundai          17187\n",
       "BMW              16254\n",
       "Kia              14325\n",
       "Chrysler         13796\n",
       "Mercedes-Benz    13408\n",
       "Infiniti         12123\n",
       "Jeep             12107\n",
       "Volkswagen        9901\n",
       "Lexus             9363\n",
       "GMC               8368\n",
       "Mazda             6704\n",
       "Cadillac          5865\n",
       "Acura             4679\n",
       "Audi              4635\n",
       "Lincoln           4541\n",
       "Subaru            4019\n",
       "Buick             4012\n",
       "Pontiac           3596\n",
       "Ram               3592\n",
       "Mitsubishi        3413\n",
       "Volvo             2958\n",
       "MINI              2473\n",
       "Saturn            2247\n",
       "Mercury           1561\n",
       "Land Rover        1476\n",
       "Scion             1338\n",
       "Jaguar            1100\n",
       "Porsche           1094\n",
       "Suzuki             846\n",
       "FIAT               672\n",
       "HUMMER             597\n",
       "Saab               384\n",
       "Smart              311\n",
       "Oldsmobile         294\n",
       "Isuzu              163\n",
       "Maserati           112\n",
       "cadillac            93\n",
       "Bentley             91\n",
       "Plymouth            23\n",
       "Aston Martin        23\n",
       "Tesla               17\n",
       "Ferrari             17\n",
       "Geo                 16\n",
       "Rolls-Royce         14\n",
       "buick               11\n",
       "Fisker               7\n",
       "Lamborghini          4\n",
       "Daewoo               1\n",
       "Dot                  1\n",
       "Airstream            1\n",
       "Name: make, dtype: int64"
      ]
     },
     "execution_count": 22,
     "metadata": {},
     "output_type": "execute_result"
    }
   ],
   "source": [
    "data_train['make'].value_counts()"
   ]
  },
  {
   "cell_type": "markdown",
   "metadata": {},
   "source": [
    "**Изучим столбец `model` - модель**."
   ]
  },
  {
   "cell_type": "code",
   "execution_count": 23,
   "metadata": {
    "execution": {
     "iopub.execute_input": "2023-06-02T14:41:09.832640Z",
     "iopub.status.busy": "2023-06-02T14:41:09.832181Z",
     "iopub.status.idle": "2023-06-02T14:41:09.892832Z",
     "shell.execute_reply": "2023-06-02T14:41:09.891689Z",
     "shell.execute_reply.started": "2023-06-02T14:41:09.832605Z"
    }
   },
   "outputs": [
    {
     "data": {
      "text/plain": [
       "array(['Edge', 'Fusion', 'Sentra', 'H2', 'MKZ', 'g6', 'Escape', 'Elantra',\n",
       "       'Freestyle', nan, 'Lucerne', 'Windstar', 'Silverado 1500',\n",
       "       'Murano', 'Equinox', 'Accord', 'Civic', 'MDX', 'CTS', 'Taurus',\n",
       "       'SRX', 'Yukon', '9-3', 'Explorer', 'F-150', 'Charger', 'Armada',\n",
       "       'GL-Class', 'Avalon', 'Tahoe', 'Malibu', 'Passat', 'Camry', 'Flex',\n",
       "       '3 Series', 'Q50', 'Altima', 'Mustang', '300', 'Sonata',\n",
       "       'Envoy XL', 'Rogue', 'Accent', 'Maxima', 'Forte', 'XF', 'Outback',\n",
       "       'Grand Caravan', 'E-Class', 'Cherokee', 'Impala', 'Optima',\n",
       "       '5 Series', 'Expedition', 'IS 250', 'MKS', '200', 'Veloster',\n",
       "       'Golf', 'RAV4', 'e300dt', 'Five Hundred', 'G Coupe',\n",
       "       'Grand Cherokee', 'X-Type', 'G Convertible', 'Tacoma', 'xA',\n",
       "       'G Sedan', 'TL', 'Liberty', 'Soul', '500L', 'Town and Country',\n",
       "       'HHR', 'Wrangler', 'Reno', 'Suburban', 'PT Cruiser', 'GX 460',\n",
       "       'Sienna', 'SL-Class', 'Envoy', 'Patriot', 'E-Series Van', 'Versa',\n",
       "       'Aspen', 'M', 'Colorado', 'Beetle', 'Spark', 'RX 330',\n",
       "       'Rendezvous', 'Town Car', '1 Series', 'Venture', 'Corolla',\n",
       "       'Focus', 'MKX', 'MX-5 Miata', 'Traverse', 'Pathfinder',\n",
       "       'Silverado 2500HD', 'Ram Pickup 1500', 'S60', 'A6',\n",
       "       'TSX Sport Wagon', 'Fusion Hybrid', '4Runner', 'Sorento', 'RX 300',\n",
       "       'Explorer Sport Trac', 'Nitro', '7 Series', 'Q7', 'Odyssey',\n",
       "       'Camaro', 'X5', 'M3', 'Caliber', 'I35', 'Journey',\n",
       "       '5 Series Gran Turismo', 'Prius', 'Regal', 'Cooper Countryman',\n",
       "       'Jetta', 'malibu', 'Avenger', 'Cooper', 'Camry Hybrid', 'Rodeo',\n",
       "       'F-250 Super Duty', 'RX 350', 'Cruze', 'TSX', 'XJ-Series',\n",
       "       'Savana Cargo', 'Mazda5', 'Escalade', 'Challenger',\n",
       "       'Express Cargo', 'R-Class', 'M-Class', 'C-Class', 'Tiburon',\n",
       "       'Outlander', 'CR-V', 'XC90', 'Legacy', 'Sierra 1500', 'LaCrosse',\n",
       "       'Eclipse', 'RSX', 'ES 350', 'Sportage', 'Avalanche', 'Highlander',\n",
       "       'Corvette', 'Sonata Hybrid', 'Ranger', 'Navigator', 'Aveo',\n",
       "       'Fiesta', 'TrailBlazer', 'Cube', 'Pilot', 'fortwo', 'Galant',\n",
       "       'Century', 'Tucson', 'G6', 'Highlander Hybrid', 'Magnum',\n",
       "       'F-350 Super Duty', 'Elantra Touring', 'Silverado 3500HD',\n",
       "       'Uplander', 'CX-5', 'Commander', 'Compass', 'Rogue Select',\n",
       "       'c230wz', 'CTS Coupe', 'LS', 'Outlander Sport', 'Terrain',\n",
       "       'Mazda3', 'H3', '911', 'forester', 'Impala Limited', 'Durango',\n",
       "       'Land Cruiser', 'XC', 'SLK-Class', 'Insight', '6 Series',\n",
       "       'CLS-Class', 'f150', 'S-Type', 'Panamera', 'Frontier', 'X3',\n",
       "       'Enclave', 'Range Rover Sport', 'Sonic', 'Crown Victoria', 'Rio',\n",
       "       'Dart', 'E-Series Wagon', 'Mazda6', 'Dakota', 'pacifica', 'Matrix',\n",
       "       'Sebring', 'G5', '500', 'Freestar', 'GS 350', 'M45', 'G35',\n",
       "       'Cobalt', 'Forenza', 'Transit Connect', 'VUE', 'Torrent', 'ION',\n",
       "       'Neon', 'DeVille', '370Z', 'S-10', 'cx-7', 'LR4', 'A4', 'grand',\n",
       "       'Econoline Cargo', '1500', 'Impreza', 'Cadenza',\n",
       "       'F-450 Super Duty', 'Camry Solara', 'Touareg', 'A7', 'LS 430',\n",
       "       'Fit', 'DTS', 'Kizashi', 'Prizm', 'Santa Fe', 'Cavalier',\n",
       "       'LeSabre', 'FX', 'Cutlass Ciera', 'tC', 'Jetta SportWagen',\n",
       "       'S-Class', 'Element', 'Expedition EL', 'Elantra Coupe',\n",
       "       'GLK-Class', 'FX35', 'Yaris', 'X6', 'Sequoia', 'Astro', 'LX 570',\n",
       "       'Acadia', 'Cooper Paceman', '4 Series', 'FJ Cruiser', 'RL', 'Volt',\n",
       "       'Grand Prix', '2500', 'Sierra 2500HD', 'IS 350', 'Verano', 'santa',\n",
       "       'CX-9', 'Tundra', 'Yukon XL', 'accord', 'Tiguan',\n",
       "       'Ram Pickup 2500', 'Spectra', 'Lumina', 'xD', 'Astra',\n",
       "       'Silverado 1500 Classic', 'Mountaineer', 'Quest', 'Tribute',\n",
       "       'Captiva Sport', 'Sonoma', 'Sable', 'XJ', 'Leaf',\n",
       "       'Continental GTC', 'Titan', 'Forester', 'Sierra 3500HD', 'Xterra',\n",
       "       'Range Rover', 'Venza', 'New Beetle', 'CX-7', 'Escort', 'Express',\n",
       "       'CT 200h', 'sienna', 'Escalade ESV', 'QX80', 'GTI', 'QX',\n",
       "       'Crosstour', 'Cooper Clubman', 'Mazda2', 'ES 330', 'Lancer',\n",
       "       'Genesis', 'Grand Vitara', 'Outlook', 'NV Cargo', 'Caravan',\n",
       "       'XK-Series', 'Protege', 'JX', 'Aura', 'Vibe', 'F-TYPE', 'Grand Am',\n",
       "       'CL', '300M', 'C-Max Hybrid', 'Mirage', 'Santa Fe Sport', 'QX56',\n",
       "       'Sedona', 'S40', 'Juke', 'ES 300h', 'durango', 'xB',\n",
       "       'Eclipse Spyder', 'Milan', 'M35', 'C-Max Energi', 'Mariner', 'Z4',\n",
       "       'Malibu Classic', 'Cayenne', 'GS 300', 'Sprinter', 'Intrepid',\n",
       "       'town', 'LS 460', 'ILX', 'L-Series', 'QX60', 'S-Series', 'S4',\n",
       "       'I30', 'Altima Hybrid', 'S80', '6', 'Escape Hybrid', 'Monterey',\n",
       "       'Genesis Coupe', 'Caprice', 'Pacifica', 'Stratus', 'V70', 'Tercel',\n",
       "       'FR-S', 'Prius v', 'Continental GT', 'STS', 'Millenia', 'Z3',\n",
       "       'Accord Crosstour', 'Rainier', 'CLK-Class', 'Elantra GT',\n",
       "       'Endeavor', 'Monte Carlo', 'Cougar', 'Karma', 'Rabbit', 'CC',\n",
       "       'ATS', 'G-Class', 'RX 450h', 'Ram Pickup 3500', 'Boxster', 'Azera',\n",
       "       'G37', 'C70', 'XV Crosstrek', '3500', '350z', 'TT', 'venture',\n",
       "       'Zephyr', '3 Series Gran Turismo', 'XL-7', 'XC60', 'SX4',\n",
       "       'Ridgeline', '9-7X', 'Bravada', 'g5', 'XL7', 'MPV', '9-5', 'Jimmy',\n",
       "       'RX 400h', 'Escalade EXT', 'Versa Note', 'EX35', 'A8', 'quest',\n",
       "       'A5', 'S7', 'B9 Tribeca', 'Crossfire', 'Bonneville',\n",
       "       'Grand Marquis', 'Shelby GT500', 'impala', 'Canyon',\n",
       "       'Explorer Sport', 'allroad quattro', 'Aviator',\n",
       "       '4 Series Gran Coupe', 'Taurus X', 'CL-Class', 'RDX',\n",
       "       'Continental', 'Q5', 'Alero', 'Cayman', 'pilot', 'V40',\n",
       "       'G37 Coupe', 'Aurora', 'expeditn', 'Beetle Convertible', 'X1',\n",
       "       'M6', 'galant', 'Escalade Hybrid', 'CLA-Class', 'Solstice',\n",
       "       'IS 300', 'Eos', 'TrailBlazer EXT', 'Lancer Sportback', 'tribute',\n",
       "       'XK', 'LX 470', 'Malibu Maxx', 'Routan', 'ES 300', 'gx',\n",
       "       'Entourage', 'Lancer Evolution', 'X6 M', 'Blazer', 'Ascender',\n",
       "       '750i', 'Montero', 'Sierra 1500 Classic', 'CV Tradesman', '350Z',\n",
       "       'S5', 'Rondo', 'A3', 'EX', 'XTS', 'Quattroporte', 'Prius c',\n",
       "       'Tracker', 'GranTurismo', 'M5', 'legacy', 'MKT',\n",
       "       'Corvette Stingray', 'LHS', 'Veracruz', 'Impreza WRX', 'Equus',\n",
       "       'M37', 'Trooper', 'Sunfire', 'ELR', 'WRX', 'C/V Cargo Van', 'XC70',\n",
       "       'iQ', '960', 'ActiveHybrid X6', 'Tribeca', 'Montero Sport',\n",
       "       'Excursion', '6 Series Gran Coupe', 'Econoline Wagon', 'SC 430',\n",
       "       'GX 470', 'Fusion Energi', 'rl', '2 Series', 'QX4', 'J30',\n",
       "       'Freelander', 'Silverado 3500', 'Encore', 'GT-R', 'Amanti',\n",
       "       'Seville', '3', 'IS 250 C', 'Mustang SVT Cobra',\n",
       "       'Silverado 2500HD Classic', 'Borrego', 'cobalt', '300ZX',\n",
       "       'Integra', 'explorer', 'GS 450h', 'ECHO', 'S90', 'Sephia',\n",
       "       'Classic', 'Concorde', 'GS 460', 'Q60 Coupe', 'Avalon Hybrid',\n",
       "       'Sky', 'lx', 'F-150 Heritage', 'allroad', 'Promaster Cargo Van',\n",
       "       'patriot', 'hhr', 'mpv', 'Malibu Hybrid', 'Sprinter Cargo',\n",
       "       'ram3500', 'police', 'corvette', 'Model S', 'Firebird', 'SC 400',\n",
       "       'HS 250h', 'wrangler', 'XG350', 'Cabrio', 'Mazdaspeed 3',\n",
       "       'Focus ST', 'matrix', 'lr3', 'GS 400', 'gr', 'Protege5', 'G8',\n",
       "       'L300', 'RS 7', 'Aerio', 'S70', 'GS 430', 'Intrigue', 'X4',\n",
       "       'Thunderbird', 'Diamante', 'LR2', 'H2 SUT', 'SSR',\n",
       "       'Discovery Series II', 'Envoy XUV', 'Montana', 'i8', '626',\n",
       "       'tundra', 'CTS-V Coupe', 'e350', 'routan', 'V60', 'SC 300',\n",
       "       'x-trail', 'XG300', 'QX70', 'Celica', 'Cooper Coupe', 'srx',\n",
       "       'Silverado 1500HD', 'BRZ', 'Prowler', 'ZDX', 'Cirrus', 'camaro',\n",
       "       'Mazdaspeed Mazda3', 'ridgelin', '750li', 'Cutlass Supreme',\n",
       "       'Jetta Hybrid', 'CTS Wagon', 'Range Rover Evoque', 'IS F', 'C30',\n",
       "       'CTS-V', 'Macan', 'ranger', 'R8', 'RC 350', 'CR-Z', 'journey',\n",
       "       'Q70', 'Continental Flying Spur', 'Golf GTI', 'Spyder', '320i',\n",
       "       'B-Series Truck', 'V50', 'Relay', 'e150', 'excurs',\n",
       "       'G37 Convertible', 'e', 'Montego', 'RLX', 'FX45', 'Cayman S',\n",
       "       'ActiveHybrid 7', 'expedition', 'C/K 3500 Series', 'Montana SV6',\n",
       "       'Legend', 'caravan', 'Eldorado', 'M6 Gran Coupe', 'Mark VIII',\n",
       "       'VUE Hybrid', 'Voyager', 'Yukon Hybrid', 'Q45', 'envoy',\n",
       "       'Mariner Hybrid', 'mkt', 'Park Avenue', 'century', 'Passport',\n",
       "       'RS 6', 'Prius Plug-in', 'endeavor', 'el', 'sr', 'Golf R',\n",
       "       'MR2 Spyder', 'G20', 'Navigator L', 'taurus', 'Astro Cargo',\n",
       "       'Transit Van', '940', 'compass', 'R32', 'Discovery',\n",
       "       'Murano CrossCabriolet', 'S2000', 'range', 'Q60 Convertible',\n",
       "       'GLI', 'LS 400', 'mazda3', 'K900', 'Mark LT', 'MKC', 'QX50',\n",
       "       'passat', 'Silverado 2500', 'Villager', 'Ghost', 'Tahoe Hybrid',\n",
       "       'a4', 'Baja', 'c240w', 'Viper', 'mazda5', 'F430', 'M4', 'NV',\n",
       "       'Ghibli', 'g3500', 'GTO', 'crown', 'avalon', 'odyssey', 'Contour',\n",
       "       '500-Class', 'Pickup', 'regal', 'Verona', 'Cabriolet', 'LR3',\n",
       "       'Mazdaspeed3', 'Silhouette', 'Marauder', 'escape', 'yaris',\n",
       "       'magnum', 'lancer', 'Terraza', 'Sierra 2500HD Classic',\n",
       "       'California', 'discovery', 'Truck', 'Jetta GLI', 'alero', 'Aztek',\n",
       "       'windstar', 'Vitara', 'Touareg 2', 'yukon', 'Sierra 3500',\n",
       "       'sebring', 'rx8', 'Axiom', 'previa', 'C/K 1500 Series', 'Gallardo',\n",
       "       'sprinter', 'Catera', 'stratus', 'ActiveHybrid 5', 'TTS', 'sts',\n",
       "       'MKZ Hybrid', 'g55', 'C/V Tradesman', 'X5 M', 'Coupe', 'STS-V',\n",
       "       'Prelude', 'XLR', 'NV200', 'G3', 'IS 350 C', 'Tahoe Limited/Z71',\n",
       "       'twn/cntry', 'pt', 'concorde', 'Savana', 'Black Diamond Avalanche',\n",
       "       'mountaineer', 'Tracer', 'GLA-Class', 'ram', '850', 'swift', 'H3T',\n",
       "       '42c', 'Rodeo Sport', '500e', 'mdx', 'E-250', 'S8', 'Raider',\n",
       "       'equinox', 'sonoma', '300-Class', 'RS 4', 'elantra',\n",
       "       'Continental GT Speed', 'Milan Hybrid', 'Tribute Hybrid',\n",
       "       'Cutlass', 'pathfinder', 'Eighty-Eight', 'E-150', 'Blackwood',\n",
       "       'Accord Hybrid', 'i-MiEV', 'villager', 'Mazdaspeed Mazda6',\n",
       "       'i-Series', 'Transit Wagon', 'Sierra 1500 Hybrid', 'RC F',\n",
       "       'rangerover', 'uplander', 'Safari Cargo', 'comm',\n",
       "       'B-Series Pickup', 'Phaeton', 'Esteem', 'Mazdaspeed Protege',\n",
       "       'V8 Vantage', 's10', 'S6', 'SQ5', 'LS 600h L', 'Q3', 'astro',\n",
       "       'Cooper Roadster', 'cl55', 'e250', 'f250', 'charger', '3000GT',\n",
       "       'RS 5', 'Safari', 'S-10 Blazer', 'voyager', 'g1500', 'alp',\n",
       "       'Eighty-Eight Royale', 'rainier', 's55', '200SX', '750lxi',\n",
       "       'EuroVan', 'escalade', 'RX-8', 'FX50', 'Ram Van',\n",
       "       'GranTurismo Convertible', 'DB9', 'savana', 'Nubira',\n",
       "       'Windstar Cargo', 'crossfire', '420-Class', 'Roadmaster', 'ciera',\n",
       "       'b1500', 'quattroporte', 'sportage', 'F-150 SVT Lightning',\n",
       "       'cavalier', 'jetta', 'B-Class Electric Drive',\n",
       "       'Mazdaspeed MX-5 Miata', 'Ram Cargo', 'dakota', 'twn&country',\n",
       "       'civic', 'safari', 'Aura Hybrid', 'Silverado 1500 Hybrid',\n",
       "       'montana', 'M56', 'camry', 'sl55', 'neon', 'carrera', 'f350',\n",
       "       'expedit', 'Z4 M', 'NV Passenger', 'freestyle', 'Yukon Denali',\n",
       "       'Sierra 1500HD', 'Silverado 3500 Classic', 'beetle', '8 Series',\n",
       "       '9-2X', 'sx4', 'Regency', 'Sierra 2500', 'g2500', 'pickup',\n",
       "       'corolla', 'TT RS', 'pathfind', 'Tempo', 'Civic del Sol', 'siera',\n",
       "       'mazda6', 'rr', 'thunderbird', 'intrigue', 'b200', '400-Class',\n",
       "       'ML55 AMG', 'golf', 'Corsica', 'rio', 'Breeze',\n",
       "       'Continental GTC Speed', 'tahoe', 'pursuit', 'optra', 'borrego',\n",
       "       'Fleetwood', 'dts', 'colorado', 'LX 450', 'subrbn', 'Riviera',\n",
       "       'E-350', 'capt', 'cherokee', 'eurovan', 'SLS AMG', '190-Class',\n",
       "       'cougar', '328i', '300e', 'SS', 'c230', 'rrs', 'Mystique',\n",
       "       'optima', 'wave', 'lumina', 'Flying Spur', '323i', 'uplandr',\n",
       "       'intrepid', 'Paseo', 'Le Baron', 'C/K 2500 Series', 'T100',\n",
       "       '420sel', 'Amigo', 'Spark EV', 'aveo', 'Aspire', 'cruze', '7',\n",
       "       'H1', 'b2300', 'Spirit', 'suburban', 'focus', 'breeze', 'Rapide',\n",
       "       'Equator', 'silhouette', 'corsica', 'vibe', 'sonic', 'mountnr',\n",
       "       'lacrosse', 'B-Series', 'Continental Flying Spur Speed',\n",
       "       'interstate', 'c240s', 'CTS-V Wagon', '458 Italia', 'versa',\n",
       "       'Metro', 'Continental Supersports', 'avenger', 'a6', 'F-250',\n",
       "       'tucson', 'GranSport', 'g500'], dtype=object)"
      ]
     },
     "execution_count": 23,
     "metadata": {},
     "output_type": "execute_result"
    }
   ],
   "source": [
    "data_train['model'].unique()"
   ]
  },
  {
   "cell_type": "code",
   "execution_count": 24,
   "metadata": {},
   "outputs": [
    {
     "data": {
      "text/plain": [
       "959"
      ]
     },
     "execution_count": 24,
     "metadata": {},
     "output_type": "execute_result"
    }
   ],
   "source": [
    "data_train['model'].nunique()"
   ]
  },
  {
   "cell_type": "code",
   "execution_count": 25,
   "metadata": {
    "execution": {
     "iopub.execute_input": "2023-06-02T14:41:09.894408Z",
     "iopub.status.busy": "2023-06-02T14:41:09.894081Z",
     "iopub.status.idle": "2023-06-02T14:41:09.979634Z",
     "shell.execute_reply": "2023-06-02T14:41:09.978533Z",
     "shell.execute_reply.started": "2023-06-02T14:41:09.894382Z"
    }
   },
   "outputs": [
    {
     "data": {
      "text/plain": [
       "Altima           15454\n",
       "F-150            11408\n",
       "Fusion           10244\n",
       "Camry             9996\n",
       "Escape            9419\n",
       "                 ...  \n",
       "Civic del Sol        1\n",
       "Tempo                1\n",
       "Regency              1\n",
       "8 Series             1\n",
       "g500                 1\n",
       "Name: model, Length: 959, dtype: int64"
      ]
     },
     "execution_count": 25,
     "metadata": {},
     "output_type": "execute_result"
    }
   ],
   "source": [
    "data_train['model'].value_counts()"
   ]
  },
  {
   "cell_type": "markdown",
   "metadata": {},
   "source": [
    "В столбце `make` - производитель, обнаружено 8043 пропусков, а в столбце `model` - модель, обнаружено 8123 пропусков. Так как в VIN-номере каждого автомобиля зашифрована его марка, модель идругие характеристики, то заполнять пропуски будем следующим образом - будем сравнивать первые знаки VIN-номера автомобилей с пропусками в столбцах `make` и `model`, с VIN-номерами автомобилей, где марка и модель в соответствующих столбцах указаны, и соответствующими значениями заполним пропуски в этих столбцах."
   ]
  },
  {
   "cell_type": "code",
   "execution_count": 26,
   "metadata": {
    "execution": {
     "iopub.execute_input": "2023-06-02T14:41:09.982215Z",
     "iopub.status.busy": "2023-06-02T14:41:09.981194Z",
     "iopub.status.idle": "2023-06-02T14:41:09.991914Z",
     "shell.execute_reply": "2023-06-02T14:41:09.990605Z",
     "shell.execute_reply.started": "2023-06-02T14:41:09.982179Z"
    }
   },
   "outputs": [],
   "source": [
    "def fill_missing_make_model(data):\n",
    "    total_rows = len(data)\n",
    "    filled_rows = 0\n",
    "    \n",
    "    with tqdm(total=total_rows) as pbar:\n",
    "        for index, row in data.iterrows():\n",
    "            vin = row['vin'][:4]\n",
    "            make = row['make']\n",
    "            model = row['model']\n",
    "\n",
    "            if pd.isnull(make) or pd.isnull(model):\n",
    "                mask = (data['vin'].str[:4] == vin) & (~pd.isnull(data['make'])) & (~pd.isnull(data['model']))\n",
    "                matching_rows = data.loc[mask]\n",
    "\n",
    "                if len(matching_rows) > 0:\n",
    "                    data.loc[index, 'make'] = matching_rows.iloc[0]['make']\n",
    "                    data.loc[index, 'model'] = matching_rows.iloc[0]['model']\n",
    "\n",
    "            filled_rows += 1\n",
    "            pbar.update(1)\n",
    "    \n",
    "    return data"
   ]
  },
  {
   "cell_type": "code",
   "execution_count": 27,
   "metadata": {
    "execution": {
     "iopub.execute_input": "2023-06-02T14:41:09.994195Z",
     "iopub.status.busy": "2023-06-02T14:41:09.993585Z",
     "iopub.status.idle": "2023-06-02T15:36:18.688813Z",
     "shell.execute_reply": "2023-06-02T15:36:18.686611Z",
     "shell.execute_reply.started": "2023-06-02T14:41:09.994159Z"
    }
   },
   "outputs": [
    {
     "name": "stderr",
     "output_type": "stream",
     "text": [
      "100%|█████████████████████████████████████████████████████████████████████████| 440236/440236 [26:11<00:00, 280.14it/s]\n"
     ]
    }
   ],
   "source": [
    "data_train_filled = fill_missing_make_model(data_train)"
   ]
  },
  {
   "cell_type": "code",
   "execution_count": 28,
   "metadata": {
    "execution": {
     "iopub.execute_input": "2023-06-02T15:36:18.690510Z",
     "iopub.status.busy": "2023-06-02T15:36:18.690175Z",
     "iopub.status.idle": "2023-06-02T15:36:20.064721Z",
     "shell.execute_reply": "2023-06-02T15:36:20.063637Z",
     "shell.execute_reply.started": "2023-06-02T15:36:18.690472Z"
    }
   },
   "outputs": [
    {
     "data": {
      "text/plain": [
       "year                0\n",
       "make               91\n",
       "model              91\n",
       "trim             8337\n",
       "body            10393\n",
       "transmission    51461\n",
       "vin                 0\n",
       "state               0\n",
       "condition        9405\n",
       "odometer           69\n",
       "color             586\n",
       "interior          586\n",
       "seller              0\n",
       "sellingprice        0\n",
       "saledate            0\n",
       "sale_year           0\n",
       "sale_month          0\n",
       "dtype: int64"
      ]
     },
     "execution_count": 28,
     "metadata": {},
     "output_type": "execute_result"
    }
   ],
   "source": [
    "data_train.isnull().sum()"
   ]
  },
  {
   "cell_type": "code",
   "execution_count": 29,
   "metadata": {
    "execution": {
     "iopub.execute_input": "2023-06-02T15:36:20.066226Z",
     "iopub.status.busy": "2023-06-02T15:36:20.065904Z",
     "iopub.status.idle": "2023-06-02T15:36:20.150299Z",
     "shell.execute_reply": "2023-06-02T15:36:20.149326Z",
     "shell.execute_reply.started": "2023-06-02T15:36:20.066199Z"
    }
   },
   "outputs": [],
   "source": [
    "data_train['make'] = data_train['make'].fillna('unknown')"
   ]
  },
  {
   "cell_type": "code",
   "execution_count": 30,
   "metadata": {
    "execution": {
     "iopub.execute_input": "2023-06-02T15:36:20.151776Z",
     "iopub.status.busy": "2023-06-02T15:36:20.151479Z",
     "iopub.status.idle": "2023-06-02T15:36:20.249007Z",
     "shell.execute_reply": "2023-06-02T15:36:20.248146Z",
     "shell.execute_reply.started": "2023-06-02T15:36:20.151750Z"
    }
   },
   "outputs": [],
   "source": [
    "data_train['model'] = data_train['model'].fillna('unknown')"
   ]
  },
  {
   "cell_type": "markdown",
   "metadata": {},
   "source": [
    "**В столбце `make` - производитель, обнаружено 8043 пропусков, а также неявные дубликаты. Привели название марок к единому виду. Пропуски заполнили по первым знакам столбца `vin` в строках с пропусками, взятыми значениями из заполненных строк. Оставшиеся пропуски заполнили заглушкой \"unknown\".**\n",
    "\n",
    "**В столбце `model` - модель, обнаружено 8123 пропусков. Пропуски заполнили по первым знакам столбца `vin` в строках с пропусками, взятыми значениями из заполненных строк. Оставшиеся пропуски заполнили заглушкой \"unknown\".**\n",
    "\n",
    "**В остальных столбцах заполнить пропуски этим методом не получится. Заполнять будем другими методами.**"
   ]
  },
  {
   "cell_type": "markdown",
   "metadata": {},
   "source": [
    "**Изучим столбец `body` - тип кузова**."
   ]
  },
  {
   "cell_type": "code",
   "execution_count": 31,
   "metadata": {
    "execution": {
     "iopub.execute_input": "2023-06-02T15:36:20.251643Z",
     "iopub.status.busy": "2023-06-02T15:36:20.250600Z",
     "iopub.status.idle": "2023-06-02T15:36:20.306261Z",
     "shell.execute_reply": "2023-06-02T15:36:20.304864Z",
     "shell.execute_reply.started": "2023-06-02T15:36:20.251600Z"
    }
   },
   "outputs": [
    {
     "data": {
      "text/plain": [
       "array(['suv', 'Sedan', 'sedan', nan, 'SUV', 'wagon', 'Minivan',\n",
       "       'Extended Cab', 'Regular Cab', 'Coupe', 'SuperCrew', 'Wagon',\n",
       "       'convertible', 'Crew Cab', 'SuperCab', 'Convertible', 'Hatchback',\n",
       "       'minivan', 'hatchback', 'G Coupe', 'G Convertible', 'coupe',\n",
       "       'Access Cab', 'G Sedan', 'regular cab', 'e-series van',\n",
       "       'supercrew', 'Quad Cab', 'tsx sport wagon', 'Van', 'g sedan',\n",
       "       'E-Series Van', 'CTS Coupe', 'Koup', 'King Cab', 'extended cab',\n",
       "       'double cab', 'Elantra Coupe', 'koup', 'access cab', 'Double Cab',\n",
       "       'crew cab', 'quad cab', 'g coupe', 'CrewMax Cab', 'supercab',\n",
       "       'g convertible', 'Genesis Coupe', 'van', 'G37 Coupe', 'club cab',\n",
       "       'Beetle Convertible', 'Mega Cab', 'regular-cab', 'Xtracab',\n",
       "       'cts coupe', 'genesis coupe', 'Club Cab', 'q60 coupe', 'mega cab',\n",
       "       'crewmax cab', 'Promaster Cargo Van', 'king cab', 'CTS-V Coupe',\n",
       "       'TSX Sport Wagon', 'CTS Wagon', 'Cab Plus 4', 'G37 Convertible',\n",
       "       'Transit Van', 'Q60 Convertible', 'elantra coupe',\n",
       "       'beetle convertible', 'Q60 Coupe', 'promaster cargo van',\n",
       "       'Cab Plus', 'transit van', 'g37 convertible', 'g37 coupe',\n",
       "       'Ram Van', 'granturismo convertible', 'GranTurismo Convertible',\n",
       "       'cab plus 4', 'xtracab', 'cts-v coupe', 'q60 convertible',\n",
       "       'CTS-V Wagon'], dtype=object)"
      ]
     },
     "execution_count": 31,
     "metadata": {},
     "output_type": "execute_result"
    }
   ],
   "source": [
    "data_train['body'].unique()"
   ]
  },
  {
   "cell_type": "code",
   "execution_count": 32,
   "metadata": {
    "execution": {
     "iopub.execute_input": "2023-06-02T15:36:20.308337Z",
     "iopub.status.busy": "2023-06-02T15:36:20.307836Z",
     "iopub.status.idle": "2023-06-02T15:36:32.359802Z",
     "shell.execute_reply": "2023-06-02T15:36:32.358673Z",
     "shell.execute_reply.started": "2023-06-02T15:36:20.308302Z"
    }
   },
   "outputs": [],
   "source": [
    "data_train = data_train.replace({'suv': 'SUV',\n",
    "                                 'sedan': 'Sedan',\n",
    "                                 'g sedan': 'G Sedan',\n",
    "                                 'wagon': 'Wagon',\n",
    "                                 'minivan': 'Minivan',\n",
    "                                 'hatchback': 'Hatchback',\n",
    "                                 'coupe': 'Coupe',\n",
    "                                 'regular cab': 'Regular Cab',\n",
    "                                 'regular-cab': 'Regular Cab',\n",
    "                                 'e-series van': 'E-Series Van',\n",
    "                                 'supercrew': 'SuperCrew',\n",
    "                                 'supercab': 'SuperCab',\n",
    "                                 'tsx sport wagon': 'TSX Sport Wagon',\n",
    "                                 'extended cab': 'Extended Cab',\n",
    "                                 'double cab': 'Double Cab',\n",
    "                                 'koup': 'Koup',\n",
    "                                 'access cab': 'Access Cab',\n",
    "                                 'crew cab': 'Crew Cab',\n",
    "                                 'crewmax cab': 'CrewMax Cab',\n",
    "                                 'quad cab': 'Quad Cab',\n",
    "                                 'g coupe': 'G Coupe',\n",
    "                                 'g convertible': 'G Convertible',\n",
    "                                 'van': 'Van',\n",
    "                                 'promaster cargo van': 'Promaster Cargo Van',\n",
    "                                 'transit van': 'Transit Van',\n",
    "                                 'club cab': 'Club Cab',\n",
    "                                 'cts coupe': 'CTS Coupe',\n",
    "                                 'cts-v coupe': 'CTS-V Coupe',\n",
    "                                 'genesis coupe': 'Genesis Coupe',\n",
    "                                 'q60 coupe': 'Q60 Coupe',\n",
    "                                 'q60 convertible': 'Q60 Convertible',\n",
    "                                 'mega cab': 'Mega Cab',\n",
    "                                 'king cab': 'King Cab',\n",
    "                                 'elantra coupe': 'Elantra Coupe',\n",
    "                                 'beetle convertible': 'Beetle Convertible',\n",
    "                                 'g37 coupe': 'G37 Coupe',\n",
    "                                 'g37 convertible': 'G37 Convertible',\n",
    "                                 'granturismo convertible': 'GranTurismo Convertible',\n",
    "                                 'cab plus 4': 'Cab Plus 4',\n",
    "                                 'xtracab': 'Xtracab'\n",
    "})"
   ]
  },
  {
   "cell_type": "code",
   "execution_count": 33,
   "metadata": {
    "execution": {
     "iopub.execute_input": "2023-06-02T15:36:32.361478Z",
     "iopub.status.busy": "2023-06-02T15:36:32.361126Z",
     "iopub.status.idle": "2023-06-02T15:36:32.466037Z",
     "shell.execute_reply": "2023-06-02T15:36:32.464780Z",
     "shell.execute_reply.started": "2023-06-02T15:36:32.361428Z"
    }
   },
   "outputs": [],
   "source": [
    "data_train['body'] = data_train['body'].fillna('unknown')"
   ]
  },
  {
   "cell_type": "markdown",
   "metadata": {},
   "source": [
    "**В столбце `body` - тип кузова, обнаружено 10393 пропусков, а также неявные дубликаты. Привели название типов кузовов к единому виду. Пропуски заполнили заглушкой \"unknown\".**"
   ]
  },
  {
   "cell_type": "markdown",
   "metadata": {},
   "source": [
    "**Изучим столбец `trim` - модификация**."
   ]
  },
  {
   "cell_type": "code",
   "execution_count": 34,
   "metadata": {
    "execution": {
     "iopub.execute_input": "2023-06-02T15:36:32.468054Z",
     "iopub.status.busy": "2023-06-02T15:36:32.467622Z",
     "iopub.status.idle": "2023-06-02T15:36:32.524984Z",
     "shell.execute_reply": "2023-06-02T15:36:32.523905Z",
     "shell.execute_reply.started": "2023-06-02T15:36:32.468015Z"
    }
   },
   "outputs": [
    {
     "data": {
      "text/plain": [
       "array(['SEL', 'SE', '2.0 SL', ..., '2.5 X L.L.Bean Edition',\n",
       "       '3500 High Roof 140 WB', '4x4 v6 xlt sport'], dtype=object)"
      ]
     },
     "execution_count": 34,
     "metadata": {},
     "output_type": "execute_result"
    }
   ],
   "source": [
    "data_train['trim'].unique()"
   ]
  },
  {
   "cell_type": "code",
   "execution_count": 35,
   "metadata": {
    "execution": {
     "iopub.execute_input": "2023-06-02T15:36:32.526770Z",
     "iopub.status.busy": "2023-06-02T15:36:32.526411Z",
     "iopub.status.idle": "2023-06-02T15:36:32.625005Z",
     "shell.execute_reply": "2023-06-02T15:36:32.623809Z",
     "shell.execute_reply.started": "2023-06-02T15:36:32.526741Z"
    }
   },
   "outputs": [],
   "source": [
    "data_train['trim'] = data_train['trim'].fillna('unknown')"
   ]
  },
  {
   "cell_type": "markdown",
   "metadata": {},
   "source": [
    "**В столбце `trim` - модификация, обнаружено 8337 пропусков, а также неявные дубликаты. Пропуски заполнили заглушкой \"unknown\".**"
   ]
  },
  {
   "cell_type": "markdown",
   "metadata": {},
   "source": [
    "**Изучим столбец `transmission` - тип КПП**."
   ]
  },
  {
   "cell_type": "code",
   "execution_count": 36,
   "metadata": {
    "execution": {
     "iopub.execute_input": "2023-06-02T15:36:32.627521Z",
     "iopub.status.busy": "2023-06-02T15:36:32.626714Z",
     "iopub.status.idle": "2023-06-02T15:36:32.682132Z",
     "shell.execute_reply": "2023-06-02T15:36:32.680804Z",
     "shell.execute_reply.started": "2023-06-02T15:36:32.627478Z"
    }
   },
   "outputs": [
    {
     "data": {
      "text/plain": [
       "array(['automatic', nan, 'manual'], dtype=object)"
      ]
     },
     "execution_count": 36,
     "metadata": {},
     "output_type": "execute_result"
    }
   ],
   "source": [
    "data_train['transmission'].unique()"
   ]
  },
  {
   "cell_type": "code",
   "execution_count": 37,
   "metadata": {
    "execution": {
     "iopub.execute_input": "2023-06-02T15:36:32.685998Z",
     "iopub.status.busy": "2023-06-02T15:36:32.685634Z",
     "iopub.status.idle": "2023-06-02T15:36:32.764107Z",
     "shell.execute_reply": "2023-06-02T15:36:32.762765Z",
     "shell.execute_reply.started": "2023-06-02T15:36:32.685969Z"
    }
   },
   "outputs": [
    {
     "data": {
      "text/plain": [
       "automatic    375061\n",
       "manual        13714\n",
       "Name: transmission, dtype: int64"
      ]
     },
     "execution_count": 37,
     "metadata": {},
     "output_type": "execute_result"
    }
   ],
   "source": [
    "data_train['transmission'].value_counts()"
   ]
  },
  {
   "cell_type": "code",
   "execution_count": 38,
   "metadata": {
    "execution": {
     "iopub.execute_input": "2023-06-02T15:36:32.765753Z",
     "iopub.status.busy": "2023-06-02T15:36:32.765234Z",
     "iopub.status.idle": "2023-06-02T15:36:32.859141Z",
     "shell.execute_reply": "2023-06-02T15:36:32.858272Z",
     "shell.execute_reply.started": "2023-06-02T15:36:32.765723Z"
    }
   },
   "outputs": [],
   "source": [
    "data_train['transmission'] = data_train['transmission'].fillna('automatic')"
   ]
  },
  {
   "cell_type": "markdown",
   "metadata": {},
   "source": [
    "**В столбце `transmission` - тип КПП, обнаружено 51461 пропусков, а также неявные дубликаты. Так как абсолюьное большинство автомобилей имеют автоматическую коробку передач, то пропуски заполнили значением \"automatic\".**"
   ]
  },
  {
   "cell_type": "markdown",
   "metadata": {},
   "source": [
    "**Изучим столбец `condition` - состояние по шкале (1-5)**."
   ]
  },
  {
   "cell_type": "code",
   "execution_count": 39,
   "metadata": {
    "execution": {
     "iopub.execute_input": "2023-06-02T15:36:32.861379Z",
     "iopub.status.busy": "2023-06-02T15:36:32.860439Z",
     "iopub.status.idle": "2023-06-02T15:36:32.878027Z",
     "shell.execute_reply": "2023-06-02T15:36:32.876773Z",
     "shell.execute_reply.started": "2023-06-02T15:36:32.861337Z"
    }
   },
   "outputs": [
    {
     "data": {
      "text/plain": [
       "array([4.2, 3.5, 2.2, 2.8, 2. , 2.5, 3.4, 4.8, 1.9, 1. , 3.1, 2.7, 3.6,\n",
       "       2.9, 4.1, 2.6, 2.1, 3. , 4.9, 4.7, 4. , 3.3, 3.8, 3.7, 4.5, 4.6,\n",
       "       5. , 4.3, 2.4, 2.3, 3.9, nan, 3.2, 4.4, 1.4, 1.5, 1.7, 1.2, 1.3,\n",
       "       1.6, 1.8, 1.1])"
      ]
     },
     "execution_count": 39,
     "metadata": {},
     "output_type": "execute_result"
    }
   ],
   "source": [
    "data_train['condition'].unique()"
   ]
  },
  {
   "cell_type": "code",
   "execution_count": 40,
   "metadata": {
    "execution": {
     "iopub.execute_input": "2023-06-02T15:36:32.880047Z",
     "iopub.status.busy": "2023-06-02T15:36:32.879623Z",
     "iopub.status.idle": "2023-06-02T15:36:32.902420Z",
     "shell.execute_reply": "2023-06-02T15:36:32.901036Z",
     "shell.execute_reply.started": "2023-06-02T15:36:32.880017Z"
    }
   },
   "outputs": [
    {
     "data": {
      "text/plain": [
       "1.9    33207\n",
       "3.5    21016\n",
       "3.7    20399\n",
       "4.4    20027\n",
       "4.3    19712\n",
       "4.2    19345\n",
       "3.6    18209\n",
       "4.1    18108\n",
       "2.0    16431\n",
       "4.0    15797\n",
       "3.9    15623\n",
       "2.8    15012\n",
       "2.9    14823\n",
       "3.8    14785\n",
       "3.4    13654\n",
       "2.7    12837\n",
       "4.9    10305\n",
       "4.8    10040\n",
       "2.5     9900\n",
       "4.6     9897\n",
       "4.5     9660\n",
       "2.6     9403\n",
       "4.7     9058\n",
       "5.0     8862\n",
       "3.3     8459\n",
       "3.0     8451\n",
       "3.2     7861\n",
       "2.4     7378\n",
       "2.1     7260\n",
       "3.1     7258\n",
       "2.3     6436\n",
       "1.0     5855\n",
       "2.2     4742\n",
       "1.8      249\n",
       "1.7      198\n",
       "1.6      132\n",
       "1.5      123\n",
       "1.4      103\n",
       "1.2       74\n",
       "1.1       74\n",
       "1.3       68\n",
       "Name: condition, dtype: int64"
      ]
     },
     "execution_count": 40,
     "metadata": {},
     "output_type": "execute_result"
    }
   ],
   "source": [
    "data_train['condition'].value_counts()"
   ]
  },
  {
   "cell_type": "code",
   "execution_count": 41,
   "metadata": {
    "execution": {
     "iopub.execute_input": "2023-06-02T15:36:32.904342Z",
     "iopub.status.busy": "2023-06-02T15:36:32.903954Z",
     "iopub.status.idle": "2023-06-02T15:36:42.232573Z",
     "shell.execute_reply": "2023-06-02T15:36:42.231687Z",
     "shell.execute_reply.started": "2023-06-02T15:36:32.904308Z"
    }
   },
   "outputs": [],
   "source": [
    "mean_by_year_train_con = data_train.groupby(data_train['year'])['condition'].mean()\n",
    "\n",
    "data_train['condition'] = data_train.apply(lambda row: mean_by_year_train_con[row['year']] if pd.isnull(row['condition']) else row['condition'], axis=1)"
   ]
  },
  {
   "cell_type": "markdown",
   "metadata": {},
   "source": [
    "**В столбце `condition` - состояние по шкале (1-5), обнаружено 9405 пропусков. Использовал функцию, которая заполняет пропуски медианным значением в зависимости от года выпуска авто.**"
   ]
  },
  {
   "cell_type": "markdown",
   "metadata": {},
   "source": [
    "**Изучим столбец `odometer` - пробег в милях.**"
   ]
  },
  {
   "cell_type": "code",
   "execution_count": 42,
   "metadata": {
    "execution": {
     "iopub.execute_input": "2023-06-02T15:36:42.234838Z",
     "iopub.status.busy": "2023-06-02T15:36:42.233847Z",
     "iopub.status.idle": "2023-06-02T15:36:42.267093Z",
     "shell.execute_reply": "2023-06-02T15:36:42.265980Z",
     "shell.execute_reply.started": "2023-06-02T15:36:42.234804Z"
    }
   },
   "outputs": [
    {
     "data": {
      "text/plain": [
       "array([111041.,  31034.,  35619., ..., 188944.,  87635., 174269.])"
      ]
     },
     "execution_count": 42,
     "metadata": {},
     "output_type": "execute_result"
    }
   ],
   "source": [
    "data_train['odometer'].unique()"
   ]
  },
  {
   "cell_type": "code",
   "execution_count": 43,
   "metadata": {
    "execution": {
     "iopub.execute_input": "2023-06-02T15:36:42.269020Z",
     "iopub.status.busy": "2023-06-02T15:36:42.268611Z",
     "iopub.status.idle": "2023-06-02T15:36:42.317976Z",
     "shell.execute_reply": "2023-06-02T15:36:42.316818Z",
     "shell.execute_reply.started": "2023-06-02T15:36:42.268989Z"
    }
   },
   "outputs": [
    {
     "data": {
      "text/plain": [
       "1.0         1059\n",
       "999999.0      55\n",
       "10.0          23\n",
       "21587.0       17\n",
       "21310.0       17\n",
       "            ... \n",
       "125152.0       1\n",
       "73715.0        1\n",
       "71041.0        1\n",
       "197617.0       1\n",
       "174269.0       1\n",
       "Name: odometer, Length: 159364, dtype: int64"
      ]
     },
     "execution_count": 43,
     "metadata": {},
     "output_type": "execute_result"
    }
   ],
   "source": [
    "data_train['odometer'].value_counts()"
   ]
  },
  {
   "cell_type": "code",
   "execution_count": 44,
   "metadata": {
    "execution": {
     "iopub.execute_input": "2023-06-02T15:36:42.332718Z",
     "iopub.status.busy": "2023-06-02T15:36:42.332298Z",
     "iopub.status.idle": "2023-06-02T15:36:51.816359Z",
     "shell.execute_reply": "2023-06-02T15:36:51.815295Z",
     "shell.execute_reply.started": "2023-06-02T15:36:42.332688Z"
    }
   },
   "outputs": [],
   "source": [
    "mean_by_year_train_odo = data_train.groupby(data_train['year'])['odometer'].mean()\n",
    "\n",
    "data_train['odometer'] = data_train.apply(lambda row: mean_by_year_train_odo[row['year']] if pd.isnull(row['odometer']) else row['odometer'], axis=1)"
   ]
  },
  {
   "cell_type": "markdown",
   "metadata": {},
   "source": [
    "**В столбце `odometer` - пробег в милях, обнаружено 69 пропусков. Использовал функцию, которая заполняет пропуски медианным значением в зависимости от года выпуска авто.**"
   ]
  },
  {
   "cell_type": "markdown",
   "metadata": {},
   "source": [
    "**Изучим столбец `color` - цвет кузова.**"
   ]
  },
  {
   "cell_type": "code",
   "execution_count": 45,
   "metadata": {
    "execution": {
     "iopub.execute_input": "2023-06-02T15:36:51.818793Z",
     "iopub.status.busy": "2023-06-02T15:36:51.818075Z",
     "iopub.status.idle": "2023-06-02T15:36:51.873786Z",
     "shell.execute_reply": "2023-06-02T15:36:51.872615Z",
     "shell.execute_reply.started": "2023-06-02T15:36:51.818751Z"
    }
   },
   "outputs": [
    {
     "data": {
      "text/plain": [
       "array(['black', 'gold', 'silver', 'blue', 'white', 'gray', '—', 'red',\n",
       "       'brown', 'green', 'beige', 'orange', nan, 'off-white', 'burgundy',\n",
       "       'yellow', 'charcoal', 'purple', 'turquoise', 'lime', 'pink'],\n",
       "      dtype=object)"
      ]
     },
     "execution_count": 45,
     "metadata": {},
     "output_type": "execute_result"
    }
   ],
   "source": [
    "data_train['color'].unique()"
   ]
  },
  {
   "cell_type": "code",
   "execution_count": 46,
   "metadata": {
    "execution": {
     "iopub.execute_input": "2023-06-02T15:36:51.876215Z",
     "iopub.status.busy": "2023-06-02T15:36:51.875146Z",
     "iopub.status.idle": "2023-06-02T15:36:51.959278Z",
     "shell.execute_reply": "2023-06-02T15:36:51.957998Z",
     "shell.execute_reply.started": "2023-06-02T15:36:51.876184Z"
    }
   },
   "outputs": [
    {
     "data": {
      "text/plain": [
       "black        87115\n",
       "white        84149\n",
       "silver       65667\n",
       "gray         65284\n",
       "blue         40237\n",
       "red          34514\n",
       "—            19520\n",
       "green         8975\n",
       "gold          8934\n",
       "beige         7257\n",
       "burgundy      7059\n",
       "brown         5320\n",
       "orange        1629\n",
       "purple        1250\n",
       "off-white     1143\n",
       "yellow         979\n",
       "charcoal       389\n",
       "turquoise      183\n",
       "pink            32\n",
       "lime            14\n",
       "Name: color, dtype: int64"
      ]
     },
     "execution_count": 46,
     "metadata": {},
     "output_type": "execute_result"
    }
   ],
   "source": [
    "data_train['color'].value_counts()"
   ]
  },
  {
   "cell_type": "code",
   "execution_count": 47,
   "metadata": {
    "execution": {
     "iopub.execute_input": "2023-06-02T15:36:51.961298Z",
     "iopub.status.busy": "2023-06-02T15:36:51.960854Z",
     "iopub.status.idle": "2023-06-02T15:36:52.085563Z",
     "shell.execute_reply": "2023-06-02T15:36:52.084510Z",
     "shell.execute_reply.started": "2023-06-02T15:36:51.961259Z"
    }
   },
   "outputs": [],
   "source": [
    "data_train['color'] = data_train['color'].fillna('—')"
   ]
  },
  {
   "cell_type": "markdown",
   "metadata": {},
   "source": [
    "**В столбце `color` - цвет кузова, обнаружено 586 пропусков. Заполнил пропуски значением \"—\".**"
   ]
  },
  {
   "cell_type": "markdown",
   "metadata": {},
   "source": [
    "**Изучим столбец `interior` - цвет интерьера.**"
   ]
  },
  {
   "cell_type": "code",
   "execution_count": 48,
   "metadata": {
    "execution": {
     "iopub.execute_input": "2023-06-02T15:36:52.090576Z",
     "iopub.status.busy": "2023-06-02T15:36:52.090220Z",
     "iopub.status.idle": "2023-06-02T15:36:52.143103Z",
     "shell.execute_reply": "2023-06-02T15:36:52.142018Z",
     "shell.execute_reply.started": "2023-06-02T15:36:52.090547Z"
    }
   },
   "outputs": [
    {
     "data": {
      "text/plain": [
       "array(['black', 'beige', 'gray', 'tan', 'brown', '—', 'off-white', nan,\n",
       "       'blue', 'white', 'silver', 'red', 'green', 'gold', 'purple',\n",
       "       'orange', 'burgundy', 'yellow'], dtype=object)"
      ]
     },
     "execution_count": 48,
     "metadata": {},
     "output_type": "execute_result"
    }
   ],
   "source": [
    "data_train['interior'].unique()"
   ]
  },
  {
   "cell_type": "code",
   "execution_count": 49,
   "metadata": {
    "execution": {
     "iopub.execute_input": "2023-06-02T15:36:52.145107Z",
     "iopub.status.busy": "2023-06-02T15:36:52.144679Z",
     "iopub.status.idle": "2023-06-02T15:36:52.228834Z",
     "shell.execute_reply": "2023-06-02T15:36:52.227594Z",
     "shell.execute_reply.started": "2023-06-02T15:36:52.145072Z"
    }
   },
   "outputs": [
    {
     "data": {
      "text/plain": [
       "black        192442\n",
       "gray         140843\n",
       "beige         46878\n",
       "tan           34709\n",
       "—             13563\n",
       "brown          6818\n",
       "red            1070\n",
       "blue            885\n",
       "silver          844\n",
       "off-white       373\n",
       "purple          276\n",
       "gold            256\n",
       "white           215\n",
       "green           198\n",
       "burgundy        155\n",
       "orange          109\n",
       "yellow           16\n",
       "Name: interior, dtype: int64"
      ]
     },
     "execution_count": 49,
     "metadata": {},
     "output_type": "execute_result"
    }
   ],
   "source": [
    "data_train['interior'].value_counts()"
   ]
  },
  {
   "cell_type": "code",
   "execution_count": 50,
   "metadata": {
    "execution": {
     "iopub.execute_input": "2023-06-02T15:36:52.232552Z",
     "iopub.status.busy": "2023-06-02T15:36:52.232172Z",
     "iopub.status.idle": "2023-06-02T15:36:52.349425Z",
     "shell.execute_reply": "2023-06-02T15:36:52.348309Z",
     "shell.execute_reply.started": "2023-06-02T15:36:52.232522Z"
    }
   },
   "outputs": [],
   "source": [
    "data_train['interior'] = data_train['interior'].fillna('—')"
   ]
  },
  {
   "cell_type": "markdown",
   "metadata": {},
   "source": [
    "**В столбце `interior` - цвет интерьера, обнаружено 586 пропусков. Заполнил пропуски значением \"—\".**"
   ]
  },
  {
   "cell_type": "markdown",
   "metadata": {},
   "source": [
    "**Проверим датафрейм на наличие пропусков**"
   ]
  },
  {
   "cell_type": "code",
   "execution_count": 51,
   "metadata": {
    "execution": {
     "iopub.execute_input": "2023-06-02T15:36:52.351349Z",
     "iopub.status.busy": "2023-06-02T15:36:52.351005Z",
     "iopub.status.idle": "2023-06-02T15:36:53.735949Z",
     "shell.execute_reply": "2023-06-02T15:36:53.734811Z",
     "shell.execute_reply.started": "2023-06-02T15:36:52.351319Z"
    }
   },
   "outputs": [
    {
     "data": {
      "text/plain": [
       "year            0\n",
       "make            0\n",
       "model           0\n",
       "trim            0\n",
       "body            0\n",
       "transmission    0\n",
       "vin             0\n",
       "state           0\n",
       "condition       0\n",
       "odometer        0\n",
       "color           0\n",
       "interior        0\n",
       "seller          0\n",
       "sellingprice    0\n",
       "saledate        0\n",
       "sale_year       0\n",
       "sale_month      0\n",
       "dtype: int64"
      ]
     },
     "execution_count": 51,
     "metadata": {},
     "output_type": "execute_result"
    }
   ],
   "source": [
    "data_train.isnull().sum()"
   ]
  },
  {
   "cell_type": "markdown",
   "metadata": {},
   "source": [
    "**Все пропуски заполнены**"
   ]
  },
  {
   "cell_type": "markdown",
   "metadata": {},
   "source": [
    "**Посмотрим на гистограммы числовыхпризнаков.**"
   ]
  },
  {
   "cell_type": "code",
   "execution_count": 52,
   "metadata": {
    "execution": {
     "iopub.execute_input": "2023-06-02T15:36:53.737655Z",
     "iopub.status.busy": "2023-06-02T15:36:53.737306Z",
     "iopub.status.idle": "2023-06-02T15:36:55.325514Z",
     "shell.execute_reply": "2023-06-02T15:36:55.324494Z",
     "shell.execute_reply.started": "2023-06-02T15:36:53.737628Z"
    }
   },
   "outputs": [
    {
     "data": {
      "image/png": "[encoded data removed]",
      "text/plain": [
       "<Figure size 1500x2000 with 9 Axes>"
      ]
     },
     "metadata": {},
     "output_type": "display_data"
    }
   ],
   "source": [
    "data_train.hist(figsize=(15, 20));"
   ]
  },
  {
   "cell_type": "markdown",
   "metadata": {},
   "source": [
    "**Из гистграмм видно, что в продаже в основном автомобили не старше пяти лет, хотя встречаются и довольно старые автомобили; автомобили в разном состоянии, но откровенно плохих мало; автомобили в основном с пробегом до 60 тыс. миль, но встречаются и автомобили с очень большим пробегом; стоимость автомобилей в основном до 25 тыс. долларов, но встречаются и довольно дорогие экземпляры. Такой разброс вполне объясним, поэтому выбросы удалять не будем.**"
   ]
  },
  {
   "cell_type": "markdown",
   "metadata": {},
   "source": [
    "### Исследование и предобработка тестового датасета. "
   ]
  },
  {
   "cell_type": "markdown",
   "metadata": {},
   "source": [
    "**Исследование предобработку тестового датасета произведём точно так же как и тренировочного датасета, за исключением отсутствующего столбца `sellingprice`.**"
   ]
  },
  {
   "cell_type": "code",
   "execution_count": 53,
   "metadata": {
    "execution": {
     "iopub.execute_input": "2023-06-02T15:36:55.327376Z",
     "iopub.status.busy": "2023-06-02T15:36:55.327040Z",
     "iopub.status.idle": "2023-06-02T15:36:55.348095Z",
     "shell.execute_reply": "2023-06-02T15:36:55.346782Z",
     "shell.execute_reply.started": "2023-06-02T15:36:55.327347Z"
    }
   },
   "outputs": [
    {
     "data": {
      "text/html": [
       "<div>\n",
       "<style scoped>\n",
       "    .dataframe tbody tr th:only-of-type {\n",
       "        vertical-align: middle;\n",
       "    }\n",
       "\n",
       "    .dataframe tbody tr th {\n",
       "        vertical-align: top;\n",
       "    }\n",
       "\n",
       "    .dataframe thead th {\n",
       "        text-align: right;\n",
       "    }\n",
       "</style>\n",
       "<table border=\"1\" class=\"dataframe\">\n",
       "  <thead>\n",
       "    <tr style=\"text-align: right;\">\n",
       "      <th></th>\n",
       "      <th>year</th>\n",
       "      <th>make</th>\n",
       "      <th>model</th>\n",
       "      <th>trim</th>\n",
       "      <th>body</th>\n",
       "      <th>transmission</th>\n",
       "      <th>vin</th>\n",
       "      <th>state</th>\n",
       "      <th>condition</th>\n",
       "      <th>odometer</th>\n",
       "      <th>color</th>\n",
       "      <th>interior</th>\n",
       "      <th>seller</th>\n",
       "      <th>saledate</th>\n",
       "    </tr>\n",
       "  </thead>\n",
       "  <tbody>\n",
       "    <tr>\n",
       "      <th>0</th>\n",
       "      <td>2005</td>\n",
       "      <td>Cadillac</td>\n",
       "      <td>CTS</td>\n",
       "      <td>Base</td>\n",
       "      <td>Sedan</td>\n",
       "      <td>automatic</td>\n",
       "      <td>1g6dp567450124779</td>\n",
       "      <td>ca</td>\n",
       "      <td>2.7</td>\n",
       "      <td>116970.0</td>\n",
       "      <td>silver</td>\n",
       "      <td>black</td>\n",
       "      <td>lexus of stevens creek</td>\n",
       "      <td>Wed Jan 14 2015 04:30:00 GMT-0800 (PST)</td>\n",
       "    </tr>\n",
       "    <tr>\n",
       "      <th>1</th>\n",
       "      <td>2014</td>\n",
       "      <td>GMC</td>\n",
       "      <td>Savana Cargo</td>\n",
       "      <td>2500</td>\n",
       "      <td>Van</td>\n",
       "      <td>NaN</td>\n",
       "      <td>1gtw7fca7e1902207</td>\n",
       "      <td>pa</td>\n",
       "      <td>4.4</td>\n",
       "      <td>6286.0</td>\n",
       "      <td>white</td>\n",
       "      <td>gray</td>\n",
       "      <td>u-haul</td>\n",
       "      <td>Fri Feb 27 2015 01:00:00 GMT-0800 (PST)</td>\n",
       "    </tr>\n",
       "    <tr>\n",
       "      <th>2</th>\n",
       "      <td>2013</td>\n",
       "      <td>Nissan</td>\n",
       "      <td>Murano</td>\n",
       "      <td>S</td>\n",
       "      <td>SUV</td>\n",
       "      <td>automatic</td>\n",
       "      <td>jn8az1mw6dw303497</td>\n",
       "      <td>oh</td>\n",
       "      <td>4.6</td>\n",
       "      <td>11831.0</td>\n",
       "      <td>gray</td>\n",
       "      <td>black</td>\n",
       "      <td>nissan-infiniti lt</td>\n",
       "      <td>Tue Feb 24 2015 01:30:00 GMT-0800 (PST)</td>\n",
       "    </tr>\n",
       "    <tr>\n",
       "      <th>3</th>\n",
       "      <td>2013</td>\n",
       "      <td>Chevrolet</td>\n",
       "      <td>Impala</td>\n",
       "      <td>LS Fleet</td>\n",
       "      <td>Sedan</td>\n",
       "      <td>automatic</td>\n",
       "      <td>2g1wf5e34d1160703</td>\n",
       "      <td>fl</td>\n",
       "      <td>2.3</td>\n",
       "      <td>57105.0</td>\n",
       "      <td>silver</td>\n",
       "      <td>black</td>\n",
       "      <td>onemain rem/auto club of miami inc dba north dad</td>\n",
       "      <td>Fri Mar 06 2015 02:00:00 GMT-0800 (PST)</td>\n",
       "    </tr>\n",
       "    <tr>\n",
       "      <th>4</th>\n",
       "      <td>2013</td>\n",
       "      <td>Nissan</td>\n",
       "      <td>Titan</td>\n",
       "      <td>SV</td>\n",
       "      <td>Crew Cab</td>\n",
       "      <td>automatic</td>\n",
       "      <td>1n6aa0ec3dn301209</td>\n",
       "      <td>tn</td>\n",
       "      <td>2.9</td>\n",
       "      <td>31083.0</td>\n",
       "      <td>black</td>\n",
       "      <td>black</td>\n",
       "      <td>nissan north america inc.</td>\n",
       "      <td>Wed Jun 03 2015 03:30:00 GMT-0700 (PDT)</td>\n",
       "    </tr>\n",
       "  </tbody>\n",
       "</table>\n",
       "</div>"
      ],
      "text/plain": [
       "   year       make         model      trim      body transmission  \\\n",
       "0  2005   Cadillac           CTS      Base     Sedan    automatic   \n",
       "1  2014        GMC  Savana Cargo      2500       Van          NaN   \n",
       "2  2013     Nissan        Murano         S       SUV    automatic   \n",
       "3  2013  Chevrolet        Impala  LS Fleet     Sedan    automatic   \n",
       "4  2013     Nissan         Titan        SV  Crew Cab    automatic   \n",
       "\n",
       "                 vin state  condition  odometer   color interior  \\\n",
       "0  1g6dp567450124779    ca        2.7  116970.0  silver    black   \n",
       "1  1gtw7fca7e1902207    pa        4.4    6286.0   white     gray   \n",
       "2  jn8az1mw6dw303497    oh        4.6   11831.0    gray    black   \n",
       "3  2g1wf5e34d1160703    fl        2.3   57105.0  silver    black   \n",
       "4  1n6aa0ec3dn301209    tn        2.9   31083.0   black    black   \n",
       "\n",
       "                                             seller  \\\n",
       "0                            lexus of stevens creek   \n",
       "1                                            u-haul   \n",
       "2                                nissan-infiniti lt   \n",
       "3  onemain rem/auto club of miami inc dba north dad   \n",
       "4                         nissan north america inc.   \n",
       "\n",
       "                                  saledate  \n",
       "0  Wed Jan 14 2015 04:30:00 GMT-0800 (PST)  \n",
       "1  Fri Feb 27 2015 01:00:00 GMT-0800 (PST)  \n",
       "2  Tue Feb 24 2015 01:30:00 GMT-0800 (PST)  \n",
       "3  Fri Mar 06 2015 02:00:00 GMT-0800 (PST)  \n",
       "4  Wed Jun 03 2015 03:30:00 GMT-0700 (PDT)  "
      ]
     },
     "execution_count": 53,
     "metadata": {},
     "output_type": "execute_result"
    }
   ],
   "source": [
    "data_test.head()"
   ]
  },
  {
   "cell_type": "code",
   "execution_count": 54,
   "metadata": {
    "execution": {
     "iopub.execute_input": "2023-06-02T15:36:55.351053Z",
     "iopub.status.busy": "2023-06-02T15:36:55.349949Z",
     "iopub.status.idle": "2023-06-02T15:36:55.361142Z",
     "shell.execute_reply": "2023-06-02T15:36:55.359273Z",
     "shell.execute_reply.started": "2023-06-02T15:36:55.351009Z"
    }
   },
   "outputs": [
    {
     "data": {
      "text/plain": [
       "(110058, 14)"
      ]
     },
     "execution_count": 54,
     "metadata": {},
     "output_type": "execute_result"
    }
   ],
   "source": [
    "data_test.shape"
   ]
  },
  {
   "cell_type": "code",
   "execution_count": 55,
   "metadata": {
    "execution": {
     "iopub.execute_input": "2023-06-02T15:36:55.362903Z",
     "iopub.status.busy": "2023-06-02T15:36:55.362534Z",
     "iopub.status.idle": "2023-06-02T15:36:55.750564Z",
     "shell.execute_reply": "2023-06-02T15:36:55.749422Z",
     "shell.execute_reply.started": "2023-06-02T15:36:55.362875Z"
    }
   },
   "outputs": [
    {
     "name": "stdout",
     "output_type": "stream",
     "text": [
      "<class 'pandas.core.frame.DataFrame'>\n",
      "RangeIndex: 110058 entries, 0 to 110057\n",
      "Data columns (total 14 columns):\n",
      " #   Column        Non-Null Count   Dtype  \n",
      "---  ------        --------------   -----  \n",
      " 0   year          110058 non-null  int64  \n",
      " 1   make          107997 non-null  object \n",
      " 2   model         107979 non-null  object \n",
      " 3   trim          107944 non-null  object \n",
      " 4   body          107464 non-null  object \n",
      " 5   transmission  97047 non-null   object \n",
      " 6   vin           110058 non-null  object \n",
      " 7   state         110058 non-null  object \n",
      " 8   condition     107679 non-null  float64\n",
      " 9   odometer      110039 non-null  float64\n",
      " 10  color         109900 non-null  object \n",
      " 11  interior      109900 non-null  object \n",
      " 12  seller        110058 non-null  object \n",
      " 13  saledate      110058 non-null  object \n",
      "dtypes: float64(2), int64(1), object(11)\n",
      "memory usage: 11.8+ MB\n"
     ]
    }
   ],
   "source": [
    "data_test.info()"
   ]
  },
  {
   "cell_type": "code",
   "execution_count": 56,
   "metadata": {
    "execution": {
     "iopub.execute_input": "2023-06-02T15:36:55.752689Z",
     "iopub.status.busy": "2023-06-02T15:36:55.752238Z",
     "iopub.status.idle": "2023-06-02T15:36:55.788195Z",
     "shell.execute_reply": "2023-06-02T15:36:55.787133Z",
     "shell.execute_reply.started": "2023-06-02T15:36:55.752646Z"
    }
   },
   "outputs": [
    {
     "data": {
      "text/html": [
       "<div>\n",
       "<style scoped>\n",
       "    .dataframe tbody tr th:only-of-type {\n",
       "        vertical-align: middle;\n",
       "    }\n",
       "\n",
       "    .dataframe tbody tr th {\n",
       "        vertical-align: top;\n",
       "    }\n",
       "\n",
       "    .dataframe thead th {\n",
       "        text-align: right;\n",
       "    }\n",
       "</style>\n",
       "<table border=\"1\" class=\"dataframe\">\n",
       "  <thead>\n",
       "    <tr style=\"text-align: right;\">\n",
       "      <th></th>\n",
       "      <th>year</th>\n",
       "      <th>condition</th>\n",
       "      <th>odometer</th>\n",
       "    </tr>\n",
       "  </thead>\n",
       "  <tbody>\n",
       "    <tr>\n",
       "      <th>count</th>\n",
       "      <td>110058.000000</td>\n",
       "      <td>107679.000000</td>\n",
       "      <td>110039.000000</td>\n",
       "    </tr>\n",
       "    <tr>\n",
       "      <th>mean</th>\n",
       "      <td>2010.060005</td>\n",
       "      <td>3.423222</td>\n",
       "      <td>68074.331601</td>\n",
       "    </tr>\n",
       "    <tr>\n",
       "      <th>std</th>\n",
       "      <td>3.960190</td>\n",
       "      <td>0.951301</td>\n",
       "      <td>53520.988173</td>\n",
       "    </tr>\n",
       "    <tr>\n",
       "      <th>min</th>\n",
       "      <td>1982.000000</td>\n",
       "      <td>1.000000</td>\n",
       "      <td>1.000000</td>\n",
       "    </tr>\n",
       "    <tr>\n",
       "      <th>25%</th>\n",
       "      <td>2007.000000</td>\n",
       "      <td>2.700000</td>\n",
       "      <td>28313.500000</td>\n",
       "    </tr>\n",
       "    <tr>\n",
       "      <th>50%</th>\n",
       "      <td>2012.000000</td>\n",
       "      <td>3.600000</td>\n",
       "      <td>51922.000000</td>\n",
       "    </tr>\n",
       "    <tr>\n",
       "      <th>75%</th>\n",
       "      <td>2013.000000</td>\n",
       "      <td>4.200000</td>\n",
       "      <td>98852.500000</td>\n",
       "    </tr>\n",
       "    <tr>\n",
       "      <th>max</th>\n",
       "      <td>2015.000000</td>\n",
       "      <td>5.000000</td>\n",
       "      <td>999999.000000</td>\n",
       "    </tr>\n",
       "  </tbody>\n",
       "</table>\n",
       "</div>"
      ],
      "text/plain": [
       "                year      condition       odometer\n",
       "count  110058.000000  107679.000000  110039.000000\n",
       "mean     2010.060005       3.423222   68074.331601\n",
       "std         3.960190       0.951301   53520.988173\n",
       "min      1982.000000       1.000000       1.000000\n",
       "25%      2007.000000       2.700000   28313.500000\n",
       "50%      2012.000000       3.600000   51922.000000\n",
       "75%      2013.000000       4.200000   98852.500000\n",
       "max      2015.000000       5.000000  999999.000000"
      ]
     },
     "execution_count": 56,
     "metadata": {},
     "output_type": "execute_result"
    }
   ],
   "source": [
    "data_test.describe()"
   ]
  },
  {
   "cell_type": "code",
   "execution_count": 57,
   "metadata": {
    "execution": {
     "iopub.execute_input": "2023-06-02T15:36:55.790102Z",
     "iopub.status.busy": "2023-06-02T15:36:55.789786Z",
     "iopub.status.idle": "2023-06-02T15:36:56.021538Z",
     "shell.execute_reply": "2023-06-02T15:36:56.020439Z",
     "shell.execute_reply.started": "2023-06-02T15:36:55.790076Z"
    }
   },
   "outputs": [
    {
     "data": {
      "text/plain": [
       "0"
      ]
     },
     "execution_count": 57,
     "metadata": {},
     "output_type": "execute_result"
    }
   ],
   "source": [
    "data_test.duplicated().sum()"
   ]
  },
  {
   "cell_type": "code",
   "execution_count": 58,
   "metadata": {
    "execution": {
     "iopub.execute_input": "2023-06-02T15:36:56.024095Z",
     "iopub.status.busy": "2023-06-02T15:36:56.023056Z",
     "iopub.status.idle": "2023-06-02T15:36:56.404465Z",
     "shell.execute_reply": "2023-06-02T15:36:56.403610Z",
     "shell.execute_reply.started": "2023-06-02T15:36:56.024063Z"
    }
   },
   "outputs": [
    {
     "data": {
      "text/plain": [
       "year                0\n",
       "make             2061\n",
       "model            2079\n",
       "trim             2114\n",
       "body             2594\n",
       "transmission    13011\n",
       "vin                 0\n",
       "state               0\n",
       "condition        2379\n",
       "odometer           19\n",
       "color             158\n",
       "interior          158\n",
       "seller              0\n",
       "saledate            0\n",
       "dtype: int64"
      ]
     },
     "execution_count": 58,
     "metadata": {},
     "output_type": "execute_result"
    }
   ],
   "source": [
    "data_test.isnull().sum()"
   ]
  },
  {
   "cell_type": "code",
   "execution_count": 59,
   "metadata": {
    "execution": {
     "iopub.execute_input": "2023-06-02T15:36:56.406215Z",
     "iopub.status.busy": "2023-06-02T15:36:56.405861Z",
     "iopub.status.idle": "2023-06-02T15:36:58.507577Z",
     "shell.execute_reply": "2023-06-02T15:36:58.506726Z",
     "shell.execute_reply.started": "2023-06-02T15:36:56.406185Z"
    }
   },
   "outputs": [],
   "source": [
    "data_test['saledate'] = data_test['saledate'].apply(lambda x: datetime.datetime.strptime(x[:-15], \"%a %b %d %Y %H:%M:%S\"))"
   ]
  },
  {
   "cell_type": "code",
   "execution_count": 60,
   "metadata": {
    "execution": {
     "iopub.execute_input": "2023-06-02T15:36:58.509481Z",
     "iopub.status.busy": "2023-06-02T15:36:58.508705Z",
     "iopub.status.idle": "2023-06-02T15:36:58.530083Z",
     "shell.execute_reply": "2023-06-02T15:36:58.528998Z",
     "shell.execute_reply.started": "2023-06-02T15:36:58.509435Z"
    }
   },
   "outputs": [
    {
     "data": {
      "text/plain": [
       "array([2015, 2014], dtype=int64)"
      ]
     },
     "execution_count": 60,
     "metadata": {},
     "output_type": "execute_result"
    }
   ],
   "source": [
    "data_test['sale_year'] = pd.DatetimeIndex(data_test['saledate']).year\n",
    "data_test['sale_year'].unique()"
   ]
  },
  {
   "cell_type": "code",
   "execution_count": 61,
   "metadata": {
    "execution": {
     "iopub.execute_input": "2023-06-02T15:36:58.532720Z",
     "iopub.status.busy": "2023-06-02T15:36:58.531740Z",
     "iopub.status.idle": "2023-06-02T15:36:58.553796Z",
     "shell.execute_reply": "2023-06-02T15:36:58.552688Z",
     "shell.execute_reply.started": "2023-06-02T15:36:58.532688Z"
    }
   },
   "outputs": [
    {
     "data": {
      "text/plain": [
       "array([ 1,  2,  3,  6, 12,  7,  5,  4], dtype=int64)"
      ]
     },
     "execution_count": 61,
     "metadata": {},
     "output_type": "execute_result"
    }
   ],
   "source": [
    "data_test['sale_month'] = pd.DatetimeIndex(data_test['saledate']).month\n",
    "data_test['sale_month'].unique()"
   ]
  },
  {
   "cell_type": "code",
   "execution_count": 62,
   "metadata": {
    "execution": {
     "iopub.execute_input": "2023-06-02T15:36:58.556172Z",
     "iopub.status.busy": "2023-06-02T15:36:58.555557Z",
     "iopub.status.idle": "2023-06-02T15:36:58.576262Z",
     "shell.execute_reply": "2023-06-02T15:36:58.575178Z",
     "shell.execute_reply.started": "2023-06-02T15:36:58.556141Z"
    }
   },
   "outputs": [
    {
     "data": {
      "text/html": [
       "<div>\n",
       "<style scoped>\n",
       "    .dataframe tbody tr th:only-of-type {\n",
       "        vertical-align: middle;\n",
       "    }\n",
       "\n",
       "    .dataframe tbody tr th {\n",
       "        vertical-align: top;\n",
       "    }\n",
       "\n",
       "    .dataframe thead th {\n",
       "        text-align: right;\n",
       "    }\n",
       "</style>\n",
       "<table border=\"1\" class=\"dataframe\">\n",
       "  <thead>\n",
       "    <tr style=\"text-align: right;\">\n",
       "      <th></th>\n",
       "      <th>year</th>\n",
       "      <th>make</th>\n",
       "      <th>model</th>\n",
       "      <th>trim</th>\n",
       "      <th>body</th>\n",
       "      <th>transmission</th>\n",
       "      <th>vin</th>\n",
       "      <th>state</th>\n",
       "      <th>condition</th>\n",
       "      <th>odometer</th>\n",
       "      <th>color</th>\n",
       "      <th>interior</th>\n",
       "      <th>seller</th>\n",
       "      <th>saledate</th>\n",
       "      <th>sale_year</th>\n",
       "      <th>sale_month</th>\n",
       "    </tr>\n",
       "  </thead>\n",
       "  <tbody>\n",
       "    <tr>\n",
       "      <th>0</th>\n",
       "      <td>2005</td>\n",
       "      <td>Cadillac</td>\n",
       "      <td>CTS</td>\n",
       "      <td>Base</td>\n",
       "      <td>Sedan</td>\n",
       "      <td>automatic</td>\n",
       "      <td>1g6dp567450124779</td>\n",
       "      <td>ca</td>\n",
       "      <td>2.7</td>\n",
       "      <td>116970.0</td>\n",
       "      <td>silver</td>\n",
       "      <td>black</td>\n",
       "      <td>lexus of stevens creek</td>\n",
       "      <td>2015-01-14 04:30:00</td>\n",
       "      <td>2015</td>\n",
       "      <td>1</td>\n",
       "    </tr>\n",
       "    <tr>\n",
       "      <th>1</th>\n",
       "      <td>2014</td>\n",
       "      <td>GMC</td>\n",
       "      <td>Savana Cargo</td>\n",
       "      <td>2500</td>\n",
       "      <td>Van</td>\n",
       "      <td>NaN</td>\n",
       "      <td>1gtw7fca7e1902207</td>\n",
       "      <td>pa</td>\n",
       "      <td>4.4</td>\n",
       "      <td>6286.0</td>\n",
       "      <td>white</td>\n",
       "      <td>gray</td>\n",
       "      <td>u-haul</td>\n",
       "      <td>2015-02-27 01:00:00</td>\n",
       "      <td>2015</td>\n",
       "      <td>2</td>\n",
       "    </tr>\n",
       "    <tr>\n",
       "      <th>2</th>\n",
       "      <td>2013</td>\n",
       "      <td>Nissan</td>\n",
       "      <td>Murano</td>\n",
       "      <td>S</td>\n",
       "      <td>SUV</td>\n",
       "      <td>automatic</td>\n",
       "      <td>jn8az1mw6dw303497</td>\n",
       "      <td>oh</td>\n",
       "      <td>4.6</td>\n",
       "      <td>11831.0</td>\n",
       "      <td>gray</td>\n",
       "      <td>black</td>\n",
       "      <td>nissan-infiniti lt</td>\n",
       "      <td>2015-02-24 01:30:00</td>\n",
       "      <td>2015</td>\n",
       "      <td>2</td>\n",
       "    </tr>\n",
       "    <tr>\n",
       "      <th>3</th>\n",
       "      <td>2013</td>\n",
       "      <td>Chevrolet</td>\n",
       "      <td>Impala</td>\n",
       "      <td>LS Fleet</td>\n",
       "      <td>Sedan</td>\n",
       "      <td>automatic</td>\n",
       "      <td>2g1wf5e34d1160703</td>\n",
       "      <td>fl</td>\n",
       "      <td>2.3</td>\n",
       "      <td>57105.0</td>\n",
       "      <td>silver</td>\n",
       "      <td>black</td>\n",
       "      <td>onemain rem/auto club of miami inc dba north dad</td>\n",
       "      <td>2015-03-06 02:00:00</td>\n",
       "      <td>2015</td>\n",
       "      <td>3</td>\n",
       "    </tr>\n",
       "    <tr>\n",
       "      <th>4</th>\n",
       "      <td>2013</td>\n",
       "      <td>Nissan</td>\n",
       "      <td>Titan</td>\n",
       "      <td>SV</td>\n",
       "      <td>Crew Cab</td>\n",
       "      <td>automatic</td>\n",
       "      <td>1n6aa0ec3dn301209</td>\n",
       "      <td>tn</td>\n",
       "      <td>2.9</td>\n",
       "      <td>31083.0</td>\n",
       "      <td>black</td>\n",
       "      <td>black</td>\n",
       "      <td>nissan north america inc.</td>\n",
       "      <td>2015-06-03 03:30:00</td>\n",
       "      <td>2015</td>\n",
       "      <td>6</td>\n",
       "    </tr>\n",
       "  </tbody>\n",
       "</table>\n",
       "</div>"
      ],
      "text/plain": [
       "   year       make         model      trim      body transmission  \\\n",
       "0  2005   Cadillac           CTS      Base     Sedan    automatic   \n",
       "1  2014        GMC  Savana Cargo      2500       Van          NaN   \n",
       "2  2013     Nissan        Murano         S       SUV    automatic   \n",
       "3  2013  Chevrolet        Impala  LS Fleet     Sedan    automatic   \n",
       "4  2013     Nissan         Titan        SV  Crew Cab    automatic   \n",
       "\n",
       "                 vin state  condition  odometer   color interior  \\\n",
       "0  1g6dp567450124779    ca        2.7  116970.0  silver    black   \n",
       "1  1gtw7fca7e1902207    pa        4.4    6286.0   white     gray   \n",
       "2  jn8az1mw6dw303497    oh        4.6   11831.0    gray    black   \n",
       "3  2g1wf5e34d1160703    fl        2.3   57105.0  silver    black   \n",
       "4  1n6aa0ec3dn301209    tn        2.9   31083.0   black    black   \n",
       "\n",
       "                                             seller            saledate  \\\n",
       "0                            lexus of stevens creek 2015-01-14 04:30:00   \n",
       "1                                            u-haul 2015-02-27 01:00:00   \n",
       "2                                nissan-infiniti lt 2015-02-24 01:30:00   \n",
       "3  onemain rem/auto club of miami inc dba north dad 2015-03-06 02:00:00   \n",
       "4                         nissan north america inc. 2015-06-03 03:30:00   \n",
       "\n",
       "   sale_year  sale_month  \n",
       "0       2015           1  \n",
       "1       2015           2  \n",
       "2       2015           2  \n",
       "3       2015           3  \n",
       "4       2015           6  "
      ]
     },
     "execution_count": 62,
     "metadata": {},
     "output_type": "execute_result"
    }
   ],
   "source": [
    "data_test.head()"
   ]
  },
  {
   "cell_type": "code",
   "execution_count": 63,
   "metadata": {
    "execution": {
     "iopub.execute_input": "2023-06-02T15:36:58.578321Z",
     "iopub.status.busy": "2023-06-02T15:36:58.577962Z",
     "iopub.status.idle": "2023-06-02T15:36:58.597494Z",
     "shell.execute_reply": "2023-06-02T15:36:58.596342Z",
     "shell.execute_reply.started": "2023-06-02T15:36:58.578292Z"
    }
   },
   "outputs": [
    {
     "data": {
      "text/plain": [
       "array(['Cadillac', 'GMC', 'Nissan', 'Chevrolet', 'Volkswagen', 'Hyundai',\n",
       "       'Ford', 'Infiniti', 'Subaru', 'Kia', 'BMW', nan, 'Mitsubishi',\n",
       "       'Dodge', 'Oldsmobile', 'Volvo', 'Pontiac', 'Acura', 'Honda',\n",
       "       'Toyota', 'Audi', 'Jeep', 'Lincoln', 'Chrysler', 'Mercedes-Benz',\n",
       "       'Ram', 'Scion', 'Mercury', 'Lexus', 'Saturn', 'Mazda', 'Porsche',\n",
       "       'MINI', 'smart', 'Buick', 'HUMMER', 'ford', 'chrysler', 'Jaguar',\n",
       "       'mitsubishi', 'FIAT', 'Saab', 'mazda', 'Suzuki', 'Land Rover',\n",
       "       'bmw', 'cadillac', 'oldsmobile', 'honda', 'acura', 'buick',\n",
       "       'landrover', 'Geo', 'lexus', 'dodge', 'chevrolet', 'chev truck',\n",
       "       'nissan', 'Bentley', 'jeep', 'mercury', 'toyota', 'gmc', 'Isuzu',\n",
       "       'Aston Martin', 'Maserati', 'land rover', 'kia', 'subaru',\n",
       "       'Daewoo', 'vw', 'volkswagen', 'Tesla', 'mercedes', 'Ferrari',\n",
       "       'hyundai', 'pontiac', 'Fisker', 'porsche', 'Rolls-Royce', 'Lotus',\n",
       "       'Plymouth', 'hyundai tk', 'lincoln', 'ford tk', 'audi'],\n",
       "      dtype=object)"
      ]
     },
     "execution_count": 63,
     "metadata": {},
     "output_type": "execute_result"
    }
   ],
   "source": [
    "data_test['make'].unique()"
   ]
  },
  {
   "cell_type": "code",
   "execution_count": 64,
   "metadata": {
    "execution": {
     "iopub.execute_input": "2023-06-02T15:36:58.599388Z",
     "iopub.status.busy": "2023-06-02T15:36:58.598957Z",
     "iopub.status.idle": "2023-06-02T15:37:01.202633Z",
     "shell.execute_reply": "2023-06-02T15:37:01.201176Z",
     "shell.execute_reply.started": "2023-06-02T15:36:58.599348Z"
    }
   },
   "outputs": [],
   "source": [
    "data_test = data_test.replace({ 'bmw': 'BMW',\n",
    "                                 'smart': 'Smart',\n",
    "                                 'oldsmobile': 'Oldsmobile',\n",
    "                                 'ford': 'Ford',\n",
    "                                 'ford tk': 'Ford',\n",
    "                                 'chrysler': 'Chrysler',\n",
    "                                 'mazda': 'Mazda',\n",
    "                                 'dodge': 'Dodge',\n",
    "                                 'hyundai': 'Hyundai',\n",
    "                                 'hyundai tk': 'Hyundai',\n",
    "                                 'pontiac': 'Pontiac',\n",
    "                                 'subaru': 'Subaru',\n",
    "                                 'toyota': 'Toyota',\n",
    "                                 'lincoln': 'Lincoln',\n",
    "                                 'nissan': 'Nissan',\n",
    "                                 'chevrolet': 'Chevrolet',\n",
    "                                 'chev truck': 'Chevrolet',\n",
    "                                 'honda': 'Honda',\n",
    "                                 'porsche': 'Porsche',\n",
    "                                 'mitsubishi': 'Mitsubishi',\n",
    "                                 'lexus': 'Lexus',\n",
    "                                 'acura': 'Acura',\n",
    "                                 'jeep': 'Jeep',\n",
    "                                 'mercury': 'Mercury',\n",
    "                                 'landrover': 'Land Rover',\n",
    "                                 'land rover': 'Land Rover',\n",
    "                                 'vw': 'Volkswagen',\n",
    "                                 'volkswagen': 'Volkswagen',\n",
    "                                 'audi': 'Audi',\n",
    "                                 'gmc': 'GMC',\n",
    "                                 'kia': 'Kia',\n",
    "                                 'mercedes': 'Mercedes-Benz',\n",
    "                                 'cadillac': 'Cadillac',\n",
    "                                 'buick': 'Buick'\n",
    "})"
   ]
  },
  {
   "cell_type": "code",
   "execution_count": 65,
   "metadata": {
    "execution": {
     "iopub.execute_input": "2023-06-02T15:37:01.204921Z",
     "iopub.status.busy": "2023-06-02T15:37:01.204475Z",
     "iopub.status.idle": "2023-06-02T15:37:01.224009Z",
     "shell.execute_reply": "2023-06-02T15:37:01.222438Z",
     "shell.execute_reply.started": "2023-06-02T15:37:01.204879Z"
    }
   },
   "outputs": [
    {
     "data": {
      "text/plain": [
       "array(['Cadillac', 'GMC', 'Nissan', 'Chevrolet', 'Volkswagen', 'Hyundai',\n",
       "       'Ford', 'Infiniti', 'Subaru', 'Kia', 'BMW', nan, 'Mitsubishi',\n",
       "       'Dodge', 'Oldsmobile', 'Volvo', 'Pontiac', 'Acura', 'Honda',\n",
       "       'Toyota', 'Audi', 'Jeep', 'Lincoln', 'Chrysler', 'Mercedes-Benz',\n",
       "       'Ram', 'Scion', 'Mercury', 'Lexus', 'Saturn', 'Mazda', 'Porsche',\n",
       "       'MINI', 'Smart', 'Buick', 'HUMMER', 'Jaguar', 'FIAT', 'Saab',\n",
       "       'Suzuki', 'Land Rover', 'Geo', 'Bentley', 'Isuzu', 'Aston Martin',\n",
       "       'Maserati', 'Daewoo', 'Tesla', 'Ferrari', 'Fisker', 'Rolls-Royce',\n",
       "       'Lotus', 'Plymouth'], dtype=object)"
      ]
     },
     "execution_count": 65,
     "metadata": {},
     "output_type": "execute_result"
    }
   ],
   "source": [
    "data_test['make'].unique()"
   ]
  },
  {
   "cell_type": "code",
   "execution_count": 66,
   "metadata": {
    "execution": {
     "iopub.execute_input": "2023-06-02T15:37:01.226777Z",
     "iopub.status.busy": "2023-06-02T15:37:01.225696Z",
     "iopub.status.idle": "2023-06-02T15:37:01.262675Z",
     "shell.execute_reply": "2023-06-02T15:37:01.261300Z",
     "shell.execute_reply.started": "2023-06-02T15:37:01.226728Z"
    }
   },
   "outputs": [
    {
     "data": {
      "text/plain": [
       "Ford             18466\n",
       "Chevrolet        11802\n",
       "Nissan           10485\n",
       "Toyota            7728\n",
       "Dodge             6188\n",
       "Honda             5382\n",
       "Hyundai           4410\n",
       "BMW               4136\n",
       "Kia               3571\n",
       "Mercedes-Benz     3471\n",
       "Chrysler          3459\n",
       "Jeep              3069\n",
       "Infiniti          3002\n",
       "Volkswagen        2515\n",
       "Lexus             2430\n",
       "GMC               2059\n",
       "Mazda             1676\n",
       "Cadillac          1496\n",
       "Lincoln           1153\n",
       "Acura             1151\n",
       "Audi              1124\n",
       "Buick             1019\n",
       "Subaru            1015\n",
       "Ram                889\n",
       "Pontiac            866\n",
       "Mitsubishi         806\n",
       "Volvo              765\n",
       "MINI               674\n",
       "Saturn             544\n",
       "Mercury            434\n",
       "Land Rover         371\n",
       "Scion              318\n",
       "Jaguar             297\n",
       "Porsche            280\n",
       "Suzuki             222\n",
       "FIAT               181\n",
       "HUMMER             174\n",
       "Saab                93\n",
       "Oldsmobile          88\n",
       "Smart               81\n",
       "Isuzu               38\n",
       "Bentley             23\n",
       "Maserati            21\n",
       "Tesla                6\n",
       "Plymouth             4\n",
       "Geo                  3\n",
       "Rolls-Royce          3\n",
       "Aston Martin         2\n",
       "Daewoo               2\n",
       "Ferrari              2\n",
       "Fisker               2\n",
       "Lotus                1\n",
       "Name: make, dtype: int64"
      ]
     },
     "execution_count": 66,
     "metadata": {},
     "output_type": "execute_result"
    }
   ],
   "source": [
    "data_test['make'].value_counts()"
   ]
  },
  {
   "cell_type": "code",
   "execution_count": 67,
   "metadata": {
    "execution": {
     "iopub.execute_input": "2023-06-02T15:37:01.264670Z",
     "iopub.status.busy": "2023-06-02T15:37:01.264083Z",
     "iopub.status.idle": "2023-06-02T15:37:01.291611Z",
     "shell.execute_reply": "2023-06-02T15:37:01.290409Z",
     "shell.execute_reply.started": "2023-06-02T15:37:01.264639Z"
    }
   },
   "outputs": [
    {
     "data": {
      "text/plain": [
       "array(['Cadillac', 'GMC', 'Nissan', 'Chevrolet', 'Volkswagen', 'Hyundai',\n",
       "       'Ford', 'Infiniti', 'Subaru', 'Kia', 'BMW', nan, 'Mitsubishi',\n",
       "       'Dodge', 'Oldsmobile', 'Volvo', 'Pontiac', 'Acura', 'Honda',\n",
       "       'Toyota', 'Audi', 'Jeep', 'Lincoln', 'Chrysler', 'Mercedes-Benz',\n",
       "       'Ram', 'Scion', 'Mercury', 'Lexus', 'Saturn', 'Mazda', 'Porsche',\n",
       "       'MINI', 'Smart', 'Buick', 'HUMMER', 'Jaguar', 'FIAT', 'Saab',\n",
       "       'Suzuki', 'Land Rover', 'Geo', 'Bentley', 'Isuzu', 'Aston Martin',\n",
       "       'Maserati', 'Daewoo', 'Tesla', 'Ferrari', 'Fisker', 'Rolls-Royce',\n",
       "       'Lotus', 'Plymouth'], dtype=object)"
      ]
     },
     "execution_count": 67,
     "metadata": {},
     "output_type": "execute_result"
    }
   ],
   "source": [
    "data_test['make'].unique()"
   ]
  },
  {
   "cell_type": "code",
   "execution_count": 68,
   "metadata": {
    "execution": {
     "iopub.execute_input": "2023-06-02T15:37:01.293345Z",
     "iopub.status.busy": "2023-06-02T15:37:01.293033Z",
     "iopub.status.idle": "2023-06-02T15:37:01.319902Z",
     "shell.execute_reply": "2023-06-02T15:37:01.318682Z",
     "shell.execute_reply.started": "2023-06-02T15:37:01.293319Z"
    }
   },
   "outputs": [
    {
     "data": {
      "text/plain": [
       "array(['CTS', 'Savana Cargo', 'Murano', 'Impala', 'Titan', 'Passat',\n",
       "       'Sonata', 'Explorer', 'G Sedan', 'Suburban', 'Forester', 'Escape',\n",
       "       'Fiesta', 'Taurus', 'Forte', '6 Series', 'TrailBlazer',\n",
       "       'Silverado 1500', 'Genesis', 'Equinox', nan, 'Lancer',\n",
       "       'E-Series Wagon', 'Grand Caravan', 'Focus', 'Alero', 'XC60',\n",
       "       'Montana', 'Fusion', 'Soul', 'TSX', 'G6', 'Accord', 'Maxima',\n",
       "       'Camry', 'Sierra 1500', 'A6', 'Camaro', 'RAV4', 'Corolla', 'XC70',\n",
       "       'Compass', 'Expedition', 'Jetta', 'CR-V', 'LS', 'Odyssey',\n",
       "       'Transit Connect', 'Optima', 'Traverse', 'F-150', 'Elantra',\n",
       "       'Altima', 'S6', 'Sorento', 'G35', 'M', 'FJ Cruiser',\n",
       "       'Town and Country', 'Civic', 'C-Class', 'Avenger', '1500', 'FR-S',\n",
       "       'X3', '300', 'Magnum', 'F-350 Super Duty', 'STS', 'G Coupe',\n",
       "       'Terrain', 'Spectra', 'Cruze', 'Journey', 'Tucson', 'Tundra',\n",
       "       'Malibu', 'Grand Cherokee', 'Grand Marquis', 'Sedona', 'RX 350',\n",
       "       'A4', 'LS 460', '3 Series', 'X5', 'Yaris', 'ION', 'TL',\n",
       "       'Econoline Cargo', 'G37 Coupe', 'Juke', 'Versa', 'MKZ',\n",
       "       'Ram Pickup 1500', 'Acadia', 'IS 250', 'Elantra GT', 'X1', 'Envoy',\n",
       "       'Venza', 'Frontier', 'Tahoe', 'Accent', 'GS 350', 'Liberty',\n",
       "       'Sonic', 'CX-5', 'Malibu Hybrid', 'xB', 'GL-Class', '911', 'Dart',\n",
       "       'Escalade', 'Mazda3', 'Mazda6', 'MKX', 'Pathfinder',\n",
       "       'E-Series Van', 'Mustang', 'CX-7', 'Charger', 'Sentra', 'Edge',\n",
       "       '4Runner', 'Quest', 'Sable', 'FX', 'Prius', 'S-Class', 'Caliber',\n",
       "       'Escalade ESV', 'Freestar', 'Rogue', 'CLK-Class', 'Wrangler',\n",
       "       'Cooper', 'Tiburon', 'fortwo', 'Element', '5 Series',\n",
       "       'Econoline Wagon', 'Flex', 'Tacoma', 'Ranger', 'Azera', 'R-Class',\n",
       "       'Galant', 'Yukon', 'Cobalt', 'Ram Pickup 3500', 'CT 200h',\n",
       "       'SL-Class', 'Century', 'Rogue Select', 'Rendezvous', 'Mazda5',\n",
       "       'Seville', 'GS 300', 'Fusion Hybrid', 'Patriot', 'Mariner',\n",
       "       '7 Series', 'Stratus', 'M3', 'H3', 'explorer', 'MDX', 'LX 470',\n",
       "       'G8', 'Sonata Hybrid', 'twn&country', 'Challenger', '200',\n",
       "       'Sienna', 'LS 430', 'Pilot', 'Aspen', 'Prius c', 'Rio',\n",
       "       'XJ-Series', 'Highlander', 'Colorado', 'DeVille', 'S40', 'Q5',\n",
       "       'Land Cruiser', 'expeditn', 'tC', 'IS 350', 'galant', 'Fit',\n",
       "       'Mazda2', 'Outlander Sport', 'Camry Solara', 'Camry Hybrid',\n",
       "       'X-Type', 'ATS', 'Nitro', 'Lucerne', 'F-250 Super Duty', 'ES 350',\n",
       "       'E-Class', 'Enclave', 'Outback', 'F-150 Heritage',\n",
       "       'Silverado 3500HD', 'Express Cargo', 'NV Cargo', 'Outlander',\n",
       "       'LX 570', 'Tiguan', 'Tribute', 'Uplander', '500L', 'M5', 'QX4',\n",
       "       'Yukon XL', 'CLA-Class', 'Z4', 'Captiva Sport', 'Mirage', 'G37',\n",
       "       'HHR', 'Aztek', '3500', 'M-Class', 'RDX', 'C/V Cargo Van', 'XC90',\n",
       "       'Cayenne', '9-5', 'Silverado 2500HD', 'Expedition EL', 'QX60',\n",
       "       'New Beetle', 'Grand Am', 'Impreza', 'Explorer Sport', 'Beetle',\n",
       "       'mazda6', 'RX 330', 'Dakota', 'Boxster', 'S60', 'CTS Coupe',\n",
       "       'Corvette', 'Insight', 'Five Hundred', 'Commander', 'Sequoia',\n",
       "       'GLK-Class', 'iQ', 'Legacy', 'Freestyle', 'VUE', 'Santa Fe',\n",
       "       'Monte Carlo', 'Leaf', 'ILX', 'Aveo', 'Malibu Maxx', 'Cadenza',\n",
       "       'Astro Cargo', 'S-Series', 'Vibe', 'C70', 'Q7', 'Ridgeline', 'M35',\n",
       "       'LeSabre', 'Grand Prix', 'Regal', 'Avalon', 'SLK-Class', 'XF',\n",
       "       'escape', 'PT Cruiser', 'Genesis Coupe', 'Versa Note',\n",
       "       'Eclipse Spyder', 'Impala Limited', 'Sierra 2500HD',\n",
       "       'Corvette Stingray', 'Xterra', 'Sebring', 'Town Car', 'MKC', 'GTI',\n",
       "       'Cooper Countryman', 'GLI', 'CX-9', 'Protege', 'Durango',\n",
       "       'Veloster', 'LaCrosse', 'Cooper Clubman', 'RX 450h', 'Milan',\n",
       "       'Forenza', 'Golf', 'QX', 'Aura', '2500', 'MKS', 'S-10', '2 Series',\n",
       "       'Accord Crosstour', 'Navigator', 'SX4', 'Beetle Convertible',\n",
       "       'IS 250 C', 'Sportage', 'ES 300', 'XL-7', 'V70', 'SRX', '6',\n",
       "       'Intrigue', 'QX80', 'Highlander Hybrid', 'CLS-Class',\n",
       "       'Elantra Touring', 'H2', 'GX 460', '9-3', 'SC 400', 'L-Series',\n",
       "       'FX35', 'Lancer Sportback', 'RX 400h', 'Cube', 'DTS', 'JX',\n",
       "       'ES 330', 'Reno', 'xD', 'XK', 'B9 Tribeca', 'Armada', 'Sonoma',\n",
       "       'Sky', 'Bravada', 'Avalanche', '500', 'Volt', 'Park Avenue',\n",
       "       'F-450 Super Duty', 'Amanti', 'Eclipse', 'MKT', 'Solstice',\n",
       "       'Equus', 'S-10 Blazer', 'Matrix', 'XJ', 'Murano CrossCabriolet',\n",
       "       'Sprinter Cargo', 'Range Rover Evoque', 'Promaster Cargo Van',\n",
       "       'Mountaineer', 'Touareg', 'QX56', 'Caravan', 'Tracker', 'endeavor',\n",
       "       'Savana', 'EX', 'Jetta SportWagen', 'Cavalier', 'Ram Pickup 2500',\n",
       "       'Torrent', '300M', 'Cherokee', 'Outlook', 'I30', 'I35', 'LR4',\n",
       "       'M45', 'Blazer', 'V60', '750li', 'A5', 'Tercel', 'G-Class', 'S80',\n",
       "       'TrailBlazer EXT', 'G Convertible', 'Celica', '626', 'Veracruz',\n",
       "       'Spark', 'Santa Fe Sport', 'Range Rover Sport', 'Q50',\n",
       "       'Range Rover', 'Silverado 1500 Classic', 'Aurora', 'EX35', 'RLX',\n",
       "       'Grand Vitara', 'Rondo', 'A8', 'XV Crosstrek', 'LS 400', 'RX 300',\n",
       "       'GT-R', 'S-Type', 'XL7', 'Panamera', 'L300', 'srx', '370Z',\n",
       "       'Sunfire', 'XTS', 'Elantra Coupe', 'silhouette',\n",
       "       'Lancer Evolution', 'Escape Hybrid', 'RS 5', 'Endeavor', 'Prius v',\n",
       "       'Excursion', 'Impreza WRX', 'Aviator', 'Neon', 'RSX',\n",
       "       'Cooper Paceman', 'CL-Class', 'X6', 'Routan', 'Canyon',\n",
       "       'Crown Victoria', 'Concorde', 'Verano', '3', 'Raider',\n",
       "       'Q60 Convertible', 'XG350', 'Windstar', 'pilot', 'Zephyr',\n",
       "       'Q60 Coupe', 'Freelander', 'rl', '350Z', 'S5', 'rx8', 'Montero',\n",
       "       'MX-5 Miata', 'Golf R', 'allure', 'BRZ', 'Mariner Hybrid',\n",
       "       'Borrego', 'lr3', 'CC', 'Explorer Sport Trac', 'Q45', 'CR-Z',\n",
       "       'Express', '4 Series', 'Prizm', 'Fusion Energi',\n",
       "       'Silverado 1500HD', 'gx', 'Encore', 'LR2', '750i', 'TT',\n",
       "       '6 Series Gran Coupe', 'caravan', 'corvette', 'Relay', 'Crosstour',\n",
       "       'Envoy XL', 'K900', 'Silverado 2500', 'Protege5', 'Pacifica',\n",
       "       '5 Series Gran Turismo', 's10', '350z', 'RS 6', 'C-Max Hybrid',\n",
       "       'malibu', 'Classic', 'Avalon Hybrid', 'Silverado 3500', 'A3',\n",
       "       'Sierra 3500', 'VUE Hybrid', 'NV', 'cx-7', 'expedition',\n",
       "       'Continental GTC', 'CTS-V Coupe', 'Taurus X', 'Montego',\n",
       "       'Sierra 3500HD', 'MPV', 'R8', 'Integra', 'Transit Wagon', 'Lumina',\n",
       "       'Mazdaspeed 3', 'GS 430', 'ZDX', 'M6', 'Catera', 'QX70', 'ECHO',\n",
       "       'wrangler', 'hhr', 'Mazdaspeed Protege', 'Terraza',\n",
       "       'TSX Sport Wagon', 'IS 300', 'Silverado 2500HD Classic', 'C30',\n",
       "       '9-7X', 'villager', 'Altima Hybrid', 'lx', 'Focus ST', 'Crossfire',\n",
       "       'Millenia', 'Intrepid', 'stratus', 'tundra', 'Yukon Hybrid',\n",
       "       '1 Series', 'x-trail', 'Rabbit', 'gr', 'M37', 'IS 350 C', 'Escort',\n",
       "       'G20', 'i-MiEV', 'V40', 'WRX', 'Tahoe Hybrid', 'S4', 'V50',\n",
       "       'H2 SUT', 'pacifica', 'Eos', 'C-Max Energi', 'Jetta GLI', 'alp',\n",
       "       'Escalade Hybrid', 'Sprinter', 'S70', 'Sierra 1500 Classic',\n",
       "       'Firebird', 'C/K 2500 Series', 'Thunderbird', 'Monterey',\n",
       "       'Cutlass', 'A7', 'accord', 'Escalade EXT', 'Venture', 'GX 470',\n",
       "       'M4', 'C/K 1500 Series', 'RC 350', 'Rainier', 'Rodeo', '850',\n",
       "       'Passport', 'Q70', 'M56', 'G5', 'XC', 'venture', 'F-TYPE',\n",
       "       'V8 Vantage', 'Silhouette', 'LHS', 'Mark LT', 'Equator', 'Tribeca',\n",
       "       'GranTurismo Convertible', 'Blackwood', 'Sierra 2500HD Classic',\n",
       "       'discovery', 'Jimmy', 'e350', 'range', 'Cayman', 'Prelude',\n",
       "       'Trooper', 'uplander', 'borrego', 'Mazdaspeed Mazda6',\n",
       "       'B-Series Pickup', 'Continental GT', 'XK-Series', 'colorado',\n",
       "       'Truck', 'CTS-V', 'Quattroporte', 'X6 M', 'Achieva', 'forester',\n",
       "       'cobalt', 'Bonneville', 'G3', 'RX-8', 'Z3', 'allroad quattro',\n",
       "       'Montero Sport', 'GTO', 'mazda5', 'Shelby GT500', 'Villager',\n",
       "       'compass', 'SSR', 'Kizashi', 'Navigator L', 'Envoy XUV',\n",
       "       'Cooper Coupe', 'Prius Plug-in', 'envoy', 'RL', 'Eldorado',\n",
       "       'S2000', 'e', 'SC 430', 'mpv', 'Leganza', 'Ram Cargo',\n",
       "       'Rodeo Sport', 'routan', 'magnum', 'FX45', 'CL', 'intrepid', 'S8',\n",
       "       'Cougar', 'Cooper Roadster', 'R32', 'LR3', 'Tahoe Limited/Z71',\n",
       "       'sebring', 'Discovery Series II', 'beetle', 'Nubira', 'durango',\n",
       "       'grand', 'Model S', 'dakota', 'windstar', 'ES 300h', 'c230wz',\n",
       "       'Entourage', 'XG300', 'Continental', 'freestyle', 'GranTurismo',\n",
       "       'e150', 'F430', 'allroad', 'MKZ Hybrid', 'santa', 'XLR', 'f150',\n",
       "       'g3500', 'Baja', 'Pickup', 'xA', 'Cutlass Supreme', 'Voyager',\n",
       "       'Contour', 'f250', 'Astro', 'ActiveHybrid 5',\n",
       "       '4 Series Gran Coupe', 'Jetta Hybrid', 'town', 'regal',\n",
       "       'Yukon Denali', 'odyssey', 'alero', 'Malibu Classic',\n",
       "       '3 Series Gran Turismo', 'g1500', 'astro', 'Astra', 'Golf GTI',\n",
       "       'MR2 Spyder', 'Ghibli', 'rangerover', 'i-Series', 'NV200', 'SQ5',\n",
       "       'S7', 'GS 400', 'Mazdaspeed3', 'Cutlass Ciera', 'sts',\n",
       "       'G37 Convertible', 'HS 250h', 'B-Series Truck', 'b1500',\n",
       "       'Ascender', 'yaris', 'sprinter', 'ram3500', 'SS', 'vibe',\n",
       "       'Continental Flying Spur', 'Aerio', 'X4', 'journey', 'Axiom',\n",
       "       'bronco', 'impala', 'H3T', 'B-Class Electric Drive', 'Sephia',\n",
       "       'Karma', 'ranger', 'Mazdaspeed Mazda3', 'dts', '9-2X', 'Touareg 2',\n",
       "       'Black Diamond Avalanche', 'Mustang SVT Cobra', 'GS 450h',\n",
       "       'Diamante', 'Sierra 1500HD', 'X5 M', 'GranSport', 'montana',\n",
       "       'Cayman S', 'Transit Van', 'Accord Hybrid', 'rio', 'tribute',\n",
       "       'c240w', 'ridgelin', 'Ghost', '1', 'Exige', 'el', 'jetta', 'f350',\n",
       "       'Viper', 'sienna', 'CTS Wagon', 'QX50', 'LS 600h L', 'Tempo',\n",
       "       'FX50', 'Cirrus', 'i8', 'elantra', 'Vitara', 'patriot', 'mdx',\n",
       "       'corolla', 'STS-V', 'g5', '350', 'g6', 'C/V Tradesman', '300ZX',\n",
       "       'e250', 'M6 Gran Coupe', 'Flying Spur', 'previa', 'eurovan',\n",
       "       'focus', 'RC F', 'Prowler', 'mkt', 'Cabrio', 'S90', 'RS 7',\n",
       "       'taurus', 'ciera', 'a6', 'IS F', 'Eighty-Eight', 'Verona', '360',\n",
       "       's55', 'Marauder', '300-Class', 'suburban', '300e', 'TLX',\n",
       "       'Tracer', 'police', 'Breeze', 'thunderbird', 'ActiveHybrid X6',\n",
       "       'SLS AMG GT', 'Macan', 'Phaeton', 'F-150 SVT Lightning',\n",
       "       'Grand Cherokee SRT', '200SX', 'tt', 'charger', 'pathfind',\n",
       "       'Aspire', 'Milan Hybrid', 'Sidekick', 'SC 300', 'civic', 'sonic',\n",
       "       'Sierra 1500 Hybrid', '3000GT', 'x3', 'E-150', 'Riviera',\n",
       "       'Eighty-Eight Royale', 'quest', 'pursuit',\n",
       "       'Continental Flying Spur Speed', 'lancer', 'Caprice'], dtype=object)"
      ]
     },
     "execution_count": 68,
     "metadata": {},
     "output_type": "execute_result"
    }
   ],
   "source": [
    "data_test['model'].unique()"
   ]
  },
  {
   "cell_type": "code",
   "execution_count": 69,
   "metadata": {
    "execution": {
     "iopub.execute_input": "2023-06-02T15:37:01.322428Z",
     "iopub.status.busy": "2023-06-02T15:37:01.322006Z",
     "iopub.status.idle": "2023-06-02T15:37:01.351788Z",
     "shell.execute_reply": "2023-06-02T15:37:01.350881Z",
     "shell.execute_reply.started": "2023-06-02T15:37:01.322396Z"
    }
   },
   "outputs": [
    {
     "data": {
      "text/plain": [
       "Altima                    3736\n",
       "F-150                     2737\n",
       "Fusion                    2553\n",
       "Camry                     2423\n",
       "Escape                    2292\n",
       "                          ... \n",
       "B-Class Electric Drive       1\n",
       "bronco                       1\n",
       "X4                           1\n",
       "vibe                         1\n",
       "Caprice                      1\n",
       "Name: model, Length: 824, dtype: int64"
      ]
     },
     "execution_count": 69,
     "metadata": {},
     "output_type": "execute_result"
    }
   ],
   "source": [
    "data_test['model'].value_counts()"
   ]
  },
  {
   "cell_type": "code",
   "execution_count": 70,
   "metadata": {
    "execution": {
     "iopub.execute_input": "2023-06-02T15:37:01.355407Z",
     "iopub.status.busy": "2023-06-02T15:37:01.353054Z",
     "iopub.status.idle": "2023-06-02T15:40:44.242185Z",
     "shell.execute_reply": "2023-06-02T15:40:44.240964Z",
     "shell.execute_reply.started": "2023-06-02T15:37:01.355373Z"
    }
   },
   "outputs": [
    {
     "name": "stderr",
     "output_type": "stream",
     "text": [
      "100%|█████████████████████████████████████████████████████████████████████████| 110058/110058 [01:50<00:00, 994.83it/s]\n"
     ]
    }
   ],
   "source": [
    "data_train_filled = fill_missing_make_model(data_test)"
   ]
  },
  {
   "cell_type": "code",
   "execution_count": 71,
   "metadata": {
    "execution": {
     "iopub.execute_input": "2023-06-02T15:40:44.244559Z",
     "iopub.status.busy": "2023-06-02T15:40:44.244058Z",
     "iopub.status.idle": "2023-06-02T15:40:44.606644Z",
     "shell.execute_reply": "2023-06-02T15:40:44.605434Z",
     "shell.execute_reply.started": "2023-06-02T15:40:44.244514Z"
    }
   },
   "outputs": [
    {
     "data": {
      "text/plain": [
       "year                0\n",
       "make               47\n",
       "model              47\n",
       "trim             2114\n",
       "body             2594\n",
       "transmission    13011\n",
       "vin                 0\n",
       "state               0\n",
       "condition        2379\n",
       "odometer           19\n",
       "color             158\n",
       "interior          158\n",
       "seller              0\n",
       "saledate            0\n",
       "sale_year           0\n",
       "sale_month          0\n",
       "dtype: int64"
      ]
     },
     "execution_count": 71,
     "metadata": {},
     "output_type": "execute_result"
    }
   ],
   "source": [
    "data_test.isnull().sum()"
   ]
  },
  {
   "cell_type": "code",
   "execution_count": 72,
   "metadata": {
    "execution": {
     "iopub.execute_input": "2023-06-02T15:40:44.609304Z",
     "iopub.status.busy": "2023-06-02T15:40:44.608815Z",
     "iopub.status.idle": "2023-06-02T15:40:44.637313Z",
     "shell.execute_reply": "2023-06-02T15:40:44.635994Z",
     "shell.execute_reply.started": "2023-06-02T15:40:44.609261Z"
    }
   },
   "outputs": [],
   "source": [
    "data_test['make'] = data_test['make'].fillna('unknown')"
   ]
  },
  {
   "cell_type": "code",
   "execution_count": 73,
   "metadata": {
    "execution": {
     "iopub.execute_input": "2023-06-02T15:40:44.639606Z",
     "iopub.status.busy": "2023-06-02T15:40:44.639197Z",
     "iopub.status.idle": "2023-06-02T15:40:44.669568Z",
     "shell.execute_reply": "2023-06-02T15:40:44.668490Z",
     "shell.execute_reply.started": "2023-06-02T15:40:44.639574Z"
    }
   },
   "outputs": [],
   "source": [
    "data_test['model'] = data_test['model'].fillna('unknown')"
   ]
  },
  {
   "cell_type": "code",
   "execution_count": 74,
   "metadata": {
    "execution": {
     "iopub.execute_input": "2023-06-02T15:40:44.672162Z",
     "iopub.status.busy": "2023-06-02T15:40:44.671729Z",
     "iopub.status.idle": "2023-06-02T15:40:44.689891Z",
     "shell.execute_reply": "2023-06-02T15:40:44.688820Z",
     "shell.execute_reply.started": "2023-06-02T15:40:44.672121Z"
    }
   },
   "outputs": [
    {
     "data": {
      "text/plain": [
       "array(['Sedan', 'Van', 'SUV', 'Crew Cab', 'wagon', 'G Sedan', 'Hatchback',\n",
       "       'sedan', 'Convertible', 'crew cab', nan, 'van', 'Minivan', 'Wagon',\n",
       "       'Coupe', 'suv', 'supercrew', 'minivan', 'SuperCrew', 'quad cab',\n",
       "       'g coupe', 'CrewMax Cab', 'Regular Cab', 'G37 Coupe', 'hatchback',\n",
       "       'Quad Cab', 'regular cab', 'coupe', 'E-Series Van', 'Extended Cab',\n",
       "       'supercab', 'e-series van', 'Access Cab', 'G Coupe', 'convertible',\n",
       "       'Double Cab', 'extended cab', 'SuperCab', 'king cab', 'g sedan',\n",
       "       'CTS Coupe', 'genesis coupe', 'Beetle Convertible', 'access cab',\n",
       "       'Promaster Cargo Van', 'crewmax cab', 'G Convertible', 'Mega Cab',\n",
       "       'koup', 'Elantra Coupe', 'Koup', 'Q60 Convertible',\n",
       "       'g convertible', 'Q60 Coupe', 'double cab', 'Club Cab', 'King Cab',\n",
       "       'CTS-V Coupe', 'Xtracab', 'Genesis Coupe', 'tsx sport wagon',\n",
       "       'club cab', 'mega cab', 'cts coupe', 'elantra coupe',\n",
       "       'cts-v coupe', 'granturismo convertible', 'Cab Plus',\n",
       "       'TSX Sport Wagon', 'promaster cargo van', 'G37 Convertible',\n",
       "       'regular-cab', 'Transit Van', 'CTS Wagon', 'transit van',\n",
       "       'GranTurismo Convertible', 'q60 convertible', 'xtracab'],\n",
       "      dtype=object)"
      ]
     },
     "execution_count": 74,
     "metadata": {},
     "output_type": "execute_result"
    }
   ],
   "source": [
    "data_test['body'].unique()"
   ]
  },
  {
   "cell_type": "code",
   "execution_count": 75,
   "metadata": {
    "execution": {
     "iopub.execute_input": "2023-06-02T15:40:44.691821Z",
     "iopub.status.busy": "2023-06-02T15:40:44.691431Z",
     "iopub.status.idle": "2023-06-02T15:40:47.767699Z",
     "shell.execute_reply": "2023-06-02T15:40:47.766519Z",
     "shell.execute_reply.started": "2023-06-02T15:40:44.691791Z"
    }
   },
   "outputs": [],
   "source": [
    "data_test = data_test.replace({'suv': 'SUV',\n",
    "                                 'sedan': 'Sedan',\n",
    "                                 'g sedan': 'G Sedan',\n",
    "                                 'wagon': 'Wagon',\n",
    "                                 'minivan': 'Minivan',\n",
    "                                 'hatchback': 'Hatchback',\n",
    "                                 'coupe': 'Coupe',\n",
    "                                 'regular cab': 'Regular Cab',\n",
    "                                 'regular-cab': 'Regular Cab',\n",
    "                                 'e-series van': 'E-Series Van',\n",
    "                                 'supercrew': 'SuperCrew',\n",
    "                                 'supercab': 'SuperCab',\n",
    "                                 'tsx sport wagon': 'TSX Sport Wagon',\n",
    "                                 'extended cab': 'Extended Cab',\n",
    "                                 'double cab': 'Double Cab',\n",
    "                                 'koup': 'Koup',\n",
    "                                 'access cab': 'Access Cab',\n",
    "                                 'crew cab': 'Crew Cab',\n",
    "                                 'crewmax cab': 'CrewMax Cab',\n",
    "                                 'quad cab': 'Quad Cab',\n",
    "                                 'g coupe': 'G Coupe',\n",
    "                                 'g convertible': 'G Convertible',\n",
    "                                 'van': 'Van',\n",
    "                                 'promaster cargo van': 'Promaster Cargo Van',\n",
    "                                 'transit van': 'Transit Van',\n",
    "                                 'club cab': 'Club Cab',\n",
    "                                 'cts coupe': 'CTS Coupe',\n",
    "                                 'cts-v coupe': 'CTS-V Coupe',\n",
    "                                 'genesis coupe': 'Genesis Coupe',\n",
    "                                 'q60 coupe': 'Q60 Coupe',\n",
    "                                 'q60 convertible': 'Q60 Convertible',\n",
    "                                 'mega cab': 'Mega Cab',\n",
    "                                 'king cab': 'King Cab',\n",
    "                                 'elantra coupe': 'Elantra Coupe',\n",
    "                                 'beetle convertible': 'Beetle Convertible',\n",
    "                                 'g37 coupe': 'G37 Coupe',\n",
    "                                 'g37 convertible': 'G37 Convertible',\n",
    "                                 'granturismo convertible': 'GranTurismo Convertible',\n",
    "                                 'cab plus 4': 'Cab Plus 4',\n",
    "                                 'xtracab': 'Xtracab',\n",
    "                                 'convertible': 'Convertible'\n",
    "})"
   ]
  },
  {
   "cell_type": "code",
   "execution_count": 76,
   "metadata": {
    "execution": {
     "iopub.execute_input": "2023-06-02T15:40:47.770308Z",
     "iopub.status.busy": "2023-06-02T15:40:47.769903Z",
     "iopub.status.idle": "2023-06-02T15:40:47.802172Z",
     "shell.execute_reply": "2023-06-02T15:40:47.801135Z",
     "shell.execute_reply.started": "2023-06-02T15:40:47.770276Z"
    }
   },
   "outputs": [],
   "source": [
    "data_test['body'] = data_test['body'].fillna('unknown')"
   ]
  },
  {
   "cell_type": "code",
   "execution_count": 77,
   "metadata": {
    "execution": {
     "iopub.execute_input": "2023-06-02T15:40:47.804260Z",
     "iopub.status.busy": "2023-06-02T15:40:47.803699Z",
     "iopub.status.idle": "2023-06-02T15:40:47.823352Z",
     "shell.execute_reply": "2023-06-02T15:40:47.822099Z",
     "shell.execute_reply.started": "2023-06-02T15:40:47.804228Z"
    }
   },
   "outputs": [
    {
     "data": {
      "text/plain": [
       "array(['Base', '2500', 'S', ..., 'Hybrid w/Technology Package',\n",
       "       'V6 Luxury Sport', 'awd xs ll bean'], dtype=object)"
      ]
     },
     "execution_count": 77,
     "metadata": {},
     "output_type": "execute_result"
    }
   ],
   "source": [
    "data_test['trim'].unique()"
   ]
  },
  {
   "cell_type": "code",
   "execution_count": 78,
   "metadata": {
    "execution": {
     "iopub.execute_input": "2023-06-02T15:40:47.825385Z",
     "iopub.status.busy": "2023-06-02T15:40:47.824993Z",
     "iopub.status.idle": "2023-06-02T15:40:47.859882Z",
     "shell.execute_reply": "2023-06-02T15:40:47.858900Z",
     "shell.execute_reply.started": "2023-06-02T15:40:47.825353Z"
    }
   },
   "outputs": [],
   "source": [
    "data_test['trim'] = data_test['trim'].fillna('unknown')"
   ]
  },
  {
   "cell_type": "code",
   "execution_count": 79,
   "metadata": {
    "execution": {
     "iopub.execute_input": "2023-06-02T15:40:47.861428Z",
     "iopub.status.busy": "2023-06-02T15:40:47.861096Z",
     "iopub.status.idle": "2023-06-02T15:40:47.879789Z",
     "shell.execute_reply": "2023-06-02T15:40:47.878523Z",
     "shell.execute_reply.started": "2023-06-02T15:40:47.861391Z"
    }
   },
   "outputs": [
    {
     "data": {
      "text/plain": [
       "array(['automatic', nan, 'manual'], dtype=object)"
      ]
     },
     "execution_count": 79,
     "metadata": {},
     "output_type": "execute_result"
    }
   ],
   "source": [
    "data_test['transmission'].unique()"
   ]
  },
  {
   "cell_type": "code",
   "execution_count": 80,
   "metadata": {
    "execution": {
     "iopub.execute_input": "2023-06-02T15:40:47.882302Z",
     "iopub.status.busy": "2023-06-02T15:40:47.881579Z",
     "iopub.status.idle": "2023-06-02T15:40:47.910129Z",
     "shell.execute_reply": "2023-06-02T15:40:47.909003Z",
     "shell.execute_reply.started": "2023-06-02T15:40:47.882258Z"
    }
   },
   "outputs": [
    {
     "data": {
      "text/plain": [
       "automatic    93584\n",
       "manual        3463\n",
       "Name: transmission, dtype: int64"
      ]
     },
     "execution_count": 80,
     "metadata": {},
     "output_type": "execute_result"
    }
   ],
   "source": [
    "data_test['transmission'].value_counts()"
   ]
  },
  {
   "cell_type": "code",
   "execution_count": 81,
   "metadata": {
    "execution": {
     "iopub.execute_input": "2023-06-02T15:40:47.912034Z",
     "iopub.status.busy": "2023-06-02T15:40:47.911703Z",
     "iopub.status.idle": "2023-06-02T15:40:47.940929Z",
     "shell.execute_reply": "2023-06-02T15:40:47.939927Z",
     "shell.execute_reply.started": "2023-06-02T15:40:47.912007Z"
    }
   },
   "outputs": [],
   "source": [
    "data_test['transmission'] = data_test['transmission'].fillna('automatic')"
   ]
  },
  {
   "cell_type": "code",
   "execution_count": 82,
   "metadata": {
    "execution": {
     "iopub.execute_input": "2023-06-02T15:40:47.944158Z",
     "iopub.status.busy": "2023-06-02T15:40:47.943472Z",
     "iopub.status.idle": "2023-06-02T15:40:47.953959Z",
     "shell.execute_reply": "2023-06-02T15:40:47.952721Z",
     "shell.execute_reply.started": "2023-06-02T15:40:47.944123Z"
    }
   },
   "outputs": [
    {
     "data": {
      "text/plain": [
       "array([2.7, 4.4, 4.6, 2.3, 2.9, 2.4, 3.7, 3.2, 3.5, 3.4, 4.7, 5. , 1. ,\n",
       "       3.9, 1.9, 2.6, 4.9, 3.3, 2. , 4.2, 4.5, 4.1, 4.8, 3.6, 3.1, 4.3,\n",
       "       nan, 4. , 3. , 2.2, 3.8, 2.5, 2.1, 2.8, 1.7, 1.8, 1.6, 1.2, 1.4,\n",
       "       1.1, 1.3, 1.5])"
      ]
     },
     "execution_count": 82,
     "metadata": {},
     "output_type": "execute_result"
    }
   ],
   "source": [
    "data_test['condition'].unique()"
   ]
  },
  {
   "cell_type": "code",
   "execution_count": 83,
   "metadata": {
    "execution": {
     "iopub.execute_input": "2023-06-02T15:40:47.956049Z",
     "iopub.status.busy": "2023-06-02T15:40:47.955664Z",
     "iopub.status.idle": "2023-06-02T15:40:47.972061Z",
     "shell.execute_reply": "2023-06-02T15:40:47.970715Z",
     "shell.execute_reply.started": "2023-06-02T15:40:47.956017Z"
    }
   },
   "outputs": [
    {
     "data": {
      "text/plain": [
       "1.9    8429\n",
       "3.5    5233\n",
       "4.4    5096\n",
       "3.7    5066\n",
       "4.3    4832\n",
       "4.2    4631\n",
       "3.6    4574\n",
       "4.1    4552\n",
       "2.0    4117\n",
       "3.9    3995\n",
       "4.0    3921\n",
       "2.8    3864\n",
       "2.9    3810\n",
       "3.8    3669\n",
       "3.4    3422\n",
       "2.7    3235\n",
       "4.9    2626\n",
       "4.6    2557\n",
       "4.8    2521\n",
       "4.5    2463\n",
       "2.5    2444\n",
       "2.6    2290\n",
       "5.0    2218\n",
       "3.0    2194\n",
       "4.7    2152\n",
       "3.3    1976\n",
       "3.2    1919\n",
       "3.1    1791\n",
       "2.1    1782\n",
       "2.4    1780\n",
       "2.3    1603\n",
       "1.0    1468\n",
       "2.2    1199\n",
       "1.8      69\n",
       "1.6      43\n",
       "1.7      42\n",
       "1.4      29\n",
       "1.2      21\n",
       "1.5      20\n",
       "1.1      13\n",
       "1.3      13\n",
       "Name: condition, dtype: int64"
      ]
     },
     "execution_count": 83,
     "metadata": {},
     "output_type": "execute_result"
    }
   ],
   "source": [
    "data_test['condition'].value_counts()"
   ]
  },
  {
   "cell_type": "code",
   "execution_count": 84,
   "metadata": {
    "execution": {
     "iopub.execute_input": "2023-06-02T15:40:47.974067Z",
     "iopub.status.busy": "2023-06-02T15:40:47.973628Z",
     "iopub.status.idle": "2023-06-02T15:40:50.331082Z",
     "shell.execute_reply": "2023-06-02T15:40:50.329850Z",
     "shell.execute_reply.started": "2023-06-02T15:40:47.974034Z"
    }
   },
   "outputs": [],
   "source": [
    "mean_by_year_test_con = data_test.groupby(data_test['year'])['condition'].mean()\n",
    "\n",
    "data_test['condition'] = data_test.apply(lambda row: mean_by_year_test_con[row['year']] if pd.isnull(row['condition']) else row['condition'], axis=1)"
   ]
  },
  {
   "cell_type": "code",
   "execution_count": 85,
   "metadata": {
    "execution": {
     "iopub.execute_input": "2023-06-02T15:40:50.333067Z",
     "iopub.status.busy": "2023-06-02T15:40:50.332705Z",
     "iopub.status.idle": "2023-06-02T15:40:50.345164Z",
     "shell.execute_reply": "2023-06-02T15:40:50.344347Z",
     "shell.execute_reply.started": "2023-06-02T15:40:50.333039Z"
    }
   },
   "outputs": [
    {
     "data": {
      "text/plain": [
       "array([116970.,   6286.,  11831., ...,  99488.,  66085., 124036.])"
      ]
     },
     "execution_count": 85,
     "metadata": {},
     "output_type": "execute_result"
    }
   ],
   "source": [
    "data_test['odometer'].unique()"
   ]
  },
  {
   "cell_type": "code",
   "execution_count": 86,
   "metadata": {
    "execution": {
     "iopub.execute_input": "2023-06-02T15:40:50.347397Z",
     "iopub.status.busy": "2023-06-02T15:40:50.346502Z",
     "iopub.status.idle": "2023-06-02T15:40:50.368834Z",
     "shell.execute_reply": "2023-06-02T15:40:50.367659Z",
     "shell.execute_reply.started": "2023-06-02T15:40:50.347367Z"
    }
   },
   "outputs": [
    {
     "data": {
      "text/plain": [
       "1.0         246\n",
       "999999.0     17\n",
       "14452.0       8\n",
       "48473.0       8\n",
       "40126.0       7\n",
       "           ... \n",
       "1729.0        1\n",
       "46226.0       1\n",
       "37683.0       1\n",
       "138097.0      1\n",
       "124036.0      1\n",
       "Name: odometer, Length: 77205, dtype: int64"
      ]
     },
     "execution_count": 86,
     "metadata": {},
     "output_type": "execute_result"
    }
   ],
   "source": [
    "data_test['odometer'].value_counts()"
   ]
  },
  {
   "cell_type": "code",
   "execution_count": 87,
   "metadata": {
    "execution": {
     "iopub.execute_input": "2023-06-02T15:40:50.370353Z",
     "iopub.status.busy": "2023-06-02T15:40:50.370040Z",
     "iopub.status.idle": "2023-06-02T15:40:52.698668Z",
     "shell.execute_reply": "2023-06-02T15:40:52.697748Z",
     "shell.execute_reply.started": "2023-06-02T15:40:50.370328Z"
    }
   },
   "outputs": [],
   "source": [
    "mean_by_year_test_odo = data_test.groupby(data_test['year'])['odometer'].mean()\n",
    "\n",
    "data_test['odometer'] = data_test.apply(lambda row: mean_by_year_test_odo[row['year']] if pd.isnull(row['odometer']) else row['odometer'], axis=1)"
   ]
  },
  {
   "cell_type": "code",
   "execution_count": 88,
   "metadata": {
    "execution": {
     "iopub.execute_input": "2023-06-02T15:40:52.700506Z",
     "iopub.status.busy": "2023-06-02T15:40:52.700082Z",
     "iopub.status.idle": "2023-06-02T15:40:52.717355Z",
     "shell.execute_reply": "2023-06-02T15:40:52.716067Z",
     "shell.execute_reply.started": "2023-06-02T15:40:52.700418Z"
    }
   },
   "outputs": [
    {
     "data": {
      "text/plain": [
       "array(['silver', 'white', 'gray', 'black', 'blue', 'red', 'burgundy',\n",
       "       'off-white', 'gold', 'green', 'orange', 'charcoal', 'brown', '—',\n",
       "       'beige', 'yellow', 'purple', nan, 'turquoise', 'pink', 'lime'],\n",
       "      dtype=object)"
      ]
     },
     "execution_count": 88,
     "metadata": {},
     "output_type": "execute_result"
    }
   ],
   "source": [
    "data_test['color'].unique()"
   ]
  },
  {
   "cell_type": "code",
   "execution_count": 89,
   "metadata": {
    "execution": {
     "iopub.execute_input": "2023-06-02T15:40:52.718970Z",
     "iopub.status.busy": "2023-06-02T15:40:52.718642Z",
     "iopub.status.idle": "2023-06-02T15:40:52.749841Z",
     "shell.execute_reply": "2023-06-02T15:40:52.748647Z",
     "shell.execute_reply.started": "2023-06-02T15:40:52.718943Z"
    }
   },
   "outputs": [
    {
     "data": {
      "text/plain": [
       "black        22006\n",
       "white        20928\n",
       "silver       16360\n",
       "gray         16348\n",
       "blue         10180\n",
       "red           8384\n",
       "—             4948\n",
       "green         2270\n",
       "gold          2207\n",
       "beige         1826\n",
       "burgundy      1759\n",
       "brown         1300\n",
       "orange         407\n",
       "purple         284\n",
       "off-white      275\n",
       "yellow         274\n",
       "charcoal        84\n",
       "turquoise       49\n",
       "pink            10\n",
       "lime             1\n",
       "Name: color, dtype: int64"
      ]
     },
     "execution_count": 89,
     "metadata": {},
     "output_type": "execute_result"
    }
   ],
   "source": [
    "data_test['color'].value_counts()"
   ]
  },
  {
   "cell_type": "code",
   "execution_count": 90,
   "metadata": {
    "execution": {
     "iopub.execute_input": "2023-06-02T15:40:52.752662Z",
     "iopub.status.busy": "2023-06-02T15:40:52.751752Z",
     "iopub.status.idle": "2023-06-02T15:40:52.785916Z",
     "shell.execute_reply": "2023-06-02T15:40:52.784791Z",
     "shell.execute_reply.started": "2023-06-02T15:40:52.752627Z"
    }
   },
   "outputs": [],
   "source": [
    "data_test['color'] = data_test['color'].fillna('—')"
   ]
  },
  {
   "cell_type": "code",
   "execution_count": 91,
   "metadata": {
    "execution": {
     "iopub.execute_input": "2023-06-02T15:40:52.787494Z",
     "iopub.status.busy": "2023-06-02T15:40:52.787148Z",
     "iopub.status.idle": "2023-06-02T15:40:52.806488Z",
     "shell.execute_reply": "2023-06-02T15:40:52.805545Z",
     "shell.execute_reply.started": "2023-06-02T15:40:52.787465Z"
    }
   },
   "outputs": [
    {
     "data": {
      "text/plain": [
       "array(['black', 'gray', 'beige', 'tan', '—', 'brown', 'red', 'silver',\n",
       "       nan, 'blue', 'purple', 'off-white', 'green', 'orange', 'gold',\n",
       "       'burgundy', 'white', 'yellow'], dtype=object)"
      ]
     },
     "execution_count": 91,
     "metadata": {},
     "output_type": "execute_result"
    }
   ],
   "source": [
    "data_test['interior'].unique()"
   ]
  },
  {
   "cell_type": "code",
   "execution_count": 92,
   "metadata": {
    "execution": {
     "iopub.execute_input": "2023-06-02T15:40:52.809136Z",
     "iopub.status.busy": "2023-06-02T15:40:52.808359Z",
     "iopub.status.idle": "2023-06-02T15:40:52.839141Z",
     "shell.execute_reply": "2023-06-02T15:40:52.837685Z",
     "shell.execute_reply.started": "2023-06-02T15:40:52.809096Z"
    }
   },
   "outputs": [
    {
     "data": {
      "text/plain": [
       "black        48176\n",
       "gray         34984\n",
       "beige        11931\n",
       "tan           8658\n",
       "—             3380\n",
       "brown         1664\n",
       "red            264\n",
       "blue           241\n",
       "silver         225\n",
       "off-white      107\n",
       "gold            64\n",
       "purple          58\n",
       "green           44\n",
       "burgundy        34\n",
       "orange          33\n",
       "white           33\n",
       "yellow           4\n",
       "Name: interior, dtype: int64"
      ]
     },
     "execution_count": 92,
     "metadata": {},
     "output_type": "execute_result"
    }
   ],
   "source": [
    "data_test['interior'].value_counts()"
   ]
  },
  {
   "cell_type": "code",
   "execution_count": 93,
   "metadata": {
    "execution": {
     "iopub.execute_input": "2023-06-02T15:40:52.841269Z",
     "iopub.status.busy": "2023-06-02T15:40:52.840893Z",
     "iopub.status.idle": "2023-06-02T15:40:52.874287Z",
     "shell.execute_reply": "2023-06-02T15:40:52.872811Z",
     "shell.execute_reply.started": "2023-06-02T15:40:52.841226Z"
    }
   },
   "outputs": [],
   "source": [
    "data_test['interior'] = data_test['interior'].fillna('—')"
   ]
  },
  {
   "cell_type": "code",
   "execution_count": 94,
   "metadata": {
    "execution": {
     "iopub.execute_input": "2023-06-02T15:40:52.876868Z",
     "iopub.status.busy": "2023-06-02T15:40:52.875875Z",
     "iopub.status.idle": "2023-06-02T15:40:53.230469Z",
     "shell.execute_reply": "2023-06-02T15:40:53.229641Z",
     "shell.execute_reply.started": "2023-06-02T15:40:52.876835Z"
    }
   },
   "outputs": [
    {
     "data": {
      "text/plain": [
       "year            0\n",
       "make            0\n",
       "model           0\n",
       "trim            0\n",
       "body            0\n",
       "transmission    0\n",
       "vin             0\n",
       "state           0\n",
       "condition       0\n",
       "odometer        0\n",
       "color           0\n",
       "interior        0\n",
       "seller          0\n",
       "saledate        0\n",
       "sale_year       0\n",
       "sale_month      0\n",
       "dtype: int64"
      ]
     },
     "execution_count": 94,
     "metadata": {},
     "output_type": "execute_result"
    }
   ],
   "source": [
    "data_test.isnull().sum()"
   ]
  },
  {
   "cell_type": "markdown",
   "metadata": {},
   "source": [
    "**Все столбцы исследовали и заполнили пропуски.**"
   ]
  },
  {
   "cell_type": "markdown",
   "metadata": {},
   "source": [
    "### Изучаем коэффициент корреляции целевого признака с остальными признаками."
   ]
  },
  {
   "cell_type": "code",
   "execution_count": 95,
   "metadata": {
    "execution": {
     "iopub.execute_input": "2023-06-02T15:40:53.232170Z",
     "iopub.status.busy": "2023-06-02T15:40:53.231689Z",
     "iopub.status.idle": "2023-06-02T15:40:53.307318Z",
     "shell.execute_reply": "2023-06-02T15:40:53.306212Z",
     "shell.execute_reply.started": "2023-06-02T15:40:53.232141Z"
    }
   },
   "outputs": [
    {
     "data": {
      "text/html": [
       "<div>\n",
       "<style scoped>\n",
       "    .dataframe tbody tr th:only-of-type {\n",
       "        vertical-align: middle;\n",
       "    }\n",
       "\n",
       "    .dataframe tbody tr th {\n",
       "        vertical-align: top;\n",
       "    }\n",
       "\n",
       "    .dataframe thead th {\n",
       "        text-align: right;\n",
       "    }\n",
       "</style>\n",
       "<table border=\"1\" class=\"dataframe\">\n",
       "  <thead>\n",
       "    <tr style=\"text-align: right;\">\n",
       "      <th></th>\n",
       "      <th>sellingprice</th>\n",
       "    </tr>\n",
       "  </thead>\n",
       "  <tbody>\n",
       "    <tr>\n",
       "      <th>sellingprice</th>\n",
       "      <td>1.000000</td>\n",
       "    </tr>\n",
       "    <tr>\n",
       "      <th>year</th>\n",
       "      <td>0.586847</td>\n",
       "    </tr>\n",
       "    <tr>\n",
       "      <th>condition</th>\n",
       "      <td>0.544253</td>\n",
       "    </tr>\n",
       "    <tr>\n",
       "      <th>sale_year</th>\n",
       "      <td>0.077356</td>\n",
       "    </tr>\n",
       "    <tr>\n",
       "      <th>sale_month</th>\n",
       "      <td>-0.031276</td>\n",
       "    </tr>\n",
       "    <tr>\n",
       "      <th>odometer</th>\n",
       "      <td>-0.583120</td>\n",
       "    </tr>\n",
       "  </tbody>\n",
       "</table>\n",
       "</div>"
      ],
      "text/plain": [
       "              sellingprice\n",
       "sellingprice      1.000000\n",
       "year              0.586847\n",
       "condition         0.544253\n",
       "sale_year         0.077356\n",
       "sale_month       -0.031276\n",
       "odometer         -0.583120"
      ]
     },
     "execution_count": 95,
     "metadata": {},
     "output_type": "execute_result"
    }
   ],
   "source": [
    "data_train.corr()[['sellingprice']].sort_values('sellingprice', ascending=False)"
   ]
  },
  {
   "cell_type": "markdown",
   "metadata": {},
   "source": [
    "**На стоимость автомобиля очень сильно влияют возраст автомобиля, состояние автомобиля и пробег автомобиля.**"
   ]
  },
  {
   "cell_type": "markdown",
   "metadata": {},
   "source": [
    "### Кодирование категориальных признаков."
   ]
  },
  {
   "cell_type": "markdown",
   "metadata": {},
   "source": [
    "**Категориальные признаки закодируем методом TargetEncoder**"
   ]
  },
  {
   "cell_type": "code",
   "execution_count": 96,
   "metadata": {
    "execution": {
     "iopub.execute_input": "2023-06-02T15:40:53.309788Z",
     "iopub.status.busy": "2023-06-02T15:40:53.309096Z",
     "iopub.status.idle": "2023-06-02T15:40:53.315354Z",
     "shell.execute_reply": "2023-06-02T15:40:53.314297Z",
     "shell.execute_reply.started": "2023-06-02T15:40:53.309745Z"
    }
   },
   "outputs": [],
   "source": [
    "cat_columns = ['make', 'model', 'trim', 'body', 'transmission', 'vin', 'state', 'color', 'interior', 'seller']"
   ]
  },
  {
   "cell_type": "code",
   "execution_count": 97,
   "metadata": {
    "execution": {
     "iopub.execute_input": "2023-06-02T15:40:53.316752Z",
     "iopub.status.busy": "2023-06-02T15:40:53.316436Z",
     "iopub.status.idle": "2023-06-02T15:40:53.330043Z",
     "shell.execute_reply": "2023-06-02T15:40:53.328864Z",
     "shell.execute_reply.started": "2023-06-02T15:40:53.316726Z"
    }
   },
   "outputs": [],
   "source": [
    "target_enc = ce.TargetEncoder(cols=cat_columns)"
   ]
  },
  {
   "cell_type": "code",
   "execution_count": 98,
   "metadata": {
    "execution": {
     "iopub.execute_input": "2023-06-02T15:40:53.332945Z",
     "iopub.status.busy": "2023-06-02T15:40:53.332478Z",
     "iopub.status.idle": "2023-06-02T15:41:01.147602Z",
     "shell.execute_reply": "2023-06-02T15:41:01.146501Z",
     "shell.execute_reply.started": "2023-06-02T15:40:53.332903Z"
    }
   },
   "outputs": [
    {
     "data": {
      "text/html": [
       "<style>#sk-container-id-1 {color: black;}#sk-container-id-1 pre{padding: 0;}#sk-container-id-1 div.sk-toggleable {background-color: white;}#sk-container-id-1 label.sk-toggleable__label {cursor: pointer;display: block;width: 100%;margin-bottom: 0;padding: 0.3em;box-sizing: border-box;text-align: center;}#sk-container-id-1 label.sk-toggleable__label-arrow:before {content: \"▸\";float: left;margin-right: 0.25em;color: #696969;}#sk-container-id-1 label.sk-toggleable__label-arrow:hover:before {color: black;}#sk-container-id-1 div.sk-estimator:hover label.sk-toggleable__label-arrow:before {color: black;}#sk-container-id-1 div.sk-toggleable__content {max-height: 0;max-width: 0;overflow: hidden;text-align: left;background-color: #f0f8ff;}#sk-container-id-1 div.sk-toggleable__content pre {margin: 0.2em;color: black;border-radius: 0.25em;background-color: #f0f8ff;}#sk-container-id-1 input.sk-toggleable__control:checked~div.sk-toggleable__content {max-height: 200px;max-width: 100%;overflow: auto;}#sk-container-id-1 input.sk-toggleable__control:checked~label.sk-toggleable__label-arrow:before {content: \"▾\";}#sk-container-id-1 div.sk-estimator input.sk-toggleable__control:checked~label.sk-toggleable__label {background-color: #d4ebff;}#sk-container-id-1 div.sk-label input.sk-toggleable__control:checked~label.sk-toggleable__label {background-color: #d4ebff;}#sk-container-id-1 input.sk-hidden--visually {border: 0;clip: rect(1px 1px 1px 1px);clip: rect(1px, 1px, 1px, 1px);height: 1px;margin: -1px;overflow: hidden;padding: 0;position: absolute;width: 1px;}#sk-container-id-1 div.sk-estimator {font-family: monospace;background-color: #f0f8ff;border: 1px dotted black;border-radius: 0.25em;box-sizing: border-box;margin-bottom: 0.5em;}#sk-container-id-1 div.sk-estimator:hover {background-color: #d4ebff;}#sk-container-id-1 div.sk-parallel-item::after {content: \"\";width: 100%;border-bottom: 1px solid gray;flex-grow: 1;}#sk-container-id-1 div.sk-label:hover label.sk-toggleable__label {background-color: #d4ebff;}#sk-container-id-1 div.sk-serial::before {content: \"\";position: absolute;border-left: 1px solid gray;box-sizing: border-box;top: 0;bottom: 0;left: 50%;z-index: 0;}#sk-container-id-1 div.sk-serial {display: flex;flex-direction: column;align-items: center;background-color: white;padding-right: 0.2em;padding-left: 0.2em;position: relative;}#sk-container-id-1 div.sk-item {position: relative;z-index: 1;}#sk-container-id-1 div.sk-parallel {display: flex;align-items: stretch;justify-content: center;background-color: white;position: relative;}#sk-container-id-1 div.sk-item::before, #sk-container-id-1 div.sk-parallel-item::before {content: \"\";position: absolute;border-left: 1px solid gray;box-sizing: border-box;top: 0;bottom: 0;left: 50%;z-index: -1;}#sk-container-id-1 div.sk-parallel-item {display: flex;flex-direction: column;z-index: 1;position: relative;background-color: white;}#sk-container-id-1 div.sk-parallel-item:first-child::after {align-self: flex-end;width: 50%;}#sk-container-id-1 div.sk-parallel-item:last-child::after {align-self: flex-start;width: 50%;}#sk-container-id-1 div.sk-parallel-item:only-child::after {width: 0;}#sk-container-id-1 div.sk-dashed-wrapped {border: 1px dashed gray;margin: 0 0.4em 0.5em 0.4em;box-sizing: border-box;padding-bottom: 0.4em;background-color: white;}#sk-container-id-1 div.sk-label label {font-family: monospace;font-weight: bold;display: inline-block;line-height: 1.2em;}#sk-container-id-1 div.sk-label-container {text-align: center;}#sk-container-id-1 div.sk-container {/* jupyter's `normalize.less` sets `[hidden] { display: none; }` but bootstrap.min.css set `[hidden] { display: none !important; }` so we also need the `!important` here to be able to override the default hidden behavior on the sphinx rendered scikit-learn.org. See: https://github.com/scikit-learn/scikit-learn/issues/21755 */display: inline-block !important;position: relative;}#sk-container-id-1 div.sk-text-repr-fallback {display: none;}</style><div id=\"sk-container-id-1\" class=\"sk-top-container\"><div class=\"sk-text-repr-fallback\"><pre>TargetEncoder(cols=[&#x27;make&#x27;, &#x27;model&#x27;, &#x27;trim&#x27;, &#x27;body&#x27;, &#x27;transmission&#x27;, &#x27;vin&#x27;,\n",
       "                    &#x27;state&#x27;, &#x27;color&#x27;, &#x27;interior&#x27;, &#x27;seller&#x27;])</pre><b>In a Jupyter environment, please rerun this cell to show the HTML representation or trust the notebook. <br />On GitHub, the HTML representation is unable to render, please try loading this page with nbviewer.org.</b></div><div class=\"sk-container\" hidden><div class=\"sk-item\"><div class=\"sk-estimator sk-toggleable\"><input class=\"sk-toggleable__control sk-hidden--visually\" id=\"sk-estimator-id-1\" type=\"checkbox\" checked><label for=\"sk-estimator-id-1\" class=\"sk-toggleable__label sk-toggleable__label-arrow\">TargetEncoder</label><div class=\"sk-toggleable__content\"><pre>TargetEncoder(cols=[&#x27;make&#x27;, &#x27;model&#x27;, &#x27;trim&#x27;, &#x27;body&#x27;, &#x27;transmission&#x27;, &#x27;vin&#x27;,\n",
       "                    &#x27;state&#x27;, &#x27;color&#x27;, &#x27;interior&#x27;, &#x27;seller&#x27;])</pre></div></div></div></div></div>"
      ],
      "text/plain": [
       "TargetEncoder(cols=['make', 'model', 'trim', 'body', 'transmission', 'vin',\n",
       "                    'state', 'color', 'interior', 'seller'])"
      ]
     },
     "execution_count": 98,
     "metadata": {},
     "output_type": "execute_result"
    }
   ],
   "source": [
    "target_enc.fit(data_train[cat_columns], data_train['sellingprice'])"
   ]
  },
  {
   "cell_type": "code",
   "execution_count": 99,
   "metadata": {
    "execution": {
     "iopub.execute_input": "2023-06-02T15:41:01.149607Z",
     "iopub.status.busy": "2023-06-02T15:41:01.149157Z",
     "iopub.status.idle": "2023-06-02T15:41:03.502522Z",
     "shell.execute_reply": "2023-06-02T15:41:03.501190Z",
     "shell.execute_reply.started": "2023-06-02T15:41:01.149566Z"
    }
   },
   "outputs": [],
   "source": [
    "train_TE = data_train.join(target_enc.transform(data_train[cat_columns]).add_suffix('_target'))"
   ]
  },
  {
   "cell_type": "code",
   "execution_count": 100,
   "metadata": {
    "execution": {
     "iopub.execute_input": "2023-06-02T15:41:03.504005Z",
     "iopub.status.busy": "2023-06-02T15:41:03.503668Z",
     "iopub.status.idle": "2023-06-02T15:41:03.509771Z",
     "shell.execute_reply": "2023-06-02T15:41:03.508397Z",
     "shell.execute_reply.started": "2023-06-02T15:41:03.503976Z"
    }
   },
   "outputs": [],
   "source": [
    "pd.set_option('display.max_columns', None)"
   ]
  },
  {
   "cell_type": "markdown",
   "metadata": {},
   "source": [
    "**После кодирования удаляем столбцы с категориальными признаками и смотрим корреляцию**"
   ]
  },
  {
   "cell_type": "code",
   "execution_count": 101,
   "metadata": {
    "execution": {
     "iopub.execute_input": "2023-06-02T15:41:03.511434Z",
     "iopub.status.busy": "2023-06-02T15:41:03.511115Z",
     "iopub.status.idle": "2023-06-02T15:41:03.552892Z",
     "shell.execute_reply": "2023-06-02T15:41:03.551805Z",
     "shell.execute_reply.started": "2023-06-02T15:41:03.511408Z"
    }
   },
   "outputs": [],
   "source": [
    "train_TE = train_TE.drop(cat_columns, axis=1)"
   ]
  },
  {
   "cell_type": "code",
   "execution_count": 102,
   "metadata": {
    "execution": {
     "iopub.execute_input": "2023-06-02T15:41:03.554821Z",
     "iopub.status.busy": "2023-06-02T15:41:03.554422Z",
     "iopub.status.idle": "2023-06-02T15:41:03.976467Z",
     "shell.execute_reply": "2023-06-02T15:41:03.975065Z",
     "shell.execute_reply.started": "2023-06-02T15:41:03.554788Z"
    }
   },
   "outputs": [
    {
     "data": {
      "text/html": [
       "<div>\n",
       "<style scoped>\n",
       "    .dataframe tbody tr th:only-of-type {\n",
       "        vertical-align: middle;\n",
       "    }\n",
       "\n",
       "    .dataframe tbody tr th {\n",
       "        vertical-align: top;\n",
       "    }\n",
       "\n",
       "    .dataframe thead th {\n",
       "        text-align: right;\n",
       "    }\n",
       "</style>\n",
       "<table border=\"1\" class=\"dataframe\">\n",
       "  <thead>\n",
       "    <tr style=\"text-align: right;\">\n",
       "      <th></th>\n",
       "      <th>sellingprice</th>\n",
       "    </tr>\n",
       "  </thead>\n",
       "  <tbody>\n",
       "    <tr>\n",
       "      <th>sellingprice</th>\n",
       "      <td>1.000000</td>\n",
       "    </tr>\n",
       "    <tr>\n",
       "      <th>seller_target</th>\n",
       "      <td>0.687373</td>\n",
       "    </tr>\n",
       "    <tr>\n",
       "      <th>model_target</th>\n",
       "      <td>0.679077</td>\n",
       "    </tr>\n",
       "    <tr>\n",
       "      <th>trim_target</th>\n",
       "      <td>0.642945</td>\n",
       "    </tr>\n",
       "    <tr>\n",
       "      <th>year</th>\n",
       "      <td>0.586847</td>\n",
       "    </tr>\n",
       "    <tr>\n",
       "      <th>condition</th>\n",
       "      <td>0.544253</td>\n",
       "    </tr>\n",
       "    <tr>\n",
       "      <th>make_target</th>\n",
       "      <td>0.451166</td>\n",
       "    </tr>\n",
       "    <tr>\n",
       "      <th>body_target</th>\n",
       "      <td>0.328735</td>\n",
       "    </tr>\n",
       "    <tr>\n",
       "      <th>interior_target</th>\n",
       "      <td>0.243423</td>\n",
       "    </tr>\n",
       "    <tr>\n",
       "      <th>state_target</th>\n",
       "      <td>0.225171</td>\n",
       "    </tr>\n",
       "    <tr>\n",
       "      <th>color_target</th>\n",
       "      <td>0.214679</td>\n",
       "    </tr>\n",
       "    <tr>\n",
       "      <th>sale_year</th>\n",
       "      <td>0.077356</td>\n",
       "    </tr>\n",
       "    <tr>\n",
       "      <th>transmission_target</th>\n",
       "      <td>0.045638</td>\n",
       "    </tr>\n",
       "    <tr>\n",
       "      <th>sale_month</th>\n",
       "      <td>-0.031276</td>\n",
       "    </tr>\n",
       "    <tr>\n",
       "      <th>odometer</th>\n",
       "      <td>-0.583120</td>\n",
       "    </tr>\n",
       "    <tr>\n",
       "      <th>vin_target</th>\n",
       "      <td>NaN</td>\n",
       "    </tr>\n",
       "  </tbody>\n",
       "</table>\n",
       "</div>"
      ],
      "text/plain": [
       "                     sellingprice\n",
       "sellingprice             1.000000\n",
       "seller_target            0.687373\n",
       "model_target             0.679077\n",
       "trim_target              0.642945\n",
       "year                     0.586847\n",
       "condition                0.544253\n",
       "make_target              0.451166\n",
       "body_target              0.328735\n",
       "interior_target          0.243423\n",
       "state_target             0.225171\n",
       "color_target             0.214679\n",
       "sale_year                0.077356\n",
       "transmission_target      0.045638\n",
       "sale_month              -0.031276\n",
       "odometer                -0.583120\n",
       "vin_target                    NaN"
      ]
     },
     "execution_count": 102,
     "metadata": {},
     "output_type": "execute_result"
    }
   ],
   "source": [
    "train_TE.corr()[['sellingprice']].sort_values('sellingprice', ascending=False)"
   ]
  },
  {
   "cell_type": "markdown",
   "metadata": {},
   "source": [
    "**На стоимость автомобиля, больше всего влияют марка, модель, комплектация, возраст, состояние и пробег автомобиля. Все признаки кроме `vin` оставим для обучения модели.**"
   ]
  },
  {
   "cell_type": "code",
   "execution_count": 103,
   "metadata": {
    "execution": {
     "iopub.execute_input": "2023-06-02T15:41:03.978712Z",
     "iopub.status.busy": "2023-06-02T15:41:03.978349Z",
     "iopub.status.idle": "2023-06-02T15:41:04.010871Z",
     "shell.execute_reply": "2023-06-02T15:41:04.009836Z",
     "shell.execute_reply.started": "2023-06-02T15:41:03.978683Z"
    }
   },
   "outputs": [
    {
     "data": {
      "text/html": [
       "<div>\n",
       "<style scoped>\n",
       "    .dataframe tbody tr th:only-of-type {\n",
       "        vertical-align: middle;\n",
       "    }\n",
       "\n",
       "    .dataframe tbody tr th {\n",
       "        vertical-align: top;\n",
       "    }\n",
       "\n",
       "    .dataframe thead th {\n",
       "        text-align: right;\n",
       "    }\n",
       "</style>\n",
       "<table border=\"1\" class=\"dataframe\">\n",
       "  <thead>\n",
       "    <tr style=\"text-align: right;\">\n",
       "      <th></th>\n",
       "      <th>year</th>\n",
       "      <th>condition</th>\n",
       "      <th>odometer</th>\n",
       "      <th>sellingprice</th>\n",
       "      <th>saledate</th>\n",
       "      <th>sale_year</th>\n",
       "      <th>sale_month</th>\n",
       "      <th>make_target</th>\n",
       "      <th>model_target</th>\n",
       "      <th>trim_target</th>\n",
       "      <th>body_target</th>\n",
       "      <th>transmission_target</th>\n",
       "      <th>vin_target</th>\n",
       "      <th>state_target</th>\n",
       "      <th>color_target</th>\n",
       "      <th>interior_target</th>\n",
       "      <th>seller_target</th>\n",
       "    </tr>\n",
       "  </thead>\n",
       "  <tbody>\n",
       "    <tr>\n",
       "      <th>0</th>\n",
       "      <td>2011</td>\n",
       "      <td>4.2</td>\n",
       "      <td>111041.0</td>\n",
       "      <td>12500</td>\n",
       "      <td>2015-06-02 02:30:00</td>\n",
       "      <td>2015</td>\n",
       "      <td>6</td>\n",
       "      <td>14330.130335</td>\n",
       "      <td>18750.455222</td>\n",
       "      <td>14299.992376</td>\n",
       "      <td>16101.931946</td>\n",
       "      <td>13672.010846</td>\n",
       "      <td>13592.209588</td>\n",
       "      <td>7448.989614</td>\n",
       "      <td>15499.045687</td>\n",
       "      <td>15680.215374</td>\n",
       "      <td>7904.449305</td>\n",
       "    </tr>\n",
       "    <tr>\n",
       "      <th>1</th>\n",
       "      <td>2014</td>\n",
       "      <td>3.5</td>\n",
       "      <td>31034.0</td>\n",
       "      <td>14500</td>\n",
       "      <td>2015-02-25 02:00:00</td>\n",
       "      <td>2015</td>\n",
       "      <td>2</td>\n",
       "      <td>14330.130335</td>\n",
       "      <td>12366.645360</td>\n",
       "      <td>11220.154882</td>\n",
       "      <td>11715.115204</td>\n",
       "      <td>13672.010846</td>\n",
       "      <td>13592.209588</td>\n",
       "      <td>14462.472499</td>\n",
       "      <td>15499.045687</td>\n",
       "      <td>15680.215374</td>\n",
       "      <td>18164.501134</td>\n",
       "    </tr>\n",
       "    <tr>\n",
       "      <th>2</th>\n",
       "      <td>2012</td>\n",
       "      <td>2.2</td>\n",
       "      <td>35619.0</td>\n",
       "      <td>9100</td>\n",
       "      <td>2015-06-10 02:30:00</td>\n",
       "      <td>2015</td>\n",
       "      <td>6</td>\n",
       "      <td>11705.846100</td>\n",
       "      <td>8743.003000</td>\n",
       "      <td>8537.994012</td>\n",
       "      <td>11715.115204</td>\n",
       "      <td>13672.010846</td>\n",
       "      <td>13592.209588</td>\n",
       "      <td>13629.736268</td>\n",
       "      <td>15499.045687</td>\n",
       "      <td>15680.215374</td>\n",
       "      <td>13808.318524</td>\n",
       "    </tr>\n",
       "    <tr>\n",
       "      <th>3</th>\n",
       "      <td>2003</td>\n",
       "      <td>2.8</td>\n",
       "      <td>131301.0</td>\n",
       "      <td>13300</td>\n",
       "      <td>2015-06-17 03:00:00</td>\n",
       "      <td>2015</td>\n",
       "      <td>6</td>\n",
       "      <td>15284.787980</td>\n",
       "      <td>18475.112108</td>\n",
       "      <td>13824.966342</td>\n",
       "      <td>16101.931946</td>\n",
       "      <td>13672.010846</td>\n",
       "      <td>13592.209588</td>\n",
       "      <td>13159.645441</td>\n",
       "      <td>8302.543989</td>\n",
       "      <td>13341.925637</td>\n",
       "      <td>16458.695652</td>\n",
       "    </tr>\n",
       "    <tr>\n",
       "      <th>4</th>\n",
       "      <td>2007</td>\n",
       "      <td>2.0</td>\n",
       "      <td>127709.0</td>\n",
       "      <td>1300</td>\n",
       "      <td>2015-02-03 04:00:00</td>\n",
       "      <td>2015</td>\n",
       "      <td>2</td>\n",
       "      <td>14330.130335</td>\n",
       "      <td>12366.645360</td>\n",
       "      <td>14299.992376</td>\n",
       "      <td>11715.115204</td>\n",
       "      <td>13672.010846</td>\n",
       "      <td>13592.209588</td>\n",
       "      <td>7448.989614</td>\n",
       "      <td>15499.045687</td>\n",
       "      <td>15680.215374</td>\n",
       "      <td>904.778831</td>\n",
       "    </tr>\n",
       "    <tr>\n",
       "      <th>...</th>\n",
       "      <td>...</td>\n",
       "      <td>...</td>\n",
       "      <td>...</td>\n",
       "      <td>...</td>\n",
       "      <td>...</td>\n",
       "      <td>...</td>\n",
       "      <td>...</td>\n",
       "      <td>...</td>\n",
       "      <td>...</td>\n",
       "      <td>...</td>\n",
       "      <td>...</td>\n",
       "      <td>...</td>\n",
       "      <td>...</td>\n",
       "      <td>...</td>\n",
       "      <td>...</td>\n",
       "      <td>...</td>\n",
       "      <td>...</td>\n",
       "    </tr>\n",
       "    <tr>\n",
       "      <th>440231</th>\n",
       "      <td>2013</td>\n",
       "      <td>4.5</td>\n",
       "      <td>20434.0</td>\n",
       "      <td>16000</td>\n",
       "      <td>2015-01-20 04:30:00</td>\n",
       "      <td>2015</td>\n",
       "      <td>1</td>\n",
       "      <td>11834.390047</td>\n",
       "      <td>13415.362751</td>\n",
       "      <td>17144.871795</td>\n",
       "      <td>11715.115204</td>\n",
       "      <td>13672.010846</td>\n",
       "      <td>13592.209588</td>\n",
       "      <td>14543.383612</td>\n",
       "      <td>14718.716693</td>\n",
       "      <td>13341.925637</td>\n",
       "      <td>16091.026360</td>\n",
       "    </tr>\n",
       "    <tr>\n",
       "      <th>440232</th>\n",
       "      <td>2014</td>\n",
       "      <td>2.9</td>\n",
       "      <td>14675.0</td>\n",
       "      <td>24250</td>\n",
       "      <td>2015-02-11 02:00:00</td>\n",
       "      <td>2015</td>\n",
       "      <td>2</td>\n",
       "      <td>12347.068338</td>\n",
       "      <td>19104.089710</td>\n",
       "      <td>20650.000000</td>\n",
       "      <td>10106.121746</td>\n",
       "      <td>13672.010846</td>\n",
       "      <td>13592.209588</td>\n",
       "      <td>13872.295449</td>\n",
       "      <td>14718.716693</td>\n",
       "      <td>15680.215374</td>\n",
       "      <td>14167.141009</td>\n",
       "    </tr>\n",
       "    <tr>\n",
       "      <th>440233</th>\n",
       "      <td>2008</td>\n",
       "      <td>3.7</td>\n",
       "      <td>102552.0</td>\n",
       "      <td>16750</td>\n",
       "      <td>2015-03-03 04:30:00</td>\n",
       "      <td>2015</td>\n",
       "      <td>3</td>\n",
       "      <td>21840.049720</td>\n",
       "      <td>33290.256654</td>\n",
       "      <td>36335.047753</td>\n",
       "      <td>15791.662133</td>\n",
       "      <td>13672.010846</td>\n",
       "      <td>13592.209588</td>\n",
       "      <td>14543.383612</td>\n",
       "      <td>13931.332654</td>\n",
       "      <td>15680.215374</td>\n",
       "      <td>13592.209588</td>\n",
       "    </tr>\n",
       "    <tr>\n",
       "      <th>440234</th>\n",
       "      <td>2014</td>\n",
       "      <td>3.0</td>\n",
       "      <td>29367.0</td>\n",
       "      <td>33000</td>\n",
       "      <td>2015-01-14 02:05:00</td>\n",
       "      <td>2015</td>\n",
       "      <td>1</td>\n",
       "      <td>25234.263641</td>\n",
       "      <td>30745.254777</td>\n",
       "      <td>15282.679122</td>\n",
       "      <td>21569.694611</td>\n",
       "      <td>13672.010846</td>\n",
       "      <td>13592.209588</td>\n",
       "      <td>13159.645441</td>\n",
       "      <td>14718.716693</td>\n",
       "      <td>11002.863259</td>\n",
       "      <td>33302.906977</td>\n",
       "    </tr>\n",
       "    <tr>\n",
       "      <th>440235</th>\n",
       "      <td>2013</td>\n",
       "      <td>3.5</td>\n",
       "      <td>27924.0</td>\n",
       "      <td>14500</td>\n",
       "      <td>2015-01-15 02:00:00</td>\n",
       "      <td>2015</td>\n",
       "      <td>1</td>\n",
       "      <td>11705.846100</td>\n",
       "      <td>13804.663068</td>\n",
       "      <td>15259.274029</td>\n",
       "      <td>16101.931946</td>\n",
       "      <td>13672.010846</td>\n",
       "      <td>13592.209588</td>\n",
       "      <td>14772.454131</td>\n",
       "      <td>11762.329907</td>\n",
       "      <td>11002.863259</td>\n",
       "      <td>18906.746032</td>\n",
       "    </tr>\n",
       "  </tbody>\n",
       "</table>\n",
       "<p>440236 rows × 17 columns</p>\n",
       "</div>"
      ],
      "text/plain": [
       "        year  condition  odometer  sellingprice            saledate  \\\n",
       "0       2011        4.2  111041.0         12500 2015-06-02 02:30:00   \n",
       "1       2014        3.5   31034.0         14500 2015-02-25 02:00:00   \n",
       "2       2012        2.2   35619.0          9100 2015-06-10 02:30:00   \n",
       "3       2003        2.8  131301.0         13300 2015-06-17 03:00:00   \n",
       "4       2007        2.0  127709.0          1300 2015-02-03 04:00:00   \n",
       "...      ...        ...       ...           ...                 ...   \n",
       "440231  2013        4.5   20434.0         16000 2015-01-20 04:30:00   \n",
       "440232  2014        2.9   14675.0         24250 2015-02-11 02:00:00   \n",
       "440233  2008        3.7  102552.0         16750 2015-03-03 04:30:00   \n",
       "440234  2014        3.0   29367.0         33000 2015-01-14 02:05:00   \n",
       "440235  2013        3.5   27924.0         14500 2015-01-15 02:00:00   \n",
       "\n",
       "        sale_year  sale_month   make_target  model_target   trim_target  \\\n",
       "0            2015           6  14330.130335  18750.455222  14299.992376   \n",
       "1            2015           2  14330.130335  12366.645360  11220.154882   \n",
       "2            2015           6  11705.846100   8743.003000   8537.994012   \n",
       "3            2015           6  15284.787980  18475.112108  13824.966342   \n",
       "4            2015           2  14330.130335  12366.645360  14299.992376   \n",
       "...           ...         ...           ...           ...           ...   \n",
       "440231       2015           1  11834.390047  13415.362751  17144.871795   \n",
       "440232       2015           2  12347.068338  19104.089710  20650.000000   \n",
       "440233       2015           3  21840.049720  33290.256654  36335.047753   \n",
       "440234       2015           1  25234.263641  30745.254777  15282.679122   \n",
       "440235       2015           1  11705.846100  13804.663068  15259.274029   \n",
       "\n",
       "         body_target  transmission_target    vin_target  state_target  \\\n",
       "0       16101.931946         13672.010846  13592.209588   7448.989614   \n",
       "1       11715.115204         13672.010846  13592.209588  14462.472499   \n",
       "2       11715.115204         13672.010846  13592.209588  13629.736268   \n",
       "3       16101.931946         13672.010846  13592.209588  13159.645441   \n",
       "4       11715.115204         13672.010846  13592.209588   7448.989614   \n",
       "...              ...                  ...           ...           ...   \n",
       "440231  11715.115204         13672.010846  13592.209588  14543.383612   \n",
       "440232  10106.121746         13672.010846  13592.209588  13872.295449   \n",
       "440233  15791.662133         13672.010846  13592.209588  14543.383612   \n",
       "440234  21569.694611         13672.010846  13592.209588  13159.645441   \n",
       "440235  16101.931946         13672.010846  13592.209588  14772.454131   \n",
       "\n",
       "        color_target  interior_target  seller_target  \n",
       "0       15499.045687     15680.215374    7904.449305  \n",
       "1       15499.045687     15680.215374   18164.501134  \n",
       "2       15499.045687     15680.215374   13808.318524  \n",
       "3        8302.543989     13341.925637   16458.695652  \n",
       "4       15499.045687     15680.215374     904.778831  \n",
       "...              ...              ...            ...  \n",
       "440231  14718.716693     13341.925637   16091.026360  \n",
       "440232  14718.716693     15680.215374   14167.141009  \n",
       "440233  13931.332654     15680.215374   13592.209588  \n",
       "440234  14718.716693     11002.863259   33302.906977  \n",
       "440235  11762.329907     11002.863259   18906.746032  \n",
       "\n",
       "[440236 rows x 17 columns]"
      ]
     },
     "execution_count": 103,
     "metadata": {},
     "output_type": "execute_result"
    }
   ],
   "source": [
    "train_TE"
   ]
  },
  {
   "cell_type": "markdown",
   "metadata": {},
   "source": [
    "**Также кодируем и тестовый датафрейм**"
   ]
  },
  {
   "cell_type": "code",
   "execution_count": 104,
   "metadata": {
    "execution": {
     "iopub.execute_input": "2023-06-02T15:41:04.012732Z",
     "iopub.status.busy": "2023-06-02T15:41:04.012319Z",
     "iopub.status.idle": "2023-06-02T15:41:04.654203Z",
     "shell.execute_reply": "2023-06-02T15:41:04.653238Z",
     "shell.execute_reply.started": "2023-06-02T15:41:04.012701Z"
    }
   },
   "outputs": [],
   "source": [
    "test_TE = data_test.join(target_enc.transform(data_test[cat_columns]).add_suffix('_target'))"
   ]
  },
  {
   "cell_type": "code",
   "execution_count": 105,
   "metadata": {
    "execution": {
     "iopub.execute_input": "2023-06-02T15:41:04.656278Z",
     "iopub.status.busy": "2023-06-02T15:41:04.655844Z",
     "iopub.status.idle": "2023-06-02T15:41:04.670160Z",
     "shell.execute_reply": "2023-06-02T15:41:04.668988Z",
     "shell.execute_reply.started": "2023-06-02T15:41:04.656239Z"
    }
   },
   "outputs": [],
   "source": [
    "test_TE = test_TE.drop(cat_columns, axis=1)"
   ]
  },
  {
   "cell_type": "code",
   "execution_count": 106,
   "metadata": {
    "execution": {
     "iopub.execute_input": "2023-06-02T15:41:04.673139Z",
     "iopub.status.busy": "2023-06-02T15:41:04.672239Z",
     "iopub.status.idle": "2023-06-02T15:41:04.707667Z",
     "shell.execute_reply": "2023-06-02T15:41:04.706529Z",
     "shell.execute_reply.started": "2023-06-02T15:41:04.673097Z"
    }
   },
   "outputs": [
    {
     "data": {
      "text/html": [
       "<div>\n",
       "<style scoped>\n",
       "    .dataframe tbody tr th:only-of-type {\n",
       "        vertical-align: middle;\n",
       "    }\n",
       "\n",
       "    .dataframe tbody tr th {\n",
       "        vertical-align: top;\n",
       "    }\n",
       "\n",
       "    .dataframe thead th {\n",
       "        text-align: right;\n",
       "    }\n",
       "</style>\n",
       "<table border=\"1\" class=\"dataframe\">\n",
       "  <thead>\n",
       "    <tr style=\"text-align: right;\">\n",
       "      <th></th>\n",
       "      <th>year</th>\n",
       "      <th>condition</th>\n",
       "      <th>odometer</th>\n",
       "      <th>saledate</th>\n",
       "      <th>sale_year</th>\n",
       "      <th>sale_month</th>\n",
       "      <th>make_target</th>\n",
       "      <th>model_target</th>\n",
       "      <th>trim_target</th>\n",
       "      <th>body_target</th>\n",
       "      <th>transmission_target</th>\n",
       "      <th>vin_target</th>\n",
       "      <th>state_target</th>\n",
       "      <th>color_target</th>\n",
       "      <th>interior_target</th>\n",
       "      <th>seller_target</th>\n",
       "    </tr>\n",
       "  </thead>\n",
       "  <tbody>\n",
       "    <tr>\n",
       "      <th>0</th>\n",
       "      <td>2005</td>\n",
       "      <td>2.7</td>\n",
       "      <td>116970.0</td>\n",
       "      <td>2015-01-14 04:30:00</td>\n",
       "      <td>2015</td>\n",
       "      <td>1</td>\n",
       "      <td>14960.647280</td>\n",
       "      <td>10603.919127</td>\n",
       "      <td>13824.966342</td>\n",
       "      <td>11715.115204</td>\n",
       "      <td>13672.010846</td>\n",
       "      <td>13592.209588</td>\n",
       "      <td>14543.383612</td>\n",
       "      <td>11762.329907</td>\n",
       "      <td>15680.215374</td>\n",
       "      <td>11514.453125</td>\n",
       "    </tr>\n",
       "    <tr>\n",
       "      <th>1</th>\n",
       "      <td>2014</td>\n",
       "      <td>4.4</td>\n",
       "      <td>6286.0</td>\n",
       "      <td>2015-02-27 01:00:00</td>\n",
       "      <td>2015</td>\n",
       "      <td>2</td>\n",
       "      <td>16765.228261</td>\n",
       "      <td>19510.273973</td>\n",
       "      <td>15471.360759</td>\n",
       "      <td>13794.867381</td>\n",
       "      <td>13672.010846</td>\n",
       "      <td>13592.209588</td>\n",
       "      <td>15942.628868</td>\n",
       "      <td>14718.716693</td>\n",
       "      <td>11002.863259</td>\n",
       "      <td>19843.157583</td>\n",
       "    </tr>\n",
       "    <tr>\n",
       "      <th>2</th>\n",
       "      <td>2013</td>\n",
       "      <td>4.6</td>\n",
       "      <td>11831.0</td>\n",
       "      <td>2015-02-24 01:30:00</td>\n",
       "      <td>2015</td>\n",
       "      <td>2</td>\n",
       "      <td>11705.846100</td>\n",
       "      <td>13032.931236</td>\n",
       "      <td>12542.081408</td>\n",
       "      <td>16101.931946</td>\n",
       "      <td>13672.010846</td>\n",
       "      <td>13592.209588</td>\n",
       "      <td>14421.217996</td>\n",
       "      <td>13931.332654</td>\n",
       "      <td>15680.215374</td>\n",
       "      <td>13808.318524</td>\n",
       "    </tr>\n",
       "    <tr>\n",
       "      <th>3</th>\n",
       "      <td>2013</td>\n",
       "      <td>2.3</td>\n",
       "      <td>57105.0</td>\n",
       "      <td>2015-03-06 02:00:00</td>\n",
       "      <td>2015</td>\n",
       "      <td>3</td>\n",
       "      <td>11787.176014</td>\n",
       "      <td>7944.597903</td>\n",
       "      <td>9822.020163</td>\n",
       "      <td>11715.115204</td>\n",
       "      <td>13672.010846</td>\n",
       "      <td>13592.209588</td>\n",
       "      <td>13836.098647</td>\n",
       "      <td>11762.329907</td>\n",
       "      <td>15680.215374</td>\n",
       "      <td>9451.948052</td>\n",
       "    </tr>\n",
       "    <tr>\n",
       "      <th>4</th>\n",
       "      <td>2013</td>\n",
       "      <td>2.9</td>\n",
       "      <td>31083.0</td>\n",
       "      <td>2015-06-03 03:30:00</td>\n",
       "      <td>2015</td>\n",
       "      <td>6</td>\n",
       "      <td>11705.846100</td>\n",
       "      <td>13229.944000</td>\n",
       "      <td>15259.274029</td>\n",
       "      <td>21569.694611</td>\n",
       "      <td>13672.010846</td>\n",
       "      <td>13592.209588</td>\n",
       "      <td>16975.481679</td>\n",
       "      <td>15499.045687</td>\n",
       "      <td>15680.215374</td>\n",
       "      <td>22213.175775</td>\n",
       "    </tr>\n",
       "    <tr>\n",
       "      <th>...</th>\n",
       "      <td>...</td>\n",
       "      <td>...</td>\n",
       "      <td>...</td>\n",
       "      <td>...</td>\n",
       "      <td>...</td>\n",
       "      <td>...</td>\n",
       "      <td>...</td>\n",
       "      <td>...</td>\n",
       "      <td>...</td>\n",
       "      <td>...</td>\n",
       "      <td>...</td>\n",
       "      <td>...</td>\n",
       "      <td>...</td>\n",
       "      <td>...</td>\n",
       "      <td>...</td>\n",
       "      <td>...</td>\n",
       "    </tr>\n",
       "    <tr>\n",
       "      <th>110053</th>\n",
       "      <td>2011</td>\n",
       "      <td>3.8</td>\n",
       "      <td>66085.0</td>\n",
       "      <td>2015-01-15 03:30:00</td>\n",
       "      <td>2015</td>\n",
       "      <td>1</td>\n",
       "      <td>14720.982311</td>\n",
       "      <td>21666.634398</td>\n",
       "      <td>12423.209800</td>\n",
       "      <td>16101.931946</td>\n",
       "      <td>13672.010846</td>\n",
       "      <td>13592.209588</td>\n",
       "      <td>14543.383612</td>\n",
       "      <td>12575.836096</td>\n",
       "      <td>15680.215374</td>\n",
       "      <td>10982.548261</td>\n",
       "    </tr>\n",
       "    <tr>\n",
       "      <th>110054</th>\n",
       "      <td>2014</td>\n",
       "      <td>4.8</td>\n",
       "      <td>17588.0</td>\n",
       "      <td>2015-06-15 11:00:00</td>\n",
       "      <td>2015</td>\n",
       "      <td>6</td>\n",
       "      <td>19902.431638</td>\n",
       "      <td>19190.191147</td>\n",
       "      <td>13824.966342</td>\n",
       "      <td>11715.115204</td>\n",
       "      <td>13672.010846</td>\n",
       "      <td>13592.209588</td>\n",
       "      <td>13836.098647</td>\n",
       "      <td>13931.332654</td>\n",
       "      <td>15680.215374</td>\n",
       "      <td>25786.529680</td>\n",
       "    </tr>\n",
       "    <tr>\n",
       "      <th>110055</th>\n",
       "      <td>2004</td>\n",
       "      <td>2.9</td>\n",
       "      <td>124036.0</td>\n",
       "      <td>2015-02-05 01:35:00</td>\n",
       "      <td>2015</td>\n",
       "      <td>2</td>\n",
       "      <td>11705.846100</td>\n",
       "      <td>13072.888611</td>\n",
       "      <td>6872.857143</td>\n",
       "      <td>11715.115204</td>\n",
       "      <td>13672.010846</td>\n",
       "      <td>13592.209588</td>\n",
       "      <td>8608.980623</td>\n",
       "      <td>11762.329907</td>\n",
       "      <td>11002.863259</td>\n",
       "      <td>10362.281977</td>\n",
       "    </tr>\n",
       "    <tr>\n",
       "      <th>110056</th>\n",
       "      <td>2013</td>\n",
       "      <td>2.2</td>\n",
       "      <td>27169.0</td>\n",
       "      <td>2015-06-17 03:30:00</td>\n",
       "      <td>2015</td>\n",
       "      <td>6</td>\n",
       "      <td>11705.846100</td>\n",
       "      <td>15704.181185</td>\n",
       "      <td>13824.966342</td>\n",
       "      <td>15791.662133</td>\n",
       "      <td>11110.293860</td>\n",
       "      <td>13592.209588</td>\n",
       "      <td>13159.645441</td>\n",
       "      <td>17926.340296</td>\n",
       "      <td>15680.215374</td>\n",
       "      <td>13051.650672</td>\n",
       "    </tr>\n",
       "    <tr>\n",
       "      <th>110057</th>\n",
       "      <td>2012</td>\n",
       "      <td>3.7</td>\n",
       "      <td>40399.0</td>\n",
       "      <td>2015-01-09 09:00:00</td>\n",
       "      <td>2015</td>\n",
       "      <td>1</td>\n",
       "      <td>11787.176014</td>\n",
       "      <td>19102.290850</td>\n",
       "      <td>7403.845684</td>\n",
       "      <td>15791.662133</td>\n",
       "      <td>13672.010846</td>\n",
       "      <td>13592.209588</td>\n",
       "      <td>15942.628868</td>\n",
       "      <td>11419.240127</td>\n",
       "      <td>15680.215374</td>\n",
       "      <td>13882.530120</td>\n",
       "    </tr>\n",
       "  </tbody>\n",
       "</table>\n",
       "<p>110058 rows × 16 columns</p>\n",
       "</div>"
      ],
      "text/plain": [
       "        year  condition  odometer            saledate  sale_year  sale_month  \\\n",
       "0       2005        2.7  116970.0 2015-01-14 04:30:00       2015           1   \n",
       "1       2014        4.4    6286.0 2015-02-27 01:00:00       2015           2   \n",
       "2       2013        4.6   11831.0 2015-02-24 01:30:00       2015           2   \n",
       "3       2013        2.3   57105.0 2015-03-06 02:00:00       2015           3   \n",
       "4       2013        2.9   31083.0 2015-06-03 03:30:00       2015           6   \n",
       "...      ...        ...       ...                 ...        ...         ...   \n",
       "110053  2011        3.8   66085.0 2015-01-15 03:30:00       2015           1   \n",
       "110054  2014        4.8   17588.0 2015-06-15 11:00:00       2015           6   \n",
       "110055  2004        2.9  124036.0 2015-02-05 01:35:00       2015           2   \n",
       "110056  2013        2.2   27169.0 2015-06-17 03:30:00       2015           6   \n",
       "110057  2012        3.7   40399.0 2015-01-09 09:00:00       2015           1   \n",
       "\n",
       "         make_target  model_target   trim_target   body_target  \\\n",
       "0       14960.647280  10603.919127  13824.966342  11715.115204   \n",
       "1       16765.228261  19510.273973  15471.360759  13794.867381   \n",
       "2       11705.846100  13032.931236  12542.081408  16101.931946   \n",
       "3       11787.176014   7944.597903   9822.020163  11715.115204   \n",
       "4       11705.846100  13229.944000  15259.274029  21569.694611   \n",
       "...              ...           ...           ...           ...   \n",
       "110053  14720.982311  21666.634398  12423.209800  16101.931946   \n",
       "110054  19902.431638  19190.191147  13824.966342  11715.115204   \n",
       "110055  11705.846100  13072.888611   6872.857143  11715.115204   \n",
       "110056  11705.846100  15704.181185  13824.966342  15791.662133   \n",
       "110057  11787.176014  19102.290850   7403.845684  15791.662133   \n",
       "\n",
       "        transmission_target    vin_target  state_target  color_target  \\\n",
       "0              13672.010846  13592.209588  14543.383612  11762.329907   \n",
       "1              13672.010846  13592.209588  15942.628868  14718.716693   \n",
       "2              13672.010846  13592.209588  14421.217996  13931.332654   \n",
       "3              13672.010846  13592.209588  13836.098647  11762.329907   \n",
       "4              13672.010846  13592.209588  16975.481679  15499.045687   \n",
       "...                     ...           ...           ...           ...   \n",
       "110053         13672.010846  13592.209588  14543.383612  12575.836096   \n",
       "110054         13672.010846  13592.209588  13836.098647  13931.332654   \n",
       "110055         13672.010846  13592.209588   8608.980623  11762.329907   \n",
       "110056         11110.293860  13592.209588  13159.645441  17926.340296   \n",
       "110057         13672.010846  13592.209588  15942.628868  11419.240127   \n",
       "\n",
       "        interior_target  seller_target  \n",
       "0          15680.215374   11514.453125  \n",
       "1          11002.863259   19843.157583  \n",
       "2          15680.215374   13808.318524  \n",
       "3          15680.215374    9451.948052  \n",
       "4          15680.215374   22213.175775  \n",
       "...                 ...            ...  \n",
       "110053     15680.215374   10982.548261  \n",
       "110054     15680.215374   25786.529680  \n",
       "110055     11002.863259   10362.281977  \n",
       "110056     15680.215374   13051.650672  \n",
       "110057     15680.215374   13882.530120  \n",
       "\n",
       "[110058 rows x 16 columns]"
      ]
     },
     "execution_count": 106,
     "metadata": {},
     "output_type": "execute_result"
    }
   ],
   "source": [
    "test_TE"
   ]
  },
  {
   "cell_type": "markdown",
   "metadata": {},
   "source": [
    "**Делим тренировочный датасет на тренировочную и тестовую выборки и подбираем гиперпараметры с помощью кроссвалидации.**"
   ]
  },
  {
   "cell_type": "code",
   "execution_count": 107,
   "metadata": {
    "execution": {
     "iopub.execute_input": "2023-06-02T15:41:04.711815Z",
     "iopub.status.busy": "2023-06-02T15:41:04.710758Z",
     "iopub.status.idle": "2023-06-02T15:41:04.841981Z",
     "shell.execute_reply": "2023-06-02T15:41:04.840911Z",
     "shell.execute_reply.started": "2023-06-02T15:41:04.711771Z"
    }
   },
   "outputs": [],
   "source": [
    "train, test = train_test_split(train_TE,train_size=0.8,random_state=42)"
   ]
  },
  {
   "cell_type": "code",
   "execution_count": 108,
   "metadata": {
    "execution": {
     "iopub.execute_input": "2023-06-02T15:41:04.846147Z",
     "iopub.status.busy": "2023-06-02T15:41:04.845673Z",
     "iopub.status.idle": "2023-06-02T15:41:04.851739Z",
     "shell.execute_reply": "2023-06-02T15:41:04.850606Z",
     "shell.execute_reply.started": "2023-06-02T15:41:04.846112Z"
    }
   },
   "outputs": [],
   "source": [
    "X = ['year', 'make_target', 'model_target', 'trim_target', 'body_target', 'transmission_target',\n",
    "       'state_target', 'condition', 'odometer', 'color_target', 'interior_target', 'seller_target', 'sale_year', 'sale_month']\n",
    "\n",
    "y = ['sellingprice']"
   ]
  },
  {
   "cell_type": "code",
   "execution_count": 109,
   "metadata": {
    "execution": {
     "iopub.execute_input": "2023-06-02T15:41:04.854224Z",
     "iopub.status.busy": "2023-06-02T15:41:04.852964Z",
     "iopub.status.idle": "2023-06-02T15:41:04.906757Z",
     "shell.execute_reply": "2023-06-02T15:41:04.905337Z",
     "shell.execute_reply.started": "2023-06-02T15:41:04.854180Z"
    }
   },
   "outputs": [],
   "source": [
    "train_data = Pool(data=train[X],\n",
    "                  label=train[y]\n",
    "                 )"
   ]
  },
  {
   "cell_type": "code",
   "execution_count": 110,
   "metadata": {
    "execution": {
     "iopub.execute_input": "2023-06-02T15:41:04.909119Z",
     "iopub.status.busy": "2023-06-02T15:41:04.908645Z",
     "iopub.status.idle": "2023-06-02T15:41:04.926063Z",
     "shell.execute_reply": "2023-06-02T15:41:04.924863Z",
     "shell.execute_reply.started": "2023-06-02T15:41:04.909077Z"
    }
   },
   "outputs": [],
   "source": [
    "test_data = Pool(data=test[X],\n",
    "                  label=test[y]\n",
    "                 )"
   ]
  },
  {
   "cell_type": "code",
   "execution_count": 111,
   "metadata": {
    "execution": {
     "iopub.execute_input": "2023-06-02T15:41:04.928034Z",
     "iopub.status.busy": "2023-06-02T15:41:04.927484Z",
     "iopub.status.idle": "2023-06-02T15:41:04.935372Z",
     "shell.execute_reply": "2023-06-02T15:41:04.934257Z",
     "shell.execute_reply.started": "2023-06-02T15:41:04.928003Z"
    }
   },
   "outputs": [],
   "source": [
    "params = {'iterations': 1000,\n",
    "          'eval_metric': 'MAPE',\n",
    "          'loss_function': 'RMSE',\n",
    "              'learning_rate': 0.2,\n",
    "              'random_seed': 42,\n",
    "              'verbose':100}"
   ]
  },
  {
   "cell_type": "code",
   "execution_count": 112,
   "metadata": {
    "execution": {
     "iopub.execute_input": "2023-06-02T15:41:04.937256Z",
     "iopub.status.busy": "2023-06-02T15:41:04.936749Z",
     "iopub.status.idle": "2023-06-02T15:43:42.089313Z",
     "shell.execute_reply": "2023-06-02T15:43:42.087236Z",
     "shell.execute_reply.started": "2023-06-02T15:41:04.937215Z"
    }
   },
   "outputs": [
    {
     "name": "stdout",
     "output_type": "stream",
     "text": [
      "Training on fold [0/5]\n",
      "\n",
      "bestTest = 0.2616178068\n",
      "bestIteration = 749\n",
      "\n",
      "Training on fold [1/5]\n",
      "\n",
      "bestTest = 0.1583978605\n",
      "bestIteration = 998\n",
      "\n",
      "Training on fold [2/5]\n",
      "\n",
      "bestTest = 0.1588039411\n",
      "bestIteration = 999\n",
      "\n",
      "Training on fold [3/5]\n",
      "\n",
      "bestTest = 0.1658545099\n",
      "bestIteration = 991\n",
      "\n",
      "Training on fold [4/5]\n",
      "\n",
      "bestTest = 0.1559459463\n",
      "bestIteration = 999\n",
      "\n"
     ]
    }
   ],
   "source": [
    "cv_data = cv(\n",
    "    params = params,\n",
    "    pool = train_data,\n",
    "    fold_count=5,\n",
    "    shuffle=True,\n",
    "    partition_random_seed=0,\n",
    "    stratified=False,\n",
    "    verbose=False,\n",
    "    early_stopping_rounds=200\n",
    ")"
   ]
  },
  {
   "cell_type": "code",
   "execution_count": 113,
   "metadata": {
    "execution": {
     "iopub.execute_input": "2023-06-02T15:43:42.090823Z",
     "iopub.status.busy": "2023-06-02T15:43:42.090522Z",
     "iopub.status.idle": "2023-06-02T15:43:42.108214Z",
     "shell.execute_reply": "2023-06-02T15:43:42.107156Z",
     "shell.execute_reply.started": "2023-06-02T15:43:42.090798Z"
    }
   },
   "outputs": [
    {
     "data": {
      "text/html": [
       "<div>\n",
       "<style scoped>\n",
       "    .dataframe tbody tr th:only-of-type {\n",
       "        vertical-align: middle;\n",
       "    }\n",
       "\n",
       "    .dataframe tbody tr th {\n",
       "        vertical-align: top;\n",
       "    }\n",
       "\n",
       "    .dataframe thead th {\n",
       "        text-align: right;\n",
       "    }\n",
       "</style>\n",
       "<table border=\"1\" class=\"dataframe\">\n",
       "  <thead>\n",
       "    <tr style=\"text-align: right;\">\n",
       "      <th></th>\n",
       "      <th>iterations</th>\n",
       "      <th>test-MAPE-mean</th>\n",
       "      <th>test-MAPE-std</th>\n",
       "      <th>train-MAPE-mean</th>\n",
       "      <th>train-MAPE-std</th>\n",
       "      <th>test-RMSE-mean</th>\n",
       "      <th>test-RMSE-std</th>\n",
       "      <th>train-RMSE-mean</th>\n",
       "      <th>train-RMSE-std</th>\n",
       "    </tr>\n",
       "  </thead>\n",
       "  <tbody>\n",
       "    <tr>\n",
       "      <th>0</th>\n",
       "      <td>0</td>\n",
       "      <td>0.772470</td>\n",
       "      <td>0.011954</td>\n",
       "      <td>0.772206</td>\n",
       "      <td>0.003409</td>\n",
       "      <td>13734.224211</td>\n",
       "      <td>51.963547</td>\n",
       "      <td>13733.981640</td>\n",
       "      <td>15.103189</td>\n",
       "    </tr>\n",
       "    <tr>\n",
       "      <th>1</th>\n",
       "      <td>1</td>\n",
       "      <td>0.643658</td>\n",
       "      <td>0.026365</td>\n",
       "      <td>0.642856</td>\n",
       "      <td>0.005193</td>\n",
       "      <td>11388.431506</td>\n",
       "      <td>48.646429</td>\n",
       "      <td>11382.812358</td>\n",
       "      <td>13.796585</td>\n",
       "    </tr>\n",
       "    <tr>\n",
       "      <th>2</th>\n",
       "      <td>2</td>\n",
       "      <td>0.564745</td>\n",
       "      <td>0.033685</td>\n",
       "      <td>0.563470</td>\n",
       "      <td>0.005756</td>\n",
       "      <td>9543.036318</td>\n",
       "      <td>43.647028</td>\n",
       "      <td>9540.025591</td>\n",
       "      <td>17.216090</td>\n",
       "    </tr>\n",
       "    <tr>\n",
       "      <th>3</th>\n",
       "      <td>3</td>\n",
       "      <td>0.511150</td>\n",
       "      <td>0.039119</td>\n",
       "      <td>0.514440</td>\n",
       "      <td>0.009018</td>\n",
       "      <td>8108.263706</td>\n",
       "      <td>43.076381</td>\n",
       "      <td>8107.280295</td>\n",
       "      <td>15.666721</td>\n",
       "    </tr>\n",
       "    <tr>\n",
       "      <th>4</th>\n",
       "      <td>4</td>\n",
       "      <td>0.473011</td>\n",
       "      <td>0.050921</td>\n",
       "      <td>0.471714</td>\n",
       "      <td>0.009003</td>\n",
       "      <td>7004.932898</td>\n",
       "      <td>44.781957</td>\n",
       "      <td>7003.343531</td>\n",
       "      <td>20.386416</td>\n",
       "    </tr>\n",
       "  </tbody>\n",
       "</table>\n",
       "</div>"
      ],
      "text/plain": [
       "   iterations  test-MAPE-mean  test-MAPE-std  train-MAPE-mean  train-MAPE-std  \\\n",
       "0           0        0.772470       0.011954         0.772206        0.003409   \n",
       "1           1        0.643658       0.026365         0.642856        0.005193   \n",
       "2           2        0.564745       0.033685         0.563470        0.005756   \n",
       "3           3        0.511150       0.039119         0.514440        0.009018   \n",
       "4           4        0.473011       0.050921         0.471714        0.009003   \n",
       "\n",
       "   test-RMSE-mean  test-RMSE-std  train-RMSE-mean  train-RMSE-std  \n",
       "0    13734.224211      51.963547     13733.981640       15.103189  \n",
       "1    11388.431506      48.646429     11382.812358       13.796585  \n",
       "2     9543.036318      43.647028      9540.025591       17.216090  \n",
       "3     8108.263706      43.076381      8107.280295       15.666721  \n",
       "4     7004.932898      44.781957      7003.343531       20.386416  "
      ]
     },
     "execution_count": 113,
     "metadata": {},
     "output_type": "execute_result"
    }
   ],
   "source": [
    "cv_data.head()"
   ]
  },
  {
   "cell_type": "code",
   "execution_count": 114,
   "metadata": {
    "execution": {
     "iopub.execute_input": "2023-06-02T15:43:42.109818Z",
     "iopub.status.busy": "2023-06-02T15:43:42.109429Z",
     "iopub.status.idle": "2023-06-02T15:43:42.130731Z",
     "shell.execute_reply": "2023-06-02T15:43:42.129590Z",
     "shell.execute_reply.started": "2023-06-02T15:43:42.109780Z"
    }
   },
   "outputs": [
    {
     "data": {
      "text/html": [
       "<div>\n",
       "<style scoped>\n",
       "    .dataframe tbody tr th:only-of-type {\n",
       "        vertical-align: middle;\n",
       "    }\n",
       "\n",
       "    .dataframe tbody tr th {\n",
       "        vertical-align: top;\n",
       "    }\n",
       "\n",
       "    .dataframe thead th {\n",
       "        text-align: right;\n",
       "    }\n",
       "</style>\n",
       "<table border=\"1\" class=\"dataframe\">\n",
       "  <thead>\n",
       "    <tr style=\"text-align: right;\">\n",
       "      <th></th>\n",
       "      <th>iterations</th>\n",
       "      <th>test-MAPE-mean</th>\n",
       "      <th>test-MAPE-std</th>\n",
       "      <th>train-MAPE-mean</th>\n",
       "      <th>train-MAPE-std</th>\n",
       "      <th>test-RMSE-mean</th>\n",
       "      <th>test-RMSE-std</th>\n",
       "      <th>train-RMSE-mean</th>\n",
       "      <th>train-RMSE-std</th>\n",
       "    </tr>\n",
       "  </thead>\n",
       "  <tbody>\n",
       "    <tr>\n",
       "      <th>991</th>\n",
       "      <td>991</td>\n",
       "      <td>0.180502</td>\n",
       "      <td>0.04638</td>\n",
       "      <td>0.17669</td>\n",
       "      <td>0.009803</td>\n",
       "      <td>1908.400252</td>\n",
       "      <td>50.665108</td>\n",
       "      <td>1730.411205</td>\n",
       "      <td>13.118179</td>\n",
       "    </tr>\n",
       "  </tbody>\n",
       "</table>\n",
       "</div>"
      ],
      "text/plain": [
       "     iterations  test-MAPE-mean  test-MAPE-std  train-MAPE-mean  \\\n",
       "991         991        0.180502        0.04638          0.17669   \n",
       "\n",
       "     train-MAPE-std  test-RMSE-mean  test-RMSE-std  train-RMSE-mean  \\\n",
       "991        0.009803     1908.400252      50.665108      1730.411205   \n",
       "\n",
       "     train-RMSE-std  \n",
       "991       13.118179  "
      ]
     },
     "execution_count": 114,
     "metadata": {},
     "output_type": "execute_result"
    }
   ],
   "source": [
    "cv_data[cv_data['test-MAPE-mean'] == cv_data['test-MAPE-mean'].min()]"
   ]
  },
  {
   "cell_type": "code",
   "execution_count": 115,
   "metadata": {
    "execution": {
     "iopub.execute_input": "2023-06-02T15:43:42.132657Z",
     "iopub.status.busy": "2023-06-02T15:43:42.132168Z",
     "iopub.status.idle": "2023-06-02T15:43:42.149056Z",
     "shell.execute_reply": "2023-06-02T15:43:42.147547Z",
     "shell.execute_reply.started": "2023-06-02T15:43:42.132627Z"
    }
   },
   "outputs": [
    {
     "data": {
      "text/plain": [
       "991"
      ]
     },
     "execution_count": 115,
     "metadata": {},
     "output_type": "execute_result"
    }
   ],
   "source": [
    "n_iters = cv_data[cv_data['test-MAPE-mean'] == cv_data['test-MAPE-mean'].min()]['iterations'].values[0]\n",
    "n_iters"
   ]
  },
  {
   "cell_type": "markdown",
   "metadata": {},
   "source": [
    "**Провели обучение и сравнение моделей Случайный лес, Дерево решений, Линейная регрессия и CatBoostRegressor. Наименьший MAPE показал CatBoostRegressor, поэтому остальные модели из проекта удалили.**"
   ]
  },
  {
   "cell_type": "code",
   "execution_count": 116,
   "metadata": {
    "execution": {
     "iopub.execute_input": "2023-06-02T15:43:42.151110Z",
     "iopub.status.busy": "2023-06-02T15:43:42.150647Z",
     "iopub.status.idle": "2023-06-02T15:43:42.161064Z",
     "shell.execute_reply": "2023-06-02T15:43:42.159544Z",
     "shell.execute_reply.started": "2023-06-02T15:43:42.151069Z"
    }
   },
   "outputs": [],
   "source": [
    "params = {'iterations': 1000,\n",
    "          'eval_metric': 'MAPE',\n",
    "          'loss_function': 'RMSE',\n",
    "          'learning_rate': 0.2,\n",
    "          'random_seed': 42,\n",
    "          'verbose':100}"
   ]
  },
  {
   "cell_type": "code",
   "execution_count": 117,
   "metadata": {
    "execution": {
     "iopub.execute_input": "2023-06-02T15:43:42.162971Z",
     "iopub.status.busy": "2023-06-02T15:43:42.162579Z",
     "iopub.status.idle": "2023-06-02T15:43:42.175970Z",
     "shell.execute_reply": "2023-06-02T15:43:42.174670Z",
     "shell.execute_reply.started": "2023-06-02T15:43:42.162941Z"
    }
   },
   "outputs": [],
   "source": [
    "model = CatBoostRegressor(**params)"
   ]
  },
  {
   "cell_type": "code",
   "execution_count": 118,
   "metadata": {
    "execution": {
     "iopub.execute_input": "2023-06-02T15:43:42.180345Z",
     "iopub.status.busy": "2023-06-02T15:43:42.179746Z",
     "iopub.status.idle": "2023-06-02T15:44:19.351028Z",
     "shell.execute_reply": "2023-06-02T15:44:19.349846Z",
     "shell.execute_reply.started": "2023-06-02T15:43:42.180304Z"
    }
   },
   "outputs": [
    {
     "name": "stdout",
     "output_type": "stream",
     "text": [
      "0:\tlearn: 1.6087591\ttotal: 34.9ms\tremaining: 34.8s\n",
      "100:\tlearn: 0.2539871\ttotal: 3.05s\tremaining: 27.1s\n",
      "200:\tlearn: 0.2268765\ttotal: 5.99s\tremaining: 23.8s\n",
      "300:\tlearn: 0.2146431\ttotal: 8.93s\tremaining: 20.7s\n",
      "400:\tlearn: 0.2062379\ttotal: 11.9s\tremaining: 17.7s\n",
      "500:\tlearn: 0.1971599\ttotal: 14.8s\tremaining: 14.7s\n",
      "600:\tlearn: 0.1924918\ttotal: 17.7s\tremaining: 11.8s\n",
      "700:\tlearn: 0.1893426\ttotal: 20.7s\tremaining: 8.82s\n",
      "800:\tlearn: 0.1856517\ttotal: 23.6s\tremaining: 5.86s\n",
      "900:\tlearn: 0.1828155\ttotal: 26.6s\tremaining: 2.92s\n",
      "999:\tlearn: 0.1799700\ttotal: 29.5s\tremaining: 0us\n"
     ]
    },
    {
     "data": {
      "text/plain": [
       "<catboost.core.CatBoostRegressor at 0x22e578a8550>"
      ]
     },
     "execution_count": 118,
     "metadata": {},
     "output_type": "execute_result"
    }
   ],
   "source": [
    "model.fit(train_data)"
   ]
  },
  {
   "cell_type": "code",
   "execution_count": 119,
   "metadata": {
    "execution": {
     "iopub.execute_input": "2023-06-02T15:44:19.354399Z",
     "iopub.status.busy": "2023-06-02T15:44:19.352559Z",
     "iopub.status.idle": "2023-06-02T15:44:19.423586Z",
     "shell.execute_reply": "2023-06-02T15:44:19.422332Z",
     "shell.execute_reply.started": "2023-06-02T15:44:19.354355Z"
    }
   },
   "outputs": [],
   "source": [
    "test['y_pred'] = model.predict(test_data)"
   ]
  },
  {
   "cell_type": "code",
   "execution_count": 120,
   "metadata": {
    "execution": {
     "iopub.execute_input": "2023-06-02T15:44:19.425557Z",
     "iopub.status.busy": "2023-06-02T15:44:19.425055Z",
     "iopub.status.idle": "2023-06-02T15:44:19.436030Z",
     "shell.execute_reply": "2023-06-02T15:44:19.434796Z",
     "shell.execute_reply.started": "2023-06-02T15:44:19.425514Z"
    }
   },
   "outputs": [
    {
     "data": {
      "text/plain": [
       "0.15943309481678736"
      ]
     },
     "execution_count": 120,
     "metadata": {},
     "output_type": "execute_result"
    }
   ],
   "source": [
    "mean_absolute_percentage_error(test['sellingprice'],test['y_pred'])"
   ]
  },
  {
   "cell_type": "markdown",
   "metadata": {},
   "source": [
    "**Модель обучена, MAPE - 0.16099**"
   ]
  },
  {
   "cell_type": "markdown",
   "metadata": {},
   "source": [
    "**Подготавливаем тестовый датафрейм и получаем предсказания.**"
   ]
  },
  {
   "cell_type": "code",
   "execution_count": 121,
   "metadata": {
    "execution": {
     "iopub.execute_input": "2023-06-02T15:44:19.437862Z",
     "iopub.status.busy": "2023-06-02T15:44:19.437473Z",
     "iopub.status.idle": "2023-06-02T15:44:19.454416Z",
     "shell.execute_reply": "2023-06-02T15:44:19.453010Z",
     "shell.execute_reply.started": "2023-06-02T15:44:19.437830Z"
    }
   },
   "outputs": [],
   "source": [
    "X_test = test_TE[['year', 'make_target', 'model_target', 'trim_target', 'body_target', 'transmission_target',\n",
    "       'state_target', 'condition', 'odometer', 'color_target', 'interior_target', 'seller_target', 'sale_year', 'sale_month']]"
   ]
  },
  {
   "cell_type": "code",
   "execution_count": 122,
   "metadata": {
    "execution": {
     "iopub.execute_input": "2023-06-02T15:44:19.458908Z",
     "iopub.status.busy": "2023-06-02T15:44:19.458541Z",
     "iopub.status.idle": "2023-06-02T15:44:19.486180Z",
     "shell.execute_reply": "2023-06-02T15:44:19.484887Z",
     "shell.execute_reply.started": "2023-06-02T15:44:19.458879Z"
    }
   },
   "outputs": [
    {
     "data": {
      "text/html": [
       "<div>\n",
       "<style scoped>\n",
       "    .dataframe tbody tr th:only-of-type {\n",
       "        vertical-align: middle;\n",
       "    }\n",
       "\n",
       "    .dataframe tbody tr th {\n",
       "        vertical-align: top;\n",
       "    }\n",
       "\n",
       "    .dataframe thead th {\n",
       "        text-align: right;\n",
       "    }\n",
       "</style>\n",
       "<table border=\"1\" class=\"dataframe\">\n",
       "  <thead>\n",
       "    <tr style=\"text-align: right;\">\n",
       "      <th></th>\n",
       "      <th>year</th>\n",
       "      <th>make_target</th>\n",
       "      <th>model_target</th>\n",
       "      <th>trim_target</th>\n",
       "      <th>body_target</th>\n",
       "      <th>transmission_target</th>\n",
       "      <th>state_target</th>\n",
       "      <th>condition</th>\n",
       "      <th>odometer</th>\n",
       "      <th>color_target</th>\n",
       "      <th>interior_target</th>\n",
       "      <th>seller_target</th>\n",
       "      <th>sale_year</th>\n",
       "      <th>sale_month</th>\n",
       "    </tr>\n",
       "  </thead>\n",
       "  <tbody>\n",
       "    <tr>\n",
       "      <th>0</th>\n",
       "      <td>2005</td>\n",
       "      <td>14960.647280</td>\n",
       "      <td>10603.919127</td>\n",
       "      <td>13824.966342</td>\n",
       "      <td>11715.115204</td>\n",
       "      <td>13672.010846</td>\n",
       "      <td>14543.383612</td>\n",
       "      <td>2.7</td>\n",
       "      <td>116970.0</td>\n",
       "      <td>11762.329907</td>\n",
       "      <td>15680.215374</td>\n",
       "      <td>11514.453125</td>\n",
       "      <td>2015</td>\n",
       "      <td>1</td>\n",
       "    </tr>\n",
       "    <tr>\n",
       "      <th>1</th>\n",
       "      <td>2014</td>\n",
       "      <td>16765.228261</td>\n",
       "      <td>19510.273973</td>\n",
       "      <td>15471.360759</td>\n",
       "      <td>13794.867381</td>\n",
       "      <td>13672.010846</td>\n",
       "      <td>15942.628868</td>\n",
       "      <td>4.4</td>\n",
       "      <td>6286.0</td>\n",
       "      <td>14718.716693</td>\n",
       "      <td>11002.863259</td>\n",
       "      <td>19843.157583</td>\n",
       "      <td>2015</td>\n",
       "      <td>2</td>\n",
       "    </tr>\n",
       "    <tr>\n",
       "      <th>2</th>\n",
       "      <td>2013</td>\n",
       "      <td>11705.846100</td>\n",
       "      <td>13032.931236</td>\n",
       "      <td>12542.081408</td>\n",
       "      <td>16101.931946</td>\n",
       "      <td>13672.010846</td>\n",
       "      <td>14421.217996</td>\n",
       "      <td>4.6</td>\n",
       "      <td>11831.0</td>\n",
       "      <td>13931.332654</td>\n",
       "      <td>15680.215374</td>\n",
       "      <td>13808.318524</td>\n",
       "      <td>2015</td>\n",
       "      <td>2</td>\n",
       "    </tr>\n",
       "    <tr>\n",
       "      <th>3</th>\n",
       "      <td>2013</td>\n",
       "      <td>11787.176014</td>\n",
       "      <td>7944.597903</td>\n",
       "      <td>9822.020163</td>\n",
       "      <td>11715.115204</td>\n",
       "      <td>13672.010846</td>\n",
       "      <td>13836.098647</td>\n",
       "      <td>2.3</td>\n",
       "      <td>57105.0</td>\n",
       "      <td>11762.329907</td>\n",
       "      <td>15680.215374</td>\n",
       "      <td>9451.948052</td>\n",
       "      <td>2015</td>\n",
       "      <td>3</td>\n",
       "    </tr>\n",
       "    <tr>\n",
       "      <th>4</th>\n",
       "      <td>2013</td>\n",
       "      <td>11705.846100</td>\n",
       "      <td>13229.944000</td>\n",
       "      <td>15259.274029</td>\n",
       "      <td>21569.694611</td>\n",
       "      <td>13672.010846</td>\n",
       "      <td>16975.481679</td>\n",
       "      <td>2.9</td>\n",
       "      <td>31083.0</td>\n",
       "      <td>15499.045687</td>\n",
       "      <td>15680.215374</td>\n",
       "      <td>22213.175775</td>\n",
       "      <td>2015</td>\n",
       "      <td>6</td>\n",
       "    </tr>\n",
       "    <tr>\n",
       "      <th>...</th>\n",
       "      <td>...</td>\n",
       "      <td>...</td>\n",
       "      <td>...</td>\n",
       "      <td>...</td>\n",
       "      <td>...</td>\n",
       "      <td>...</td>\n",
       "      <td>...</td>\n",
       "      <td>...</td>\n",
       "      <td>...</td>\n",
       "      <td>...</td>\n",
       "      <td>...</td>\n",
       "      <td>...</td>\n",
       "      <td>...</td>\n",
       "      <td>...</td>\n",
       "    </tr>\n",
       "    <tr>\n",
       "      <th>110053</th>\n",
       "      <td>2011</td>\n",
       "      <td>14720.982311</td>\n",
       "      <td>21666.634398</td>\n",
       "      <td>12423.209800</td>\n",
       "      <td>16101.931946</td>\n",
       "      <td>13672.010846</td>\n",
       "      <td>14543.383612</td>\n",
       "      <td>3.8</td>\n",
       "      <td>66085.0</td>\n",
       "      <td>12575.836096</td>\n",
       "      <td>15680.215374</td>\n",
       "      <td>10982.548261</td>\n",
       "      <td>2015</td>\n",
       "      <td>1</td>\n",
       "    </tr>\n",
       "    <tr>\n",
       "      <th>110054</th>\n",
       "      <td>2014</td>\n",
       "      <td>19902.431638</td>\n",
       "      <td>19190.191147</td>\n",
       "      <td>13824.966342</td>\n",
       "      <td>11715.115204</td>\n",
       "      <td>13672.010846</td>\n",
       "      <td>13836.098647</td>\n",
       "      <td>4.8</td>\n",
       "      <td>17588.0</td>\n",
       "      <td>13931.332654</td>\n",
       "      <td>15680.215374</td>\n",
       "      <td>25786.529680</td>\n",
       "      <td>2015</td>\n",
       "      <td>6</td>\n",
       "    </tr>\n",
       "    <tr>\n",
       "      <th>110055</th>\n",
       "      <td>2004</td>\n",
       "      <td>11705.846100</td>\n",
       "      <td>13072.888611</td>\n",
       "      <td>6872.857143</td>\n",
       "      <td>11715.115204</td>\n",
       "      <td>13672.010846</td>\n",
       "      <td>8608.980623</td>\n",
       "      <td>2.9</td>\n",
       "      <td>124036.0</td>\n",
       "      <td>11762.329907</td>\n",
       "      <td>11002.863259</td>\n",
       "      <td>10362.281977</td>\n",
       "      <td>2015</td>\n",
       "      <td>2</td>\n",
       "    </tr>\n",
       "    <tr>\n",
       "      <th>110056</th>\n",
       "      <td>2013</td>\n",
       "      <td>11705.846100</td>\n",
       "      <td>15704.181185</td>\n",
       "      <td>13824.966342</td>\n",
       "      <td>15791.662133</td>\n",
       "      <td>11110.293860</td>\n",
       "      <td>13159.645441</td>\n",
       "      <td>2.2</td>\n",
       "      <td>27169.0</td>\n",
       "      <td>17926.340296</td>\n",
       "      <td>15680.215374</td>\n",
       "      <td>13051.650672</td>\n",
       "      <td>2015</td>\n",
       "      <td>6</td>\n",
       "    </tr>\n",
       "    <tr>\n",
       "      <th>110057</th>\n",
       "      <td>2012</td>\n",
       "      <td>11787.176014</td>\n",
       "      <td>19102.290850</td>\n",
       "      <td>7403.845684</td>\n",
       "      <td>15791.662133</td>\n",
       "      <td>13672.010846</td>\n",
       "      <td>15942.628868</td>\n",
       "      <td>3.7</td>\n",
       "      <td>40399.0</td>\n",
       "      <td>11419.240127</td>\n",
       "      <td>15680.215374</td>\n",
       "      <td>13882.530120</td>\n",
       "      <td>2015</td>\n",
       "      <td>1</td>\n",
       "    </tr>\n",
       "  </tbody>\n",
       "</table>\n",
       "<p>110058 rows × 14 columns</p>\n",
       "</div>"
      ],
      "text/plain": [
       "        year   make_target  model_target   trim_target   body_target  \\\n",
       "0       2005  14960.647280  10603.919127  13824.966342  11715.115204   \n",
       "1       2014  16765.228261  19510.273973  15471.360759  13794.867381   \n",
       "2       2013  11705.846100  13032.931236  12542.081408  16101.931946   \n",
       "3       2013  11787.176014   7944.597903   9822.020163  11715.115204   \n",
       "4       2013  11705.846100  13229.944000  15259.274029  21569.694611   \n",
       "...      ...           ...           ...           ...           ...   \n",
       "110053  2011  14720.982311  21666.634398  12423.209800  16101.931946   \n",
       "110054  2014  19902.431638  19190.191147  13824.966342  11715.115204   \n",
       "110055  2004  11705.846100  13072.888611   6872.857143  11715.115204   \n",
       "110056  2013  11705.846100  15704.181185  13824.966342  15791.662133   \n",
       "110057  2012  11787.176014  19102.290850   7403.845684  15791.662133   \n",
       "\n",
       "        transmission_target  state_target  condition  odometer  color_target  \\\n",
       "0              13672.010846  14543.383612        2.7  116970.0  11762.329907   \n",
       "1              13672.010846  15942.628868        4.4    6286.0  14718.716693   \n",
       "2              13672.010846  14421.217996        4.6   11831.0  13931.332654   \n",
       "3              13672.010846  13836.098647        2.3   57105.0  11762.329907   \n",
       "4              13672.010846  16975.481679        2.9   31083.0  15499.045687   \n",
       "...                     ...           ...        ...       ...           ...   \n",
       "110053         13672.010846  14543.383612        3.8   66085.0  12575.836096   \n",
       "110054         13672.010846  13836.098647        4.8   17588.0  13931.332654   \n",
       "110055         13672.010846   8608.980623        2.9  124036.0  11762.329907   \n",
       "110056         11110.293860  13159.645441        2.2   27169.0  17926.340296   \n",
       "110057         13672.010846  15942.628868        3.7   40399.0  11419.240127   \n",
       "\n",
       "        interior_target  seller_target  sale_year  sale_month  \n",
       "0          15680.215374   11514.453125       2015           1  \n",
       "1          11002.863259   19843.157583       2015           2  \n",
       "2          15680.215374   13808.318524       2015           2  \n",
       "3          15680.215374    9451.948052       2015           3  \n",
       "4          15680.215374   22213.175775       2015           6  \n",
       "...                 ...            ...        ...         ...  \n",
       "110053     15680.215374   10982.548261       2015           1  \n",
       "110054     15680.215374   25786.529680       2015           6  \n",
       "110055     11002.863259   10362.281977       2015           2  \n",
       "110056     15680.215374   13051.650672       2015           6  \n",
       "110057     15680.215374   13882.530120       2015           1  \n",
       "\n",
       "[110058 rows x 14 columns]"
      ]
     },
     "execution_count": 122,
     "metadata": {},
     "output_type": "execute_result"
    }
   ],
   "source": [
    "X_test"
   ]
  },
  {
   "cell_type": "code",
   "execution_count": 123,
   "metadata": {
    "execution": {
     "iopub.execute_input": "2023-06-02T15:54:34.832398Z",
     "iopub.status.busy": "2023-06-02T15:54:34.831962Z",
     "iopub.status.idle": "2023-06-02T15:54:34.916669Z",
     "shell.execute_reply": "2023-06-02T15:54:34.915474Z",
     "shell.execute_reply.started": "2023-06-02T15:54:34.832366Z"
    }
   },
   "outputs": [],
   "source": [
    "predictions = model.predict(X_test)"
   ]
  },
  {
   "cell_type": "code",
   "execution_count": 124,
   "metadata": {
    "execution": {
     "iopub.execute_input": "2023-06-02T15:54:36.635511Z",
     "iopub.status.busy": "2023-06-02T15:54:36.634815Z",
     "iopub.status.idle": "2023-06-02T15:54:36.640867Z",
     "shell.execute_reply": "2023-06-02T15:54:36.639881Z",
     "shell.execute_reply.started": "2023-06-02T15:54:36.635475Z"
    }
   },
   "outputs": [],
   "source": [
    "data_test['sellingprice'] = predictions"
   ]
  },
  {
   "cell_type": "code",
   "execution_count": 125,
   "metadata": {
    "execution": {
     "iopub.execute_input": "2023-06-02T15:54:38.342713Z",
     "iopub.status.busy": "2023-06-02T15:54:38.342261Z",
     "iopub.status.idle": "2023-06-02T15:54:38.376158Z",
     "shell.execute_reply": "2023-06-02T15:54:38.374560Z",
     "shell.execute_reply.started": "2023-06-02T15:54:38.342676Z"
    }
   },
   "outputs": [
    {
     "data": {
      "text/html": [
       "<div>\n",
       "<style scoped>\n",
       "    .dataframe tbody tr th:only-of-type {\n",
       "        vertical-align: middle;\n",
       "    }\n",
       "\n",
       "    .dataframe tbody tr th {\n",
       "        vertical-align: top;\n",
       "    }\n",
       "\n",
       "    .dataframe thead th {\n",
       "        text-align: right;\n",
       "    }\n",
       "</style>\n",
       "<table border=\"1\" class=\"dataframe\">\n",
       "  <thead>\n",
       "    <tr style=\"text-align: right;\">\n",
       "      <th></th>\n",
       "      <th>year</th>\n",
       "      <th>make</th>\n",
       "      <th>model</th>\n",
       "      <th>trim</th>\n",
       "      <th>body</th>\n",
       "      <th>transmission</th>\n",
       "      <th>vin</th>\n",
       "      <th>state</th>\n",
       "      <th>condition</th>\n",
       "      <th>odometer</th>\n",
       "      <th>color</th>\n",
       "      <th>interior</th>\n",
       "      <th>seller</th>\n",
       "      <th>saledate</th>\n",
       "      <th>sale_year</th>\n",
       "      <th>sale_month</th>\n",
       "      <th>sellingprice</th>\n",
       "    </tr>\n",
       "  </thead>\n",
       "  <tbody>\n",
       "    <tr>\n",
       "      <th>0</th>\n",
       "      <td>2005</td>\n",
       "      <td>Cadillac</td>\n",
       "      <td>CTS</td>\n",
       "      <td>Base</td>\n",
       "      <td>Sedan</td>\n",
       "      <td>automatic</td>\n",
       "      <td>1g6dp567450124779</td>\n",
       "      <td>ca</td>\n",
       "      <td>2.7</td>\n",
       "      <td>116970.0</td>\n",
       "      <td>silver</td>\n",
       "      <td>black</td>\n",
       "      <td>lexus of stevens creek</td>\n",
       "      <td>2015-01-14 04:30:00</td>\n",
       "      <td>2015</td>\n",
       "      <td>1</td>\n",
       "      <td>4538.567130</td>\n",
       "    </tr>\n",
       "    <tr>\n",
       "      <th>1</th>\n",
       "      <td>2014</td>\n",
       "      <td>GMC</td>\n",
       "      <td>Savana Cargo</td>\n",
       "      <td>2500</td>\n",
       "      <td>Van</td>\n",
       "      <td>automatic</td>\n",
       "      <td>1gtw7fca7e1902207</td>\n",
       "      <td>pa</td>\n",
       "      <td>4.4</td>\n",
       "      <td>6286.0</td>\n",
       "      <td>white</td>\n",
       "      <td>gray</td>\n",
       "      <td>u-haul</td>\n",
       "      <td>2015-02-27 01:00:00</td>\n",
       "      <td>2015</td>\n",
       "      <td>2</td>\n",
       "      <td>21844.963735</td>\n",
       "    </tr>\n",
       "    <tr>\n",
       "      <th>2</th>\n",
       "      <td>2013</td>\n",
       "      <td>Nissan</td>\n",
       "      <td>Murano</td>\n",
       "      <td>S</td>\n",
       "      <td>SUV</td>\n",
       "      <td>automatic</td>\n",
       "      <td>jn8az1mw6dw303497</td>\n",
       "      <td>oh</td>\n",
       "      <td>4.6</td>\n",
       "      <td>11831.0</td>\n",
       "      <td>gray</td>\n",
       "      <td>black</td>\n",
       "      <td>nissan-infiniti lt</td>\n",
       "      <td>2015-02-24 01:30:00</td>\n",
       "      <td>2015</td>\n",
       "      <td>2</td>\n",
       "      <td>20073.425853</td>\n",
       "    </tr>\n",
       "    <tr>\n",
       "      <th>3</th>\n",
       "      <td>2013</td>\n",
       "      <td>Chevrolet</td>\n",
       "      <td>Impala</td>\n",
       "      <td>LS Fleet</td>\n",
       "      <td>Sedan</td>\n",
       "      <td>automatic</td>\n",
       "      <td>2g1wf5e34d1160703</td>\n",
       "      <td>fl</td>\n",
       "      <td>2.3</td>\n",
       "      <td>57105.0</td>\n",
       "      <td>silver</td>\n",
       "      <td>black</td>\n",
       "      <td>onemain rem/auto club of miami inc dba north dad</td>\n",
       "      <td>2015-03-06 02:00:00</td>\n",
       "      <td>2015</td>\n",
       "      <td>3</td>\n",
       "      <td>8733.823992</td>\n",
       "    </tr>\n",
       "    <tr>\n",
       "      <th>4</th>\n",
       "      <td>2013</td>\n",
       "      <td>Nissan</td>\n",
       "      <td>Titan</td>\n",
       "      <td>SV</td>\n",
       "      <td>Crew Cab</td>\n",
       "      <td>automatic</td>\n",
       "      <td>1n6aa0ec3dn301209</td>\n",
       "      <td>tn</td>\n",
       "      <td>2.9</td>\n",
       "      <td>31083.0</td>\n",
       "      <td>black</td>\n",
       "      <td>black</td>\n",
       "      <td>nissan north america inc.</td>\n",
       "      <td>2015-06-03 03:30:00</td>\n",
       "      <td>2015</td>\n",
       "      <td>6</td>\n",
       "      <td>22426.401213</td>\n",
       "    </tr>\n",
       "    <tr>\n",
       "      <th>...</th>\n",
       "      <td>...</td>\n",
       "      <td>...</td>\n",
       "      <td>...</td>\n",
       "      <td>...</td>\n",
       "      <td>...</td>\n",
       "      <td>...</td>\n",
       "      <td>...</td>\n",
       "      <td>...</td>\n",
       "      <td>...</td>\n",
       "      <td>...</td>\n",
       "      <td>...</td>\n",
       "      <td>...</td>\n",
       "      <td>...</td>\n",
       "      <td>...</td>\n",
       "      <td>...</td>\n",
       "      <td>...</td>\n",
       "      <td>...</td>\n",
       "    </tr>\n",
       "    <tr>\n",
       "      <th>110053</th>\n",
       "      <td>2011</td>\n",
       "      <td>Jeep</td>\n",
       "      <td>Wrangler</td>\n",
       "      <td>Sport</td>\n",
       "      <td>SUV</td>\n",
       "      <td>automatic</td>\n",
       "      <td>1j4aa2d17bl584330</td>\n",
       "      <td>ca</td>\n",
       "      <td>3.8</td>\n",
       "      <td>66085.0</td>\n",
       "      <td>orange</td>\n",
       "      <td>black</td>\n",
       "      <td>dtg operations inc</td>\n",
       "      <td>2015-01-15 03:30:00</td>\n",
       "      <td>2015</td>\n",
       "      <td>1</td>\n",
       "      <td>16925.542961</td>\n",
       "    </tr>\n",
       "    <tr>\n",
       "      <th>110054</th>\n",
       "      <td>2014</td>\n",
       "      <td>Lexus</td>\n",
       "      <td>IS 250</td>\n",
       "      <td>Base</td>\n",
       "      <td>Sedan</td>\n",
       "      <td>automatic</td>\n",
       "      <td>jthbf1d23e5007526</td>\n",
       "      <td>fl</td>\n",
       "      <td>4.8</td>\n",
       "      <td>17588.0</td>\n",
       "      <td>gray</td>\n",
       "      <td>black</td>\n",
       "      <td>lexus financial services</td>\n",
       "      <td>2015-06-15 11:00:00</td>\n",
       "      <td>2015</td>\n",
       "      <td>6</td>\n",
       "      <td>29033.660193</td>\n",
       "    </tr>\n",
       "    <tr>\n",
       "      <th>110055</th>\n",
       "      <td>2004</td>\n",
       "      <td>Nissan</td>\n",
       "      <td>Maxima</td>\n",
       "      <td>3.5 SL</td>\n",
       "      <td>Sedan</td>\n",
       "      <td>automatic</td>\n",
       "      <td>1n4ba41e54c831950</td>\n",
       "      <td>va</td>\n",
       "      <td>2.9</td>\n",
       "      <td>124036.0</td>\n",
       "      <td>silver</td>\n",
       "      <td>gray</td>\n",
       "      <td>shirlie slack mitsubishi</td>\n",
       "      <td>2015-02-05 01:35:00</td>\n",
       "      <td>2015</td>\n",
       "      <td>2</td>\n",
       "      <td>4182.551708</td>\n",
       "    </tr>\n",
       "    <tr>\n",
       "      <th>110056</th>\n",
       "      <td>2013</td>\n",
       "      <td>Nissan</td>\n",
       "      <td>370Z</td>\n",
       "      <td>Base</td>\n",
       "      <td>Coupe</td>\n",
       "      <td>manual</td>\n",
       "      <td>jn1az4eh3dm382431</td>\n",
       "      <td>tx</td>\n",
       "      <td>2.2</td>\n",
       "      <td>27169.0</td>\n",
       "      <td>—</td>\n",
       "      <td>black</td>\n",
       "      <td>nissan motor acceptance corporation</td>\n",
       "      <td>2015-06-17 03:30:00</td>\n",
       "      <td>2015</td>\n",
       "      <td>6</td>\n",
       "      <td>17342.069537</td>\n",
       "    </tr>\n",
       "    <tr>\n",
       "      <th>110057</th>\n",
       "      <td>2012</td>\n",
       "      <td>Chevrolet</td>\n",
       "      <td>Camaro</td>\n",
       "      <td>LS</td>\n",
       "      <td>Coupe</td>\n",
       "      <td>automatic</td>\n",
       "      <td>2g1fa1e32c9193058</td>\n",
       "      <td>pa</td>\n",
       "      <td>3.7</td>\n",
       "      <td>40399.0</td>\n",
       "      <td>blue</td>\n",
       "      <td>black</td>\n",
       "      <td>ingersoll auto of danbury</td>\n",
       "      <td>2015-01-09 09:00:00</td>\n",
       "      <td>2015</td>\n",
       "      <td>1</td>\n",
       "      <td>15604.048466</td>\n",
       "    </tr>\n",
       "  </tbody>\n",
       "</table>\n",
       "<p>110058 rows × 17 columns</p>\n",
       "</div>"
      ],
      "text/plain": [
       "        year       make         model      trim      body transmission  \\\n",
       "0       2005   Cadillac           CTS      Base     Sedan    automatic   \n",
       "1       2014        GMC  Savana Cargo      2500       Van    automatic   \n",
       "2       2013     Nissan        Murano         S       SUV    automatic   \n",
       "3       2013  Chevrolet        Impala  LS Fleet     Sedan    automatic   \n",
       "4       2013     Nissan         Titan        SV  Crew Cab    automatic   \n",
       "...      ...        ...           ...       ...       ...          ...   \n",
       "110053  2011       Jeep      Wrangler     Sport       SUV    automatic   \n",
       "110054  2014      Lexus        IS 250      Base     Sedan    automatic   \n",
       "110055  2004     Nissan        Maxima    3.5 SL     Sedan    automatic   \n",
       "110056  2013     Nissan          370Z      Base     Coupe       manual   \n",
       "110057  2012  Chevrolet        Camaro        LS     Coupe    automatic   \n",
       "\n",
       "                      vin state  condition  odometer   color interior  \\\n",
       "0       1g6dp567450124779    ca        2.7  116970.0  silver    black   \n",
       "1       1gtw7fca7e1902207    pa        4.4    6286.0   white     gray   \n",
       "2       jn8az1mw6dw303497    oh        4.6   11831.0    gray    black   \n",
       "3       2g1wf5e34d1160703    fl        2.3   57105.0  silver    black   \n",
       "4       1n6aa0ec3dn301209    tn        2.9   31083.0   black    black   \n",
       "...                   ...   ...        ...       ...     ...      ...   \n",
       "110053  1j4aa2d17bl584330    ca        3.8   66085.0  orange    black   \n",
       "110054  jthbf1d23e5007526    fl        4.8   17588.0    gray    black   \n",
       "110055  1n4ba41e54c831950    va        2.9  124036.0  silver     gray   \n",
       "110056  jn1az4eh3dm382431    tx        2.2   27169.0       —    black   \n",
       "110057  2g1fa1e32c9193058    pa        3.7   40399.0    blue    black   \n",
       "\n",
       "                                                  seller            saledate  \\\n",
       "0                                 lexus of stevens creek 2015-01-14 04:30:00   \n",
       "1                                                 u-haul 2015-02-27 01:00:00   \n",
       "2                                     nissan-infiniti lt 2015-02-24 01:30:00   \n",
       "3       onemain rem/auto club of miami inc dba north dad 2015-03-06 02:00:00   \n",
       "4                              nissan north america inc. 2015-06-03 03:30:00   \n",
       "...                                                  ...                 ...   \n",
       "110053                                dtg operations inc 2015-01-15 03:30:00   \n",
       "110054                          lexus financial services 2015-06-15 11:00:00   \n",
       "110055                          shirlie slack mitsubishi 2015-02-05 01:35:00   \n",
       "110056               nissan motor acceptance corporation 2015-06-17 03:30:00   \n",
       "110057                         ingersoll auto of danbury 2015-01-09 09:00:00   \n",
       "\n",
       "        sale_year  sale_month  sellingprice  \n",
       "0            2015           1   4538.567130  \n",
       "1            2015           2  21844.963735  \n",
       "2            2015           2  20073.425853  \n",
       "3            2015           3   8733.823992  \n",
       "4            2015           6  22426.401213  \n",
       "...           ...         ...           ...  \n",
       "110053       2015           1  16925.542961  \n",
       "110054       2015           6  29033.660193  \n",
       "110055       2015           2   4182.551708  \n",
       "110056       2015           6  17342.069537  \n",
       "110057       2015           1  15604.048466  \n",
       "\n",
       "[110058 rows x 17 columns]"
      ]
     },
     "execution_count": 125,
     "metadata": {},
     "output_type": "execute_result"
    }
   ],
   "source": [
    "data_test"
   ]
  },
  {
   "cell_type": "code",
   "execution_count": 126,
   "metadata": {
    "execution": {
     "iopub.execute_input": "2023-06-02T15:54:41.292276Z",
     "iopub.status.busy": "2023-06-02T15:54:41.291845Z",
     "iopub.status.idle": "2023-06-02T15:54:41.312103Z",
     "shell.execute_reply": "2023-06-02T15:54:41.311189Z",
     "shell.execute_reply.started": "2023-06-02T15:54:41.292245Z"
    }
   },
   "outputs": [
    {
     "data": {
      "text/html": [
       "<div>\n",
       "<style scoped>\n",
       "    .dataframe tbody tr th:only-of-type {\n",
       "        vertical-align: middle;\n",
       "    }\n",
       "\n",
       "    .dataframe tbody tr th {\n",
       "        vertical-align: top;\n",
       "    }\n",
       "\n",
       "    .dataframe thead th {\n",
       "        text-align: right;\n",
       "    }\n",
       "</style>\n",
       "<table border=\"1\" class=\"dataframe\">\n",
       "  <thead>\n",
       "    <tr style=\"text-align: right;\">\n",
       "      <th></th>\n",
       "      <th>vin</th>\n",
       "      <th>sellingprice</th>\n",
       "    </tr>\n",
       "  </thead>\n",
       "  <tbody>\n",
       "    <tr>\n",
       "      <th>0</th>\n",
       "      <td>1g6dp567450124779</td>\n",
       "      <td>4538.567130</td>\n",
       "    </tr>\n",
       "    <tr>\n",
       "      <th>1</th>\n",
       "      <td>1gtw7fca7e1902207</td>\n",
       "      <td>21844.963735</td>\n",
       "    </tr>\n",
       "    <tr>\n",
       "      <th>2</th>\n",
       "      <td>jn8az1mw6dw303497</td>\n",
       "      <td>20073.425853</td>\n",
       "    </tr>\n",
       "    <tr>\n",
       "      <th>3</th>\n",
       "      <td>2g1wf5e34d1160703</td>\n",
       "      <td>8733.823992</td>\n",
       "    </tr>\n",
       "    <tr>\n",
       "      <th>4</th>\n",
       "      <td>1n6aa0ec3dn301209</td>\n",
       "      <td>22426.401213</td>\n",
       "    </tr>\n",
       "    <tr>\n",
       "      <th>...</th>\n",
       "      <td>...</td>\n",
       "      <td>...</td>\n",
       "    </tr>\n",
       "    <tr>\n",
       "      <th>110053</th>\n",
       "      <td>1j4aa2d17bl584330</td>\n",
       "      <td>16925.542961</td>\n",
       "    </tr>\n",
       "    <tr>\n",
       "      <th>110054</th>\n",
       "      <td>jthbf1d23e5007526</td>\n",
       "      <td>29033.660193</td>\n",
       "    </tr>\n",
       "    <tr>\n",
       "      <th>110055</th>\n",
       "      <td>1n4ba41e54c831950</td>\n",
       "      <td>4182.551708</td>\n",
       "    </tr>\n",
       "    <tr>\n",
       "      <th>110056</th>\n",
       "      <td>jn1az4eh3dm382431</td>\n",
       "      <td>17342.069537</td>\n",
       "    </tr>\n",
       "    <tr>\n",
       "      <th>110057</th>\n",
       "      <td>2g1fa1e32c9193058</td>\n",
       "      <td>15604.048466</td>\n",
       "    </tr>\n",
       "  </tbody>\n",
       "</table>\n",
       "<p>110058 rows × 2 columns</p>\n",
       "</div>"
      ],
      "text/plain": [
       "                      vin  sellingprice\n",
       "0       1g6dp567450124779   4538.567130\n",
       "1       1gtw7fca7e1902207  21844.963735\n",
       "2       jn8az1mw6dw303497  20073.425853\n",
       "3       2g1wf5e34d1160703   8733.823992\n",
       "4       1n6aa0ec3dn301209  22426.401213\n",
       "...                   ...           ...\n",
       "110053  1j4aa2d17bl584330  16925.542961\n",
       "110054  jthbf1d23e5007526  29033.660193\n",
       "110055  1n4ba41e54c831950   4182.551708\n",
       "110056  jn1az4eh3dm382431  17342.069537\n",
       "110057  2g1fa1e32c9193058  15604.048466\n",
       "\n",
       "[110058 rows x 2 columns]"
      ]
     },
     "execution_count": 126,
     "metadata": {},
     "output_type": "execute_result"
    }
   ],
   "source": [
    "data_pred = data_test[['vin', 'sellingprice']]\n",
    "data_pred"
   ]
  },
  {
   "cell_type": "code",
   "execution_count": 127,
   "metadata": {
    "execution": {
     "iopub.execute_input": "2023-06-02T15:54:43.983431Z",
     "iopub.status.busy": "2023-06-02T15:54:43.983026Z",
     "iopub.status.idle": "2023-06-02T15:54:43.991514Z",
     "shell.execute_reply": "2023-06-02T15:54:43.990537Z",
     "shell.execute_reply.started": "2023-06-02T15:54:43.983401Z"
    }
   },
   "outputs": [
    {
     "data": {
      "text/plain": [
       "-4892.907364502225"
      ]
     },
     "execution_count": 127,
     "metadata": {},
     "output_type": "execute_result"
    }
   ],
   "source": [
    "data_pred['sellingprice'].min()"
   ]
  },
  {
   "cell_type": "markdown",
   "metadata": {},
   "source": [
    "**В итоговой таблице у нас имеются предсказания стоимости с отрицательным значением. Поэтому меняем эти значения на значение 0,05-го перцентиля.**"
   ]
  },
  {
   "cell_type": "code",
   "execution_count": 128,
   "metadata": {
    "execution": {
     "iopub.execute_input": "2023-06-02T15:54:50.803340Z",
     "iopub.status.busy": "2023-06-02T15:54:50.802944Z",
     "iopub.status.idle": "2023-06-02T15:54:50.812653Z",
     "shell.execute_reply": "2023-06-02T15:54:50.811125Z",
     "shell.execute_reply.started": "2023-06-02T15:54:50.803309Z"
    }
   },
   "outputs": [
    {
     "name": "stdout",
     "output_type": "stream",
     "text": [
      "524.0957800723237\n"
     ]
    }
   ],
   "source": [
    "q = np.percentile(data_pred['sellingprice'], 1)\n",
    "print(q)"
   ]
  },
  {
   "cell_type": "code",
   "execution_count": 129,
   "metadata": {
    "execution": {
     "iopub.execute_input": "2023-06-02T15:55:00.011362Z",
     "iopub.status.busy": "2023-06-02T15:55:00.010799Z",
     "iopub.status.idle": "2023-06-02T15:55:00.019159Z",
     "shell.execute_reply": "2023-06-02T15:55:00.018017Z",
     "shell.execute_reply.started": "2023-06-02T15:55:00.011317Z"
    }
   },
   "outputs": [],
   "source": [
    "data_pred.loc[data_pred['sellingprice'] < 524, 'sellingprice'] = 524"
   ]
  },
  {
   "cell_type": "code",
   "execution_count": 130,
   "metadata": {
    "execution": {
     "iopub.execute_input": "2023-06-02T15:55:04.492335Z",
     "iopub.status.busy": "2023-06-02T15:55:04.491919Z",
     "iopub.status.idle": "2023-06-02T15:55:04.501716Z",
     "shell.execute_reply": "2023-06-02T15:55:04.500376Z",
     "shell.execute_reply.started": "2023-06-02T15:55:04.492304Z"
    }
   },
   "outputs": [
    {
     "data": {
      "text/plain": [
       "524.0"
      ]
     },
     "execution_count": 130,
     "metadata": {},
     "output_type": "execute_result"
    }
   ],
   "source": [
    "data_pred['sellingprice'].min()"
   ]
  },
  {
   "cell_type": "code",
   "execution_count": 131,
   "metadata": {
    "execution": {
     "iopub.execute_input": "2023-06-02T15:51:49.590415Z",
     "iopub.status.busy": "2023-06-02T15:51:49.589924Z",
     "iopub.status.idle": "2023-06-02T15:51:50.107807Z",
     "shell.execute_reply": "2023-06-02T15:51:50.106719Z",
     "shell.execute_reply.started": "2023-06-02T15:51:49.590369Z"
    }
   },
   "outputs": [],
   "source": [
    "data_pred.to_csv('pred.csv', index=False)"
   ]
  },
  {
   "cell_type": "markdown",
   "metadata": {},
   "source": [
    "**Итоговая таблица готова.**"
   ]
  },
  {
   "cell_type": "markdown",
   "metadata": {},
   "source": [
    "## Отчёт."
   ]
  },
  {
   "cell_type": "markdown",
   "metadata": {},
   "source": [
    "**Нам была поставлена цель проекта - разработка модели предварительной оценки стоимости автомобиля на вторичном рынке. Для её достижения нами были поставлены и выполнены следующие задачи:**\n",
    "- загружены необходимые библиотеки и инструменты;\n",
    "- загружены и изучены предоставленные датафреймы - тренировочный, на основе которого разрабатываем модель, и тестовый;\n",
    "- произведена предварительная обработка данных: \n",
    "    - проверка на дубликаты, \n",
    "    - заполнение выявленных пропусков в данных, подобранным для каждого столбца способом;\n",
    "- на основе предварительного анализа создали столбцы с новыми признаками;\n",
    "- закодировали категориальные признаки;\n",
    "- изучили корреляцию между признаками;\n",
    "- провели отбор признаков для обучения модели;\n",
    "- выбрали модели обучения;\n",
    "- с помощью кроссвалидации на тренеровочном датафрейме подобрали гиперпараметры для выбранных моделей;\n",
    "- обучили модели и выбрали лучшую модель по метрике MAPE - CatBoostRegressor;\n",
    "- получили предсказание модели на предоставленном тестовом датафрейме.\n",
    "\n",
    "**При предобработке данных были выявлены пропуски в некоторых столбцах. Возникли трудности с их заполнением. Но способы корректного заполнения этих пропусков были найдены. В столбце `make` - производитель, обнаружено 8043 пропусков, а также неявные дубликаты. Привели название марок к единому виду. В столбцах `make` и `model` большее колиство пропусков заполнили по первым знакам столбца vin в строках с пропусками, взятыми значениями из заполненных строк. Оставшиеся пропуски заполнили заглушкой \"unknown\". В столбце `body` - тип кузова, обнаружено 10393 пропусков, а также неявные дубликаты. Привели название типов кузовов к единому виду. Пропуски заполнили заглушкой \"unknown\". В столбце `trim` - модификация, обнаружено 8337 пропусков, а также неявные дубликаты. Пропуски заполнили заглушкой \"unknown\". В столбце `transmission` - тип КПП, обнаружено 51461 пропусков, а также неявные дубликаты. Так как абсолюьное большинство автомобилей имеют автоматическую коробку передач, то пропуски заполнили значением \"automatic\". В столбце `condition` - состояние по шкале (1-5), обнаружено 9405 пропусков. Использовал функцию, которая заполняет пропуски медианным значением в зависимости от года выпуска авто. В столбце `odometer` - пробег в милях, обнаружено 69 пропусков. Использовал функцию, которая заполняет пропуски медианным значением в зависимости от года выпуска авто. В столбце `color` - цвет кузова, обнаружено 586 пропусков. Заполнил пропуски значением \"—\". В столбце `interior` - цвет интерьера, обнаружено 586 пропусков. Заполнил пропуски значением \"—\". Добавили новые признаки - `sale_month` - месяц продажи и `sale_year` - год продажи, для этого привели столбец с датой столбец `saledate` с датой продажи к типу .daytime и извлекли из него месяц и год.**\n",
    "\n",
    "**Для обучения были выбраны четыре модели - Случайный лес, Дерево решений, Линейная регрессия и CatBoostRegressor. Для подбора гиперпараметров применили кроссвалидацию. CatBoostRegressor оказалась наилучшей моделью, её MAPE оказалась самой низкой - 0.16099. Поэтому было решено выбрать её. Для улучшения результатов обучения модели предварительно закодировали категориальные признаки методом TargetEncoder. Для обучения модели были выбраны все признаки кроме `vin`, так как он имеет коэффициент корреляции 1, т.е. имеет мультиколлинеарность с целевым признаком.**\n",
    "\n",
    "**После получения предсказания на тестовом датафрейме, увидели, что некоторое количество предсказанных значений стоимости автомобиля имеет отрицательное значение, хотя такого быть не может. Было решено заменить эти значения на значение 1-го перцентиля - 524 доллара.**\n",
    "\n",
    "**По результатам проверки модели убедились, что модель является работоспособной и надёжной, имеет низкую MAPE и может применяться для предварительного расчёта стоимости автомобиля на вторичном рынке.**\n",
    "\n",
    "**Для улучшения модели и её метрики качества можно проделать дополнительную работу по более корректному заполнению пропусков - найти и выделить новые признаки на основе более углублённого анализа данных. Также имеет смысл поработать с подбором большего количества гипермараметров. Кроме того необходимо раз в шесть месяцев проводить дообучение модели - брать данные о продажах на вторичном рынке за последние полгода, так как появляются новые модели, отсутствующие в старом датафрейме, а старые модели дешевеют, поэтому предсказания будут менее точны.**"
   ]
  },
  {
   "cell_type": "code",
   "execution_count": null,
   "metadata": {},
   "outputs": [],
   "source": []
  }
 ],
 "metadata": {
  "kernelspec": {
   "display_name": "Python 3 (ipykernel)",
   "language": "python",
   "name": "python3"
  },
  "language_info": {
   "codemirror_mode": {
    "name": "ipython",
    "version": 3
   },
   "file_extension": ".py",
   "mimetype": "text/x-python",
   "name": "python",
   "nbconvert_exporter": "python",
   "pygments_lexer": "ipython3",
   "version": "3.10.9"
  },
  "toc": {
   "base_numbering": 1,
   "nav_menu": {},
   "number_sections": true,
   "sideBar": true,
   "skip_h1_title": true,
   "title_cell": "Table of Contents",
   "title_sidebar": "Contents",
   "toc_cell": true,
   "toc_position": {},
   "toc_section_display": true,
   "toc_window_display": false
  }
 },
 "nbformat": 4,
 "nbformat_minor": 4
}
