{
 "cells": [
  {
   "cell_type": "markdown",
   "metadata": {},
   "source": [
    "# Выбор локации для скважины"
   ]
  },
  {
   "cell_type": "markdown",
   "metadata": {},
   "source": [
    "Нефтедобывающей компании нужно решить, где бурить новую скважину. Компания предоставила пробы нефти в трёх регионах: в каждом 10 000 месторождений, где измерили качество нефти и объём её запасов.\n",
    "\n",
    "Требуется построить модель машинного обучения, которая поможет определить регион, где добыча принесёт наибольшую прибыль. Нужно проанализировать возможную прибыль и риски техникой *Bootstrap*.\n",
    "\n",
    "Шаги для выбора локации:\n",
    "\n",
    "- В избранном регионе ищут месторождения, для каждого определяют значения признаков;\n",
    "- Строят модель и оценивают объём запасов;\n",
    "- Выбирают месторождения с самым высокими оценками значений. Количество месторождений зависит от бюджета компании и стоимости разработки одной скважины;\n",
    "- Прибыль равна суммарной прибыли отобранных месторождений."
   ]
  },
  {
   "cell_type": "markdown",
   "metadata": {},
   "source": [
    "## Загрузка и подготовка данных"
   ]
  },
  {
   "cell_type": "markdown",
   "metadata": {},
   "source": [
    "**Загружаем необходимые библиотеки и файлы с данными геологорозведки трёх регионов.**"
   ]
  },
  {
   "cell_type": "code",
   "execution_count": 1,
   "metadata": {},
   "outputs": [],
   "source": [
    "import pandas as pd\n",
    "import matplotlib.pyplot as plt\n",
    "from sklearn.model_selection import train_test_split\n",
    "from sklearn.linear_model import LinearRegression\n",
    "from sklearn.preprocessing import StandardScaler\n",
    "from scipy import stats as st\n",
    "import numpy as np\n",
    "from sklearn.metrics import mean_squared_error\n",
    "from tqdm import tqdm"
   ]
  },
  {
   "cell_type": "code",
   "execution_count": 2,
   "metadata": {},
   "outputs": [],
   "source": [
    "try:\n",
    "    data_1 = pd.read_csv('/datasets/geo_data_0.csv')\n",
    "except:\n",
    "    data_1 = pd.read_csv('/choosing_location/geo_data_0.csv')"
   ]
  },
  {
   "cell_type": "code",
   "execution_count": 3,
   "metadata": {},
   "outputs": [],
   "source": [
    "try:\n",
    "    data_2 = pd.read_csv('/datasets/geo_data_1.csv')\n",
    "except:\n",
    "    data_2 = pd.read_csv('/choosing_location/geo_data_1.csv')"
   ]
  },
  {
   "cell_type": "code",
   "execution_count": 4,
   "metadata": {},
   "outputs": [],
   "source": [
    "try:\n",
    "    data_3 = pd.read_csv('/datasets/geo_data_2.csv')\n",
    "except:\n",
    "    data_3 = pd.read_csv('/choosing_location/geo_data_2.csv')"
   ]
  },
  {
   "cell_type": "code",
   "execution_count": 5,
   "metadata": {},
   "outputs": [],
   "source": [
    "def info_data(name, data):\n",
    "    print('*' * (len(name) + 8))\n",
    "    print('Таблица', name)\n",
    "    print('*' * (len(name) + 8))\n",
    "    display(data.head())\n",
    "    print('_' * 50)\n",
    "    data.info()\n",
    "    print('_' * 50)\n",
    "    print('Сводная статистика')\n",
    "    display(data.describe())\n",
    "    print('_' * 50)\n",
    "    print('Корреляция признаков')\n",
    "    display(data_3.corr(numeric_only=True))\n",
    "    print('_' * 50)\n",
    "    print('Количество строк с пропусками:', data.isna().sum().max())\n",
    "    print('_' * 50)\n",
    "    print('Количество дубликатов:', data.duplicated().sum())\n",
    "    print('_' * 50)\n",
    "    display(data['id'].value_counts())\n",
    "    print('_' * 50)\n",
    "    print('Графики распределений признаков')\n",
    "    data.hist(figsize=(10, 8), color='green')\n",
    "    plt.show()\n",
    "    print('_' * 75)"
   ]
  },
  {
   "cell_type": "markdown",
   "metadata": {},
   "source": [
    "**Изучаем данные первого региона.**"
   ]
  },
  {
   "cell_type": "code",
   "execution_count": 6,
   "metadata": {
    "scrolled": false
   },
   "outputs": [
    {
     "name": "stdout",
     "output_type": "stream",
     "text": [
      "******************\n",
      "Таблица `Регион 1`\n",
      "******************\n"
     ]
    },
    {
     "data": {
      "text/html": [
       "<div>\n",
       "<style scoped>\n",
       "    .dataframe tbody tr th:only-of-type {\n",
       "        vertical-align: middle;\n",
       "    }\n",
       "\n",
       "    .dataframe tbody tr th {\n",
       "        vertical-align: top;\n",
       "    }\n",
       "\n",
       "    .dataframe thead th {\n",
       "        text-align: right;\n",
       "    }\n",
       "</style>\n",
       "<table border=\"1\" class=\"dataframe\">\n",
       "  <thead>\n",
       "    <tr style=\"text-align: right;\">\n",
       "      <th></th>\n",
       "      <th>id</th>\n",
       "      <th>f0</th>\n",
       "      <th>f1</th>\n",
       "      <th>f2</th>\n",
       "      <th>product</th>\n",
       "    </tr>\n",
       "  </thead>\n",
       "  <tbody>\n",
       "    <tr>\n",
       "      <th>0</th>\n",
       "      <td>txEyH</td>\n",
       "      <td>0.705745</td>\n",
       "      <td>-0.497823</td>\n",
       "      <td>1.221170</td>\n",
       "      <td>105.280062</td>\n",
       "    </tr>\n",
       "    <tr>\n",
       "      <th>1</th>\n",
       "      <td>2acmU</td>\n",
       "      <td>1.334711</td>\n",
       "      <td>-0.340164</td>\n",
       "      <td>4.365080</td>\n",
       "      <td>73.037750</td>\n",
       "    </tr>\n",
       "    <tr>\n",
       "      <th>2</th>\n",
       "      <td>409Wp</td>\n",
       "      <td>1.022732</td>\n",
       "      <td>0.151990</td>\n",
       "      <td>1.419926</td>\n",
       "      <td>85.265647</td>\n",
       "    </tr>\n",
       "    <tr>\n",
       "      <th>3</th>\n",
       "      <td>iJLyR</td>\n",
       "      <td>-0.032172</td>\n",
       "      <td>0.139033</td>\n",
       "      <td>2.978566</td>\n",
       "      <td>168.620776</td>\n",
       "    </tr>\n",
       "    <tr>\n",
       "      <th>4</th>\n",
       "      <td>Xdl7t</td>\n",
       "      <td>1.988431</td>\n",
       "      <td>0.155413</td>\n",
       "      <td>4.751769</td>\n",
       "      <td>154.036647</td>\n",
       "    </tr>\n",
       "  </tbody>\n",
       "</table>\n",
       "</div>"
      ],
      "text/plain": [
       "      id        f0        f1        f2     product\n",
       "0  txEyH  0.705745 -0.497823  1.221170  105.280062\n",
       "1  2acmU  1.334711 -0.340164  4.365080   73.037750\n",
       "2  409Wp  1.022732  0.151990  1.419926   85.265647\n",
       "3  iJLyR -0.032172  0.139033  2.978566  168.620776\n",
       "4  Xdl7t  1.988431  0.155413  4.751769  154.036647"
      ]
     },
     "metadata": {},
     "output_type": "display_data"
    },
    {
     "name": "stdout",
     "output_type": "stream",
     "text": [
      "__________________________________________________\n",
      "<class 'pandas.core.frame.DataFrame'>\n",
      "RangeIndex: 100000 entries, 0 to 99999\n",
      "Data columns (total 5 columns):\n",
      " #   Column   Non-Null Count   Dtype  \n",
      "---  ------   --------------   -----  \n",
      " 0   id       100000 non-null  object \n",
      " 1   f0       100000 non-null  float64\n",
      " 2   f1       100000 non-null  float64\n",
      " 3   f2       100000 non-null  float64\n",
      " 4   product  100000 non-null  float64\n",
      "dtypes: float64(4), object(1)\n",
      "memory usage: 3.8+ MB\n",
      "__________________________________________________\n",
      "Сводная статистика\n"
     ]
    },
    {
     "data": {
      "text/html": [
       "<div>\n",
       "<style scoped>\n",
       "    .dataframe tbody tr th:only-of-type {\n",
       "        vertical-align: middle;\n",
       "    }\n",
       "\n",
       "    .dataframe tbody tr th {\n",
       "        vertical-align: top;\n",
       "    }\n",
       "\n",
       "    .dataframe thead th {\n",
       "        text-align: right;\n",
       "    }\n",
       "</style>\n",
       "<table border=\"1\" class=\"dataframe\">\n",
       "  <thead>\n",
       "    <tr style=\"text-align: right;\">\n",
       "      <th></th>\n",
       "      <th>f0</th>\n",
       "      <th>f1</th>\n",
       "      <th>f2</th>\n",
       "      <th>product</th>\n",
       "    </tr>\n",
       "  </thead>\n",
       "  <tbody>\n",
       "    <tr>\n",
       "      <th>count</th>\n",
       "      <td>100000.000000</td>\n",
       "      <td>100000.000000</td>\n",
       "      <td>100000.000000</td>\n",
       "      <td>100000.000000</td>\n",
       "    </tr>\n",
       "    <tr>\n",
       "      <th>mean</th>\n",
       "      <td>0.500419</td>\n",
       "      <td>0.250143</td>\n",
       "      <td>2.502647</td>\n",
       "      <td>92.500000</td>\n",
       "    </tr>\n",
       "    <tr>\n",
       "      <th>std</th>\n",
       "      <td>0.871832</td>\n",
       "      <td>0.504433</td>\n",
       "      <td>3.248248</td>\n",
       "      <td>44.288691</td>\n",
       "    </tr>\n",
       "    <tr>\n",
       "      <th>min</th>\n",
       "      <td>-1.408605</td>\n",
       "      <td>-0.848218</td>\n",
       "      <td>-12.088328</td>\n",
       "      <td>0.000000</td>\n",
       "    </tr>\n",
       "    <tr>\n",
       "      <th>25%</th>\n",
       "      <td>-0.072580</td>\n",
       "      <td>-0.200881</td>\n",
       "      <td>0.287748</td>\n",
       "      <td>56.497507</td>\n",
       "    </tr>\n",
       "    <tr>\n",
       "      <th>50%</th>\n",
       "      <td>0.502360</td>\n",
       "      <td>0.250252</td>\n",
       "      <td>2.515969</td>\n",
       "      <td>91.849972</td>\n",
       "    </tr>\n",
       "    <tr>\n",
       "      <th>75%</th>\n",
       "      <td>1.073581</td>\n",
       "      <td>0.700646</td>\n",
       "      <td>4.715088</td>\n",
       "      <td>128.564089</td>\n",
       "    </tr>\n",
       "    <tr>\n",
       "      <th>max</th>\n",
       "      <td>2.362331</td>\n",
       "      <td>1.343769</td>\n",
       "      <td>16.003790</td>\n",
       "      <td>185.364347</td>\n",
       "    </tr>\n",
       "  </tbody>\n",
       "</table>\n",
       "</div>"
      ],
      "text/plain": [
       "                  f0             f1             f2        product\n",
       "count  100000.000000  100000.000000  100000.000000  100000.000000\n",
       "mean        0.500419       0.250143       2.502647      92.500000\n",
       "std         0.871832       0.504433       3.248248      44.288691\n",
       "min        -1.408605      -0.848218     -12.088328       0.000000\n",
       "25%        -0.072580      -0.200881       0.287748      56.497507\n",
       "50%         0.502360       0.250252       2.515969      91.849972\n",
       "75%         1.073581       0.700646       4.715088     128.564089\n",
       "max         2.362331       1.343769      16.003790     185.364347"
      ]
     },
     "metadata": {},
     "output_type": "display_data"
    },
    {
     "name": "stdout",
     "output_type": "stream",
     "text": [
      "__________________________________________________\n",
      "Корреляция признаков\n"
     ]
    },
    {
     "data": {
      "text/html": [
       "<div>\n",
       "<style scoped>\n",
       "    .dataframe tbody tr th:only-of-type {\n",
       "        vertical-align: middle;\n",
       "    }\n",
       "\n",
       "    .dataframe tbody tr th {\n",
       "        vertical-align: top;\n",
       "    }\n",
       "\n",
       "    .dataframe thead th {\n",
       "        text-align: right;\n",
       "    }\n",
       "</style>\n",
       "<table border=\"1\" class=\"dataframe\">\n",
       "  <thead>\n",
       "    <tr style=\"text-align: right;\">\n",
       "      <th></th>\n",
       "      <th>f0</th>\n",
       "      <th>f1</th>\n",
       "      <th>f2</th>\n",
       "      <th>product</th>\n",
       "    </tr>\n",
       "  </thead>\n",
       "  <tbody>\n",
       "    <tr>\n",
       "      <th>f0</th>\n",
       "      <td>1.000000</td>\n",
       "      <td>0.000528</td>\n",
       "      <td>-0.000448</td>\n",
       "      <td>-0.001987</td>\n",
       "    </tr>\n",
       "    <tr>\n",
       "      <th>f1</th>\n",
       "      <td>0.000528</td>\n",
       "      <td>1.000000</td>\n",
       "      <td>0.000779</td>\n",
       "      <td>-0.001012</td>\n",
       "    </tr>\n",
       "    <tr>\n",
       "      <th>f2</th>\n",
       "      <td>-0.000448</td>\n",
       "      <td>0.000779</td>\n",
       "      <td>1.000000</td>\n",
       "      <td>0.445871</td>\n",
       "    </tr>\n",
       "    <tr>\n",
       "      <th>product</th>\n",
       "      <td>-0.001987</td>\n",
       "      <td>-0.001012</td>\n",
       "      <td>0.445871</td>\n",
       "      <td>1.000000</td>\n",
       "    </tr>\n",
       "  </tbody>\n",
       "</table>\n",
       "</div>"
      ],
      "text/plain": [
       "               f0        f1        f2   product\n",
       "f0       1.000000  0.000528 -0.000448 -0.001987\n",
       "f1       0.000528  1.000000  0.000779 -0.001012\n",
       "f2      -0.000448  0.000779  1.000000  0.445871\n",
       "product -0.001987 -0.001012  0.445871  1.000000"
      ]
     },
     "metadata": {},
     "output_type": "display_data"
    },
    {
     "name": "stdout",
     "output_type": "stream",
     "text": [
      "__________________________________________________\n",
      "Количество строк с пропусками: 0\n",
      "__________________________________________________\n",
      "Количество дубликатов: 0\n",
      "__________________________________________________\n"
     ]
    },
    {
     "data": {
      "text/plain": [
       "fiKDv    2\n",
       "QcMuo    2\n",
       "AGS9W    2\n",
       "Tdehs    2\n",
       "74z30    2\n",
       "        ..\n",
       "x8osI    1\n",
       "gZ7tR    1\n",
       "Zw8hj    1\n",
       "zcrQO    1\n",
       "1CWhH    1\n",
       "Name: id, Length: 99990, dtype: int64"
      ]
     },
     "metadata": {},
     "output_type": "display_data"
    },
    {
     "name": "stdout",
     "output_type": "stream",
     "text": [
      "__________________________________________________\n",
      "Графики распределений признаков\n"
     ]
    },
    {
     "data": {
      "image/png": "[encoded data removed]",
      "text/plain": [
       "<Figure size 1000x800 with 4 Axes>"
      ]
     },
     "metadata": {},
     "output_type": "display_data"
    },
    {
     "name": "stdout",
     "output_type": "stream",
     "text": [
      "___________________________________________________________________________\n"
     ]
    }
   ],
   "source": [
    "info_data('`Регион 1`', data_1)"
   ]
  },
  {
   "cell_type": "markdown",
   "metadata": {},
   "source": [
    "**Изучаем данные второго региона.**"
   ]
  },
  {
   "cell_type": "code",
   "execution_count": 7,
   "metadata": {
    "scrolled": false
   },
   "outputs": [
    {
     "name": "stdout",
     "output_type": "stream",
     "text": [
      "******************\n",
      "Таблица `Регион 2`\n",
      "******************\n"
     ]
    },
    {
     "data": {
      "text/html": [
       "<div>\n",
       "<style scoped>\n",
       "    .dataframe tbody tr th:only-of-type {\n",
       "        vertical-align: middle;\n",
       "    }\n",
       "\n",
       "    .dataframe tbody tr th {\n",
       "        vertical-align: top;\n",
       "    }\n",
       "\n",
       "    .dataframe thead th {\n",
       "        text-align: right;\n",
       "    }\n",
       "</style>\n",
       "<table border=\"1\" class=\"dataframe\">\n",
       "  <thead>\n",
       "    <tr style=\"text-align: right;\">\n",
       "      <th></th>\n",
       "      <th>id</th>\n",
       "      <th>f0</th>\n",
       "      <th>f1</th>\n",
       "      <th>f2</th>\n",
       "      <th>product</th>\n",
       "    </tr>\n",
       "  </thead>\n",
       "  <tbody>\n",
       "    <tr>\n",
       "      <th>0</th>\n",
       "      <td>kBEdx</td>\n",
       "      <td>-15.001348</td>\n",
       "      <td>-8.276000</td>\n",
       "      <td>-0.005876</td>\n",
       "      <td>3.179103</td>\n",
       "    </tr>\n",
       "    <tr>\n",
       "      <th>1</th>\n",
       "      <td>62mP7</td>\n",
       "      <td>14.272088</td>\n",
       "      <td>-3.475083</td>\n",
       "      <td>0.999183</td>\n",
       "      <td>26.953261</td>\n",
       "    </tr>\n",
       "    <tr>\n",
       "      <th>2</th>\n",
       "      <td>vyE1P</td>\n",
       "      <td>6.263187</td>\n",
       "      <td>-5.948386</td>\n",
       "      <td>5.001160</td>\n",
       "      <td>134.766305</td>\n",
       "    </tr>\n",
       "    <tr>\n",
       "      <th>3</th>\n",
       "      <td>KcrkZ</td>\n",
       "      <td>-13.081196</td>\n",
       "      <td>-11.506057</td>\n",
       "      <td>4.999415</td>\n",
       "      <td>137.945408</td>\n",
       "    </tr>\n",
       "    <tr>\n",
       "      <th>4</th>\n",
       "      <td>AHL4O</td>\n",
       "      <td>12.702195</td>\n",
       "      <td>-8.147433</td>\n",
       "      <td>5.004363</td>\n",
       "      <td>134.766305</td>\n",
       "    </tr>\n",
       "  </tbody>\n",
       "</table>\n",
       "</div>"
      ],
      "text/plain": [
       "      id         f0         f1        f2     product\n",
       "0  kBEdx -15.001348  -8.276000 -0.005876    3.179103\n",
       "1  62mP7  14.272088  -3.475083  0.999183   26.953261\n",
       "2  vyE1P   6.263187  -5.948386  5.001160  134.766305\n",
       "3  KcrkZ -13.081196 -11.506057  4.999415  137.945408\n",
       "4  AHL4O  12.702195  -8.147433  5.004363  134.766305"
      ]
     },
     "metadata": {},
     "output_type": "display_data"
    },
    {
     "name": "stdout",
     "output_type": "stream",
     "text": [
      "__________________________________________________\n",
      "<class 'pandas.core.frame.DataFrame'>\n",
      "RangeIndex: 100000 entries, 0 to 99999\n",
      "Data columns (total 5 columns):\n",
      " #   Column   Non-Null Count   Dtype  \n",
      "---  ------   --------------   -----  \n",
      " 0   id       100000 non-null  object \n",
      " 1   f0       100000 non-null  float64\n",
      " 2   f1       100000 non-null  float64\n",
      " 3   f2       100000 non-null  float64\n",
      " 4   product  100000 non-null  float64\n",
      "dtypes: float64(4), object(1)\n",
      "memory usage: 3.8+ MB\n",
      "__________________________________________________\n",
      "Сводная статистика\n"
     ]
    },
    {
     "data": {
      "text/html": [
       "<div>\n",
       "<style scoped>\n",
       "    .dataframe tbody tr th:only-of-type {\n",
       "        vertical-align: middle;\n",
       "    }\n",
       "\n",
       "    .dataframe tbody tr th {\n",
       "        vertical-align: top;\n",
       "    }\n",
       "\n",
       "    .dataframe thead th {\n",
       "        text-align: right;\n",
       "    }\n",
       "</style>\n",
       "<table border=\"1\" class=\"dataframe\">\n",
       "  <thead>\n",
       "    <tr style=\"text-align: right;\">\n",
       "      <th></th>\n",
       "      <th>f0</th>\n",
       "      <th>f1</th>\n",
       "      <th>f2</th>\n",
       "      <th>product</th>\n",
       "    </tr>\n",
       "  </thead>\n",
       "  <tbody>\n",
       "    <tr>\n",
       "      <th>count</th>\n",
       "      <td>100000.000000</td>\n",
       "      <td>100000.000000</td>\n",
       "      <td>100000.000000</td>\n",
       "      <td>100000.000000</td>\n",
       "    </tr>\n",
       "    <tr>\n",
       "      <th>mean</th>\n",
       "      <td>1.141296</td>\n",
       "      <td>-4.796579</td>\n",
       "      <td>2.494541</td>\n",
       "      <td>68.825000</td>\n",
       "    </tr>\n",
       "    <tr>\n",
       "      <th>std</th>\n",
       "      <td>8.965932</td>\n",
       "      <td>5.119872</td>\n",
       "      <td>1.703572</td>\n",
       "      <td>45.944423</td>\n",
       "    </tr>\n",
       "    <tr>\n",
       "      <th>min</th>\n",
       "      <td>-31.609576</td>\n",
       "      <td>-26.358598</td>\n",
       "      <td>-0.018144</td>\n",
       "      <td>0.000000</td>\n",
       "    </tr>\n",
       "    <tr>\n",
       "      <th>25%</th>\n",
       "      <td>-6.298551</td>\n",
       "      <td>-8.267985</td>\n",
       "      <td>1.000021</td>\n",
       "      <td>26.953261</td>\n",
       "    </tr>\n",
       "    <tr>\n",
       "      <th>50%</th>\n",
       "      <td>1.153055</td>\n",
       "      <td>-4.813172</td>\n",
       "      <td>2.011479</td>\n",
       "      <td>57.085625</td>\n",
       "    </tr>\n",
       "    <tr>\n",
       "      <th>75%</th>\n",
       "      <td>8.621015</td>\n",
       "      <td>-1.332816</td>\n",
       "      <td>3.999904</td>\n",
       "      <td>107.813044</td>\n",
       "    </tr>\n",
       "    <tr>\n",
       "      <th>max</th>\n",
       "      <td>29.421755</td>\n",
       "      <td>18.734063</td>\n",
       "      <td>5.019721</td>\n",
       "      <td>137.945408</td>\n",
       "    </tr>\n",
       "  </tbody>\n",
       "</table>\n",
       "</div>"
      ],
      "text/plain": [
       "                  f0             f1             f2        product\n",
       "count  100000.000000  100000.000000  100000.000000  100000.000000\n",
       "mean        1.141296      -4.796579       2.494541      68.825000\n",
       "std         8.965932       5.119872       1.703572      45.944423\n",
       "min       -31.609576     -26.358598      -0.018144       0.000000\n",
       "25%        -6.298551      -8.267985       1.000021      26.953261\n",
       "50%         1.153055      -4.813172       2.011479      57.085625\n",
       "75%         8.621015      -1.332816       3.999904     107.813044\n",
       "max        29.421755      18.734063       5.019721     137.945408"
      ]
     },
     "metadata": {},
     "output_type": "display_data"
    },
    {
     "name": "stdout",
     "output_type": "stream",
     "text": [
      "__________________________________________________\n",
      "Корреляция признаков\n"
     ]
    },
    {
     "data": {
      "text/html": [
       "<div>\n",
       "<style scoped>\n",
       "    .dataframe tbody tr th:only-of-type {\n",
       "        vertical-align: middle;\n",
       "    }\n",
       "\n",
       "    .dataframe tbody tr th {\n",
       "        vertical-align: top;\n",
       "    }\n",
       "\n",
       "    .dataframe thead th {\n",
       "        text-align: right;\n",
       "    }\n",
       "</style>\n",
       "<table border=\"1\" class=\"dataframe\">\n",
       "  <thead>\n",
       "    <tr style=\"text-align: right;\">\n",
       "      <th></th>\n",
       "      <th>f0</th>\n",
       "      <th>f1</th>\n",
       "      <th>f2</th>\n",
       "      <th>product</th>\n",
       "    </tr>\n",
       "  </thead>\n",
       "  <tbody>\n",
       "    <tr>\n",
       "      <th>f0</th>\n",
       "      <td>1.000000</td>\n",
       "      <td>0.000528</td>\n",
       "      <td>-0.000448</td>\n",
       "      <td>-0.001987</td>\n",
       "    </tr>\n",
       "    <tr>\n",
       "      <th>f1</th>\n",
       "      <td>0.000528</td>\n",
       "      <td>1.000000</td>\n",
       "      <td>0.000779</td>\n",
       "      <td>-0.001012</td>\n",
       "    </tr>\n",
       "    <tr>\n",
       "      <th>f2</th>\n",
       "      <td>-0.000448</td>\n",
       "      <td>0.000779</td>\n",
       "      <td>1.000000</td>\n",
       "      <td>0.445871</td>\n",
       "    </tr>\n",
       "    <tr>\n",
       "      <th>product</th>\n",
       "      <td>-0.001987</td>\n",
       "      <td>-0.001012</td>\n",
       "      <td>0.445871</td>\n",
       "      <td>1.000000</td>\n",
       "    </tr>\n",
       "  </tbody>\n",
       "</table>\n",
       "</div>"
      ],
      "text/plain": [
       "               f0        f1        f2   product\n",
       "f0       1.000000  0.000528 -0.000448 -0.001987\n",
       "f1       0.000528  1.000000  0.000779 -0.001012\n",
       "f2      -0.000448  0.000779  1.000000  0.445871\n",
       "product -0.001987 -0.001012  0.445871  1.000000"
      ]
     },
     "metadata": {},
     "output_type": "display_data"
    },
    {
     "name": "stdout",
     "output_type": "stream",
     "text": [
      "__________________________________________________\n",
      "Количество строк с пропусками: 0\n",
      "__________________________________________________\n",
      "Количество дубликатов: 0\n",
      "__________________________________________________\n"
     ]
    },
    {
     "data": {
      "text/plain": [
       "wt4Uk    2\n",
       "LHZR0    2\n",
       "5ltQ6    2\n",
       "bfPNe    2\n",
       "kBEdx    1\n",
       "        ..\n",
       "eup2F    1\n",
       "5Z8yO    1\n",
       "HwvM0    1\n",
       "MZgPf    1\n",
       "relB0    1\n",
       "Name: id, Length: 99996, dtype: int64"
      ]
     },
     "metadata": {},
     "output_type": "display_data"
    },
    {
     "name": "stdout",
     "output_type": "stream",
     "text": [
      "__________________________________________________\n",
      "Графики распределений признаков\n"
     ]
    },
    {
     "data": {
      "image/png": "[encoded data removed]",
      "text/plain": [
       "<Figure size 1000x800 with 4 Axes>"
      ]
     },
     "metadata": {},
     "output_type": "display_data"
    },
    {
     "name": "stdout",
     "output_type": "stream",
     "text": [
      "___________________________________________________________________________\n"
     ]
    }
   ],
   "source": [
    "info_data('`Регион 2`', data_2)"
   ]
  },
  {
   "cell_type": "markdown",
   "metadata": {},
   "source": [
    "**Изучаем данные третьего региона.**"
   ]
  },
  {
   "cell_type": "code",
   "execution_count": 8,
   "metadata": {
    "scrolled": false
   },
   "outputs": [
    {
     "name": "stdout",
     "output_type": "stream",
     "text": [
      "******************\n",
      "Таблица `Регион 3`\n",
      "******************\n"
     ]
    },
    {
     "data": {
      "text/html": [
       "<div>\n",
       "<style scoped>\n",
       "    .dataframe tbody tr th:only-of-type {\n",
       "        vertical-align: middle;\n",
       "    }\n",
       "\n",
       "    .dataframe tbody tr th {\n",
       "        vertical-align: top;\n",
       "    }\n",
       "\n",
       "    .dataframe thead th {\n",
       "        text-align: right;\n",
       "    }\n",
       "</style>\n",
       "<table border=\"1\" class=\"dataframe\">\n",
       "  <thead>\n",
       "    <tr style=\"text-align: right;\">\n",
       "      <th></th>\n",
       "      <th>id</th>\n",
       "      <th>f0</th>\n",
       "      <th>f1</th>\n",
       "      <th>f2</th>\n",
       "      <th>product</th>\n",
       "    </tr>\n",
       "  </thead>\n",
       "  <tbody>\n",
       "    <tr>\n",
       "      <th>0</th>\n",
       "      <td>fwXo0</td>\n",
       "      <td>-1.146987</td>\n",
       "      <td>0.963328</td>\n",
       "      <td>-0.828965</td>\n",
       "      <td>27.758673</td>\n",
       "    </tr>\n",
       "    <tr>\n",
       "      <th>1</th>\n",
       "      <td>WJtFt</td>\n",
       "      <td>0.262778</td>\n",
       "      <td>0.269839</td>\n",
       "      <td>-2.530187</td>\n",
       "      <td>56.069697</td>\n",
       "    </tr>\n",
       "    <tr>\n",
       "      <th>2</th>\n",
       "      <td>ovLUW</td>\n",
       "      <td>0.194587</td>\n",
       "      <td>0.289035</td>\n",
       "      <td>-5.586433</td>\n",
       "      <td>62.871910</td>\n",
       "    </tr>\n",
       "    <tr>\n",
       "      <th>3</th>\n",
       "      <td>q6cA6</td>\n",
       "      <td>2.236060</td>\n",
       "      <td>-0.553760</td>\n",
       "      <td>0.930038</td>\n",
       "      <td>114.572842</td>\n",
       "    </tr>\n",
       "    <tr>\n",
       "      <th>4</th>\n",
       "      <td>WPMUX</td>\n",
       "      <td>-0.515993</td>\n",
       "      <td>1.716266</td>\n",
       "      <td>5.899011</td>\n",
       "      <td>149.600746</td>\n",
       "    </tr>\n",
       "  </tbody>\n",
       "</table>\n",
       "</div>"
      ],
      "text/plain": [
       "      id        f0        f1        f2     product\n",
       "0  fwXo0 -1.146987  0.963328 -0.828965   27.758673\n",
       "1  WJtFt  0.262778  0.269839 -2.530187   56.069697\n",
       "2  ovLUW  0.194587  0.289035 -5.586433   62.871910\n",
       "3  q6cA6  2.236060 -0.553760  0.930038  114.572842\n",
       "4  WPMUX -0.515993  1.716266  5.899011  149.600746"
      ]
     },
     "metadata": {},
     "output_type": "display_data"
    },
    {
     "name": "stdout",
     "output_type": "stream",
     "text": [
      "__________________________________________________\n",
      "<class 'pandas.core.frame.DataFrame'>\n",
      "RangeIndex: 100000 entries, 0 to 99999\n",
      "Data columns (total 5 columns):\n",
      " #   Column   Non-Null Count   Dtype  \n",
      "---  ------   --------------   -----  \n",
      " 0   id       100000 non-null  object \n",
      " 1   f0       100000 non-null  float64\n",
      " 2   f1       100000 non-null  float64\n",
      " 3   f2       100000 non-null  float64\n",
      " 4   product  100000 non-null  float64\n",
      "dtypes: float64(4), object(1)\n",
      "memory usage: 3.8+ MB\n",
      "__________________________________________________\n",
      "Сводная статистика\n"
     ]
    },
    {
     "data": {
      "text/html": [
       "<div>\n",
       "<style scoped>\n",
       "    .dataframe tbody tr th:only-of-type {\n",
       "        vertical-align: middle;\n",
       "    }\n",
       "\n",
       "    .dataframe tbody tr th {\n",
       "        vertical-align: top;\n",
       "    }\n",
       "\n",
       "    .dataframe thead th {\n",
       "        text-align: right;\n",
       "    }\n",
       "</style>\n",
       "<table border=\"1\" class=\"dataframe\">\n",
       "  <thead>\n",
       "    <tr style=\"text-align: right;\">\n",
       "      <th></th>\n",
       "      <th>f0</th>\n",
       "      <th>f1</th>\n",
       "      <th>f2</th>\n",
       "      <th>product</th>\n",
       "    </tr>\n",
       "  </thead>\n",
       "  <tbody>\n",
       "    <tr>\n",
       "      <th>count</th>\n",
       "      <td>100000.000000</td>\n",
       "      <td>100000.000000</td>\n",
       "      <td>100000.000000</td>\n",
       "      <td>100000.000000</td>\n",
       "    </tr>\n",
       "    <tr>\n",
       "      <th>mean</th>\n",
       "      <td>0.002023</td>\n",
       "      <td>-0.002081</td>\n",
       "      <td>2.495128</td>\n",
       "      <td>95.000000</td>\n",
       "    </tr>\n",
       "    <tr>\n",
       "      <th>std</th>\n",
       "      <td>1.732045</td>\n",
       "      <td>1.730417</td>\n",
       "      <td>3.473445</td>\n",
       "      <td>44.749921</td>\n",
       "    </tr>\n",
       "    <tr>\n",
       "      <th>min</th>\n",
       "      <td>-8.760004</td>\n",
       "      <td>-7.084020</td>\n",
       "      <td>-11.970335</td>\n",
       "      <td>0.000000</td>\n",
       "    </tr>\n",
       "    <tr>\n",
       "      <th>25%</th>\n",
       "      <td>-1.162288</td>\n",
       "      <td>-1.174820</td>\n",
       "      <td>0.130359</td>\n",
       "      <td>59.450441</td>\n",
       "    </tr>\n",
       "    <tr>\n",
       "      <th>50%</th>\n",
       "      <td>0.009424</td>\n",
       "      <td>-0.009482</td>\n",
       "      <td>2.484236</td>\n",
       "      <td>94.925613</td>\n",
       "    </tr>\n",
       "    <tr>\n",
       "      <th>75%</th>\n",
       "      <td>1.158535</td>\n",
       "      <td>1.163678</td>\n",
       "      <td>4.858794</td>\n",
       "      <td>130.595027</td>\n",
       "    </tr>\n",
       "    <tr>\n",
       "      <th>max</th>\n",
       "      <td>7.238262</td>\n",
       "      <td>7.844801</td>\n",
       "      <td>16.739402</td>\n",
       "      <td>190.029838</td>\n",
       "    </tr>\n",
       "  </tbody>\n",
       "</table>\n",
       "</div>"
      ],
      "text/plain": [
       "                  f0             f1             f2        product\n",
       "count  100000.000000  100000.000000  100000.000000  100000.000000\n",
       "mean        0.002023      -0.002081       2.495128      95.000000\n",
       "std         1.732045       1.730417       3.473445      44.749921\n",
       "min        -8.760004      -7.084020     -11.970335       0.000000\n",
       "25%        -1.162288      -1.174820       0.130359      59.450441\n",
       "50%         0.009424      -0.009482       2.484236      94.925613\n",
       "75%         1.158535       1.163678       4.858794     130.595027\n",
       "max         7.238262       7.844801      16.739402     190.029838"
      ]
     },
     "metadata": {},
     "output_type": "display_data"
    },
    {
     "name": "stdout",
     "output_type": "stream",
     "text": [
      "__________________________________________________\n",
      "Корреляция признаков\n"
     ]
    },
    {
     "data": {
      "text/html": [
       "<div>\n",
       "<style scoped>\n",
       "    .dataframe tbody tr th:only-of-type {\n",
       "        vertical-align: middle;\n",
       "    }\n",
       "\n",
       "    .dataframe tbody tr th {\n",
       "        vertical-align: top;\n",
       "    }\n",
       "\n",
       "    .dataframe thead th {\n",
       "        text-align: right;\n",
       "    }\n",
       "</style>\n",
       "<table border=\"1\" class=\"dataframe\">\n",
       "  <thead>\n",
       "    <tr style=\"text-align: right;\">\n",
       "      <th></th>\n",
       "      <th>f0</th>\n",
       "      <th>f1</th>\n",
       "      <th>f2</th>\n",
       "      <th>product</th>\n",
       "    </tr>\n",
       "  </thead>\n",
       "  <tbody>\n",
       "    <tr>\n",
       "      <th>f0</th>\n",
       "      <td>1.000000</td>\n",
       "      <td>0.000528</td>\n",
       "      <td>-0.000448</td>\n",
       "      <td>-0.001987</td>\n",
       "    </tr>\n",
       "    <tr>\n",
       "      <th>f1</th>\n",
       "      <td>0.000528</td>\n",
       "      <td>1.000000</td>\n",
       "      <td>0.000779</td>\n",
       "      <td>-0.001012</td>\n",
       "    </tr>\n",
       "    <tr>\n",
       "      <th>f2</th>\n",
       "      <td>-0.000448</td>\n",
       "      <td>0.000779</td>\n",
       "      <td>1.000000</td>\n",
       "      <td>0.445871</td>\n",
       "    </tr>\n",
       "    <tr>\n",
       "      <th>product</th>\n",
       "      <td>-0.001987</td>\n",
       "      <td>-0.001012</td>\n",
       "      <td>0.445871</td>\n",
       "      <td>1.000000</td>\n",
       "    </tr>\n",
       "  </tbody>\n",
       "</table>\n",
       "</div>"
      ],
      "text/plain": [
       "               f0        f1        f2   product\n",
       "f0       1.000000  0.000528 -0.000448 -0.001987\n",
       "f1       0.000528  1.000000  0.000779 -0.001012\n",
       "f2      -0.000448  0.000779  1.000000  0.445871\n",
       "product -0.001987 -0.001012  0.445871  1.000000"
      ]
     },
     "metadata": {},
     "output_type": "display_data"
    },
    {
     "name": "stdout",
     "output_type": "stream",
     "text": [
      "__________________________________________________\n",
      "Количество строк с пропусками: 0\n",
      "__________________________________________________\n",
      "Количество дубликатов: 0\n",
      "__________________________________________________\n"
     ]
    },
    {
     "data": {
      "text/plain": [
       "VF7Jo    2\n",
       "KUPhW    2\n",
       "xCHr8    2\n",
       "Vcm5J    2\n",
       "fwXo0    1\n",
       "        ..\n",
       "bdHH6    1\n",
       "copuS    1\n",
       "hZYbu    1\n",
       "7K1cP    1\n",
       "V9kWn    1\n",
       "Name: id, Length: 99996, dtype: int64"
      ]
     },
     "metadata": {},
     "output_type": "display_data"
    },
    {
     "name": "stdout",
     "output_type": "stream",
     "text": [
      "__________________________________________________\n",
      "Графики распределений признаков\n"
     ]
    },
    {
     "data": {
      "image/png": "[encoded data removed]",
      "text/plain": [
       "<Figure size 1000x800 with 4 Axes>"
      ]
     },
     "metadata": {},
     "output_type": "display_data"
    },
    {
     "name": "stdout",
     "output_type": "stream",
     "text": [
      "___________________________________________________________________________\n"
     ]
    }
   ],
   "source": [
    "info_data('`Регион 3`', data_3)"
   ]
  },
  {
   "cell_type": "markdown",
   "metadata": {},
   "source": [
    "Данные успешно загружены и изучены, дубликатов нет, предобработка не требуется."
   ]
  },
  {
   "cell_type": "markdown",
   "metadata": {},
   "source": [
    "## Обучение и проверка модели"
   ]
  },
  {
   "cell_type": "markdown",
   "metadata": {},
   "source": [
    "### Разобьём данные на обучающую и валидационную выборки в соотношении 75:25 "
   ]
  },
  {
   "cell_type": "markdown",
   "metadata": {},
   "source": [
    "**Регион 1**"
   ]
  },
  {
   "cell_type": "code",
   "execution_count": 9,
   "metadata": {},
   "outputs": [],
   "source": [
    "features_1 = data_1.drop(['id', 'product'], axis=1)\n",
    "target_1 = data_1['product']"
   ]
  },
  {
   "cell_type": "code",
   "execution_count": 10,
   "metadata": {},
   "outputs": [],
   "source": [
    "features_train_1, features_valid_1, target_train_1, target_valid_1 = train_test_split(\n",
    "    features_1, target_1, test_size=0.25, random_state=12345) "
   ]
  },
  {
   "cell_type": "code",
   "execution_count": 11,
   "metadata": {},
   "outputs": [
    {
     "name": "stdout",
     "output_type": "stream",
     "text": [
      "(75000, 3)\n",
      "(75000,)\n",
      "(25000, 3)\n",
      "(25000,)\n"
     ]
    }
   ],
   "source": [
    "print(features_train_1.shape)\n",
    "print(target_train_1.shape)\n",
    "print(features_valid_1.shape)\n",
    "print(target_valid_1.shape)"
   ]
  },
  {
   "cell_type": "markdown",
   "metadata": {},
   "source": [
    "**Регион 2**"
   ]
  },
  {
   "cell_type": "code",
   "execution_count": 12,
   "metadata": {},
   "outputs": [],
   "source": [
    "features_2 = data_2.drop(['id', 'product'], axis=1)\n",
    "target_2 = data_2['product']"
   ]
  },
  {
   "cell_type": "code",
   "execution_count": 13,
   "metadata": {},
   "outputs": [],
   "source": [
    "features_train_2, features_valid_2, target_train_2, target_valid_2 = train_test_split(\n",
    "    features_2, target_2, test_size=0.25, random_state=12345) "
   ]
  },
  {
   "cell_type": "code",
   "execution_count": 14,
   "metadata": {},
   "outputs": [
    {
     "name": "stdout",
     "output_type": "stream",
     "text": [
      "(75000, 3)\n",
      "(75000,)\n",
      "(25000, 3)\n",
      "(25000,)\n"
     ]
    }
   ],
   "source": [
    "print(features_train_2.shape)\n",
    "print(target_train_2.shape)\n",
    "print(features_valid_2.shape)\n",
    "print(target_valid_2.shape)"
   ]
  },
  {
   "cell_type": "markdown",
   "metadata": {},
   "source": [
    "**Регион 3**"
   ]
  },
  {
   "cell_type": "code",
   "execution_count": 15,
   "metadata": {},
   "outputs": [],
   "source": [
    "features_3 = data_3.drop(['id', 'product'], axis=1)\n",
    "target_3 = data_3['product']"
   ]
  },
  {
   "cell_type": "code",
   "execution_count": 16,
   "metadata": {},
   "outputs": [],
   "source": [
    "features_train_3, features_valid_3, target_train_3, target_valid_3 = train_test_split(\n",
    "    features_3, target_3, test_size=0.25, random_state=12345) "
   ]
  },
  {
   "cell_type": "code",
   "execution_count": 17,
   "metadata": {},
   "outputs": [
    {
     "name": "stdout",
     "output_type": "stream",
     "text": [
      "(75000, 3)\n",
      "(75000,)\n",
      "(25000, 3)\n",
      "(25000,)\n"
     ]
    }
   ],
   "source": [
    "print(features_train_3.shape)\n",
    "print(target_train_3.shape)\n",
    "print(features_valid_3.shape)\n",
    "print(target_valid_3.shape)"
   ]
  },
  {
   "cell_type": "markdown",
   "metadata": {},
   "source": [
    "Разбили данные на две выборки для каждого региона. Целевой признак - объём сырья, остальные столбцы - численные признаки. Столбец 'id' удалили, так как он не понадобится для дальнейшей работы. Проверили правильность деления на выборки. "
   ]
  },
  {
   "cell_type": "markdown",
   "metadata": {},
   "source": [
    "### Обучим модель, сделаем предсказания на валидационной выборке и техникой RMSE оценим качество моделей"
   ]
  },
  {
   "cell_type": "markdown",
   "metadata": {},
   "source": [
    "**Регион 1**"
   ]
  },
  {
   "cell_type": "code",
   "execution_count": 18,
   "metadata": {},
   "outputs": [
    {
     "name": "stdout",
     "output_type": "stream",
     "text": [
      "Предсказанный средний запас сырья: 92.59 тыс.баррелей\n",
      "RMSE модели: 37.58\n"
     ]
    }
   ],
   "source": [
    "model_1 = LinearRegression()\n",
    "model_1.fit(features_train_1,target_train_1)\n",
    "predict_1 = model_1.predict(features_valid_1)\n",
    "rmse_1 = mean_squared_error(target_valid_1, predict_1) ** 0.5\n",
    "print('Предсказанный средний запас сырья: {0:.2f} тыс.баррелей'.format(predict_1.mean()))\n",
    "print('RMSE модели: {0:.2f}'.format(rmse_1))"
   ]
  },
  {
   "cell_type": "markdown",
   "metadata": {},
   "source": [
    "**Регион 2**"
   ]
  },
  {
   "cell_type": "code",
   "execution_count": 19,
   "metadata": {},
   "outputs": [
    {
     "name": "stdout",
     "output_type": "stream",
     "text": [
      "Предсказанный средний запас сырья: 68.73 тыс.баррелей\n",
      "RMSE модели: 0.89\n"
     ]
    }
   ],
   "source": [
    "model_2 = LinearRegression()\n",
    "model_2.fit(features_train_2,target_train_2)\n",
    "predict_2 = model_2.predict(features_valid_2)\n",
    "rmse_2 = mean_squared_error(target_valid_2, predict_2) ** 0.5\n",
    "print('Предсказанный средний запас сырья: {0:.2f} тыс.баррелей'.format(predict_2.mean()))\n",
    "print('RMSE модели: {0:.2f}'.format(rmse_2))"
   ]
  },
  {
   "cell_type": "markdown",
   "metadata": {},
   "source": [
    "**Регион 3**"
   ]
  },
  {
   "cell_type": "code",
   "execution_count": 20,
   "metadata": {},
   "outputs": [
    {
     "name": "stdout",
     "output_type": "stream",
     "text": [
      "Предсказанный средний запас сырья: 94.97 тыс.баррелей\n",
      "RMSE модели: 40.03\n"
     ]
    }
   ],
   "source": [
    "model_3 = LinearRegression()\n",
    "model_3.fit(features_train_3,target_train_3)\n",
    "predict_3 = model_3.predict(features_valid_3)\n",
    "rmse_3 = mean_squared_error(target_valid_3, predict_3) ** 0.5\n",
    "print('Предсказанный средний запас сырья: {0:.2f} тыс.баррелей'.format(predict_3.mean()))\n",
    "print('RMSE модели: {0:.2f}'.format(rmse_3))"
   ]
  },
  {
   "cell_type": "markdown",
   "metadata": {},
   "source": [
    "### Предсказания и правильные ответы на валидационной выборке"
   ]
  },
  {
   "cell_type": "code",
   "execution_count": 21,
   "metadata": {},
   "outputs": [
    {
     "name": "stdout",
     "output_type": "stream",
     "text": [
      "Регион 1:\n",
      " предсказанный средний запас сырья: 92.59256778438035\n",
      " правильные ответы: 92.07859674082927\n",
      "\n",
      "Регион 2\n",
      " предсказанный средний запас сырья: 68.72854689544602\n",
      " правильные ответы: 68.72313602435997\n",
      "\n",
      "Регион 3\n",
      " предсказанный средний запас сырья: 94.96504596800489\n",
      " правильные ответы: 94.88423280885438\n"
     ]
    }
   ],
   "source": [
    "print('Регион 1:')\n",
    "print(' предсказанный средний запас сырья:', predict_1.mean())\n",
    "print(' правильные ответы:', target_valid_1.mean())\n",
    "print()\n",
    "print('Регион 2')\n",
    "print(' предсказанный средний запас сырья:', predict_2.mean())\n",
    "print(' правильные ответы:', target_valid_2.mean())\n",
    "print()\n",
    "print('Регион 3')\n",
    "print(' предсказанный средний запас сырья:', predict_3.mean())\n",
    "print(' правильные ответы:', target_valid_3.mean())"
   ]
  },
  {
   "cell_type": "markdown",
   "metadata": {},
   "source": [
    "### Средний запас предсказанного сырья и RMSE модели"
   ]
  },
  {
   "cell_type": "code",
   "execution_count": 22,
   "metadata": {},
   "outputs": [
    {
     "name": "stdout",
     "output_type": "stream",
     "text": [
      "Регион 1:\n",
      " предсказанный средний запас сырья: 92.59 тыс.баррелей\n",
      " RMSE модели: 37.58\n",
      "\n",
      "Регион 2\n",
      " предсказанный средний запас сырья: 68.73 тыс.баррелей\n",
      " RMSE модели: 0.89\n",
      "\n",
      "Регион 3\n",
      " предсказанный средний запас сырья: 94.97 тыс.баррелей\n",
      " RMSE модели: 40.03\n"
     ]
    }
   ],
   "source": [
    "print('Регион 1:')\n",
    "print(' предсказанный средний запас сырья: {0:.2f} тыс.баррелей'.format(predict_1.mean()))\n",
    "print(' RMSE модели: {0:.2f}'.format(rmse_1))\n",
    "print()\n",
    "print('Регион 2')\n",
    "print(' предсказанный средний запас сырья: {0:.2f} тыс.баррелей'.format(predict_2.mean()))\n",
    "print(' RMSE модели: {0:.2f}'.format(rmse_2))\n",
    "print()\n",
    "print('Регион 3')\n",
    "print(' предсказанный средний запас сырья: {0:.2f} тыс.баррелей'.format(predict_3.mean()))\n",
    "print(' RMSE модели: {0:.2f}'.format(rmse_3))"
   ]
  },
  {
   "cell_type": "markdown",
   "metadata": {},
   "source": [
    "Обучили модели, сделали предсказания, сохранили в новых переменных предсказания и правильные ответы на валидационной выборке. RMSE для модели второго региона значительно меньше, чем для двух других, а предсказанный средний объём сырья тоже меньше во втором регионе. Так как среднеквадратичная ошибка для первого и третьего региона довольно большая, можно предположить, что и предсказанные данные по запасам сырья тоже завышены."
   ]
  },
  {
   "cell_type": "markdown",
   "metadata": {},
   "source": [
    "## Подготовка к расчёту прибыли"
   ]
  },
  {
   "cell_type": "markdown",
   "metadata": {},
   "source": [
    "**Ключевые значения для расчётов сохраним в отдельных переменных**"
   ]
  },
  {
   "cell_type": "code",
   "execution_count": 23,
   "metadata": {},
   "outputs": [],
   "source": [
    "BUDGET = 10000000 #тыс. рублей\n",
    "INCOME_BARREL = 450 #тыс. рублей - доход за тыс. баррелей\n",
    "POINTS_DEVEL = 500 #количество исследуемых точек для разработки\n",
    "POINTS_BEST = 200 #количество лучших точек для разработки"
   ]
  },
  {
   "cell_type": "markdown",
   "metadata": {},
   "source": [
    "**Найдём наименьший объём сырья для безубыточной разработки скважины**"
   ]
  },
  {
   "cell_type": "code",
   "execution_count": 24,
   "metadata": {},
   "outputs": [
    {
     "name": "stdout",
     "output_type": "stream",
     "text": [
      "Наименьший объём сырья для безубыточной разработки всех скважин в регионе: 22222.22 тыс. баррелей\n"
     ]
    }
   ],
   "source": [
    "v_total = BUDGET / INCOME_BARREL\n",
    "print('Наименьший объём сырья для безубыточной разработки всех скважин в регионе: {0:.2f} тыс. баррелей'.format(v_total))"
   ]
  },
  {
   "cell_type": "code",
   "execution_count": 25,
   "metadata": {},
   "outputs": [
    {
     "name": "stdout",
     "output_type": "stream",
     "text": [
      "Наименьший объём сырья для безубыточной разработки каждой скважины: 111.11 тыс. баррелей\n"
     ]
    }
   ],
   "source": [
    "v_min = v_total / POINTS_BEST\n",
    "print('Наименьший объём сырья для безубыточной разработки каждой скважины: {0:.2f} тыс. баррелей'.format(v_min))"
   ]
  },
  {
   "cell_type": "code",
   "execution_count": 26,
   "metadata": {},
   "outputs": [
    {
     "name": "stdout",
     "output_type": "stream",
     "text": [
      "Предсказанные средние запасы сырья в точке по регионам:\n",
      " Регион 1: 92.59 тыс. баррелей\n",
      " Регион 2: 68.73 тыс. баррелей\n",
      " Регион 3: 94.97 тыс. баррелей\n"
     ]
    }
   ],
   "source": [
    "print('Предсказанные средние запасы сырья в точке по регионам:')\n",
    "print(' Регион 1: {0:.2f} тыс. баррелей'.format(predict_1.mean()))\n",
    "print(' Регион 2: {0:.2f} тыс. баррелей'.format(predict_2.mean()))\n",
    "print(' Регион 3: {0:.2f} тыс. баррелей'.format(predict_3.mean()))"
   ]
  },
  {
   "cell_type": "markdown",
   "metadata": {},
   "source": [
    "Из проведённых расчётов видно, что средний запас сырья в скважине в каждом регионе меньше необходимого объёма для разработки скважины. Поэтому необходимо выбрать скважины с максимальным объёмом сырья."
   ]
  },
  {
   "cell_type": "markdown",
   "metadata": {},
   "source": [
    "**Напишем функцию для расчёта прибыли с предсказанных 200 лучших скважин в каждом регионе**"
   ]
  },
  {
   "cell_type": "code",
   "execution_count": 27,
   "metadata": {},
   "outputs": [],
   "source": [
    "def income(true_target, pred_target):\n",
    "    sort_Series = pd.Series(pred_target).sort_values(ascending=False)[:POINTS_BEST]\n",
    "    true_target_sort = (true_target\n",
    "                         .reset_index(drop = True)[sort_Series.index])\n",
    "    sum_true = true_target_sort.sum() \n",
    "    return round((sum_true * INCOME_BARREL) - BUDGET)"
   ]
  },
  {
   "cell_type": "code",
   "execution_count": 28,
   "metadata": {},
   "outputs": [
    {
     "name": "stdout",
     "output_type": "stream",
     "text": [
      "Прибыль с лучших 200 скважин в Регионе 1: 3320826.00 тыс. баррелей\n",
      "Прибыль с лучших 200 скважин в Регионе 2: 2415087.00 тыс. баррелей\n",
      "Прибыль с лучших 200 скважин в Регионе 3: 2710350.00 тыс. баррелей\n"
     ]
    }
   ],
   "source": [
    "print('Прибыль с лучших 200 скважин в Регионе 1: {0:.2f} тыс. баррелей'.format(income(target_valid_1, predict_1)))\n",
    "print('Прибыль с лучших 200 скважин в Регионе 2: {0:.2f} тыс. баррелей'.format(income(target_valid_2, predict_2)))\n",
    "print('Прибыль с лучших 200 скважин в Регионе 3: {0:.2f} тыс. баррелей'.format(income(target_valid_3, predict_3)))"
   ]
  },
  {
   "cell_type": "markdown",
   "metadata": {},
   "source": [
    "## Расчёт прибыли и рисков "
   ]
  },
  {
   "cell_type": "markdown",
   "metadata": {},
   "source": [
    "**Чтобы найти распределение прибыли применим технику Bootstrap с 1000 выборок.**\n",
    "\n",
    "**Найдём среднюю прибыль, 95%-й доверительный интервал и риск убытков для каждого региона**"
   ]
  },
  {
   "cell_type": "code",
   "execution_count": 29,
   "metadata": {},
   "outputs": [],
   "source": [
    "def income_2(predict,target,count):\n",
    "    sample = pd.Series(predict).sort_values(ascending=False)\n",
    "    points = target[sample.index][:count]\n",
    "    product = points.sum()\n",
    "    revenue = product * INCOME_BARREL\n",
    "    return revenue - BUDGET"
   ]
  },
  {
   "cell_type": "code",
   "execution_count": 30,
   "metadata": {},
   "outputs": [],
   "source": [
    "def bootstap(target,predict):\n",
    "    samples = []\n",
    "    count=0\n",
    "    state = np.random.RandomState(12345)\n",
    "    predict_1 = pd.Series(predict, index=target.index)\n",
    "    \n",
    "    for i in tqdm(range(1000)):\n",
    "        target_subsample = target.sample(n=POINTS_DEVEL, replace=True, random_state=state)\n",
    "  \n",
    "        probs_subsample = predict_1[target_subsample.index]\n",
    "        samples.append(income_2(probs_subsample,target_subsample, 200))  \n",
    "    for i in samples:\n",
    "        if i < 0:\n",
    "            count +=1\n",
    "            \n",
    "    samples = pd.Series(samples)\n",
    "    mean = samples.mean()\n",
    "    confidence_interval = st.t.interval(0.95, len(samples)-1, samples.mean(), samples.sem())\n",
    "    \n",
    "    lower = samples.quantile(0.025)\n",
    "    upper = samples.quantile(0.975)   \n",
    "    print(\"Средняя прибыль в регионе: {:.2f} млн.руб\".format(mean/1000))\n",
    "    print('95%-й доверительный интервал: {:.2f} - {:.2f} млн.руб'.format((lower/1000),(upper/1000)))\n",
    "    print ('Вероятность убытка в данном регионе - {:.1%}'.format(count/1000))"
   ]
  },
  {
   "cell_type": "code",
   "execution_count": 31,
   "metadata": {},
   "outputs": [
    {
     "name": "stderr",
     "output_type": "stream",
     "text": [
      "100%|█████████████████████████████████████████████████████████████████████████████| 1000/1000 [00:01<00:00, 697.43it/s]"
     ]
    },
    {
     "name": "stdout",
     "output_type": "stream",
     "text": [
      "Средняя прибыль в регионе: 425.94 млн.руб\n",
      "95%-й доверительный интервал: -102.09 - 947.98 млн.руб\n",
      "Вероятность убытка в данном регионе - 6.0%\n"
     ]
    },
    {
     "name": "stderr",
     "output_type": "stream",
     "text": [
      "\n"
     ]
    }
   ],
   "source": [
    "bootstap(target_valid_1,predict_1)"
   ]
  },
  {
   "cell_type": "code",
   "execution_count": 32,
   "metadata": {},
   "outputs": [
    {
     "name": "stderr",
     "output_type": "stream",
     "text": [
      "100%|█████████████████████████████████████████████████████████████████████████████| 1000/1000 [00:01<00:00, 698.72it/s]"
     ]
    },
    {
     "name": "stdout",
     "output_type": "stream",
     "text": [
      "Средняя прибыль в регионе: 515.22 млн.руб\n",
      "95%-й доверительный интервал: 68.87 - 931.55 млн.руб\n",
      "Вероятность убытка в данном регионе - 1.0%\n"
     ]
    },
    {
     "name": "stderr",
     "output_type": "stream",
     "text": [
      "\n"
     ]
    }
   ],
   "source": [
    "bootstap(target_valid_2,predict_2)"
   ]
  },
  {
   "cell_type": "code",
   "execution_count": 33,
   "metadata": {},
   "outputs": [
    {
     "name": "stderr",
     "output_type": "stream",
     "text": [
      "100%|█████████████████████████████████████████████████████████████████████████████| 1000/1000 [00:01<00:00, 687.57it/s]"
     ]
    },
    {
     "name": "stdout",
     "output_type": "stream",
     "text": [
      "Средняя прибыль в регионе: 435.01 млн.руб\n",
      "95%-й доверительный интервал: -128.88 - 969.71 млн.руб\n",
      "Вероятность убытка в данном регионе - 6.4%\n"
     ]
    },
    {
     "name": "stderr",
     "output_type": "stream",
     "text": [
      "\n"
     ]
    }
   ],
   "source": [
    "bootstap(target_valid_3,predict_3)"
   ]
  },
  {
   "cell_type": "markdown",
   "metadata": {},
   "source": [
    "Наибольшая средняя прибыль прогнозируется во втором регионе - 515.22 млн.руб. 95%-й доверительный интервал тоже лучший во втором регионе - 68.87 - 931.55 млн.руб. Кроме того второй регион оказался единственным, в котором вероятность убытка не перешла порог в 2,5% и составляет 1%. С учётом всех этих показателей можно сделать вывод, что разработку скважин необходимо делать во втором регионе."
   ]
  },
  {
   "cell_type": "markdown",
   "metadata": {},
   "source": [
    "**ВЫВОД**\n",
    "\n",
    "Нам были предоставлены данные по трём регионам о запасах нефти в 10000 скважин. Поставлена задача опредилить регион, в котором целесообразно начинать нефтедобычу. \n",
    "\n",
    "После подготовки данных и разделения их на обучающую и валидационную выборки мы провели обучение моделей методом линейной регрессии для каждого региона, сделали предсказания и проверили качество моделей техникой RMSE. Проведя анализ по этим данным, выяснили, что средний запас сырья в скважинах значительно меньше необходимого запаса для окупаемости разработки скважины.\n",
    "\n",
    "Чтобы понять целесообразность разработки в каждом регионе, мы выделили по 500 скважин с наибольшим значением предсказаний по запасам сырья и применили технологию `Bootstrap` с разделением каждого предсказанного значения прибыли по регионам на 1000 выборок.\n",
    "\n",
    "По полученным данным мы определили среднюю прибыль, 95%-й доверительный интервал и вероятность убытка. По этим данным мы выбрали регион для разработки 200 скважин.\n",
    "\n",
    "Единственным регионом, в котором вероятность убытка прогнозируется меньше заданного 2,5%-го порога - 1%, оказался Регион 2. Этот регион также имеет наилучшие показатели средней прибыли - 515.22 млн.руб и 95%-го доверительного интервала - 68.87 - 931.55 млн.руб.\n",
    "\n",
    "Исходя из этого деаем вывод - для разработки скважин наиболее перспективным является Регион 2."
   ]
  }
 ],
 "metadata": {
  "ExecuteTimeLog": [
   {
    "duration": 425,
    "start_time": "2023-03-13T17:46:03.309Z"
   },
   {
    "duration": 2635,
    "start_time": "2023-03-13T17:50:30.016Z"
   },
   {
    "duration": 39,
    "start_time": "2023-03-13T17:50:40.240Z"
   },
   {
    "duration": 11,
    "start_time": "2023-03-13T17:50:50.112Z"
   },
   {
    "duration": 13,
    "start_time": "2023-03-13T17:51:02.798Z"
   },
   {
    "duration": 14,
    "start_time": "2023-03-13T17:52:07.301Z"
   },
   {
    "duration": 89,
    "start_time": "2023-03-13T17:52:26.313Z"
   },
   {
    "duration": 20,
    "start_time": "2023-03-13T17:52:31.777Z"
   },
   {
    "duration": 15,
    "start_time": "2023-03-13T17:52:52.217Z"
   },
   {
    "duration": 82,
    "start_time": "2023-03-13T17:56:10.516Z"
   },
   {
    "duration": 42,
    "start_time": "2023-03-13T17:56:14.598Z"
   },
   {
    "duration": 69,
    "start_time": "2023-03-13T17:56:17.605Z"
   },
   {
    "duration": 49,
    "start_time": "2023-03-13T17:58:51.440Z"
   },
   {
    "duration": 53,
    "start_time": "2023-03-13T17:59:20.952Z"
   },
   {
    "duration": 42,
    "start_time": "2023-03-13T17:59:31.803Z"
   },
   {
    "duration": 68,
    "start_time": "2023-03-13T18:00:16.152Z"
   },
   {
    "duration": 61,
    "start_time": "2023-03-13T18:00:30.204Z"
   },
   {
    "duration": 48,
    "start_time": "2023-03-13T18:00:40.798Z"
   },
   {
    "duration": 421,
    "start_time": "2023-03-13T18:01:59.897Z"
   },
   {
    "duration": 405,
    "start_time": "2023-03-13T18:02:00.320Z"
   },
   {
    "duration": 31,
    "start_time": "2023-03-13T18:02:00.727Z"
   },
   {
    "duration": 22,
    "start_time": "2023-03-13T18:02:00.759Z"
   },
   {
    "duration": 50,
    "start_time": "2023-03-13T18:02:00.787Z"
   },
   {
    "duration": 71,
    "start_time": "2023-03-13T18:02:00.839Z"
   },
   {
    "duration": 14,
    "start_time": "2023-03-13T18:02:00.912Z"
   },
   {
    "duration": 55,
    "start_time": "2023-03-13T18:02:00.928Z"
   },
   {
    "duration": 61,
    "start_time": "2023-03-13T18:02:00.985Z"
   },
   {
    "duration": 70,
    "start_time": "2023-03-13T18:02:01.047Z"
   },
   {
    "duration": 13,
    "start_time": "2023-03-13T18:02:01.119Z"
   },
   {
    "duration": 60,
    "start_time": "2023-03-13T18:02:01.134Z"
   },
   {
    "duration": 92,
    "start_time": "2023-03-13T18:02:01.195Z"
   },
   {
    "duration": 54,
    "start_time": "2023-03-13T18:02:01.290Z"
   },
   {
    "duration": 20,
    "start_time": "2023-03-13T18:04:52.897Z"
   },
   {
    "duration": 91,
    "start_time": "2023-03-13T18:05:07.120Z"
   },
   {
    "duration": 21,
    "start_time": "2023-03-13T18:05:14.326Z"
   },
   {
    "duration": 1008,
    "start_time": "2023-03-13T18:05:23.112Z"
   },
   {
    "duration": 26,
    "start_time": "2023-03-13T18:05:38.002Z"
   },
   {
    "duration": 22,
    "start_time": "2023-03-13T18:06:54.623Z"
   },
   {
    "duration": 157,
    "start_time": "2023-03-13T18:07:01.517Z"
   },
   {
    "duration": 94,
    "start_time": "2023-03-13T18:08:12.396Z"
   },
   {
    "duration": 99,
    "start_time": "2023-03-13T18:08:44.905Z"
   },
   {
    "duration": 8,
    "start_time": "2023-03-13T18:15:13.225Z"
   },
   {
    "duration": 10,
    "start_time": "2023-03-13T18:15:25.440Z"
   },
   {
    "duration": 6,
    "start_time": "2023-03-13T18:16:32.112Z"
   },
   {
    "duration": 7,
    "start_time": "2023-03-13T18:17:41.398Z"
   },
   {
    "duration": 1150,
    "start_time": "2023-03-13T18:18:16.036Z"
   },
   {
    "duration": 415,
    "start_time": "2023-03-13T18:18:17.188Z"
   },
   {
    "duration": 20,
    "start_time": "2023-03-13T18:18:17.605Z"
   },
   {
    "duration": 36,
    "start_time": "2023-03-13T18:18:17.627Z"
   },
   {
    "duration": 40,
    "start_time": "2023-03-13T18:18:17.671Z"
   },
   {
    "duration": 63,
    "start_time": "2023-03-13T18:18:17.713Z"
   },
   {
    "duration": 99,
    "start_time": "2023-03-13T18:18:17.777Z"
   },
   {
    "duration": 13,
    "start_time": "2023-03-13T18:18:17.879Z"
   },
   {
    "duration": 20,
    "start_time": "2023-03-13T18:18:17.893Z"
   },
   {
    "duration": 57,
    "start_time": "2023-03-13T18:18:17.915Z"
   },
   {
    "duration": 50,
    "start_time": "2023-03-13T18:18:17.974Z"
   },
   {
    "duration": 108,
    "start_time": "2023-03-13T18:18:18.026Z"
   },
   {
    "duration": 34,
    "start_time": "2023-03-13T18:18:18.138Z"
   },
   {
    "duration": 16,
    "start_time": "2023-03-13T18:18:18.175Z"
   },
   {
    "duration": 37,
    "start_time": "2023-03-13T18:18:18.193Z"
   },
   {
    "duration": 69,
    "start_time": "2023-03-13T18:18:18.231Z"
   },
   {
    "duration": 100,
    "start_time": "2023-03-13T18:18:18.301Z"
   },
   {
    "duration": 5,
    "start_time": "2023-03-13T18:18:18.403Z"
   },
   {
    "duration": 29,
    "start_time": "2023-03-13T18:18:18.410Z"
   },
   {
    "duration": 4,
    "start_time": "2023-03-13T18:20:08.896Z"
   },
   {
    "duration": 25,
    "start_time": "2023-03-13T18:20:19.272Z"
   },
   {
    "duration": 3,
    "start_time": "2023-03-13T18:20:19.819Z"
   },
   {
    "duration": 3,
    "start_time": "2023-03-13T18:23:26.600Z"
   },
   {
    "duration": 1131,
    "start_time": "2023-03-13T18:24:09.154Z"
   },
   {
    "duration": 409,
    "start_time": "2023-03-13T18:24:10.288Z"
   },
   {
    "duration": 19,
    "start_time": "2023-03-13T18:24:10.698Z"
   },
   {
    "duration": 15,
    "start_time": "2023-03-13T18:24:10.720Z"
   },
   {
    "duration": 53,
    "start_time": "2023-03-13T18:24:10.757Z"
   },
   {
    "duration": 52,
    "start_time": "2023-03-13T18:24:10.811Z"
   },
   {
    "duration": 90,
    "start_time": "2023-03-13T18:24:10.864Z"
   },
   {
    "duration": 26,
    "start_time": "2023-03-13T18:24:10.956Z"
   },
   {
    "duration": 14,
    "start_time": "2023-03-13T18:24:10.984Z"
   },
   {
    "duration": 36,
    "start_time": "2023-03-13T18:24:11.000Z"
   },
   {
    "duration": 49,
    "start_time": "2023-03-13T18:24:11.055Z"
   },
   {
    "duration": 104,
    "start_time": "2023-03-13T18:24:11.106Z"
   },
   {
    "duration": 12,
    "start_time": "2023-03-13T18:24:11.212Z"
   },
   {
    "duration": 30,
    "start_time": "2023-03-13T18:24:11.228Z"
   },
   {
    "duration": 41,
    "start_time": "2023-03-13T18:24:11.260Z"
   },
   {
    "duration": 68,
    "start_time": "2023-03-13T18:24:11.302Z"
   },
   {
    "duration": 111,
    "start_time": "2023-03-13T18:24:11.374Z"
   },
   {
    "duration": 5,
    "start_time": "2023-03-13T18:24:11.487Z"
   },
   {
    "duration": 25,
    "start_time": "2023-03-13T18:24:11.494Z"
   },
   {
    "duration": 5,
    "start_time": "2023-03-13T18:24:11.521Z"
   },
   {
    "duration": 4,
    "start_time": "2023-03-13T18:24:11.527Z"
   },
   {
    "duration": 98,
    "start_time": "2023-03-13T18:25:30.415Z"
   },
   {
    "duration": 15,
    "start_time": "2023-03-13T18:25:36.632Z"
   },
   {
    "duration": 16,
    "start_time": "2023-03-13T18:26:22.680Z"
   },
   {
    "duration": 3,
    "start_time": "2023-03-13T18:27:11.180Z"
   },
   {
    "duration": 15,
    "start_time": "2023-03-13T18:27:11.877Z"
   },
   {
    "duration": 15,
    "start_time": "2023-03-13T18:27:12.505Z"
   },
   {
    "duration": 3,
    "start_time": "2023-03-13T18:27:24.544Z"
   },
   {
    "duration": 10,
    "start_time": "2023-03-13T18:27:25.336Z"
   },
   {
    "duration": 16,
    "start_time": "2023-03-13T18:27:26.381Z"
   },
   {
    "duration": 1196,
    "start_time": "2023-03-13T18:27:38.080Z"
   },
   {
    "duration": 415,
    "start_time": "2023-03-13T18:27:39.279Z"
   },
   {
    "duration": 19,
    "start_time": "2023-03-13T18:27:39.696Z"
   },
   {
    "duration": 15,
    "start_time": "2023-03-13T18:27:39.716Z"
   },
   {
    "duration": 57,
    "start_time": "2023-03-13T18:27:39.733Z"
   },
   {
    "duration": 50,
    "start_time": "2023-03-13T18:27:39.791Z"
   },
   {
    "duration": 90,
    "start_time": "2023-03-13T18:27:39.853Z"
   },
   {
    "duration": 33,
    "start_time": "2023-03-13T18:27:39.945Z"
   },
   {
    "duration": 13,
    "start_time": "2023-03-13T18:27:39.980Z"
   },
   {
    "duration": 37,
    "start_time": "2023-03-13T18:27:39.995Z"
   },
   {
    "duration": 72,
    "start_time": "2023-03-13T18:27:40.034Z"
   },
   {
    "duration": 113,
    "start_time": "2023-03-13T18:27:40.108Z"
   },
   {
    "duration": 17,
    "start_time": "2023-03-13T18:27:40.223Z"
   },
   {
    "duration": 24,
    "start_time": "2023-03-13T18:27:40.242Z"
   },
   {
    "duration": 63,
    "start_time": "2023-03-13T18:27:40.267Z"
   },
   {
    "duration": 58,
    "start_time": "2023-03-13T18:27:40.331Z"
   },
   {
    "duration": 94,
    "start_time": "2023-03-13T18:27:40.391Z"
   },
   {
    "duration": 5,
    "start_time": "2023-03-13T18:27:40.487Z"
   },
   {
    "duration": 24,
    "start_time": "2023-03-13T18:27:40.494Z"
   },
   {
    "duration": 4,
    "start_time": "2023-03-13T18:27:40.519Z"
   },
   {
    "duration": 4,
    "start_time": "2023-03-13T18:27:40.525Z"
   },
   {
    "duration": 36,
    "start_time": "2023-03-13T18:27:40.530Z"
   },
   {
    "duration": 21,
    "start_time": "2023-03-13T18:27:40.567Z"
   },
   {
    "duration": 1226,
    "start_time": "2023-03-13T18:59:50.889Z"
   },
   {
    "duration": 487,
    "start_time": "2023-03-13T18:59:52.118Z"
   },
   {
    "duration": 22,
    "start_time": "2023-03-13T18:59:52.606Z"
   },
   {
    "duration": 16,
    "start_time": "2023-03-13T18:59:52.630Z"
   },
   {
    "duration": 53,
    "start_time": "2023-03-13T18:59:52.659Z"
   },
   {
    "duration": 89,
    "start_time": "2023-03-13T18:59:52.715Z"
   },
   {
    "duration": 115,
    "start_time": "2023-03-13T18:59:52.807Z"
   },
   {
    "duration": 15,
    "start_time": "2023-03-13T18:59:52.924Z"
   },
   {
    "duration": 29,
    "start_time": "2023-03-13T18:59:52.941Z"
   },
   {
    "duration": 41,
    "start_time": "2023-03-13T18:59:52.972Z"
   },
   {
    "duration": 85,
    "start_time": "2023-03-13T18:59:53.015Z"
   },
   {
    "duration": 110,
    "start_time": "2023-03-13T18:59:53.102Z"
   },
   {
    "duration": 15,
    "start_time": "2023-03-13T18:59:53.214Z"
   },
   {
    "duration": 31,
    "start_time": "2023-03-13T18:59:53.253Z"
   },
   {
    "duration": 48,
    "start_time": "2023-03-13T18:59:53.287Z"
   },
   {
    "duration": 90,
    "start_time": "2023-03-13T18:59:53.337Z"
   },
   {
    "duration": 112,
    "start_time": "2023-03-13T18:59:53.429Z"
   },
   {
    "duration": 7,
    "start_time": "2023-03-13T18:59:53.543Z"
   },
   {
    "duration": 31,
    "start_time": "2023-03-13T18:59:53.552Z"
   },
   {
    "duration": 4,
    "start_time": "2023-03-13T18:59:53.586Z"
   },
   {
    "duration": 8,
    "start_time": "2023-03-13T19:00:42.676Z"
   },
   {
    "duration": 13,
    "start_time": "2023-03-13T19:01:06.705Z"
   },
   {
    "duration": 4,
    "start_time": "2023-03-13T19:01:24.595Z"
   },
   {
    "duration": 7,
    "start_time": "2023-03-13T19:01:43.292Z"
   },
   {
    "duration": 18,
    "start_time": "2023-03-13T19:02:10.790Z"
   },
   {
    "duration": 4,
    "start_time": "2023-03-13T19:02:31.145Z"
   },
   {
    "duration": 120,
    "start_time": "2023-03-13T19:03:51.914Z"
   },
   {
    "duration": 1225,
    "start_time": "2023-03-13T19:04:59.356Z"
   },
   {
    "duration": 435,
    "start_time": "2023-03-13T19:05:00.584Z"
   },
   {
    "duration": 20,
    "start_time": "2023-03-13T19:05:01.020Z"
   },
   {
    "duration": 49,
    "start_time": "2023-03-13T19:05:01.042Z"
   },
   {
    "duration": 103,
    "start_time": "2023-03-13T19:05:01.094Z"
   },
   {
    "duration": 71,
    "start_time": "2023-03-13T19:05:01.198Z"
   },
   {
    "duration": 110,
    "start_time": "2023-03-13T19:05:01.280Z"
   },
   {
    "duration": 16,
    "start_time": "2023-03-13T19:05:01.392Z"
   },
   {
    "duration": 89,
    "start_time": "2023-03-13T19:05:01.409Z"
   },
   {
    "duration": 115,
    "start_time": "2023-03-13T19:05:01.500Z"
   },
   {
    "duration": 70,
    "start_time": "2023-03-13T19:05:01.616Z"
   },
   {
    "duration": 108,
    "start_time": "2023-03-13T19:05:01.688Z"
   },
   {
    "duration": 20,
    "start_time": "2023-03-13T19:05:01.798Z"
   },
   {
    "duration": 26,
    "start_time": "2023-03-13T19:05:01.821Z"
   },
   {
    "duration": 62,
    "start_time": "2023-03-13T19:05:01.849Z"
   },
   {
    "duration": 63,
    "start_time": "2023-03-13T19:05:01.913Z"
   },
   {
    "duration": 115,
    "start_time": "2023-03-13T19:05:01.978Z"
   },
   {
    "duration": 5,
    "start_time": "2023-03-13T19:05:02.095Z"
   },
   {
    "duration": 37,
    "start_time": "2023-03-13T19:05:02.101Z"
   },
   {
    "duration": 19,
    "start_time": "2023-03-13T19:05:02.141Z"
   },
   {
    "duration": 37,
    "start_time": "2023-03-13T19:05:02.162Z"
   },
   {
    "duration": 35,
    "start_time": "2023-03-13T19:05:02.201Z"
   },
   {
    "duration": 11,
    "start_time": "2023-03-13T19:05:02.238Z"
   },
   {
    "duration": 38,
    "start_time": "2023-03-13T19:05:02.250Z"
   },
   {
    "duration": 29,
    "start_time": "2023-03-13T19:05:02.290Z"
   },
   {
    "duration": 19,
    "start_time": "2023-03-13T19:05:02.321Z"
   },
   {
    "duration": 311,
    "start_time": "2023-03-13T19:05:02.342Z"
   },
   {
    "duration": 110,
    "start_time": "2023-03-13T19:05:48.348Z"
   },
   {
    "duration": 14,
    "start_time": "2023-03-13T19:07:49.620Z"
   },
   {
    "duration": 26,
    "start_time": "2023-03-13T19:09:25.839Z"
   },
   {
    "duration": 14,
    "start_time": "2023-03-13T19:09:42.719Z"
   },
   {
    "duration": 15,
    "start_time": "2023-03-13T19:10:53.995Z"
   },
   {
    "duration": 15,
    "start_time": "2023-03-13T19:11:43.520Z"
   },
   {
    "duration": 14,
    "start_time": "2023-03-13T19:12:41.114Z"
   },
   {
    "duration": 22,
    "start_time": "2023-03-13T19:14:38.689Z"
   },
   {
    "duration": 21,
    "start_time": "2023-03-13T19:15:09.523Z"
   },
   {
    "duration": 16,
    "start_time": "2023-03-13T19:15:24.196Z"
   },
   {
    "duration": 15,
    "start_time": "2023-03-13T19:15:29.701Z"
   },
   {
    "duration": 14,
    "start_time": "2023-03-13T19:16:48.813Z"
   },
   {
    "duration": 15,
    "start_time": "2023-03-13T19:19:18.408Z"
   },
   {
    "duration": 14,
    "start_time": "2023-03-13T19:20:23.809Z"
   },
   {
    "duration": 76,
    "start_time": "2023-03-13T19:21:23.281Z"
   },
   {
    "duration": 13,
    "start_time": "2023-03-13T19:34:18.053Z"
   },
   {
    "duration": 7,
    "start_time": "2023-03-13T19:35:19.694Z"
   },
   {
    "duration": 5,
    "start_time": "2023-03-13T19:35:42.199Z"
   },
   {
    "duration": 6,
    "start_time": "2023-03-13T19:37:48.424Z"
   },
   {
    "duration": 5,
    "start_time": "2023-03-13T19:38:07.241Z"
   },
   {
    "duration": 9,
    "start_time": "2023-03-13T19:38:21.752Z"
   },
   {
    "duration": 8,
    "start_time": "2023-03-13T19:42:33.711Z"
   },
   {
    "duration": 10,
    "start_time": "2023-03-14T06:45:19.841Z"
   },
   {
    "duration": 2,
    "start_time": "2023-03-14T06:51:31.953Z"
   },
   {
    "duration": 47,
    "start_time": "2023-03-14T06:53:32.120Z"
   },
   {
    "duration": 1236,
    "start_time": "2023-03-14T06:53:43.971Z"
   },
   {
    "duration": 631,
    "start_time": "2023-03-14T06:53:45.209Z"
   },
   {
    "duration": 19,
    "start_time": "2023-03-14T06:53:45.842Z"
   },
   {
    "duration": 20,
    "start_time": "2023-03-14T06:53:45.863Z"
   },
   {
    "duration": 41,
    "start_time": "2023-03-14T06:53:45.886Z"
   },
   {
    "duration": 45,
    "start_time": "2023-03-14T06:53:45.929Z"
   },
   {
    "duration": 72,
    "start_time": "2023-03-14T06:53:45.989Z"
   },
   {
    "duration": 29,
    "start_time": "2023-03-14T06:53:46.062Z"
   },
   {
    "duration": 22,
    "start_time": "2023-03-14T06:53:46.093Z"
   },
   {
    "duration": 37,
    "start_time": "2023-03-14T06:53:46.117Z"
   },
   {
    "duration": 64,
    "start_time": "2023-03-14T06:53:46.156Z"
   },
   {
    "duration": 99,
    "start_time": "2023-03-14T06:53:46.222Z"
   },
   {
    "duration": 14,
    "start_time": "2023-03-14T06:53:46.323Z"
   },
   {
    "duration": 13,
    "start_time": "2023-03-14T06:53:46.340Z"
   },
   {
    "duration": 71,
    "start_time": "2023-03-14T06:53:46.355Z"
   },
   {
    "duration": 66,
    "start_time": "2023-03-14T06:53:46.429Z"
   },
   {
    "duration": 121,
    "start_time": "2023-03-14T06:53:46.497Z"
   },
   {
    "duration": 8,
    "start_time": "2023-03-14T06:53:46.620Z"
   },
   {
    "duration": 37,
    "start_time": "2023-03-14T06:53:46.630Z"
   },
   {
    "duration": 11,
    "start_time": "2023-03-14T06:53:46.669Z"
   },
   {
    "duration": 117,
    "start_time": "2023-03-14T06:53:46.682Z"
   },
   {
    "duration": 89,
    "start_time": "2023-03-14T06:53:46.801Z"
   },
   {
    "duration": 18,
    "start_time": "2023-03-14T06:53:46.893Z"
   },
   {
    "duration": 5,
    "start_time": "2023-03-14T06:53:46.912Z"
   },
   {
    "duration": 25,
    "start_time": "2023-03-14T06:53:46.918Z"
   },
   {
    "duration": 145,
    "start_time": "2023-03-14T06:53:46.945Z"
   },
   {
    "duration": 16,
    "start_time": "2023-03-14T06:53:47.093Z"
   },
   {
    "duration": 4,
    "start_time": "2023-03-14T06:53:47.111Z"
   },
   {
    "duration": 76,
    "start_time": "2023-03-14T06:53:47.117Z"
   },
   {
    "duration": 6,
    "start_time": "2023-03-14T06:53:47.196Z"
   },
   {
    "duration": 101,
    "start_time": "2023-03-14T06:53:47.204Z"
   },
   {
    "duration": 16,
    "start_time": "2023-03-14T06:53:47.307Z"
   },
   {
    "duration": 13,
    "start_time": "2023-03-14T06:53:47.325Z"
   },
   {
    "duration": 4,
    "start_time": "2023-03-14T06:54:02.577Z"
   },
   {
    "duration": 3,
    "start_time": "2023-03-14T06:54:04.624Z"
   },
   {
    "duration": 97,
    "start_time": "2023-03-14T06:54:27.105Z"
   },
   {
    "duration": 5,
    "start_time": "2023-03-14T06:55:00.177Z"
   },
   {
    "duration": 3,
    "start_time": "2023-03-14T07:02:34.324Z"
   },
   {
    "duration": 3,
    "start_time": "2023-03-14T07:02:47.256Z"
   },
   {
    "duration": 3,
    "start_time": "2023-03-14T07:06:02.006Z"
   },
   {
    "duration": 3,
    "start_time": "2023-03-14T07:06:05.772Z"
   },
   {
    "duration": 4,
    "start_time": "2023-03-14T07:13:18.108Z"
   },
   {
    "duration": 4,
    "start_time": "2023-03-14T07:13:22.929Z"
   },
   {
    "duration": 5,
    "start_time": "2023-03-14T07:13:48.915Z"
   },
   {
    "duration": 3,
    "start_time": "2023-03-14T07:16:20.109Z"
   },
   {
    "duration": 4,
    "start_time": "2023-03-14T07:18:14.857Z"
   },
   {
    "duration": 4,
    "start_time": "2023-03-14T07:19:54.330Z"
   },
   {
    "duration": 3,
    "start_time": "2023-03-14T08:09:47.271Z"
   },
   {
    "duration": 3,
    "start_time": "2023-03-14T08:12:29.695Z"
   },
   {
    "duration": 11,
    "start_time": "2023-03-14T08:13:58.103Z"
   },
   {
    "duration": 7,
    "start_time": "2023-03-14T08:16:33.040Z"
   },
   {
    "duration": 8,
    "start_time": "2023-03-14T08:18:24.247Z"
   },
   {
    "duration": 7,
    "start_time": "2023-03-14T08:19:44.640Z"
   },
   {
    "duration": 7,
    "start_time": "2023-03-14T08:19:58.389Z"
   },
   {
    "duration": 15,
    "start_time": "2023-03-14T08:20:32.177Z"
   },
   {
    "duration": 3,
    "start_time": "2023-03-14T08:31:10.976Z"
   },
   {
    "duration": 15,
    "start_time": "2023-03-14T08:31:14.672Z"
   },
   {
    "duration": 3,
    "start_time": "2023-03-14T08:32:52.250Z"
   },
   {
    "duration": 15,
    "start_time": "2023-03-14T08:32:52.903Z"
   },
   {
    "duration": 4,
    "start_time": "2023-03-14T08:33:03.897Z"
   },
   {
    "duration": 16,
    "start_time": "2023-03-14T08:33:04.529Z"
   },
   {
    "duration": 3,
    "start_time": "2023-03-14T08:33:12.702Z"
   },
   {
    "duration": 4,
    "start_time": "2023-03-14T08:37:49.902Z"
   },
   {
    "duration": 8,
    "start_time": "2023-03-14T08:40:11.107Z"
   },
   {
    "duration": 7,
    "start_time": "2023-03-14T08:40:14.849Z"
   },
   {
    "duration": 6,
    "start_time": "2023-03-14T08:41:38.977Z"
   },
   {
    "duration": 1133,
    "start_time": "2023-03-14T08:41:48.773Z"
   },
   {
    "duration": 390,
    "start_time": "2023-03-14T08:41:49.908Z"
   },
   {
    "duration": 19,
    "start_time": "2023-03-14T08:41:50.300Z"
   },
   {
    "duration": 14,
    "start_time": "2023-03-14T08:41:50.321Z"
   },
   {
    "duration": 61,
    "start_time": "2023-03-14T08:41:50.338Z"
   },
   {
    "duration": 51,
    "start_time": "2023-03-14T08:41:50.400Z"
   },
   {
    "duration": 82,
    "start_time": "2023-03-14T08:41:50.453Z"
   },
   {
    "duration": 12,
    "start_time": "2023-03-14T08:41:50.537Z"
   },
   {
    "duration": 42,
    "start_time": "2023-03-14T08:41:50.551Z"
   },
   {
    "duration": 37,
    "start_time": "2023-03-14T08:41:50.594Z"
   },
   {
    "duration": 58,
    "start_time": "2023-03-14T08:41:50.633Z"
   },
   {
    "duration": 59,
    "start_time": "2023-03-14T08:41:50.693Z"
   },
   {
    "duration": 11,
    "start_time": "2023-03-14T08:41:50.754Z"
   },
   {
    "duration": 14,
    "start_time": "2023-03-14T08:41:50.789Z"
   },
   {
    "duration": 35,
    "start_time": "2023-03-14T08:41:50.805Z"
   },
   {
    "duration": 61,
    "start_time": "2023-03-14T08:41:50.842Z"
   },
   {
    "duration": 61,
    "start_time": "2023-03-14T08:41:50.904Z"
   },
   {
    "duration": 4,
    "start_time": "2023-03-14T08:41:50.967Z"
   },
   {
    "duration": 16,
    "start_time": "2023-03-14T08:41:50.990Z"
   },
   {
    "duration": 4,
    "start_time": "2023-03-14T08:41:51.008Z"
   },
   {
    "duration": 81,
    "start_time": "2023-03-14T08:41:51.014Z"
   },
   {
    "duration": 5,
    "start_time": "2023-03-14T08:41:51.098Z"
   },
   {
    "duration": 13,
    "start_time": "2023-03-14T08:41:51.190Z"
   },
   {
    "duration": 4,
    "start_time": "2023-03-14T08:41:51.205Z"
   },
   {
    "duration": 18,
    "start_time": "2023-03-14T08:41:51.211Z"
   },
   {
    "duration": 67,
    "start_time": "2023-03-14T08:41:51.231Z"
   },
   {
    "duration": 107,
    "start_time": "2023-03-14T08:41:51.300Z"
   },
   {
    "duration": 4,
    "start_time": "2023-03-14T08:41:51.409Z"
   },
   {
    "duration": 28,
    "start_time": "2023-03-14T08:41:51.415Z"
   },
   {
    "duration": 50,
    "start_time": "2023-03-14T08:41:51.445Z"
   },
   {
    "duration": 106,
    "start_time": "2023-03-14T08:41:51.497Z"
   },
   {
    "duration": 2,
    "start_time": "2023-03-14T08:41:51.605Z"
   },
   {
    "duration": 13,
    "start_time": "2023-03-14T08:41:51.609Z"
   },
   {
    "duration": 10,
    "start_time": "2023-03-14T08:41:51.624Z"
   },
   {
    "duration": 9,
    "start_time": "2023-03-14T08:41:51.636Z"
   },
   {
    "duration": 5,
    "start_time": "2023-03-14T08:41:51.646Z"
   },
   {
    "duration": 23,
    "start_time": "2023-03-14T08:41:51.653Z"
   },
   {
    "duration": 3,
    "start_time": "2023-03-14T08:41:51.678Z"
   },
   {
    "duration": 6,
    "start_time": "2023-03-14T08:41:51.690Z"
   },
   {
    "duration": 102,
    "start_time": "2023-03-14T08:42:36.364Z"
   },
   {
    "duration": 7,
    "start_time": "2023-03-14T08:42:48.850Z"
   },
   {
    "duration": 5,
    "start_time": "2023-03-14T08:44:31.405Z"
   },
   {
    "duration": 4,
    "start_time": "2023-03-14T08:45:24.429Z"
   },
   {
    "duration": 4,
    "start_time": "2023-03-14T08:46:03.461Z"
   },
   {
    "duration": 101,
    "start_time": "2023-03-14T08:46:07.985Z"
   },
   {
    "duration": 3,
    "start_time": "2023-03-14T08:46:21.742Z"
   },
   {
    "duration": 3,
    "start_time": "2023-03-14T08:48:20.197Z"
   },
   {
    "duration": 15,
    "start_time": "2023-03-14T08:48:21.042Z"
   },
   {
    "duration": 3,
    "start_time": "2023-03-14T08:48:21.919Z"
   },
   {
    "duration": 6,
    "start_time": "2023-03-14T08:48:22.815Z"
   },
   {
    "duration": 3,
    "start_time": "2023-03-14T08:48:47.576Z"
   },
   {
    "duration": 10,
    "start_time": "2023-03-14T08:48:54.464Z"
   },
   {
    "duration": 6,
    "start_time": "2023-03-14T08:49:13.559Z"
   },
   {
    "duration": 8,
    "start_time": "2023-03-14T08:49:25.545Z"
   },
   {
    "duration": 8,
    "start_time": "2023-03-14T08:49:34.553Z"
   },
   {
    "duration": 5,
    "start_time": "2023-03-14T08:49:37.208Z"
   },
   {
    "duration": 9,
    "start_time": "2023-03-14T08:49:37.840Z"
   },
   {
    "duration": 112,
    "start_time": "2023-03-14T08:50:09.529Z"
   },
   {
    "duration": 5,
    "start_time": "2023-03-14T08:50:14.894Z"
   },
   {
    "duration": 5,
    "start_time": "2023-03-14T08:50:26.911Z"
   },
   {
    "duration": 5,
    "start_time": "2023-03-14T08:50:49.803Z"
   },
   {
    "duration": 1112,
    "start_time": "2023-03-14T08:53:24.805Z"
   },
   {
    "duration": 378,
    "start_time": "2023-03-14T08:53:25.919Z"
   },
   {
    "duration": 23,
    "start_time": "2023-03-14T08:53:26.299Z"
   },
   {
    "duration": 16,
    "start_time": "2023-03-14T08:53:26.325Z"
   },
   {
    "duration": 65,
    "start_time": "2023-03-14T08:53:26.344Z"
   },
   {
    "duration": 55,
    "start_time": "2023-03-14T08:53:26.411Z"
   },
   {
    "duration": 99,
    "start_time": "2023-03-14T08:53:26.468Z"
   },
   {
    "duration": 21,
    "start_time": "2023-03-14T08:53:26.569Z"
   },
   {
    "duration": 19,
    "start_time": "2023-03-14T08:53:26.592Z"
   },
   {
    "duration": 35,
    "start_time": "2023-03-14T08:53:26.613Z"
   },
   {
    "duration": 63,
    "start_time": "2023-03-14T08:53:26.650Z"
   },
   {
    "duration": 59,
    "start_time": "2023-03-14T08:53:26.715Z"
   },
   {
    "duration": 25,
    "start_time": "2023-03-14T08:53:26.775Z"
   },
   {
    "duration": 28,
    "start_time": "2023-03-14T08:53:26.802Z"
   },
   {
    "duration": 43,
    "start_time": "2023-03-14T08:53:26.832Z"
   },
   {
    "duration": 43,
    "start_time": "2023-03-14T08:53:26.876Z"
   },
   {
    "duration": 56,
    "start_time": "2023-03-14T08:53:26.920Z"
   },
   {
    "duration": 18,
    "start_time": "2023-03-14T08:53:26.978Z"
   },
   {
    "duration": 25,
    "start_time": "2023-03-14T08:53:26.998Z"
   },
   {
    "duration": 4,
    "start_time": "2023-03-14T08:53:27.025Z"
   },
   {
    "duration": 62,
    "start_time": "2023-03-14T08:53:27.030Z"
   },
   {
    "duration": 100,
    "start_time": "2023-03-14T08:53:27.097Z"
   },
   {
    "duration": 21,
    "start_time": "2023-03-14T08:53:27.199Z"
   },
   {
    "duration": 15,
    "start_time": "2023-03-14T08:53:27.221Z"
   },
   {
    "duration": 55,
    "start_time": "2023-03-14T08:53:27.237Z"
   },
   {
    "duration": 100,
    "start_time": "2023-03-14T08:53:27.294Z"
   },
   {
    "duration": 53,
    "start_time": "2023-03-14T08:53:27.395Z"
   },
   {
    "duration": 33,
    "start_time": "2023-03-14T08:53:27.450Z"
   },
   {
    "duration": 100,
    "start_time": "2023-03-14T08:53:27.490Z"
   },
   {
    "duration": 102,
    "start_time": "2023-03-14T08:53:27.593Z"
   },
   {
    "duration": 12,
    "start_time": "2023-03-14T08:53:27.697Z"
   },
   {
    "duration": 19,
    "start_time": "2023-03-14T08:53:27.711Z"
   },
   {
    "duration": 54,
    "start_time": "2023-03-14T08:53:27.732Z"
   },
   {
    "duration": 18,
    "start_time": "2023-03-14T08:53:27.787Z"
   },
   {
    "duration": 24,
    "start_time": "2023-03-14T08:53:27.806Z"
   },
   {
    "duration": 23,
    "start_time": "2023-03-14T08:53:27.832Z"
   },
   {
    "duration": 34,
    "start_time": "2023-03-14T08:53:27.856Z"
   },
   {
    "duration": 17,
    "start_time": "2023-03-14T08:53:27.891Z"
   },
   {
    "duration": 26,
    "start_time": "2023-03-14T08:53:27.910Z"
   },
   {
    "duration": 3,
    "start_time": "2023-03-14T08:53:52.973Z"
   },
   {
    "duration": 8,
    "start_time": "2023-03-14T08:53:53.739Z"
   },
   {
    "duration": 1143,
    "start_time": "2023-03-14T08:57:37.389Z"
   },
   {
    "duration": 388,
    "start_time": "2023-03-14T08:57:38.534Z"
   },
   {
    "duration": 19,
    "start_time": "2023-03-14T08:57:38.923Z"
   },
   {
    "duration": 14,
    "start_time": "2023-03-14T08:57:38.944Z"
   },
   {
    "duration": 49,
    "start_time": "2023-03-14T08:57:38.960Z"
   },
   {
    "duration": 43,
    "start_time": "2023-03-14T08:57:39.010Z"
   },
   {
    "duration": 80,
    "start_time": "2023-03-14T08:57:39.055Z"
   },
   {
    "duration": 12,
    "start_time": "2023-03-14T08:57:39.136Z"
   },
   {
    "duration": 18,
    "start_time": "2023-03-14T08:57:39.150Z"
   },
   {
    "duration": 55,
    "start_time": "2023-03-14T08:57:39.170Z"
   },
   {
    "duration": 41,
    "start_time": "2023-03-14T08:57:39.226Z"
   },
   {
    "duration": 79,
    "start_time": "2023-03-14T08:57:39.269Z"
   },
   {
    "duration": 12,
    "start_time": "2023-03-14T08:57:39.350Z"
   },
   {
    "duration": 38,
    "start_time": "2023-03-14T08:57:39.363Z"
   },
   {
    "duration": 36,
    "start_time": "2023-03-14T08:57:39.403Z"
   },
   {
    "duration": 62,
    "start_time": "2023-03-14T08:57:39.440Z"
   },
   {
    "duration": 62,
    "start_time": "2023-03-14T08:57:39.504Z"
   },
   {
    "duration": 5,
    "start_time": "2023-03-14T08:57:39.568Z"
   },
   {
    "duration": 13,
    "start_time": "2023-03-14T08:57:39.589Z"
   },
   {
    "duration": 4,
    "start_time": "2023-03-14T08:57:39.604Z"
   },
   {
    "duration": 20,
    "start_time": "2023-03-14T08:57:39.609Z"
   },
   {
    "duration": 58,
    "start_time": "2023-03-14T08:57:39.633Z"
   },
   {
    "duration": 106,
    "start_time": "2023-03-14T08:57:39.693Z"
   },
   {
    "duration": 4,
    "start_time": "2023-03-14T08:57:39.800Z"
   },
   {
    "duration": 23,
    "start_time": "2023-03-14T08:57:39.806Z"
   },
   {
    "duration": 4,
    "start_time": "2023-03-14T08:57:39.990Z"
   },
   {
    "duration": 13,
    "start_time": "2023-03-14T08:57:39.997Z"
   },
   {
    "duration": 4,
    "start_time": "2023-03-14T08:57:40.013Z"
   },
   {
    "duration": 72,
    "start_time": "2023-03-14T08:57:40.018Z"
   },
   {
    "duration": 98,
    "start_time": "2023-03-14T08:57:40.092Z"
   },
   {
    "duration": 12,
    "start_time": "2023-03-14T08:57:40.193Z"
   },
   {
    "duration": 8,
    "start_time": "2023-03-14T08:57:40.207Z"
   },
   {
    "duration": 7,
    "start_time": "2023-03-14T08:57:40.216Z"
   },
   {
    "duration": 5,
    "start_time": "2023-03-14T08:57:40.224Z"
   },
   {
    "duration": 9,
    "start_time": "2023-03-14T08:57:40.231Z"
   },
   {
    "duration": 7,
    "start_time": "2023-03-14T08:57:40.242Z"
   },
   {
    "duration": 18,
    "start_time": "2023-03-14T08:57:40.250Z"
   },
   {
    "duration": 4,
    "start_time": "2023-03-14T08:57:40.290Z"
   },
   {
    "duration": 8,
    "start_time": "2023-03-14T08:57:40.296Z"
   },
   {
    "duration": 1117,
    "start_time": "2023-03-14T08:58:55.744Z"
   },
   {
    "duration": 377,
    "start_time": "2023-03-14T08:58:56.863Z"
   },
   {
    "duration": 19,
    "start_time": "2023-03-14T08:58:57.241Z"
   },
   {
    "duration": 17,
    "start_time": "2023-03-14T08:58:57.261Z"
   },
   {
    "duration": 38,
    "start_time": "2023-03-14T08:58:57.281Z"
   },
   {
    "duration": 42,
    "start_time": "2023-03-14T08:58:57.321Z"
   },
   {
    "duration": 71,
    "start_time": "2023-03-14T08:58:57.364Z"
   },
   {
    "duration": 12,
    "start_time": "2023-03-14T08:58:57.437Z"
   },
   {
    "duration": 27,
    "start_time": "2023-03-14T08:58:57.450Z"
   },
   {
    "duration": 47,
    "start_time": "2023-03-14T08:58:57.479Z"
   },
   {
    "duration": 45,
    "start_time": "2023-03-14T08:58:57.527Z"
   },
   {
    "duration": 66,
    "start_time": "2023-03-14T08:58:57.590Z"
   },
   {
    "duration": 12,
    "start_time": "2023-03-14T08:58:57.658Z"
   },
   {
    "duration": 15,
    "start_time": "2023-03-14T08:58:57.690Z"
   },
   {
    "duration": 38,
    "start_time": "2023-03-14T08:58:57.707Z"
   },
   {
    "duration": 60,
    "start_time": "2023-03-14T08:58:57.746Z"
   },
   {
    "duration": 58,
    "start_time": "2023-03-14T08:58:57.808Z"
   },
   {
    "duration": 23,
    "start_time": "2023-03-14T08:58:57.867Z"
   },
   {
    "duration": 30,
    "start_time": "2023-03-14T08:58:57.891Z"
   },
   {
    "duration": 19,
    "start_time": "2023-03-14T08:58:57.923Z"
   },
   {
    "duration": 43,
    "start_time": "2023-03-14T08:58:57.943Z"
   },
   {
    "duration": 103,
    "start_time": "2023-03-14T08:58:57.991Z"
   },
   {
    "duration": 125,
    "start_time": "2023-03-14T08:58:58.096Z"
   },
   {
    "duration": 18,
    "start_time": "2023-03-14T08:58:58.223Z"
   },
   {
    "duration": 42,
    "start_time": "2023-03-14T08:58:58.243Z"
   },
   {
    "duration": 106,
    "start_time": "2023-03-14T08:58:58.288Z"
   },
   {
    "duration": 121,
    "start_time": "2023-03-14T08:58:58.397Z"
   },
   {
    "duration": 14,
    "start_time": "2023-03-14T08:58:58.520Z"
   },
   {
    "duration": 29,
    "start_time": "2023-03-14T08:58:58.536Z"
   },
   {
    "duration": 99,
    "start_time": "2023-03-14T08:58:58.592Z"
   },
   {
    "duration": 39,
    "start_time": "2023-03-14T08:58:58.693Z"
   },
   {
    "duration": 23,
    "start_time": "2023-03-14T08:58:58.734Z"
   },
   {
    "duration": 47,
    "start_time": "2023-03-14T08:58:58.758Z"
   },
   {
    "duration": 20,
    "start_time": "2023-03-14T08:58:58.807Z"
   },
   {
    "duration": 15,
    "start_time": "2023-03-14T08:58:58.829Z"
   },
   {
    "duration": 33,
    "start_time": "2023-03-14T08:58:58.846Z"
   },
   {
    "duration": 44,
    "start_time": "2023-03-14T08:58:58.881Z"
   },
   {
    "duration": 15,
    "start_time": "2023-03-14T08:58:58.927Z"
   },
   {
    "duration": 29,
    "start_time": "2023-03-14T08:58:58.944Z"
   },
   {
    "duration": 5,
    "start_time": "2023-03-14T08:59:14.995Z"
   },
   {
    "duration": 1680,
    "start_time": "2023-03-14T09:00:04.947Z"
   },
   {
    "duration": 379,
    "start_time": "2023-03-14T09:00:06.629Z"
   },
   {
    "duration": 18,
    "start_time": "2023-03-14T09:00:07.010Z"
   },
   {
    "duration": 16,
    "start_time": "2023-03-14T09:00:07.030Z"
   },
   {
    "duration": 60,
    "start_time": "2023-03-14T09:00:07.047Z"
   },
   {
    "duration": 46,
    "start_time": "2023-03-14T09:00:07.109Z"
   },
   {
    "duration": 76,
    "start_time": "2023-03-14T09:00:07.157Z"
   },
   {
    "duration": 42,
    "start_time": "2023-03-14T09:00:07.234Z"
   },
   {
    "duration": 51,
    "start_time": "2023-03-14T09:00:07.277Z"
   },
   {
    "duration": 37,
    "start_time": "2023-03-14T09:00:07.331Z"
   },
   {
    "duration": 44,
    "start_time": "2023-03-14T09:00:07.370Z"
   },
   {
    "duration": 65,
    "start_time": "2023-03-14T09:00:07.415Z"
   },
   {
    "duration": 12,
    "start_time": "2023-03-14T09:00:07.491Z"
   },
   {
    "duration": 24,
    "start_time": "2023-03-14T09:00:07.505Z"
   },
   {
    "duration": 37,
    "start_time": "2023-03-14T09:00:07.531Z"
   },
   {
    "duration": 65,
    "start_time": "2023-03-14T09:00:07.569Z"
   },
   {
    "duration": 86,
    "start_time": "2023-03-14T09:00:07.636Z"
   },
   {
    "duration": 5,
    "start_time": "2023-03-14T09:00:07.724Z"
   },
   {
    "duration": 33,
    "start_time": "2023-03-14T09:00:07.730Z"
   },
   {
    "duration": 7,
    "start_time": "2023-03-14T09:00:07.765Z"
   },
   {
    "duration": 215,
    "start_time": "2023-03-14T09:00:07.774Z"
   },
   {
    "duration": 5,
    "start_time": "2023-03-14T09:00:07.992Z"
   },
   {
    "duration": 17,
    "start_time": "2023-03-14T09:00:07.998Z"
   },
   {
    "duration": 74,
    "start_time": "2023-03-14T09:00:08.017Z"
   },
   {
    "duration": 22,
    "start_time": "2023-03-14T09:00:08.093Z"
   },
   {
    "duration": 74,
    "start_time": "2023-03-14T09:00:08.117Z"
   },
   {
    "duration": 114,
    "start_time": "2023-03-14T09:00:08.194Z"
   },
   {
    "duration": 4,
    "start_time": "2023-03-14T09:00:08.311Z"
   },
   {
    "duration": 74,
    "start_time": "2023-03-14T09:00:08.316Z"
   },
   {
    "duration": 96,
    "start_time": "2023-03-14T09:00:08.393Z"
   },
   {
    "duration": 14,
    "start_time": "2023-03-14T09:00:08.491Z"
   },
   {
    "duration": 10,
    "start_time": "2023-03-14T09:00:08.508Z"
   },
   {
    "duration": 5,
    "start_time": "2023-03-14T09:00:08.520Z"
   },
   {
    "duration": 6,
    "start_time": "2023-03-14T09:00:08.527Z"
   },
   {
    "duration": 8,
    "start_time": "2023-03-14T09:00:08.535Z"
   },
   {
    "duration": 9,
    "start_time": "2023-03-14T09:00:08.545Z"
   },
   {
    "duration": 19,
    "start_time": "2023-03-14T09:00:08.556Z"
   },
   {
    "duration": 14,
    "start_time": "2023-03-14T09:00:08.577Z"
   },
   {
    "duration": 8,
    "start_time": "2023-03-14T09:00:08.592Z"
   },
   {
    "duration": 110,
    "start_time": "2023-03-14T09:01:50.490Z"
   },
   {
    "duration": 1526,
    "start_time": "2023-03-14T09:02:24.225Z"
   },
   {
    "duration": 6,
    "start_time": "2023-03-14T09:03:31.099Z"
   },
   {
    "duration": 1509,
    "start_time": "2023-03-14T09:03:32.340Z"
   },
   {
    "duration": 1621,
    "start_time": "2023-03-14T09:04:50.515Z"
   },
   {
    "duration": 1564,
    "start_time": "2023-03-14T09:05:23.786Z"
   },
   {
    "duration": 1407,
    "start_time": "2023-03-14T09:07:26.488Z"
   },
   {
    "duration": 380,
    "start_time": "2023-03-14T09:07:27.898Z"
   },
   {
    "duration": 17,
    "start_time": "2023-03-14T09:07:28.279Z"
   },
   {
    "duration": 174,
    "start_time": "2023-03-14T09:07:28.298Z"
   },
   {
    "duration": 92,
    "start_time": "2023-03-14T09:07:28.474Z"
   },
   {
    "duration": 47,
    "start_time": "2023-03-14T09:07:28.567Z"
   },
   {
    "duration": 83,
    "start_time": "2023-03-14T09:07:28.616Z"
   },
   {
    "duration": 13,
    "start_time": "2023-03-14T09:07:28.701Z"
   },
   {
    "duration": 19,
    "start_time": "2023-03-14T09:07:28.716Z"
   },
   {
    "duration": 37,
    "start_time": "2023-03-14T09:07:28.736Z"
   },
   {
    "duration": 43,
    "start_time": "2023-03-14T09:07:28.789Z"
   },
   {
    "duration": 83,
    "start_time": "2023-03-14T09:07:28.834Z"
   },
   {
    "duration": 13,
    "start_time": "2023-03-14T09:07:28.919Z"
   },
   {
    "duration": 31,
    "start_time": "2023-03-14T09:07:28.936Z"
   },
   {
    "duration": 51,
    "start_time": "2023-03-14T09:07:28.969Z"
   },
   {
    "duration": 48,
    "start_time": "2023-03-14T09:07:29.021Z"
   },
   {
    "duration": 86,
    "start_time": "2023-03-14T09:07:29.071Z"
   },
   {
    "duration": 4,
    "start_time": "2023-03-14T09:07:29.159Z"
   },
   {
    "duration": 25,
    "start_time": "2023-03-14T09:07:29.165Z"
   },
   {
    "duration": 4,
    "start_time": "2023-03-14T09:07:29.191Z"
   },
   {
    "duration": 21,
    "start_time": "2023-03-14T09:07:29.197Z"
   },
   {
    "duration": 76,
    "start_time": "2023-03-14T09:07:29.220Z"
   },
   {
    "duration": 108,
    "start_time": "2023-03-14T09:07:29.298Z"
   },
   {
    "duration": 4,
    "start_time": "2023-03-14T09:07:29.408Z"
   },
   {
    "duration": 77,
    "start_time": "2023-03-14T09:07:29.414Z"
   },
   {
    "duration": 99,
    "start_time": "2023-03-14T09:07:29.494Z"
   },
   {
    "duration": 19,
    "start_time": "2023-03-14T09:07:29.594Z"
   },
   {
    "duration": 17,
    "start_time": "2023-03-14T09:07:29.615Z"
   },
   {
    "duration": 56,
    "start_time": "2023-03-14T09:07:29.633Z"
   },
   {
    "duration": 104,
    "start_time": "2023-03-14T09:07:29.692Z"
   },
   {
    "duration": 9,
    "start_time": "2023-03-14T09:07:29.798Z"
   },
   {
    "duration": 3,
    "start_time": "2023-03-14T09:07:29.809Z"
   },
   {
    "duration": 15,
    "start_time": "2023-03-14T09:07:29.813Z"
   },
   {
    "duration": 36,
    "start_time": "2023-03-14T09:07:29.830Z"
   },
   {
    "duration": 7,
    "start_time": "2023-03-14T09:07:29.868Z"
   },
   {
    "duration": 8,
    "start_time": "2023-03-14T09:07:29.877Z"
   },
   {
    "duration": 27,
    "start_time": "2023-03-14T09:07:29.886Z"
   },
   {
    "duration": 4,
    "start_time": "2023-03-14T09:07:29.914Z"
   },
   {
    "duration": 18,
    "start_time": "2023-03-14T09:07:29.919Z"
   },
   {
    "duration": 1457,
    "start_time": "2023-03-14T09:07:29.938Z"
   },
   {
    "duration": 1371,
    "start_time": "2023-03-14T09:07:31.400Z"
   },
   {
    "duration": 1418,
    "start_time": "2023-03-14T09:07:32.772Z"
   },
   {
    "duration": 7,
    "start_time": "2023-03-14T09:08:49.335Z"
   },
   {
    "duration": 1407,
    "start_time": "2023-03-14T09:08:50.385Z"
   },
   {
    "duration": 1468,
    "start_time": "2023-03-14T09:08:53.631Z"
   },
   {
    "duration": 1462,
    "start_time": "2023-03-14T09:08:56.288Z"
   },
   {
    "duration": 6,
    "start_time": "2023-03-14T09:11:14.184Z"
   },
   {
    "duration": 1447,
    "start_time": "2023-03-14T09:11:14.833Z"
   },
   {
    "duration": 1459,
    "start_time": "2023-03-14T09:11:16.281Z"
   },
   {
    "duration": 1522,
    "start_time": "2023-03-14T09:11:17.742Z"
   },
   {
    "duration": 6,
    "start_time": "2023-03-14T09:14:52.413Z"
   },
   {
    "duration": 1482,
    "start_time": "2023-03-14T09:14:53.164Z"
   },
   {
    "duration": 1449,
    "start_time": "2023-03-14T09:14:54.648Z"
   },
   {
    "duration": 1493,
    "start_time": "2023-03-14T09:14:56.099Z"
   },
   {
    "duration": 6,
    "start_time": "2023-03-14T09:20:59.612Z"
   },
   {
    "duration": 1599,
    "start_time": "2023-03-14T09:21:05.809Z"
   },
   {
    "duration": 8,
    "start_time": "2023-03-14T09:21:22.413Z"
   },
   {
    "duration": 1485,
    "start_time": "2023-03-14T09:21:23.873Z"
   },
   {
    "duration": 80,
    "start_time": "2023-03-14T09:22:03.430Z"
   },
   {
    "duration": 7,
    "start_time": "2023-03-14T09:22:18.122Z"
   },
   {
    "duration": 1509,
    "start_time": "2023-03-14T09:22:20.529Z"
   },
   {
    "duration": 9,
    "start_time": "2023-03-14T09:22:56.392Z"
   },
   {
    "duration": 9766,
    "start_time": "2023-03-14T09:22:57.043Z"
   },
   {
    "duration": 6,
    "start_time": "2023-03-14T09:23:51.971Z"
   },
   {
    "duration": 1470,
    "start_time": "2023-03-14T09:23:52.688Z"
   },
   {
    "duration": 6,
    "start_time": "2023-03-14T09:26:15.166Z"
   },
   {
    "duration": 1607,
    "start_time": "2023-03-14T09:26:16.246Z"
   },
   {
    "duration": 1660,
    "start_time": "2023-03-14T09:26:17.855Z"
   },
   {
    "duration": 1474,
    "start_time": "2023-03-14T09:26:19.517Z"
   },
   {
    "duration": 6,
    "start_time": "2023-03-14T09:27:20.974Z"
   },
   {
    "duration": 1624,
    "start_time": "2023-03-14T09:27:22.491Z"
   },
   {
    "duration": 1597,
    "start_time": "2023-03-14T09:27:24.118Z"
   },
   {
    "duration": 1673,
    "start_time": "2023-03-14T09:27:25.717Z"
   },
   {
    "duration": 1695,
    "start_time": "2023-03-14T12:50:19.395Z"
   },
   {
    "duration": 692,
    "start_time": "2023-03-14T12:50:21.093Z"
   },
   {
    "duration": 17,
    "start_time": "2023-03-14T12:50:21.787Z"
   },
   {
    "duration": 16,
    "start_time": "2023-03-14T12:50:21.805Z"
   },
   {
    "duration": 47,
    "start_time": "2023-03-14T12:50:21.824Z"
   },
   {
    "duration": 48,
    "start_time": "2023-03-14T12:50:21.873Z"
   },
   {
    "duration": 86,
    "start_time": "2023-03-14T12:50:21.922Z"
   },
   {
    "duration": 12,
    "start_time": "2023-03-14T12:50:22.010Z"
   },
   {
    "duration": 48,
    "start_time": "2023-03-14T12:50:22.023Z"
   },
   {
    "duration": 37,
    "start_time": "2023-03-14T12:50:22.074Z"
   },
   {
    "duration": 51,
    "start_time": "2023-03-14T12:50:22.113Z"
   },
   {
    "duration": 73,
    "start_time": "2023-03-14T12:50:22.166Z"
   },
   {
    "duration": 32,
    "start_time": "2023-03-14T12:50:22.241Z"
   },
   {
    "duration": 15,
    "start_time": "2023-03-14T12:50:22.276Z"
   },
   {
    "duration": 37,
    "start_time": "2023-03-14T12:50:22.292Z"
   },
   {
    "duration": 68,
    "start_time": "2023-03-14T12:50:22.330Z"
   },
   {
    "duration": 85,
    "start_time": "2023-03-14T12:50:22.399Z"
   },
   {
    "duration": 7,
    "start_time": "2023-03-14T12:50:22.486Z"
   },
   {
    "duration": 17,
    "start_time": "2023-03-14T12:50:22.495Z"
   },
   {
    "duration": 3,
    "start_time": "2023-03-14T12:50:22.514Z"
   },
   {
    "duration": 55,
    "start_time": "2023-03-14T12:50:22.519Z"
   },
   {
    "duration": 80,
    "start_time": "2023-03-14T12:50:22.576Z"
   },
   {
    "duration": 88,
    "start_time": "2023-03-14T12:50:22.672Z"
   },
   {
    "duration": 10,
    "start_time": "2023-03-14T12:50:22.767Z"
   },
   {
    "duration": 23,
    "start_time": "2023-03-14T12:50:22.779Z"
   },
   {
    "duration": 105,
    "start_time": "2023-03-14T12:50:22.857Z"
   },
   {
    "duration": 24,
    "start_time": "2023-03-14T12:50:22.965Z"
   },
   {
    "duration": 4,
    "start_time": "2023-03-14T12:50:22.991Z"
   },
   {
    "duration": 41,
    "start_time": "2023-03-14T12:50:22.996Z"
   },
   {
    "duration": 109,
    "start_time": "2023-03-14T12:50:23.057Z"
   },
   {
    "duration": 11,
    "start_time": "2023-03-14T12:50:23.171Z"
   },
   {
    "duration": 10,
    "start_time": "2023-03-14T12:50:23.183Z"
   },
   {
    "duration": 7,
    "start_time": "2023-03-14T12:50:23.194Z"
   },
   {
    "duration": 7,
    "start_time": "2023-03-14T12:50:23.202Z"
   },
   {
    "duration": 6,
    "start_time": "2023-03-14T12:50:23.211Z"
   },
   {
    "duration": 7,
    "start_time": "2023-03-14T12:50:23.219Z"
   },
   {
    "duration": 47,
    "start_time": "2023-03-14T12:50:23.228Z"
   },
   {
    "duration": 7,
    "start_time": "2023-03-14T12:50:23.277Z"
   },
   {
    "duration": 9,
    "start_time": "2023-03-14T12:50:23.286Z"
   },
   {
    "duration": 1584,
    "start_time": "2023-03-14T12:50:23.297Z"
   },
   {
    "duration": 1719,
    "start_time": "2023-03-14T12:50:24.886Z"
   },
   {
    "duration": 1670,
    "start_time": "2023-03-14T12:50:26.607Z"
   },
   {
    "duration": 8,
    "start_time": "2023-03-14T12:51:49.769Z"
   },
   {
    "duration": 1505,
    "start_time": "2023-03-14T12:51:51.854Z"
   },
   {
    "duration": 1532,
    "start_time": "2023-03-14T12:51:56.485Z"
   },
   {
    "duration": 1581,
    "start_time": "2023-03-14T12:52:01.703Z"
   },
   {
    "duration": 7,
    "start_time": "2023-03-14T12:52:52.720Z"
   },
   {
    "duration": 1840,
    "start_time": "2023-03-14T12:52:55.980Z"
   },
   {
    "duration": 1738,
    "start_time": "2023-03-14T12:53:00.455Z"
   },
   {
    "duration": 1802,
    "start_time": "2023-03-14T12:53:06.023Z"
   },
   {
    "duration": 4,
    "start_time": "2023-03-14T12:54:41.242Z"
   },
   {
    "duration": 1138,
    "start_time": "2023-03-14T12:54:46.497Z"
   },
   {
    "duration": 398,
    "start_time": "2023-03-14T12:54:47.638Z"
   },
   {
    "duration": 35,
    "start_time": "2023-03-14T12:54:48.038Z"
   },
   {
    "duration": 15,
    "start_time": "2023-03-14T12:54:48.075Z"
   },
   {
    "duration": 37,
    "start_time": "2023-03-14T12:54:48.093Z"
   },
   {
    "duration": 65,
    "start_time": "2023-03-14T12:54:48.131Z"
   },
   {
    "duration": 98,
    "start_time": "2023-03-14T12:54:48.198Z"
   },
   {
    "duration": 15,
    "start_time": "2023-03-14T12:54:48.300Z"
   },
   {
    "duration": 33,
    "start_time": "2023-03-14T12:54:48.317Z"
   },
   {
    "duration": 50,
    "start_time": "2023-03-14T12:54:48.352Z"
   },
   {
    "duration": 70,
    "start_time": "2023-03-14T12:54:48.404Z"
   },
   {
    "duration": 88,
    "start_time": "2023-03-14T12:54:48.476Z"
   },
   {
    "duration": 14,
    "start_time": "2023-03-14T12:54:48.573Z"
   },
   {
    "duration": 20,
    "start_time": "2023-03-14T12:54:48.591Z"
   },
   {
    "duration": 39,
    "start_time": "2023-03-14T12:54:48.613Z"
   },
   {
    "duration": 50,
    "start_time": "2023-03-14T12:54:48.654Z"
   },
   {
    "duration": 101,
    "start_time": "2023-03-14T12:54:48.706Z"
   },
   {
    "duration": 6,
    "start_time": "2023-03-14T12:54:48.808Z"
   },
   {
    "duration": 15,
    "start_time": "2023-03-14T12:54:48.816Z"
   },
   {
    "duration": 11,
    "start_time": "2023-03-14T12:54:48.859Z"
   },
   {
    "duration": 100,
    "start_time": "2023-03-14T12:54:48.871Z"
   },
   {
    "duration": 83,
    "start_time": "2023-03-14T12:54:48.977Z"
   },
   {
    "duration": 22,
    "start_time": "2023-03-14T12:54:49.069Z"
   },
   {
    "duration": 4,
    "start_time": "2023-03-14T12:54:49.093Z"
   },
   {
    "duration": 75,
    "start_time": "2023-03-14T12:54:49.098Z"
   },
   {
    "duration": 81,
    "start_time": "2023-03-14T12:54:49.180Z"
   },
   {
    "duration": 33,
    "start_time": "2023-03-14T12:54:49.263Z"
   },
   {
    "duration": 4,
    "start_time": "2023-03-14T12:54:49.299Z"
   },
   {
    "duration": 59,
    "start_time": "2023-03-14T12:54:49.306Z"
   },
   {
    "duration": 16,
    "start_time": "2023-03-14T12:54:49.368Z"
   },
   {
    "duration": 23,
    "start_time": "2023-03-14T12:54:49.459Z"
   },
   {
    "duration": 6,
    "start_time": "2023-03-14T12:54:49.484Z"
   },
   {
    "duration": 5,
    "start_time": "2023-03-14T12:54:49.492Z"
   },
   {
    "duration": 5,
    "start_time": "2023-03-14T12:54:49.499Z"
   },
   {
    "duration": 6,
    "start_time": "2023-03-14T12:54:49.506Z"
   },
   {
    "duration": 5,
    "start_time": "2023-03-14T12:54:49.513Z"
   },
   {
    "duration": 46,
    "start_time": "2023-03-14T12:54:49.520Z"
   },
   {
    "duration": 7,
    "start_time": "2023-03-14T12:54:49.568Z"
   },
   {
    "duration": 7,
    "start_time": "2023-03-14T12:54:49.577Z"
   },
   {
    "duration": 1509,
    "start_time": "2023-03-14T12:54:49.585Z"
   },
   {
    "duration": 1507,
    "start_time": "2023-03-14T12:54:51.097Z"
   },
   {
    "duration": 1510,
    "start_time": "2023-03-14T12:54:52.605Z"
   },
   {
    "duration": 1248,
    "start_time": "2023-03-14T12:55:53.192Z"
   },
   {
    "duration": 475,
    "start_time": "2023-03-14T12:55:54.442Z"
   },
   {
    "duration": 24,
    "start_time": "2023-03-14T12:55:54.919Z"
   },
   {
    "duration": 34,
    "start_time": "2023-03-14T12:55:54.945Z"
   },
   {
    "duration": 56,
    "start_time": "2023-03-14T12:55:54.983Z"
   },
   {
    "duration": 73,
    "start_time": "2023-03-14T12:55:55.042Z"
   },
   {
    "duration": 20,
    "start_time": "2023-03-14T12:55:55.118Z"
   },
   {
    "duration": 39,
    "start_time": "2023-03-14T12:55:55.140Z"
   },
   {
    "duration": 45,
    "start_time": "2023-03-14T12:55:55.181Z"
   },
   {
    "duration": 70,
    "start_time": "2023-03-14T12:55:55.228Z"
   },
   {
    "duration": 17,
    "start_time": "2023-03-14T12:55:55.300Z"
   },
   {
    "duration": 24,
    "start_time": "2023-03-14T12:55:55.319Z"
   },
   {
    "duration": 62,
    "start_time": "2023-03-14T12:55:55.346Z"
   },
   {
    "duration": 79,
    "start_time": "2023-03-14T12:55:55.413Z"
   },
   {
    "duration": 6,
    "start_time": "2023-03-14T12:55:55.495Z"
   },
   {
    "duration": 26,
    "start_time": "2023-03-14T12:55:55.503Z"
   },
   {
    "duration": 30,
    "start_time": "2023-03-14T12:55:55.531Z"
   },
   {
    "duration": 59,
    "start_time": "2023-03-14T12:55:55.563Z"
   },
   {
    "duration": 158,
    "start_time": "2023-03-14T12:55:55.625Z"
   },
   {
    "duration": 26,
    "start_time": "2023-03-14T12:55:55.785Z"
   },
   {
    "duration": 11,
    "start_time": "2023-03-14T12:55:55.813Z"
   },
   {
    "duration": 28,
    "start_time": "2023-03-14T12:55:55.827Z"
   },
   {
    "duration": 129,
    "start_time": "2023-03-14T12:55:55.858Z"
   },
   {
    "duration": 17,
    "start_time": "2023-03-14T12:55:55.989Z"
   },
   {
    "duration": 54,
    "start_time": "2023-03-14T12:55:56.008Z"
   },
   {
    "duration": 50,
    "start_time": "2023-03-14T12:55:56.064Z"
   },
   {
    "duration": 62,
    "start_time": "2023-03-14T12:55:56.116Z"
   },
   {
    "duration": 112,
    "start_time": "2023-03-14T12:55:56.180Z"
   },
   {
    "duration": 4,
    "start_time": "2023-03-14T12:55:56.294Z"
   },
   {
    "duration": 6,
    "start_time": "2023-03-14T12:55:56.300Z"
   },
   {
    "duration": 16,
    "start_time": "2023-03-14T12:55:56.308Z"
   },
   {
    "duration": 7,
    "start_time": "2023-03-14T12:55:56.326Z"
   },
   {
    "duration": 7,
    "start_time": "2023-03-14T12:55:56.336Z"
   },
   {
    "duration": 55,
    "start_time": "2023-03-14T12:55:56.346Z"
   },
   {
    "duration": 6,
    "start_time": "2023-03-14T12:55:56.404Z"
   },
   {
    "duration": 8,
    "start_time": "2023-03-14T12:55:56.413Z"
   },
   {
    "duration": 1703,
    "start_time": "2023-03-14T12:55:56.423Z"
   },
   {
    "duration": 1653,
    "start_time": "2023-03-14T12:55:58.127Z"
   },
   {
    "duration": 1636,
    "start_time": "2023-03-14T12:55:59.781Z"
   },
   {
    "duration": 4,
    "start_time": "2023-03-14T12:56:35.835Z"
   },
   {
    "duration": 1384,
    "start_time": "2023-03-14T12:56:55.100Z"
   },
   {
    "duration": 424,
    "start_time": "2023-03-14T12:56:56.486Z"
   },
   {
    "duration": 21,
    "start_time": "2023-03-14T12:56:56.912Z"
   },
   {
    "duration": 37,
    "start_time": "2023-03-14T12:56:56.935Z"
   },
   {
    "duration": 40,
    "start_time": "2023-03-14T12:56:56.979Z"
   },
   {
    "duration": 78,
    "start_time": "2023-03-14T12:56:57.021Z"
   },
   {
    "duration": 16,
    "start_time": "2023-03-14T12:56:57.101Z"
   },
   {
    "duration": 39,
    "start_time": "2023-03-14T12:56:57.119Z"
   },
   {
    "duration": 46,
    "start_time": "2023-03-14T12:56:57.163Z"
   },
   {
    "duration": 70,
    "start_time": "2023-03-14T12:56:57.211Z"
   },
   {
    "duration": 18,
    "start_time": "2023-03-14T12:56:57.283Z"
   },
   {
    "duration": 16,
    "start_time": "2023-03-14T12:56:57.304Z"
   },
   {
    "duration": 53,
    "start_time": "2023-03-14T12:56:57.328Z"
   },
   {
    "duration": 51,
    "start_time": "2023-03-14T12:56:57.384Z"
   },
   {
    "duration": 25,
    "start_time": "2023-03-14T12:56:57.437Z"
   },
   {
    "duration": 33,
    "start_time": "2023-03-14T12:56:57.466Z"
   },
   {
    "duration": 6,
    "start_time": "2023-03-14T12:56:57.501Z"
   },
   {
    "duration": 160,
    "start_time": "2023-03-14T12:56:57.508Z"
   },
   {
    "duration": 9,
    "start_time": "2023-03-14T12:56:57.670Z"
   },
   {
    "duration": 42,
    "start_time": "2023-03-14T12:56:57.681Z"
   },
   {
    "duration": 17,
    "start_time": "2023-03-14T12:56:57.758Z"
   },
   {
    "duration": 175,
    "start_time": "2023-03-14T12:56:57.782Z"
   },
   {
    "duration": 32,
    "start_time": "2023-03-14T12:56:57.963Z"
   },
   {
    "duration": 28,
    "start_time": "2023-03-14T12:56:57.998Z"
   },
   {
    "duration": 5,
    "start_time": "2023-03-14T12:56:58.028Z"
   },
   {
    "duration": 113,
    "start_time": "2023-03-14T12:56:58.059Z"
   },
   {
    "duration": 9,
    "start_time": "2023-03-14T12:56:58.175Z"
   },
   {
    "duration": 71,
    "start_time": "2023-03-14T12:56:58.191Z"
   },
   {
    "duration": 31,
    "start_time": "2023-03-14T12:56:58.266Z"
   },
   {
    "duration": 7,
    "start_time": "2023-03-14T12:56:58.299Z"
   },
   {
    "duration": 9,
    "start_time": "2023-03-14T12:56:58.309Z"
   },
   {
    "duration": 8,
    "start_time": "2023-03-14T12:56:58.320Z"
   },
   {
    "duration": 32,
    "start_time": "2023-03-14T12:56:58.330Z"
   },
   {
    "duration": 47,
    "start_time": "2023-03-14T12:56:58.364Z"
   },
   {
    "duration": 4,
    "start_time": "2023-03-14T12:56:58.414Z"
   },
   {
    "duration": 10,
    "start_time": "2023-03-14T12:56:58.420Z"
   },
   {
    "duration": 1776,
    "start_time": "2023-03-14T12:56:58.433Z"
   },
   {
    "duration": 0,
    "start_time": "2023-03-14T12:57:00.212Z"
   },
   {
    "duration": 0,
    "start_time": "2023-03-14T12:57:00.214Z"
   },
   {
    "duration": 1285,
    "start_time": "2023-03-14T12:57:25.661Z"
   },
   {
    "duration": 486,
    "start_time": "2023-03-14T12:57:26.949Z"
   },
   {
    "duration": 31,
    "start_time": "2023-03-14T12:57:27.437Z"
   },
   {
    "duration": 26,
    "start_time": "2023-03-14T12:57:27.470Z"
   },
   {
    "duration": 63,
    "start_time": "2023-03-14T12:57:27.498Z"
   },
   {
    "duration": 56,
    "start_time": "2023-03-14T12:57:27.567Z"
   },
   {
    "duration": 15,
    "start_time": "2023-03-14T12:57:27.626Z"
   },
   {
    "duration": 54,
    "start_time": "2023-03-14T12:57:27.643Z"
   },
   {
    "duration": 44,
    "start_time": "2023-03-14T12:57:27.699Z"
   },
   {
    "duration": 70,
    "start_time": "2023-03-14T12:57:27.747Z"
   },
   {
    "duration": 18,
    "start_time": "2023-03-14T12:57:27.820Z"
   },
   {
    "duration": 65,
    "start_time": "2023-03-14T12:57:27.841Z"
   },
   {
    "duration": 64,
    "start_time": "2023-03-14T12:57:27.909Z"
   },
   {
    "duration": 54,
    "start_time": "2023-03-14T12:57:27.978Z"
   },
   {
    "duration": 4,
    "start_time": "2023-03-14T12:57:28.034Z"
   },
   {
    "duration": 32,
    "start_time": "2023-03-14T12:57:28.040Z"
   },
   {
    "duration": 27,
    "start_time": "2023-03-14T12:57:28.073Z"
   },
   {
    "duration": 62,
    "start_time": "2023-03-14T12:57:28.102Z"
   },
   {
    "duration": 94,
    "start_time": "2023-03-14T12:57:28.175Z"
   },
   {
    "duration": 31,
    "start_time": "2023-03-14T12:57:28.271Z"
   },
   {
    "duration": 6,
    "start_time": "2023-03-14T12:57:28.304Z"
   },
   {
    "duration": 66,
    "start_time": "2023-03-14T12:57:28.312Z"
   },
   {
    "duration": 82,
    "start_time": "2023-03-14T12:57:28.380Z"
   },
   {
    "duration": 53,
    "start_time": "2023-03-14T12:57:28.465Z"
   },
   {
    "duration": 4,
    "start_time": "2023-03-14T12:57:28.521Z"
   },
   {
    "duration": 71,
    "start_time": "2023-03-14T12:57:28.527Z"
   },
   {
    "duration": 206,
    "start_time": "2023-03-14T12:57:28.600Z"
   },
   {
    "duration": 11,
    "start_time": "2023-03-14T12:57:28.811Z"
   },
   {
    "duration": 8,
    "start_time": "2023-03-14T12:57:28.824Z"
   },
   {
    "duration": 12,
    "start_time": "2023-03-14T12:57:28.833Z"
   },
   {
    "duration": 17,
    "start_time": "2023-03-14T12:57:28.847Z"
   },
   {
    "duration": 35,
    "start_time": "2023-03-14T12:57:28.866Z"
   },
   {
    "duration": 6,
    "start_time": "2023-03-14T12:57:28.904Z"
   },
   {
    "duration": 21,
    "start_time": "2023-03-14T12:57:28.913Z"
   },
   {
    "duration": 4,
    "start_time": "2023-03-14T12:57:28.936Z"
   },
   {
    "duration": 9,
    "start_time": "2023-03-14T12:57:28.942Z"
   },
   {
    "duration": 1793,
    "start_time": "2023-03-14T12:57:28.953Z"
   },
   {
    "duration": 1905,
    "start_time": "2023-03-14T12:57:30.748Z"
   },
   {
    "duration": 1919,
    "start_time": "2023-03-14T12:57:32.660Z"
   },
   {
    "duration": 102,
    "start_time": "2023-03-14T13:32:21.783Z"
   },
   {
    "duration": 111,
    "start_time": "2023-03-14T13:33:04.187Z"
   },
   {
    "duration": 17,
    "start_time": "2023-03-14T13:33:18.732Z"
   },
   {
    "duration": 1331,
    "start_time": "2023-03-14T13:41:29.996Z"
   },
   {
    "duration": 515,
    "start_time": "2023-03-14T13:41:31.330Z"
   },
   {
    "duration": 33,
    "start_time": "2023-03-14T13:41:31.847Z"
   },
   {
    "duration": 53,
    "start_time": "2023-03-14T13:41:31.886Z"
   },
   {
    "duration": 58,
    "start_time": "2023-03-14T13:41:31.941Z"
   },
   {
    "duration": 98,
    "start_time": "2023-03-14T13:41:32.003Z"
   },
   {
    "duration": 16,
    "start_time": "2023-03-14T13:41:32.108Z"
   },
   {
    "duration": 28,
    "start_time": "2023-03-14T13:41:32.126Z"
   },
   {
    "duration": 126,
    "start_time": "2023-03-14T13:41:32.156Z"
   },
   {
    "duration": 104,
    "start_time": "2023-03-14T13:41:32.287Z"
   },
   {
    "duration": 24,
    "start_time": "2023-03-14T13:41:32.393Z"
   },
   {
    "duration": 36,
    "start_time": "2023-03-14T13:41:32.419Z"
   },
   {
    "duration": 53,
    "start_time": "2023-03-14T13:41:32.460Z"
   },
   {
    "duration": 67,
    "start_time": "2023-03-14T13:41:32.519Z"
   },
   {
    "duration": 4,
    "start_time": "2023-03-14T13:41:32.588Z"
   },
   {
    "duration": 41,
    "start_time": "2023-03-14T13:41:32.594Z"
   },
   {
    "duration": 8,
    "start_time": "2023-03-14T13:41:32.636Z"
   },
   {
    "duration": 14,
    "start_time": "2023-03-14T13:41:32.647Z"
   },
   {
    "duration": 72,
    "start_time": "2023-03-14T13:41:32.663Z"
   },
   {
    "duration": 11,
    "start_time": "2023-03-14T13:41:32.737Z"
   },
   {
    "duration": 73,
    "start_time": "2023-03-14T13:41:32.750Z"
   },
   {
    "duration": 25,
    "start_time": "2023-03-14T13:41:32.825Z"
   },
   {
    "duration": 36,
    "start_time": "2023-03-14T13:41:32.853Z"
   },
   {
    "duration": 72,
    "start_time": "2023-03-14T13:41:32.891Z"
   },
   {
    "duration": 127,
    "start_time": "2023-03-14T13:41:32.970Z"
   },
   {
    "duration": 168,
    "start_time": "2023-03-14T13:41:33.104Z"
   },
   {
    "duration": 15,
    "start_time": "2023-03-14T13:41:33.278Z"
   },
   {
    "duration": 60,
    "start_time": "2023-03-14T13:41:33.376Z"
   },
   {
    "duration": 5,
    "start_time": "2023-03-14T13:41:33.439Z"
   },
   {
    "duration": 54,
    "start_time": "2023-03-14T13:41:33.446Z"
   },
   {
    "duration": 20,
    "start_time": "2023-03-14T13:41:33.502Z"
   },
   {
    "duration": 13,
    "start_time": "2023-03-14T13:41:33.524Z"
   },
   {
    "duration": 13,
    "start_time": "2023-03-14T13:41:33.539Z"
   },
   {
    "duration": 62,
    "start_time": "2023-03-14T13:41:33.554Z"
   },
   {
    "duration": 6,
    "start_time": "2023-03-14T13:41:33.618Z"
   },
   {
    "duration": 13,
    "start_time": "2023-03-14T13:41:33.626Z"
   },
   {
    "duration": 2051,
    "start_time": "2023-03-14T13:41:33.641Z"
   },
   {
    "duration": 1832,
    "start_time": "2023-03-14T13:41:35.700Z"
   },
   {
    "duration": 1836,
    "start_time": "2023-03-14T13:41:37.535Z"
   },
   {
    "duration": 303,
    "start_time": "2023-03-14T14:33:00.705Z"
   },
   {
    "duration": 37,
    "start_time": "2023-03-14T14:33:11.535Z"
   },
   {
    "duration": 18,
    "start_time": "2023-03-14T14:33:34.412Z"
   },
   {
    "duration": 18,
    "start_time": "2023-03-14T14:33:44.725Z"
   },
   {
    "duration": 7,
    "start_time": "2023-03-14T14:34:47.639Z"
   },
   {
    "duration": 56,
    "start_time": "2023-03-14T14:35:30.707Z"
   },
   {
    "duration": 22,
    "start_time": "2023-03-14T14:35:54.877Z"
   },
   {
    "duration": 20,
    "start_time": "2023-03-14T14:36:26.129Z"
   },
   {
    "duration": 7,
    "start_time": "2023-03-14T14:36:38.317Z"
   },
   {
    "duration": 7,
    "start_time": "2023-03-14T14:36:56.936Z"
   },
   {
    "duration": 7,
    "start_time": "2023-03-14T14:37:28.625Z"
   },
   {
    "duration": 1108,
    "start_time": "2023-03-14T15:38:17.009Z"
   },
   {
    "duration": 487,
    "start_time": "2023-03-14T15:38:18.119Z"
   },
   {
    "duration": 19,
    "start_time": "2023-03-14T15:38:18.608Z"
   },
   {
    "duration": 15,
    "start_time": "2023-03-14T15:38:18.629Z"
   },
   {
    "duration": 42,
    "start_time": "2023-03-14T15:38:18.658Z"
   },
   {
    "duration": 79,
    "start_time": "2023-03-14T15:38:18.701Z"
   },
   {
    "duration": 16,
    "start_time": "2023-03-14T15:38:18.787Z"
   },
   {
    "duration": 24,
    "start_time": "2023-03-14T15:38:18.805Z"
   },
   {
    "duration": 41,
    "start_time": "2023-03-14T15:38:18.831Z"
   },
   {
    "duration": 50,
    "start_time": "2023-03-14T15:38:18.876Z"
   },
   {
    "duration": 12,
    "start_time": "2023-03-14T15:38:18.928Z"
   },
   {
    "duration": 31,
    "start_time": "2023-03-14T15:38:18.942Z"
   },
   {
    "duration": 46,
    "start_time": "2023-03-14T15:38:18.974Z"
   },
   {
    "duration": 64,
    "start_time": "2023-03-14T15:38:19.023Z"
   },
   {
    "duration": 4,
    "start_time": "2023-03-14T15:38:19.089Z"
   },
   {
    "duration": 15,
    "start_time": "2023-03-14T15:38:19.095Z"
   },
   {
    "duration": 4,
    "start_time": "2023-03-14T15:38:19.112Z"
   },
   {
    "duration": 14,
    "start_time": "2023-03-14T15:38:19.118Z"
   },
   {
    "duration": 28,
    "start_time": "2023-03-14T15:38:19.133Z"
   },
   {
    "duration": 6,
    "start_time": "2023-03-14T15:38:19.162Z"
   },
   {
    "duration": 28,
    "start_time": "2023-03-14T15:38:19.170Z"
   },
   {
    "duration": 17,
    "start_time": "2023-03-14T15:38:19.200Z"
   },
   {
    "duration": 4,
    "start_time": "2023-03-14T15:38:19.219Z"
   },
   {
    "duration": 42,
    "start_time": "2023-03-14T15:38:19.224Z"
   },
   {
    "duration": 194,
    "start_time": "2023-03-14T15:38:19.272Z"
   },
   {
    "duration": 119,
    "start_time": "2023-03-14T15:38:19.468Z"
   },
   {
    "duration": 182,
    "start_time": "2023-03-14T15:38:19.590Z"
   },
   {
    "duration": 26,
    "start_time": "2023-03-14T15:38:19.777Z"
   },
   {
    "duration": 4,
    "start_time": "2023-03-14T15:38:19.806Z"
   },
   {
    "duration": 14,
    "start_time": "2023-03-14T15:38:19.811Z"
   },
   {
    "duration": 10,
    "start_time": "2023-03-14T15:38:19.827Z"
   },
   {
    "duration": 9,
    "start_time": "2023-03-14T15:38:19.839Z"
   },
   {
    "duration": 46,
    "start_time": "2023-03-14T15:38:19.850Z"
   },
   {
    "duration": 21,
    "start_time": "2023-03-14T15:38:19.898Z"
   },
   {
    "duration": 3,
    "start_time": "2023-03-14T15:38:19.921Z"
   },
   {
    "duration": 6,
    "start_time": "2023-03-14T15:38:19.926Z"
   },
   {
    "duration": 1615,
    "start_time": "2023-03-14T15:38:19.934Z"
   },
   {
    "duration": 1669,
    "start_time": "2023-03-14T15:38:21.551Z"
   },
   {
    "duration": 1587,
    "start_time": "2023-03-14T15:38:23.222Z"
   },
   {
    "duration": 3,
    "start_time": "2023-03-14T15:47:36.503Z"
   },
   {
    "duration": 16,
    "start_time": "2023-03-14T15:47:37.414Z"
   },
   {
    "duration": 1226,
    "start_time": "2023-03-14T15:47:56.701Z"
   },
   {
    "duration": 438,
    "start_time": "2023-03-14T15:47:57.929Z"
   },
   {
    "duration": 26,
    "start_time": "2023-03-14T15:47:58.374Z"
   },
   {
    "duration": 14,
    "start_time": "2023-03-14T15:47:58.402Z"
   },
   {
    "duration": 41,
    "start_time": "2023-03-14T15:47:58.418Z"
   },
   {
    "duration": 54,
    "start_time": "2023-03-14T15:47:58.464Z"
   },
   {
    "duration": 12,
    "start_time": "2023-03-14T15:47:58.520Z"
   },
   {
    "duration": 40,
    "start_time": "2023-03-14T15:47:58.533Z"
   },
   {
    "duration": 58,
    "start_time": "2023-03-14T15:47:58.574Z"
   },
   {
    "duration": 55,
    "start_time": "2023-03-14T15:47:58.635Z"
   },
   {
    "duration": 13,
    "start_time": "2023-03-14T15:47:58.692Z"
   },
   {
    "duration": 27,
    "start_time": "2023-03-14T15:47:58.706Z"
   },
   {
    "duration": 51,
    "start_time": "2023-03-14T15:47:58.735Z"
   },
   {
    "duration": 60,
    "start_time": "2023-03-14T15:47:58.788Z"
   },
   {
    "duration": 12,
    "start_time": "2023-03-14T15:47:58.850Z"
   },
   {
    "duration": 39,
    "start_time": "2023-03-14T15:47:58.864Z"
   },
   {
    "duration": 5,
    "start_time": "2023-03-14T15:47:58.904Z"
   },
   {
    "duration": 16,
    "start_time": "2023-03-14T15:47:58.911Z"
   },
   {
    "duration": 16,
    "start_time": "2023-03-14T15:47:58.929Z"
   },
   {
    "duration": 4,
    "start_time": "2023-03-14T15:47:58.947Z"
   },
   {
    "duration": 40,
    "start_time": "2023-03-14T15:47:58.952Z"
   },
   {
    "duration": 16,
    "start_time": "2023-03-14T15:47:58.994Z"
   },
   {
    "duration": 19,
    "start_time": "2023-03-14T15:47:59.011Z"
   },
   {
    "duration": 49,
    "start_time": "2023-03-14T15:47:59.031Z"
   },
   {
    "duration": 181,
    "start_time": "2023-03-14T15:47:59.084Z"
   },
   {
    "duration": 106,
    "start_time": "2023-03-14T15:47:59.267Z"
   },
   {
    "duration": 129,
    "start_time": "2023-03-14T15:47:59.375Z"
   },
   {
    "duration": 16,
    "start_time": "2023-03-14T15:47:59.509Z"
   },
   {
    "duration": 7,
    "start_time": "2023-03-14T15:47:59.527Z"
   },
   {
    "duration": 8,
    "start_time": "2023-03-14T15:47:59.536Z"
   },
   {
    "duration": 19,
    "start_time": "2023-03-14T15:47:59.546Z"
   },
   {
    "duration": 27,
    "start_time": "2023-03-14T15:47:59.568Z"
   },
   {
    "duration": 4,
    "start_time": "2023-03-14T15:47:59.596Z"
   },
   {
    "duration": 31,
    "start_time": "2023-03-14T15:47:59.602Z"
   },
   {
    "duration": 5,
    "start_time": "2023-03-14T15:47:59.635Z"
   },
   {
    "duration": 49,
    "start_time": "2023-03-14T15:47:59.642Z"
   },
   {
    "duration": 1637,
    "start_time": "2023-03-14T15:47:59.693Z"
   },
   {
    "duration": 1592,
    "start_time": "2023-03-14T15:48:01.332Z"
   },
   {
    "duration": 1686,
    "start_time": "2023-03-14T15:48:02.925Z"
   },
   {
    "duration": 1790,
    "start_time": "2023-03-15T12:42:33.920Z"
   },
   {
    "duration": 443,
    "start_time": "2023-03-15T12:42:35.713Z"
   },
   {
    "duration": 27,
    "start_time": "2023-03-15T12:42:36.158Z"
   },
   {
    "duration": 20,
    "start_time": "2023-03-15T12:42:36.188Z"
   },
   {
    "duration": 40,
    "start_time": "2023-03-15T12:42:36.211Z"
   },
   {
    "duration": 73,
    "start_time": "2023-03-15T12:42:36.253Z"
   },
   {
    "duration": 15,
    "start_time": "2023-03-15T12:42:36.327Z"
   },
   {
    "duration": 43,
    "start_time": "2023-03-15T12:42:36.344Z"
   },
   {
    "duration": 45,
    "start_time": "2023-03-15T12:42:36.389Z"
   },
   {
    "duration": 67,
    "start_time": "2023-03-15T12:42:36.436Z"
   },
   {
    "duration": 15,
    "start_time": "2023-03-15T12:42:36.504Z"
   },
   {
    "duration": 38,
    "start_time": "2023-03-15T12:42:36.520Z"
   },
   {
    "duration": 47,
    "start_time": "2023-03-15T12:42:36.560Z"
   },
   {
    "duration": 54,
    "start_time": "2023-03-15T12:42:36.609Z"
   },
   {
    "duration": 17,
    "start_time": "2023-03-15T12:42:36.665Z"
   },
   {
    "duration": 19,
    "start_time": "2023-03-15T12:42:36.684Z"
   },
   {
    "duration": 4,
    "start_time": "2023-03-15T12:42:36.705Z"
   },
   {
    "duration": 22,
    "start_time": "2023-03-15T12:42:36.710Z"
   },
   {
    "duration": 27,
    "start_time": "2023-03-15T12:42:36.734Z"
   },
   {
    "duration": 15,
    "start_time": "2023-03-15T12:42:36.763Z"
   },
   {
    "duration": 18,
    "start_time": "2023-03-15T12:42:36.780Z"
   },
   {
    "duration": 23,
    "start_time": "2023-03-15T12:42:36.800Z"
   },
   {
    "duration": 11,
    "start_time": "2023-03-15T12:42:36.825Z"
   },
   {
    "duration": 44,
    "start_time": "2023-03-15T12:42:36.838Z"
   },
   {
    "duration": 112,
    "start_time": "2023-03-15T12:42:36.884Z"
   },
   {
    "duration": 184,
    "start_time": "2023-03-15T12:42:36.998Z"
   },
   {
    "duration": 98,
    "start_time": "2023-03-15T12:42:37.185Z"
   },
   {
    "duration": 25,
    "start_time": "2023-03-15T12:42:37.285Z"
   },
   {
    "duration": 15,
    "start_time": "2023-03-15T12:42:37.312Z"
   },
   {
    "duration": 8,
    "start_time": "2023-03-15T12:42:37.329Z"
   },
   {
    "duration": 8,
    "start_time": "2023-03-15T12:42:37.339Z"
   },
   {
    "duration": 9,
    "start_time": "2023-03-15T12:42:37.348Z"
   },
   {
    "duration": 19,
    "start_time": "2023-03-15T12:42:37.359Z"
   },
   {
    "duration": 24,
    "start_time": "2023-03-15T12:42:37.380Z"
   },
   {
    "duration": 4,
    "start_time": "2023-03-15T12:42:37.406Z"
   },
   {
    "duration": 24,
    "start_time": "2023-03-15T12:42:37.411Z"
   },
   {
    "duration": 1604,
    "start_time": "2023-03-15T12:42:37.437Z"
   },
   {
    "duration": 1531,
    "start_time": "2023-03-15T12:42:39.043Z"
   },
   {
    "duration": 1534,
    "start_time": "2023-03-15T12:42:40.575Z"
   },
   {
    "duration": 408,
    "start_time": "2023-03-15T12:52:06.598Z"
   },
   {
    "duration": 114,
    "start_time": "2023-03-15T20:40:06.518Z"
   }
  ],
  "kernelspec": {
   "display_name": "Python 3 (ipykernel)",
   "language": "python",
   "name": "python3"
  },
  "language_info": {
   "codemirror_mode": {
    "name": "ipython",
    "version": 3
   },
   "file_extension": ".py",
   "mimetype": "text/x-python",
   "name": "python",
   "nbconvert_exporter": "python",
   "pygments_lexer": "ipython3",
   "version": "3.10.9"
  },
  "toc": {
   "base_numbering": 1,
   "nav_menu": {},
   "number_sections": true,
   "sideBar": true,
   "skip_h1_title": true,
   "title_cell": "Table of Contents",
   "title_sidebar": "Contents",
   "toc_cell": false,
   "toc_position": {},
   "toc_section_display": true,
   "toc_window_display": false
  }
 },
 "nbformat": 4,
 "nbformat_minor": 2
}
