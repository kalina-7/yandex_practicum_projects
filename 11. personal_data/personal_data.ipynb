{
 "cells": [
  {
   "cell_type": "markdown",
   "metadata": {},
   "source": [
    "# Защита персональных данных клиентов страховой компании"
   ]
  },
  {
   "cell_type": "markdown",
   "metadata": {},
   "source": [
    "Требуется защитить данные клиентов страховой компании. Нужно разработать метод преобразования данных, чтобы по ним было сложно восстановить персональную информацию, и чтобы при преобразовании качество моделей машинного обучения не ухудшилось."
   ]
  },
  {
   "cell_type": "markdown",
   "metadata": {},
   "source": [
    "## Загрузка данных"
   ]
  },
  {
   "cell_type": "markdown",
   "metadata": {},
   "source": [
    "Загрузим неоходимые библиотеки"
   ]
  },
  {
   "cell_type": "code",
   "execution_count": 1,
   "metadata": {},
   "outputs": [],
   "source": [
    "import numpy as np\n",
    "import pandas as pd\n",
    "from sklearn.metrics import r2_score\n",
    "import matplotlib.pyplot as plt\n",
    "import seaborn as sns\n",
    "from sklearn.model_selection import train_test_split"
   ]
  },
  {
   "cell_type": "markdown",
   "metadata": {},
   "source": [
    "Загружаем данные и изучаем их."
   ]
  },
  {
   "cell_type": "code",
   "execution_count": 2,
   "metadata": {
    "scrolled": true
   },
   "outputs": [],
   "source": [
    "try:\n",
    "    data = pd.read_csv('/datasets/insurance.csv')\n",
    "except:\n",
    "    data = pd.read_csv('/personal_data/insurance.csv')"
   ]
  },
  {
   "cell_type": "code",
   "execution_count": 3,
   "metadata": {},
   "outputs": [
    {
     "data": {
      "text/html": [
       "<div>\n",
       "<style scoped>\n",
       "    .dataframe tbody tr th:only-of-type {\n",
       "        vertical-align: middle;\n",
       "    }\n",
       "\n",
       "    .dataframe tbody tr th {\n",
       "        vertical-align: top;\n",
       "    }\n",
       "\n",
       "    .dataframe thead th {\n",
       "        text-align: right;\n",
       "    }\n",
       "</style>\n",
       "<table border=\"1\" class=\"dataframe\">\n",
       "  <thead>\n",
       "    <tr style=\"text-align: right;\">\n",
       "      <th></th>\n",
       "      <th>Пол</th>\n",
       "      <th>Возраст</th>\n",
       "      <th>Зарплата</th>\n",
       "      <th>Члены семьи</th>\n",
       "      <th>Страховые выплаты</th>\n",
       "    </tr>\n",
       "  </thead>\n",
       "  <tbody>\n",
       "    <tr>\n",
       "      <th>0</th>\n",
       "      <td>1</td>\n",
       "      <td>41.0</td>\n",
       "      <td>49600.0</td>\n",
       "      <td>1</td>\n",
       "      <td>0</td>\n",
       "    </tr>\n",
       "    <tr>\n",
       "      <th>1</th>\n",
       "      <td>0</td>\n",
       "      <td>46.0</td>\n",
       "      <td>38000.0</td>\n",
       "      <td>1</td>\n",
       "      <td>1</td>\n",
       "    </tr>\n",
       "    <tr>\n",
       "      <th>2</th>\n",
       "      <td>0</td>\n",
       "      <td>29.0</td>\n",
       "      <td>21000.0</td>\n",
       "      <td>0</td>\n",
       "      <td>0</td>\n",
       "    </tr>\n",
       "    <tr>\n",
       "      <th>3</th>\n",
       "      <td>0</td>\n",
       "      <td>21.0</td>\n",
       "      <td>41700.0</td>\n",
       "      <td>2</td>\n",
       "      <td>0</td>\n",
       "    </tr>\n",
       "    <tr>\n",
       "      <th>4</th>\n",
       "      <td>1</td>\n",
       "      <td>28.0</td>\n",
       "      <td>26100.0</td>\n",
       "      <td>0</td>\n",
       "      <td>0</td>\n",
       "    </tr>\n",
       "  </tbody>\n",
       "</table>\n",
       "</div>"
      ],
      "text/plain": [
       "   Пол  Возраст  Зарплата  Члены семьи  Страховые выплаты\n",
       "0    1     41.0   49600.0            1                  0\n",
       "1    0     46.0   38000.0            1                  1\n",
       "2    0     29.0   21000.0            0                  0\n",
       "3    0     21.0   41700.0            2                  0\n",
       "4    1     28.0   26100.0            0                  0"
      ]
     },
     "execution_count": 3,
     "metadata": {},
     "output_type": "execute_result"
    }
   ],
   "source": [
    "data.head()"
   ]
  },
  {
   "cell_type": "code",
   "execution_count": 4,
   "metadata": {},
   "outputs": [
    {
     "name": "stdout",
     "output_type": "stream",
     "text": [
      "<class 'pandas.core.frame.DataFrame'>\n",
      "RangeIndex: 5000 entries, 0 to 4999\n",
      "Data columns (total 5 columns):\n",
      " #   Column             Non-Null Count  Dtype  \n",
      "---  ------             --------------  -----  \n",
      " 0   Пол                5000 non-null   int64  \n",
      " 1   Возраст            5000 non-null   float64\n",
      " 2   Зарплата           5000 non-null   float64\n",
      " 3   Члены семьи        5000 non-null   int64  \n",
      " 4   Страховые выплаты  5000 non-null   int64  \n",
      "dtypes: float64(2), int64(3)\n",
      "memory usage: 195.4 KB\n"
     ]
    }
   ],
   "source": [
    "data.info()"
   ]
  },
  {
   "cell_type": "code",
   "execution_count": 5,
   "metadata": {},
   "outputs": [
    {
     "data": {
      "text/plain": [
       "153"
      ]
     },
     "execution_count": 5,
     "metadata": {},
     "output_type": "execute_result"
    }
   ],
   "source": [
    "data.duplicated().sum()"
   ]
  },
  {
   "cell_type": "code",
   "execution_count": 6,
   "metadata": {},
   "outputs": [
    {
     "data": {
      "text/html": [
       "<div>\n",
       "<style scoped>\n",
       "    .dataframe tbody tr th:only-of-type {\n",
       "        vertical-align: middle;\n",
       "    }\n",
       "\n",
       "    .dataframe tbody tr th {\n",
       "        vertical-align: top;\n",
       "    }\n",
       "\n",
       "    .dataframe thead th {\n",
       "        text-align: right;\n",
       "    }\n",
       "</style>\n",
       "<table border=\"1\" class=\"dataframe\">\n",
       "  <thead>\n",
       "    <tr style=\"text-align: right;\">\n",
       "      <th></th>\n",
       "      <th>Пол</th>\n",
       "      <th>Возраст</th>\n",
       "      <th>Зарплата</th>\n",
       "      <th>Члены семьи</th>\n",
       "      <th>Страховые выплаты</th>\n",
       "    </tr>\n",
       "  </thead>\n",
       "  <tbody>\n",
       "    <tr>\n",
       "      <th>count</th>\n",
       "      <td>5000.000000</td>\n",
       "      <td>5000.000000</td>\n",
       "      <td>5000.000000</td>\n",
       "      <td>5000.000000</td>\n",
       "      <td>5000.000000</td>\n",
       "    </tr>\n",
       "    <tr>\n",
       "      <th>mean</th>\n",
       "      <td>0.499000</td>\n",
       "      <td>30.952800</td>\n",
       "      <td>39916.360000</td>\n",
       "      <td>1.194200</td>\n",
       "      <td>0.148000</td>\n",
       "    </tr>\n",
       "    <tr>\n",
       "      <th>std</th>\n",
       "      <td>0.500049</td>\n",
       "      <td>8.440807</td>\n",
       "      <td>9900.083569</td>\n",
       "      <td>1.091387</td>\n",
       "      <td>0.463183</td>\n",
       "    </tr>\n",
       "    <tr>\n",
       "      <th>min</th>\n",
       "      <td>0.000000</td>\n",
       "      <td>18.000000</td>\n",
       "      <td>5300.000000</td>\n",
       "      <td>0.000000</td>\n",
       "      <td>0.000000</td>\n",
       "    </tr>\n",
       "    <tr>\n",
       "      <th>25%</th>\n",
       "      <td>0.000000</td>\n",
       "      <td>24.000000</td>\n",
       "      <td>33300.000000</td>\n",
       "      <td>0.000000</td>\n",
       "      <td>0.000000</td>\n",
       "    </tr>\n",
       "    <tr>\n",
       "      <th>50%</th>\n",
       "      <td>0.000000</td>\n",
       "      <td>30.000000</td>\n",
       "      <td>40200.000000</td>\n",
       "      <td>1.000000</td>\n",
       "      <td>0.000000</td>\n",
       "    </tr>\n",
       "    <tr>\n",
       "      <th>75%</th>\n",
       "      <td>1.000000</td>\n",
       "      <td>37.000000</td>\n",
       "      <td>46600.000000</td>\n",
       "      <td>2.000000</td>\n",
       "      <td>0.000000</td>\n",
       "    </tr>\n",
       "    <tr>\n",
       "      <th>max</th>\n",
       "      <td>1.000000</td>\n",
       "      <td>65.000000</td>\n",
       "      <td>79000.000000</td>\n",
       "      <td>6.000000</td>\n",
       "      <td>5.000000</td>\n",
       "    </tr>\n",
       "  </tbody>\n",
       "</table>\n",
       "</div>"
      ],
      "text/plain": [
       "               Пол      Возраст      Зарплата  Члены семьи  Страховые выплаты\n",
       "count  5000.000000  5000.000000   5000.000000  5000.000000        5000.000000\n",
       "mean      0.499000    30.952800  39916.360000     1.194200           0.148000\n",
       "std       0.500049     8.440807   9900.083569     1.091387           0.463183\n",
       "min       0.000000    18.000000   5300.000000     0.000000           0.000000\n",
       "25%       0.000000    24.000000  33300.000000     0.000000           0.000000\n",
       "50%       0.000000    30.000000  40200.000000     1.000000           0.000000\n",
       "75%       1.000000    37.000000  46600.000000     2.000000           0.000000\n",
       "max       1.000000    65.000000  79000.000000     6.000000           5.000000"
      ]
     },
     "execution_count": 6,
     "metadata": {},
     "output_type": "execute_result"
    }
   ],
   "source": [
    "data.describe()"
   ]
  },
  {
   "cell_type": "markdown",
   "metadata": {},
   "source": [
    "Пропусков в данных нет. Дубликатов примерно 3%. Вполне вероятно, что данные некоторых клиентов совпадают, поэтому удалять дубликаты не будем. Аномалий не обнаружено."
   ]
  },
  {
   "cell_type": "markdown",
   "metadata": {},
   "source": [
    "Посмотрим зависимость целевого признака от других признаков"
   ]
  },
  {
   "cell_type": "code",
   "execution_count": 7,
   "metadata": {},
   "outputs": [
    {
     "data": {
      "image/png": "[encoded data removed]",
      "text/plain": [
       "<Figure size 1343.61x1200 with 20 Axes>"
      ]
     },
     "metadata": {},
     "output_type": "display_data"
    }
   ],
   "source": [
    "sns.set_style('whitegrid')\n",
    "sns.pairplot(data, hue='Страховые выплаты', height=3, diag_kind='hist')\n",
    "plt.suptitle(\"Зависимость целевого признака от других признаков\", y=1.02, fontsize=15)\n",
    "plt.show()"
   ]
  },
  {
   "cell_type": "markdown",
   "metadata": {},
   "source": [
    "Делим данные на тренировочную и тестовую выборки в соотношении 80:20"
   ]
  },
  {
   "cell_type": "code",
   "execution_count": 8,
   "metadata": {},
   "outputs": [],
   "source": [
    "features=data.drop(['Страховые выплаты'],axis=1)\n",
    "target=data['Страховые выплаты']"
   ]
  },
  {
   "cell_type": "code",
   "execution_count": 9,
   "metadata": {},
   "outputs": [],
   "source": [
    "train_features, test_features, train_target, test_target = train_test_split(features,target, test_size=0.2, random_state=42)"
   ]
  },
  {
   "cell_type": "code",
   "execution_count": 10,
   "metadata": {},
   "outputs": [
    {
     "name": "stdout",
     "output_type": "stream",
     "text": [
      "(4000, 4)\n",
      "(4000,)\n",
      "(1000, 4)\n",
      "(1000,)\n"
     ]
    }
   ],
   "source": [
    "print(train_features.shape)\n",
    "print(train_target.shape)\n",
    "print(test_features.shape)\n",
    "print(test_target.shape)"
   ]
  },
  {
   "cell_type": "markdown",
   "metadata": {},
   "source": [
    "## Умножение матриц"
   ]
  },
  {
   "cell_type": "markdown",
   "metadata": {},
   "source": [
    "В этом задании вы можете записывать формулы в *Jupyter Notebook.*\n",
    "\n",
    "Чтобы записать формулу внутри текста, окружите её символами доллара \\\\$; если снаружи —  двойными символами \\\\$\\\\$. Эти формулы записываются на языке вёрстки *LaTeX.* \n",
    "\n",
    "Для примера мы записали формулы линейной регрессии. Можете их скопировать и отредактировать, чтобы решить задачу.\n",
    "\n",
    "Работать в *LaTeX* необязательно."
   ]
  },
  {
   "cell_type": "markdown",
   "metadata": {},
   "source": [
    "Обозначения:\n",
    "\n",
    "- $X$ — матрица признаков (нулевой столбец состоит из единиц)\n",
    "\n",
    "- $y$ — вектор целевого признака\n",
    "\n",
    "- $P$ — матрица, на которую умножаются признаки\n",
    "\n",
    "- $w$ — вектор весов линейной регрессии (нулевой элемент равен сдвигу)"
   ]
  },
  {
   "cell_type": "markdown",
   "metadata": {},
   "source": [
    "Предсказания:\n",
    "\n",
    "$$\n",
    "a = Xw\n",
    "$$\n",
    "\n",
    "Задача обучения:\n",
    "\n",
    "$$\n",
    "w = \\arg\\min_w MSE(Xw, y)\n",
    "$$\n",
    "\n",
    "Формула обучения:\n",
    "\n",
    "$$\n",
    "w = (X^T X)^{-1} X^T y\n",
    "$$"
   ]
  },
  {
   "cell_type": "markdown",
   "metadata": {},
   "source": [
    "**Ответ:** При умножении данных признаков на обратимую матрицу качество модели Линейной регрессии не меняется.\n",
    "\n",
    "**Обоснование:** Докажем, что при умножении признаков на обратимую матрицу, качество линейной регрессии не изменится. \n",
    "\n",
    "Для этого рассмотрим исходную формулу линейной регрессии:\n",
    "$$\n",
    "y = Xw\n",
    "$$\n",
    "где:\n",
    "$y$ - вектор целевой переменной,\n",
    "$X$ - матрица признаков,\n",
    "$w$ - вектор весов (параметров модели).\n",
    "\n",
    "Теперь заменим матрицу признаков $X$ на $X' = XP$, где $P$ - обратимая квадратная матрица. Подставим новое значение $X'$ в уравнение линейной регрессии:\n",
    "$$\n",
    "y = X'w'\n",
    "$$\n",
    "где:\n",
    "$$\n",
    "w' = P^{-1}w\n",
    "$$\n",
    "Мы можем провести данную подстановку, так как $X' = XP$ и, согласно свойству матриц, \n",
    "$$\n",
    "(AB)^{-1} = B^{-1}A^{-1}\n",
    "$$\n",
    "и\n",
    "$$\n",
    "AA^{-1} = A^{-1}A = E.\n",
    "$$\n",
    "Теперь докажем, что качество линейной регрессии остается неизменным при такой замене.\n",
    "\n",
    "Пусть $w_{0}$ - вектор весов, соответствующий исходной матрице признаков $X$, а $w_{1}$ - вектор весов, соответствующий новой матрице признаков $X' = XP$.\n",
    "\n",
    "Тогда у нас есть:\n",
    "$$\n",
    "y = Xw_{0}\n",
    "$$\n",
    "$$\n",
    "y = X'w_{1}\n",
    "$$\n",
    "$$\n",
    "y = (XP)w_{1}\n",
    "$$\n",
    "Подставим выражение для $X'$:\n",
    "$$\n",
    "y = (XP)w_{1} = X(Pw_{1})\n",
    "$$\n",
    "Теперь заметим, что $w_{0} = Pw_{1}$, так как $𝑤₀$ и $𝑤₁$ - это просто разные представления вектора весов для исходной и новой матриц признаков соответственно.\n",
    "\n",
    "Таким образом, получаем:\n",
    "$$\n",
    "y = X(Pw_{1}) = Xw_{0}\n",
    "$$\n",
    "Это означает, что новые предсказания $y$, полученные с использованием новой матрицы признаков $X'$, равны предсказаниям $y$, полученным с использованием исходной матрицы признаков $X$.\n",
    "\n",
    "Таким образом, качество линейной регрессии не изменится при умножении признаков на обратимую матрицу."
   ]
  },
  {
   "cell_type": "markdown",
   "metadata": {},
   "source": [
    "## Алгоритм преобразования"
   ]
  },
  {
   "cell_type": "markdown",
   "metadata": {},
   "source": [
    "**Алгоритм**\n",
    "\n",
    "Создаём произвольную матрицу, длина которой совпадает с шириной матрицы с исходными данными, и проверяем её на обратимость.\n",
    "\n",
    "Выполняем умножение полученной на основе тренировочной таблицы с признаками матрицы размером (4000, 4) на произвольную обратимую матрицу размером (4, 4). В результате получаем новую матрицу размером (4000, 4) с преобразованными признаками. \n",
    "\n",
    "То же самое делаем и с матрицей тестовой таблицы размером (1000, 4) - умножаем её на ту же обратимую матрицу и получаем новую матрицу размером (1000, 4).\n",
    "\n",
    "Вектор $w$ вычисляем по формуле $w = (X^TX)^{-1}X^Ty$, где $X$ - таблица признков, в которой нулевой столбец заполнен (единицами), а $y$ - вектор целевого признака.\n",
    "\n",
    "В модели Линейной регрессии предсказания вычисляются по формуле $a = Xw$.\n",
    "\n",
    "Так же вычисляется вектор 𝑤 и делаются предсказания и на данных, полученных методом умножения на обратимую матрицу.\n",
    "\n",
    "Сравним метрики качества обоих моделей чтобы убедиться, что результат предсказания не меняется не смотря на изменение признаков."
   ]
  },
  {
   "cell_type": "markdown",
   "metadata": {},
   "source": [
    "**Обоснование**\n",
    "\n",
    "При умножении матрицы тренировочной таблицы и матрицы тестовой таблицы на одну и ту же обратимую матрицу мы получим такие же предсказания как и на исходных данных."
   ]
  },
  {
   "cell_type": "markdown",
   "metadata": {},
   "source": [
    "## Проверка алгоритма"
   ]
  },
  {
   "cell_type": "markdown",
   "metadata": {},
   "source": [
    "Создаём модель, получаем предсказания на исходных данных и находим значение метрики R2"
   ]
  },
  {
   "cell_type": "code",
   "execution_count": 11,
   "metadata": {},
   "outputs": [],
   "source": [
    "class LinearRegress:\n",
    "    def fit(self, train_features, train_target):\n",
    "        X = np.concatenate((np.ones((train_features.shape[0], 1)), train_features), axis=1)\n",
    "        y = train_target\n",
    "        w = (np.linalg.inv(X.T.dot(X)).dot(X.T)).dot(y)\n",
    "        self.w = w[1:]\n",
    "        self.w0 = w[0]\n",
    "        \n",
    "    def predict(self, test_features):\n",
    "        return test_features.dot(self.w) + self.w0"
   ]
  },
  {
   "cell_type": "code",
   "execution_count": 12,
   "metadata": {},
   "outputs": [
    {
     "name": "stdout",
     "output_type": "stream",
     "text": [
      "R2_score: 0.43687\n"
     ]
    }
   ],
   "source": [
    "model = LinearRegress()\n",
    "model.fit(train_features, train_target)\n",
    "predict = model.predict(test_features)\n",
    "\n",
    "R2_score = r2_score(test_target, predict)\n",
    "\n",
    "print(\"R2_score:\", R2_score.round(5))"
   ]
  },
  {
   "cell_type": "markdown",
   "metadata": {},
   "source": [
    "Создаём произвольную матрицу, длина которой совпадает с шириной матрицы с исходными данными, и проверяем её на обратимость"
   ]
  },
  {
   "cell_type": "code",
   "execution_count": 13,
   "metadata": {},
   "outputs": [
    {
     "data": {
      "text/plain": [
       "array([[3.40984666, 4.75385895, 4.90838916, 2.33992164],\n",
       "       [3.88409855, 3.48127127, 1.31223197, 2.16729556],\n",
       "       [2.07622316, 2.08737481, 3.42313929, 3.30469318],\n",
       "       [4.00217166, 1.29032062, 4.70683849, 3.44598818]])"
      ]
     },
     "execution_count": 13,
     "metadata": {},
     "output_type": "execute_result"
    }
   ],
   "source": [
    "matrix=np.random.normal(3, size=(4,4))\n",
    "matrix"
   ]
  },
  {
   "cell_type": "code",
   "execution_count": 14,
   "metadata": {},
   "outputs": [
    {
     "data": {
      "text/plain": [
       "array([[-0.05803403,  0.21832283, -0.42099375,  0.30582815],\n",
       "       [ 0.16877302,  0.08686276,  0.13370982, -0.29745977],\n",
       "       [ 0.2252648 , -0.28497307, -0.13259733,  0.15342838],\n",
       "       [-0.30348165,  0.10315646,  0.61998905, -0.16318131]])"
      ]
     },
     "execution_count": 14,
     "metadata": {},
     "output_type": "execute_result"
    }
   ],
   "source": [
    "matrix_1 = np.linalg.inv(matrix)\n",
    "matrix_1"
   ]
  },
  {
   "cell_type": "markdown",
   "metadata": {},
   "source": [
    "Матрица обратима. Умножаем признаки тренировочной выборки на полученную обратимую матрицу."
   ]
  },
  {
   "cell_type": "code",
   "execution_count": 15,
   "metadata": {},
   "outputs": [
    {
     "data": {
      "text/html": [
       "<div>\n",
       "<style scoped>\n",
       "    .dataframe tbody tr th:only-of-type {\n",
       "        vertical-align: middle;\n",
       "    }\n",
       "\n",
       "    .dataframe tbody tr th {\n",
       "        vertical-align: top;\n",
       "    }\n",
       "\n",
       "    .dataframe thead th {\n",
       "        text-align: right;\n",
       "    }\n",
       "</style>\n",
       "<table border=\"1\" class=\"dataframe\">\n",
       "  <thead>\n",
       "    <tr style=\"text-align: right;\">\n",
       "      <th></th>\n",
       "      <th>Пол</th>\n",
       "      <th>Возраст</th>\n",
       "      <th>Зарплата</th>\n",
       "      <th>Члены семьи</th>\n",
       "    </tr>\n",
       "  </thead>\n",
       "  <tbody>\n",
       "    <tr>\n",
       "      <th>4227</th>\n",
       "      <td>102639.340149</td>\n",
       "      <td>103180.268843</td>\n",
       "      <td>169131.408142</td>\n",
       "      <td>163294.300548</td>\n",
       "    </tr>\n",
       "    <tr>\n",
       "      <th>4676</th>\n",
       "      <td>131791.440334</td>\n",
       "      <td>132481.376745</td>\n",
       "      <td>217087.823519</td>\n",
       "      <td>209607.858239</td>\n",
       "    </tr>\n",
       "    <tr>\n",
       "      <th>800</th>\n",
       "      <td>60788.966543</td>\n",
       "      <td>61095.366909</td>\n",
       "      <td>100014.175737</td>\n",
       "      <td>96589.346050</td>\n",
       "    </tr>\n",
       "    <tr>\n",
       "      <th>3671</th>\n",
       "      <td>77410.404135</td>\n",
       "      <td>77804.809207</td>\n",
       "      <td>127403.226785</td>\n",
       "      <td>123033.393400</td>\n",
       "    </tr>\n",
       "    <tr>\n",
       "      <th>4193</th>\n",
       "      <td>80450.822932</td>\n",
       "      <td>80871.918220</td>\n",
       "      <td>132509.608712</td>\n",
       "      <td>127947.975867</td>\n",
       "    </tr>\n",
       "  </tbody>\n",
       "</table>\n",
       "</div>"
      ],
      "text/plain": [
       "                Пол        Возраст       Зарплата    Члены семьи\n",
       "4227  102639.340149  103180.268843  169131.408142  163294.300548\n",
       "4676  131791.440334  132481.376745  217087.823519  209607.858239\n",
       "800    60788.966543   61095.366909  100014.175737   96589.346050\n",
       "3671   77410.404135   77804.809207  127403.226785  123033.393400\n",
       "4193   80450.822932   80871.918220  132509.608712  127947.975867"
      ]
     },
     "execution_count": 15,
     "metadata": {},
     "output_type": "execute_result"
    }
   ],
   "source": [
    "train_matrix = train_features.dot(matrix)\n",
    "train_matrix.columns = train_features.columns\n",
    "train_matrix.head()"
   ]
  },
  {
   "cell_type": "markdown",
   "metadata": {},
   "source": [
    "То же самое делаем с тестовой выборкой"
   ]
  },
  {
   "cell_type": "code",
   "execution_count": 16,
   "metadata": {},
   "outputs": [
    {
     "data": {
      "text/html": [
       "<div>\n",
       "<style scoped>\n",
       "    .dataframe tbody tr th:only-of-type {\n",
       "        vertical-align: middle;\n",
       "    }\n",
       "\n",
       "    .dataframe tbody tr th {\n",
       "        vertical-align: top;\n",
       "    }\n",
       "\n",
       "    .dataframe thead th {\n",
       "        text-align: right;\n",
       "    }\n",
       "</style>\n",
       "<table border=\"1\" class=\"dataframe\">\n",
       "  <thead>\n",
       "    <tr style=\"text-align: right;\">\n",
       "      <th></th>\n",
       "      <th>Пол</th>\n",
       "      <th>Возраст</th>\n",
       "      <th>Зарплата</th>\n",
       "      <th>Члены семьи</th>\n",
       "    </tr>\n",
       "  </thead>\n",
       "  <tbody>\n",
       "    <tr>\n",
       "      <th>1501</th>\n",
       "      <td>116588.283995</td>\n",
       "      <td>117203.956324</td>\n",
       "      <td>192079.765282</td>\n",
       "      <td>185456.311764</td>\n",
       "    </tr>\n",
       "    <tr>\n",
       "      <th>2586</th>\n",
       "      <td>87129.455832</td>\n",
       "      <td>87579.739741</td>\n",
       "      <td>143485.849911</td>\n",
       "      <td>138545.229724</td>\n",
       "    </tr>\n",
       "    <tr>\n",
       "      <th>2653</th>\n",
       "      <td>54724.601964</td>\n",
       "      <td>55007.149513</td>\n",
       "      <td>90072.838783</td>\n",
       "      <td>86980.789501</td>\n",
       "    </tr>\n",
       "    <tr>\n",
       "      <th>1055</th>\n",
       "      <td>77571.061090</td>\n",
       "      <td>77970.853070</td>\n",
       "      <td>127736.784695</td>\n",
       "      <td>123339.306491</td>\n",
       "    </tr>\n",
       "    <tr>\n",
       "      <th>705</th>\n",
       "      <td>62461.597368</td>\n",
       "      <td>62775.710572</td>\n",
       "      <td>102756.623868</td>\n",
       "      <td>99239.602483</td>\n",
       "    </tr>\n",
       "  </tbody>\n",
       "</table>\n",
       "</div>"
      ],
      "text/plain": [
       "                Пол        Возраст       Зарплата    Члены семьи\n",
       "1501  116588.283995  117203.956324  192079.765282  185456.311764\n",
       "2586   87129.455832   87579.739741  143485.849911  138545.229724\n",
       "2653   54724.601964   55007.149513   90072.838783   86980.789501\n",
       "1055   77571.061090   77970.853070  127736.784695  123339.306491\n",
       "705    62461.597368   62775.710572  102756.623868   99239.602483"
      ]
     },
     "execution_count": 16,
     "metadata": {},
     "output_type": "execute_result"
    }
   ],
   "source": [
    "test_matrix = test_features.dot(matrix)\n",
    "test_matrix.columns = test_features.columns\n",
    "test_matrix.head()"
   ]
  },
  {
   "cell_type": "markdown",
   "metadata": {},
   "source": [
    "Обучаем модель и делаем предсказания на новых данных, находим метрику R2"
   ]
  },
  {
   "cell_type": "code",
   "execution_count": 17,
   "metadata": {},
   "outputs": [
    {
     "name": "stdout",
     "output_type": "stream",
     "text": [
      "R2_score: 0.43687\n"
     ]
    }
   ],
   "source": [
    "model_1 = LinearRegress()\n",
    "model_1.fit(train_features, train_target)\n",
    "predict_1 = model_1.predict(test_features)\n",
    "\n",
    "R2_score = r2_score(test_target, predict_1)\n",
    "\n",
    "print(\"R2_score:\", R2_score.round(5))"
   ]
  },
  {
   "cell_type": "markdown",
   "metadata": {},
   "source": [
    "Создаём произвольную матрицу и проверяем её наобратимость. Обозначим её А"
   ]
  },
  {
   "cell_type": "code",
   "execution_count": 18,
   "metadata": {},
   "outputs": [
    {
     "data": {
      "text/plain": [
       "array([[1.86643861, 3.93015704, 2.47617789, 2.69087663],\n",
       "       [2.23300496, 2.7294154 , 3.18176486, 2.22708834],\n",
       "       [2.94631121, 3.07117734, 3.67197416, 2.15173504],\n",
       "       [3.85992114, 2.31132759, 2.95326534, 2.8384335 ]])"
      ]
     },
     "execution_count": 18,
     "metadata": {},
     "output_type": "execute_result"
    }
   ],
   "source": [
    "A = np.random.normal(3, size=(4,4))\n",
    "A"
   ]
  },
  {
   "cell_type": "code",
   "execution_count": 19,
   "metadata": {},
   "outputs": [
    {
     "data": {
      "text/plain": [
       "array([[ 0.08403684, -1.4240417 ,  0.87803193,  0.37205093],\n",
       "       [ 0.56475624, -1.25029014,  0.88174421, -0.22282104],\n",
       "       [-0.52095533,  1.17078354, -0.1261479 , -0.3291164 ],\n",
       "       [-0.03212792,  1.73648045, -1.78076587,  0.37023704]])"
      ]
     },
     "execution_count": 19,
     "metadata": {},
     "output_type": "execute_result"
    }
   ],
   "source": [
    "np.linalg.inv(A)"
   ]
  },
  {
   "cell_type": "markdown",
   "metadata": {},
   "source": [
    "Матрица обратима"
   ]
  },
  {
   "cell_type": "markdown",
   "metadata": {},
   "source": [
    "Умножаем матрицу тренировочной выборки на созданную обратимую матрицу. В результате получаем новую матрицу В"
   ]
  },
  {
   "cell_type": "code",
   "execution_count": 20,
   "metadata": {},
   "outputs": [
    {
     "data": {
      "text/html": [
       "<div>\n",
       "<style scoped>\n",
       "    .dataframe tbody tr th:only-of-type {\n",
       "        vertical-align: middle;\n",
       "    }\n",
       "\n",
       "    .dataframe tbody tr th {\n",
       "        vertical-align: top;\n",
       "    }\n",
       "\n",
       "    .dataframe thead th {\n",
       "        text-align: right;\n",
       "    }\n",
       "</style>\n",
       "<table border=\"1\" class=\"dataframe\">\n",
       "  <thead>\n",
       "    <tr style=\"text-align: right;\">\n",
       "      <th></th>\n",
       "      <th>Пол</th>\n",
       "      <th>Возраст</th>\n",
       "      <th>Зарплата</th>\n",
       "      <th>Члены семьи</th>\n",
       "    </tr>\n",
       "  </thead>\n",
       "  <tbody>\n",
       "    <tr>\n",
       "      <th>4227</th>\n",
       "      <td>145591.827860</td>\n",
       "      <td>151767.601549</td>\n",
       "      <td>181455.748614</td>\n",
       "      <td>106338.636846</td>\n",
       "    </tr>\n",
       "    <tr>\n",
       "      <th>4676</th>\n",
       "      <td>186888.944365</td>\n",
       "      <td>194825.332231</td>\n",
       "      <td>232932.680116</td>\n",
       "      <td>136512.387095</td>\n",
       "    </tr>\n",
       "    <tr>\n",
       "      <th>800</th>\n",
       "      <td>86127.700501</td>\n",
       "      <td>89792.595774</td>\n",
       "      <td>107355.051142</td>\n",
       "      <td>62924.812133</td>\n",
       "    </tr>\n",
       "    <tr>\n",
       "      <th>3671</th>\n",
       "      <td>109704.889209</td>\n",
       "      <td>114370.202765</td>\n",
       "      <td>136740.389730</td>\n",
       "      <td>80145.373693</td>\n",
       "    </tr>\n",
       "    <tr>\n",
       "      <th>4193</th>\n",
       "      <td>114080.302015</td>\n",
       "      <td>118925.527974</td>\n",
       "      <td>142188.125939</td>\n",
       "      <td>83330.050225</td>\n",
       "    </tr>\n",
       "  </tbody>\n",
       "</table>\n",
       "</div>"
      ],
      "text/plain": [
       "                Пол        Возраст       Зарплата    Члены семьи\n",
       "4227  145591.827860  151767.601549  181455.748614  106338.636846\n",
       "4676  186888.944365  194825.332231  232932.680116  136512.387095\n",
       "800    86127.700501   89792.595774  107355.051142   62924.812133\n",
       "3671  109704.889209  114370.202765  136740.389730   80145.373693\n",
       "4193  114080.302015  118925.527974  142188.125939   83330.050225"
      ]
     },
     "execution_count": 20,
     "metadata": {},
     "output_type": "execute_result"
    }
   ],
   "source": [
    "B =train_features.dot(A)\n",
    "B.columns = train_features.columns\n",
    "B.head()"
   ]
  },
  {
   "cell_type": "markdown",
   "metadata": {},
   "source": [
    "Умножаем матрицу тестовой выборки на созданную обратимую матрицу. В результате получаем новую матрицу С"
   ]
  },
  {
   "cell_type": "code",
   "execution_count": 21,
   "metadata": {},
   "outputs": [
    {
     "data": {
      "text/html": [
       "<div>\n",
       "<style scoped>\n",
       "    .dataframe tbody tr th:only-of-type {\n",
       "        vertical-align: middle;\n",
       "    }\n",
       "\n",
       "    .dataframe tbody tr th {\n",
       "        vertical-align: top;\n",
       "    }\n",
       "\n",
       "    .dataframe thead th {\n",
       "        text-align: right;\n",
       "    }\n",
       "</style>\n",
       "<table border=\"1\" class=\"dataframe\">\n",
       "  <thead>\n",
       "    <tr style=\"text-align: right;\">\n",
       "      <th></th>\n",
       "      <th>Пол</th>\n",
       "      <th>Возраст</th>\n",
       "      <th>Зарплата</th>\n",
       "      <th>Члены семьи</th>\n",
       "    </tr>\n",
       "  </thead>\n",
       "  <tbody>\n",
       "    <tr>\n",
       "      <th>1501</th>\n",
       "      <td>165352.449545</td>\n",
       "      <td>172373.402730</td>\n",
       "      <td>206089.316058</td>\n",
       "      <td>120777.384920</td>\n",
       "    </tr>\n",
       "    <tr>\n",
       "      <th>2586</th>\n",
       "      <td>123531.482203</td>\n",
       "      <td>128778.224777</td>\n",
       "      <td>153965.916554</td>\n",
       "      <td>90237.332617</td>\n",
       "    </tr>\n",
       "    <tr>\n",
       "      <th>2653</th>\n",
       "      <td>77556.841451</td>\n",
       "      <td>80857.776740</td>\n",
       "      <td>96670.849573</td>\n",
       "      <td>56660.134997</td>\n",
       "    </tr>\n",
       "    <tr>\n",
       "      <th>1055</th>\n",
       "      <td>109973.984620</td>\n",
       "      <td>114645.350168</td>\n",
       "      <td>137068.471881</td>\n",
       "      <td>80334.897270</td>\n",
       "    </tr>\n",
       "    <tr>\n",
       "      <th>705</th>\n",
       "      <td>88491.448485</td>\n",
       "      <td>92257.725895</td>\n",
       "      <td>110302.175766</td>\n",
       "      <td>64652.881427</td>\n",
       "    </tr>\n",
       "  </tbody>\n",
       "</table>\n",
       "</div>"
      ],
      "text/plain": [
       "                Пол        Возраст       Зарплата    Члены семьи\n",
       "1501  165352.449545  172373.402730  206089.316058  120777.384920\n",
       "2586  123531.482203  128778.224777  153965.916554   90237.332617\n",
       "2653   77556.841451   80857.776740   96670.849573   56660.134997\n",
       "1055  109973.984620  114645.350168  137068.471881   80334.897270\n",
       "705    88491.448485   92257.725895  110302.175766   64652.881427"
      ]
     },
     "execution_count": 21,
     "metadata": {},
     "output_type": "execute_result"
    }
   ],
   "source": [
    "С = test_features.dot(A)\n",
    "С.columns = test_features.columns\n",
    "С.head()"
   ]
  },
  {
   "cell_type": "markdown",
   "metadata": {},
   "source": [
    "В нулевой столбец полученной таблицы вносим значение 1"
   ]
  },
  {
   "cell_type": "code",
   "execution_count": 22,
   "metadata": {},
   "outputs": [
    {
     "data": {
      "text/html": [
       "<div>\n",
       "<style scoped>\n",
       "    .dataframe tbody tr th:only-of-type {\n",
       "        vertical-align: middle;\n",
       "    }\n",
       "\n",
       "    .dataframe tbody tr th {\n",
       "        vertical-align: top;\n",
       "    }\n",
       "\n",
       "    .dataframe thead th {\n",
       "        text-align: right;\n",
       "    }\n",
       "</style>\n",
       "<table border=\"1\" class=\"dataframe\">\n",
       "  <thead>\n",
       "    <tr style=\"text-align: right;\">\n",
       "      <th></th>\n",
       "      <th>0</th>\n",
       "      <th>1</th>\n",
       "      <th>2</th>\n",
       "      <th>3</th>\n",
       "      <th>4</th>\n",
       "    </tr>\n",
       "  </thead>\n",
       "  <tbody>\n",
       "    <tr>\n",
       "      <th>0</th>\n",
       "      <td>1.0</td>\n",
       "      <td>145591.827860</td>\n",
       "      <td>151767.601549</td>\n",
       "      <td>181455.748614</td>\n",
       "      <td>106338.636846</td>\n",
       "    </tr>\n",
       "    <tr>\n",
       "      <th>1</th>\n",
       "      <td>1.0</td>\n",
       "      <td>186888.944365</td>\n",
       "      <td>194825.332231</td>\n",
       "      <td>232932.680116</td>\n",
       "      <td>136512.387095</td>\n",
       "    </tr>\n",
       "    <tr>\n",
       "      <th>2</th>\n",
       "      <td>1.0</td>\n",
       "      <td>86127.700501</td>\n",
       "      <td>89792.595774</td>\n",
       "      <td>107355.051142</td>\n",
       "      <td>62924.812133</td>\n",
       "    </tr>\n",
       "    <tr>\n",
       "      <th>3</th>\n",
       "      <td>1.0</td>\n",
       "      <td>109704.889209</td>\n",
       "      <td>114370.202765</td>\n",
       "      <td>136740.389730</td>\n",
       "      <td>80145.373693</td>\n",
       "    </tr>\n",
       "    <tr>\n",
       "      <th>4</th>\n",
       "      <td>1.0</td>\n",
       "      <td>114080.302015</td>\n",
       "      <td>118925.527974</td>\n",
       "      <td>142188.125939</td>\n",
       "      <td>83330.050225</td>\n",
       "    </tr>\n",
       "  </tbody>\n",
       "</table>\n",
       "</div>"
      ],
      "text/plain": [
       "     0              1              2              3              4\n",
       "0  1.0  145591.827860  151767.601549  181455.748614  106338.636846\n",
       "1  1.0  186888.944365  194825.332231  232932.680116  136512.387095\n",
       "2  1.0   86127.700501   89792.595774  107355.051142   62924.812133\n",
       "3  1.0  109704.889209  114370.202765  136740.389730   80145.373693\n",
       "4  1.0  114080.302015  118925.527974  142188.125939   83330.050225"
      ]
     },
     "execution_count": 22,
     "metadata": {},
     "output_type": "execute_result"
    }
   ],
   "source": [
    "X = np.concatenate((np.ones((B.shape[0], 1)), B), axis=1)\n",
    "pd.DataFrame(X).head()"
   ]
  },
  {
   "cell_type": "markdown",
   "metadata": {},
   "source": [
    "Присвоим переменной 𝑦 целевой признак и вычислим вектор 𝑤"
   ]
  },
  {
   "cell_type": "code",
   "execution_count": 23,
   "metadata": {},
   "outputs": [],
   "source": [
    "y = train_target\n",
    "w = (np.linalg.inv(X.T.dot(X)).dot(X.T)).dot(y)"
   ]
  },
  {
   "cell_type": "markdown",
   "metadata": {},
   "source": [
    "Вычислим предсказание модели методом умножения тестовой выбрки на вектор. Переменную предсказанных значений обозначим a"
   ]
  },
  {
   "cell_type": "code",
   "execution_count": 24,
   "metadata": {},
   "outputs": [],
   "source": [
    "a = С.dot(w[1:]) + w[0]"
   ]
  },
  {
   "cell_type": "markdown",
   "metadata": {},
   "source": [
    "Найдём значение R2"
   ]
  },
  {
   "cell_type": "code",
   "execution_count": 25,
   "metadata": {},
   "outputs": [
    {
     "name": "stdout",
     "output_type": "stream",
     "text": [
      "R2_score: 0.43687\n"
     ]
    }
   ],
   "source": [
    "R2_score_m=r2_score(test_target, a)\n",
    "print(\"R2_score:\",R2_score_m.round(5))"
   ]
  },
  {
   "cell_type": "markdown",
   "metadata": {},
   "source": [
    "Сравним значения метрики R2 изменённоё и исходной матрицы признаков"
   ]
  },
  {
   "cell_type": "code",
   "execution_count": 26,
   "metadata": {},
   "outputs": [
    {
     "data": {
      "text/html": [
       "<div>\n",
       "<style scoped>\n",
       "    .dataframe tbody tr th:only-of-type {\n",
       "        vertical-align: middle;\n",
       "    }\n",
       "\n",
       "    .dataframe tbody tr th {\n",
       "        vertical-align: top;\n",
       "    }\n",
       "\n",
       "    .dataframe thead th {\n",
       "        text-align: right;\n",
       "    }\n",
       "</style>\n",
       "<table border=\"1\" class=\"dataframe\">\n",
       "  <thead>\n",
       "    <tr style=\"text-align: right;\">\n",
       "      <th></th>\n",
       "      <th>R2_score</th>\n",
       "    </tr>\n",
       "  </thead>\n",
       "  <tbody>\n",
       "    <tr>\n",
       "      <th>Изменённая матрица</th>\n",
       "      <td>0.43687</td>\n",
       "    </tr>\n",
       "    <tr>\n",
       "      <th>Неизменённая матрица</th>\n",
       "      <td>0.43687</td>\n",
       "    </tr>\n",
       "  </tbody>\n",
       "</table>\n",
       "</div>"
      ],
      "text/plain": [
       "                      R2_score\n",
       "Изменённая матрица     0.43687\n",
       "Неизменённая матрица   0.43687"
      ]
     },
     "execution_count": 26,
     "metadata": {},
     "output_type": "execute_result"
    }
   ],
   "source": [
    "comparison_tabl = pd.DataFrame(index=['R2_score'], columns=['Изменённая матрица','Неизменённая матрица'])\n",
    "comparison_tabl['Изменённая матрица'] = R2_score_m.round(5)\n",
    "comparison_tabl['Неизменённая матрица'] = R2_score.round(5)\n",
    "\n",
    "comparison_tabl.T"
   ]
  },
  {
   "cell_type": "markdown",
   "metadata": {},
   "source": [
    "**Вывод**\n",
    "\n",
    "Нам была поставлена задача защитить персональные данные клиентов страховой компании «Хоть потоп», для этого нужно разработать метод преобразования данных, чтобы по ним было сложно восстановить персональную информацию.\n",
    "\n",
    "Метод преобразования данных должен быть таким, чтобы при преобразовании качество моделей машинного обучения не ухудшилось.\n",
    "\n",
    "Нами был разработан алгоритм, где данные были преобразованы методом умножения признаков исходных данных на обратимую матрицу. В результате была получена матрица признаков с изменёнными данными, которые надёжно зашифрованы и при этом сохранили неизменным качество модели обучения.\n",
    "\n",
    "Поставленная задача полностью выполнена."
   ]
  }
 ],
 "metadata": {
  "ExecuteTimeLog": [
   {
    "duration": 1251,
    "start_time": "2023-06-25T16:36:10.574Z"
   },
   {
    "duration": 111,
    "start_time": "2023-06-25T16:37:00.545Z"
   },
   {
    "duration": 59,
    "start_time": "2023-06-25T16:37:36.514Z"
   },
   {
    "duration": 34,
    "start_time": "2023-06-25T16:37:47.110Z"
   },
   {
    "duration": 18,
    "start_time": "2023-06-25T16:41:48.799Z"
   },
   {
    "duration": 35,
    "start_time": "2023-06-25T16:42:21.788Z"
   },
   {
    "duration": 12,
    "start_time": "2023-06-25T17:35:44.053Z"
   },
   {
    "duration": 123,
    "start_time": "2023-06-25T17:40:49.405Z"
   },
   {
    "duration": 721,
    "start_time": "2023-06-25T17:41:25.773Z"
   },
   {
    "duration": 10350,
    "start_time": "2023-06-25T17:41:30.093Z"
   },
   {
    "duration": 10132,
    "start_time": "2023-06-25T17:42:44.196Z"
   },
   {
    "duration": 10832,
    "start_time": "2023-06-25T17:44:11.333Z"
   },
   {
    "duration": 10074,
    "start_time": "2023-06-25T17:45:57.374Z"
   },
   {
    "duration": 10801,
    "start_time": "2023-06-25T17:47:31.618Z"
   },
   {
    "duration": 10655,
    "start_time": "2023-06-25T17:50:20.894Z"
   },
   {
    "duration": 30,
    "start_time": "2023-06-25T17:53:22.406Z"
   },
   {
    "duration": 10991,
    "start_time": "2023-06-25T17:53:30.327Z"
   },
   {
    "duration": 11386,
    "start_time": "2023-06-25T17:53:53.424Z"
   },
   {
    "duration": 4659,
    "start_time": "2023-06-25T17:54:33.909Z"
   },
   {
    "duration": 11635,
    "start_time": "2023-06-25T17:55:14.353Z"
   },
   {
    "duration": 12038,
    "start_time": "2023-06-25T17:55:36.904Z"
   },
   {
    "duration": 11,
    "start_time": "2023-06-25T17:56:33.970Z"
   },
   {
    "duration": 20,
    "start_time": "2023-06-25T17:57:23.176Z"
   },
   {
    "duration": 9,
    "start_time": "2023-06-25T17:57:40.626Z"
   },
   {
    "duration": 6,
    "start_time": "2023-06-25T17:57:44.811Z"
   },
   {
    "duration": 22,
    "start_time": "2023-06-25T17:59:16.748Z"
   },
   {
    "duration": 5,
    "start_time": "2023-06-25T18:00:16.030Z"
   },
   {
    "duration": 16,
    "start_time": "2023-06-25T18:01:48.168Z"
   },
   {
    "duration": 137,
    "start_time": "2023-06-25T18:02:09.719Z"
   },
   {
    "duration": 4,
    "start_time": "2023-06-25T18:02:51.015Z"
   },
   {
    "duration": 16,
    "start_time": "2023-06-25T18:02:52.623Z"
   },
   {
    "duration": 4,
    "start_time": "2023-06-25T18:03:40.511Z"
   },
   {
    "duration": 11,
    "start_time": "2023-06-25T18:03:44.529Z"
   },
   {
    "duration": 7,
    "start_time": "2023-06-25T18:16:05.547Z"
   },
   {
    "duration": 6,
    "start_time": "2023-06-25T18:16:25.491Z"
   },
   {
    "duration": 10,
    "start_time": "2023-06-25T18:18:21.071Z"
   },
   {
    "duration": 12,
    "start_time": "2023-06-25T18:18:32.502Z"
   },
   {
    "duration": 11,
    "start_time": "2023-06-25T18:19:07.604Z"
   },
   {
    "duration": 8,
    "start_time": "2023-06-25T18:20:42.039Z"
   },
   {
    "duration": 4,
    "start_time": "2023-06-25T18:21:08.429Z"
   },
   {
    "duration": 10,
    "start_time": "2023-06-25T18:21:21.549Z"
   },
   {
    "duration": 11,
    "start_time": "2023-06-25T18:21:53.664Z"
   },
   {
    "duration": 12,
    "start_time": "2023-06-25T18:22:22.696Z"
   },
   {
    "duration": 9,
    "start_time": "2023-06-25T18:22:53.371Z"
   },
   {
    "duration": 10,
    "start_time": "2023-06-25T18:33:48.428Z"
   },
   {
    "duration": 9,
    "start_time": "2023-06-25T18:34:35.177Z"
   },
   {
    "duration": 9,
    "start_time": "2023-06-25T18:34:39.628Z"
   },
   {
    "duration": 5,
    "start_time": "2023-06-25T18:45:58.823Z"
   },
   {
    "duration": 1478,
    "start_time": "2023-06-25T18:46:10.088Z"
   },
   {
    "duration": 40,
    "start_time": "2023-06-25T18:46:11.568Z"
   },
   {
    "duration": 13,
    "start_time": "2023-06-25T18:46:11.609Z"
   },
   {
    "duration": 5,
    "start_time": "2023-06-25T18:46:11.624Z"
   },
   {
    "duration": 36,
    "start_time": "2023-06-25T18:46:11.631Z"
   },
   {
    "duration": 9328,
    "start_time": "2023-06-25T18:46:11.669Z"
   },
   {
    "duration": 4,
    "start_time": "2023-06-25T18:46:21.000Z"
   },
   {
    "duration": 27,
    "start_time": "2023-06-25T18:46:21.006Z"
   },
   {
    "duration": 15,
    "start_time": "2023-06-25T18:46:21.035Z"
   },
   {
    "duration": 28,
    "start_time": "2023-06-25T18:46:21.052Z"
   },
   {
    "duration": 24,
    "start_time": "2023-06-25T18:46:21.082Z"
   },
   {
    "duration": 49,
    "start_time": "2023-06-25T18:46:21.108Z"
   },
   {
    "duration": 113,
    "start_time": "2023-06-25T18:46:21.158Z"
   },
   {
    "duration": 102,
    "start_time": "2023-06-25T18:46:21.274Z"
   },
   {
    "duration": 87,
    "start_time": "2023-06-25T18:46:21.378Z"
   },
   {
    "duration": 15,
    "start_time": "2023-06-25T18:46:21.467Z"
   },
   {
    "duration": 4,
    "start_time": "2023-06-25T19:15:19.888Z"
   },
   {
    "duration": 6,
    "start_time": "2023-06-25T19:31:53.285Z"
   },
   {
    "duration": 5,
    "start_time": "2023-06-25T19:32:42.098Z"
   },
   {
    "duration": 154,
    "start_time": "2023-06-25T19:34:00.644Z"
   },
   {
    "duration": 16,
    "start_time": "2023-06-25T19:34:05.141Z"
   },
   {
    "duration": 13,
    "start_time": "2023-06-25T19:34:14.602Z"
   },
   {
    "duration": 6,
    "start_time": "2023-06-25T19:34:17.227Z"
   },
   {
    "duration": 6,
    "start_time": "2023-06-25T19:34:18.001Z"
   },
   {
    "duration": 12,
    "start_time": "2023-06-25T19:34:18.635Z"
   },
   {
    "duration": 11,
    "start_time": "2023-06-25T19:35:16.211Z"
   },
   {
    "duration": 11,
    "start_time": "2023-06-25T19:36:22.291Z"
   },
   {
    "duration": 4,
    "start_time": "2023-06-25T19:36:50.268Z"
   },
   {
    "duration": 5,
    "start_time": "2023-06-25T19:37:19.951Z"
   },
   {
    "duration": 5,
    "start_time": "2023-06-25T19:37:42.026Z"
   },
   {
    "duration": 6,
    "start_time": "2023-06-25T19:37:48.029Z"
   },
   {
    "duration": 4,
    "start_time": "2023-06-25T19:38:05.323Z"
   },
   {
    "duration": 6,
    "start_time": "2023-06-25T19:38:05.941Z"
   },
   {
    "duration": 13,
    "start_time": "2023-06-25T19:38:54.591Z"
   },
   {
    "duration": 11,
    "start_time": "2023-06-25T19:41:12.412Z"
   },
   {
    "duration": 1627,
    "start_time": "2023-06-25T19:41:51.973Z"
   },
   {
    "duration": 41,
    "start_time": "2023-06-25T19:41:53.603Z"
   },
   {
    "duration": 22,
    "start_time": "2023-06-25T19:41:53.646Z"
   },
   {
    "duration": 11,
    "start_time": "2023-06-25T19:41:53.671Z"
   },
   {
    "duration": 27,
    "start_time": "2023-06-25T19:41:53.685Z"
   },
   {
    "duration": 9681,
    "start_time": "2023-06-25T19:41:53.714Z"
   },
   {
    "duration": 4,
    "start_time": "2023-06-25T19:42:03.397Z"
   },
   {
    "duration": 16,
    "start_time": "2023-06-25T19:42:03.403Z"
   },
   {
    "duration": 9,
    "start_time": "2023-06-25T19:42:03.421Z"
   },
   {
    "duration": 10,
    "start_time": "2023-06-25T19:42:03.432Z"
   },
   {
    "duration": 293,
    "start_time": "2023-06-25T19:42:03.444Z"
   },
   {
    "duration": 0,
    "start_time": "2023-06-25T19:42:03.739Z"
   },
   {
    "duration": 0,
    "start_time": "2023-06-25T19:42:03.740Z"
   },
   {
    "duration": 0,
    "start_time": "2023-06-25T19:42:03.753Z"
   },
   {
    "duration": 0,
    "start_time": "2023-06-25T19:42:03.754Z"
   },
   {
    "duration": 0,
    "start_time": "2023-06-25T19:42:03.755Z"
   },
   {
    "duration": 0,
    "start_time": "2023-06-25T19:42:03.756Z"
   },
   {
    "duration": 0,
    "start_time": "2023-06-25T19:42:03.757Z"
   },
   {
    "duration": 0,
    "start_time": "2023-06-25T19:42:03.758Z"
   },
   {
    "duration": 0,
    "start_time": "2023-06-25T19:42:03.759Z"
   },
   {
    "duration": 0,
    "start_time": "2023-06-25T19:42:03.760Z"
   },
   {
    "duration": 0,
    "start_time": "2023-06-25T19:42:03.761Z"
   },
   {
    "duration": 0,
    "start_time": "2023-06-25T19:42:03.762Z"
   },
   {
    "duration": 0,
    "start_time": "2023-06-25T19:42:03.763Z"
   },
   {
    "duration": 0,
    "start_time": "2023-06-25T19:42:03.764Z"
   },
   {
    "duration": 1896,
    "start_time": "2023-06-25T19:42:28.269Z"
   },
   {
    "duration": 40,
    "start_time": "2023-06-25T19:42:30.167Z"
   },
   {
    "duration": 13,
    "start_time": "2023-06-25T19:42:30.209Z"
   },
   {
    "duration": 42,
    "start_time": "2023-06-25T19:42:30.224Z"
   },
   {
    "duration": 42,
    "start_time": "2023-06-25T19:42:30.270Z"
   },
   {
    "duration": 9829,
    "start_time": "2023-06-25T19:42:30.314Z"
   },
   {
    "duration": 5,
    "start_time": "2023-06-25T19:42:40.145Z"
   },
   {
    "duration": 55,
    "start_time": "2023-06-25T19:42:40.152Z"
   },
   {
    "duration": 57,
    "start_time": "2023-06-25T19:42:40.209Z"
   },
   {
    "duration": 43,
    "start_time": "2023-06-25T19:42:40.268Z"
   },
   {
    "duration": 34,
    "start_time": "2023-06-25T19:42:40.313Z"
   },
   {
    "duration": 116,
    "start_time": "2023-06-25T19:42:40.348Z"
   },
   {
    "duration": 86,
    "start_time": "2023-06-25T19:42:40.469Z"
   },
   {
    "duration": 16,
    "start_time": "2023-06-25T19:42:40.561Z"
   },
   {
    "duration": 44,
    "start_time": "2023-06-25T19:42:40.653Z"
   },
   {
    "duration": 287,
    "start_time": "2023-06-25T19:42:40.699Z"
   },
   {
    "duration": 1,
    "start_time": "2023-06-25T19:42:40.988Z"
   },
   {
    "duration": 0,
    "start_time": "2023-06-25T19:42:40.990Z"
   },
   {
    "duration": 0,
    "start_time": "2023-06-25T19:42:40.991Z"
   },
   {
    "duration": 0,
    "start_time": "2023-06-25T19:42:40.993Z"
   },
   {
    "duration": 0,
    "start_time": "2023-06-25T19:42:40.994Z"
   },
   {
    "duration": 0,
    "start_time": "2023-06-25T19:42:40.995Z"
   },
   {
    "duration": 0,
    "start_time": "2023-06-25T19:42:40.996Z"
   },
   {
    "duration": 0,
    "start_time": "2023-06-25T19:42:40.997Z"
   },
   {
    "duration": 0,
    "start_time": "2023-06-25T19:42:40.998Z"
   },
   {
    "duration": 13,
    "start_time": "2023-06-25T19:42:50.852Z"
   },
   {
    "duration": 5,
    "start_time": "2023-06-25T19:42:54.122Z"
   },
   {
    "duration": 5,
    "start_time": "2023-06-25T19:42:54.615Z"
   },
   {
    "duration": 11,
    "start_time": "2023-06-25T19:42:55.006Z"
   },
   {
    "duration": 12,
    "start_time": "2023-06-25T19:42:55.422Z"
   },
   {
    "duration": 12,
    "start_time": "2023-06-25T19:42:55.831Z"
   },
   {
    "duration": 4,
    "start_time": "2023-06-25T19:42:58.202Z"
   },
   {
    "duration": 3,
    "start_time": "2023-06-25T19:42:58.634Z"
   },
   {
    "duration": 4,
    "start_time": "2023-06-25T19:42:59.072Z"
   },
   {
    "duration": 16,
    "start_time": "2023-06-25T19:42:59.651Z"
   },
   {
    "duration": 21,
    "start_time": "2023-06-25T19:43:23.349Z"
   },
   {
    "duration": 125,
    "start_time": "2023-06-25T20:12:54.170Z"
   },
   {
    "duration": 11,
    "start_time": "2023-06-25T20:16:47.793Z"
   },
   {
    "duration": 11,
    "start_time": "2023-06-25T20:16:49.794Z"
   },
   {
    "duration": 7,
    "start_time": "2023-06-25T20:16:50.230Z"
   },
   {
    "duration": 4,
    "start_time": "2023-06-25T20:16:52.163Z"
   },
   {
    "duration": 1458,
    "start_time": "2023-06-25T20:40:57.760Z"
   },
   {
    "duration": 38,
    "start_time": "2023-06-25T20:40:59.220Z"
   },
   {
    "duration": 11,
    "start_time": "2023-06-25T20:40:59.260Z"
   },
   {
    "duration": 15,
    "start_time": "2023-06-25T20:40:59.274Z"
   },
   {
    "duration": 26,
    "start_time": "2023-06-25T20:40:59.290Z"
   },
   {
    "duration": 9345,
    "start_time": "2023-06-25T20:40:59.318Z"
   },
   {
    "duration": 5,
    "start_time": "2023-06-25T20:41:08.665Z"
   },
   {
    "duration": 54,
    "start_time": "2023-06-25T20:41:08.672Z"
   },
   {
    "duration": 19,
    "start_time": "2023-06-25T20:41:08.728Z"
   },
   {
    "duration": 34,
    "start_time": "2023-06-25T20:41:08.750Z"
   },
   {
    "duration": 23,
    "start_time": "2023-06-25T20:41:08.786Z"
   },
   {
    "duration": 46,
    "start_time": "2023-06-25T20:41:08.811Z"
   },
   {
    "duration": 99,
    "start_time": "2023-06-25T20:41:08.859Z"
   },
   {
    "duration": 102,
    "start_time": "2023-06-25T20:41:08.960Z"
   },
   {
    "duration": 95,
    "start_time": "2023-06-25T20:41:09.065Z"
   },
   {
    "duration": 25,
    "start_time": "2023-06-25T20:41:09.162Z"
   },
   {
    "duration": 71,
    "start_time": "2023-06-25T20:41:09.189Z"
   },
   {
    "duration": 106,
    "start_time": "2023-06-25T20:41:09.263Z"
   },
   {
    "duration": 90,
    "start_time": "2023-06-25T20:41:09.372Z"
   },
   {
    "duration": 100,
    "start_time": "2023-06-25T20:41:09.464Z"
   },
   {
    "duration": 15,
    "start_time": "2023-06-25T20:41:09.567Z"
   },
   {
    "duration": 12,
    "start_time": "2023-06-25T20:41:09.583Z"
   },
   {
    "duration": 65,
    "start_time": "2023-06-25T20:41:09.597Z"
   },
   {
    "duration": 88,
    "start_time": "2023-06-25T20:41:09.665Z"
   },
   {
    "duration": 19,
    "start_time": "2023-06-25T20:41:09.755Z"
   },
   {
    "duration": 1431,
    "start_time": "2023-06-25T20:42:16.193Z"
   },
   {
    "duration": 39,
    "start_time": "2023-06-25T20:42:17.626Z"
   },
   {
    "duration": 13,
    "start_time": "2023-06-25T20:42:17.667Z"
   },
   {
    "duration": 11,
    "start_time": "2023-06-25T20:42:17.683Z"
   },
   {
    "duration": 25,
    "start_time": "2023-06-25T20:42:17.696Z"
   },
   {
    "duration": 9185,
    "start_time": "2023-06-25T20:42:17.722Z"
   },
   {
    "duration": 5,
    "start_time": "2023-06-25T20:42:26.909Z"
   },
   {
    "duration": 11,
    "start_time": "2023-06-25T20:42:26.916Z"
   },
   {
    "duration": 6,
    "start_time": "2023-06-25T20:42:26.929Z"
   },
   {
    "duration": 11,
    "start_time": "2023-06-25T20:42:26.938Z"
   },
   {
    "duration": 16,
    "start_time": "2023-06-25T20:42:26.951Z"
   },
   {
    "duration": 89,
    "start_time": "2023-06-25T20:42:26.969Z"
   },
   {
    "duration": 96,
    "start_time": "2023-06-25T20:42:27.060Z"
   },
   {
    "duration": 95,
    "start_time": "2023-06-25T20:42:27.158Z"
   },
   {
    "duration": 11,
    "start_time": "2023-06-25T20:42:27.255Z"
   },
   {
    "duration": 89,
    "start_time": "2023-06-25T20:42:27.269Z"
   },
   {
    "duration": 94,
    "start_time": "2023-06-25T20:42:27.360Z"
   },
   {
    "duration": 115,
    "start_time": "2023-06-25T20:42:27.455Z"
   },
   {
    "duration": 89,
    "start_time": "2023-06-25T20:42:27.572Z"
   },
   {
    "duration": 95,
    "start_time": "2023-06-25T20:42:27.663Z"
   },
   {
    "duration": 54,
    "start_time": "2023-06-25T20:42:27.760Z"
   },
   {
    "duration": 14,
    "start_time": "2023-06-25T20:42:27.815Z"
   },
   {
    "duration": 34,
    "start_time": "2023-06-25T20:42:27.831Z"
   },
   {
    "duration": 130,
    "start_time": "2023-06-25T20:42:27.867Z"
   },
   {
    "duration": 31,
    "start_time": "2023-06-25T20:42:27.999Z"
   },
   {
    "duration": 1697,
    "start_time": "2023-06-26T13:14:20.313Z"
   },
   {
    "duration": 109,
    "start_time": "2023-06-26T13:14:22.012Z"
   },
   {
    "duration": 12,
    "start_time": "2023-06-26T13:14:22.123Z"
   },
   {
    "duration": 21,
    "start_time": "2023-06-26T13:14:22.136Z"
   },
   {
    "duration": 25,
    "start_time": "2023-06-26T13:14:22.159Z"
   },
   {
    "duration": 7851,
    "start_time": "2023-06-26T13:14:22.186Z"
   },
   {
    "duration": 4,
    "start_time": "2023-06-26T13:14:30.039Z"
   },
   {
    "duration": 47,
    "start_time": "2023-06-26T13:14:30.044Z"
   },
   {
    "duration": 109,
    "start_time": "2023-06-26T13:14:30.093Z"
   },
   {
    "duration": 54,
    "start_time": "2023-06-26T13:14:30.204Z"
   },
   {
    "duration": 45,
    "start_time": "2023-06-26T13:14:30.260Z"
   },
   {
    "duration": 118,
    "start_time": "2023-06-26T13:14:30.309Z"
   },
   {
    "duration": 56,
    "start_time": "2023-06-26T13:14:30.429Z"
   },
   {
    "duration": 128,
    "start_time": "2023-06-26T13:14:30.506Z"
   },
   {
    "duration": 58,
    "start_time": "2023-06-26T13:14:30.636Z"
   },
   {
    "duration": 61,
    "start_time": "2023-06-26T13:14:30.696Z"
   },
   {
    "duration": 152,
    "start_time": "2023-06-26T13:14:30.759Z"
   },
   {
    "duration": 87,
    "start_time": "2023-06-26T13:14:30.913Z"
   },
   {
    "duration": 116,
    "start_time": "2023-06-26T13:14:31.002Z"
   },
   {
    "duration": 53,
    "start_time": "2023-06-26T13:14:31.124Z"
   },
   {
    "duration": 47,
    "start_time": "2023-06-26T13:14:31.178Z"
   },
   {
    "duration": 43,
    "start_time": "2023-06-26T13:14:31.227Z"
   },
   {
    "duration": 51,
    "start_time": "2023-06-26T13:14:31.272Z"
   },
   {
    "duration": 86,
    "start_time": "2023-06-26T13:14:31.325Z"
   },
   {
    "duration": 36,
    "start_time": "2023-06-26T13:14:31.413Z"
   },
   {
    "duration": 1891,
    "start_time": "2023-06-27T18:31:06.630Z"
   },
   {
    "duration": 149,
    "start_time": "2023-06-27T18:31:08.533Z"
   },
   {
    "duration": 13,
    "start_time": "2023-06-27T18:31:08.684Z"
   },
   {
    "duration": 57,
    "start_time": "2023-06-27T18:31:08.714Z"
   },
   {
    "duration": 34,
    "start_time": "2023-06-27T18:31:08.774Z"
   },
   {
    "duration": 8954,
    "start_time": "2023-06-27T18:31:08.810Z"
   },
   {
    "duration": 4,
    "start_time": "2023-06-27T18:31:17.779Z"
   },
   {
    "duration": 79,
    "start_time": "2023-06-27T18:31:17.784Z"
   },
   {
    "duration": 159,
    "start_time": "2023-06-27T18:31:17.864Z"
   },
   {
    "duration": 24,
    "start_time": "2023-06-27T18:31:18.034Z"
   },
   {
    "duration": 12,
    "start_time": "2023-06-27T18:31:18.059Z"
   },
   {
    "duration": 44,
    "start_time": "2023-06-27T18:31:18.073Z"
   },
   {
    "duration": 104,
    "start_time": "2023-06-27T18:31:18.124Z"
   },
   {
    "duration": 93,
    "start_time": "2023-06-27T18:31:18.232Z"
   },
   {
    "duration": 22,
    "start_time": "2023-06-27T18:31:18.331Z"
   },
   {
    "duration": 64,
    "start_time": "2023-06-27T18:31:18.355Z"
   },
   {
    "duration": 8,
    "start_time": "2023-06-27T18:31:18.434Z"
   },
   {
    "duration": 101,
    "start_time": "2023-06-27T18:31:18.444Z"
   },
   {
    "duration": 15,
    "start_time": "2023-06-27T18:31:18.547Z"
   },
   {
    "duration": 34,
    "start_time": "2023-06-27T18:31:18.610Z"
   },
   {
    "duration": 105,
    "start_time": "2023-06-27T18:31:18.647Z"
   },
   {
    "duration": 36,
    "start_time": "2023-06-27T18:31:18.754Z"
   },
   {
    "duration": 56,
    "start_time": "2023-06-27T18:31:18.791Z"
   },
   {
    "duration": 9,
    "start_time": "2023-06-27T18:31:18.900Z"
   },
   {
    "duration": 57,
    "start_time": "2023-06-27T18:31:18.911Z"
   },
   {
    "duration": 1695,
    "start_time": "2023-06-27T18:32:02.518Z"
   },
   {
    "duration": 55,
    "start_time": "2023-06-27T18:32:04.215Z"
   },
   {
    "duration": 12,
    "start_time": "2023-06-27T18:32:04.272Z"
   },
   {
    "duration": 50,
    "start_time": "2023-06-27T18:32:04.286Z"
   },
   {
    "duration": 40,
    "start_time": "2023-06-27T18:32:04.339Z"
   },
   {
    "duration": 9054,
    "start_time": "2023-06-27T18:32:04.380Z"
   },
   {
    "duration": 4,
    "start_time": "2023-06-27T18:32:13.442Z"
   },
   {
    "duration": 12,
    "start_time": "2023-06-27T18:32:13.448Z"
   },
   {
    "duration": 4,
    "start_time": "2023-06-27T18:32:13.461Z"
   },
   {
    "duration": 9,
    "start_time": "2023-06-27T18:32:13.467Z"
   },
   {
    "duration": 21,
    "start_time": "2023-06-27T18:32:13.477Z"
   },
   {
    "duration": 104,
    "start_time": "2023-06-27T18:32:13.509Z"
   },
   {
    "duration": 28,
    "start_time": "2023-06-27T18:32:13.618Z"
   },
   {
    "duration": 83,
    "start_time": "2023-06-27T18:32:13.650Z"
   },
   {
    "duration": 77,
    "start_time": "2023-06-27T18:32:13.734Z"
   },
   {
    "duration": 37,
    "start_time": "2023-06-27T18:32:13.813Z"
   },
   {
    "duration": 55,
    "start_time": "2023-06-27T18:32:13.852Z"
   },
   {
    "duration": 39,
    "start_time": "2023-06-27T18:32:13.909Z"
   },
   {
    "duration": 26,
    "start_time": "2023-06-27T18:32:14.024Z"
   },
   {
    "duration": 19,
    "start_time": "2023-06-27T18:32:14.100Z"
   },
   {
    "duration": 27,
    "start_time": "2023-06-27T18:32:14.125Z"
   },
   {
    "duration": 7,
    "start_time": "2023-06-27T18:32:14.154Z"
   },
   {
    "duration": 56,
    "start_time": "2023-06-27T18:32:14.164Z"
   },
   {
    "duration": 123,
    "start_time": "2023-06-27T18:32:14.222Z"
   },
   {
    "duration": 16,
    "start_time": "2023-06-27T18:32:14.346Z"
   },
   {
    "duration": 150,
    "start_time": "2023-06-27T19:33:12.055Z"
   },
   {
    "duration": 1723,
    "start_time": "2023-06-27T19:33:51.194Z"
   },
   {
    "duration": 45,
    "start_time": "2023-06-27T19:33:52.928Z"
   },
   {
    "duration": 12,
    "start_time": "2023-06-27T19:33:52.975Z"
   },
   {
    "duration": 28,
    "start_time": "2023-06-27T19:33:52.989Z"
   },
   {
    "duration": 42,
    "start_time": "2023-06-27T19:33:53.027Z"
   },
   {
    "duration": 9483,
    "start_time": "2023-06-27T19:33:53.071Z"
   },
   {
    "duration": 6,
    "start_time": "2023-06-27T19:34:02.558Z"
   },
   {
    "duration": 11,
    "start_time": "2023-06-27T19:34:02.567Z"
   },
   {
    "duration": 16,
    "start_time": "2023-06-27T19:34:02.580Z"
   },
   {
    "duration": 71,
    "start_time": "2023-06-27T19:34:02.598Z"
   },
   {
    "duration": 24,
    "start_time": "2023-06-27T19:34:02.672Z"
   },
   {
    "duration": 116,
    "start_time": "2023-06-27T19:34:02.698Z"
   },
   {
    "duration": 44,
    "start_time": "2023-06-27T19:34:02.816Z"
   },
   {
    "duration": 178,
    "start_time": "2023-06-27T19:34:02.863Z"
   },
   {
    "duration": 35,
    "start_time": "2023-06-27T19:34:03.043Z"
   },
   {
    "duration": 12,
    "start_time": "2023-06-27T19:34:03.079Z"
   },
   {
    "duration": 163,
    "start_time": "2023-06-27T19:34:03.094Z"
   },
   {
    "duration": 18,
    "start_time": "2023-06-27T19:34:03.259Z"
   },
   {
    "duration": 42,
    "start_time": "2023-06-27T19:34:03.279Z"
   },
   {
    "duration": 106,
    "start_time": "2023-06-27T19:34:03.323Z"
   },
   {
    "duration": 34,
    "start_time": "2023-06-27T19:34:03.430Z"
   },
   {
    "duration": 20,
    "start_time": "2023-06-27T19:34:03.467Z"
   },
   {
    "duration": 75,
    "start_time": "2023-06-27T19:34:03.489Z"
   },
   {
    "duration": 41,
    "start_time": "2023-06-27T19:34:03.607Z"
   },
   {
    "duration": 14,
    "start_time": "2023-06-27T19:34:03.650Z"
   }
  ],
  "kernelspec": {
   "display_name": "Python 3 (ipykernel)",
   "language": "python",
   "name": "python3"
  },
  "language_info": {
   "codemirror_mode": {
    "name": "ipython",
    "version": 3
   },
   "file_extension": ".py",
   "mimetype": "text/x-python",
   "name": "python",
   "nbconvert_exporter": "python",
   "pygments_lexer": "ipython3",
   "version": "3.10.9"
  },
  "toc": {
   "base_numbering": 1,
   "nav_menu": {},
   "number_sections": true,
   "sideBar": false,
   "skip_h1_title": true,
   "title_cell": "Содержание",
   "title_sidebar": "Contents",
   "toc_cell": true,
   "toc_position": {
    "height": "645.99px",
    "left": "180px",
    "top": "111.125px",
    "width": "241.771px"
   },
   "toc_section_display": true,
   "toc_window_display": false
  }
 },
 "nbformat": 4,
 "nbformat_minor": 2
}
