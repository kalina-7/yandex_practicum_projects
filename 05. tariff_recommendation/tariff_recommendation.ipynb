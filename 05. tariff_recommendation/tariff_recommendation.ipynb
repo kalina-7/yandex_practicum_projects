{
 "cells": [
  {
   "cell_type": "markdown",
   "metadata": {},
   "source": [
    "# Рекомендация тарифов клиенту компании сотовой связи."
   ]
  },
  {
   "cell_type": "markdown",
   "metadata": {},
   "source": [
    "На уже предобработанных данных требуется построить модель для задачи классификации, которая выберет подходящий тариф клиенту компании сотовой связи.\n",
    "\n",
    "Требуется построить модель с максимально большим значением *accuracy*, минимально допустимое значение метрики - 0.75.\n",
    "\n",
    "**Описание данных**\n",
    "\n",
    "Каждый объект в наборе данных — это информация о поведении одного пользователя за месяц. Известно:\n",
    "- `сalls` — количество звонков,\n",
    "- `minutes` — суммарная длительность звонков в минутах,\n",
    "- `messages` — количество sms-сообщений,\n",
    "- `mb_used` — израсходованный интернет-трафик в Мб,\n",
    "- `is_ultra` — каким тарифом пользовался в течение месяца («Ультра» — 1, «Смарт» — 0).\n"
   ]
  },
  {
   "cell_type": "markdown",
   "metadata": {},
   "source": [
    "## Откроем и изучим файл"
   ]
  },
  {
   "cell_type": "code",
   "execution_count": 1,
   "metadata": {},
   "outputs": [],
   "source": [
    "import pandas as pd\n",
    "from sklearn.tree import DecisionTreeClassifier\n",
    "from sklearn.ensemble import RandomForestClassifier\n",
    "from sklearn.linear_model import LogisticRegression\n",
    "from sklearn.dummy import DummyClassifier\n",
    "from sklearn.metrics import accuracy_score\n",
    "from sklearn.model_selection import train_test_split"
   ]
  },
  {
   "cell_type": "code",
   "execution_count": 2,
   "metadata": {},
   "outputs": [],
   "source": [
    "try:\n",
    "    data = pd.read_csv('/datasets/users_behavior.csv')\n",
    "except:\n",
    "    data = pd.read_csv('/tariff_recommendation/users_behavior.csv')"
   ]
  },
  {
   "cell_type": "code",
   "execution_count": 3,
   "metadata": {},
   "outputs": [
    {
     "data": {
      "text/html": [
       "<div>\n",
       "<style scoped>\n",
       "    .dataframe tbody tr th:only-of-type {\n",
       "        vertical-align: middle;\n",
       "    }\n",
       "\n",
       "    .dataframe tbody tr th {\n",
       "        vertical-align: top;\n",
       "    }\n",
       "\n",
       "    .dataframe thead th {\n",
       "        text-align: right;\n",
       "    }\n",
       "</style>\n",
       "<table border=\"1\" class=\"dataframe\">\n",
       "  <thead>\n",
       "    <tr style=\"text-align: right;\">\n",
       "      <th></th>\n",
       "      <th>calls</th>\n",
       "      <th>minutes</th>\n",
       "      <th>messages</th>\n",
       "      <th>mb_used</th>\n",
       "      <th>is_ultra</th>\n",
       "    </tr>\n",
       "  </thead>\n",
       "  <tbody>\n",
       "    <tr>\n",
       "      <th>0</th>\n",
       "      <td>40.0</td>\n",
       "      <td>311.90</td>\n",
       "      <td>83.0</td>\n",
       "      <td>19915.42</td>\n",
       "      <td>0</td>\n",
       "    </tr>\n",
       "    <tr>\n",
       "      <th>1</th>\n",
       "      <td>85.0</td>\n",
       "      <td>516.75</td>\n",
       "      <td>56.0</td>\n",
       "      <td>22696.96</td>\n",
       "      <td>0</td>\n",
       "    </tr>\n",
       "    <tr>\n",
       "      <th>2</th>\n",
       "      <td>77.0</td>\n",
       "      <td>467.66</td>\n",
       "      <td>86.0</td>\n",
       "      <td>21060.45</td>\n",
       "      <td>0</td>\n",
       "    </tr>\n",
       "    <tr>\n",
       "      <th>3</th>\n",
       "      <td>106.0</td>\n",
       "      <td>745.53</td>\n",
       "      <td>81.0</td>\n",
       "      <td>8437.39</td>\n",
       "      <td>1</td>\n",
       "    </tr>\n",
       "    <tr>\n",
       "      <th>4</th>\n",
       "      <td>66.0</td>\n",
       "      <td>418.74</td>\n",
       "      <td>1.0</td>\n",
       "      <td>14502.75</td>\n",
       "      <td>0</td>\n",
       "    </tr>\n",
       "  </tbody>\n",
       "</table>\n",
       "</div>"
      ],
      "text/plain": [
       "   calls  minutes  messages   mb_used  is_ultra\n",
       "0   40.0   311.90      83.0  19915.42         0\n",
       "1   85.0   516.75      56.0  22696.96         0\n",
       "2   77.0   467.66      86.0  21060.45         0\n",
       "3  106.0   745.53      81.0   8437.39         1\n",
       "4   66.0   418.74       1.0  14502.75         0"
      ]
     },
     "execution_count": 3,
     "metadata": {},
     "output_type": "execute_result"
    }
   ],
   "source": [
    "data.head()"
   ]
  },
  {
   "cell_type": "code",
   "execution_count": 4,
   "metadata": {},
   "outputs": [
    {
     "name": "stdout",
     "output_type": "stream",
     "text": [
      "<class 'pandas.core.frame.DataFrame'>\n",
      "RangeIndex: 3214 entries, 0 to 3213\n",
      "Data columns (total 5 columns):\n",
      " #   Column    Non-Null Count  Dtype  \n",
      "---  ------    --------------  -----  \n",
      " 0   calls     3214 non-null   float64\n",
      " 1   minutes   3214 non-null   float64\n",
      " 2   messages  3214 non-null   float64\n",
      " 3   mb_used   3214 non-null   float64\n",
      " 4   is_ultra  3214 non-null   int64  \n",
      "dtypes: float64(4), int64(1)\n",
      "memory usage: 125.7 KB\n"
     ]
    }
   ],
   "source": [
    "data.info()"
   ]
  },
  {
   "cell_type": "markdown",
   "metadata": {},
   "source": [
    "Открыл файл и изучил данные в нём. Так как предобработка уже сделана - никаких аномалий мной не выявлено. Определён целевой признак - столбец `is_ultra`. Исходя из этого будет происходить дальнейшая работа."
   ]
  },
  {
   "cell_type": "markdown",
   "metadata": {},
   "source": [
    "## Разделим данные на выборки"
   ]
  },
  {
   "cell_type": "code",
   "execution_count": 5,
   "metadata": {},
   "outputs": [],
   "source": [
    "features = data.drop(['is_ultra'], axis=1)\n",
    "target = data['is_ultra']"
   ]
  },
  {
   "cell_type": "code",
   "execution_count": 6,
   "metadata": {},
   "outputs": [],
   "source": [
    "features_train, features_valid, target_train, target_valid = train_test_split(\n",
    "    features, target, test_size=0.4, random_state=12345, stratify=target) "
   ]
  },
  {
   "cell_type": "code",
   "execution_count": 7,
   "metadata": {},
   "outputs": [],
   "source": [
    "features_valid, features_test, target_valid, target_test = train_test_split(\n",
    "    features_valid, target_valid, test_size=0.5, random_state=12345, stratify=target_valid)"
   ]
  },
  {
   "cell_type": "code",
   "execution_count": 8,
   "metadata": {},
   "outputs": [
    {
     "name": "stdout",
     "output_type": "stream",
     "text": [
      "(1928, 4)\n",
      "(1928,)\n",
      "(643, 4)\n",
      "(643,)\n",
      "(643, 4)\n",
      "(643,)\n"
     ]
    }
   ],
   "source": [
    "print(features_train.shape)\n",
    "print(target_train.shape)\n",
    "print(features_valid.shape)\n",
    "print(target_valid.shape)\n",
    "print(features_test.shape)\n",
    "print(target_test.shape)"
   ]
  },
  {
   "cell_type": "markdown",
   "metadata": {},
   "source": [
    "Разделил данные на три выборки - обучающую, валидационную и тестовую, в соотношении 3:1:1. Выполнил проверку, что данные разделены правильно. "
   ]
  },
  {
   "cell_type": "markdown",
   "metadata": {},
   "source": [
    "## Исследуем модели"
   ]
  },
  {
   "cell_type": "markdown",
   "metadata": {},
   "source": [
    "**Модель Дерево решений.**"
   ]
  },
  {
   "cell_type": "code",
   "execution_count": 9,
   "metadata": {},
   "outputs": [
    {
     "name": "stdout",
     "output_type": "stream",
     "text": [
      "max_depth = 1 : 0.7402799377916018\n",
      "max_depth = 2 : 0.7729393468118196\n",
      "max_depth = 3 : 0.7776049766718507\n",
      "max_depth = 4 : 0.7542768273716952\n",
      "max_depth = 5 : 0.7853810264385692\n",
      "max_depth = 6 : 0.7744945567651633\n",
      "max_depth = 7 : 0.7869362363919129\n",
      "max_depth = 8 : 0.80248833592535\n",
      "max_depth = 9 : 0.7822706065318819\n",
      "max_depth = 10 : 0.7729393468118196\n"
     ]
    }
   ],
   "source": [
    "for depth in range(1, 11):\n",
    "    model = model = DecisionTreeClassifier(max_depth=depth, random_state=12345)\n",
    "    model.fit(features_train, target_train)\n",
    "    predictions_valid = model.predict(features_valid)\n",
    "    \n",
    "    print(\"max_depth =\", depth, \": \", end='')\n",
    "    print(accuracy_score(target_valid, predictions_valid))"
   ]
  },
  {
   "cell_type": "markdown",
   "metadata": {},
   "source": [
    "При глубине дерева равной восьми достигнута максимальная accuracy - 0.80248833592535."
   ]
  },
  {
   "cell_type": "markdown",
   "metadata": {},
   "source": [
    "**Модель Случайный лес.**"
   ]
  },
  {
   "cell_type": "code",
   "execution_count": 10,
   "metadata": {},
   "outputs": [
    {
     "name": "stdout",
     "output_type": "stream",
     "text": [
      "Accuracy наилучшей модели на валидационной выборке: 0.7993779160186625 при 21 деревьях в лесу\n"
     ]
    }
   ],
   "source": [
    "best_model = None\n",
    "best_est = 0\n",
    "best_result = 0\n",
    "for est in range(1, 24):\n",
    "    model = RandomForestClassifier(random_state=12345, n_estimators=est)\n",
    "    model.fit(features_train, target_train)\n",
    "    result = model.score(features_valid, target_valid)\n",
    "    if result > best_result:\n",
    "        best_model = model\n",
    "        best_est = est\n",
    "        best_result = result\n",
    "\n",
    "print(\"Accuracy наилучшей модели на валидационной выборке:\", best_result, 'при', best_est, 'деревьях в лесу')"
   ]
  },
  {
   "cell_type": "markdown",
   "metadata": {},
   "source": [
    "**Модель Логистическая регрессия.**"
   ]
  },
  {
   "cell_type": "code",
   "execution_count": 11,
   "metadata": {},
   "outputs": [
    {
     "name": "stdout",
     "output_type": "stream",
     "text": [
      "Accuracy: 0.7387247278382582\n"
     ]
    }
   ],
   "source": [
    "model = LogisticRegression(random_state=12345, solver='lbfgs', max_iter=1000)\n",
    "model.fit(features_train, target_train)\n",
    "\n",
    "prediction_valid = model.predict(features_valid)\n",
    "result = accuracy_score(prediction_valid, target_valid)\n",
    "\n",
    "print('Accuracy:', result)"
   ]
  },
  {
   "cell_type": "markdown",
   "metadata": {},
   "source": [
    "Провел исследование качества разных моделей - Дерево решений, Случайный лес и Логистическая регрессия.\n",
    "\n",
    "В Дереве решений изменил гиперпараметр  max_depth от 1 до 10 в цикле. Результаты вывел на экран, accuracy во всех вариантах модели больше минимально допустимой - 0.75. наилучший вариант - 8, с показателем 0.80248833592535.\n",
    "\n",
    "В Модели Случайный лес изменил гиперпараметр n_estimators в цикле от 1 до 25. Наилучшая модель показала accuracy - 0.7993779160186625 при 21 деревьях.\n",
    "\n",
    "В модели Логистическая регрессия показатель accuracy оказался даже ниже допустимого - 0.7387247278382582.\n",
    "\n",
    "Наилучший результат показала модель Дерево решений. \n",
    "\n",
    "Для проверки модели на тестовой выборке будем использовать модель Дерево решений."
   ]
  },
  {
   "cell_type": "markdown",
   "metadata": {},
   "source": [
    "## Проверим модель на тестовой выборке"
   ]
  },
  {
   "cell_type": "code",
   "execution_count": 12,
   "metadata": {},
   "outputs": [],
   "source": [
    "features_uni = pd.concat([features_train,features_valid])"
   ]
  },
  {
   "cell_type": "code",
   "execution_count": 13,
   "metadata": {},
   "outputs": [],
   "source": [
    "target_uni = pd.concat([target_train,target_valid])"
   ]
  },
  {
   "cell_type": "code",
   "execution_count": 14,
   "metadata": {},
   "outputs": [
    {
     "name": "stdout",
     "output_type": "stream",
     "text": [
      "(2571, 4)\n",
      "(2571,)\n"
     ]
    }
   ],
   "source": [
    "print(features_uni.shape)\n",
    "print(target_uni.shape)"
   ]
  },
  {
   "cell_type": "code",
   "execution_count": 15,
   "metadata": {},
   "outputs": [
    {
     "name": "stdout",
     "output_type": "stream",
     "text": [
      "Accuracy модели на тестовой выборке: 0.807153965785381\n"
     ]
    }
   ],
   "source": [
    "model = DecisionTreeClassifier(random_state=12345, max_depth=8)\n",
    "model.fit(features_uni, target_uni)\n",
    "result = model.score(features_test, target_test)\n",
    "\n",
    "print(\"Accuracy модели на тестовой выборке:\", result)"
   ]
  },
  {
   "cell_type": "markdown",
   "metadata": {},
   "source": [
    "Accuracy модели Дерево решений на тестовой выборке: 0.807153965785381."
   ]
  },
  {
   "cell_type": "markdown",
   "metadata": {},
   "source": [
    "## Проверим модели на адекватность"
   ]
  },
  {
   "cell_type": "code",
   "execution_count": 16,
   "metadata": {},
   "outputs": [
    {
     "name": "stdout",
     "output_type": "stream",
     "text": [
      "Accuracy проверочной модели: 0.6936236391912908\n"
     ]
    }
   ],
   "source": [
    "model = DummyClassifier(strategy='prior', random_state=12345)\n",
    "model.fit(features_uni, target_uni)\n",
    "result = model.score(features_test, target_test)\n",
    "print('Accuracy проверочной модели:', result)                     "
   ]
  },
  {
   "cell_type": "markdown",
   "metadata": {},
   "source": [
    "Для проверки модели на адекватность использовал модель DummyClassifier. Accuracy проверочной модели меньше чем у выбранной нами модели Дерево решений. Значит наша модель прошла проверку на адекватность."
   ]
  },
  {
   "cell_type": "markdown",
   "metadata": {},
   "source": [
    "**Вывод**\n",
    "\n",
    "Предоставленный файл, прошедший предобработку, никаких аномалий не имеет.\n",
    "\n",
    "Данные разбили на три выборки - обучающую, валидационную и тестовую в пропорции 3:1:1.\n",
    "\n",
    "Были исследованы три модели - DecisionTreeClassifier (Дерево решений), RandomForestClassifier (Случайный лес) и LogisticRegression (Логистическая регрессия).\n",
    "\n",
    "Наилучший результат показала модель DecisionTreeClassifier (Дерево решений) - accuracy - 0.80248833592535.\n",
    "\n",
    "Выполнил объединение обучающей и валидационной выборок для проверки модели на тестовой выборке.\n",
    "\n",
    "Модель DecisionTreeClassifier была выбрана для проверки на тестовой выборке, которая показала accuracy - 0.807153965785381.\n",
    "\n",
    "Провели проверку на адекватность с помощью модели DummyClassifier, accuracy которой оказалось - 0.6936236391912908.\n",
    "\n",
    "Исходя из этого делаем вывод, что выбранная нами модель эффективна и адекватна."
   ]
  }
 ],
 "metadata": {
  "ExecuteTimeLog": [
   {
    "duration": 469,
    "start_time": "2023-01-25T17:00:46.978Z"
   },
   {
    "duration": 142,
    "start_time": "2023-01-25T17:00:48.043Z"
   },
   {
    "duration": 64,
    "start_time": "2023-01-25T17:02:18.781Z"
   },
   {
    "duration": 1155,
    "start_time": "2023-01-25T17:04:03.460Z"
   },
   {
    "duration": 27,
    "start_time": "2023-01-25T17:04:04.617Z"
   },
   {
    "duration": 24,
    "start_time": "2023-01-25T17:04:48.514Z"
   },
   {
    "duration": 14,
    "start_time": "2023-01-25T17:05:11.327Z"
   },
   {
    "duration": 113,
    "start_time": "2023-01-25T17:06:30.178Z"
   },
   {
    "duration": 5,
    "start_time": "2023-01-25T17:07:20.185Z"
   },
   {
    "duration": 3,
    "start_time": "2023-01-25T17:23:29.244Z"
   },
   {
    "duration": 6,
    "start_time": "2023-01-25T17:26:22.854Z"
   },
   {
    "duration": 7,
    "start_time": "2023-01-25T17:27:25.645Z"
   },
   {
    "duration": 14,
    "start_time": "2023-01-25T17:28:10.758Z"
   },
   {
    "duration": 11,
    "start_time": "2023-01-25T17:28:24.254Z"
   },
   {
    "duration": 3,
    "start_time": "2023-01-25T17:29:49.504Z"
   },
   {
    "duration": 27,
    "start_time": "2023-01-25T17:29:50.437Z"
   },
   {
    "duration": 14,
    "start_time": "2023-01-25T17:29:51.222Z"
   },
   {
    "duration": 13,
    "start_time": "2023-01-25T17:29:54.654Z"
   },
   {
    "duration": 4,
    "start_time": "2023-01-25T17:29:57.894Z"
   },
   {
    "duration": 5,
    "start_time": "2023-01-25T17:29:58.941Z"
   },
   {
    "duration": 6,
    "start_time": "2023-01-25T17:29:59.686Z"
   },
   {
    "duration": 8,
    "start_time": "2023-01-25T17:30:29.367Z"
   },
   {
    "duration": 8,
    "start_time": "2023-01-25T17:31:18.465Z"
   },
   {
    "duration": 68,
    "start_time": "2023-01-25T18:02:28.174Z"
   },
   {
    "duration": 4,
    "start_time": "2023-01-25T18:03:38.222Z"
   },
   {
    "duration": 4,
    "start_time": "2023-01-25T18:05:34.783Z"
   },
   {
    "duration": 6,
    "start_time": "2023-01-25T18:07:03.913Z"
   },
   {
    "duration": 5,
    "start_time": "2023-01-25T18:09:52.380Z"
   },
   {
    "duration": 5,
    "start_time": "2023-01-25T18:09:52.970Z"
   },
   {
    "duration": 4,
    "start_time": "2023-01-25T18:09:53.458Z"
   },
   {
    "duration": 1152,
    "start_time": "2023-01-25T18:18:49.927Z"
   },
   {
    "duration": 26,
    "start_time": "2023-01-25T18:18:51.082Z"
   },
   {
    "duration": 22,
    "start_time": "2023-01-25T18:18:51.110Z"
   },
   {
    "duration": 50,
    "start_time": "2023-01-25T18:18:51.134Z"
   },
   {
    "duration": 30,
    "start_time": "2023-01-25T18:18:51.187Z"
   },
   {
    "duration": 14,
    "start_time": "2023-01-25T18:18:51.220Z"
   },
   {
    "duration": 6,
    "start_time": "2023-01-25T18:18:51.236Z"
   },
   {
    "duration": 19,
    "start_time": "2023-01-25T18:18:51.244Z"
   },
   {
    "duration": 109,
    "start_time": "2023-01-25T18:19:29.931Z"
   },
   {
    "duration": 11,
    "start_time": "2023-01-25T18:19:38.602Z"
   },
   {
    "duration": 7,
    "start_time": "2023-01-25T18:19:49.891Z"
   },
   {
    "duration": 4,
    "start_time": "2023-01-25T18:22:06.788Z"
   },
   {
    "duration": 12,
    "start_time": "2023-01-25T18:23:47.057Z"
   },
   {
    "duration": 7,
    "start_time": "2023-01-25T18:24:05.760Z"
   },
   {
    "duration": 1242,
    "start_time": "2023-01-25T18:26:52.146Z"
   },
   {
    "duration": 30,
    "start_time": "2023-01-25T18:26:53.391Z"
   },
   {
    "duration": 34,
    "start_time": "2023-01-25T18:26:53.424Z"
   },
   {
    "duration": 28,
    "start_time": "2023-01-25T18:26:53.460Z"
   },
   {
    "duration": 32,
    "start_time": "2023-01-25T18:26:53.490Z"
   },
   {
    "duration": 33,
    "start_time": "2023-01-25T18:26:53.524Z"
   },
   {
    "duration": 27,
    "start_time": "2023-01-25T18:26:53.559Z"
   },
   {
    "duration": 34,
    "start_time": "2023-01-25T18:26:53.588Z"
   },
   {
    "duration": 42,
    "start_time": "2023-01-25T18:26:53.624Z"
   },
   {
    "duration": 56,
    "start_time": "2023-01-25T18:29:49.098Z"
   },
   {
    "duration": 103,
    "start_time": "2023-01-25T18:30:06.339Z"
   },
   {
    "duration": 254,
    "start_time": "2023-01-25T18:30:34.082Z"
   },
   {
    "duration": 118,
    "start_time": "2023-01-25T18:30:49.691Z"
   },
   {
    "duration": 4,
    "start_time": "2023-01-25T18:32:09.044Z"
   },
   {
    "duration": 328,
    "start_time": "2023-01-25T18:33:21.933Z"
   },
   {
    "duration": 5,
    "start_time": "2023-01-25T18:35:00.662Z"
   },
   {
    "duration": 5,
    "start_time": "2023-01-25T18:36:17.368Z"
   },
   {
    "duration": 677,
    "start_time": "2023-01-25T18:37:31.625Z"
   },
   {
    "duration": 754,
    "start_time": "2023-01-25T18:39:20.450Z"
   },
   {
    "duration": 340,
    "start_time": "2023-01-25T18:39:38.066Z"
   },
   {
    "duration": 1077,
    "start_time": "2023-01-25T18:40:13.506Z"
   },
   {
    "duration": 2035,
    "start_time": "2023-01-25T18:46:07.051Z"
   },
   {
    "duration": 543,
    "start_time": "2023-01-25T18:46:16.863Z"
   },
   {
    "duration": 841,
    "start_time": "2023-01-25T18:46:39.767Z"
   },
   {
    "duration": 1264,
    "start_time": "2023-01-25T18:46:49.263Z"
   },
   {
    "duration": 3676,
    "start_time": "2023-01-25T18:47:01.127Z"
   },
   {
    "duration": 432,
    "start_time": "2023-01-25T18:47:14.271Z"
   },
   {
    "duration": 350,
    "start_time": "2023-01-25T18:52:02.467Z"
   },
   {
    "duration": 341,
    "start_time": "2023-01-25T18:52:33.373Z"
   },
   {
    "duration": 7,
    "start_time": "2023-01-25T19:21:13.657Z"
   },
   {
    "duration": 97,
    "start_time": "2023-01-25T19:21:26.336Z"
   },
   {
    "duration": 322,
    "start_time": "2023-01-25T19:21:30.336Z"
   },
   {
    "duration": 1916,
    "start_time": "2023-01-25T19:21:31.625Z"
   },
   {
    "duration": 1241,
    "start_time": "2023-01-25T19:21:51.386Z"
   },
   {
    "duration": 35,
    "start_time": "2023-01-25T19:21:52.629Z"
   },
   {
    "duration": 28,
    "start_time": "2023-01-25T19:21:52.666Z"
   },
   {
    "duration": 17,
    "start_time": "2023-01-25T19:21:52.697Z"
   },
   {
    "duration": 8,
    "start_time": "2023-01-25T19:21:52.717Z"
   },
   {
    "duration": 7,
    "start_time": "2023-01-25T19:21:52.727Z"
   },
   {
    "duration": 8,
    "start_time": "2023-01-25T19:21:52.736Z"
   },
   {
    "duration": 7,
    "start_time": "2023-01-25T19:21:52.746Z"
   },
   {
    "duration": 9,
    "start_time": "2023-01-25T19:21:52.755Z"
   },
   {
    "duration": 105,
    "start_time": "2023-01-25T19:21:52.787Z"
   },
   {
    "duration": 309,
    "start_time": "2023-01-25T19:21:52.898Z"
   },
   {
    "duration": 1779,
    "start_time": "2023-01-25T19:21:53.209Z"
   },
   {
    "duration": 331,
    "start_time": "2023-01-25T19:21:54.990Z"
   },
   {
    "duration": 1786,
    "start_time": "2023-01-25T19:22:36.465Z"
   },
   {
    "duration": 28,
    "start_time": "2023-01-25T19:22:38.254Z"
   },
   {
    "duration": 40,
    "start_time": "2023-01-25T19:22:38.289Z"
   },
   {
    "duration": 48,
    "start_time": "2023-01-25T19:22:38.331Z"
   },
   {
    "duration": 35,
    "start_time": "2023-01-25T19:22:38.382Z"
   },
   {
    "duration": 40,
    "start_time": "2023-01-25T19:22:38.419Z"
   },
   {
    "duration": 89,
    "start_time": "2023-01-25T19:22:38.461Z"
   },
   {
    "duration": 27,
    "start_time": "2023-01-25T19:22:38.552Z"
   },
   {
    "duration": 46,
    "start_time": "2023-01-25T19:22:38.581Z"
   },
   {
    "duration": 122,
    "start_time": "2023-01-25T19:22:38.630Z"
   },
   {
    "duration": 323,
    "start_time": "2023-01-25T19:22:38.754Z"
   },
   {
    "duration": 1610,
    "start_time": "2023-01-25T19:22:39.079Z"
   },
   {
    "duration": 337,
    "start_time": "2023-01-25T19:22:40.691Z"
   },
   {
    "duration": 1531,
    "start_time": "2023-01-25T19:23:26.434Z"
   },
   {
    "duration": 41,
    "start_time": "2023-01-25T19:23:27.968Z"
   },
   {
    "duration": 37,
    "start_time": "2023-01-25T19:23:28.011Z"
   },
   {
    "duration": 15,
    "start_time": "2023-01-25T19:23:28.051Z"
   },
   {
    "duration": 47,
    "start_time": "2023-01-25T19:23:28.069Z"
   },
   {
    "duration": 24,
    "start_time": "2023-01-25T19:23:28.119Z"
   },
   {
    "duration": 17,
    "start_time": "2023-01-25T19:23:28.145Z"
   },
   {
    "duration": 31,
    "start_time": "2023-01-25T19:23:28.165Z"
   },
   {
    "duration": 36,
    "start_time": "2023-01-25T19:23:28.198Z"
   },
   {
    "duration": 115,
    "start_time": "2023-01-25T19:23:28.236Z"
   },
   {
    "duration": 348,
    "start_time": "2023-01-25T19:23:28.353Z"
   },
   {
    "duration": 2113,
    "start_time": "2023-01-25T19:23:28.703Z"
   },
   {
    "duration": 364,
    "start_time": "2023-01-25T19:23:30.818Z"
   },
   {
    "duration": 6,
    "start_time": "2023-01-25T19:46:20.915Z"
   },
   {
    "duration": 7,
    "start_time": "2023-01-25T19:49:39.655Z"
   },
   {
    "duration": 41,
    "start_time": "2023-01-25T19:51:06.351Z"
   },
   {
    "duration": 6,
    "start_time": "2023-01-25T19:51:23.955Z"
   },
   {
    "duration": 9,
    "start_time": "2023-01-25T19:51:49.927Z"
   },
   {
    "duration": 6,
    "start_time": "2023-01-25T19:52:05.041Z"
   },
   {
    "duration": 6,
    "start_time": "2023-01-25T19:52:22.372Z"
   },
   {
    "duration": 8,
    "start_time": "2023-01-25T19:52:41.913Z"
   },
   {
    "duration": 8,
    "start_time": "2023-01-25T20:04:25.610Z"
   },
   {
    "duration": 6,
    "start_time": "2023-01-25T20:45:24.310Z"
   },
   {
    "duration": 1185,
    "start_time": "2023-01-25T20:46:54.189Z"
   },
   {
    "duration": 26,
    "start_time": "2023-01-25T20:46:55.377Z"
   },
   {
    "duration": 22,
    "start_time": "2023-01-25T20:46:55.405Z"
   },
   {
    "duration": 13,
    "start_time": "2023-01-25T20:46:55.429Z"
   },
   {
    "duration": 5,
    "start_time": "2023-01-25T20:46:55.445Z"
   },
   {
    "duration": 13,
    "start_time": "2023-01-25T20:46:55.451Z"
   },
   {
    "duration": 19,
    "start_time": "2023-01-25T20:46:55.466Z"
   },
   {
    "duration": 5,
    "start_time": "2023-01-25T20:46:55.487Z"
   },
   {
    "duration": 6,
    "start_time": "2023-01-25T20:46:55.494Z"
   },
   {
    "duration": 101,
    "start_time": "2023-01-25T20:46:55.501Z"
   },
   {
    "duration": 317,
    "start_time": "2023-01-25T20:46:55.604Z"
   },
   {
    "duration": 662,
    "start_time": "2023-01-25T20:46:55.923Z"
   },
   {
    "duration": 313,
    "start_time": "2023-01-25T20:46:56.587Z"
   },
   {
    "duration": 6,
    "start_time": "2023-01-25T20:46:56.903Z"
   },
   {
    "duration": 1149,
    "start_time": "2023-01-25T20:48:14.326Z"
   },
   {
    "duration": 27,
    "start_time": "2023-01-25T20:48:15.478Z"
   },
   {
    "duration": 21,
    "start_time": "2023-01-25T20:48:15.508Z"
   },
   {
    "duration": 12,
    "start_time": "2023-01-25T20:48:15.532Z"
   },
   {
    "duration": 11,
    "start_time": "2023-01-25T20:48:15.546Z"
   },
   {
    "duration": 20,
    "start_time": "2023-01-25T20:48:15.559Z"
   },
   {
    "duration": 44,
    "start_time": "2023-01-25T20:48:15.581Z"
   },
   {
    "duration": 13,
    "start_time": "2023-01-25T20:48:15.627Z"
   },
   {
    "duration": 105,
    "start_time": "2023-01-25T20:48:15.642Z"
   },
   {
    "duration": 309,
    "start_time": "2023-01-25T20:48:15.749Z"
   },
   {
    "duration": 543,
    "start_time": "2023-01-25T20:48:16.059Z"
   },
   {
    "duration": 339,
    "start_time": "2023-01-25T20:48:16.604Z"
   },
   {
    "duration": 6,
    "start_time": "2023-01-25T20:48:16.945Z"
   },
   {
    "duration": 8,
    "start_time": "2023-01-25T20:51:09.867Z"
   },
   {
    "duration": 1168,
    "start_time": "2023-01-26T10:56:49.634Z"
   },
   {
    "duration": 137,
    "start_time": "2023-01-26T10:56:50.804Z"
   },
   {
    "duration": 26,
    "start_time": "2023-01-26T10:56:50.943Z"
   },
   {
    "duration": 14,
    "start_time": "2023-01-26T10:56:50.970Z"
   },
   {
    "duration": 5,
    "start_time": "2023-01-26T10:56:50.987Z"
   },
   {
    "duration": 12,
    "start_time": "2023-01-26T10:56:50.993Z"
   },
   {
    "duration": 7,
    "start_time": "2023-01-26T10:56:51.006Z"
   },
   {
    "duration": 15,
    "start_time": "2023-01-26T10:56:51.014Z"
   },
   {
    "duration": 99,
    "start_time": "2023-01-26T10:56:51.030Z"
   },
   {
    "duration": 284,
    "start_time": "2023-01-26T10:56:51.131Z"
   },
   {
    "duration": 1322,
    "start_time": "2023-01-26T10:56:51.417Z"
   },
   {
    "duration": 0,
    "start_time": "2023-01-26T10:56:52.741Z"
   },
   {
    "duration": 0,
    "start_time": "2023-01-26T10:56:52.742Z"
   },
   {
    "duration": 1222,
    "start_time": "2023-01-26T10:59:54.136Z"
   },
   {
    "duration": 31,
    "start_time": "2023-01-26T10:59:55.362Z"
   },
   {
    "duration": 26,
    "start_time": "2023-01-26T10:59:55.395Z"
   },
   {
    "duration": 13,
    "start_time": "2023-01-26T10:59:55.423Z"
   },
   {
    "duration": 4,
    "start_time": "2023-01-26T10:59:55.440Z"
   },
   {
    "duration": 26,
    "start_time": "2023-01-26T10:59:55.446Z"
   },
   {
    "duration": 7,
    "start_time": "2023-01-26T10:59:55.474Z"
   },
   {
    "duration": 15,
    "start_time": "2023-01-26T10:59:55.482Z"
   },
   {
    "duration": 93,
    "start_time": "2023-01-26T10:59:55.499Z"
   },
   {
    "duration": 276,
    "start_time": "2023-01-26T10:59:55.594Z"
   },
   {
    "duration": 679,
    "start_time": "2023-01-26T10:59:55.872Z"
   },
   {
    "duration": 299,
    "start_time": "2023-01-26T10:59:56.553Z"
   },
   {
    "duration": 8,
    "start_time": "2023-01-26T10:59:56.855Z"
   },
   {
    "duration": 82,
    "start_time": "2023-01-26T11:17:25.042Z"
   },
   {
    "duration": 70,
    "start_time": "2023-01-26T11:19:10.658Z"
   },
   {
    "duration": 83,
    "start_time": "2023-01-26T11:19:39.257Z"
   },
   {
    "duration": 1442,
    "start_time": "2023-01-26T11:20:19.737Z"
   },
   {
    "duration": 91,
    "start_time": "2023-01-26T11:57:43.747Z"
   },
   {
    "duration": 2,
    "start_time": "2023-01-26T12:04:41.566Z"
   },
   {
    "duration": 1180,
    "start_time": "2023-01-26T12:24:23.751Z"
   },
   {
    "duration": 36,
    "start_time": "2023-01-26T12:24:24.933Z"
   },
   {
    "duration": 20,
    "start_time": "2023-01-26T12:24:24.971Z"
   },
   {
    "duration": 11,
    "start_time": "2023-01-26T12:24:24.993Z"
   },
   {
    "duration": 5,
    "start_time": "2023-01-26T12:24:25.006Z"
   },
   {
    "duration": 6,
    "start_time": "2023-01-26T12:24:25.013Z"
   },
   {
    "duration": 5,
    "start_time": "2023-01-26T12:24:25.021Z"
   },
   {
    "duration": 14,
    "start_time": "2023-01-26T12:24:25.028Z"
   },
   {
    "duration": 95,
    "start_time": "2023-01-26T12:24:25.043Z"
   },
   {
    "duration": 269,
    "start_time": "2023-01-26T12:24:25.140Z"
   },
   {
    "duration": 1291,
    "start_time": "2023-01-26T12:24:25.411Z"
   },
   {
    "duration": 359,
    "start_time": "2023-01-26T12:24:26.704Z"
   },
   {
    "duration": 6,
    "start_time": "2023-01-26T12:24:27.065Z"
   },
   {
    "duration": 1958,
    "start_time": "2023-01-26T12:37:33.774Z"
   },
   {
    "duration": 175,
    "start_time": "2023-01-26T12:37:35.734Z"
   },
   {
    "duration": 21,
    "start_time": "2023-01-26T12:37:35.911Z"
   },
   {
    "duration": 63,
    "start_time": "2023-01-26T12:37:35.934Z"
   },
   {
    "duration": 16,
    "start_time": "2023-01-26T12:37:35.999Z"
   },
   {
    "duration": 29,
    "start_time": "2023-01-26T12:37:36.017Z"
   },
   {
    "duration": 66,
    "start_time": "2023-01-26T12:37:36.048Z"
   },
   {
    "duration": 15,
    "start_time": "2023-01-26T12:37:36.117Z"
   },
   {
    "duration": 167,
    "start_time": "2023-01-26T12:37:36.134Z"
   },
   {
    "duration": 326,
    "start_time": "2023-01-26T12:37:36.305Z"
   },
   {
    "duration": 1522,
    "start_time": "2023-01-26T12:37:36.633Z"
   },
   {
    "duration": 340,
    "start_time": "2023-01-26T12:37:38.156Z"
   },
   {
    "duration": 6,
    "start_time": "2023-01-26T12:37:38.500Z"
   },
   {
    "duration": 47,
    "start_time": "2023-01-26T15:11:10.063Z"
   },
   {
    "duration": 1233,
    "start_time": "2023-01-26T15:11:16.266Z"
   },
   {
    "duration": 127,
    "start_time": "2023-01-26T15:11:17.501Z"
   },
   {
    "duration": 20,
    "start_time": "2023-01-26T15:11:17.629Z"
   },
   {
    "duration": 12,
    "start_time": "2023-01-26T15:11:17.652Z"
   },
   {
    "duration": 3,
    "start_time": "2023-01-26T15:11:17.666Z"
   },
   {
    "duration": 9,
    "start_time": "2023-01-26T15:11:17.671Z"
   },
   {
    "duration": 6,
    "start_time": "2023-01-26T15:11:17.681Z"
   },
   {
    "duration": 6,
    "start_time": "2023-01-26T15:11:17.688Z"
   },
   {
    "duration": 72,
    "start_time": "2023-01-26T15:11:17.695Z"
   },
   {
    "duration": 265,
    "start_time": "2023-01-26T15:11:17.783Z"
   },
   {
    "duration": 89,
    "start_time": "2023-01-26T15:11:18.049Z"
   },
   {
    "duration": 257,
    "start_time": "2023-01-26T15:11:18.141Z"
   },
   {
    "duration": 6,
    "start_time": "2023-01-26T15:11:18.399Z"
   },
   {
    "duration": 38,
    "start_time": "2023-01-26T15:14:23.556Z"
   },
   {
    "duration": 25,
    "start_time": "2023-01-26T15:14:52.353Z"
   },
   {
    "duration": 25,
    "start_time": "2023-01-26T15:16:30.763Z"
   },
   {
    "duration": 24,
    "start_time": "2023-01-26T15:16:51.395Z"
   },
   {
    "duration": 35,
    "start_time": "2023-01-26T15:17:30.268Z"
   },
   {
    "duration": 36,
    "start_time": "2023-01-26T15:18:46.405Z"
   },
   {
    "duration": 99,
    "start_time": "2023-01-26T16:13:43.745Z"
   },
   {
    "duration": 9,
    "start_time": "2023-01-26T16:14:09.320Z"
   },
   {
    "duration": 10,
    "start_time": "2023-01-26T16:14:29.071Z"
   },
   {
    "duration": 13,
    "start_time": "2023-01-26T16:14:39.296Z"
   },
   {
    "duration": 6,
    "start_time": "2023-01-26T16:15:36.545Z"
   },
   {
    "duration": 12,
    "start_time": "2023-01-26T16:15:51.248Z"
   },
   {
    "duration": 6,
    "start_time": "2023-01-26T16:15:54.633Z"
   },
   {
    "duration": 245,
    "start_time": "2023-01-26T18:52:15.185Z"
   },
   {
    "duration": 256,
    "start_time": "2023-01-26T18:55:09.208Z"
   },
   {
    "duration": 476,
    "start_time": "2023-01-26T18:55:30.636Z"
   },
   {
    "duration": 2525,
    "start_time": "2023-01-26T18:57:53.965Z"
   },
   {
    "duration": 3256,
    "start_time": "2023-01-26T18:58:10.313Z"
   },
   {
    "duration": 6208,
    "start_time": "2023-01-26T18:58:20.199Z"
   },
   {
    "duration": 441,
    "start_time": "2023-01-26T18:58:45.534Z"
   },
   {
    "duration": 273,
    "start_time": "2023-01-26T19:04:57.431Z"
   },
   {
    "duration": 444,
    "start_time": "2023-01-26T19:05:04.252Z"
   },
   {
    "duration": 959,
    "start_time": "2023-01-26T19:05:16.102Z"
   },
   {
    "duration": 19192,
    "start_time": "2023-01-26T19:05:30.845Z"
   },
   {
    "duration": 1281,
    "start_time": "2023-01-26T19:06:02.845Z"
   },
   {
    "duration": 225,
    "start_time": "2023-01-26T19:10:15.729Z"
   },
   {
    "duration": 72,
    "start_time": "2023-01-26T19:10:37.644Z"
   },
   {
    "duration": 3,
    "start_time": "2023-01-26T19:12:08.027Z"
   },
   {
    "duration": 4,
    "start_time": "2023-01-26T19:14:17.349Z"
   },
   {
    "duration": 3,
    "start_time": "2023-01-26T19:14:31.501Z"
   },
   {
    "duration": 3,
    "start_time": "2023-01-26T19:14:54.281Z"
   },
   {
    "duration": 104,
    "start_time": "2023-01-26T19:18:16.232Z"
   },
   {
    "duration": 103,
    "start_time": "2023-01-26T19:18:30.086Z"
   },
   {
    "duration": 98,
    "start_time": "2023-01-26T19:18:33.969Z"
   },
   {
    "duration": 85,
    "start_time": "2023-01-26T19:18:38.247Z"
   },
   {
    "duration": 779,
    "start_time": "2023-01-26T19:19:19.673Z"
   },
   {
    "duration": 13,
    "start_time": "2023-01-26T19:19:24.415Z"
   },
   {
    "duration": 850,
    "start_time": "2023-01-26T19:19:29.352Z"
   },
   {
    "duration": 966,
    "start_time": "2023-01-26T19:19:35.712Z"
   },
   {
    "duration": 1065,
    "start_time": "2023-01-26T19:19:55.655Z"
   },
   {
    "duration": 993,
    "start_time": "2023-01-26T19:20:01.280Z"
   },
   {
    "duration": 1061,
    "start_time": "2023-01-26T19:20:07.480Z"
   },
   {
    "duration": 1130,
    "start_time": "2023-01-26T19:20:14.672Z"
   },
   {
    "duration": 1296,
    "start_time": "2023-01-26T19:20:23.593Z"
   },
   {
    "duration": 4511,
    "start_time": "2023-01-26T19:20:40.817Z"
   },
   {
    "duration": 971,
    "start_time": "2023-01-26T19:20:54.841Z"
   },
   {
    "duration": 1109,
    "start_time": "2023-01-26T19:20:59.762Z"
   },
   {
    "duration": 86,
    "start_time": "2023-01-26T19:21:25.257Z"
   },
   {
    "duration": 76,
    "start_time": "2023-01-26T19:21:38.915Z"
   },
   {
    "duration": 94,
    "start_time": "2023-01-26T19:21:45.865Z"
   },
   {
    "duration": 180,
    "start_time": "2023-01-26T19:21:59.614Z"
   },
   {
    "duration": 284,
    "start_time": "2023-01-26T19:22:08.154Z"
   },
   {
    "duration": 87,
    "start_time": "2023-01-26T19:22:42.043Z"
   },
   {
    "duration": 109,
    "start_time": "2023-01-26T19:27:58.270Z"
   },
   {
    "duration": 120,
    "start_time": "2023-01-26T19:28:09.855Z"
   },
   {
    "duration": 134,
    "start_time": "2023-01-26T19:28:14.254Z"
   },
   {
    "duration": 104,
    "start_time": "2023-01-26T19:28:19.136Z"
   },
   {
    "duration": 6,
    "start_time": "2023-01-26T19:30:02.913Z"
   },
   {
    "duration": 4,
    "start_time": "2023-01-26T19:30:42.469Z"
   },
   {
    "duration": 6,
    "start_time": "2023-01-26T19:31:37.867Z"
   },
   {
    "duration": 1023,
    "start_time": "2023-01-26T19:41:46.796Z"
   },
   {
    "duration": 30,
    "start_time": "2023-01-26T19:41:47.821Z"
   },
   {
    "duration": 19,
    "start_time": "2023-01-26T19:41:47.853Z"
   },
   {
    "duration": 10,
    "start_time": "2023-01-26T19:41:47.874Z"
   },
   {
    "duration": 5,
    "start_time": "2023-01-26T19:41:47.886Z"
   },
   {
    "duration": 6,
    "start_time": "2023-01-26T19:41:47.892Z"
   },
   {
    "duration": 5,
    "start_time": "2023-01-26T19:41:47.900Z"
   },
   {
    "duration": 6,
    "start_time": "2023-01-26T19:41:47.906Z"
   },
   {
    "duration": 86,
    "start_time": "2023-01-26T19:41:47.913Z"
   },
   {
    "duration": 1070,
    "start_time": "2023-01-26T19:41:48.001Z"
   },
   {
    "duration": 28,
    "start_time": "2023-01-26T19:41:49.073Z"
   },
   {
    "duration": 11,
    "start_time": "2023-01-26T19:41:49.102Z"
   },
   {
    "duration": 10,
    "start_time": "2023-01-26T19:41:49.114Z"
   },
   {
    "duration": 11,
    "start_time": "2023-01-26T19:41:49.126Z"
   },
   {
    "duration": 109,
    "start_time": "2023-01-26T19:41:49.139Z"
   },
   {
    "duration": 5,
    "start_time": "2023-01-26T19:41:49.250Z"
   },
   {
    "duration": 1009,
    "start_time": "2023-01-26T19:46:27.329Z"
   },
   {
    "duration": 30,
    "start_time": "2023-01-26T19:46:28.340Z"
   },
   {
    "duration": 19,
    "start_time": "2023-01-26T19:46:28.371Z"
   },
   {
    "duration": 11,
    "start_time": "2023-01-26T19:46:28.392Z"
   },
   {
    "duration": 7,
    "start_time": "2023-01-26T19:46:28.404Z"
   },
   {
    "duration": 7,
    "start_time": "2023-01-26T19:46:28.412Z"
   },
   {
    "duration": 5,
    "start_time": "2023-01-26T19:46:28.421Z"
   },
   {
    "duration": 5,
    "start_time": "2023-01-26T19:46:28.428Z"
   },
   {
    "duration": 96,
    "start_time": "2023-01-26T19:46:28.435Z"
   },
   {
    "duration": 1150,
    "start_time": "2023-01-26T19:46:28.534Z"
   },
   {
    "duration": 26,
    "start_time": "2023-01-26T19:46:29.686Z"
   },
   {
    "duration": 4,
    "start_time": "2023-01-26T19:46:29.714Z"
   },
   {
    "duration": 20,
    "start_time": "2023-01-26T19:46:29.719Z"
   },
   {
    "duration": 15,
    "start_time": "2023-01-26T19:46:29.741Z"
   },
   {
    "duration": 133,
    "start_time": "2023-01-26T19:46:29.758Z"
   },
   {
    "duration": 7,
    "start_time": "2023-01-26T19:46:29.893Z"
   }
  ],
  "kernelspec": {
   "display_name": "Python 3 (ipykernel)",
   "language": "python",
   "name": "python3"
  },
  "language_info": {
   "codemirror_mode": {
    "name": "ipython",
    "version": 3
   },
   "file_extension": ".py",
   "mimetype": "text/x-python",
   "name": "python",
   "nbconvert_exporter": "python",
   "pygments_lexer": "ipython3",
   "version": "3.10.9"
  },
  "toc": {
   "base_numbering": 1,
   "nav_menu": {},
   "number_sections": true,
   "sideBar": true,
   "skip_h1_title": true,
   "title_cell": "Table of Contents",
   "title_sidebar": "Contents",
   "toc_cell": false,
   "toc_position": {},
   "toc_section_display": true,
   "toc_window_display": false
  }
 },
 "nbformat": 4,
 "nbformat_minor": 2
}
