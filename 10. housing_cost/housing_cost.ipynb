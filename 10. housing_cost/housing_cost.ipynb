{
 "cells": [
  {
   "cell_type": "markdown",
   "id": "GEqQaHzsZ_bA",
   "metadata": {
    "id": "GEqQaHzsZ_bA"
   },
   "source": [
    "# Предсказание стоимости жилья в жилом массиве\n",
    "\n",
    "Требуется обучить модель линейной регрессии на данных о жилье в одном регионе в 1990 году. На основе этих данных нужно предсказать медианную стоимость дома в жилом массиве. Для оценки качества модели используйте метрики RMSE, MAE и R2."
   ]
  },
  {
   "cell_type": "markdown",
   "id": "64e449d9",
   "metadata": {},
   "source": [
    "## Инициализируем локальную Spark-сессию.\n",
    "Для этого загружаем все необходимые модули."
   ]
  },
  {
   "cell_type": "code",
   "execution_count": 1,
   "id": "7aad9a12",
   "metadata": {},
   "outputs": [],
   "source": [
    "import pandas as pd \n",
    "import numpy as np\n",
    "\n",
    "import pyspark\n",
    "from pyspark.sql import SparkSession\n",
    "from pyspark.sql.types import *\n",
    "import pyspark.sql.functions as F\n",
    "\n",
    "from pyspark.ml.feature import StringIndexer, VectorAssembler, StandardScaler\n",
    "from pyspark.ml.regression import LinearRegression\n",
    "from pyspark.ml.evaluation import RegressionEvaluator\n",
    "\n",
    "pyspark_version = pyspark.__version__\n",
    "if int(pyspark_version[:1]) == 3:\n",
    "    from pyspark.ml.feature import OneHotEncoder    \n",
    "elif int(pyspark_version[:1]) == 2:\n",
    "    from pyspark.ml.feature import OneHotEncodeEstimator\n",
    "        \n",
    "RANDOM_SEED = 2022\n",
    "\n",
    "spark = SparkSession.builder \\\n",
    "                    .master(\"local\") \\\n",
    "                    .appName(\"Housing - Linear regression\") \\\n",
    "                    .getOrCreate()"
   ]
  },
  {
   "cell_type": "markdown",
   "id": "b1e26b21",
   "metadata": {},
   "source": [
    "## Загружаем и читаем датасет."
   ]
  },
  {
   "cell_type": "code",
   "execution_count": 2,
   "id": "316de5bf",
   "metadata": {},
   "outputs": [
    {
     "name": "stderr",
     "output_type": "stream",
     "text": [
      "                                                                                \r"
     ]
    }
   ],
   "source": [
    "try:\n",
    "    df = spark.read.option('header', 'true').csv('/datasets/housing.csv', inferSchema = True)\n",
    "except:\n",
    "    df = spark.read.option('header', 'true').csv('/housing_cost/housing.csv', inferSchema = True)"
   ]
  },
  {
   "cell_type": "code",
   "execution_count": 3,
   "id": "a974d087",
   "metadata": {},
   "outputs": [
    {
     "data": {
      "text/html": [
       "<div>\n",
       "<style scoped>\n",
       "    .dataframe tbody tr th:only-of-type {\n",
       "        vertical-align: middle;\n",
       "    }\n",
       "\n",
       "    .dataframe tbody tr th {\n",
       "        vertical-align: top;\n",
       "    }\n",
       "\n",
       "    .dataframe thead th {\n",
       "        text-align: right;\n",
       "    }\n",
       "</style>\n",
       "<table border=\"1\" class=\"dataframe\">\n",
       "  <thead>\n",
       "    <tr style=\"text-align: right;\">\n",
       "      <th></th>\n",
       "      <th>longitude</th>\n",
       "      <th>latitude</th>\n",
       "      <th>housing_median_age</th>\n",
       "      <th>total_rooms</th>\n",
       "      <th>total_bedrooms</th>\n",
       "      <th>population</th>\n",
       "      <th>households</th>\n",
       "      <th>median_income</th>\n",
       "      <th>median_house_value</th>\n",
       "      <th>ocean_proximity</th>\n",
       "    </tr>\n",
       "  </thead>\n",
       "  <tbody>\n",
       "    <tr>\n",
       "      <th>0</th>\n",
       "      <td>-122.23</td>\n",
       "      <td>37.88</td>\n",
       "      <td>41.0</td>\n",
       "      <td>880.0</td>\n",
       "      <td>129.0</td>\n",
       "      <td>322.0</td>\n",
       "      <td>126.0</td>\n",
       "      <td>8.3252</td>\n",
       "      <td>452600.0</td>\n",
       "      <td>NEAR BAY</td>\n",
       "    </tr>\n",
       "    <tr>\n",
       "      <th>1</th>\n",
       "      <td>-122.22</td>\n",
       "      <td>37.86</td>\n",
       "      <td>21.0</td>\n",
       "      <td>7099.0</td>\n",
       "      <td>1106.0</td>\n",
       "      <td>2401.0</td>\n",
       "      <td>1138.0</td>\n",
       "      <td>8.3014</td>\n",
       "      <td>358500.0</td>\n",
       "      <td>NEAR BAY</td>\n",
       "    </tr>\n",
       "    <tr>\n",
       "      <th>2</th>\n",
       "      <td>-122.24</td>\n",
       "      <td>37.85</td>\n",
       "      <td>52.0</td>\n",
       "      <td>1467.0</td>\n",
       "      <td>190.0</td>\n",
       "      <td>496.0</td>\n",
       "      <td>177.0</td>\n",
       "      <td>7.2574</td>\n",
       "      <td>352100.0</td>\n",
       "      <td>NEAR BAY</td>\n",
       "    </tr>\n",
       "    <tr>\n",
       "      <th>3</th>\n",
       "      <td>-122.25</td>\n",
       "      <td>37.85</td>\n",
       "      <td>52.0</td>\n",
       "      <td>1274.0</td>\n",
       "      <td>235.0</td>\n",
       "      <td>558.0</td>\n",
       "      <td>219.0</td>\n",
       "      <td>5.6431</td>\n",
       "      <td>341300.0</td>\n",
       "      <td>NEAR BAY</td>\n",
       "    </tr>\n",
       "    <tr>\n",
       "      <th>4</th>\n",
       "      <td>-122.25</td>\n",
       "      <td>37.85</td>\n",
       "      <td>52.0</td>\n",
       "      <td>1627.0</td>\n",
       "      <td>280.0</td>\n",
       "      <td>565.0</td>\n",
       "      <td>259.0</td>\n",
       "      <td>3.8462</td>\n",
       "      <td>342200.0</td>\n",
       "      <td>NEAR BAY</td>\n",
       "    </tr>\n",
       "  </tbody>\n",
       "</table>\n",
       "</div>"
      ],
      "text/plain": [
       "   longitude  latitude  housing_median_age  total_rooms  total_bedrooms  \\\n",
       "0    -122.23     37.88                41.0        880.0           129.0   \n",
       "1    -122.22     37.86                21.0       7099.0          1106.0   \n",
       "2    -122.24     37.85                52.0       1467.0           190.0   \n",
       "3    -122.25     37.85                52.0       1274.0           235.0   \n",
       "4    -122.25     37.85                52.0       1627.0           280.0   \n",
       "\n",
       "   population  households  median_income  median_house_value ocean_proximity  \n",
       "0       322.0       126.0         8.3252            452600.0        NEAR BAY  \n",
       "1      2401.0      1138.0         8.3014            358500.0        NEAR BAY  \n",
       "2       496.0       177.0         7.2574            352100.0        NEAR BAY  \n",
       "3       558.0       219.0         5.6431            341300.0        NEAR BAY  \n",
       "4       565.0       259.0         3.8462            342200.0        NEAR BAY  "
      ]
     },
     "execution_count": 3,
     "metadata": {},
     "output_type": "execute_result"
    }
   ],
   "source": [
    "df.toPandas().head()"
   ]
  },
  {
   "cell_type": "code",
   "execution_count": 4,
   "id": "960f5b1b",
   "metadata": {},
   "outputs": [
    {
     "name": "stdout",
     "output_type": "stream",
     "text": [
      "Количество строк: 20640\n"
     ]
    }
   ],
   "source": [
    "total_rows = df.count()\n",
    "print(\"Количество строк:\", total_rows)"
   ]
  },
  {
   "cell_type": "code",
   "execution_count": 5,
   "id": "0a476eed",
   "metadata": {},
   "outputs": [
    {
     "name": "stdout",
     "output_type": "stream",
     "text": [
      "root\n",
      " |-- longitude: double (nullable = true)\n",
      " |-- latitude: double (nullable = true)\n",
      " |-- housing_median_age: double (nullable = true)\n",
      " |-- total_rooms: double (nullable = true)\n",
      " |-- total_bedrooms: double (nullable = true)\n",
      " |-- population: double (nullable = true)\n",
      " |-- households: double (nullable = true)\n",
      " |-- median_income: double (nullable = true)\n",
      " |-- median_house_value: double (nullable = true)\n",
      " |-- ocean_proximity: string (nullable = true)\n",
      "\n"
     ]
    }
   ],
   "source": [
    "df.printSchema()"
   ]
  },
  {
   "cell_type": "markdown",
   "id": "0aef8900",
   "metadata": {},
   "source": [
    "В колонках датасета содержатся следующие данные:\n",
    "* `longitude` — широта;\n",
    "* `latitude` — долгота;\n",
    "* `housing_median_age` — медианный возраст жителей жилого массива;\n",
    "* `total_rooms` — общее количество комнат в домах жилого массива;\n",
    "* `total_bedrooms` — общее количество спален в домах жилого массива;\n",
    "* `population` — количество человек, которые проживают в жилом массиве;\n",
    "* `households` — количество домовладений в жилом массиве;\n",
    "* `median_income` — медианный доход жителей жилого массива;\n",
    "* `median_house_value` — медианная стоимость дома в жилом массиве;\n",
    "* `ocean_proximity` — близость к океану.\n",
    "\n",
    "Все колонки кроме одной имеют числовой тип данных, только колонка `ocean_proximity` относится к категориальному типу данных."
   ]
  },
  {
   "cell_type": "markdown",
   "id": "53871372",
   "metadata": {
    "id": "53871372"
   },
   "source": [
    "## Подготовка данных"
   ]
  },
  {
   "cell_type": "markdown",
   "id": "88e6d4df",
   "metadata": {},
   "source": [
    "### Проверяем датафрейм на наличие пропусков"
   ]
  },
  {
   "cell_type": "code",
   "execution_count": 6,
   "id": "df92e3ec",
   "metadata": {
    "id": "df92e3ec"
   },
   "outputs": [
    {
     "data": {
      "text/html": [
       "<div>\n",
       "<style scoped>\n",
       "    .dataframe tbody tr th:only-of-type {\n",
       "        vertical-align: middle;\n",
       "    }\n",
       "\n",
       "    .dataframe tbody tr th {\n",
       "        vertical-align: top;\n",
       "    }\n",
       "\n",
       "    .dataframe thead th {\n",
       "        text-align: right;\n",
       "    }\n",
       "</style>\n",
       "<table border=\"1\" class=\"dataframe\">\n",
       "  <thead>\n",
       "    <tr style=\"text-align: right;\">\n",
       "      <th></th>\n",
       "      <th>longitude</th>\n",
       "      <th>latitude</th>\n",
       "      <th>housing_median_age</th>\n",
       "      <th>total_rooms</th>\n",
       "      <th>total_bedrooms</th>\n",
       "      <th>population</th>\n",
       "      <th>households</th>\n",
       "      <th>median_income</th>\n",
       "      <th>median_house_value</th>\n",
       "      <th>ocean_proximity</th>\n",
       "    </tr>\n",
       "  </thead>\n",
       "  <tbody>\n",
       "    <tr>\n",
       "      <th>0</th>\n",
       "      <td>0</td>\n",
       "      <td>0</td>\n",
       "      <td>0</td>\n",
       "      <td>0</td>\n",
       "      <td>207</td>\n",
       "      <td>0</td>\n",
       "      <td>0</td>\n",
       "      <td>0</td>\n",
       "      <td>0</td>\n",
       "      <td>0</td>\n",
       "    </tr>\n",
       "  </tbody>\n",
       "</table>\n",
       "</div>"
      ],
      "text/plain": [
       "   longitude  latitude  housing_median_age  total_rooms  total_bedrooms  \\\n",
       "0          0         0                   0            0             207   \n",
       "\n",
       "   population  households  median_income  median_house_value  ocean_proximity  \n",
       "0           0           0              0                   0                0  "
      ]
     },
     "execution_count": 6,
     "metadata": {},
     "output_type": "execute_result"
    }
   ],
   "source": [
    "missing_values = df.select([F.sum(F.col(c).isNull().cast('int')).alias(c) for c in df.columns])\n",
    "\n",
    "missing_values.toPandas()"
   ]
  },
  {
   "cell_type": "markdown",
   "id": "c33dd948",
   "metadata": {},
   "source": [
    "Пропуски присутствуют только в колонке `total_bedrooms` — общее количество спален в домах жилого массива."
   ]
  },
  {
   "cell_type": "code",
   "execution_count": 7,
   "id": "f3b55caa",
   "metadata": {},
   "outputs": [
    {
     "data": {
      "text/html": [
       "<div>\n",
       "<style scoped>\n",
       "    .dataframe tbody tr th:only-of-type {\n",
       "        vertical-align: middle;\n",
       "    }\n",
       "\n",
       "    .dataframe tbody tr th {\n",
       "        vertical-align: top;\n",
       "    }\n",
       "\n",
       "    .dataframe thead th {\n",
       "        text-align: right;\n",
       "    }\n",
       "</style>\n",
       "<table border=\"1\" class=\"dataframe\">\n",
       "  <thead>\n",
       "    <tr style=\"text-align: right;\">\n",
       "      <th></th>\n",
       "      <th>longitude</th>\n",
       "      <th>latitude</th>\n",
       "      <th>housing_median_age</th>\n",
       "      <th>total_rooms</th>\n",
       "      <th>total_bedrooms</th>\n",
       "      <th>population</th>\n",
       "      <th>households</th>\n",
       "      <th>median_income</th>\n",
       "      <th>median_house_value</th>\n",
       "      <th>ocean_proximity</th>\n",
       "    </tr>\n",
       "  </thead>\n",
       "  <tbody>\n",
       "    <tr>\n",
       "      <th>0</th>\n",
       "      <td>-122.16</td>\n",
       "      <td>37.77</td>\n",
       "      <td>47.0</td>\n",
       "      <td>1256.0</td>\n",
       "      <td>NaN</td>\n",
       "      <td>570.0</td>\n",
       "      <td>218.0</td>\n",
       "      <td>4.3750</td>\n",
       "      <td>161900.0</td>\n",
       "      <td>NEAR BAY</td>\n",
       "    </tr>\n",
       "    <tr>\n",
       "      <th>1</th>\n",
       "      <td>-122.17</td>\n",
       "      <td>37.75</td>\n",
       "      <td>38.0</td>\n",
       "      <td>992.0</td>\n",
       "      <td>NaN</td>\n",
       "      <td>732.0</td>\n",
       "      <td>259.0</td>\n",
       "      <td>1.6196</td>\n",
       "      <td>85100.0</td>\n",
       "      <td>NEAR BAY</td>\n",
       "    </tr>\n",
       "    <tr>\n",
       "      <th>2</th>\n",
       "      <td>-122.28</td>\n",
       "      <td>37.78</td>\n",
       "      <td>29.0</td>\n",
       "      <td>5154.0</td>\n",
       "      <td>NaN</td>\n",
       "      <td>3741.0</td>\n",
       "      <td>1273.0</td>\n",
       "      <td>2.5762</td>\n",
       "      <td>173400.0</td>\n",
       "      <td>NEAR BAY</td>\n",
       "    </tr>\n",
       "    <tr>\n",
       "      <th>3</th>\n",
       "      <td>-122.24</td>\n",
       "      <td>37.75</td>\n",
       "      <td>45.0</td>\n",
       "      <td>891.0</td>\n",
       "      <td>NaN</td>\n",
       "      <td>384.0</td>\n",
       "      <td>146.0</td>\n",
       "      <td>4.9489</td>\n",
       "      <td>247100.0</td>\n",
       "      <td>NEAR BAY</td>\n",
       "    </tr>\n",
       "    <tr>\n",
       "      <th>4</th>\n",
       "      <td>-122.10</td>\n",
       "      <td>37.69</td>\n",
       "      <td>41.0</td>\n",
       "      <td>746.0</td>\n",
       "      <td>NaN</td>\n",
       "      <td>387.0</td>\n",
       "      <td>161.0</td>\n",
       "      <td>3.9063</td>\n",
       "      <td>178400.0</td>\n",
       "      <td>NEAR BAY</td>\n",
       "    </tr>\n",
       "  </tbody>\n",
       "</table>\n",
       "</div>"
      ],
      "text/plain": [
       "   longitude  latitude  housing_median_age  total_rooms  total_bedrooms  \\\n",
       "0    -122.16     37.77                47.0       1256.0             NaN   \n",
       "1    -122.17     37.75                38.0        992.0             NaN   \n",
       "2    -122.28     37.78                29.0       5154.0             NaN   \n",
       "3    -122.24     37.75                45.0        891.0             NaN   \n",
       "4    -122.10     37.69                41.0        746.0             NaN   \n",
       "\n",
       "   population  households  median_income  median_house_value ocean_proximity  \n",
       "0       570.0       218.0         4.3750            161900.0        NEAR BAY  \n",
       "1       732.0       259.0         1.6196             85100.0        NEAR BAY  \n",
       "2      3741.0      1273.0         2.5762            173400.0        NEAR BAY  \n",
       "3       384.0       146.0         4.9489            247100.0        NEAR BAY  \n",
       "4       387.0       161.0         3.9063            178400.0        NEAR BAY  "
      ]
     },
     "execution_count": 7,
     "metadata": {},
     "output_type": "execute_result"
    }
   ],
   "source": [
    "df_missing_rows = df.filter(F.col('total_bedrooms').isNull())\n",
    "\n",
    "df_missing_rows.toPandas().head()"
   ]
  },
  {
   "cell_type": "markdown",
   "id": "c756e3a1",
   "metadata": {},
   "source": [
    "Заполним пропуски с помощью функции, которая вычисляет среднее значение результата деления значений в столбце `total_rooms` на значения столбца `total_bedrooms` в заполненных строках, затем запоняет пропуск произведением этого среднего значения и значения столбца `total_rooms` в этой строке, округлённом до целого значения. "
   ]
  },
  {
   "cell_type": "code",
   "execution_count": 8,
   "id": "25554c45",
   "metadata": {},
   "outputs": [],
   "source": [
    "def fill_missing_total_bedrooms(df):\n",
    "    avg_ratio = df.select((F.col('total_rooms') / F.col('total_bedrooms')).alias('ratio')).agg({'ratio': 'avg'}).first()[0]\n",
    "    df_filled = df.withColumn('total_bedrooms', F.round(F.when(F.col('total_bedrooms').isNull(), F.col('total_rooms') / avg_ratio).otherwise(F.col('total_bedrooms'))))\n",
    "    \n",
    "    return df_filled"
   ]
  },
  {
   "cell_type": "code",
   "execution_count": 9,
   "id": "7a1d62e2",
   "metadata": {},
   "outputs": [],
   "source": [
    "df = fill_missing_total_bedrooms(df)"
   ]
  },
  {
   "cell_type": "markdown",
   "id": "ea8b6ce2",
   "metadata": {},
   "source": [
    "Проверяем, что пропуски заполнены."
   ]
  },
  {
   "cell_type": "code",
   "execution_count": 10,
   "id": "f91e6b4f",
   "metadata": {},
   "outputs": [
    {
     "data": {
      "text/html": [
       "<div>\n",
       "<style scoped>\n",
       "    .dataframe tbody tr th:only-of-type {\n",
       "        vertical-align: middle;\n",
       "    }\n",
       "\n",
       "    .dataframe tbody tr th {\n",
       "        vertical-align: top;\n",
       "    }\n",
       "\n",
       "    .dataframe thead th {\n",
       "        text-align: right;\n",
       "    }\n",
       "</style>\n",
       "<table border=\"1\" class=\"dataframe\">\n",
       "  <thead>\n",
       "    <tr style=\"text-align: right;\">\n",
       "      <th></th>\n",
       "      <th>longitude</th>\n",
       "      <th>latitude</th>\n",
       "      <th>housing_median_age</th>\n",
       "      <th>total_rooms</th>\n",
       "      <th>total_bedrooms</th>\n",
       "      <th>population</th>\n",
       "      <th>households</th>\n",
       "      <th>median_income</th>\n",
       "      <th>median_house_value</th>\n",
       "      <th>ocean_proximity</th>\n",
       "    </tr>\n",
       "  </thead>\n",
       "  <tbody>\n",
       "    <tr>\n",
       "      <th>0</th>\n",
       "      <td>0</td>\n",
       "      <td>0</td>\n",
       "      <td>0</td>\n",
       "      <td>0</td>\n",
       "      <td>0</td>\n",
       "      <td>0</td>\n",
       "      <td>0</td>\n",
       "      <td>0</td>\n",
       "      <td>0</td>\n",
       "      <td>0</td>\n",
       "    </tr>\n",
       "  </tbody>\n",
       "</table>\n",
       "</div>"
      ],
      "text/plain": [
       "   longitude  latitude  housing_median_age  total_rooms  total_bedrooms  \\\n",
       "0          0         0                   0            0               0   \n",
       "\n",
       "   population  households  median_income  median_house_value  ocean_proximity  \n",
       "0           0           0              0                   0                0  "
      ]
     },
     "execution_count": 10,
     "metadata": {},
     "output_type": "execute_result"
    }
   ],
   "source": [
    "missing_values = df.select([F.sum(F.col(c).isNull().cast('int')).alias(c) for c in df.columns])\n",
    "\n",
    "missing_values.toPandas()"
   ]
  },
  {
   "cell_type": "markdown",
   "id": "23152fc8",
   "metadata": {},
   "source": [
    "Разделяем признаки по типу, отдельно выделяем целевой признак."
   ]
  },
  {
   "cell_type": "code",
   "execution_count": 11,
   "id": "b29a9712",
   "metadata": {},
   "outputs": [],
   "source": [
    "categorical_cols = 'ocean_proximity'\n",
    "numerical_cols = [c for c in df.columns if c != 'median_house_value' and c != 'ocean_proximity']\n",
    "target = 'median_house_value'"
   ]
  },
  {
   "cell_type": "markdown",
   "id": "93b28e88",
   "metadata": {},
   "source": [
    "Преобразуем колонку `ocean_proximity`, содержащую текстовые значения из категориального типа в числовой техникой One hot encoding, перед этим трансформируем категориальные признаки с помощью трансформера StringIndexer. "
   ]
  },
  {
   "cell_type": "code",
   "execution_count": 12,
   "id": "4c0d3143",
   "metadata": {},
   "outputs": [
    {
     "name": "stderr",
     "output_type": "stream",
     "text": [
      "                                                                                \r"
     ]
    },
    {
     "name": "stdout",
     "output_type": "stream",
     "text": [
      "+---------------+-------------------+\n",
      "|ocean_proximity|ocean_proximity_idx|\n",
      "+---------------+-------------------+\n",
      "|       NEAR BAY|                3.0|\n",
      "|       NEAR BAY|                3.0|\n",
      "|       NEAR BAY|                3.0|\n",
      "+---------------+-------------------+\n",
      "only showing top 3 rows\n",
      "\n"
     ]
    }
   ],
   "source": [
    "stringIndexer = StringIndexer(inputCol=categorical_cols, outputCol=categorical_cols+'_idx') \n",
    "\n",
    "df = stringIndexer.fit(df).transform(df)\n",
    "\n",
    "cols = [c for c in df.columns if c.startswith(categorical_cols)]\n",
    "df.select(cols).show(3)"
   ]
  },
  {
   "cell_type": "code",
   "execution_count": 13,
   "id": "05142916",
   "metadata": {},
   "outputs": [
    {
     "name": "stdout",
     "output_type": "stream",
     "text": [
      "+---------------+-------------------+-------------------+\n",
      "|ocean_proximity|ocean_proximity_idx|ocean_proximity_ohe|\n",
      "+---------------+-------------------+-------------------+\n",
      "|       NEAR BAY|                3.0|      (4,[3],[1.0])|\n",
      "|       NEAR BAY|                3.0|      (4,[3],[1.0])|\n",
      "|       NEAR BAY|                3.0|      (4,[3],[1.0])|\n",
      "+---------------+-------------------+-------------------+\n",
      "only showing top 3 rows\n",
      "\n"
     ]
    }
   ],
   "source": [
    "encoder = OneHotEncoder(inputCol='ocean_proximity_idx', outputCol=categorical_cols+'_ohe')\n",
    "df = encoder.fit(df).transform(df)\n",
    "\n",
    "cols = [c for c in df.columns if c.startswith(categorical_cols)]\n",
    "df.select(cols).show(3)"
   ]
  },
  {
   "cell_type": "markdown",
   "id": "88e61d74",
   "metadata": {},
   "source": [
    "Объединяем признаки в один вектор с помощью VectorAssembler:"
   ]
  },
  {
   "cell_type": "code",
   "execution_count": 14,
   "id": "64406298",
   "metadata": {},
   "outputs": [],
   "source": [
    "categorical_assembler = \\\n",
    "        VectorAssembler(inputCols=['ocean_proximity_ohe'], outputCol=\"categorical_features\")\n",
    "df = categorical_assembler.transform(df)"
   ]
  },
  {
   "cell_type": "code",
   "execution_count": 15,
   "id": "e7858b0c",
   "metadata": {},
   "outputs": [
    {
     "data": {
      "text/html": [
       "<div>\n",
       "<style scoped>\n",
       "    .dataframe tbody tr th:only-of-type {\n",
       "        vertical-align: middle;\n",
       "    }\n",
       "\n",
       "    .dataframe tbody tr th {\n",
       "        vertical-align: top;\n",
       "    }\n",
       "\n",
       "    .dataframe thead th {\n",
       "        text-align: right;\n",
       "    }\n",
       "</style>\n",
       "<table border=\"1\" class=\"dataframe\">\n",
       "  <thead>\n",
       "    <tr style=\"text-align: right;\">\n",
       "      <th></th>\n",
       "      <th>longitude</th>\n",
       "      <th>latitude</th>\n",
       "      <th>housing_median_age</th>\n",
       "      <th>total_rooms</th>\n",
       "      <th>total_bedrooms</th>\n",
       "      <th>population</th>\n",
       "      <th>households</th>\n",
       "      <th>median_income</th>\n",
       "      <th>median_house_value</th>\n",
       "      <th>ocean_proximity</th>\n",
       "      <th>ocean_proximity_idx</th>\n",
       "      <th>ocean_proximity_ohe</th>\n",
       "      <th>categorical_features</th>\n",
       "    </tr>\n",
       "  </thead>\n",
       "  <tbody>\n",
       "    <tr>\n",
       "      <th>0</th>\n",
       "      <td>-122.23</td>\n",
       "      <td>37.88</td>\n",
       "      <td>41.0</td>\n",
       "      <td>880.0</td>\n",
       "      <td>129.0</td>\n",
       "      <td>322.0</td>\n",
       "      <td>126.0</td>\n",
       "      <td>8.3252</td>\n",
       "      <td>452600.0</td>\n",
       "      <td>NEAR BAY</td>\n",
       "      <td>3.0</td>\n",
       "      <td>(0.0, 0.0, 0.0, 1.0)</td>\n",
       "      <td>(0.0, 0.0, 0.0, 1.0)</td>\n",
       "    </tr>\n",
       "    <tr>\n",
       "      <th>1</th>\n",
       "      <td>-122.22</td>\n",
       "      <td>37.86</td>\n",
       "      <td>21.0</td>\n",
       "      <td>7099.0</td>\n",
       "      <td>1106.0</td>\n",
       "      <td>2401.0</td>\n",
       "      <td>1138.0</td>\n",
       "      <td>8.3014</td>\n",
       "      <td>358500.0</td>\n",
       "      <td>NEAR BAY</td>\n",
       "      <td>3.0</td>\n",
       "      <td>(0.0, 0.0, 0.0, 1.0)</td>\n",
       "      <td>(0.0, 0.0, 0.0, 1.0)</td>\n",
       "    </tr>\n",
       "    <tr>\n",
       "      <th>2</th>\n",
       "      <td>-122.24</td>\n",
       "      <td>37.85</td>\n",
       "      <td>52.0</td>\n",
       "      <td>1467.0</td>\n",
       "      <td>190.0</td>\n",
       "      <td>496.0</td>\n",
       "      <td>177.0</td>\n",
       "      <td>7.2574</td>\n",
       "      <td>352100.0</td>\n",
       "      <td>NEAR BAY</td>\n",
       "      <td>3.0</td>\n",
       "      <td>(0.0, 0.0, 0.0, 1.0)</td>\n",
       "      <td>(0.0, 0.0, 0.0, 1.0)</td>\n",
       "    </tr>\n",
       "  </tbody>\n",
       "</table>\n",
       "</div>"
      ],
      "text/plain": [
       "   longitude  latitude  housing_median_age  total_rooms  total_bedrooms  \\\n",
       "0    -122.23     37.88                41.0        880.0           129.0   \n",
       "1    -122.22     37.86                21.0       7099.0          1106.0   \n",
       "2    -122.24     37.85                52.0       1467.0           190.0   \n",
       "\n",
       "   population  households  median_income  median_house_value ocean_proximity  \\\n",
       "0       322.0       126.0         8.3252            452600.0        NEAR BAY   \n",
       "1      2401.0      1138.0         8.3014            358500.0        NEAR BAY   \n",
       "2       496.0       177.0         7.2574            352100.0        NEAR BAY   \n",
       "\n",
       "   ocean_proximity_idx   ocean_proximity_ohe  categorical_features  \n",
       "0                  3.0  (0.0, 0.0, 0.0, 1.0)  (0.0, 0.0, 0.0, 1.0)  \n",
       "1                  3.0  (0.0, 0.0, 0.0, 1.0)  (0.0, 0.0, 0.0, 1.0)  \n",
       "2                  3.0  (0.0, 0.0, 0.0, 1.0)  (0.0, 0.0, 0.0, 1.0)  "
      ]
     },
     "execution_count": 15,
     "metadata": {},
     "output_type": "execute_result"
    }
   ],
   "source": [
    "pd.DataFrame(df.take(3),\n",
    "             columns=df.columns)"
   ]
  },
  {
   "cell_type": "markdown",
   "id": "b1bc4c49",
   "metadata": {},
   "source": [
    "Трансформируем числовые признаки."
   ]
  },
  {
   "cell_type": "code",
   "execution_count": 16,
   "id": "62da07c7",
   "metadata": {},
   "outputs": [],
   "source": [
    "numerical_assembler = VectorAssembler(inputCols=numerical_cols, outputCol=\"numerical_features\")\n",
    "df = numerical_assembler.transform(df)"
   ]
  },
  {
   "cell_type": "code",
   "execution_count": 17,
   "id": "562ddb91",
   "metadata": {},
   "outputs": [
    {
     "name": "stderr",
     "output_type": "stream",
     "text": [
      "                                                                                \r"
     ]
    }
   ],
   "source": [
    "standardScaler = StandardScaler(inputCol='numerical_features', outputCol=\"numerical_features_scaled\")\n",
    "df = standardScaler.fit(df).transform(df)"
   ]
  },
  {
   "cell_type": "code",
   "execution_count": 18,
   "id": "b758d662",
   "metadata": {},
   "outputs": [
    {
     "data": {
      "text/plain": [
       "[('longitude', 'double'),\n",
       " ('latitude', 'double'),\n",
       " ('housing_median_age', 'double'),\n",
       " ('total_rooms', 'double'),\n",
       " ('total_bedrooms', 'double'),\n",
       " ('population', 'double'),\n",
       " ('households', 'double'),\n",
       " ('median_income', 'double'),\n",
       " ('median_house_value', 'double'),\n",
       " ('ocean_proximity', 'string'),\n",
       " ('ocean_proximity_idx', 'double'),\n",
       " ('ocean_proximity_ohe', 'vector'),\n",
       " ('categorical_features', 'vector'),\n",
       " ('numerical_features', 'vector'),\n",
       " ('numerical_features_scaled', 'vector')]"
      ]
     },
     "execution_count": 18,
     "metadata": {},
     "output_type": "execute_result"
    }
   ],
   "source": [
    "df.dtypes"
   ]
  },
  {
   "cell_type": "markdown",
   "id": "c8d6ee48",
   "metadata": {},
   "source": [
    "Объединяем трансформированные категорийные и числовые признаки с помощью VectorAssembler."
   ]
  },
  {
   "cell_type": "code",
   "execution_count": 19,
   "id": "b0ce94e6",
   "metadata": {},
   "outputs": [
    {
     "name": "stdout",
     "output_type": "stream",
     "text": [
      "+--------------------+-------------------------+\n",
      "|categorical_features|numerical_features_scaled|\n",
      "+--------------------+-------------------------+\n",
      "|       (4,[3],[1.0])|     [-61.007269596069...|\n",
      "|       (4,[3],[1.0])|     [-61.002278409814...|\n",
      "|       (4,[3],[1.0])|     [-61.012260782324...|\n",
      "+--------------------+-------------------------+\n",
      "only showing top 3 rows\n",
      "\n"
     ]
    }
   ],
   "source": [
    "all_features = ['categorical_features', 'numerical_features_scaled']\n",
    "\n",
    "final_assembler = VectorAssembler(inputCols=all_features, outputCol=\"features\")\n",
    "df = final_assembler.transform(df)\n",
    "\n",
    "df.select(F.col('categorical_features'), F.col('numerical_features_scaled')).show(3)"
   ]
  },
  {
   "cell_type": "markdown",
   "id": "9f0a82f3",
   "metadata": {
    "id": "9f0a82f3"
   },
   "source": [
    "## Обучение моделей"
   ]
  },
  {
   "cell_type": "markdown",
   "id": "9d4b9a30",
   "metadata": {
    "id": "bddb08c4"
   },
   "source": [
    "### Строим модель регрессии на всех данных из файла"
   ]
  },
  {
   "cell_type": "markdown",
   "id": "7b8be7cb",
   "metadata": {},
   "source": [
    "#### Разделим данные на выборки"
   ]
  },
  {
   "cell_type": "code",
   "execution_count": 20,
   "id": "e89cdb17",
   "metadata": {},
   "outputs": [
    {
     "name": "stderr",
     "output_type": "stream",
     "text": [
      "                                                                                \r"
     ]
    },
    {
     "name": "stdout",
     "output_type": "stream",
     "text": [
      "16418 4222\n"
     ]
    },
    {
     "name": "stderr",
     "output_type": "stream",
     "text": [
      "                                                                                \r"
     ]
    }
   ],
   "source": [
    "train_data, test_data = df.randomSplit([.8,.2], seed=RANDOM_SEED)\n",
    "print(train_data.count(), test_data.count())"
   ]
  },
  {
   "cell_type": "markdown",
   "id": "741360dd",
   "metadata": {},
   "source": [
    "Обучаем модель линейной регрессии."
   ]
  },
  {
   "cell_type": "code",
   "execution_count": 21,
   "id": "1f75314c",
   "metadata": {},
   "outputs": [
    {
     "name": "stderr",
     "output_type": "stream",
     "text": [
      "24/01/18 13:35:33 WARN BLAS: Failed to load implementation from: com.github.fommil.netlib.NativeSystemBLAS\n",
      "24/01/18 13:35:33 WARN BLAS: Failed to load implementation from: com.github.fommil.netlib.NativeRefBLAS\n",
      "24/01/18 13:35:33 WARN LAPACK: Failed to load implementation from: com.github.fommil.netlib.NativeSystemLAPACK\n",
      "24/01/18 13:35:33 WARN LAPACK: Failed to load implementation from: com.github.fommil.netlib.NativeRefLAPACK\n",
      "                                                                                \r"
     ]
    }
   ],
   "source": [
    "lr_1 = LinearRegression(labelCol=target, featuresCol='features', maxIter=10, regParam=0.1)\n",
    "\n",
    "model_1 = lr_1.fit(train_data)"
   ]
  },
  {
   "cell_type": "markdown",
   "id": "b4c529bc",
   "metadata": {},
   "source": [
    "Сохраним трансформированную таблицу с колонкой предсказания первой модели."
   ]
  },
  {
   "cell_type": "code",
   "execution_count": 22,
   "id": "c9084698",
   "metadata": {},
   "outputs": [
    {
     "name": "stdout",
     "output_type": "stream",
     "text": [
      "+------------------+------------------+\n",
      "|median_house_value|        prediction|\n",
      "+------------------+------------------+\n",
      "|          103600.0| 152790.2983901268|\n",
      "|           50800.0| 215669.5624681404|\n",
      "|           58100.0| 143288.1240519723|\n",
      "|           68400.0| 132090.6853544712|\n",
      "|           72200.0|163040.97519626655|\n",
      "|           67000.0|154688.04109336343|\n",
      "|           81300.0|151648.88854959887|\n",
      "|           70500.0| 163063.6838059891|\n",
      "|           60000.0| 144079.7293307637|\n",
      "|          109400.0|170361.78454652987|\n",
      "|           74100.0|151317.40605343832|\n",
      "|           74700.0|167066.03992267605|\n",
      "|           90000.0|208698.04859960778|\n",
      "|          104200.0|199437.58549395436|\n",
      "|           74100.0| 156257.0650897557|\n",
      "|           67500.0|147619.40096757188|\n",
      "|          103100.0| 47774.62647579424|\n",
      "|           92500.0|165485.98441965878|\n",
      "|          128100.0|221370.14637060184|\n",
      "|           99600.0|186255.79779619025|\n",
      "+------------------+------------------+\n",
      "only showing top 20 rows\n",
      "\n"
     ]
    },
    {
     "name": "stderr",
     "output_type": "stream",
     "text": [
      "                                                                                \r"
     ]
    }
   ],
   "source": [
    "predictions_1 = model_1.transform(test_data)\n",
    "\n",
    "predictedLabes_1 = predictions_1.select(\"median_house_value\", \"prediction\")\n",
    "predictedLabes_1.show()"
   ]
  },
  {
   "cell_type": "markdown",
   "id": "f262c706",
   "metadata": {},
   "source": [
    "Оценим качество алгоритмов регрессии, используем трансформер RegressionEvaluator, который работает с DataFrame API и имеет набор метрик для подсчёта."
   ]
  },
  {
   "cell_type": "code",
   "execution_count": 23,
   "id": "6e7daf86",
   "metadata": {},
   "outputs": [
    {
     "name": "stderr",
     "output_type": "stream",
     "text": [
      "                                                                                \r"
     ]
    },
    {
     "name": "stdout",
     "output_type": "stream",
     "text": [
      "RMSE: 68486.87949972406\n",
      "MAE: 49813.172169881334\n",
      "R2: 0.6535567081263631\n"
     ]
    },
    {
     "name": "stderr",
     "output_type": "stream",
     "text": [
      "                                                                                \r"
     ]
    }
   ],
   "source": [
    "evaluator = RegressionEvaluator(labelCol='median_house_value', predictionCol='prediction')\n",
    "\n",
    "rmse_1 = evaluator.evaluate(predictions_1, {evaluator.metricName: 'rmse'})\n",
    "mae_1 = evaluator.evaluate(predictions_1, {evaluator.metricName: 'mae'})\n",
    "r2_1 = evaluator.evaluate(predictions_1, {evaluator.metricName: 'r2'})\n",
    "\n",
    "print(\"RMSE:\", rmse_1)\n",
    "print(\"MAE:\", mae_1)\n",
    "print(\"R2:\", r2_1)"
   ]
  },
  {
   "cell_type": "markdown",
   "id": "8765b8a7",
   "metadata": {},
   "source": [
    "### Строим модель регрессии только на числовых признаках"
   ]
  },
  {
   "cell_type": "code",
   "execution_count": 24,
   "id": "9300f26b",
   "metadata": {},
   "outputs": [],
   "source": [
    "lr_2 = LinearRegression(labelCol=target, featuresCol='numerical_features_scaled', maxIter=10, regParam=0.1)\n",
    "\n",
    "model_2 = lr_2.fit(train_data)"
   ]
  },
  {
   "cell_type": "code",
   "execution_count": 25,
   "id": "e14a7219",
   "metadata": {},
   "outputs": [
    {
     "name": "stdout",
     "output_type": "stream",
     "text": [
      "+------------------+------------------+\n",
      "|median_house_value|        prediction|\n",
      "+------------------+------------------+\n",
      "|          103600.0|101895.56527095195|\n",
      "|           50800.0|184435.35130482772|\n",
      "|           58100.0|110634.92538774107|\n",
      "|           68400.0| 80724.77041470027|\n",
      "|           72200.0|129195.53439829359|\n",
      "|           67000.0|121117.32195687527|\n",
      "|           81300.0| 117143.8093772633|\n",
      "|           70500.0|129406.32919594925|\n",
      "|           60000.0|111918.56237223698|\n",
      "|          109400.0|117923.20420971466|\n",
      "|           74100.0|118874.63206190336|\n",
      "|           74700.0|133892.75410843687|\n",
      "|           90000.0|175110.77771594562|\n",
      "|          104200.0|165771.86226405064|\n",
      "|           74100.0| 122400.7697408311|\n",
      "|           67500.0|113396.20200956007|\n",
      "|          103100.0| -7203.68965132162|\n",
      "|           92500.0|139822.45041208668|\n",
      "|          128100.0|190792.16844343068|\n",
      "|           99600.0|151971.89274652116|\n",
      "+------------------+------------------+\n",
      "only showing top 20 rows\n",
      "\n"
     ]
    }
   ],
   "source": [
    "predictions_2 = model_2.transform(test_data)\n",
    "\n",
    "predictedLabes_2 = predictions_2.select(\"median_house_value\", \"prediction\")\n",
    "predictedLabes_2.show()"
   ]
  },
  {
   "cell_type": "code",
   "execution_count": 26,
   "id": "f7002e50",
   "metadata": {},
   "outputs": [
    {
     "name": "stderr",
     "output_type": "stream",
     "text": [
      "                                                                                \r"
     ]
    },
    {
     "name": "stdout",
     "output_type": "stream",
     "text": [
      "RMSE: 69219.86034761296\n",
      "MAE: 50777.544532438216\n",
      "R2: 0.6461014064294923\n"
     ]
    }
   ],
   "source": [
    "evaluator = RegressionEvaluator(labelCol='median_house_value', predictionCol='prediction')\n",
    "\n",
    "rmse_2 = evaluator.evaluate(predictions_2, {evaluator.metricName: 'rmse'})\n",
    "mae_2 = evaluator.evaluate(predictions_2, {evaluator.metricName: 'mae'})\n",
    "r2_2 = evaluator.evaluate(predictions_2, {evaluator.metricName: 'r2'})\n",
    "\n",
    "print(\"RMSE:\", rmse_2)\n",
    "print(\"MAE:\", mae_2)\n",
    "print(\"R2:\", r2_2)"
   ]
  },
  {
   "cell_type": "markdown",
   "id": "757fd103",
   "metadata": {
    "id": "757fd103"
   },
   "source": [
    "## Анализ результатов"
   ]
  },
  {
   "cell_type": "markdown",
   "id": "fe756560",
   "metadata": {},
   "source": [
    "Сведём полученные данные в одной таблице."
   ]
  },
  {
   "cell_type": "code",
   "execution_count": 27,
   "id": "76936936",
   "metadata": {},
   "outputs": [
    {
     "data": {
      "text/html": [
       "<div>\n",
       "<style scoped>\n",
       "    .dataframe tbody tr th:only-of-type {\n",
       "        vertical-align: middle;\n",
       "    }\n",
       "\n",
       "    .dataframe tbody tr th {\n",
       "        vertical-align: top;\n",
       "    }\n",
       "\n",
       "    .dataframe thead th {\n",
       "        text-align: right;\n",
       "    }\n",
       "</style>\n",
       "<table border=\"1\" class=\"dataframe\">\n",
       "  <thead>\n",
       "    <tr style=\"text-align: right;\">\n",
       "      <th></th>\n",
       "      <th>model</th>\n",
       "      <th>RMSE</th>\n",
       "      <th>MAE</th>\n",
       "      <th>R2</th>\n",
       "    </tr>\n",
       "  </thead>\n",
       "  <tbody>\n",
       "    <tr>\n",
       "      <th>0</th>\n",
       "      <td>all_features</td>\n",
       "      <td>68486.879</td>\n",
       "      <td>49813.172</td>\n",
       "      <td>0.654</td>\n",
       "    </tr>\n",
       "    <tr>\n",
       "      <th>1</th>\n",
       "      <td>numerical_features</td>\n",
       "      <td>69219.860</td>\n",
       "      <td>50777.545</td>\n",
       "      <td>0.646</td>\n",
       "    </tr>\n",
       "  </tbody>\n",
       "</table>\n",
       "</div>"
      ],
      "text/plain": [
       "                model       RMSE        MAE     R2\n",
       "0        all_features  68486.879  49813.172  0.654\n",
       "1  numerical_features  69219.860  50777.545  0.646"
      ]
     },
     "execution_count": 27,
     "metadata": {},
     "output_type": "execute_result"
    }
   ],
   "source": [
    "metrics = pd.DataFrame(data=[('all_features', round(rmse_1, 3), round(mae_1, 3), round(r2_1, 3)),\n",
    "                            ('numerical_features', round(rmse_2, 3), round(mae_2, 3), round(r2_2, 3))],\n",
    "                            columns=['model', 'RMSE', 'MAE', 'R2'])\n",
    "metrics"
   ]
  },
  {
   "cell_type": "markdown",
   "id": "7c7111de",
   "metadata": {},
   "source": [
    "Остановливаем SparkSession."
   ]
  },
  {
   "cell_type": "code",
   "execution_count": 28,
   "id": "08e16b5e",
   "metadata": {},
   "outputs": [],
   "source": [
    "spark.stop()"
   ]
  },
  {
   "cell_type": "markdown",
   "id": "6a57916e",
   "metadata": {},
   "source": [
    "Метрики RMSE и MAE должны стремиться к минимальному значению, а метрика R2 напротив, должна стремится к единице. \n",
    "\n",
    "Как видно из таблицы модель, обученная на всех данных имеет лучшие метрики качества, чем модель, обученная на только на числовых признаках. \n",
    "\n",
    "Поэтому можно сделать вывод, что модель лучше обучается на всех доступных признаках."
   ]
  }
 ],
 "metadata": {
  "ExecuteTimeLog": [
   {
    "duration": 16061,
    "start_time": "2023-06-07T15:48:04.148Z"
   },
   {
    "duration": 7832,
    "start_time": "2023-06-07T15:50:35.670Z"
   },
   {
    "duration": 706,
    "start_time": "2023-06-07T15:51:52.388Z"
   },
   {
    "duration": 380,
    "start_time": "2023-06-07T15:52:20.205Z"
   },
   {
    "duration": 12,
    "start_time": "2023-06-07T15:56:14.833Z"
   },
   {
    "duration": 103,
    "start_time": "2023-06-07T16:02:17.203Z"
   },
   {
    "duration": 255,
    "start_time": "2023-06-07T16:02:36.551Z"
   },
   {
    "duration": 17,
    "start_time": "2023-06-07T16:02:46.166Z"
   },
   {
    "duration": 18,
    "start_time": "2023-06-07T16:03:00.411Z"
   },
   {
    "duration": 17,
    "start_time": "2023-06-07T16:03:09.327Z"
   },
   {
    "duration": 16,
    "start_time": "2023-06-07T16:06:32.346Z"
   },
   {
    "duration": 1555,
    "start_time": "2023-06-07T16:08:03.676Z"
   },
   {
    "duration": 7,
    "start_time": "2023-06-07T16:16:40.012Z"
   },
   {
    "duration": 272,
    "start_time": "2023-06-07T16:16:45.251Z"
   },
   {
    "duration": 10,
    "start_time": "2023-06-07T16:27:54.037Z"
   },
   {
    "duration": 339,
    "start_time": "2023-06-07T16:28:07.677Z"
   },
   {
    "duration": 4,
    "start_time": "2023-06-07T16:31:04.600Z"
   },
   {
    "duration": 3,
    "start_time": "2023-06-07T16:31:30.688Z"
   },
   {
    "duration": 4,
    "start_time": "2023-06-07T16:32:56.946Z"
   },
   {
    "duration": 915,
    "start_time": "2023-06-07T16:33:16.849Z"
   },
   {
    "duration": 3,
    "start_time": "2023-06-07T16:37:42.879Z"
   },
   {
    "duration": 414,
    "start_time": "2023-06-07T16:37:44.307Z"
   },
   {
    "duration": 280,
    "start_time": "2023-06-07T16:37:59.117Z"
   },
   {
    "duration": 4,
    "start_time": "2023-06-07T16:39:46.271Z"
   },
   {
    "duration": 340,
    "start_time": "2023-06-07T16:39:48.246Z"
   },
   {
    "duration": 3,
    "start_time": "2023-06-07T16:40:42.319Z"
   },
   {
    "duration": 258,
    "start_time": "2023-06-07T16:40:43.447Z"
   },
   {
    "duration": 3,
    "start_time": "2023-06-07T16:41:27.952Z"
   },
   {
    "duration": 516,
    "start_time": "2023-06-07T16:41:29.368Z"
   },
   {
    "duration": 3,
    "start_time": "2023-06-07T16:42:10.337Z"
   },
   {
    "duration": 333,
    "start_time": "2023-06-07T16:42:11.585Z"
   },
   {
    "duration": 3,
    "start_time": "2023-06-07T16:43:19.457Z"
   },
   {
    "duration": 245,
    "start_time": "2023-06-07T16:43:20.065Z"
   },
   {
    "duration": 3,
    "start_time": "2023-06-07T16:43:33.665Z"
   },
   {
    "duration": 306,
    "start_time": "2023-06-07T16:43:34.817Z"
   },
   {
    "duration": 7,
    "start_time": "2023-06-07T16:44:01.690Z"
   },
   {
    "duration": 342,
    "start_time": "2023-06-07T16:44:02.257Z"
   },
   {
    "duration": 3,
    "start_time": "2023-06-07T16:44:34.883Z"
   },
   {
    "duration": 302,
    "start_time": "2023-06-07T16:44:36.483Z"
   },
   {
    "duration": 3,
    "start_time": "2023-06-07T16:45:13.467Z"
   },
   {
    "duration": 243,
    "start_time": "2023-06-07T16:45:14.647Z"
   },
   {
    "duration": 3,
    "start_time": "2023-06-07T16:46:11.796Z"
   },
   {
    "duration": 176,
    "start_time": "2023-06-07T16:46:12.859Z"
   },
   {
    "duration": 235,
    "start_time": "2023-06-07T16:46:16.052Z"
   },
   {
    "duration": 5,
    "start_time": "2023-06-07T16:47:47.381Z"
   },
   {
    "duration": 266,
    "start_time": "2023-06-07T16:47:49.349Z"
   },
   {
    "duration": 307,
    "start_time": "2023-06-07T16:47:50.887Z"
   },
   {
    "duration": 320,
    "start_time": "2023-06-07T16:49:03.495Z"
   },
   {
    "duration": 143,
    "start_time": "2023-06-07T16:49:04.957Z"
   },
   {
    "duration": 386,
    "start_time": "2023-06-07T16:49:22.835Z"
   },
   {
    "duration": 8,
    "start_time": "2023-06-07T16:51:47.896Z"
   },
   {
    "duration": 315,
    "start_time": "2023-06-07T16:51:58.969Z"
   },
   {
    "duration": 249,
    "start_time": "2023-06-07T16:53:23.869Z"
   },
   {
    "duration": 3,
    "start_time": "2023-06-07T16:55:51.716Z"
   },
   {
    "duration": 315,
    "start_time": "2023-06-07T16:55:53.691Z"
   },
   {
    "duration": 4,
    "start_time": "2023-06-07T16:56:54.623Z"
   },
   {
    "duration": 231,
    "start_time": "2023-06-07T16:56:55.456Z"
   },
   {
    "duration": 191,
    "start_time": "2023-06-07T16:56:57.081Z"
   },
   {
    "duration": 190,
    "start_time": "2023-06-07T16:57:00.527Z"
   },
   {
    "duration": 166,
    "start_time": "2023-06-07T16:57:48.449Z"
   },
   {
    "duration": 295,
    "start_time": "2023-06-07T16:58:29.787Z"
   },
   {
    "duration": 15803,
    "start_time": "2023-06-07T17:00:04.997Z"
   },
   {
    "duration": 9016,
    "start_time": "2023-06-07T17:00:20.803Z"
   },
   {
    "duration": 695,
    "start_time": "2023-06-07T17:00:29.821Z"
   },
   {
    "duration": 974,
    "start_time": "2023-06-07T17:00:30.518Z"
   },
   {
    "duration": 14,
    "start_time": "2023-06-07T17:00:31.495Z"
   },
   {
    "duration": 1687,
    "start_time": "2023-06-07T17:00:31.511Z"
   },
   {
    "duration": 5,
    "start_time": "2023-06-07T17:00:33.200Z"
   },
   {
    "duration": 992,
    "start_time": "2023-06-07T17:00:33.207Z"
   },
   {
    "duration": 125,
    "start_time": "2023-06-07T17:00:34.200Z"
   },
   {
    "duration": 0,
    "start_time": "2023-06-07T17:00:34.327Z"
   },
   {
    "duration": 4,
    "start_time": "2023-06-07T17:01:09.706Z"
   },
   {
    "duration": 595,
    "start_time": "2023-06-07T17:01:14.810Z"
   },
   {
    "duration": 903,
    "start_time": "2023-06-07T17:01:15.425Z"
   },
   {
    "duration": 53,
    "start_time": "2023-06-07T17:01:55.065Z"
   },
   {
    "duration": 15686,
    "start_time": "2023-06-07T17:01:59.810Z"
   },
   {
    "duration": 7905,
    "start_time": "2023-06-07T17:02:15.498Z"
   },
   {
    "duration": 44,
    "start_time": "2023-06-07T17:02:28.702Z"
   },
   {
    "duration": 1154,
    "start_time": "2023-06-07T17:02:53.648Z"
   },
   {
    "duration": 485,
    "start_time": "2023-06-07T17:03:09.113Z"
   },
   {
    "duration": 376,
    "start_time": "2023-06-07T17:03:15.551Z"
   },
   {
    "duration": 392,
    "start_time": "2023-06-07T17:03:26.927Z"
   },
   {
    "duration": 422,
    "start_time": "2023-06-07T17:03:36.400Z"
   },
   {
    "duration": 391,
    "start_time": "2023-06-07T17:04:17.041Z"
   },
   {
    "duration": 368,
    "start_time": "2023-06-07T17:04:47.330Z"
   },
   {
    "duration": 295,
    "start_time": "2023-06-07T17:05:45.959Z"
   },
   {
    "duration": 685,
    "start_time": "2023-06-07T17:05:50.005Z"
   },
   {
    "duration": 10,
    "start_time": "2023-06-07T17:05:51.868Z"
   },
   {
    "duration": 1184,
    "start_time": "2023-06-07T17:05:55.301Z"
   },
   {
    "duration": 282,
    "start_time": "2023-06-07T17:06:08.733Z"
   },
   {
    "duration": 318,
    "start_time": "2023-06-07T17:06:13.469Z"
   },
   {
    "duration": 526,
    "start_time": "2023-06-07T17:06:47.510Z"
   },
   {
    "duration": 264,
    "start_time": "2023-06-07T17:07:21.728Z"
   },
   {
    "duration": 8,
    "start_time": "2023-06-07T17:07:33.983Z"
   },
   {
    "duration": 303,
    "start_time": "2023-06-07T17:07:39.592Z"
   },
   {
    "duration": 16106,
    "start_time": "2023-06-07T17:08:30.716Z"
   },
   {
    "duration": 9578,
    "start_time": "2023-06-07T17:08:46.825Z"
   },
   {
    "duration": 886,
    "start_time": "2023-06-07T17:08:56.406Z"
   },
   {
    "duration": 1093,
    "start_time": "2023-06-07T17:08:57.294Z"
   },
   {
    "duration": 32,
    "start_time": "2023-06-07T17:08:58.389Z"
   },
   {
    "duration": 1701,
    "start_time": "2023-06-07T17:09:05.786Z"
   },
   {
    "duration": 11,
    "start_time": "2023-06-07T17:09:16.298Z"
   },
   {
    "duration": 464,
    "start_time": "2023-06-07T17:09:17.362Z"
   },
   {
    "duration": 430,
    "start_time": "2023-06-07T17:10:44.987Z"
   },
   {
    "duration": 75,
    "start_time": "2023-06-07T17:11:06.677Z"
   },
   {
    "duration": 352,
    "start_time": "2023-06-07T17:11:11.932Z"
   },
   {
    "duration": 556,
    "start_time": "2023-06-07T17:11:40.141Z"
   },
   {
    "duration": 4,
    "start_time": "2023-06-07T17:11:47.749Z"
   },
   {
    "duration": 706,
    "start_time": "2023-06-07T17:11:49.509Z"
   },
   {
    "duration": 368,
    "start_time": "2023-06-07T17:11:55.542Z"
   },
   {
    "duration": 16515,
    "start_time": "2023-06-07T17:12:50.892Z"
   },
   {
    "duration": 8381,
    "start_time": "2023-06-07T17:13:07.410Z"
   },
   {
    "duration": 821,
    "start_time": "2023-06-07T17:13:15.793Z"
   },
   {
    "duration": 1126,
    "start_time": "2023-06-07T17:13:16.684Z"
   },
   {
    "duration": 74,
    "start_time": "2023-06-07T17:13:17.812Z"
   },
   {
    "duration": 1432,
    "start_time": "2023-06-07T17:13:17.887Z"
   },
   {
    "duration": 15117,
    "start_time": "2023-06-07T17:14:32.990Z"
   },
   {
    "duration": 8390,
    "start_time": "2023-06-07T17:14:48.110Z"
   },
   {
    "duration": 604,
    "start_time": "2023-06-07T17:14:56.504Z"
   },
   {
    "duration": 983,
    "start_time": "2023-06-07T17:14:57.111Z"
   },
   {
    "duration": 18,
    "start_time": "2023-06-07T17:14:58.096Z"
   },
   {
    "duration": 129,
    "start_time": "2023-06-07T17:15:03.778Z"
   },
   {
    "duration": 302,
    "start_time": "2023-06-07T17:15:12.683Z"
   },
   {
    "duration": 1405,
    "start_time": "2023-06-07T17:15:27.802Z"
   },
   {
    "duration": 412,
    "start_time": "2023-06-07T17:16:14.987Z"
   },
   {
    "duration": 11,
    "start_time": "2023-06-07T17:16:32.581Z"
   },
   {
    "duration": 619,
    "start_time": "2023-06-07T17:16:45.583Z"
   },
   {
    "duration": 4,
    "start_time": "2023-06-07T17:17:31.082Z"
   },
   {
    "duration": 699,
    "start_time": "2023-06-07T17:17:33.716Z"
   },
   {
    "duration": 443,
    "start_time": "2023-06-07T17:17:44.444Z"
   },
   {
    "duration": 895,
    "start_time": "2023-06-07T17:18:01.430Z"
   },
   {
    "duration": 382,
    "start_time": "2023-06-07T17:18:33.543Z"
   },
   {
    "duration": 17076,
    "start_time": "2023-06-07T17:25:13.940Z"
   },
   {
    "duration": 9091,
    "start_time": "2023-06-07T17:25:31.019Z"
   },
   {
    "duration": 801,
    "start_time": "2023-06-07T17:25:40.112Z"
   },
   {
    "duration": 1194,
    "start_time": "2023-06-07T17:25:40.916Z"
   },
   {
    "duration": 78,
    "start_time": "2023-06-07T17:25:42.113Z"
   },
   {
    "duration": 1924,
    "start_time": "2023-06-07T17:25:42.192Z"
   },
   {
    "duration": 588,
    "start_time": "2023-06-07T17:25:44.118Z"
   },
   {
    "duration": 10,
    "start_time": "2023-06-07T17:25:44.708Z"
   },
   {
    "duration": 1103,
    "start_time": "2023-06-07T17:25:44.784Z"
   },
   {
    "duration": 700,
    "start_time": "2023-06-07T17:25:45.889Z"
   },
   {
    "duration": 554,
    "start_time": "2023-06-07T17:25:59.953Z"
   },
   {
    "duration": 742,
    "start_time": "2023-06-07T17:26:18.081Z"
   },
   {
    "duration": 384,
    "start_time": "2023-06-07T18:12:43.357Z"
   },
   {
    "duration": 26,
    "start_time": "2023-06-07T18:16:33.025Z"
   },
   {
    "duration": 1521,
    "start_time": "2023-06-07T18:16:54.377Z"
   },
   {
    "duration": 572,
    "start_time": "2023-06-07T18:20:56.341Z"
   },
   {
    "duration": 751,
    "start_time": "2023-06-07T18:22:46.455Z"
   },
   {
    "duration": 132,
    "start_time": "2023-06-07T18:22:57.231Z"
   },
   {
    "duration": 15866,
    "start_time": "2023-06-07T18:23:26.743Z"
   },
   {
    "duration": 8706,
    "start_time": "2023-06-07T18:23:42.612Z"
   },
   {
    "duration": 686,
    "start_time": "2023-06-07T18:23:51.320Z"
   },
   {
    "duration": 1100,
    "start_time": "2023-06-07T18:23:52.008Z"
   },
   {
    "duration": 19,
    "start_time": "2023-06-07T18:23:53.109Z"
   },
   {
    "duration": 1500,
    "start_time": "2023-06-07T18:23:53.191Z"
   },
   {
    "duration": 505,
    "start_time": "2023-06-07T18:23:54.698Z"
   },
   {
    "duration": 4,
    "start_time": "2023-06-07T18:23:55.205Z"
   },
   {
    "duration": 1108,
    "start_time": "2023-06-07T18:23:55.211Z"
   },
   {
    "duration": 1088,
    "start_time": "2023-06-07T18:23:56.322Z"
   },
   {
    "duration": 2203,
    "start_time": "2023-06-07T18:23:57.412Z"
   },
   {
    "duration": 281,
    "start_time": "2023-06-07T18:25:03.319Z"
   },
   {
    "duration": 14753,
    "start_time": "2023-06-07T18:25:13.842Z"
   },
   {
    "duration": 7722,
    "start_time": "2023-06-07T18:25:28.597Z"
   },
   {
    "duration": 672,
    "start_time": "2023-06-07T18:25:36.322Z"
   },
   {
    "duration": 919,
    "start_time": "2023-06-07T18:25:36.996Z"
   },
   {
    "duration": 12,
    "start_time": "2023-06-07T18:25:37.917Z"
   },
   {
    "duration": 1314,
    "start_time": "2023-06-07T18:25:37.984Z"
   },
   {
    "duration": 432,
    "start_time": "2023-06-07T18:25:39.300Z"
   },
   {
    "duration": 52,
    "start_time": "2023-06-07T18:25:39.733Z"
   },
   {
    "duration": 726,
    "start_time": "2023-06-07T18:25:39.786Z"
   },
   {
    "duration": 1001,
    "start_time": "2023-06-07T18:25:40.514Z"
   },
   {
    "duration": 1977,
    "start_time": "2023-06-07T18:25:41.516Z"
   },
   {
    "duration": 195,
    "start_time": "2023-06-07T18:26:10.889Z"
   },
   {
    "duration": 2,
    "start_time": "2023-06-07T18:31:20.254Z"
   },
   {
    "duration": 2020,
    "start_time": "2023-06-07T18:32:06.982Z"
   },
   {
    "duration": 80,
    "start_time": "2023-06-07T18:34:53.898Z"
   },
   {
    "duration": 7,
    "start_time": "2023-06-07T18:35:14.810Z"
   },
   {
    "duration": 3,
    "start_time": "2023-06-07T18:41:02.127Z"
   },
   {
    "duration": 53,
    "start_time": "2023-06-07T18:42:29.895Z"
   },
   {
    "duration": 905,
    "start_time": "2023-06-07T18:43:04.313Z"
   },
   {
    "duration": 11,
    "start_time": "2023-06-07T18:43:20.256Z"
   },
   {
    "duration": 9,
    "start_time": "2023-06-07T18:52:27.940Z"
   },
   {
    "duration": 7,
    "start_time": "2023-06-07T18:53:16.640Z"
   },
   {
    "duration": 15035,
    "start_time": "2023-06-07T18:53:23.283Z"
   },
   {
    "duration": 7467,
    "start_time": "2023-06-07T18:53:38.321Z"
   },
   {
    "duration": 703,
    "start_time": "2023-06-07T18:53:45.790Z"
   },
   {
    "duration": 902,
    "start_time": "2023-06-07T18:53:46.494Z"
   },
   {
    "duration": 12,
    "start_time": "2023-06-07T18:53:47.400Z"
   },
   {
    "duration": 1510,
    "start_time": "2023-06-07T18:53:47.413Z"
   },
   {
    "duration": 345,
    "start_time": "2023-06-07T18:53:48.986Z"
   },
   {
    "duration": 4,
    "start_time": "2023-06-07T18:53:49.333Z"
   },
   {
    "duration": 668,
    "start_time": "2023-06-07T18:53:49.339Z"
   },
   {
    "duration": 897,
    "start_time": "2023-06-07T18:53:50.008Z"
   },
   {
    "duration": 1992,
    "start_time": "2023-06-07T18:53:50.907Z"
   },
   {
    "duration": 135,
    "start_time": "2023-06-07T18:53:52.900Z"
   },
   {
    "duration": 0,
    "start_time": "2023-06-07T18:53:53.037Z"
   },
   {
    "duration": 0,
    "start_time": "2023-06-07T18:53:53.038Z"
   },
   {
    "duration": 0,
    "start_time": "2023-06-07T18:53:53.039Z"
   },
   {
    "duration": 0,
    "start_time": "2023-06-07T18:53:53.039Z"
   },
   {
    "duration": 0,
    "start_time": "2023-06-07T18:53:53.040Z"
   },
   {
    "duration": 0,
    "start_time": "2023-06-07T18:53:53.041Z"
   },
   {
    "duration": 8,
    "start_time": "2023-06-07T18:56:04.580Z"
   },
   {
    "duration": 7,
    "start_time": "2023-06-07T18:56:22.061Z"
   },
   {
    "duration": 7,
    "start_time": "2023-06-07T19:33:17.769Z"
   },
   {
    "duration": 46,
    "start_time": "2023-06-07T19:35:18.731Z"
   },
   {
    "duration": 3,
    "start_time": "2023-06-07T19:36:20.227Z"
   },
   {
    "duration": 26,
    "start_time": "2023-06-07T19:36:21.587Z"
   },
   {
    "duration": 1200,
    "start_time": "2023-06-07T19:36:22.707Z"
   },
   {
    "duration": 79,
    "start_time": "2023-06-07T19:36:23.910Z"
   },
   {
    "duration": 2742,
    "start_time": "2023-06-07T19:38:06.172Z"
   },
   {
    "duration": 319,
    "start_time": "2023-06-07T19:38:43.622Z"
   },
   {
    "duration": 15263,
    "start_time": "2023-06-07T19:39:24.153Z"
   },
   {
    "duration": 7586,
    "start_time": "2023-06-07T19:39:39.418Z"
   },
   {
    "duration": 607,
    "start_time": "2023-06-07T19:39:47.006Z"
   },
   {
    "duration": 901,
    "start_time": "2023-06-07T19:39:47.685Z"
   },
   {
    "duration": 13,
    "start_time": "2023-06-07T19:39:48.588Z"
   },
   {
    "duration": 1491,
    "start_time": "2023-06-07T19:39:48.602Z"
   },
   {
    "duration": 400,
    "start_time": "2023-06-07T19:39:50.095Z"
   },
   {
    "duration": 4,
    "start_time": "2023-06-07T19:39:50.496Z"
   },
   {
    "duration": 816,
    "start_time": "2023-06-07T19:39:50.501Z"
   },
   {
    "duration": 898,
    "start_time": "2023-06-07T19:39:51.387Z"
   },
   {
    "duration": 2180,
    "start_time": "2023-06-07T19:39:52.287Z"
   },
   {
    "duration": 58,
    "start_time": "2023-06-07T19:39:54.469Z"
   },
   {
    "duration": 3,
    "start_time": "2023-06-07T19:39:54.585Z"
   },
   {
    "duration": 97,
    "start_time": "2023-06-07T19:39:54.590Z"
   },
   {
    "duration": 1396,
    "start_time": "2023-06-07T19:39:54.688Z"
   },
   {
    "duration": 10,
    "start_time": "2023-06-07T19:39:56.086Z"
   },
   {
    "duration": 469,
    "start_time": "2023-06-07T19:39:56.097Z"
   },
   {
    "duration": 3131,
    "start_time": "2023-06-07T19:39:56.585Z"
   },
   {
    "duration": 5588,
    "start_time": "2023-06-07T19:39:59.718Z"
   },
   {
    "duration": 356,
    "start_time": "2023-06-07T19:40:40.686Z"
   },
   {
    "duration": 877,
    "start_time": "2023-06-07T19:41:15.032Z"
   },
   {
    "duration": 3,
    "start_time": "2023-06-07T19:51:31.576Z"
   },
   {
    "duration": 196,
    "start_time": "2023-06-07T19:51:58.729Z"
   },
   {
    "duration": 2194,
    "start_time": "2023-06-07T19:52:15.714Z"
   },
   {
    "duration": 14854,
    "start_time": "2023-06-07T19:54:48.274Z"
   },
   {
    "duration": 7237,
    "start_time": "2023-06-07T19:55:03.184Z"
   },
   {
    "duration": 590,
    "start_time": "2023-06-07T19:55:10.423Z"
   },
   {
    "duration": 907,
    "start_time": "2023-06-07T19:55:11.015Z"
   },
   {
    "duration": 13,
    "start_time": "2023-06-07T19:55:11.924Z"
   },
   {
    "duration": 1410,
    "start_time": "2023-06-07T19:55:11.985Z"
   },
   {
    "duration": 397,
    "start_time": "2023-06-07T19:55:13.397Z"
   },
   {
    "duration": 6,
    "start_time": "2023-06-07T19:55:13.796Z"
   },
   {
    "duration": 710,
    "start_time": "2023-06-07T19:55:13.804Z"
   },
   {
    "duration": 875,
    "start_time": "2023-06-07T19:55:14.515Z"
   },
   {
    "duration": 2022,
    "start_time": "2023-06-07T19:55:15.392Z"
   },
   {
    "duration": 103,
    "start_time": "2023-06-07T19:55:17.416Z"
   },
   {
    "duration": 64,
    "start_time": "2023-06-07T19:55:17.521Z"
   },
   {
    "duration": 98,
    "start_time": "2023-06-07T19:55:17.589Z"
   },
   {
    "duration": 1207,
    "start_time": "2023-06-07T19:55:17.688Z"
   },
   {
    "duration": 11,
    "start_time": "2023-06-07T19:55:18.896Z"
   },
   {
    "duration": 485,
    "start_time": "2023-06-07T19:55:18.909Z"
   },
   {
    "duration": 3031,
    "start_time": "2023-06-07T19:55:19.396Z"
   },
   {
    "duration": 4289,
    "start_time": "2023-06-07T19:55:22.429Z"
   },
   {
    "duration": 1083,
    "start_time": "2023-06-07T19:55:26.719Z"
   },
   {
    "duration": 3,
    "start_time": "2023-06-07T19:55:27.803Z"
   },
   {
    "duration": 2394,
    "start_time": "2023-06-07T19:55:27.807Z"
   },
   {
    "duration": 348,
    "start_time": "2023-06-07T20:00:08.017Z"
   },
   {
    "duration": 15455,
    "start_time": "2023-06-07T20:00:25.135Z"
   },
   {
    "duration": 7494,
    "start_time": "2023-06-07T20:00:40.593Z"
   },
   {
    "duration": 698,
    "start_time": "2023-06-07T20:00:48.089Z"
   },
   {
    "duration": 897,
    "start_time": "2023-06-07T20:00:48.789Z"
   },
   {
    "duration": 12,
    "start_time": "2023-06-07T20:00:49.689Z"
   },
   {
    "duration": 1583,
    "start_time": "2023-06-07T20:00:49.703Z"
   },
   {
    "duration": 407,
    "start_time": "2023-06-07T20:00:51.287Z"
   },
   {
    "duration": 5,
    "start_time": "2023-06-07T20:00:51.696Z"
   },
   {
    "duration": 794,
    "start_time": "2023-06-07T20:00:51.703Z"
   },
   {
    "duration": 993,
    "start_time": "2023-06-07T20:00:52.499Z"
   },
   {
    "duration": 2114,
    "start_time": "2023-06-07T20:00:53.494Z"
   },
   {
    "duration": 109,
    "start_time": "2023-06-07T20:00:55.610Z"
   },
   {
    "duration": 66,
    "start_time": "2023-06-07T20:00:55.721Z"
   },
   {
    "duration": 102,
    "start_time": "2023-06-07T20:00:55.790Z"
   },
   {
    "duration": 1395,
    "start_time": "2023-06-07T20:00:55.893Z"
   },
   {
    "duration": 7,
    "start_time": "2023-06-07T20:00:57.290Z"
   },
   {
    "duration": 393,
    "start_time": "2023-06-07T20:00:57.298Z"
   },
   {
    "duration": 3405,
    "start_time": "2023-06-07T20:00:57.693Z"
   },
   {
    "duration": 4390,
    "start_time": "2023-06-07T20:01:01.099Z"
   },
   {
    "duration": 1011,
    "start_time": "2023-06-07T20:01:05.491Z"
   },
   {
    "duration": 3,
    "start_time": "2023-06-07T20:01:06.504Z"
   },
   {
    "duration": 2376,
    "start_time": "2023-06-07T20:01:06.509Z"
   },
   {
    "duration": 206,
    "start_time": "2023-06-07T20:06:26.334Z"
   },
   {
    "duration": 15070,
    "start_time": "2023-06-07T20:06:34.535Z"
   },
   {
    "duration": 8077,
    "start_time": "2023-06-07T20:06:49.608Z"
   },
   {
    "duration": 606,
    "start_time": "2023-06-07T20:06:57.687Z"
   },
   {
    "duration": 833,
    "start_time": "2023-06-07T20:06:58.295Z"
   },
   {
    "duration": 12,
    "start_time": "2023-06-07T20:06:59.185Z"
   },
   {
    "duration": 1686,
    "start_time": "2023-06-07T20:06:59.198Z"
   },
   {
    "duration": 399,
    "start_time": "2023-06-07T20:07:00.886Z"
   },
   {
    "duration": 4,
    "start_time": "2023-06-07T20:07:01.286Z"
   },
   {
    "duration": 800,
    "start_time": "2023-06-07T20:07:01.292Z"
   },
   {
    "duration": 832,
    "start_time": "2023-06-07T20:07:02.094Z"
   },
   {
    "duration": 1919,
    "start_time": "2023-06-07T20:07:02.985Z"
   },
   {
    "duration": 89,
    "start_time": "2023-06-07T20:07:04.906Z"
   },
   {
    "duration": 2,
    "start_time": "2023-06-07T20:07:04.997Z"
   },
   {
    "duration": 85,
    "start_time": "2023-06-07T20:07:05.000Z"
   },
   {
    "duration": 1031,
    "start_time": "2023-06-07T20:07:05.086Z"
   },
   {
    "duration": 65,
    "start_time": "2023-06-07T20:07:06.119Z"
   },
   {
    "duration": 99,
    "start_time": "2023-06-07T20:07:06.186Z"
   },
   {
    "duration": 0,
    "start_time": "2023-06-07T20:07:06.287Z"
   },
   {
    "duration": 0,
    "start_time": "2023-06-07T20:07:06.288Z"
   },
   {
    "duration": 0,
    "start_time": "2023-06-07T20:07:06.288Z"
   },
   {
    "duration": 0,
    "start_time": "2023-06-07T20:07:06.289Z"
   },
   {
    "duration": 0,
    "start_time": "2023-06-07T20:07:06.290Z"
   },
   {
    "duration": 365,
    "start_time": "2023-06-07T20:08:01.192Z"
   },
   {
    "duration": 2918,
    "start_time": "2023-06-07T20:08:06.193Z"
   },
   {
    "duration": 3996,
    "start_time": "2023-06-07T20:08:09.113Z"
   },
   {
    "duration": 1004,
    "start_time": "2023-06-07T20:08:13.111Z"
   },
   {
    "duration": 3,
    "start_time": "2023-06-07T20:08:14.117Z"
   },
   {
    "duration": 2569,
    "start_time": "2023-06-07T20:08:14.121Z"
   },
   {
    "duration": 15232,
    "start_time": "2023-06-07T20:16:23.855Z"
   },
   {
    "duration": 7426,
    "start_time": "2023-06-07T20:16:39.090Z"
   },
   {
    "duration": 581,
    "start_time": "2023-06-07T20:16:46.520Z"
   },
   {
    "duration": 981,
    "start_time": "2023-06-07T20:16:47.105Z"
   },
   {
    "duration": 12,
    "start_time": "2023-06-07T20:16:48.088Z"
   },
   {
    "duration": 1398,
    "start_time": "2023-06-07T20:16:48.101Z"
   },
   {
    "duration": 488,
    "start_time": "2023-06-07T20:16:49.501Z"
   },
   {
    "duration": 3,
    "start_time": "2023-06-07T20:16:49.991Z"
   },
   {
    "duration": 819,
    "start_time": "2023-06-07T20:16:49.996Z"
   },
   {
    "duration": 984,
    "start_time": "2023-06-07T20:16:50.817Z"
   },
   {
    "duration": 2103,
    "start_time": "2023-06-07T20:16:51.803Z"
   },
   {
    "duration": 107,
    "start_time": "2023-06-07T20:16:53.908Z"
   },
   {
    "duration": 3,
    "start_time": "2023-06-07T20:16:54.017Z"
   },
   {
    "duration": 90,
    "start_time": "2023-06-07T20:16:54.021Z"
   },
   {
    "duration": 1312,
    "start_time": "2023-06-07T20:16:54.113Z"
   },
   {
    "duration": 64,
    "start_time": "2023-06-07T20:16:55.427Z"
   },
   {
    "duration": 456,
    "start_time": "2023-06-07T20:16:55.493Z"
   },
   {
    "duration": 3210,
    "start_time": "2023-06-07T20:16:55.984Z"
   },
   {
    "duration": 3789,
    "start_time": "2023-06-07T20:16:59.196Z"
   },
   {
    "duration": 796,
    "start_time": "2023-06-07T20:17:02.986Z"
   },
   {
    "duration": 3,
    "start_time": "2023-06-07T20:17:03.784Z"
   },
   {
    "duration": 2611,
    "start_time": "2023-06-07T20:17:03.788Z"
   },
   {
    "duration": 180,
    "start_time": "2023-06-07T20:25:00.616Z"
   },
   {
    "duration": 6,
    "start_time": "2023-06-07T20:43:41.535Z"
   },
   {
    "duration": 2,
    "start_time": "2023-06-07T20:43:58.407Z"
   },
   {
    "duration": 2,
    "start_time": "2023-06-07T20:44:24.151Z"
   },
   {
    "duration": 30,
    "start_time": "2023-06-07T20:47:52.385Z"
   },
   {
    "duration": 15008,
    "start_time": "2023-06-07T20:48:07.201Z"
   },
   {
    "duration": 7390,
    "start_time": "2023-06-07T20:48:22.211Z"
   },
   {
    "duration": 686,
    "start_time": "2023-06-07T20:48:29.602Z"
   },
   {
    "duration": 828,
    "start_time": "2023-06-07T20:48:30.290Z"
   },
   {
    "duration": 12,
    "start_time": "2023-06-07T20:48:31.188Z"
   },
   {
    "duration": 1592,
    "start_time": "2023-06-07T20:48:31.201Z"
   },
   {
    "duration": 402,
    "start_time": "2023-06-07T20:48:32.795Z"
   },
   {
    "duration": 4,
    "start_time": "2023-06-07T20:48:33.198Z"
   },
   {
    "duration": 698,
    "start_time": "2023-06-07T20:48:33.203Z"
   },
   {
    "duration": 939,
    "start_time": "2023-06-07T20:48:33.903Z"
   },
   {
    "duration": 111,
    "start_time": "2023-06-07T20:48:34.885Z"
   },
   {
    "duration": 0,
    "start_time": "2023-06-07T20:48:34.998Z"
   },
   {
    "duration": 0,
    "start_time": "2023-06-07T20:48:34.999Z"
   },
   {
    "duration": 0,
    "start_time": "2023-06-07T20:48:35.000Z"
   },
   {
    "duration": 0,
    "start_time": "2023-06-07T20:48:35.001Z"
   },
   {
    "duration": 0,
    "start_time": "2023-06-07T20:48:35.001Z"
   },
   {
    "duration": 0,
    "start_time": "2023-06-07T20:48:35.002Z"
   },
   {
    "duration": 0,
    "start_time": "2023-06-07T20:48:35.003Z"
   },
   {
    "duration": 0,
    "start_time": "2023-06-07T20:48:35.007Z"
   },
   {
    "duration": 0,
    "start_time": "2023-06-07T20:48:35.008Z"
   },
   {
    "duration": 0,
    "start_time": "2023-06-07T20:48:35.009Z"
   },
   {
    "duration": 0,
    "start_time": "2023-06-07T20:48:35.010Z"
   },
   {
    "duration": 0,
    "start_time": "2023-06-07T20:48:35.011Z"
   },
   {
    "duration": 7,
    "start_time": "2023-06-07T20:50:44.052Z"
   },
   {
    "duration": 14,
    "start_time": "2023-06-07T20:51:33.549Z"
   },
   {
    "duration": 4,
    "start_time": "2023-06-07T20:53:22.015Z"
   },
   {
    "duration": 3,
    "start_time": "2023-06-07T20:53:41.807Z"
   },
   {
    "duration": 3,
    "start_time": "2023-06-07T20:54:25.585Z"
   },
   {
    "duration": 3,
    "start_time": "2023-06-07T20:54:26.904Z"
   },
   {
    "duration": 3,
    "start_time": "2023-06-07T20:55:30.449Z"
   },
   {
    "duration": 2,
    "start_time": "2023-06-07T20:55:31.939Z"
   },
   {
    "duration": 97,
    "start_time": "2023-06-07T20:55:56.737Z"
   },
   {
    "duration": 10,
    "start_time": "2023-06-07T20:56:07.049Z"
   },
   {
    "duration": 3,
    "start_time": "2023-06-07T20:56:17.089Z"
   },
   {
    "duration": 3,
    "start_time": "2023-06-07T20:56:26.945Z"
   },
   {
    "duration": 2,
    "start_time": "2023-06-07T20:56:50.486Z"
   },
   {
    "duration": 3,
    "start_time": "2023-06-07T20:56:51.087Z"
   },
   {
    "duration": 34,
    "start_time": "2023-06-07T20:57:09.131Z"
   },
   {
    "duration": 16,
    "start_time": "2023-06-07T20:58:00.594Z"
   },
   {
    "duration": 7,
    "start_time": "2023-06-07T20:58:36.814Z"
   },
   {
    "duration": 1640,
    "start_time": "2023-06-07T20:58:50.094Z"
   },
   {
    "duration": 528,
    "start_time": "2023-06-07T20:59:29.958Z"
   },
   {
    "duration": 437,
    "start_time": "2023-06-07T20:59:36.078Z"
   },
   {
    "duration": 390,
    "start_time": "2023-06-07T20:59:41.727Z"
   },
   {
    "duration": 506,
    "start_time": "2023-06-07T20:59:59.118Z"
   },
   {
    "duration": 711,
    "start_time": "2023-06-07T21:01:28.587Z"
   },
   {
    "duration": 496,
    "start_time": "2023-06-07T21:04:35.091Z"
   },
   {
    "duration": 103,
    "start_time": "2023-06-07T21:05:23.308Z"
   },
   {
    "duration": 32,
    "start_time": "2023-06-07T21:06:11.590Z"
   },
   {
    "duration": 320,
    "start_time": "2023-06-07T21:06:57.899Z"
   },
   {
    "duration": 28,
    "start_time": "2023-06-07T21:08:15.303Z"
   },
   {
    "duration": 1048,
    "start_time": "2023-06-07T21:08:41.055Z"
   },
   {
    "duration": 5,
    "start_time": "2023-06-07T21:08:45.267Z"
   },
   {
    "duration": 3,
    "start_time": "2023-06-07T21:09:07.720Z"
   },
   {
    "duration": 30,
    "start_time": "2023-06-07T21:10:54.210Z"
   },
   {
    "duration": 113,
    "start_time": "2023-06-07T21:11:04.034Z"
   },
   {
    "duration": 124,
    "start_time": "2023-06-07T21:11:30.492Z"
   },
   {
    "duration": 126,
    "start_time": "2023-06-07T21:12:03.588Z"
   },
   {
    "duration": 14857,
    "start_time": "2023-06-07T21:12:41.640Z"
   },
   {
    "duration": 7594,
    "start_time": "2023-06-07T21:12:56.499Z"
   },
   {
    "duration": 518,
    "start_time": "2023-06-07T21:13:04.095Z"
   },
   {
    "duration": 906,
    "start_time": "2023-06-07T21:13:04.615Z"
   },
   {
    "duration": 73,
    "start_time": "2023-06-07T21:13:05.526Z"
   },
   {
    "duration": 1400,
    "start_time": "2023-06-07T21:13:05.600Z"
   },
   {
    "duration": 485,
    "start_time": "2023-06-07T21:13:07.002Z"
   },
   {
    "duration": 4,
    "start_time": "2023-06-07T21:13:07.489Z"
   },
   {
    "duration": 699,
    "start_time": "2023-06-07T21:13:07.495Z"
   },
   {
    "duration": 896,
    "start_time": "2023-06-07T21:13:08.196Z"
   },
   {
    "duration": 3,
    "start_time": "2023-06-07T21:13:09.093Z"
   },
   {
    "duration": 1598,
    "start_time": "2023-06-07T21:13:09.097Z"
   },
   {
    "duration": 688,
    "start_time": "2023-06-07T21:13:10.697Z"
   },
   {
    "duration": 97,
    "start_time": "2023-06-07T21:13:11.388Z"
   },
   {
    "duration": 428,
    "start_time": "2023-06-07T21:13:11.487Z"
   },
   {
    "duration": 95,
    "start_time": "2023-06-07T21:13:11.917Z"
   },
   {
    "duration": 1183,
    "start_time": "2023-06-07T21:13:12.014Z"
   },
   {
    "duration": 6,
    "start_time": "2023-06-07T21:13:13.199Z"
   },
   {
    "duration": 785,
    "start_time": "2023-06-07T21:13:13.206Z"
   },
   {
    "duration": 3125,
    "start_time": "2023-06-07T21:13:13.993Z"
   },
   {
    "duration": 3603,
    "start_time": "2023-06-07T21:13:17.185Z"
   },
   {
    "duration": 885,
    "start_time": "2023-06-07T21:13:20.790Z"
   },
   {
    "duration": 2,
    "start_time": "2023-06-07T21:13:21.677Z"
   },
   {
    "duration": 2443,
    "start_time": "2023-06-07T21:13:21.680Z"
   },
   {
    "duration": 242,
    "start_time": "2023-06-07T21:13:24.125Z"
   },
   {
    "duration": 25770,
    "start_time": "2023-06-09T18:11:29.410Z"
   },
   {
    "duration": 11601,
    "start_time": "2023-06-09T18:11:55.190Z"
   },
   {
    "duration": 792,
    "start_time": "2023-06-09T18:12:06.793Z"
   },
   {
    "duration": 1351,
    "start_time": "2023-06-09T18:12:07.586Z"
   },
   {
    "duration": 43,
    "start_time": "2023-06-09T18:12:08.940Z"
   },
   {
    "duration": 2245,
    "start_time": "2023-06-09T18:12:08.984Z"
   },
   {
    "duration": 614,
    "start_time": "2023-06-09T18:12:11.230Z"
   },
   {
    "duration": 6,
    "start_time": "2023-06-09T18:12:11.846Z"
   },
   {
    "duration": 935,
    "start_time": "2023-06-09T18:12:11.882Z"
   },
   {
    "duration": 1414,
    "start_time": "2023-06-09T18:12:12.819Z"
   },
   {
    "duration": 54,
    "start_time": "2023-06-09T18:12:14.235Z"
   },
   {
    "duration": 2682,
    "start_time": "2023-06-09T18:12:14.291Z"
   },
   {
    "duration": 650,
    "start_time": "2023-06-09T18:12:16.982Z"
   },
   {
    "duration": 180,
    "start_time": "2023-06-09T18:12:17.635Z"
   },
   {
    "duration": 480,
    "start_time": "2023-06-09T18:12:17.817Z"
   },
   {
    "duration": 100,
    "start_time": "2023-06-09T18:12:18.301Z"
   },
   {
    "duration": 1714,
    "start_time": "2023-06-09T18:12:18.402Z"
   },
   {
    "duration": 67,
    "start_time": "2023-06-09T18:12:20.118Z"
   },
   {
    "duration": 1065,
    "start_time": "2023-06-09T18:12:20.188Z"
   },
   {
    "duration": 4072,
    "start_time": "2023-06-09T18:12:21.255Z"
   },
   {
    "duration": 5713,
    "start_time": "2023-06-09T18:12:25.328Z"
   },
   {
    "duration": 1273,
    "start_time": "2023-06-09T18:12:31.043Z"
   },
   {
    "duration": 20,
    "start_time": "2023-06-09T18:12:32.317Z"
   },
   {
    "duration": 3079,
    "start_time": "2023-06-09T18:12:32.376Z"
   },
   {
    "duration": 255,
    "start_time": "2023-06-09T18:12:35.457Z"
   },
   {
    "duration": 16820,
    "start_time": "2023-06-09T18:23:55.479Z"
   },
   {
    "duration": 9576,
    "start_time": "2023-06-09T18:24:12.302Z"
   },
   {
    "duration": 716,
    "start_time": "2023-06-09T18:24:21.887Z"
   },
   {
    "duration": 1285,
    "start_time": "2023-06-09T18:24:22.605Z"
   },
   {
    "duration": 16,
    "start_time": "2023-06-09T18:24:23.892Z"
   },
   {
    "duration": 1877,
    "start_time": "2023-06-09T18:24:23.910Z"
   },
   {
    "duration": 533,
    "start_time": "2023-06-09T18:24:25.789Z"
   },
   {
    "duration": 7,
    "start_time": "2023-06-09T18:24:26.375Z"
   },
   {
    "duration": 901,
    "start_time": "2023-06-09T18:24:26.383Z"
   },
   {
    "duration": 1300,
    "start_time": "2023-06-09T18:24:27.285Z"
   },
   {
    "duration": 4,
    "start_time": "2023-06-09T18:24:28.586Z"
   },
   {
    "duration": 2088,
    "start_time": "2023-06-09T18:24:28.591Z"
   },
   {
    "duration": 655,
    "start_time": "2023-06-09T18:24:30.682Z"
   },
   {
    "duration": 76,
    "start_time": "2023-06-09T18:24:31.340Z"
   },
   {
    "duration": 491,
    "start_time": "2023-06-09T18:24:31.418Z"
   },
   {
    "duration": 75,
    "start_time": "2023-06-09T18:24:31.912Z"
   },
   {
    "duration": 1419,
    "start_time": "2023-06-09T18:24:31.994Z"
   },
   {
    "duration": 8,
    "start_time": "2023-06-09T18:24:33.475Z"
   },
   {
    "duration": 937,
    "start_time": "2023-06-09T18:24:33.486Z"
   },
   {
    "duration": 4078,
    "start_time": "2023-06-09T18:24:34.425Z"
   },
   {
    "duration": 4790,
    "start_time": "2023-06-09T18:24:38.505Z"
   },
   {
    "duration": 1178,
    "start_time": "2023-06-09T18:24:43.297Z"
   },
   {
    "duration": 3,
    "start_time": "2023-06-09T18:24:44.478Z"
   },
   {
    "duration": 175,
    "start_time": "2023-06-09T18:24:44.482Z"
   },
   {
    "duration": 0,
    "start_time": "2023-06-09T18:24:44.659Z"
   },
   {
    "duration": 0,
    "start_time": "2023-06-09T18:24:44.660Z"
   },
   {
    "duration": 2623,
    "start_time": "2023-06-09T18:25:46.868Z"
   },
   {
    "duration": 3084,
    "start_time": "2023-06-09T18:28:44.431Z"
   },
   {
    "duration": 765,
    "start_time": "2023-06-09T18:29:47.630Z"
   },
   {
    "duration": 2570,
    "start_time": "2023-06-09T18:29:53.339Z"
   },
   {
    "duration": 2169,
    "start_time": "2023-06-09T18:32:16.770Z"
   },
   {
    "duration": 1435,
    "start_time": "2023-06-09T18:32:30.743Z"
   },
   {
    "duration": 1898,
    "start_time": "2023-06-09T18:42:05.048Z"
   },
   {
    "duration": 1376,
    "start_time": "2023-06-09T18:42:31.143Z"
   },
   {
    "duration": 76,
    "start_time": "2023-06-09T18:44:55.777Z"
   },
   {
    "duration": 59,
    "start_time": "2023-06-09T18:46:05.983Z"
   },
   {
    "duration": 15,
    "start_time": "2023-06-09T18:46:39.119Z"
   },
   {
    "duration": 17208,
    "start_time": "2023-06-09T18:47:26.604Z"
   },
   {
    "duration": 9908,
    "start_time": "2023-06-09T18:47:43.815Z"
   },
   {
    "duration": 851,
    "start_time": "2023-06-09T18:47:53.727Z"
   },
   {
    "duration": 1218,
    "start_time": "2023-06-09T18:47:54.579Z"
   },
   {
    "duration": 20,
    "start_time": "2023-06-09T18:47:55.799Z"
   },
   {
    "duration": 1795,
    "start_time": "2023-06-09T18:47:55.822Z"
   },
   {
    "duration": 581,
    "start_time": "2023-06-09T18:47:57.622Z"
   },
   {
    "duration": 10,
    "start_time": "2023-06-09T18:47:58.204Z"
   },
   {
    "duration": 1179,
    "start_time": "2023-06-09T18:47:58.219Z"
   },
   {
    "duration": 1077,
    "start_time": "2023-06-09T18:47:59.400Z"
   },
   {
    "duration": 8,
    "start_time": "2023-06-09T18:48:00.481Z"
   },
   {
    "duration": 2495,
    "start_time": "2023-06-09T18:48:00.491Z"
   },
   {
    "duration": 1133,
    "start_time": "2023-06-09T18:48:02.990Z"
   },
   {
    "duration": 159,
    "start_time": "2023-06-09T18:48:04.126Z"
   },
   {
    "duration": 632,
    "start_time": "2023-06-09T18:48:04.287Z"
   },
   {
    "duration": 96,
    "start_time": "2023-06-09T18:48:04.922Z"
   },
   {
    "duration": 1689,
    "start_time": "2023-06-09T18:48:05.020Z"
   },
   {
    "duration": 65,
    "start_time": "2023-06-09T18:48:06.717Z"
   },
   {
    "duration": 937,
    "start_time": "2023-06-09T18:48:06.788Z"
   },
   {
    "duration": 4169,
    "start_time": "2023-06-09T18:48:07.727Z"
   },
   {
    "duration": 5083,
    "start_time": "2023-06-09T18:48:11.903Z"
   },
   {
    "duration": 1304,
    "start_time": "2023-06-09T18:48:16.992Z"
   },
   {
    "duration": 5,
    "start_time": "2023-06-09T18:48:18.297Z"
   },
   {
    "duration": 3182,
    "start_time": "2023-06-09T18:48:18.304Z"
   },
   {
    "duration": 3536,
    "start_time": "2023-06-09T18:48:21.488Z"
   },
   {
    "duration": 1225,
    "start_time": "2023-06-09T18:48:25.075Z"
   },
   {
    "duration": 3388,
    "start_time": "2023-06-09T18:48:26.302Z"
   },
   {
    "duration": 20,
    "start_time": "2023-06-09T18:48:29.693Z"
   },
   {
    "duration": 17141,
    "start_time": "2023-06-09T18:50:05.462Z"
   },
   {
    "duration": 10083,
    "start_time": "2023-06-09T18:50:22.607Z"
   },
   {
    "duration": 921,
    "start_time": "2023-06-09T18:50:32.691Z"
   },
   {
    "duration": 1211,
    "start_time": "2023-06-09T18:50:33.615Z"
   },
   {
    "duration": 79,
    "start_time": "2023-06-09T18:50:34.828Z"
   },
   {
    "duration": 2281,
    "start_time": "2023-06-09T18:50:34.912Z"
   },
   {
    "duration": 599,
    "start_time": "2023-06-09T18:50:37.199Z"
   },
   {
    "duration": 11,
    "start_time": "2023-06-09T18:50:37.799Z"
   },
   {
    "duration": 1024,
    "start_time": "2023-06-09T18:50:37.814Z"
   },
   {
    "duration": 1307,
    "start_time": "2023-06-09T18:50:38.876Z"
   },
   {
    "duration": 6,
    "start_time": "2023-06-09T18:50:40.185Z"
   },
   {
    "duration": 2059,
    "start_time": "2023-06-09T18:50:40.194Z"
   },
   {
    "duration": 658,
    "start_time": "2023-06-09T18:50:42.256Z"
   },
   {
    "duration": 111,
    "start_time": "2023-06-09T18:50:42.919Z"
   },
   {
    "duration": 540,
    "start_time": "2023-06-09T18:50:43.075Z"
   },
   {
    "duration": 87,
    "start_time": "2023-06-09T18:50:43.617Z"
   },
   {
    "duration": 1572,
    "start_time": "2023-06-09T18:50:43.708Z"
   },
   {
    "duration": 8,
    "start_time": "2023-06-09T18:50:45.282Z"
   },
   {
    "duration": 468,
    "start_time": "2023-06-09T18:50:45.291Z"
   },
   {
    "duration": 3931,
    "start_time": "2023-06-09T18:50:45.761Z"
   },
   {
    "duration": 5129,
    "start_time": "2023-06-09T18:50:49.693Z"
   },
   {
    "duration": 1117,
    "start_time": "2023-06-09T18:50:54.824Z"
   },
   {
    "duration": 3,
    "start_time": "2023-06-09T18:50:55.942Z"
   },
   {
    "duration": 3250,
    "start_time": "2023-06-09T18:50:55.946Z"
   },
   {
    "duration": 3488,
    "start_time": "2023-06-09T18:50:59.199Z"
   },
   {
    "duration": 930,
    "start_time": "2023-06-09T18:51:02.692Z"
   },
   {
    "duration": 2294,
    "start_time": "2023-06-09T18:51:03.624Z"
   },
   {
    "duration": 14,
    "start_time": "2023-06-09T18:51:05.920Z"
   },
   {
    "duration": 17902,
    "start_time": "2023-06-09T18:53:49.807Z"
   },
   {
    "duration": 11197,
    "start_time": "2023-06-09T18:54:07.714Z"
   },
   {
    "duration": 991,
    "start_time": "2023-06-09T18:54:18.914Z"
   },
   {
    "duration": 1234,
    "start_time": "2023-06-09T18:54:19.907Z"
   },
   {
    "duration": 33,
    "start_time": "2023-06-09T18:54:21.179Z"
   },
   {
    "duration": 2314,
    "start_time": "2023-06-09T18:54:21.214Z"
   },
   {
    "duration": 557,
    "start_time": "2023-06-09T18:54:23.530Z"
   },
   {
    "duration": 14,
    "start_time": "2023-06-09T18:54:24.093Z"
   },
   {
    "duration": 1115,
    "start_time": "2023-06-09T18:54:24.112Z"
   },
   {
    "duration": 1251,
    "start_time": "2023-06-09T18:54:25.228Z"
   },
   {
    "duration": 12,
    "start_time": "2023-06-09T18:54:26.481Z"
   },
   {
    "duration": 2724,
    "start_time": "2023-06-09T18:54:26.495Z"
   },
   {
    "duration": 1140,
    "start_time": "2023-06-09T18:54:29.221Z"
   },
   {
    "duration": 139,
    "start_time": "2023-06-09T18:54:30.366Z"
   },
   {
    "duration": 595,
    "start_time": "2023-06-09T18:54:30.506Z"
   },
   {
    "duration": 107,
    "start_time": "2023-06-09T18:54:31.103Z"
   },
   {
    "duration": 1866,
    "start_time": "2023-06-09T18:54:31.212Z"
   },
   {
    "duration": 23,
    "start_time": "2023-06-09T18:54:33.080Z"
   },
   {
    "duration": 679,
    "start_time": "2023-06-09T18:54:33.105Z"
   },
   {
    "duration": 4443,
    "start_time": "2023-06-09T18:54:33.786Z"
   },
   {
    "duration": 5083,
    "start_time": "2023-06-09T18:54:38.231Z"
   },
   {
    "duration": 1473,
    "start_time": "2023-06-09T18:54:43.316Z"
   },
   {
    "duration": 7,
    "start_time": "2023-06-09T18:54:44.790Z"
   },
   {
    "duration": 3186,
    "start_time": "2023-06-09T18:54:44.798Z"
   },
   {
    "duration": 3627,
    "start_time": "2023-06-09T18:54:47.986Z"
   },
   {
    "duration": 1419,
    "start_time": "2023-06-09T18:54:51.615Z"
   },
   {
    "duration": 2775,
    "start_time": "2023-06-09T18:54:53.036Z"
   },
   {
    "duration": 26,
    "start_time": "2023-06-09T18:54:55.816Z"
   },
   {
    "duration": 1307,
    "start_time": "2023-06-09T18:57:52.425Z"
   },
   {
    "duration": 17234,
    "start_time": "2023-06-09T18:58:51.159Z"
   },
   {
    "duration": 10886,
    "start_time": "2023-06-09T18:59:08.395Z"
   },
   {
    "duration": 816,
    "start_time": "2023-06-09T18:59:19.288Z"
   },
   {
    "duration": 1196,
    "start_time": "2023-06-09T18:59:20.106Z"
   },
   {
    "duration": 13,
    "start_time": "2023-06-09T18:59:21.304Z"
   },
   {
    "duration": 1925,
    "start_time": "2023-06-09T18:59:21.382Z"
   },
   {
    "duration": 688,
    "start_time": "2023-06-09T18:59:23.309Z"
   },
   {
    "duration": 5,
    "start_time": "2023-06-09T18:59:23.999Z"
   },
   {
    "duration": 814,
    "start_time": "2023-06-09T18:59:24.006Z"
   },
   {
    "duration": 1118,
    "start_time": "2023-06-09T18:59:24.880Z"
   },
   {
    "duration": 3,
    "start_time": "2023-06-09T18:59:25.999Z"
   },
   {
    "duration": 2173,
    "start_time": "2023-06-09T18:59:26.003Z"
   },
   {
    "duration": 824,
    "start_time": "2023-06-09T18:59:28.178Z"
   },
   {
    "duration": 90,
    "start_time": "2023-06-09T18:59:29.003Z"
   },
   {
    "duration": 427,
    "start_time": "2023-06-09T18:59:29.095Z"
   },
   {
    "duration": 83,
    "start_time": "2023-06-09T18:59:29.524Z"
   },
   {
    "duration": 1304,
    "start_time": "2023-06-09T18:59:29.608Z"
   },
   {
    "duration": 74,
    "start_time": "2023-06-09T18:59:30.914Z"
   },
   {
    "duration": 501,
    "start_time": "2023-06-09T18:59:30.995Z"
   },
   {
    "duration": 3681,
    "start_time": "2023-06-09T18:59:31.498Z"
   },
   {
    "duration": 4827,
    "start_time": "2023-06-09T18:59:35.181Z"
   },
   {
    "duration": 1109,
    "start_time": "2023-06-09T18:59:40.010Z"
   },
   {
    "duration": 3,
    "start_time": "2023-06-09T18:59:41.121Z"
   },
   {
    "duration": 2736,
    "start_time": "2023-06-09T18:59:41.177Z"
   },
   {
    "duration": 3099,
    "start_time": "2023-06-09T18:59:43.980Z"
   },
   {
    "duration": 941,
    "start_time": "2023-06-09T18:59:47.085Z"
   },
   {
    "duration": 2112,
    "start_time": "2023-06-09T18:59:48.028Z"
   },
   {
    "duration": 15,
    "start_time": "2023-06-09T18:59:50.178Z"
   },
   {
    "duration": 5546,
    "start_time": "2023-06-09T19:00:58.994Z"
   },
   {
    "duration": 3784,
    "start_time": "2023-06-09T19:02:05.375Z"
   },
   {
    "duration": 45,
    "start_time": "2023-06-09T19:20:41.072Z"
   },
   {
    "duration": 15711,
    "start_time": "2023-06-09T19:37:57.299Z"
   },
   {
    "duration": 8690,
    "start_time": "2023-06-09T19:38:13.012Z"
   },
   {
    "duration": 1314,
    "start_time": "2023-06-09T19:38:21.704Z"
   },
   {
    "duration": 1078,
    "start_time": "2023-06-09T19:38:23.020Z"
   },
   {
    "duration": 5,
    "start_time": "2023-06-09T19:38:24.101Z"
   },
   {
    "duration": 1595,
    "start_time": "2023-06-09T19:38:24.108Z"
   },
   {
    "duration": 505,
    "start_time": "2023-06-09T19:38:25.705Z"
   },
   {
    "duration": 5,
    "start_time": "2023-06-09T19:38:26.213Z"
   },
   {
    "duration": 1000,
    "start_time": "2023-06-09T19:38:26.219Z"
   },
   {
    "duration": 1239,
    "start_time": "2023-06-09T19:38:27.277Z"
   },
   {
    "duration": 4,
    "start_time": "2023-06-09T19:38:28.518Z"
   },
   {
    "duration": 2178,
    "start_time": "2023-06-09T19:38:28.523Z"
   },
   {
    "duration": 787,
    "start_time": "2023-06-09T19:38:30.703Z"
   },
   {
    "duration": 110,
    "start_time": "2023-06-09T19:38:31.492Z"
   },
   {
    "duration": 496,
    "start_time": "2023-06-09T19:38:31.603Z"
   },
   {
    "duration": 93,
    "start_time": "2023-06-09T19:38:32.101Z"
   },
   {
    "duration": 1320,
    "start_time": "2023-06-09T19:38:32.196Z"
   },
   {
    "duration": 11,
    "start_time": "2023-06-09T19:38:33.580Z"
   },
   {
    "duration": 463,
    "start_time": "2023-06-09T19:38:33.593Z"
   },
   {
    "duration": 3227,
    "start_time": "2023-06-09T19:38:34.079Z"
   },
   {
    "duration": 4001,
    "start_time": "2023-06-09T19:38:37.307Z"
   },
   {
    "duration": 1117,
    "start_time": "2023-06-09T19:38:41.310Z"
   },
   {
    "duration": 2506,
    "start_time": "2023-06-09T19:38:42.482Z"
   },
   {
    "duration": 2643,
    "start_time": "2023-06-09T19:38:44.990Z"
   },
   {
    "duration": 923,
    "start_time": "2023-06-09T19:38:47.635Z"
   },
   {
    "duration": 2153,
    "start_time": "2023-06-09T19:38:48.580Z"
   },
   {
    "duration": 56,
    "start_time": "2023-06-09T19:38:50.734Z"
   },
   {
    "duration": 15857,
    "start_time": "2023-06-09T19:40:15.162Z"
   },
   {
    "duration": 8703,
    "start_time": "2023-06-09T19:40:31.075Z"
   },
   {
    "duration": 1423,
    "start_time": "2023-06-09T19:40:39.779Z"
   },
   {
    "duration": 921,
    "start_time": "2023-06-09T19:40:41.203Z"
   },
   {
    "duration": 17,
    "start_time": "2023-06-09T19:40:42.176Z"
   },
   {
    "duration": 1712,
    "start_time": "2023-06-09T19:40:42.195Z"
   },
   {
    "duration": 702,
    "start_time": "2023-06-09T19:40:43.908Z"
   },
   {
    "duration": 3,
    "start_time": "2023-06-09T19:40:44.612Z"
   },
   {
    "duration": 898,
    "start_time": "2023-06-09T19:40:44.617Z"
   },
   {
    "duration": 1164,
    "start_time": "2023-06-09T19:40:45.517Z"
   },
   {
    "duration": 3,
    "start_time": "2023-06-09T19:40:46.686Z"
   },
   {
    "duration": 2187,
    "start_time": "2023-06-09T19:40:46.692Z"
   },
   {
    "duration": 711,
    "start_time": "2023-06-09T19:40:48.880Z"
   },
   {
    "duration": 100,
    "start_time": "2023-06-09T19:40:49.596Z"
   },
   {
    "duration": 482,
    "start_time": "2023-06-09T19:40:49.698Z"
   },
   {
    "duration": 99,
    "start_time": "2023-06-09T19:40:50.182Z"
   },
   {
    "duration": 1393,
    "start_time": "2023-06-09T19:40:50.284Z"
   },
   {
    "duration": 6,
    "start_time": "2023-06-09T19:40:51.679Z"
   },
   {
    "duration": 497,
    "start_time": "2023-06-09T19:40:51.687Z"
   },
   {
    "duration": 3619,
    "start_time": "2023-06-09T19:40:52.186Z"
   },
   {
    "duration": 4491,
    "start_time": "2023-06-09T19:40:55.806Z"
   },
   {
    "duration": 1055,
    "start_time": "2023-06-09T19:41:00.299Z"
   },
   {
    "duration": 2430,
    "start_time": "2023-06-09T19:41:01.377Z"
   },
   {
    "duration": 2981,
    "start_time": "2023-06-09T19:41:03.809Z"
   },
   {
    "duration": 849,
    "start_time": "2023-06-09T19:41:06.791Z"
   },
   {
    "duration": 2058,
    "start_time": "2023-06-09T19:41:07.642Z"
   },
   {
    "duration": 9,
    "start_time": "2023-06-09T19:41:09.701Z"
   },
   {
    "duration": 16232,
    "start_time": "2023-06-09T19:42:13.089Z"
   },
   {
    "duration": 9537,
    "start_time": "2023-06-09T19:42:29.380Z"
   },
   {
    "duration": 1497,
    "start_time": "2023-06-09T19:42:38.919Z"
   },
   {
    "duration": 1071,
    "start_time": "2023-06-09T19:42:40.418Z"
   },
   {
    "duration": 5,
    "start_time": "2023-06-09T19:42:41.492Z"
   },
   {
    "duration": 1779,
    "start_time": "2023-06-09T19:42:41.499Z"
   },
   {
    "duration": 529,
    "start_time": "2023-06-09T19:42:43.280Z"
   },
   {
    "duration": 4,
    "start_time": "2023-06-09T19:42:43.810Z"
   },
   {
    "duration": 892,
    "start_time": "2023-06-09T19:42:43.816Z"
   },
   {
    "duration": 1498,
    "start_time": "2023-06-09T19:42:44.709Z"
   },
   {
    "duration": 5,
    "start_time": "2023-06-09T19:42:46.274Z"
   },
   {
    "duration": 2021,
    "start_time": "2023-06-09T19:42:46.282Z"
   },
   {
    "duration": 976,
    "start_time": "2023-06-09T19:42:48.305Z"
   },
   {
    "duration": 117,
    "start_time": "2023-06-09T19:42:49.284Z"
   },
   {
    "duration": 483,
    "start_time": "2023-06-09T19:42:49.402Z"
   },
   {
    "duration": 101,
    "start_time": "2023-06-09T19:42:49.887Z"
   },
   {
    "duration": 1602,
    "start_time": "2023-06-09T19:42:49.990Z"
   },
   {
    "duration": 12,
    "start_time": "2023-06-09T19:42:51.594Z"
   },
   {
    "duration": 488,
    "start_time": "2023-06-09T19:42:51.607Z"
   },
   {
    "duration": 3499,
    "start_time": "2023-06-09T19:42:52.097Z"
   },
   {
    "duration": 4082,
    "start_time": "2023-06-09T19:42:55.598Z"
   },
   {
    "duration": 1128,
    "start_time": "2023-06-09T19:42:59.682Z"
   },
   {
    "duration": 2795,
    "start_time": "2023-06-09T19:43:00.812Z"
   },
   {
    "duration": 2672,
    "start_time": "2023-06-09T19:43:03.609Z"
   },
   {
    "duration": 1049,
    "start_time": "2023-06-09T19:43:06.283Z"
   },
   {
    "duration": 2172,
    "start_time": "2023-06-09T19:43:07.334Z"
   },
   {
    "duration": 10,
    "start_time": "2023-06-09T19:43:09.508Z"
   },
   {
    "duration": 21641,
    "start_time": "2023-06-13T11:06:34.552Z"
   },
   {
    "duration": 10332,
    "start_time": "2023-06-13T11:06:56.196Z"
   },
   {
    "duration": 1532,
    "start_time": "2023-06-13T11:07:06.531Z"
   },
   {
    "duration": 988,
    "start_time": "2023-06-13T11:07:08.065Z"
   },
   {
    "duration": 57,
    "start_time": "2023-06-13T11:07:09.056Z"
   },
   {
    "duration": 1692,
    "start_time": "2023-06-13T11:07:09.114Z"
   },
   {
    "duration": 642,
    "start_time": "2023-06-13T11:07:10.819Z"
   },
   {
    "duration": 48,
    "start_time": "2023-06-13T11:07:11.462Z"
   },
   {
    "duration": 1032,
    "start_time": "2023-06-13T11:07:11.511Z"
   },
   {
    "duration": 1118,
    "start_time": "2023-06-13T11:07:12.548Z"
   },
   {
    "duration": 3,
    "start_time": "2023-06-13T11:07:13.667Z"
   },
   {
    "duration": 2638,
    "start_time": "2023-06-13T11:07:13.671Z"
   },
   {
    "duration": 826,
    "start_time": "2023-06-13T11:07:16.319Z"
   },
   {
    "duration": 98,
    "start_time": "2023-06-13T11:07:17.147Z"
   },
   {
    "duration": 567,
    "start_time": "2023-06-13T11:07:17.246Z"
   },
   {
    "duration": 45,
    "start_time": "2023-06-13T11:07:17.815Z"
   },
   {
    "duration": 1361,
    "start_time": "2023-06-13T11:07:17.861Z"
   },
   {
    "duration": 16,
    "start_time": "2023-06-13T11:07:19.224Z"
   },
   {
    "duration": 481,
    "start_time": "2023-06-13T11:07:19.242Z"
   },
   {
    "duration": 3415,
    "start_time": "2023-06-13T11:07:19.726Z"
   },
   {
    "duration": 5007,
    "start_time": "2023-06-13T11:07:23.142Z"
   },
   {
    "duration": 1165,
    "start_time": "2023-06-13T11:07:28.152Z"
   },
   {
    "duration": 2723,
    "start_time": "2023-06-13T11:07:29.322Z"
   },
   {
    "duration": 2866,
    "start_time": "2023-06-13T11:07:32.049Z"
   },
   {
    "duration": 963,
    "start_time": "2023-06-13T11:07:34.917Z"
   },
   {
    "duration": 2176,
    "start_time": "2023-06-13T11:07:35.882Z"
   },
   {
    "duration": 9,
    "start_time": "2023-06-13T11:07:38.060Z"
   },
   {
    "duration": 593,
    "start_time": "2023-06-13T11:07:38.071Z"
   },
   {
    "duration": 123,
    "start_time": "2023-06-13T11:11:12.581Z"
   },
   {
    "duration": 65,
    "start_time": "2023-06-13T11:27:22.942Z"
   },
   {
    "duration": 92,
    "start_time": "2023-06-13T11:27:56.490Z"
   },
   {
    "duration": 75,
    "start_time": "2023-06-13T11:28:09.152Z"
   },
   {
    "duration": 16243,
    "start_time": "2023-06-13T11:30:15.001Z"
   },
   {
    "duration": 9488,
    "start_time": "2023-06-13T11:30:31.246Z"
   },
   {
    "duration": 1691,
    "start_time": "2023-06-13T11:30:40.746Z"
   },
   {
    "duration": 1012,
    "start_time": "2023-06-13T11:30:42.439Z"
   },
   {
    "duration": 57,
    "start_time": "2023-06-13T11:30:43.452Z"
   },
   {
    "duration": 1701,
    "start_time": "2023-06-13T11:30:43.510Z"
   },
   {
    "duration": 631,
    "start_time": "2023-06-13T11:30:45.215Z"
   },
   {
    "duration": 4,
    "start_time": "2023-06-13T11:30:45.856Z"
   },
   {
    "duration": 1199,
    "start_time": "2023-06-13T11:30:45.862Z"
   },
   {
    "duration": 1262,
    "start_time": "2023-06-13T11:30:47.066Z"
   },
   {
    "duration": 4,
    "start_time": "2023-06-13T11:30:48.332Z"
   },
   {
    "duration": 2401,
    "start_time": "2023-06-13T11:30:48.341Z"
   },
   {
    "duration": 867,
    "start_time": "2023-06-13T11:30:50.746Z"
   },
   {
    "duration": 125,
    "start_time": "2023-06-13T11:30:51.616Z"
   },
   {
    "duration": 575,
    "start_time": "2023-06-13T11:30:51.742Z"
   },
   {
    "duration": 85,
    "start_time": "2023-06-13T11:30:52.322Z"
   },
   {
    "duration": 1521,
    "start_time": "2023-06-13T11:30:52.412Z"
   },
   {
    "duration": 6,
    "start_time": "2023-06-13T11:30:53.934Z"
   },
   {
    "duration": 467,
    "start_time": "2023-06-13T11:30:53.942Z"
   },
   {
    "duration": 4134,
    "start_time": "2023-06-13T11:30:54.410Z"
   },
   {
    "duration": 4192,
    "start_time": "2023-06-13T11:30:58.545Z"
   },
   {
    "duration": 1314,
    "start_time": "2023-06-13T11:31:02.739Z"
   },
   {
    "duration": 2711,
    "start_time": "2023-06-13T11:31:04.055Z"
   },
   {
    "duration": 3080,
    "start_time": "2023-06-13T11:31:06.767Z"
   },
   {
    "duration": 961,
    "start_time": "2023-06-13T11:31:09.848Z"
   },
   {
    "duration": 2506,
    "start_time": "2023-06-13T11:31:10.810Z"
   },
   {
    "duration": 26,
    "start_time": "2023-06-13T11:31:13.317Z"
   },
   {
    "duration": 216,
    "start_time": "2023-06-13T11:31:13.347Z"
   },
   {
    "duration": 15621,
    "start_time": "2024-01-18T13:18:01.782Z"
   },
   {
    "duration": 15470,
    "start_time": "2024-01-18T13:18:29.711Z"
   },
   {
    "duration": 309,
    "start_time": "2024-01-18T13:18:45.183Z"
   },
   {
    "duration": 0,
    "start_time": "2024-01-18T13:18:45.496Z"
   },
   {
    "duration": 0,
    "start_time": "2024-01-18T13:18:45.498Z"
   },
   {
    "duration": 0,
    "start_time": "2024-01-18T13:18:45.499Z"
   },
   {
    "duration": 0,
    "start_time": "2024-01-18T13:18:45.501Z"
   },
   {
    "duration": 0,
    "start_time": "2024-01-18T13:18:45.502Z"
   },
   {
    "duration": 0,
    "start_time": "2024-01-18T13:18:45.503Z"
   },
   {
    "duration": 0,
    "start_time": "2024-01-18T13:18:45.504Z"
   },
   {
    "duration": 0,
    "start_time": "2024-01-18T13:18:45.505Z"
   },
   {
    "duration": 0,
    "start_time": "2024-01-18T13:18:45.506Z"
   },
   {
    "duration": 0,
    "start_time": "2024-01-18T13:18:45.507Z"
   },
   {
    "duration": 0,
    "start_time": "2024-01-18T13:18:45.508Z"
   },
   {
    "duration": 0,
    "start_time": "2024-01-18T13:18:45.509Z"
   },
   {
    "duration": 0,
    "start_time": "2024-01-18T13:18:45.510Z"
   },
   {
    "duration": 0,
    "start_time": "2024-01-18T13:18:45.511Z"
   },
   {
    "duration": 0,
    "start_time": "2024-01-18T13:18:45.512Z"
   },
   {
    "duration": 0,
    "start_time": "2024-01-18T13:18:45.513Z"
   },
   {
    "duration": 0,
    "start_time": "2024-01-18T13:18:45.515Z"
   },
   {
    "duration": 0,
    "start_time": "2024-01-18T13:18:45.516Z"
   },
   {
    "duration": 0,
    "start_time": "2024-01-18T13:18:45.517Z"
   },
   {
    "duration": 0,
    "start_time": "2024-01-18T13:18:45.518Z"
   },
   {
    "duration": 0,
    "start_time": "2024-01-18T13:18:45.565Z"
   },
   {
    "duration": 0,
    "start_time": "2024-01-18T13:18:45.567Z"
   },
   {
    "duration": 0,
    "start_time": "2024-01-18T13:18:45.568Z"
   },
   {
    "duration": 0,
    "start_time": "2024-01-18T13:18:45.569Z"
   },
   {
    "duration": 0,
    "start_time": "2024-01-18T13:18:45.570Z"
   },
   {
    "duration": 0,
    "start_time": "2024-01-18T13:18:45.571Z"
   },
   {
    "duration": 7975,
    "start_time": "2024-01-18T13:20:29.703Z"
   },
   {
    "duration": 47,
    "start_time": "2024-01-18T13:20:41.566Z"
   },
   {
    "duration": 383,
    "start_time": "2024-01-18T13:20:56.191Z"
   },
   {
    "duration": 15778,
    "start_time": "2024-01-18T13:21:26.610Z"
   },
   {
    "duration": 7483,
    "start_time": "2024-01-18T13:21:42.391Z"
   },
   {
    "duration": 2003,
    "start_time": "2024-01-18T13:21:49.875Z"
   },
   {
    "duration": 1088,
    "start_time": "2024-01-18T13:21:51.880Z"
   },
   {
    "duration": 5,
    "start_time": "2024-01-18T13:21:52.971Z"
   },
   {
    "duration": 1421,
    "start_time": "2024-01-18T13:21:52.977Z"
   },
   {
    "duration": 490,
    "start_time": "2024-01-18T13:21:54.399Z"
   },
   {
    "duration": 3,
    "start_time": "2024-01-18T13:21:54.891Z"
   },
   {
    "duration": 969,
    "start_time": "2024-01-18T13:21:54.896Z"
   },
   {
    "duration": 1038,
    "start_time": "2024-01-18T13:21:55.867Z"
   },
   {
    "duration": 4,
    "start_time": "2024-01-18T13:21:56.966Z"
   },
   {
    "duration": 2347,
    "start_time": "2024-01-18T13:21:56.972Z"
   },
   {
    "duration": 763,
    "start_time": "2024-01-18T13:21:59.322Z"
   },
   {
    "duration": 114,
    "start_time": "2024-01-18T13:22:00.090Z"
   },
   {
    "duration": 435,
    "start_time": "2024-01-18T13:22:00.266Z"
   },
   {
    "duration": 282,
    "start_time": "2024-01-18T13:22:00.702Z"
   },
   {
    "duration": 0,
    "start_time": "2024-01-18T13:22:00.986Z"
   },
   {
    "duration": 0,
    "start_time": "2024-01-18T13:22:00.987Z"
   },
   {
    "duration": 0,
    "start_time": "2024-01-18T13:22:00.988Z"
   },
   {
    "duration": 0,
    "start_time": "2024-01-18T13:22:00.989Z"
   },
   {
    "duration": 0,
    "start_time": "2024-01-18T13:22:00.992Z"
   },
   {
    "duration": 0,
    "start_time": "2024-01-18T13:22:00.993Z"
   },
   {
    "duration": 0,
    "start_time": "2024-01-18T13:22:00.995Z"
   },
   {
    "duration": 0,
    "start_time": "2024-01-18T13:22:00.996Z"
   },
   {
    "duration": 0,
    "start_time": "2024-01-18T13:22:00.998Z"
   },
   {
    "duration": 0,
    "start_time": "2024-01-18T13:22:00.999Z"
   },
   {
    "duration": 0,
    "start_time": "2024-01-18T13:22:01.001Z"
   },
   {
    "duration": 0,
    "start_time": "2024-01-18T13:22:01.002Z"
   },
   {
    "duration": 162,
    "start_time": "2024-01-18T13:25:04.473Z"
   },
   {
    "duration": 15574,
    "start_time": "2024-01-18T13:25:30.638Z"
   },
   {
    "duration": 7304,
    "start_time": "2024-01-18T13:25:46.267Z"
   },
   {
    "duration": 1924,
    "start_time": "2024-01-18T13:25:53.573Z"
   },
   {
    "duration": 979,
    "start_time": "2024-01-18T13:25:55.499Z"
   },
   {
    "duration": 4,
    "start_time": "2024-01-18T13:25:56.480Z"
   },
   {
    "duration": 1603,
    "start_time": "2024-01-18T13:25:56.486Z"
   },
   {
    "duration": 495,
    "start_time": "2024-01-18T13:25:58.091Z"
   },
   {
    "duration": 3,
    "start_time": "2024-01-18T13:25:58.588Z"
   },
   {
    "duration": 983,
    "start_time": "2024-01-18T13:25:58.593Z"
   },
   {
    "duration": 1008,
    "start_time": "2024-01-18T13:25:59.580Z"
   },
   {
    "duration": 3,
    "start_time": "2024-01-18T13:26:00.589Z"
   },
   {
    "duration": 2179,
    "start_time": "2024-01-18T13:26:00.593Z"
   },
   {
    "duration": 695,
    "start_time": "2024-01-18T13:26:02.774Z"
   },
   {
    "duration": 112,
    "start_time": "2024-01-18T13:26:03.471Z"
   },
   {
    "duration": 408,
    "start_time": "2024-01-18T13:26:03.585Z"
   },
   {
    "duration": 230,
    "start_time": "2024-01-18T13:26:03.994Z"
   },
   {
    "duration": 0,
    "start_time": "2024-01-18T13:26:04.225Z"
   },
   {
    "duration": 0,
    "start_time": "2024-01-18T13:26:04.226Z"
   },
   {
    "duration": 0,
    "start_time": "2024-01-18T13:26:04.227Z"
   },
   {
    "duration": 0,
    "start_time": "2024-01-18T13:26:04.228Z"
   },
   {
    "duration": 0,
    "start_time": "2024-01-18T13:26:04.229Z"
   },
   {
    "duration": 0,
    "start_time": "2024-01-18T13:26:04.230Z"
   },
   {
    "duration": 0,
    "start_time": "2024-01-18T13:26:04.232Z"
   },
   {
    "duration": 0,
    "start_time": "2024-01-18T13:26:04.233Z"
   },
   {
    "duration": 0,
    "start_time": "2024-01-18T13:26:04.234Z"
   },
   {
    "duration": 0,
    "start_time": "2024-01-18T13:26:04.235Z"
   },
   {
    "duration": 0,
    "start_time": "2024-01-18T13:26:04.236Z"
   },
   {
    "duration": 0,
    "start_time": "2024-01-18T13:26:04.236Z"
   },
   {
    "duration": 10,
    "start_time": "2024-01-18T13:28:44.546Z"
   },
   {
    "duration": 2511,
    "start_time": "2024-01-18T13:29:17.644Z"
   },
   {
    "duration": 16071,
    "start_time": "2024-01-18T13:32:22.133Z"
   },
   {
    "duration": 8061,
    "start_time": "2024-01-18T13:32:38.207Z"
   },
   {
    "duration": 2056,
    "start_time": "2024-01-18T13:32:46.269Z"
   },
   {
    "duration": 1057,
    "start_time": "2024-01-18T13:32:48.327Z"
   },
   {
    "duration": 4,
    "start_time": "2024-01-18T13:32:49.387Z"
   },
   {
    "duration": 2004,
    "start_time": "2024-01-18T13:32:49.392Z"
   },
   {
    "duration": 496,
    "start_time": "2024-01-18T13:32:51.398Z"
   },
   {
    "duration": 69,
    "start_time": "2024-01-18T13:32:51.897Z"
   },
   {
    "duration": 1002,
    "start_time": "2024-01-18T13:32:51.968Z"
   },
   {
    "duration": 1103,
    "start_time": "2024-01-18T13:32:52.972Z"
   },
   {
    "duration": 1086,
    "start_time": "2024-01-18T13:33:19.287Z"
   },
   {
    "duration": 16026,
    "start_time": "2024-01-18T13:34:51.142Z"
   },
   {
    "duration": 9010,
    "start_time": "2024-01-18T13:35:07.171Z"
   },
   {
    "duration": 1401,
    "start_time": "2024-01-18T13:35:16.183Z"
   },
   {
    "duration": 907,
    "start_time": "2024-01-18T13:35:17.586Z"
   },
   {
    "duration": 71,
    "start_time": "2024-01-18T13:35:18.495Z"
   },
   {
    "duration": 1500,
    "start_time": "2024-01-18T13:35:18.568Z"
   },
   {
    "duration": 620,
    "start_time": "2024-01-18T13:35:20.070Z"
   },
   {
    "duration": 5,
    "start_time": "2024-01-18T13:35:20.692Z"
   },
   {
    "duration": 898,
    "start_time": "2024-01-18T13:35:20.699Z"
   },
   {
    "duration": 1034,
    "start_time": "2024-01-18T13:35:21.668Z"
   },
   {
    "duration": 3,
    "start_time": "2024-01-18T13:35:22.765Z"
   },
   {
    "duration": 2311,
    "start_time": "2024-01-18T13:35:22.770Z"
   },
   {
    "duration": 703,
    "start_time": "2024-01-18T13:35:25.083Z"
   },
   {
    "duration": 178,
    "start_time": "2024-01-18T13:35:25.788Z"
   },
   {
    "duration": 400,
    "start_time": "2024-01-18T13:35:25.971Z"
   },
   {
    "duration": 29,
    "start_time": "2024-01-18T13:35:26.373Z"
   },
   {
    "duration": 1375,
    "start_time": "2024-01-18T13:35:26.404Z"
   },
   {
    "duration": 7,
    "start_time": "2024-01-18T13:35:27.781Z"
   },
   {
    "duration": 492,
    "start_time": "2024-01-18T13:35:27.790Z"
   },
   {
    "duration": 2986,
    "start_time": "2024-01-18T13:35:28.283Z"
   },
   {
    "duration": 4710,
    "start_time": "2024-01-18T13:35:31.271Z"
   },
   {
    "duration": 1098,
    "start_time": "2024-01-18T13:35:35.983Z"
   },
   {
    "duration": 2785,
    "start_time": "2024-01-18T13:35:37.082Z"
   },
   {
    "duration": 2522,
    "start_time": "2024-01-18T13:35:39.869Z"
   },
   {
    "duration": 974,
    "start_time": "2024-01-18T13:35:42.392Z"
   },
   {
    "duration": 2398,
    "start_time": "2024-01-18T13:35:43.368Z"
   },
   {
    "duration": 13,
    "start_time": "2024-01-18T13:35:45.768Z"
   },
   {
    "duration": 211,
    "start_time": "2024-01-18T13:35:45.784Z"
   }
  ],
  "colab": {
   "name": "PySparkSprint.ipynb",
   "provenance": []
  },
  "kernelspec": {
   "display_name": "Python 3 (ipykernel)",
   "language": "python",
   "name": "python3"
  },
  "language_info": {
   "codemirror_mode": {
    "name": "ipython",
    "version": 3
   },
   "file_extension": ".py",
   "mimetype": "text/x-python",
   "name": "python",
   "nbconvert_exporter": "python",
   "pygments_lexer": "ipython3",
   "version": "3.10.9"
  },
  "toc": {
   "base_numbering": 1,
   "nav_menu": {},
   "number_sections": true,
   "sideBar": true,
   "skip_h1_title": true,
   "title_cell": "Table of Contents",
   "title_sidebar": "Contents",
   "toc_cell": false,
   "toc_position": {},
   "toc_section_display": true,
   "toc_window_display": false
  }
 },
 "nbformat": 4,
 "nbformat_minor": 5
}
